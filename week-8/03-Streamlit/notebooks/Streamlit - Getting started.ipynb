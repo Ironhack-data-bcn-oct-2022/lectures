{
 "cells": [
  {
   "cell_type": "markdown",
   "id": "5531a669",
   "metadata": {},
   "source": [
    "![](https://ruslanmv.com/assets/images/posts/2020-10-17-Web-Application-Classification/streamlit_logo.png)"
   ]
  },
  {
   "cell_type": "markdown",
   "id": "6f16ed55",
   "metadata": {},
   "source": [
    "[Awesome docs](https://docs.streamlit.io/)"
   ]
  },
  {
   "cell_type": "markdown",
   "id": "bc97e45e",
   "metadata": {},
   "source": [
    "# Set up a new environment"
   ]
  },
  {
   "cell_type": "markdown",
   "id": "f90f47d2",
   "metadata": {},
   "source": [
    "```bash\n",
    "# Drop env if extists\n",
    "conda activate base\n",
    "conda env remove -n streamlit\n",
    "\n",
    "# Environment management\n",
    "conda create -y --name streamlit\n",
    "conda activate streamlit\n",
    "\n",
    "# Jupyter notebook\n",
    "conda install -y -c anaconda ipykernel\n",
    "python -m ipykernel install --user --name=streamlit\n",
    "conda install -y -c conda-forge jupyter_contrib_nbextensions\n",
    "\n",
    "# Sreamlit\n",
    "pip install streamlit\n",
    "\n",
    "\n",
    "# Requirements\n",
    "pip install pipreqs\n",
    "pipreqs\n",
    "pip install -r requirements.txt\n",
    "\n",
    "say -v Monica \"ayam don instalin estrim lit\"\n",
    "```"
   ]
  },
  {
   "cell_type": "markdown",
   "id": "6f7b43ea",
   "metadata": {},
   "source": [
    "# Did you already start working on a different environment?"
   ]
  },
  {
   "cell_type": "markdown",
   "id": "9d594103",
   "metadata": {},
   "source": [
    "1. Go to your project in your old environment\n",
    "2. Run `pip install pipreqs`\n",
    "3. Run `pipreqs`\n",
    "4. Copy the requirements.txt file that was generated\n",
    "5. Go back to your new streamlit environment\n",
    "6. Run `pip install -r requirements.txt``\u001bm"
   ]
  },
  {
   "cell_type": "markdown",
   "id": "01466c19",
   "metadata": {},
   "source": [
    "# Getting started"
   ]
  },
  {
   "cell_type": "markdown",
   "id": "402fa97f",
   "metadata": {},
   "source": [
    "## Testing it works"
   ]
  },
  {
   "cell_type": "markdown",
   "id": "1e52f19d",
   "metadata": {},
   "source": [
    "1. Create a `main.py` file\n",
    "2. From your terminal, run `streamlit run main.py`"
   ]
  },
  {
   "cell_type": "markdown",
   "id": "dcac098a",
   "metadata": {},
   "source": [
    "## Basic functions to run"
   ]
  },
  {
   "cell_type": "markdown",
   "id": "a72ddc77",
   "metadata": {},
   "source": [
    "```python\n",
    "st.write(\"Hello world!\")\n",
    "```"
   ]
  },
  {
   "cell_type": "markdown",
   "id": "c53c8559",
   "metadata": {},
   "source": [
    "```python\n",
    "st.markdown(\"This is **bold** and this is _italics_\")\n",
    "```"
   ]
  },
  {
   "cell_type": "markdown",
   "id": "958b24ea",
   "metadata": {},
   "source": [
    "```python\n",
    "st.title('My first title')\n",
    "```"
   ]
  },
  {
   "cell_type": "markdown",
   "id": "2befba41",
   "metadata": {},
   "source": [
    "st.header(\"This is a header\")"
   ]
  },
  {
   "cell_type": "markdown",
   "id": "34a51204",
   "metadata": {},
   "source": [
    "# Functionalities"
   ]
  },
  {
   "cell_type": "markdown",
   "id": "0ca5bac0",
   "metadata": {},
   "source": [
    "## Input\n",
    "- Markdown\n",
    "- Title\n",
    "- Header\n",
    "- Subheader\n",
    "- Caption\n",
    "- Code\n",
    "- Text"
   ]
  },
  {
   "cell_type": "markdown",
   "id": "a446df48",
   "metadata": {},
   "source": [
    "## Output / display"
   ]
  },
  {
   "cell_type": "markdown",
   "id": "72427ced",
   "metadata": {},
   "source": [
    "### Dataframes"
   ]
  },
  {
   "cell_type": "markdown",
   "id": "39f4adfa",
   "metadata": {},
   "source": [
    "```python\n",
    "st.dataframe(df)\n",
    "```"
   ]
  },
  {
   "cell_type": "markdown",
   "id": "dffec809",
   "metadata": {},
   "source": [
    "### Charts"
   ]
  },
  {
   "cell_type": "markdown",
   "id": "13bb55df",
   "metadata": {},
   "source": [
    "- line_chart\n",
    "- area_chart\n",
    "- bar_chart\n",
    "- plotly_chart\n",
    "- map"
   ]
  },
  {
   "cell_type": "markdown",
   "id": "bee1b0f3",
   "metadata": {},
   "source": [
    "# Pages"
   ]
  },
  {
   "cell_type": "markdown",
   "id": "5c908690",
   "metadata": {},
   "source": [
    "- On your main:\n",
    "\n",
    "```python\n",
    "st.set_page_config(\n",
    "    page_title=\"nameofyourpage\",\n",
    "    page_icon=\"👋\",\n",
    ")\n",
    "```"
   ]
  },
  {
   "cell_type": "markdown",
   "id": "9e7d8bb2",
   "metadata": {},
   "source": [
    "- On your page:\n",
    "    \n",
    "```python\n",
    "st.set_page_config(page_title=\"Plotting Demo\", page_icon=\"📈\")\n",
    "```"
   ]
  },
  {
   "cell_type": "markdown",
   "id": "48fae3c1",
   "metadata": {},
   "source": [
    "# Deployment"
   ]
  },
  {
   "cell_type": "markdown",
   "id": "7d9b79bb",
   "metadata": {},
   "source": [
    "[Sign up/in](https://streamlit.io/)"
   ]
  },
  {
   "cell_type": "markdown",
   "id": "ae544799",
   "metadata": {},
   "source": [
    "1. Upload your project to githiub\n",
    "2. Go to streamlit website\n",
    "3. Select your app and deploy!"
   ]
  },
  {
   "cell_type": "markdown",
   "id": "596417bc",
   "metadata": {},
   "source": [
    "# Connecting to a MySQL database on the cloud: docs"
   ]
  },
  {
   "cell_type": "markdown",
   "id": "862d9454",
   "metadata": {},
   "source": [
    "[Streamlit docs](https://docs.streamlit.io/knowledge-base/tutorials/databases/mysql)"
   ]
  },
  {
   "cell_type": "markdown",
   "id": "11792786",
   "metadata": {},
   "source": [
    "[Hosting MySQL database](https://support.google.com/appsheet/answer/10107301?hl=en)"
   ]
  },
  {
   "cell_type": "markdown",
   "id": "aeaa4b17",
   "metadata": {},
   "source": [
    "# Can I connect Streamlit to Tableau?"
   ]
  },
  {
   "cell_type": "markdown",
   "id": "979b440b",
   "metadata": {},
   "source": [
    "[Yes](https://docs.streamlit.io/knowledge-base/tutorials/databases/tableau)"
   ]
  }
 ],
 "metadata": {
  "kernelspec": {
   "display_name": "streamlit",
   "language": "python",
   "name": "streamlit"
  },
  "language_info": {
   "codemirror_mode": {
    "name": "ipython",
    "version": 3
   },
   "file_extension": ".py",
   "mimetype": "text/x-python",
   "name": "python",
   "nbconvert_exporter": "python",
   "pygments_lexer": "ipython3",
   "version": "3.10.4"
  },
  "nbTranslate": {
   "displayLangs": [
    "en",
    "es"
   ],
   "hotkey": "alt-a",
   "langInMainMenu": true,
   "sourceLang": "es",
   "targetLang": "en",
   "useGoogleTranslate": true
  },
  "toc": {
   "base_numbering": 1,
   "nav_menu": {},
   "number_sections": true,
   "sideBar": true,
   "skip_h1_title": false,
   "title_cell": "Table of Contents",
   "title_sidebar": "Contents",
   "toc_cell": false,
   "toc_position": {},
   "toc_section_display": true,
   "toc_window_display": false
  }
 },
 "nbformat": 4,
 "nbformat_minor": 5
}
