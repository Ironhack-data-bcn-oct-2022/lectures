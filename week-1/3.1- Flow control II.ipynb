{
 "cells": [
  {
   "cell_type": "markdown",
   "id": "raised-meter",
   "metadata": {
    "toc": true
   },
   "source": [
    "<h1>Table of Contents<span class=\"tocSkip\"></span></h1>\n",
    "<div class=\"toc\"><ul class=\"toc-item\"><li><span><a href=\"#The-&quot;while&quot;-statement\" data-toc-modified-id=\"The-&quot;while&quot;-statement-1\"><span class=\"toc-item-num\">1&nbsp;&nbsp;</span>The \"while\" statement</a></span></li><li><span><a href=\"#Pass\" data-toc-modified-id=\"Pass-2\"><span class=\"toc-item-num\">2&nbsp;&nbsp;</span>Pass</a></span></li><li><span><a href=\"#For\" data-toc-modified-id=\"For-3\"><span class=\"toc-item-num\">3&nbsp;&nbsp;</span>For</a></span><ul class=\"toc-item\"><li><span><a href=\"#Iterate-through-strings\" data-toc-modified-id=\"Iterate-through-strings-3.1\"><span class=\"toc-item-num\">3.1&nbsp;&nbsp;</span>Iterate through strings</a></span></li><li><span><a href=\"#Iterate-through-a-list\" data-toc-modified-id=\"Iterate-through-a-list-3.2\"><span class=\"toc-item-num\">3.2&nbsp;&nbsp;</span>Iterate through a list</a></span></li><li><span><a href=\"#We-iterate-through-lists-over-their-index\" data-toc-modified-id=\"We-iterate-through-lists-over-their-index-3.3\"><span class=\"toc-item-num\">3.3&nbsp;&nbsp;</span>We iterate through lists over their index</a></span></li><li><span><a href=\"#Loop-through-two-lists-at-the-same-time\" data-toc-modified-id=\"Loop-through-two-lists-at-the-same-time-3.4\"><span class=\"toc-item-num\">3.4&nbsp;&nbsp;</span>Loop through two lists at the same time</a></span></li><li><span><a href=\"#Iterate-over-the-elements-of-a-dictionary\" data-toc-modified-id=\"Iterate-over-the-elements-of-a-dictionary-3.5\"><span class=\"toc-item-num\">3.5&nbsp;&nbsp;</span>Iterate over the elements of a dictionary</a></span></li></ul></li><li><span><a href=\"#Break\" data-toc-modified-id=\"Break-4\"><span class=\"toc-item-num\">4&nbsp;&nbsp;</span>Break</a></span></li><li><span><a href=\"#Summary\" data-toc-modified-id=\"Summary-5\"><span class=\"toc-item-num\">5&nbsp;&nbsp;</span>Summary</a></span></li></ul></div>"
   ]
  },
  {
   "cell_type": "markdown",
   "id": "constant-discovery",
   "metadata": {},
   "source": [
    "# Let's keep the flow going"
   ]
  },
  {
   "cell_type": "markdown",
   "id": "genetic-output",
   "metadata": {},
   "source": [
    "![FLOW](https://media.giphy.com/media/h8y265b9iKtzKT0pDj/giphy.gif)"
   ]
  },
  {
   "cell_type": "markdown",
   "id": "17832115",
   "metadata": {
    "lang": "en"
   },
   "source": [
    "## The \"while\" statement\n",
    "\n",
    "Sometimes we want to run a program until a condition is met. We can achieve this with the `while` clause.\n",
    "\n",
    "**Note:** Beware of infinite recursions!"
   ]
  },
  {
   "cell_type": "code",
   "execution_count": 15,
   "id": "alive-nothing",
   "metadata": {},
   "outputs": [
    {
     "name": "stdout",
     "output_type": "stream",
     "text": [
      "Hello!\n"
     ]
    }
   ],
   "source": [
    "age = 30\n",
    "\n",
    "while age: #truthy\n",
    "    print(\"Hello!\")\n",
    "    break"
   ]
  },
  {
   "cell_type": "markdown",
   "id": "ba1c5adf",
   "metadata": {
    "lang": "en"
   },
   "source": [
    "In the case of while True the expression will always evaluate to true by definition.\n",
    "It would be equivalent to:\n",
    "\n",
    "```python\n",
    "as long as true is true:\n",
    "    do something\n",
    "   ````"
   ]
  },
  {
   "cell_type": "code",
   "execution_count": 30,
   "id": "dc6bbcee",
   "metadata": {
    "scrolled": true
   },
   "outputs": [
    {
     "name": "stdout",
     "output_type": "stream",
     "text": [
      "20\n",
      "19\n",
      "18\n",
      "17\n",
      "16\n",
      "15\n",
      "14\n",
      "13\n",
      "12\n",
      "11\n",
      "10\n",
      "9\n"
     ]
    }
   ],
   "source": [
    "age = 20\n",
    "\n",
    "while age >= 10:\n",
    "    print(age)\n",
    "    #age = age - 1 -> refactoring\n",
    "    age -= 1\n",
    "print(age)"
   ]
  },
  {
   "cell_type": "code",
   "execution_count": null,
   "id": "daeaedd5",
   "metadata": {},
   "outputs": [],
   "source": [
    "# Print to debug and have visibility\n",
    "# Refactor if needed"
   ]
  },
  {
   "cell_type": "markdown",
   "id": "587399ed",
   "metadata": {
    "lang": "en"
   },
   "source": [
    "🐒 - We write a program that asks the user for a letter between a and d forever until he enters one correctly."
   ]
  },
  {
   "cell_type": "code",
   "execution_count": 1,
   "id": "b88bd414",
   "metadata": {},
   "outputs": [],
   "source": [
    "letters = [\"a\", \"b\", \"c\", \"d\"] # Only possible correct answers"
   ]
  },
  {
   "cell_type": "code",
   "execution_count": 3,
   "id": "8906b2b6",
   "metadata": {},
   "outputs": [
    {
     "name": "stdout",
     "output_type": "stream",
     "text": [
      "Please input one letter: q\n"
     ]
    }
   ],
   "source": [
    "data = input(\"Please input one letter: \")"
   ]
  },
  {
   "cell_type": "code",
   "execution_count": 4,
   "id": "a689a0df",
   "metadata": {},
   "outputs": [
    {
     "name": "stdout",
     "output_type": "stream",
     "text": [
      "Please input one letter: a\n",
      "a\n"
     ]
    }
   ],
   "source": [
    "while data not in letters : # While the input is not the value between a-d\n",
    "    data = input(\"Please input one letter: \")    #____ # ask again\n",
    "    print(data)"
   ]
  },
  {
   "cell_type": "code",
   "execution_count": null,
   "id": "16f4ad6b",
   "metadata": {},
   "outputs": [],
   "source": [
    "# Run something UNTIL one condition is met"
   ]
  },
  {
   "cell_type": "markdown",
   "id": "9af78e68",
   "metadata": {
    "lang": "en"
   },
   "source": [
    "## Pass\n",
    "The pass statement does nothing. Can be used when a syntax statement is required but no action is required by the program (from the [docs](https://docs.python.org/3/tutorial/controlflow.html))\n",
    "\n",
    "\n",
    "Although it may surprise us, it is useful in several situations. In Python we cannot have an undefined block of code (for example, the body of a function, the body of a condition, or the body of a loop). So it's common to use pass when we're writing the structure of our program but haven't yet tackled the implementation of certain blocks of code."
   ]
  },
  {
   "cell_type": "code",
   "execution_count": 9,
   "id": "welsh-estimate",
   "metadata": {},
   "outputs": [],
   "source": [
    "def addition (a, b):\n",
    "    # This will return the addition of two numbers\n",
    "    pass"
   ]
  },
  {
   "cell_type": "code",
   "execution_count": 10,
   "id": "ae7a346b",
   "metadata": {},
   "outputs": [
    {
     "name": "stdout",
     "output_type": "stream",
     "text": [
      "Hey you forgot something\n"
     ]
    }
   ],
   "source": [
    "if \"\":   \n",
    "    # if something happens: cool! just checking\n",
    "    pass\n",
    "else:\n",
    "    print(\"Hey you forgot something\") #message"
   ]
  },
  {
   "cell_type": "markdown",
   "id": "classical-passenger",
   "metadata": {},
   "source": [
    "## For"
   ]
  },
  {
   "cell_type": "markdown",
   "id": "fdb36275",
   "metadata": {
    "lang": "en"
   },
   "source": [
    "It is very common to write a code with loops within these two possible situations:\n",
    "- 1: When we use a counter within a repetition. The counter is a variable that increases or decreases constantly in each iteration of the loop until it reaches a limit value that marks the end of the repetitions.\n",
    "- 2: When we iterate over the elements of a container, for example, a list, to operate on each one of them. Also in this case we know in advance the number of repetitions that will take place."
   ]
  },
  {
   "cell_type": "markdown",
   "id": "753d6746",
   "metadata": {
    "lang": "en"
   },
   "source": [
    "The For statement, in Python, allows you to iterate over sequences of values ​​(lists or strings) according to an established order. Unlike other languages, with Python's for you don't define counters or expressions that change at each iteration, but rather a sequence over which the counter variable will take its values. In any case, it is the most appropriate option to solve the two previous cases...let's give an example:"
   ]
  },
  {
   "cell_type": "code",
   "execution_count": null,
   "id": "ecf7d62d",
   "metadata": {},
   "outputs": [],
   "source": [
    "# lists\n",
    "# tuples\n",
    "# elements of a dictionary\n",
    "# strings\n",
    "\n",
    "# int: 6748484\n",
    "# str: \"dsss. ss s s \"\n",
    "# [0, 1, 2, \"sdsd\"]\n",
    "\n",
    "# C++\n",
    "# PHP & JS\n",
    "\n",
    "\n",
    "for -> \n",
    "\n",
    "    - index\n",
    "    - elements\n",
    "    \n",
    "# [\"string\", 12, 0.9, [1, 2]]"
   ]
  },
  {
   "cell_type": "markdown",
   "id": "a968f25d",
   "metadata": {
    "lang": "en"
   },
   "source": [
    "The for statement, in Python, iterates over collections. So if we need a counter that increments on each iteration, Python provides the range() function, which generates lists of integers. This function allows to generate sequences and is quite versatile and we can invoke it in different ways:"
   ]
  },
  {
   "cell_type": "markdown",
   "id": "5109ef4d",
   "metadata": {
    "lang": "en"
   },
   "source": [
    "- With a single argument: generates integers ranging from 0 to the previous one indicated as a parameter:\n",
    "\n",
    "`range(int)`"
   ]
  },
  {
   "cell_type": "code",
   "execution_count": 11,
   "id": "canadian-petroleum",
   "metadata": {},
   "outputs": [
    {
     "name": "stdout",
     "output_type": "stream",
     "text": [
      "0\n",
      "1\n",
      "2\n",
      "3\n",
      "4\n"
     ]
    }
   ],
   "source": [
    "for i in range(5): #up to 4\n",
    "    print(i)"
   ]
  },
  {
   "cell_type": "markdown",
   "id": "88f9f5a9",
   "metadata": {
    "lang": "en"
   },
   "source": [
    "- With two arguments. The first parameter is the initial value and the second the value below which the elements of the list must be:\n",
    "\n",
    "`range(int, int)` "
   ]
  },
  {
   "cell_type": "code",
   "execution_count": 12,
   "id": "7299eb56",
   "metadata": {},
   "outputs": [
    {
     "name": "stdout",
     "output_type": "stream",
     "text": [
      "2\n",
      "3\n",
      "4\n"
     ]
    }
   ],
   "source": [
    "for i in range(2, 5): \n",
    "    print(i)"
   ]
  },
  {
   "cell_type": "markdown",
   "id": "81739599",
   "metadata": {
    "lang": "en"
   },
   "source": [
    "- With three arguments. Same as above, but the third parameter indicates the increment that occurs from one element to the next: `range(int, int, increment)` "
   ]
  },
  {
   "cell_type": "code",
   "execution_count": 13,
   "id": "4fe5c4bc",
   "metadata": {},
   "outputs": [
    {
     "name": "stdout",
     "output_type": "stream",
     "text": [
      "0\n",
      "2\n",
      "4\n",
      "6\n",
      "8\n",
      "10\n"
     ]
    }
   ],
   "source": [
    "for i in range(0, 11, 2):\n",
    "    print(i)\n",
    "    \n",
    "    \n",
    "# [0, 2, 4, 6, 8, 10]    "
   ]
  },
  {
   "cell_type": "code",
   "execution_count": 15,
   "id": "e8799551",
   "metadata": {},
   "outputs": [
    {
     "data": {
      "text/plain": [
       "[0, 2, 4, 6, 8, 10]"
      ]
     },
     "execution_count": 15,
     "metadata": {},
     "output_type": "execute_result"
    }
   ],
   "source": [
    "# range\n",
    "# Goal: [0, 2, 4, 6, 8, 10]    \n",
    "\n",
    "# create a list\n",
    "# for each element\n",
    "# append to a list\n",
    "\n",
    "new_list = []\n",
    "\n",
    "for i in range(0, 11, 2):\n",
    "    new_list.append(i)\n",
    "    \n",
    "new_list"
   ]
  },
  {
   "cell_type": "code",
   "execution_count": 16,
   "id": "770f02f5",
   "metadata": {},
   "outputs": [
    {
     "data": {
      "text/plain": [
       "[0, 2, 4, 6, 8, 10, 12, 14, 16, 18, 20]"
      ]
     },
     "execution_count": 16,
     "metadata": {},
     "output_type": "execute_result"
    }
   ],
   "source": [
    "another_empty_list = []\n",
    "\n",
    "#targeting even numbers\n",
    "# I'll create a range: 0-20\n",
    "\n",
    "for i in range(21): #0-20\n",
    "    if i % 2 == 0: # if the numbers is even\n",
    "        another_empty_list.append(i) # then append to the list\n",
    "\n",
    "another_empty_list"
   ]
  },
  {
   "cell_type": "markdown",
   "id": "closing-pound",
   "metadata": {
    "lang": "es"
   },
   "source": [
    "### Iterate through strings"
   ]
  },
  {
   "cell_type": "code",
   "execution_count": null,
   "id": "revolutionary-romantic",
   "metadata": {},
   "outputs": [],
   "source": [
    "# iterables"
   ]
  },
  {
   "cell_type": "code",
   "execution_count": 17,
   "id": "7c16361f",
   "metadata": {},
   "outputs": [],
   "source": [
    "a_string = \"Hello! It is a wednesday today\""
   ]
  },
  {
   "cell_type": "code",
   "execution_count": 22,
   "id": "aa5c4748",
   "metadata": {
    "scrolled": false
   },
   "outputs": [
    {
     "name": "stdout",
     "output_type": "stream",
     "text": [
      "Letter in position 0 is H\n",
      "Letter in position 1 is e\n",
      "Letter in position 2 is l\n",
      "Letter in position 3 is l\n",
      "Letter in position 4 is o\n",
      "Letter in position 5 is !\n",
      "Letter in position 6 is  \n",
      "Letter in position 7 is I\n",
      "Letter in position 8 is t\n",
      "Letter in position 9 is  \n",
      "Letter in position 10 is i\n",
      "Letter in position 11 is s\n",
      "Letter in position 12 is  \n",
      "Letter in position 13 is a\n",
      "Letter in position 14 is  \n",
      "Letter in position 15 is w\n",
      "Letter in position 16 is e\n",
      "Letter in position 17 is d\n",
      "Letter in position 18 is n\n",
      "Letter in position 19 is e\n",
      "Letter in position 20 is s\n",
      "Letter in position 21 is d\n",
      "Letter in position 22 is a\n",
      "Letter in position 23 is y\n",
      "Letter in position 24 is  \n",
      "Letter in position 25 is t\n",
      "Letter in position 26 is o\n",
      "Letter in position 27 is d\n",
      "Letter in position 28 is a\n",
      "Letter in position 29 is y\n"
     ]
    },
    {
     "data": {
      "text/plain": [
       "30"
      ]
     },
     "execution_count": 22,
     "metadata": {},
     "output_type": "execute_result"
    }
   ],
   "source": [
    "counter = 0\n",
    "\n",
    "for i in a_string:\n",
    "    print(f\"Letter in position {counter} is {i}\")\n",
    "    counter += 1\n",
    "counter"
   ]
  },
  {
   "cell_type": "code",
   "execution_count": 26,
   "id": "a3085602",
   "metadata": {},
   "outputs": [
    {
     "name": "stdout",
     "output_type": "stream",
     "text": [
      "Letter is: H\n",
      "Letter is: e\n",
      "Letter is: l\n",
      "Letter is: l\n",
      "Letter is: o\n",
      "Letter is: !\n",
      "Letter is: I\n",
      "Letter is: t\n",
      "Letter is: i\n",
      "Letter is: s\n",
      "Letter is: a\n",
      "Letter is: w\n",
      "Letter is: e\n",
      "Letter is: d\n",
      "Letter is: n\n",
      "Letter is: e\n",
      "Letter is: s\n",
      "Letter is: d\n",
      "Letter is: a\n",
      "Letter is: y\n",
      "Letter is: t\n",
      "Letter is: o\n",
      "Letter is: d\n",
      "Letter is: a\n",
      "Letter is: y\n"
     ]
    }
   ],
   "source": [
    "# Q Maya: what if we just want the letters and not the spaces\n",
    "\n",
    "# Not have the spaces\n",
    "\n",
    "# 1. Replace the spaces\n",
    "# 2. Do the loop\n",
    "\n",
    "a_string = a_string.replace(\" \", \"\")\n",
    "#print(a_string)\n",
    "\n",
    "for i in a_string:\n",
    "    print(f\"Letter is: {i}\")"
   ]
  },
  {
   "cell_type": "code",
   "execution_count": 28,
   "id": "b6660458",
   "metadata": {},
   "outputs": [
    {
     "name": "stdout",
     "output_type": "stream",
     "text": [
      "Letter is: H\n",
      "Letter is: e\n",
      "Letter is: l\n",
      "Letter is: l\n",
      "Letter is: o\n",
      "Letter is: !\n",
      "Letter is: I\n",
      "Letter is: t\n",
      "Letter is: i\n",
      "Letter is: s\n",
      "Letter is: a\n",
      "Letter is: w\n",
      "Letter is: e\n",
      "Letter is: d\n",
      "Letter is: n\n",
      "Letter is: e\n",
      "Letter is: s\n",
      "Letter is: d\n",
      "Letter is: a\n",
      "Letter is: y\n",
      "Letter is: t\n",
      "Letter is: o\n",
      "Letter is: d\n",
      "Letter is: a\n",
      "Letter is: y\n"
     ]
    }
   ],
   "source": [
    "# Q Maya: what if we just want the letters and not the spaces\n",
    "# Goal: Not have the spaces\n",
    "\n",
    "# 1. Check IF they're letters OR spaces\n",
    "# 2. Do the loop\n",
    "\n",
    "a_string_2 = \"Hello! It is a wednesday today\"\n",
    "\n",
    "for i in a_string_2:\n",
    "    if i == \" \":\n",
    "        pass\n",
    "    else:\n",
    "        print(f\"Letter is: {i}\")"
   ]
  },
  {
   "cell_type": "code",
   "execution_count": 34,
   "id": "90d2e8ca",
   "metadata": {},
   "outputs": [],
   "source": [
    "#[i for i in dir(str) if \"_\" not in i]"
   ]
  },
  {
   "cell_type": "code",
   "execution_count": 48,
   "id": "b5ccf79b",
   "metadata": {},
   "outputs": [
    {
     "name": "stdout",
     "output_type": "stream",
     "text": [
      "Letter in position: 0 is: H\n",
      "Letter in position: 1 is: e\n",
      "Letter in position: 2 is: l\n",
      "Letter in position: 3 is: l\n",
      "Letter in position: 4 is: o\n",
      "Letter in position: 5 is: I\n",
      "Letter in position: 6 is: t\n",
      "Letter in position: 7 is: i\n",
      "Letter in position: 8 is: s\n",
      "Letter in position: 9 is: a\n",
      "Letter in position: 10 is: w\n",
      "Letter in position: 11 is: e\n",
      "Letter in position: 12 is: d\n",
      "Letter in position: 13 is: n\n",
      "Letter in position: 14 is: e\n",
      "Letter in position: 15 is: s\n",
      "Letter in position: 16 is: d\n",
      "Letter in position: 17 is: a\n",
      "Letter in position: 18 is: y\n",
      "Letter in position: 19 is: t\n",
      "Letter in position: 20 is: o\n",
      "Letter in position: 21 is: d\n",
      "Letter in position: 22 is: a\n",
      "Letter in position: 23 is: y\n",
      "Full thing: 30\n",
      "Modified thing: 24\n"
     ]
    }
   ],
   "source": [
    "# Q Maya: what if we just want the letters and not the spaces\n",
    "# Goal: Not have the spaces\n",
    "\n",
    "# 1. Check IF they're characters\n",
    "# 2. Do the loop\n",
    "\n",
    "a_string_2 = \"Hello! It is a wednesday today\"\n",
    "\n",
    "unmodified_string_counter = 0\n",
    "modified_string_counter = 0\n",
    "\n",
    "for i in a_string_2:\n",
    "    if i.isalpha():\n",
    "        print(f\"Letter in position: {modified_string_counter} is: {i}\")\n",
    "        modified_string_counter += 1\n",
    "\n",
    "    unmodified_string_counter += 1 # actual position as it is\n",
    "    \n",
    "print(f\"Full thing: {unmodified_string_counter}\")\n",
    "print(f\"Modified thing: {modified_string_counter}\")"
   ]
  },
  {
   "cell_type": "code",
   "execution_count": 44,
   "id": "b4a2a36d",
   "metadata": {},
   "outputs": [
    {
     "data": {
      "text/plain": [
       "'Hello! It '"
      ]
     },
     "execution_count": 44,
     "metadata": {},
     "output_type": "execute_result"
    }
   ],
   "source": [
    "# We can access the index\n",
    "# And also work with ranges\n",
    "\n",
    "a_string_2[0:10]"
   ]
  },
  {
   "cell_type": "code",
   "execution_count": 41,
   "id": "5e5a0567",
   "metadata": {},
   "outputs": [],
   "source": [
    "# Q Maya: can we check for ranges of the alphabet\n",
    "# Eg.: if \"c\" falls between \"a-d\""
   ]
  },
  {
   "cell_type": "code",
   "execution_count": 50,
   "id": "fa8f335b",
   "metadata": {},
   "outputs": [
    {
     "data": {
      "text/plain": [
       "'Hello! It is a wednesday today'"
      ]
     },
     "execution_count": 50,
     "metadata": {},
     "output_type": "execute_result"
    }
   ],
   "source": [
    "a_string_2"
   ]
  },
  {
   "cell_type": "code",
   "execution_count": null,
   "id": "1209e22c",
   "metadata": {},
   "outputs": [],
   "source": [
    "#int: 8"
   ]
  },
  {
   "cell_type": "code",
   "execution_count": 52,
   "id": "b6c75b81",
   "metadata": {},
   "outputs": [
    {
     "name": "stdout",
     "output_type": "stream",
     "text": [
      "30\n"
     ]
    }
   ],
   "source": [
    "print(len(a_string_2))"
   ]
  },
  {
   "cell_type": "code",
   "execution_count": 56,
   "id": "65d3ba26",
   "metadata": {},
   "outputs": [
    {
     "ename": "TypeError",
     "evalue": "'int' object is not iterable",
     "output_type": "error",
     "traceback": [
      "\u001b[0;31m---------------------------------------------------------------------------\u001b[0m",
      "\u001b[0;31mTypeError\u001b[0m                                 Traceback (most recent call last)",
      "Input \u001b[0;32mIn [56]\u001b[0m, in \u001b[0;36m<cell line: 2>\u001b[0;34m()\u001b[0m\n\u001b[1;32m      1\u001b[0m \u001b[38;5;66;03m#wrong:\u001b[39;00m\n\u001b[0;32m----> 2\u001b[0m \u001b[38;5;28;01mfor\u001b[39;00m i \u001b[38;5;129;01min\u001b[39;00m \u001b[38;5;241m5\u001b[39m:\n\u001b[1;32m      3\u001b[0m     \u001b[38;5;28mprint\u001b[39m(i)\n",
      "\u001b[0;31mTypeError\u001b[0m: 'int' object is not iterable"
     ]
    }
   ],
   "source": [
    "#wrong:\n",
    "for i in 5:\n",
    "    print(i)"
   ]
  },
  {
   "cell_type": "code",
   "execution_count": 54,
   "id": "403271d5",
   "metadata": {},
   "outputs": [
    {
     "name": "stdout",
     "output_type": "stream",
     "text": [
      "0\n",
      "1\n",
      "2\n",
      "3\n",
      "4\n"
     ]
    }
   ],
   "source": [
    "for i in range(5):\n",
    "    print(i)"
   ]
  },
  {
   "cell_type": "code",
   "execution_count": null,
   "id": "dde35bc4",
   "metadata": {},
   "outputs": [],
   "source": [
    "# Iterate the elements: straight-forward\n",
    "# Iterate the range of the lenght"
   ]
  },
  {
   "cell_type": "code",
   "execution_count": 2,
   "id": "c333855b",
   "metadata": {},
   "outputs": [],
   "source": [
    "a_string_2 = \"Hello\""
   ]
  },
  {
   "cell_type": "code",
   "execution_count": 1,
   "id": "1d65dda8",
   "metadata": {},
   "outputs": [],
   "source": [
    "import time"
   ]
  },
  {
   "cell_type": "code",
   "execution_count": 26,
   "id": "55420f58",
   "metadata": {},
   "outputs": [
    {
     "name": "stdout",
     "output_type": "stream",
     "text": [
      "CPU times: user 2 µs, sys: 1 µs, total: 3 µs\n",
      "Wall time: 4.05 µs\n",
      "H\n",
      "e\n",
      "l\n",
      "l\n",
      "o\n"
     ]
    }
   ],
   "source": [
    "%time\n",
    "for i in a_string_2:\n",
    "    print(i)"
   ]
  },
  {
   "cell_type": "code",
   "execution_count": 24,
   "id": "de40885f",
   "metadata": {},
   "outputs": [
    {
     "name": "stdout",
     "output_type": "stream",
     "text": [
      "CPU times: user 2 µs, sys: 1e+03 ns, total: 3 µs\n",
      "Wall time: 5.01 µs\n",
      "H\n",
      "e\n",
      "l\n",
      "l\n",
      "o\n"
     ]
    }
   ],
   "source": [
    "%time\n",
    "for i in range(len(a_string_2)):\n",
    "    print(a_string_2[i])"
   ]
  },
  {
   "cell_type": "code",
   "execution_count": 27,
   "id": "76ab6642",
   "metadata": {},
   "outputs": [
    {
     "name": "stdout",
     "output_type": "stream",
     "text": [
      "abc\n"
     ]
    }
   ],
   "source": [
    "import string \n",
    "print(string.ascii_lowercase[:3])# example of range of the alphabet from \"a\" to \"b\""
   ]
  },
  {
   "cell_type": "code",
   "execution_count": null,
   "id": "24b83e7d",
   "metadata": {},
   "outputs": [],
   "source": [
    "# naming the iteration of the loop\n",
    "    - random: i, element\n",
    "    - similar: letter in letters\n",
    "    - _"
   ]
  },
  {
   "cell_type": "code",
   "execution_count": 32,
   "id": "5fb004bf",
   "metadata": {},
   "outputs": [
    {
     "name": "stdout",
     "output_type": "stream",
     "text": [
      "a\n",
      "b\n",
      "c\n"
     ]
    }
   ],
   "source": [
    "counter = 0\n",
    "my_list = [\"a\", \"b\", \"c\"]\n",
    "\n",
    "for _ in my_list: \n",
    "    print(counter)\n",
    "    counter += 1"
   ]
  },
  {
   "cell_type": "code",
   "execution_count": 34,
   "id": "87191dbc",
   "metadata": {},
   "outputs": [
    {
     "name": "stdout",
     "output_type": "stream",
     "text": [
      "1 a\n",
      "2 b\n",
      "3 c\n"
     ]
    }
   ],
   "source": [
    "counter = 0\n",
    "my_list = [\"a\", \"b\", \"c\"]\n",
    "\n",
    "for _ in my_list: \n",
    "    counter += 1\n",
    "    print(counter, _)\n",
    "    \n",
    "# Where you place the counter matters: you might be sklipping first element"
   ]
  },
  {
   "cell_type": "markdown",
   "id": "fef0c8a5",
   "metadata": {
    "lang": "en"
   },
   "source": [
    "### Iterate through a list"
   ]
  },
  {
   "cell_type": "code",
   "execution_count": null,
   "id": "4930087f",
   "metadata": {},
   "outputs": [],
   "source": []
  },
  {
   "cell_type": "code",
   "execution_count": null,
   "id": "f05f7fd7",
   "metadata": {},
   "outputs": [],
   "source": []
  },
  {
   "cell_type": "markdown",
   "id": "e873ede0",
   "metadata": {
    "lang": "en"
   },
   "source": [
    "### We iterate through lists over their index\n",
    "- Built in functions --> https://docs.python.org/3/library/functions.html\n",
    "- Enumerate doc --> https://book.pythontips.com/en/latest/enumerate.html"
   ]
  },
  {
   "cell_type": "code",
   "execution_count": null,
   "id": "6a4a07c7",
   "metadata": {},
   "outputs": [],
   "source": []
  },
  {
   "cell_type": "markdown",
   "id": "73b7e30f",
   "metadata": {
    "lang": "en"
   },
   "source": [
    "### Loop through two lists at the same time"
   ]
  },
  {
   "cell_type": "markdown",
   "id": "af465221",
   "metadata": {
    "lang": "en"
   },
   "source": [
    "I leave you the zip documentation, remember that it will not give an error if the lists are of different sizes but the last iteration will be that of the shortest list\n",
    "[DOC](https://docs.python.org/3/library/functions.html)"
   ]
  },
  {
   "cell_type": "code",
   "execution_count": null,
   "id": "egyptian-opening",
   "metadata": {},
   "outputs": [],
   "source": []
  },
  {
   "cell_type": "markdown",
   "id": "cd740c33",
   "metadata": {
    "lang": "en"
   },
   "source": [
    "### Iterate over the elements of a dictionary"
   ]
  },
  {
   "cell_type": "code",
   "execution_count": null,
   "id": "8643d684",
   "metadata": {},
   "outputs": [],
   "source": []
  },
  {
   "cell_type": "markdown",
   "id": "banned-irish",
   "metadata": {},
   "source": [
    "## Break"
   ]
  },
  {
   "cell_type": "markdown",
   "id": "46cd106d",
   "metadata": {
    "lang": "en"
   },
   "source": [
    "We can literally \"break\" a recursion when a condition is met"
   ]
  },
  {
   "cell_type": "code",
   "execution_count": null,
   "id": "184cda20",
   "metadata": {
    "scrolled": true
   },
   "outputs": [],
   "source": []
  },
  {
   "cell_type": "markdown",
   "id": "5f8559a8",
   "metadata": {
    "lang": "en"
   },
   "source": [
    "## Summary\n",
    "It's your turn, what have we learned today?\n"
   ]
  },
  {
   "cell_type": "markdown",
   "id": "e1bd0fc5",
   "metadata": {},
   "source": []
  }
 ],
 "metadata": {
  "kernelspec": {
   "display_name": "Python 3 (ipykernel)",
   "language": "python",
   "name": "python3"
  },
  "language_info": {
   "codemirror_mode": {
    "name": "ipython",
    "version": 3
   },
   "file_extension": ".py",
   "mimetype": "text/x-python",
   "name": "python",
   "nbconvert_exporter": "python",
   "pygments_lexer": "ipython3",
   "version": "3.8.13"
  },
  "nbTranslate": {
   "displayLangs": [
    "en",
    "es"
   ],
   "hotkey": "alt-a",
   "langInMainMenu": true,
   "sourceLang": "es",
   "targetLang": "en",
   "useGoogleTranslate": true
  },
  "toc": {
   "base_numbering": 1,
   "nav_menu": {},
   "number_sections": true,
   "sideBar": true,
   "skip_h1_title": true,
   "title_cell": "Table of Contents",
   "title_sidebar": "Contents",
   "toc_cell": true,
   "toc_position": {
    "height": "calc(100% - 180px)",
    "left": "10px",
    "top": "150px",
    "width": "253.097px"
   },
   "toc_section_display": true,
   "toc_window_display": true
  }
 },
 "nbformat": 4,
 "nbformat_minor": 5
}
