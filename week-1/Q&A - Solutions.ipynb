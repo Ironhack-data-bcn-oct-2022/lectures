{
 "cells": [
  {
   "cell_type": "markdown",
   "id": "8deb42a2",
   "metadata": {},
   "source": [
    "# 11. Write a function that receives a string of comma separated words and returns a string of comma separated words sorted alphabetically."
   ]
  },
  {
   "cell_type": "code",
   "execution_count": 2,
   "id": "8926c2ee",
   "metadata": {},
   "outputs": [],
   "source": [
    "def sort_alpha(string):\n",
    "    \n",
    "    word_list = []\n",
    "    word = \"\"\n",
    "    \n",
    "    #1. Iterate the STRING\n",
    "    for e in string:\n",
    "        if e == \",\":\n",
    "            word_list.append(word)\n",
    "            word = \"\"\n",
    "        #2. If it's not a comma (letters)\n",
    "        else:\n",
    "            #3. You create a word\n",
    "            word += e\n",
    "            print(f\"This is the word: {word}\") #\"H\", \"He\", \"Hell\", \"Hello\"\n",
    "    \n",
    "    #4. Append the word into the LIST\n",
    "    word_list.append(word) \n",
    "    print(f\"This is the list:{word_list}\")\n",
    "    word_list.sort()# ['Hello', ' zhis', ' is', ' my', ' name', ' Albert'] \n",
    "    \n",
    "    \n",
    "    # 5. This is to transform the SORTED LIST into a string\n",
    "    word_string = \"\"\n",
    "    for e in word_list:\n",
    "        word_string  += e + \",\" # word + \",\" \n",
    "        print(f\"This is word_string: {word_string}\")\n",
    "    word_string = word_string[:-1] # remove the last comma\n",
    "    \n",
    "    return word_string"
   ]
  },
  {
   "cell_type": "code",
   "execution_count": 3,
   "id": "b8e73922",
   "metadata": {},
   "outputs": [
    {
     "name": "stdout",
     "output_type": "stream",
     "text": [
      "This is the word: H\n",
      "This is the word: He\n",
      "This is the word: Hel\n",
      "This is the word: Hell\n",
      "This is the word: Hello\n",
      "This is the word:  \n",
      "This is the word:  z\n",
      "This is the word:  zh\n",
      "This is the word:  zhi\n",
      "This is the word:  zhis\n",
      "This is the word:  \n",
      "This is the word:  i\n",
      "This is the word:  is\n",
      "This is the word:  \n",
      "This is the word:  m\n",
      "This is the word:  my\n",
      "This is the word:  \n",
      "This is the word:  n\n",
      "This is the word:  na\n",
      "This is the word:  nam\n",
      "This is the word:  name\n",
      "This is the word:  \n",
      "This is the word:  A\n",
      "This is the word:  Al\n",
      "This is the word:  Alb\n",
      "This is the word:  Albe\n",
      "This is the word:  Alber\n",
      "This is the word:  Albert\n",
      "This is the list:['Hello', ' zhis', ' is', ' my', ' name', ' Albert']\n",
      "This is word_string:  Albert,\n",
      "This is word_string:  Albert, is,\n",
      "This is word_string:  Albert, is, my,\n",
      "This is word_string:  Albert, is, my, name,\n",
      "This is word_string:  Albert, is, my, name, zhis,\n",
      "This is word_string:  Albert, is, my, name, zhis,Hello,\n"
     ]
    },
    {
     "data": {
      "text/plain": [
       "' Albert, is, my, name, zhis,Hello'"
      ]
     },
     "execution_count": 3,
     "metadata": {},
     "output_type": "execute_result"
    }
   ],
   "source": [
    "sort_alpha(\"Hello, zhis, is, my, name, Albert\")"
   ]
  },
  {
   "cell_type": "code",
   "execution_count": null,
   "id": "6b735cf6",
   "metadata": {},
   "outputs": [],
   "source": []
  }
 ],
 "metadata": {
  "kernelspec": {
   "display_name": "ironhack",
   "language": "python",
   "name": "ironhack"
  },
  "language_info": {
   "codemirror_mode": {
    "name": "ipython",
    "version": 3
   },
   "file_extension": ".py",
   "mimetype": "text/x-python",
   "name": "python",
   "nbconvert_exporter": "python",
   "pygments_lexer": "ipython3",
   "version": "3.8.13"
  },
  "toc": {
   "base_numbering": 1,
   "nav_menu": {},
   "number_sections": true,
   "sideBar": true,
   "skip_h1_title": false,
   "title_cell": "Table of Contents",
   "title_sidebar": "Contents",
   "toc_cell": false,
   "toc_position": {},
   "toc_section_display": true,
   "toc_window_display": true
  }
 },
 "nbformat": 4,
 "nbformat_minor": 5
}
