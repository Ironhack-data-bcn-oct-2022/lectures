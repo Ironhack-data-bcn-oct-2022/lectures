{
 "cells": [
  {
   "cell_type": "markdown",
   "id": "9eb0f57b",
   "metadata": {
    "lang": "en"
   },
   "source": [
    "# Functional Programming"
   ]
  },
  {
   "cell_type": "markdown",
   "id": "conceptual-behalf",
   "metadata": {},
   "source": [
    "![elgif](https://media.giphy.com/media/CuMiNoTRz2bYc/giphy.gif)"
   ]
  },
  {
   "cell_type": "markdown",
   "id": "incorrect-serum",
   "metadata": {
    "toc": true
   },
   "source": [
    "<h1>Table of Contents<span class=\"tocSkip\"></span></h1>\n",
    "<div class=\"toc\"><ul class=\"toc-item\"><li><span><a href=\"#Your-contributions-🚀\" data-toc-modified-id=\"Your-contributions-🚀-1\"><span class=\"toc-item-num\">1&nbsp;&nbsp;</span>Your contributions 🚀</a></span></li><li><span><a href=\"#What-is-functional-programming?\" data-toc-modified-id=\"What-is-functional-programming?-2\"><span class=\"toc-item-num\">2&nbsp;&nbsp;</span>What is functional programming?</a></span></li><li><span><a href=\"#Built-in-functions\" data-toc-modified-id=\"Built-in-functions-3\"><span class=\"toc-item-num\">3&nbsp;&nbsp;</span>Built-in functions</a></span></li><li><span><a href=\"#Extract-the-source-code-of-a-function\" data-toc-modified-id=\"Extract-the-source-code-of-a-function-4\"><span class=\"toc-item-num\">4&nbsp;&nbsp;</span>Extract the source code of a function</a></span></li><li><span><a href=\"#Function-Syntax\" data-toc-modified-id=\"Function-Syntax-5\"><span class=\"toc-item-num\">5&nbsp;&nbsp;</span>Function Syntax</a></span></li><li><span><a href=\"#Parameters-vs-Arguments\" data-toc-modified-id=\"Parameters-vs-Arguments-6\"><span class=\"toc-item-num\">6&nbsp;&nbsp;</span>Parameters vs Arguments</a></span></li><li><span><a href=\"#Functions-that-have-no-parameters\" data-toc-modified-id=\"Functions-that-have-no-parameters-7\"><span class=\"toc-item-num\">7&nbsp;&nbsp;</span>Functions that have no parameters</a></span></li><li><span><a href=\"#Functions-that-have-no-return\" data-toc-modified-id=\"Functions-that-have-no-return-8\"><span class=\"toc-item-num\">8&nbsp;&nbsp;</span>Functions that have no return</a></span></li><li><span><a href=\"#Let's-write-functions\" data-toc-modified-id=\"Let's-write-functions-9\"><span class=\"toc-item-num\">9&nbsp;&nbsp;</span>Let's write functions</a></span></li><li><span><a href=\"#Default-parameters\" data-toc-modified-id=\"Default-parameters-10\"><span class=\"toc-item-num\">10&nbsp;&nbsp;</span>Default parameters</a></span></li><li><span><a href=\"#PLEASE-don't-confuse-PRINTs-inside-a-function-with-RETURNs!\" data-toc-modified-id=\"PLEASE-don't-confuse-PRINTs-inside-a-function-with-RETURNs!-11\"><span class=\"toc-item-num\">11&nbsp;&nbsp;</span>PLEASE don't confuse PRINTs inside a function with RETURNs!</a></span></li><li><span><a href=\"#Docstring\" data-toc-modified-id=\"Docstring-12\"><span class=\"toc-item-num\">12&nbsp;&nbsp;</span>Docstring</a></span></li><li><span><a href=\"#Scope-of-functions\" data-toc-modified-id=\"Scope-of-functions-13\"><span class=\"toc-item-num\">13&nbsp;&nbsp;</span>Scope of functions</a></span></li><li><span><a href=\"#*Args\" data-toc-modified-id=\"*Args-14\"><span class=\"toc-item-num\">14&nbsp;&nbsp;</span>*Args</a></span></li><li><span><a href=\"#**Kwargs\" data-toc-modified-id=\"**Kwargs-15\"><span class=\"toc-item-num\">15&nbsp;&nbsp;</span>**Kwargs</a></span></li><li><span><a href=\"#Order-Matters\" data-toc-modified-id=\"Order-Matters-16\"><span class=\"toc-item-num\">16&nbsp;&nbsp;</span>Order Matters</a></span></li><li><span><a href=\"#Lambda\" data-toc-modified-id=\"Lambda-17\"><span class=\"toc-item-num\">17&nbsp;&nbsp;</span>Lambda</a></span><ul class=\"toc-item\"><li><span><a href=\"#Syntax-of-a-lambda\" data-toc-modified-id=\"Syntax-of-a-lambda-17.1\"><span class=\"toc-item-num\">17.1&nbsp;&nbsp;</span>Syntax of a lambda</a></span></li><li><span><a href=\"#lambda-examples\" data-toc-modified-id=\"lambda-examples-17.2\"><span class=\"toc-item-num\">17.2&nbsp;&nbsp;</span>lambda examples</a></span></li></ul></li><li><span><a href=\"#Recursion\" data-toc-modified-id=\"Recursion-18\"><span class=\"toc-item-num\">18&nbsp;&nbsp;</span>Recursion</a></span></li><li><span><a href=\"#Summary\" data-toc-modified-id=\"Summary-19\"><span class=\"toc-item-num\">19&nbsp;&nbsp;</span>Summary</a></span></li></ul></div>"
   ]
  },
  {
   "cell_type": "markdown",
   "id": "c8dbbad6",
   "metadata": {
    "lang": "en"
   },
   "source": [
    "## Your contributions 🚀\n",
    "What do you think functions do/what properties do they have? Whare they useful for?"
   ]
  },
  {
   "cell_type": "markdown",
   "id": "4d00796e",
   "metadata": {},
   "source": [
    "- code that does something specific\n",
    "- you can call it\n",
    "- it can return things\n",
    "- long piece of code -> not repeating code \n",
    "- **re-usable**\n",
    "- you can return and | you can print\n",
    "- you can not return and you can not print\n",
    "- built-in, user-defined functions, lambda (key=lambda x: x[1])\n",
    "- To define functions:\n",
    "    - ```python\n",
    "           def name ():\n",
    "                pass\n",
    "       ```\n",
    "    - name ()"
   ]
  },
  {
   "cell_type": "markdown",
   "id": "199cb1a8",
   "metadata": {
    "lang": "en"
   },
   "source": [
    "## What is functional programming?\n",
    "What does it mean that Python is multi-paradigm?\n",
    "According to Wikipedia:\n",
    "\n",
    "“Python is an interpreted programming language whose philosophy emphasizes the readability of its code. It is a multiparadigm programming language, since it supports object orientation, imperative programming and, to a lesser extent, functional programming.\n",
    "\n",
    "It means that it accepts different ways of working with language. Basically there are 3 predominant paradigms, or in other words, 3 global formats to organize a code.\n",
    "\n",
    "**Imperative programming (structured)**: the code will be executed from the beginning of the file to the end without following any type of deviation. Its biggest advantage lies in its simplicity and low weight. Its danger is the spaghetti code, files with hundreds or thousands of lines where only a few human beings are able to modify and emerge victorious.\n",
    "\n",
    "**Object Oriented Programming (OOP or Object Oriented Programming)**: where variables and functions are encapsulated in small modules capable of being cloned and modified. Its strong point is the ability to reuse and isolate to avoid problems with other features. The negative part lies in the complexity of creating good objects and debugging.\n",
    "\n",
    "**Functional programming (FP or Functional programming)**: where the code is divided into simple functions capable of being invoked with variables or other functions. Its ease of use by atomicity achieves robust maintainability and compatibility with almost any language. In addition, its immutability of variables avoids many of the problems that object-oriented programming suffers."
   ]
  },
  {
   "cell_type": "markdown",
   "id": "7f89fd70",
   "metadata": {
    "lang": "en"
   },
   "source": [
    "## Built-in functions"
   ]
  },
  {
   "cell_type": "markdown",
   "id": "80919246",
   "metadata": {
    "lang": "en"
   },
   "source": [
    "The Python interpreter has a number of built-in functions and types that are always available. They are listed [here](https://docs.python.org/3/library/functions.html) in alphabetical order."
   ]
  },
  {
   "cell_type": "code",
   "execution_count": 49,
   "id": "33478159",
   "metadata": {},
   "outputs": [
    {
     "data": {
      "text/plain": [
       "'Sdsds'"
      ]
     },
     "execution_count": 49,
     "metadata": {},
     "output_type": "execute_result"
    }
   ],
   "source": [
    "\"sdsds\".capitalize()"
   ]
  },
  {
   "cell_type": "code",
   "execution_count": 50,
   "id": "2de697fe",
   "metadata": {},
   "outputs": [],
   "source": [
    "my_list = [1, 2]\n",
    "a_string = \"Hello!\"\n",
    "\n",
    "my_list.append(a_string)"
   ]
  },
  {
   "cell_type": "code",
   "execution_count": 51,
   "id": "b0c6682a",
   "metadata": {},
   "outputs": [
    {
     "data": {
      "text/plain": [
       "[1, 2, 'Hello!']"
      ]
     },
     "execution_count": 51,
     "metadata": {},
     "output_type": "execute_result"
    }
   ],
   "source": [
    "my_list"
   ]
  },
  {
   "cell_type": "code",
   "execution_count": null,
   "id": "8b159633",
   "metadata": {
    "scrolled": true
   },
   "outputs": [],
   "source": [
    "5\n",
    "[1, 2]"
   ]
  },
  {
   "cell_type": "markdown",
   "id": "3ea6d549",
   "metadata": {
    "lang": "en"
   },
   "source": [
    "## Extract the source code of a function\n",
    "While we're talking about built-ints, out of curiosity, if we need to extract the code from a previously written function..."
   ]
  },
  {
   "cell_type": "code",
   "execution_count": 57,
   "id": "08fa9088",
   "metadata": {
    "scrolled": true
   },
   "outputs": [],
   "source": [
    "def greetings ():\n",
    "    \"\"\"This function returns a string that says Hello\n",
    "    \"\"\"\n",
    "    return \"Hello!\""
   ]
  },
  {
   "cell_type": "code",
   "execution_count": 59,
   "id": "8fb43d68",
   "metadata": {},
   "outputs": [
    {
     "data": {
      "text/plain": [
       "'Hello!'"
      ]
     },
     "execution_count": 59,
     "metadata": {},
     "output_type": "execute_result"
    }
   ],
   "source": [
    "greetings()"
   ]
  },
  {
   "cell_type": "code",
   "execution_count": 61,
   "id": "27d26af0",
   "metadata": {},
   "outputs": [
    {
     "name": "stdout",
     "output_type": "stream",
     "text": [
      "def greetings ():\n",
      "    \"\"\"This function returns a string that says Hello\n",
      "    \"\"\"\n",
      "    return \"Hello!\"\n",
      "\n"
     ]
    }
   ],
   "source": [
    "import inspect\n",
    "print(inspect.getsource(greetings))"
   ]
  },
  {
   "cell_type": "markdown",
   "id": "d36c02f5",
   "metadata": {
    "lang": "en"
   },
   "source": [
    "In case of built-in functions we can't extract the code with inspect, since Python itself is written in C... the Print function looks like this 👇🏻"
   ]
  },
  {
   "cell_type": "markdown",
   "id": "through-silicon",
   "metadata": {},
   "source": [
    "```C\n",
    "static PyObject *\n",
    "builtin_print(PyObject *self, PyObject *args, PyObject *kwds)\n",
    "{\n",
    "    static char *kwlist[] = {\"sep\", \"end\", \"file\", 0};\n",
    "    static PyObject *dummy_args = NULL;\n",
    "    static PyObject *unicode_newline = NULL, *unicode_space = NULL;\n",
    "    static PyObject *str_newline = NULL, *str_space = NULL;\n",
    "    PyObject *newline, *space;\n",
    "    PyObject *sep = NULL, *end = NULL, *file = NULL;\n",
    "    int i, err, use_unicode = 0;\n",
    "\n",
    "    if (dummy_args == NULL) {\n",
    "        if (!(dummy_args = PyTuple_New(0)))\n",
    "            return NULL;\n",
    "    }\n",
    "    if (str_newline == NULL) {\n",
    "        str_newline = PyString_FromString(\"\\n\");\n",
    "        if (str_newline == NULL)\n",
    "            return NULL;\n",
    "        str_space = PyString_FromString(\" \");\n",
    "        if (str_space == NULL) {\n",
    "            Py_CLEAR(str_newline);\n",
    "            return NULL;\n",
    "        }\n",
    "#ifdef Py_USING_UNICODE\n",
    "        unicode_newline = PyUnicode_FromString(\"\\n\");\n",
    "        if (unicode_newline == NULL) {\n",
    "            Py_CLEAR(str_newline);\n",
    "            Py_CLEAR(str_space);\n",
    "            return NULL;\n",
    "        }\n",
    "        unicode_space = PyUnicode_FromString(\" \");\n",
    "        if (unicode_space == NULL) {\n",
    "            Py_CLEAR(str_newline);\n",
    "            Py_CLEAR(str_space);\n",
    "            Py_CLEAR(unicode_space);\n",
    "            return NULL;\n",
    "        }\n",
    "#endif\n",
    "    }\n",
    "    if (!PyArg_ParseTupleAndKeywords(dummy_args, kwds, \"|OOO:print\",\n",
    "                                     kwlist, &sep, &end, &file))\n",
    "        return NULL;\n",
    "    if (file == NULL || file == Py_None) {\n",
    "        file = PySys_GetObject(\"stdout\");\n",
    "        /* sys.stdout may be None when FILE* stdout isn't connected */\n",
    "        if (file == Py_None)\n",
    "            Py_RETURN_NONE;\n",
    "    }\n",
    "    if (sep == Py_None) {\n",
    "        sep = NULL;\n",
    "    }\n",
    "    else if (sep) {\n",
    "        if (PyUnicode_Check(sep)) {\n",
    "            use_unicode = 1;\n",
    "        }\n",
    "        else if (!PyString_Check(sep)) {\n",
    "            PyErr_Format(PyExc_TypeError,\n",
    "                         \"sep must be None, str or unicode, not %.200s\",\n",
    "                         sep->ob_type->tp_name);\n",
    "            return NULL;\n",
    "        }\n",
    "    }\n",
    "    if (end == Py_None)\n",
    "        end = NULL;\n",
    "    else if (end) {\n",
    "        if (PyUnicode_Check(end)) {\n",
    "            use_unicode = 1;\n",
    "        }\n",
    "        else if (!PyString_Check(end)) {\n",
    "            PyErr_Format(PyExc_TypeError,\n",
    "                         \"end must be None, str or unicode, not %.200s\",\n",
    "                         end->ob_type->tp_name);\n",
    "            return NULL;\n",
    "        }\n",
    "    }\n",
    "\n",
    "    if (!use_unicode) {\n",
    "        for (i = 0; i < PyTuple_Size(args); i++) {\n",
    "            if (PyUnicode_Check(PyTuple_GET_ITEM(args, i))) {\n",
    "                use_unicode = 1;\n",
    "                break;\n",
    "            }\n",
    "        }\n",
    "    }\n",
    "    if (use_unicode) {\n",
    "        newline = unicode_newline;\n",
    "        space = unicode_space;\n",
    "    }\n",
    "    else {\n",
    "        newline = str_newline;\n",
    "        space = str_space;\n",
    "    }\n",
    "\n",
    "    for (i = 0; i < PyTuple_Size(args); i++) {\n",
    "        if (i > 0) {\n",
    "            if (sep == NULL)\n",
    "                err = PyFile_WriteObject(space, file,\n",
    "                                         Py_PRINT_RAW);\n",
    "            else\n",
    "                err = PyFile_WriteObject(sep, file,\n",
    "                                         Py_PRINT_RAW);\n",
    "            if (err)\n",
    "                return NULL;\n",
    "        }\n",
    "        err = PyFile_WriteObject(PyTuple_GetItem(args, i), file,\n",
    "                                 Py_PRINT_RAW);\n",
    "        if (err)\n",
    "            return NULL;\n",
    "    }\n",
    "\n",
    "    if (end == NULL)\n",
    "        err = PyFile_WriteObject(newline, file, Py_PRINT_RAW);\n",
    "    else\n",
    "        err = PyFile_WriteObject(end, file, Py_PRINT_RAW);\n",
    "    if (err)\n",
    "        return NULL;\n",
    "\n",
    "    Py_RETURN_NONE;\n",
    "}\n",
    "```"
   ]
  },
  {
   "cell_type": "code",
   "execution_count": 62,
   "id": "dda036e0",
   "metadata": {
    "scrolled": true
   },
   "outputs": [
    {
     "name": "stdout",
     "output_type": "stream",
     "text": [
      "3\n"
     ]
    }
   ],
   "source": [
    "a = 3\n",
    "print(a)"
   ]
  },
  {
   "cell_type": "code",
   "execution_count": 66,
   "id": "60473902",
   "metadata": {},
   "outputs": [
    {
     "name": "stdout",
     "output_type": "stream",
     "text": [
      "def greetings ():\n",
      "    \"\"\"This function returns a string that says Hello\n",
      "    \"\"\"\n",
      "    return \"Hello!\"\n",
      "\n"
     ]
    }
   ],
   "source": [
    "print(inspect.getsource(greetings))"
   ]
  },
  {
   "cell_type": "markdown",
   "id": "85d6428d",
   "metadata": {
    "lang": "en"
   },
   "source": [
    "## Function Syntax\n",
    "\n",
    "Syntax for defining a function:\n",
    "```python\n",
    "\n",
    "def name_function(input params):\n",
    "    # the colon and the indentation imply being in the function\n",
    "    take an action\n",
    "    return() # return a certain value\n",
    "\n",
    "```\n",
    "\n",
    "Function execution:\n",
    "```python\n",
    "name_of_the_function(argument1, argument2, ...)\n",
    "```\n",
    "or, if you want to save the result in a variable\n",
    "```python\n",
    "result = name_of_the_function(argument1, argument2, ...)\n",
    "```"
   ]
  },
  {
   "cell_type": "code",
   "execution_count": 68,
   "id": "9361dce9",
   "metadata": {},
   "outputs": [],
   "source": [
    "# Functions can do things And return or not \n",
    "# Return when: \n",
    "    # want to store/save the value of something\n",
    "    # operate with that value"
   ]
  },
  {
   "cell_type": "code",
   "execution_count": 69,
   "id": "519f3984",
   "metadata": {},
   "outputs": [],
   "source": [
    "# Downloads a file\n",
    "    # NO RETURN: it just downloads\n",
    "    # RETURNS the downloaded file: downloads it AND saves it so that you can open it"
   ]
  },
  {
   "cell_type": "markdown",
   "id": "f2c07b7a",
   "metadata": {
    "lang": "en"
   },
   "source": [
    "## Parameters vs Arguments\n",
    "Formal parameters for a function are listed in the function declaration and used in the body of the function definition.\n",
    "\n",
    "An argument is what is used when referring to parameters. When you write a function call, the arguments are listed in parentheses after the function name. When the function call is executed, the arguments are inserted for the parameters.\n",
    "\n",
    "Let's say then that the parameters are those \"imaginary\" variables that will have the same name in the definition and in the body of the function.\n",
    "The arguments are the REAL DATA that we use when we call the function."
   ]
  },
  {
   "cell_type": "code",
   "execution_count": 72,
   "id": "c0f83711",
   "metadata": {
    "scrolled": true
   },
   "outputs": [],
   "source": [
    "def greetings ():\n",
    "    return \"Hello!\""
   ]
  },
  {
   "cell_type": "code",
   "execution_count": 73,
   "id": "2dd34762",
   "metadata": {},
   "outputs": [
    {
     "data": {
      "text/plain": [
       "'Hello!'"
      ]
     },
     "execution_count": 73,
     "metadata": {},
     "output_type": "execute_result"
    }
   ],
   "source": [
    "greetings()"
   ]
  },
  {
   "cell_type": "code",
   "execution_count": 71,
   "id": "82998402",
   "metadata": {},
   "outputs": [],
   "source": [
    "def greetin_name (name): #param\n",
    "    return f\"This is my {name}\" "
   ]
  },
  {
   "cell_type": "code",
   "execution_count": 74,
   "id": "6ec86dac",
   "metadata": {},
   "outputs": [
    {
     "data": {
      "text/plain": [
       "'This is my Sam'"
      ]
     },
     "execution_count": 74,
     "metadata": {},
     "output_type": "execute_result"
    }
   ],
   "source": [
    "greetin_name(\"Sam\") #argument"
   ]
  },
  {
   "cell_type": "code",
   "execution_count": 75,
   "id": "d2945364",
   "metadata": {},
   "outputs": [
    {
     "ename": "TypeError",
     "evalue": "greetin_name() missing 1 required positional argument: 'name'",
     "output_type": "error",
     "traceback": [
      "\u001b[0;31m---------------------------------------------------------------------------\u001b[0m",
      "\u001b[0;31mTypeError\u001b[0m                                 Traceback (most recent call last)",
      "Input \u001b[0;32mIn [75]\u001b[0m, in \u001b[0;36m<cell line: 1>\u001b[0;34m()\u001b[0m\n\u001b[0;32m----> 1\u001b[0m \u001b[43mgreetin_name\u001b[49m\u001b[43m(\u001b[49m\u001b[43m)\u001b[49m\n",
      "\u001b[0;31mTypeError\u001b[0m: greetin_name() missing 1 required positional argument: 'name'"
     ]
    }
   ],
   "source": [
    "greetin_name()"
   ]
  },
  {
   "cell_type": "code",
   "execution_count": null,
   "id": "fc637e7d",
   "metadata": {},
   "outputs": [],
   "source": [
    "# ID\n",
    "    # name: param\n",
    "    # DOB: param\n",
    "    \n",
    "    #Sam: argument\n",
    "    #1995: argument"
   ]
  },
  {
   "cell_type": "code",
   "execution_count": 4,
   "id": "e0d8c7b9",
   "metadata": {},
   "outputs": [],
   "source": [
    "# Q: can I use variables outside of a function\n",
    "# A: yes\n",
    "\n",
    "\n",
    "# Variables outisde of a function can be accessed in the inside\n",
    "num = 10\n",
    "\n",
    "def addition (a):\n",
    "    return a + num"
   ]
  },
  {
   "cell_type": "code",
   "execution_count": 7,
   "id": "70826611",
   "metadata": {},
   "outputs": [],
   "source": [
    "# Q: if you import, what happens to outside variables?\n",
    "\n",
    "# You can import functions from other files\n",
    "# Variables declared on the code, outside of functions, you need to have them"
   ]
  },
  {
   "cell_type": "code",
   "execution_count": 8,
   "id": "3508fd21",
   "metadata": {},
   "outputs": [
    {
     "data": {
      "text/plain": [
       "15"
      ]
     },
     "execution_count": 8,
     "metadata": {},
     "output_type": "execute_result"
    }
   ],
   "source": [
    "addition (5)"
   ]
  },
  {
   "cell_type": "markdown",
   "id": "d83715b3",
   "metadata": {},
   "source": [
    "What function returns is just _\"the return\"_\n",
    "We can return as many things as we want"
   ]
  },
  {
   "cell_type": "markdown",
   "id": "f4adbaec",
   "metadata": {
    "lang": "en"
   },
   "source": [
    "## Functions that have no parameters"
   ]
  },
  {
   "cell_type": "code",
   "execution_count": 11,
   "id": "210ebf77",
   "metadata": {
    "scrolled": true
   },
   "outputs": [
    {
     "data": {
      "text/plain": [
       "'Hello'"
      ]
     },
     "execution_count": 11,
     "metadata": {},
     "output_type": "execute_result"
    }
   ],
   "source": [
    "def greeting ():\n",
    "    return \"Hello\"\n",
    "\n",
    "greeting()"
   ]
  },
  {
   "cell_type": "code",
   "execution_count": 13,
   "id": "b0906597",
   "metadata": {},
   "outputs": [],
   "source": [
    "def greeting_name (name):\n",
    "    return f\"Hello my name is {name}\""
   ]
  },
  {
   "cell_type": "code",
   "execution_count": 14,
   "id": "2b9b157c",
   "metadata": {},
   "outputs": [
    {
     "data": {
      "text/plain": [
       "'Hello my name is Sam'"
      ]
     },
     "execution_count": 14,
     "metadata": {},
     "output_type": "execute_result"
    }
   ],
   "source": [
    "greeting_name(\"Sam\")"
   ]
  },
  {
   "cell_type": "code",
   "execution_count": 15,
   "id": "beb3b4b7",
   "metadata": {},
   "outputs": [
    {
     "data": {
      "text/plain": [
       "'Hello my name is Venice'"
      ]
     },
     "execution_count": 15,
     "metadata": {},
     "output_type": "execute_result"
    }
   ],
   "source": [
    "greeting_name(\"Venice\")"
   ]
  },
  {
   "cell_type": "code",
   "execution_count": 16,
   "id": "24b748a7",
   "metadata": {},
   "outputs": [
    {
     "data": {
      "text/plain": [
       "'Hello my name is Clara'"
      ]
     },
     "execution_count": 16,
     "metadata": {},
     "output_type": "execute_result"
    }
   ],
   "source": [
    "greeting_name(\"Clara\")"
   ]
  },
  {
   "cell_type": "code",
   "execution_count": 17,
   "id": "302075b7",
   "metadata": {},
   "outputs": [
    {
     "data": {
      "text/plain": [
       "'Hello my name is Laura'"
      ]
     },
     "execution_count": 17,
     "metadata": {},
     "output_type": "execute_result"
    }
   ],
   "source": [
    "greeting_name(\"Laura\")"
   ]
  },
  {
   "cell_type": "markdown",
   "id": "e39c76af",
   "metadata": {
    "lang": "en"
   },
   "source": [
    "## Functions that have no return\n",
    "They do \"stuff\" but they don't return anything... and if a function doesn't have a return, then it returns:\n",
    "```python\n",
    "None\n",
    "```"
   ]
  },
  {
   "cell_type": "code",
   "execution_count": 35,
   "id": "4001a15b",
   "metadata": {
    "scrolled": true
   },
   "outputs": [],
   "source": [
    "import os\n",
    "\n",
    "def random_function_that_prints ():\n",
    "    return print(\"Hello this doesn't do anything\")"
   ]
  },
  {
   "cell_type": "code",
   "execution_count": 36,
   "id": "dc642fb0",
   "metadata": {},
   "outputs": [
    {
     "name": "stdout",
     "output_type": "stream",
     "text": [
      "Hello this doesn't do anything\n"
     ]
    }
   ],
   "source": [
    "random_function_that_prints()"
   ]
  },
  {
   "cell_type": "code",
   "execution_count": 37,
   "id": "e6cb90fd",
   "metadata": {},
   "outputs": [
    {
     "data": {
      "text/plain": [
       "function"
      ]
     },
     "execution_count": 37,
     "metadata": {},
     "output_type": "execute_result"
    }
   ],
   "source": [
    "type(random_function_that_prints)"
   ]
  },
  {
   "cell_type": "code",
   "execution_count": 38,
   "id": "c552a80c",
   "metadata": {},
   "outputs": [
    {
     "name": "stdout",
     "output_type": "stream",
     "text": [
      "Hello this doesn't do anything\n"
     ]
    }
   ],
   "source": [
    "result_of_function = random_function_that_prints()"
   ]
  },
  {
   "cell_type": "code",
   "execution_count": 40,
   "id": "38f9d879",
   "metadata": {},
   "outputs": [
    {
     "data": {
      "text/plain": [
       "NoneType"
      ]
     },
     "execution_count": 40,
     "metadata": {},
     "output_type": "execute_result"
    }
   ],
   "source": [
    "type(result_of_function) # there's no return, there's a print or returning a print"
   ]
  },
  {
   "cell_type": "code",
   "execution_count": null,
   "id": "5fe9eed1",
   "metadata": {},
   "outputs": [],
   "source": [
    "NoneType should be 3\n",
    "NoneType -> is not suscriptable\n",
    "\n",
    "# you might have a print\n",
    "# you might no return\n",
    "# returning a print"
   ]
  },
  {
   "cell_type": "code",
   "execution_count": 41,
   "id": "25941b79",
   "metadata": {},
   "outputs": [],
   "source": [
    "def addition (a, b):\n",
    "    sum_ = a + b\n",
    "    return f\"{sum_}\""
   ]
  },
  {
   "cell_type": "code",
   "execution_count": 43,
   "id": "58b53b70",
   "metadata": {},
   "outputs": [
    {
     "data": {
      "text/plain": [
       "'7'"
      ]
     },
     "execution_count": 43,
     "metadata": {},
     "output_type": "execute_result"
    }
   ],
   "source": [
    "addition(3, 4)"
   ]
  },
  {
   "cell_type": "code",
   "execution_count": 44,
   "id": "e25aa723",
   "metadata": {},
   "outputs": [
    {
     "data": {
      "text/plain": [
       "function"
      ]
     },
     "execution_count": 44,
     "metadata": {},
     "output_type": "execute_result"
    }
   ],
   "source": [
    "type(addition)"
   ]
  },
  {
   "cell_type": "code",
   "execution_count": 47,
   "id": "b6bb7e34",
   "metadata": {},
   "outputs": [
    {
     "data": {
      "text/plain": [
       "'7'"
      ]
     },
     "execution_count": 47,
     "metadata": {},
     "output_type": "execute_result"
    }
   ],
   "source": [
    "the_result = addition(3, 4)\n",
    "the_result"
   ]
  },
  {
   "cell_type": "code",
   "execution_count": 48,
   "id": "9840aa24",
   "metadata": {},
   "outputs": [
    {
     "data": {
      "text/plain": [
       "str"
      ]
     },
     "execution_count": 48,
     "metadata": {},
     "output_type": "execute_result"
    }
   ],
   "source": [
    "type(the_result)"
   ]
  },
  {
   "cell_type": "code",
   "execution_count": 49,
   "id": "4e7e4649",
   "metadata": {},
   "outputs": [],
   "source": [
    "random_string = \" hello ! tHis is A stringg _\"\n",
    "\n",
    "# remove spaces\n",
    "# get rid of exclamation marks\n",
    "# underscore\n",
    "# Capitalize it"
   ]
  },
  {
   "cell_type": "code",
   "execution_count": 77,
   "id": "7e421edb",
   "metadata": {},
   "outputs": [],
   "source": [
    "def clean_string (text):\n",
    "    text = text.replace(\"!\", \"\").replace(\"_\", \"\")\n",
    "    text = text.strip() # spaces\n",
    "    text = text.capitalize()\n",
    "    \n",
    "    return text"
   ]
  },
  {
   "cell_type": "code",
   "execution_count": 78,
   "id": "23b675ec",
   "metadata": {},
   "outputs": [
    {
     "data": {
      "text/plain": [
       "'Hello  this is a stringg'"
      ]
     },
     "execution_count": 78,
     "metadata": {},
     "output_type": "execute_result"
    }
   ],
   "source": [
    "clean_string (random_string)"
   ]
  },
  {
   "cell_type": "code",
   "execution_count": 72,
   "id": "f6faff51",
   "metadata": {},
   "outputs": [
    {
     "data": {
      "text/plain": [
       "'Ubwbgybjh'"
      ]
     },
     "execution_count": 72,
     "metadata": {},
     "output_type": "execute_result"
    }
   ],
   "source": [
    "clean_string (\"  uBwb__GYBjH !!!!   \")"
   ]
  },
  {
   "cell_type": "code",
   "execution_count": 89,
   "id": "d5a1af07",
   "metadata": {},
   "outputs": [],
   "source": [
    "# A function (clean_string_2) that returns \n",
    "    # Because it returns SOMETHING\n",
    "    # That SOMETHING I can operate later on"
   ]
  },
  {
   "cell_type": "code",
   "execution_count": 91,
   "id": "e268b9cb",
   "metadata": {},
   "outputs": [],
   "source": [
    "def clean_string_2 (text):\n",
    "    return text.replace(\"!\", \"_\").replace(\"_\", \"\").strip().capitalize()"
   ]
  },
  {
   "cell_type": "code",
   "execution_count": 92,
   "id": "d245ea65",
   "metadata": {},
   "outputs": [
    {
     "data": {
      "text/plain": [
       "'Ubwbgybjh'"
      ]
     },
     "execution_count": 92,
     "metadata": {},
     "output_type": "execute_result"
    }
   ],
   "source": [
    "clean_string_2 (\"  uBwb__GYBjH !!!!   \")"
   ]
  },
  {
   "cell_type": "code",
   "execution_count": 93,
   "id": "3167a985",
   "metadata": {},
   "outputs": [],
   "source": [
    "clean_string_2_variable = clean_string_2 (\"  uBwb__GYBjH !!!!   \")"
   ]
  },
  {
   "cell_type": "code",
   "execution_count": 94,
   "id": "31a3b86d",
   "metadata": {},
   "outputs": [
    {
     "data": {
      "text/plain": [
       "'UBWBGYBJH'"
      ]
     },
     "execution_count": 94,
     "metadata": {},
     "output_type": "execute_result"
    }
   ],
   "source": [
    "clean_string_2_variable.upper()"
   ]
  },
  {
   "cell_type": "code",
   "execution_count": 90,
   "id": "90134ef2",
   "metadata": {},
   "outputs": [],
   "source": [
    "# A function (clean_string_3)that JUST PRINTAS\n",
    "    # Because it DOESN'T return ANYTHING\n",
    "    # That ANYTHING I cannot operate later on"
   ]
  },
  {
   "cell_type": "code",
   "execution_count": 85,
   "id": "ecd206f4",
   "metadata": {},
   "outputs": [],
   "source": [
    "def clean_string_3 (text):\n",
    "    print(text.replace(\"!\", \"_\").replace(\"_\", \"\").strip().capitalize())"
   ]
  },
  {
   "cell_type": "code",
   "execution_count": 86,
   "id": "a96c0e59",
   "metadata": {},
   "outputs": [
    {
     "name": "stdout",
     "output_type": "stream",
     "text": [
      "Ubwbgybjh\n"
     ]
    }
   ],
   "source": [
    "clean_string_3 (\"  uBwb__GYBjH !!!!   \")"
   ]
  },
  {
   "cell_type": "code",
   "execution_count": 87,
   "id": "8bfaec39",
   "metadata": {},
   "outputs": [
    {
     "name": "stdout",
     "output_type": "stream",
     "text": [
      "Ubwbgybjh\n"
     ]
    }
   ],
   "source": [
    "clean_string_3_variable = clean_string_3 (\"  uBwb__GYBjH !!!!   \")"
   ]
  },
  {
   "cell_type": "code",
   "execution_count": 88,
   "id": "dfad5a32",
   "metadata": {},
   "outputs": [
    {
     "ename": "AttributeError",
     "evalue": "'NoneType' object has no attribute 'upper'",
     "output_type": "error",
     "traceback": [
      "\u001b[0;31m---------------------------------------------------------------------------\u001b[0m",
      "\u001b[0;31mAttributeError\u001b[0m                            Traceback (most recent call last)",
      "Input \u001b[0;32mIn [88]\u001b[0m, in \u001b[0;36m<cell line: 1>\u001b[0;34m()\u001b[0m\n\u001b[0;32m----> 1\u001b[0m \u001b[43mclean_string_3_variable\u001b[49m\u001b[38;5;241;43m.\u001b[39;49m\u001b[43mupper\u001b[49m()\n",
      "\u001b[0;31mAttributeError\u001b[0m: 'NoneType' object has no attribute 'upper'"
     ]
    }
   ],
   "source": [
    "clean_string_3_variable.upper()"
   ]
  },
  {
   "cell_type": "markdown",
   "id": "f65b59cf",
   "metadata": {
    "lang": "en"
   },
   "source": [
    "## Let's write functions"
   ]
  },
  {
   "cell_type": "markdown",
   "id": "8b6148b3",
   "metadata": {
    "lang": "en"
   },
   "source": [
    "**Example**: I am given a time in the following format: \"04:52\", minutes and seconds. Calculate the integer number of seconds."
   ]
  },
  {
   "cell_type": "code",
   "execution_count": null,
   "id": "686fcd47",
   "metadata": {
    "scrolled": true
   },
   "outputs": [],
   "source": []
  },
  {
   "cell_type": "markdown",
   "id": "e498ddf7",
   "metadata": {
    "lang": "en"
   },
   "source": [
    "We have a lot of code for ONE functionality, which we could REUSE for different cases\n",
    "**THIS IS WHAT FUNCTIONS ARE FOR**\n",
    "We then turn it into a function"
   ]
  },
  {
   "cell_type": "markdown",
   "id": "0f4e7d38",
   "metadata": {
    "lang": "en"
   },
   "source": [
    "## Default parameters"
   ]
  },
  {
   "cell_type": "code",
   "execution_count": null,
   "id": "7f9459e0",
   "metadata": {
    "scrolled": true
   },
   "outputs": [],
   "source": []
  },
  {
   "cell_type": "markdown",
   "id": "32e7775a",
   "metadata": {
    "lang": "en"
   },
   "source": [
    "## PLEASE don't confuse PRINTs inside a function with RETURNs!"
   ]
  },
  {
   "cell_type": "code",
   "execution_count": null,
   "id": "2f2acd4d",
   "metadata": {
    "scrolled": true
   },
   "outputs": [],
   "source": []
  },
  {
   "cell_type": "markdown",
   "id": "5bbfe19b",
   "metadata": {
    "lang": "en"
   },
   "source": [
    "## Docstring\n",
    "- The code is written 1 time.\n",
    "- The code is read 100 times.\n",
    "- Help your colleagues understand your work.\n",
    "\n",
    "![lafoto](https://res.cloudinary.com/highflyer910/image/upload/v1589577574/1_1_httqnc.jpg)\n",
    "\n",
    "\n",
    "In this example, we have defined a cat function that returns meow. We have declared a docstring that explains what the function does. To get the docstring of a function, we need to display the doc attribute (print(cat.__doc__))\n",
    "Photo reference, description and more info about docstring [here](https://techiestuff.netlify.app/blog/what-is-a-python-docstring/)"
   ]
  },
  {
   "cell_type": "code",
   "execution_count": null,
   "id": "1bff3a6a",
   "metadata": {
    "scrolled": true
   },
   "outputs": [],
   "source": []
  },
  {
   "cell_type": "markdown",
   "id": "86c5ccda",
   "metadata": {
    "lang": "en"
   },
   "source": [
    "## Scope of functions"
   ]
  },
  {
   "cell_type": "code",
   "execution_count": null,
   "id": "c9e4595e",
   "metadata": {
    "scrolled": true
   },
   "outputs": [],
   "source": []
  },
  {
   "cell_type": "markdown",
   "id": "ed14ae9a",
   "metadata": {
    "lang": "en"
   },
   "source": [
    "## *Args\n",
    "In Python, the special parameter `*args` in a function is used to optionally pass a variable number of positional arguments."
   ]
  },
  {
   "cell_type": "code",
   "execution_count": null,
   "id": "d18ad790",
   "metadata": {
    "scrolled": true
   },
   "outputs": [],
   "source": []
  },
  {
   "cell_type": "markdown",
   "id": "d6f3043e",
   "metadata": {
    "lang": "en"
   },
   "source": [
    "## **Kwargs"
   ]
  },
  {
   "cell_type": "markdown",
   "id": "98ca1af5",
   "metadata": {
    "lang": "en"
   },
   "source": [
    "We can also pass a dictionary as an argument using the parameter names (**kwargs) as keys.\n",
    "Use **kwargs to optionally pass a variable number of named arguments to a function.\n",
    "It is a dictionary whose keys become parameters and their values ​​become the arguments of the parameters.\n",
    "The **kwargs parameter receives the arguments as a dictionary."
   ]
  },
  {
   "cell_type": "code",
   "execution_count": null,
   "id": "9ecfc009",
   "metadata": {
    "scrolled": true
   },
   "outputs": [],
   "source": []
  },
  {
   "cell_type": "markdown",
   "id": "a8486f2d",
   "metadata": {},
   "source": [
    "- *args: they depend on their position\n",
    "**kwargs: position doesn't matter, it's name does\n",
    "**dict_: another way to say **kwargs, can be named whatever you want"
   ]
  },
  {
   "cell_type": "code",
   "execution_count": null,
   "id": "48c5525e",
   "metadata": {
    "scrolled": true
   },
   "outputs": [],
   "source": []
  },
  {
   "cell_type": "markdown",
   "id": "daf6126f",
   "metadata": {
    "lang": "en"
   },
   "source": [
    "## Order Matters\n",
    "The order of the parameters when defining a function matters...\n",
    "```python\n",
    "def example(arg1, arg2, *args,**kwargs)\n",
    "```"
   ]
  },
  {
   "cell_type": "code",
   "execution_count": null,
   "id": "eeacb161",
   "metadata": {
    "scrolled": true
   },
   "outputs": [],
   "source": []
  },
  {
   "cell_type": "markdown",
   "id": "28a2d72b",
   "metadata": {
    "lang": "en"
   },
   "source": [
    "## Lambda\n",
    "A lambda function is an anonymous function, with no identifier, that can be declared in place. Since we can take functions as arguments and assign them to variables, the notation that makes it possible to create lambda functions is very handy in many cases.\n",
    "### Syntax of a lambda\n",
    "```python\n",
    "lambda <param list>:<return expression>\n",
    "```\n",
    "### lambda examples"
   ]
  },
  {
   "cell_type": "code",
   "execution_count": null,
   "id": "11ce5084",
   "metadata": {
    "scrolled": true
   },
   "outputs": [],
   "source": []
  },
  {
   "cell_type": "markdown",
   "id": "85df84e3",
   "metadata": {
    "lang": "en"
   },
   "source": [
    "It is also possible to use these anonymous functions as arguments in calls to other functions. For example, in a call to sorted() or list.sort() we can use a lambda function as an argument to the key parameter:"
   ]
  },
  {
   "cell_type": "code",
   "execution_count": null,
   "id": "fe9ca7fb",
   "metadata": {
    "scrolled": true
   },
   "outputs": [],
   "source": []
  },
  {
   "cell_type": "markdown",
   "id": "b8f268d7",
   "metadata": {
    "lang": "en"
   },
   "source": [
    "Lastly, if we want to return the result of a function to another function, we can use any known function in the scope of the returning function, or use a lambda function:"
   ]
  },
  {
   "cell_type": "markdown",
   "id": "f90508d9",
   "metadata": {
    "lang": "en"
   },
   "source": [
    "## Recursion\n",
    "It is called recursive call (or recursion), to those functions that in their algorithm, refer to itself.\n",
    "\n",
    "Recursive calls are usually very useful in very specific cases, but due to their great feasibility of falling into infinite iterations, adequate preventive measures should be taken and only used when strictly necessary and there is no viable alternative way to solve the problem. avoiding recursion.\n",
    "\n",
    "Python supports recursive calls, allowing a function to call itself, just as it does when calling another function."
   ]
  },
  {
   "cell_type": "code",
   "execution_count": null,
   "id": "laden-advocacy",
   "metadata": {
    "scrolled": true
   },
   "outputs": [],
   "source": []
  },
  {
   "cell_type": "markdown",
   "id": "4cb268d0",
   "metadata": {
    "lang": "en"
   },
   "source": [
    "## Summary\n",
    "It's your turn. What have we learned today?"
   ]
  },
  {
   "cell_type": "code",
   "execution_count": null,
   "id": "4d484528",
   "metadata": {
    "scrolled": true
   },
   "outputs": [],
   "source": []
  }
 ],
 "metadata": {
  "kernelspec": {
   "display_name": "ironhack",
   "language": "python",
   "name": "ironhack"
  },
  "language_info": {
   "codemirror_mode": {
    "name": "ipython",
    "version": 3
   },
   "file_extension": ".py",
   "mimetype": "text/x-python",
   "name": "python",
   "nbconvert_exporter": "python",
   "pygments_lexer": "ipython3",
   "version": "3.8.13"
  },
  "nbTranslate": {
   "displayLangs": [
    "en",
    "es"
   ],
   "hotkey": "alt-a",
   "langInMainMenu": true,
   "sourceLang": "es",
   "targetLang": "en",
   "useGoogleTranslate": true
  },
  "toc": {
   "base_numbering": 1,
   "nav_menu": {},
   "number_sections": true,
   "sideBar": true,
   "skip_h1_title": true,
   "title_cell": "Table of Contents",
   "title_sidebar": "Contents",
   "toc_cell": true,
   "toc_position": {
    "height": "calc(100% - 180px)",
    "left": "10px",
    "top": "150px",
    "width": "288px"
   },
   "toc_section_display": true,
   "toc_window_display": false
  }
 },
 "nbformat": 4,
 "nbformat_minor": 5
}
