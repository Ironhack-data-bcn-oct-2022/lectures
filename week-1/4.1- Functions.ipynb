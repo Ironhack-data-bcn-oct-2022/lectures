{
 "cells": [
  {
   "cell_type": "markdown",
   "id": "9eb0f57b",
   "metadata": {
    "lang": "en"
   },
   "source": [
    "# Functional Programming"
   ]
  },
  {
   "cell_type": "markdown",
   "id": "conceptual-behalf",
   "metadata": {},
   "source": [
    "![elgif](https://media.giphy.com/media/CuMiNoTRz2bYc/giphy.gif)"
   ]
  },
  {
   "cell_type": "markdown",
   "id": "incorrect-serum",
   "metadata": {
    "toc": true
   },
   "source": [
    "<h1>Table of Contents<span class=\"tocSkip\"></span></h1>\n",
    "<div class=\"toc\"><ul class=\"toc-item\"><li><span><a href=\"#Your-contributions-🚀\" data-toc-modified-id=\"Your-contributions-🚀-1\"><span class=\"toc-item-num\">1&nbsp;&nbsp;</span>Your contributions 🚀</a></span></li><li><span><a href=\"#What-is-functional-programming?\" data-toc-modified-id=\"What-is-functional-programming?-2\"><span class=\"toc-item-num\">2&nbsp;&nbsp;</span>What is functional programming?</a></span></li><li><span><a href=\"#Built-in-functions\" data-toc-modified-id=\"Built-in-functions-3\"><span class=\"toc-item-num\">3&nbsp;&nbsp;</span>Built-in functions</a></span></li><li><span><a href=\"#Extract-the-source-code-of-a-function\" data-toc-modified-id=\"Extract-the-source-code-of-a-function-4\"><span class=\"toc-item-num\">4&nbsp;&nbsp;</span>Extract the source code of a function</a></span></li><li><span><a href=\"#Function-Syntax\" data-toc-modified-id=\"Function-Syntax-5\"><span class=\"toc-item-num\">5&nbsp;&nbsp;</span>Function Syntax</a></span></li><li><span><a href=\"#Parameters-vs-Arguments\" data-toc-modified-id=\"Parameters-vs-Arguments-6\"><span class=\"toc-item-num\">6&nbsp;&nbsp;</span>Parameters vs Arguments</a></span></li><li><span><a href=\"#Functions-that-have-no-parameters\" data-toc-modified-id=\"Functions-that-have-no-parameters-7\"><span class=\"toc-item-num\">7&nbsp;&nbsp;</span>Functions that have no parameters</a></span></li><li><span><a href=\"#Functions-that-have-no-return\" data-toc-modified-id=\"Functions-that-have-no-return-8\"><span class=\"toc-item-num\">8&nbsp;&nbsp;</span>Functions that have no return</a></span></li><li><span><a href=\"#Let's-write-functions\" data-toc-modified-id=\"Let's-write-functions-9\"><span class=\"toc-item-num\">9&nbsp;&nbsp;</span>Let's write functions</a></span></li><li><span><a href=\"#Default-parameters\" data-toc-modified-id=\"Default-parameters-10\"><span class=\"toc-item-num\">10&nbsp;&nbsp;</span>Default parameters</a></span></li><li><span><a href=\"#PLEASE-don't-confuse-PRINTs-inside-a-function-with-RETURNs!\" data-toc-modified-id=\"PLEASE-don't-confuse-PRINTs-inside-a-function-with-RETURNs!-11\"><span class=\"toc-item-num\">11&nbsp;&nbsp;</span>PLEASE don't confuse PRINTs inside a function with RETURNs!</a></span></li><li><span><a href=\"#Docstring\" data-toc-modified-id=\"Docstring-12\"><span class=\"toc-item-num\">12&nbsp;&nbsp;</span>Docstring</a></span></li><li><span><a href=\"#Scope-of-functions\" data-toc-modified-id=\"Scope-of-functions-13\"><span class=\"toc-item-num\">13&nbsp;&nbsp;</span>Scope of functions</a></span></li><li><span><a href=\"#Mini-recap\" data-toc-modified-id=\"Mini-recap-14\"><span class=\"toc-item-num\">14&nbsp;&nbsp;</span>Mini recap</a></span></li><li><span><a href=\"#*Args\" data-toc-modified-id=\"*Args-15\"><span class=\"toc-item-num\">15&nbsp;&nbsp;</span>*Args</a></span></li><li><span><a href=\"#**Kwargs\" data-toc-modified-id=\"**Kwargs-16\"><span class=\"toc-item-num\">16&nbsp;&nbsp;</span>**Kwargs</a></span><ul class=\"toc-item\"><li><span><a href=\"#Just-*args\" data-toc-modified-id=\"Just-*args-16.1\"><span class=\"toc-item-num\">16.1&nbsp;&nbsp;</span>Just *args</a></span></li><li><span><a href=\"#With-*kwargs\" data-toc-modified-id=\"With-*kwargs-16.2\"><span class=\"toc-item-num\">16.2&nbsp;&nbsp;</span>With *kwargs</a></span></li><li><span><a href=\"#Scenario-1:-Calling-the-dictionary\" data-toc-modified-id=\"Scenario-1:-Calling-the-dictionary-16.3\"><span class=\"toc-item-num\">16.3&nbsp;&nbsp;</span>Scenario 1: Calling the dictionary</a></span></li><li><span><a href=\"#Scenario-2:-using-**kwargs\" data-toc-modified-id=\"Scenario-2:-using-**kwargs-16.4\"><span class=\"toc-item-num\">16.4&nbsp;&nbsp;</span>Scenario 2: using **kwargs</a></span></li></ul></li><li><span><a href=\"#Order-Matters\" data-toc-modified-id=\"Order-Matters-17\"><span class=\"toc-item-num\">17&nbsp;&nbsp;</span>Order Matters</a></span></li><li><span><a href=\"#Lambda\" data-toc-modified-id=\"Lambda-18\"><span class=\"toc-item-num\">18&nbsp;&nbsp;</span>Lambda</a></span><ul class=\"toc-item\"><li><span><a href=\"#Syntax-of-a-lambda\" data-toc-modified-id=\"Syntax-of-a-lambda-18.1\"><span class=\"toc-item-num\">18.1&nbsp;&nbsp;</span>Syntax of a lambda</a></span></li><li><span><a href=\"#lambda-examples\" data-toc-modified-id=\"lambda-examples-18.2\"><span class=\"toc-item-num\">18.2&nbsp;&nbsp;</span>lambda examples</a></span></li></ul></li><li><span><a href=\"#Recursion\" data-toc-modified-id=\"Recursion-19\"><span class=\"toc-item-num\">19&nbsp;&nbsp;</span>Recursion</a></span></li><li><span><a href=\"#Summary\" data-toc-modified-id=\"Summary-20\"><span class=\"toc-item-num\">20&nbsp;&nbsp;</span>Summary</a></span></li></ul></div>"
   ]
  },
  {
   "cell_type": "markdown",
   "id": "c8dbbad6",
   "metadata": {
    "lang": "en"
   },
   "source": [
    "## Your contributions 🚀\n",
    "What do you think functions do/what properties do they have? Whare they useful for?"
   ]
  },
  {
   "cell_type": "markdown",
   "id": "4d00796e",
   "metadata": {},
   "source": [
    "- code that does something specific\n",
    "- you can call it\n",
    "- it can return things\n",
    "- long piece of code -> not repeating code \n",
    "- **re-usable**\n",
    "- you can return and | you can print\n",
    "- you can not return and you can not print\n",
    "- built-in, user-defined functions, lambda (key=lambda x: x[1])\n",
    "- To define functions:\n",
    "    - ```python\n",
    "           def name ():\n",
    "                pass\n",
    "       ```\n",
    "    - name ()"
   ]
  },
  {
   "cell_type": "markdown",
   "id": "199cb1a8",
   "metadata": {
    "lang": "en"
   },
   "source": [
    "## What is functional programming?\n",
    "What does it mean that Python is multi-paradigm?\n",
    "According to Wikipedia:\n",
    "\n",
    "“Python is an interpreted programming language whose philosophy emphasizes the readability of its code. It is a multiparadigm programming language, since it supports object orientation, imperative programming and, to a lesser extent, functional programming.\n",
    "\n",
    "It means that it accepts different ways of working with language. Basically there are 3 predominant paradigms, or in other words, 3 global formats to organize a code.\n",
    "\n",
    "**Imperative programming (structured)**: the code will be executed from the beginning of the file to the end without following any type of deviation. Its biggest advantage lies in its simplicity and low weight. Its danger is the spaghetti code, files with hundreds or thousands of lines where only a few human beings are able to modify and emerge victorious.\n",
    "\n",
    "**Object Oriented Programming (OOP or Object Oriented Programming)**: where variables and functions are encapsulated in small modules capable of being cloned and modified. Its strong point is the ability to reuse and isolate to avoid problems with other features. The negative part lies in the complexity of creating good objects and debugging.\n",
    "\n",
    "**Functional programming (FP or Functional programming)**: where the code is divided into simple functions capable of being invoked with variables or other functions. Its ease of use by atomicity achieves robust maintainability and compatibility with almost any language. In addition, its immutability of variables avoids many of the problems that object-oriented programming suffers."
   ]
  },
  {
   "cell_type": "markdown",
   "id": "7f89fd70",
   "metadata": {
    "lang": "en"
   },
   "source": [
    "## Built-in functions"
   ]
  },
  {
   "cell_type": "markdown",
   "id": "80919246",
   "metadata": {
    "lang": "en"
   },
   "source": [
    "The Python interpreter has a number of built-in functions and types that are always available. They are listed [here](https://docs.python.org/3/library/functions.html) in alphabetical order."
   ]
  },
  {
   "cell_type": "code",
   "execution_count": 49,
   "id": "f8d4ac6e",
   "metadata": {},
   "outputs": [
    {
     "data": {
      "text/plain": [
       "'Sdsds'"
      ]
     },
     "execution_count": 49,
     "metadata": {},
     "output_type": "execute_result"
    }
   ],
   "source": [
    "\"sdsds\".capitalize()"
   ]
  },
  {
   "cell_type": "code",
   "execution_count": 50,
   "id": "edfccc31",
   "metadata": {},
   "outputs": [],
   "source": [
    "my_list = [1, 2]\n",
    "a_string = \"Hello!\"\n",
    "\n",
    "my_list.append(a_string)"
   ]
  },
  {
   "cell_type": "code",
   "execution_count": 51,
   "id": "7c4053f4",
   "metadata": {},
   "outputs": [
    {
     "data": {
      "text/plain": [
       "[1, 2, 'Hello!']"
      ]
     },
     "execution_count": 51,
     "metadata": {},
     "output_type": "execute_result"
    }
   ],
   "source": [
    "my_list"
   ]
  },
  {
   "cell_type": "code",
   "execution_count": null,
   "id": "8b159633",
   "metadata": {
    "scrolled": true
   },
   "outputs": [],
   "source": [
    "5\n",
    "[1, 2]"
   ]
  },
  {
   "cell_type": "markdown",
   "id": "3ea6d549",
   "metadata": {
    "lang": "en"
   },
   "source": [
    "## Extract the source code of a function\n",
    "While we're talking about built-ints, out of curiosity, if we need to extract the code from a previously written function..."
   ]
  },
  {
   "cell_type": "code",
   "execution_count": 57,
   "id": "08fa9088",
   "metadata": {
    "scrolled": true
   },
   "outputs": [],
   "source": [
    "def greetings ():\n",
    "    \"\"\"This function returns a string that says Hello\n",
    "    \"\"\"\n",
    "    return \"Hello!\""
   ]
  },
  {
   "cell_type": "code",
   "execution_count": 59,
   "id": "165b08ea",
   "metadata": {},
   "outputs": [
    {
     "data": {
      "text/plain": [
       "'Hello!'"
      ]
     },
     "execution_count": 59,
     "metadata": {},
     "output_type": "execute_result"
    }
   ],
   "source": [
    "greetings()"
   ]
  },
  {
   "cell_type": "code",
   "execution_count": 61,
   "id": "2c895d02",
   "metadata": {},
   "outputs": [
    {
     "name": "stdout",
     "output_type": "stream",
     "text": [
      "def greetings ():\n",
      "    \"\"\"This function returns a string that says Hello\n",
      "    \"\"\"\n",
      "    return \"Hello!\"\n",
      "\n"
     ]
    }
   ],
   "source": [
    "import inspect\n",
    "print(inspect.getsource(greetings))"
   ]
  },
  {
   "cell_type": "markdown",
   "id": "d36c02f5",
   "metadata": {
    "lang": "en"
   },
   "source": [
    "In case of built-in functions we can't extract the code with inspect, since Python itself is written in C... the Print function looks like this 👇🏻"
   ]
  },
  {
   "cell_type": "markdown",
   "id": "through-silicon",
   "metadata": {},
   "source": [
    "```C\n",
    "static PyObject *\n",
    "builtin_print(PyObject *self, PyObject *args, PyObject *kwds)\n",
    "{\n",
    "    static char *kwlist[] = {\"sep\", \"end\", \"file\", 0};\n",
    "    static PyObject *dummy_args = NULL;\n",
    "    static PyObject *unicode_newline = NULL, *unicode_space = NULL;\n",
    "    static PyObject *str_newline = NULL, *str_space = NULL;\n",
    "    PyObject *newline, *space;\n",
    "    PyObject *sep = NULL, *end = NULL, *file = NULL;\n",
    "    int i, err, use_unicode = 0;\n",
    "\n",
    "    if (dummy_args == NULL) {\n",
    "        if (!(dummy_args = PyTuple_New(0)))\n",
    "            return NULL;\n",
    "    }\n",
    "    if (str_newline == NULL) {\n",
    "        str_newline = PyString_FromString(\"\\n\");\n",
    "        if (str_newline == NULL)\n",
    "            return NULL;\n",
    "        str_space = PyString_FromString(\" \");\n",
    "        if (str_space == NULL) {\n",
    "            Py_CLEAR(str_newline);\n",
    "            return NULL;\n",
    "        }\n",
    "#ifdef Py_USING_UNICODE\n",
    "        unicode_newline = PyUnicode_FromString(\"\\n\");\n",
    "        if (unicode_newline == NULL) {\n",
    "            Py_CLEAR(str_newline);\n",
    "            Py_CLEAR(str_space);\n",
    "            return NULL;\n",
    "        }\n",
    "        unicode_space = PyUnicode_FromString(\" \");\n",
    "        if (unicode_space == NULL) {\n",
    "            Py_CLEAR(str_newline);\n",
    "            Py_CLEAR(str_space);\n",
    "            Py_CLEAR(unicode_space);\n",
    "            return NULL;\n",
    "        }\n",
    "#endif\n",
    "    }\n",
    "    if (!PyArg_ParseTupleAndKeywords(dummy_args, kwds, \"|OOO:print\",\n",
    "                                     kwlist, &sep, &end, &file))\n",
    "        return NULL;\n",
    "    if (file == NULL || file == Py_None) {\n",
    "        file = PySys_GetObject(\"stdout\");\n",
    "        /* sys.stdout may be None when FILE* stdout isn't connected */\n",
    "        if (file == Py_None)\n",
    "            Py_RETURN_NONE;\n",
    "    }\n",
    "    if (sep == Py_None) {\n",
    "        sep = NULL;\n",
    "    }\n",
    "    else if (sep) {\n",
    "        if (PyUnicode_Check(sep)) {\n",
    "            use_unicode = 1;\n",
    "        }\n",
    "        else if (!PyString_Check(sep)) {\n",
    "            PyErr_Format(PyExc_TypeError,\n",
    "                         \"sep must be None, str or unicode, not %.200s\",\n",
    "                         sep->ob_type->tp_name);\n",
    "            return NULL;\n",
    "        }\n",
    "    }\n",
    "    if (end == Py_None)\n",
    "        end = NULL;\n",
    "    else if (end) {\n",
    "        if (PyUnicode_Check(end)) {\n",
    "            use_unicode = 1;\n",
    "        }\n",
    "        else if (!PyString_Check(end)) {\n",
    "            PyErr_Format(PyExc_TypeError,\n",
    "                         \"end must be None, str or unicode, not %.200s\",\n",
    "                         end->ob_type->tp_name);\n",
    "            return NULL;\n",
    "        }\n",
    "    }\n",
    "\n",
    "    if (!use_unicode) {\n",
    "        for (i = 0; i < PyTuple_Size(args); i++) {\n",
    "            if (PyUnicode_Check(PyTuple_GET_ITEM(args, i))) {\n",
    "                use_unicode = 1;\n",
    "                break;\n",
    "            }\n",
    "        }\n",
    "    }\n",
    "    if (use_unicode) {\n",
    "        newline = unicode_newline;\n",
    "        space = unicode_space;\n",
    "    }\n",
    "    else {\n",
    "        newline = str_newline;\n",
    "        space = str_space;\n",
    "    }\n",
    "\n",
    "    for (i = 0; i < PyTuple_Size(args); i++) {\n",
    "        if (i > 0) {\n",
    "            if (sep == NULL)\n",
    "                err = PyFile_WriteObject(space, file,\n",
    "                                         Py_PRINT_RAW);\n",
    "            else\n",
    "                err = PyFile_WriteObject(sep, file,\n",
    "                                         Py_PRINT_RAW);\n",
    "            if (err)\n",
    "                return NULL;\n",
    "        }\n",
    "        err = PyFile_WriteObject(PyTuple_GetItem(args, i), file,\n",
    "                                 Py_PRINT_RAW);\n",
    "        if (err)\n",
    "            return NULL;\n",
    "    }\n",
    "\n",
    "    if (end == NULL)\n",
    "        err = PyFile_WriteObject(newline, file, Py_PRINT_RAW);\n",
    "    else\n",
    "        err = PyFile_WriteObject(end, file, Py_PRINT_RAW);\n",
    "    if (err)\n",
    "        return NULL;\n",
    "\n",
    "    Py_RETURN_NONE;\n",
    "}\n",
    "```"
   ]
  },
  {
   "cell_type": "code",
   "execution_count": 62,
   "id": "dda036e0",
   "metadata": {
    "scrolled": true
   },
   "outputs": [
    {
     "name": "stdout",
     "output_type": "stream",
     "text": [
      "3\n"
     ]
    }
   ],
   "source": [
    "a = 3\n",
    "print(a)"
   ]
  },
  {
   "cell_type": "code",
   "execution_count": 66,
   "id": "4d4f3aac",
   "metadata": {},
   "outputs": [
    {
     "name": "stdout",
     "output_type": "stream",
     "text": [
      "def greetings ():\n",
      "    \"\"\"This function returns a string that says Hello\n",
      "    \"\"\"\n",
      "    return \"Hello!\"\n",
      "\n"
     ]
    }
   ],
   "source": [
    "print(inspect.getsource(greetings))"
   ]
  },
  {
   "cell_type": "markdown",
   "id": "85d6428d",
   "metadata": {
    "lang": "en"
   },
   "source": [
    "## Function Syntax\n",
    "\n",
    "Syntax for defining a function:\n",
    "```python\n",
    "\n",
    "def name_function(input params):\n",
    "    # the colon and the indentation imply being in the function\n",
    "    take an action\n",
    "    return() # return a certain value\n",
    "\n",
    "```\n",
    "\n",
    "Function execution:\n",
    "```python\n",
    "name_of_the_function(argument1, argument2, ...)\n",
    "```\n",
    "or, if you want to save the result in a variable\n",
    "```python\n",
    "result = name_of_the_function(argument1, argument2, ...)\n",
    "```"
   ]
  },
  {
   "cell_type": "code",
   "execution_count": 68,
   "id": "90732051",
   "metadata": {},
   "outputs": [],
   "source": [
    "# Functions can do things And return or not \n",
    "# Return when: \n",
    "    # want to store/save the value of something\n",
    "    # operate with that value"
   ]
  },
  {
   "cell_type": "code",
   "execution_count": 69,
   "id": "4a7d77dd",
   "metadata": {},
   "outputs": [],
   "source": [
    "# Downloads a file\n",
    "    # NO RETURN: it just downloads\n",
    "    # RETURNS the downloaded file: downloads it AND saves it so that you can open it"
   ]
  },
  {
   "cell_type": "markdown",
   "id": "f2c07b7a",
   "metadata": {
    "lang": "en"
   },
   "source": [
    "## Parameters vs Arguments\n",
    "Formal parameters for a function are listed in the function declaration and used in the body of the function definition.\n",
    "\n",
    "An argument is what is used when referring to parameters. When you write a function call, the arguments are listed in parentheses after the function name. When the function call is executed, the arguments are inserted for the parameters.\n",
    "\n",
    "Let's say then that the parameters are those \"imaginary\" variables that will have the same name in the definition and in the body of the function.\n",
    "The arguments are the REAL DATA that we use when we call the function."
   ]
  },
  {
   "cell_type": "code",
   "execution_count": 72,
   "id": "22a0265f",
   "metadata": {
    "scrolled": true
   },
   "outputs": [],
   "source": [
    "def greetings ():\n",
    "    return \"Hello!\""
   ]
  },
  {
   "cell_type": "code",
   "execution_count": 73,
   "id": "c7d34917",
   "metadata": {},
   "outputs": [
    {
     "data": {
      "text/plain": [
       "'Hello!'"
      ]
     },
     "execution_count": 73,
     "metadata": {},
     "output_type": "execute_result"
    }
   ],
   "source": [
    "greetings()"
   ]
  },
  {
   "cell_type": "code",
   "execution_count": 71,
   "id": "aeee8673",
   "metadata": {},
   "outputs": [],
   "source": [
    "def greetin_name (name): #param\n",
    "    return f\"This is my {name}\" "
   ]
  },
  {
   "cell_type": "code",
   "execution_count": 74,
   "id": "2be5c574",
   "metadata": {},
   "outputs": [
    {
     "data": {
      "text/plain": [
       "'This is my Sam'"
      ]
     },
     "execution_count": 74,
     "metadata": {},
     "output_type": "execute_result"
    }
   ],
   "source": [
    "greetin_name(\"Sam\") #argument"
   ]
  },
  {
   "cell_type": "code",
   "execution_count": 75,
   "id": "d392cfd9",
   "metadata": {},
   "outputs": [
    {
     "ename": "TypeError",
     "evalue": "greetin_name() missing 1 required positional argument: 'name'",
     "output_type": "error",
     "traceback": [
      "\u001b[0;31m---------------------------------------------------------------------------\u001b[0m",
      "\u001b[0;31mTypeError\u001b[0m                                 Traceback (most recent call last)",
      "Input \u001b[0;32mIn [75]\u001b[0m, in \u001b[0;36m<cell line: 1>\u001b[0;34m()\u001b[0m\n\u001b[0;32m----> 1\u001b[0m \u001b[43mgreetin_name\u001b[49m\u001b[43m(\u001b[49m\u001b[43m)\u001b[49m\n",
      "\u001b[0;31mTypeError\u001b[0m: greetin_name() missing 1 required positional argument: 'name'"
     ]
    }
   ],
   "source": [
    "greetin_name()"
   ]
  },
  {
   "cell_type": "code",
   "execution_count": null,
   "id": "b95a6b84",
   "metadata": {},
   "outputs": [],
   "source": [
    "# ID\n",
    "    # name: param\n",
    "    # DOB: param\n",
    "    \n",
    "    #Sam: argument\n",
    "    #1995: argument"
   ]
  },
  {
   "cell_type": "code",
   "execution_count": 4,
   "id": "a2eb7cb1",
   "metadata": {},
   "outputs": [],
   "source": [
    "# Q: can I use variables outside of a function\n",
    "# A: yes\n",
    "\n",
    "\n",
    "# Variables outisde of a function can be accessed in the inside\n",
    "num = 10\n",
    "\n",
    "def addition (a):\n",
    "    return a + num"
   ]
  },
  {
   "cell_type": "code",
   "execution_count": 7,
   "id": "fe2c71c8",
   "metadata": {},
   "outputs": [],
   "source": [
    "# Q: if you import, what happens to outside variables?\n",
    "\n",
    "# You can import functions from other files\n",
    "# Variables declared on the code, outside of functions, you need to have them"
   ]
  },
  {
   "cell_type": "code",
   "execution_count": 8,
   "id": "295ae118",
   "metadata": {},
   "outputs": [
    {
     "data": {
      "text/plain": [
       "15"
      ]
     },
     "execution_count": 8,
     "metadata": {},
     "output_type": "execute_result"
    }
   ],
   "source": [
    "addition (5)"
   ]
  },
  {
   "cell_type": "markdown",
   "id": "a7bd2e8f",
   "metadata": {},
   "source": [
    "What function returns is just _\"the return\"_\n",
    "We can return as many things as we want"
   ]
  },
  {
   "cell_type": "markdown",
   "id": "f4adbaec",
   "metadata": {
    "lang": "en"
   },
   "source": [
    "## Functions that have no parameters"
   ]
  },
  {
   "cell_type": "code",
   "execution_count": 11,
   "id": "210ebf77",
   "metadata": {
    "scrolled": true
   },
   "outputs": [
    {
     "data": {
      "text/plain": [
       "'Hello'"
      ]
     },
     "execution_count": 11,
     "metadata": {},
     "output_type": "execute_result"
    }
   ],
   "source": [
    "def greeting ():\n",
    "    return \"Hello\"\n",
    "\n",
    "greeting()"
   ]
  },
  {
   "cell_type": "code",
   "execution_count": 13,
   "id": "be2fceb0",
   "metadata": {},
   "outputs": [],
   "source": [
    "def greeting_name (name):\n",
    "    return f\"Hello my name is {name}\""
   ]
  },
  {
   "cell_type": "code",
   "execution_count": 14,
   "id": "ebe1f895",
   "metadata": {},
   "outputs": [
    {
     "data": {
      "text/plain": [
       "'Hello my name is Sam'"
      ]
     },
     "execution_count": 14,
     "metadata": {},
     "output_type": "execute_result"
    }
   ],
   "source": [
    "greeting_name(\"Sam\")"
   ]
  },
  {
   "cell_type": "code",
   "execution_count": 15,
   "id": "e4c953e6",
   "metadata": {},
   "outputs": [
    {
     "data": {
      "text/plain": [
       "'Hello my name is Venice'"
      ]
     },
     "execution_count": 15,
     "metadata": {},
     "output_type": "execute_result"
    }
   ],
   "source": [
    "greeting_name(\"Venice\")"
   ]
  },
  {
   "cell_type": "code",
   "execution_count": 16,
   "id": "15e961fe",
   "metadata": {},
   "outputs": [
    {
     "data": {
      "text/plain": [
       "'Hello my name is Clara'"
      ]
     },
     "execution_count": 16,
     "metadata": {},
     "output_type": "execute_result"
    }
   ],
   "source": [
    "greeting_name(\"Clara\")"
   ]
  },
  {
   "cell_type": "code",
   "execution_count": 17,
   "id": "da8eaea8",
   "metadata": {},
   "outputs": [
    {
     "data": {
      "text/plain": [
       "'Hello my name is Laura'"
      ]
     },
     "execution_count": 17,
     "metadata": {},
     "output_type": "execute_result"
    }
   ],
   "source": [
    "greeting_name(\"Laura\")"
   ]
  },
  {
   "cell_type": "markdown",
   "id": "e39c76af",
   "metadata": {
    "lang": "en"
   },
   "source": [
    "## Functions that have no return\n",
    "They do \"stuff\" but they don't return anything... and if a function doesn't have a return, then it returns:\n",
    "```python\n",
    "None\n",
    "```"
   ]
  },
  {
   "cell_type": "code",
   "execution_count": 35,
   "id": "4001a15b",
   "metadata": {
    "scrolled": true
   },
   "outputs": [],
   "source": [
    "import os\n",
    "\n",
    "def random_function_that_prints ():\n",
    "    return print(\"Hello this doesn't do anything\")"
   ]
  },
  {
   "cell_type": "code",
   "execution_count": 36,
   "id": "f5bf0471",
   "metadata": {},
   "outputs": [
    {
     "name": "stdout",
     "output_type": "stream",
     "text": [
      "Hello this doesn't do anything\n"
     ]
    }
   ],
   "source": [
    "random_function_that_prints()"
   ]
  },
  {
   "cell_type": "code",
   "execution_count": 37,
   "id": "4ec5d642",
   "metadata": {},
   "outputs": [
    {
     "data": {
      "text/plain": [
       "function"
      ]
     },
     "execution_count": 37,
     "metadata": {},
     "output_type": "execute_result"
    }
   ],
   "source": [
    "type(random_function_that_prints)"
   ]
  },
  {
   "cell_type": "code",
   "execution_count": 38,
   "id": "7377d6b9",
   "metadata": {},
   "outputs": [
    {
     "name": "stdout",
     "output_type": "stream",
     "text": [
      "Hello this doesn't do anything\n"
     ]
    }
   ],
   "source": [
    "result_of_function = random_function_that_prints()"
   ]
  },
  {
   "cell_type": "code",
   "execution_count": 40,
   "id": "58511a4b",
   "metadata": {},
   "outputs": [
    {
     "data": {
      "text/plain": [
       "NoneType"
      ]
     },
     "execution_count": 40,
     "metadata": {},
     "output_type": "execute_result"
    }
   ],
   "source": [
    "type(result_of_function) # there's no return, there's a print or returning a print"
   ]
  },
  {
   "cell_type": "code",
   "execution_count": null,
   "id": "19f4d507",
   "metadata": {},
   "outputs": [],
   "source": [
    "NoneType should be 3\n",
    "NoneType -> is not suscriptable\n",
    "\n",
    "# you might have a print\n",
    "# you might no return\n",
    "# returning a print"
   ]
  },
  {
   "cell_type": "code",
   "execution_count": 41,
   "id": "023e6b79",
   "metadata": {},
   "outputs": [],
   "source": [
    "def addition (a, b):\n",
    "    sum_ = a + b\n",
    "    return f\"{sum_}\""
   ]
  },
  {
   "cell_type": "code",
   "execution_count": 43,
   "id": "0005b2d1",
   "metadata": {},
   "outputs": [
    {
     "data": {
      "text/plain": [
       "'7'"
      ]
     },
     "execution_count": 43,
     "metadata": {},
     "output_type": "execute_result"
    }
   ],
   "source": [
    "addition(3, 4)"
   ]
  },
  {
   "cell_type": "code",
   "execution_count": 44,
   "id": "12c0f758",
   "metadata": {},
   "outputs": [
    {
     "data": {
      "text/plain": [
       "function"
      ]
     },
     "execution_count": 44,
     "metadata": {},
     "output_type": "execute_result"
    }
   ],
   "source": [
    "type(addition)"
   ]
  },
  {
   "cell_type": "code",
   "execution_count": 47,
   "id": "c0b69814",
   "metadata": {},
   "outputs": [
    {
     "data": {
      "text/plain": [
       "'7'"
      ]
     },
     "execution_count": 47,
     "metadata": {},
     "output_type": "execute_result"
    }
   ],
   "source": [
    "the_result = addition(3, 4)\n",
    "the_result"
   ]
  },
  {
   "cell_type": "code",
   "execution_count": 48,
   "id": "ee8ca9e5",
   "metadata": {},
   "outputs": [
    {
     "data": {
      "text/plain": [
       "str"
      ]
     },
     "execution_count": 48,
     "metadata": {},
     "output_type": "execute_result"
    }
   ],
   "source": [
    "type(the_result)"
   ]
  },
  {
   "cell_type": "code",
   "execution_count": 49,
   "id": "b12b393e",
   "metadata": {},
   "outputs": [],
   "source": [
    "random_string = \" hello ! tHis is A stringg _\"\n",
    "\n",
    "# remove spaces\n",
    "# get rid of exclamation marks\n",
    "# underscore\n",
    "# Capitalize it"
   ]
  },
  {
   "cell_type": "code",
   "execution_count": 77,
   "id": "275f29b3",
   "metadata": {},
   "outputs": [],
   "source": [
    "def clean_string (text):\n",
    "    text = text.replace(\"!\", \"\").replace(\"_\", \"\")\n",
    "    text = text.strip() # spaces\n",
    "    text = text.capitalize()\n",
    "    \n",
    "    return text"
   ]
  },
  {
   "cell_type": "code",
   "execution_count": 78,
   "id": "0abc6ebc",
   "metadata": {},
   "outputs": [
    {
     "data": {
      "text/plain": [
       "'Hello  this is a stringg'"
      ]
     },
     "execution_count": 78,
     "metadata": {},
     "output_type": "execute_result"
    }
   ],
   "source": [
    "clean_string (random_string)"
   ]
  },
  {
   "cell_type": "code",
   "execution_count": 72,
   "id": "b1ec8b6f",
   "metadata": {},
   "outputs": [
    {
     "data": {
      "text/plain": [
       "'Ubwbgybjh'"
      ]
     },
     "execution_count": 72,
     "metadata": {},
     "output_type": "execute_result"
    }
   ],
   "source": [
    "clean_string (\"  uBwb__GYBjH !!!!   \")"
   ]
  },
  {
   "cell_type": "code",
   "execution_count": 89,
   "id": "072d3399",
   "metadata": {},
   "outputs": [],
   "source": [
    "# A function (clean_string_2) that returns \n",
    "    # Because it returns SOMETHING\n",
    "    # That SOMETHING I can operate later on"
   ]
  },
  {
   "cell_type": "code",
   "execution_count": 91,
   "id": "9789e0b6",
   "metadata": {},
   "outputs": [],
   "source": [
    "def clean_string_2 (text):\n",
    "    return text.replace(\"!\", \"_\").replace(\"_\", \"\").strip().capitalize()"
   ]
  },
  {
   "cell_type": "code",
   "execution_count": 92,
   "id": "ff77964d",
   "metadata": {},
   "outputs": [
    {
     "data": {
      "text/plain": [
       "'Ubwbgybjh'"
      ]
     },
     "execution_count": 92,
     "metadata": {},
     "output_type": "execute_result"
    }
   ],
   "source": [
    "clean_string_2 (\"  uBwb__GYBjH !!!!   \")"
   ]
  },
  {
   "cell_type": "code",
   "execution_count": 93,
   "id": "74420aee",
   "metadata": {},
   "outputs": [],
   "source": [
    "clean_string_2_variable = clean_string_2 (\"  uBwb__GYBjH !!!!   \")"
   ]
  },
  {
   "cell_type": "code",
   "execution_count": 94,
   "id": "76e8f4ce",
   "metadata": {},
   "outputs": [
    {
     "data": {
      "text/plain": [
       "'UBWBGYBJH'"
      ]
     },
     "execution_count": 94,
     "metadata": {},
     "output_type": "execute_result"
    }
   ],
   "source": [
    "clean_string_2_variable.upper()"
   ]
  },
  {
   "cell_type": "code",
   "execution_count": 90,
   "id": "45a65bfa",
   "metadata": {},
   "outputs": [],
   "source": [
    "# A function (clean_string_3)that JUST PRINTAS\n",
    "    # Because it DOESN'T return ANYTHING\n",
    "    # That ANYTHING I cannot operate later on"
   ]
  },
  {
   "cell_type": "code",
   "execution_count": 85,
   "id": "7192f7b3",
   "metadata": {},
   "outputs": [],
   "source": [
    "def clean_string_3 (text):\n",
    "    print(text.replace(\"!\", \"_\").replace(\"_\", \"\").strip().capitalize())"
   ]
  },
  {
   "cell_type": "code",
   "execution_count": 86,
   "id": "2949a031",
   "metadata": {},
   "outputs": [
    {
     "name": "stdout",
     "output_type": "stream",
     "text": [
      "Ubwbgybjh\n"
     ]
    }
   ],
   "source": [
    "clean_string_3 (\"  uBwb__GYBjH !!!!   \")"
   ]
  },
  {
   "cell_type": "code",
   "execution_count": 87,
   "id": "ea7f5a1d",
   "metadata": {},
   "outputs": [
    {
     "name": "stdout",
     "output_type": "stream",
     "text": [
      "Ubwbgybjh\n"
     ]
    }
   ],
   "source": [
    "clean_string_3_variable = clean_string_3 (\"  uBwb__GYBjH !!!!   \")"
   ]
  },
  {
   "cell_type": "code",
   "execution_count": 88,
   "id": "ac2a71fe",
   "metadata": {},
   "outputs": [
    {
     "ename": "AttributeError",
     "evalue": "'NoneType' object has no attribute 'upper'",
     "output_type": "error",
     "traceback": [
      "\u001b[0;31m---------------------------------------------------------------------------\u001b[0m",
      "\u001b[0;31mAttributeError\u001b[0m                            Traceback (most recent call last)",
      "Input \u001b[0;32mIn [88]\u001b[0m, in \u001b[0;36m<cell line: 1>\u001b[0;34m()\u001b[0m\n\u001b[0;32m----> 1\u001b[0m \u001b[43mclean_string_3_variable\u001b[49m\u001b[38;5;241;43m.\u001b[39;49m\u001b[43mupper\u001b[49m()\n",
      "\u001b[0;31mAttributeError\u001b[0m: 'NoneType' object has no attribute 'upper'"
     ]
    }
   ],
   "source": [
    "clean_string_3_variable.upper()"
   ]
  },
  {
   "cell_type": "markdown",
   "id": "f65b59cf",
   "metadata": {
    "lang": "en"
   },
   "source": [
    "## Let's write functions"
   ]
  },
  {
   "cell_type": "markdown",
   "id": "8b6148b3",
   "metadata": {
    "lang": "en"
   },
   "source": [
    "**Example**: I am given a time in the following format: \"04:52\", minutes and seconds. Calculate the integer number of seconds."
   ]
  },
  {
   "cell_type": "code",
   "execution_count": 96,
   "id": "686fcd47",
   "metadata": {
    "scrolled": true
   },
   "outputs": [],
   "source": [
    "time = \"04:52\"\n",
    "# goal: total of seconds"
   ]
  },
  {
   "cell_type": "code",
   "execution_count": 107,
   "id": "7dd3ffd4",
   "metadata": {},
   "outputs": [
    {
     "data": {
      "text/plain": [
       "292"
      ]
     },
     "execution_count": 107,
     "metadata": {},
     "output_type": "execute_result"
    }
   ],
   "source": [
    "# Marc Planas\n",
    "\n",
    "def total_sec (time):\n",
    "    return int(time[:2])*60 + int(time[3:])\n",
    "\n",
    "total_sec(\"04:52\")"
   ]
  },
  {
   "cell_type": "code",
   "execution_count": 109,
   "id": "440fa08c",
   "metadata": {},
   "outputs": [
    {
     "data": {
      "text/plain": [
       "292"
      ]
     },
     "execution_count": 109,
     "metadata": {},
     "output_type": "execute_result"
    }
   ],
   "source": [
    "# Sergi\n",
    "\n",
    "def seconds(time):\n",
    "    minutes=int(time.split(\":\")[0])\n",
    "    sec=int((time.split(\":\")[1]))\n",
    "    sec+=(minutes*60)\n",
    "    return sec\n",
    "\n",
    "\n",
    "seconds(\"04:52\")"
   ]
  },
  {
   "cell_type": "code",
   "execution_count": 101,
   "id": "1c051f0d",
   "metadata": {},
   "outputs": [
    {
     "data": {
      "text/plain": [
       "292"
      ]
     },
     "execution_count": 101,
     "metadata": {},
     "output_type": "execute_result"
    }
   ],
   "source": [
    "# Joana\n",
    "\n",
    "def sec(time):\n",
    "    seconds=int(time.split(\":\")[1])\n",
    "    minutes=int(time.split(\":\")[0])*60\n",
    "    return minutes+seconds\n",
    "\n",
    "sec (time)"
   ]
  },
  {
   "cell_type": "code",
   "execution_count": 110,
   "id": "30211e0a",
   "metadata": {},
   "outputs": [
    {
     "name": "stdout",
     "output_type": "stream",
     "text": [
      "The number of seconds are:  17520\n"
     ]
    }
   ],
   "source": [
    "# Joaquín: hours & mins\n",
    "\n",
    "#4h, 52min\n",
    "\n",
    "def sec(time):\n",
    "    hour = int(time.split(\":\")[0])\n",
    "    min = int(time.split(\":\")[1])\n",
    "    hour_sec = hour * 60 * 60\n",
    "    min_sec = min * 60\n",
    "\n",
    "    tot_sec = hour_sec + min_sec\n",
    "    return print(\"The number of seconds are: \",tot_sec)\n",
    "\n",
    "sec (time)"
   ]
  },
  {
   "cell_type": "code",
   "execution_count": 103,
   "id": "ab9079a4",
   "metadata": {},
   "outputs": [
    {
     "data": {
      "text/plain": [
       "292"
      ]
     },
     "execution_count": 103,
     "metadata": {},
     "output_type": "execute_result"
    }
   ],
   "source": [
    "# Marc Pérez\n",
    "\n",
    "def seconds(time):\n",
    "    sec= int((time.split(\":\")[1])) + int((time.split(\":\")[0]))*60\n",
    "    return sec\n",
    "\n",
    "\n",
    "seconds(\"04:52\")"
   ]
  },
  {
   "cell_type": "code",
   "execution_count": 111,
   "id": "074ab47b",
   "metadata": {},
   "outputs": [
    {
     "data": {
      "text/plain": [
       "'The number of seconds are: 292'"
      ]
     },
     "execution_count": 111,
     "metadata": {},
     "output_type": "execute_result"
    }
   ],
   "source": [
    "# Guille\n",
    "\n",
    "def seconds(time):\n",
    "    \n",
    "    minute = int(time.split(\":\")[0])\n",
    "    second = int(time.split(\":\")[1])\n",
    "    \n",
    "    minute *= 60\n",
    "    \n",
    "    second1 = minute + second\n",
    "    \n",
    "\n",
    "    return (f\"The number of seconds are: {second1}\")\n",
    "\n",
    "seconds(\"04:52\")"
   ]
  },
  {
   "cell_type": "code",
   "execution_count": 112,
   "id": "ac6abd0f",
   "metadata": {},
   "outputs": [
    {
     "data": {
      "text/plain": [
       "292"
      ]
     },
     "execution_count": 112,
     "metadata": {},
     "output_type": "execute_result"
    }
   ],
   "source": [
    "# Maya\n",
    "\n",
    "def time_seconds(time):\n",
    "    \n",
    "    time = time.split(\":\")\n",
    "    total = int(time[0])*60 + int(time[1])\n",
    "    \n",
    "    return total\n",
    "    \n",
    "time_seconds(\"4:52\")"
   ]
  },
  {
   "cell_type": "code",
   "execution_count": 113,
   "id": "4ebba91a",
   "metadata": {},
   "outputs": [
    {
     "data": {
      "text/plain": [
       "292"
      ]
     },
     "execution_count": 113,
     "metadata": {},
     "output_type": "execute_result"
    }
   ],
   "source": [
    "# Cason\n",
    "\n",
    "def secs(time):\n",
    "    time= (int(time[:2])*60 + int(time[-2:]))\n",
    "    return (time)\n",
    "secs(time)"
   ]
  },
  {
   "cell_type": "code",
   "execution_count": 114,
   "id": "1d0c0b3b",
   "metadata": {},
   "outputs": [
    {
     "name": "stdout",
     "output_type": "stream",
     "text": [
      "52\n"
     ]
    }
   ],
   "source": [
    "# Franc\n",
    "\n",
    "def getSecondsAsInt(time):\n",
    "    return int(time.split(\":\")[1])\n",
    "\n",
    "actualTime = \"04:52\"\n",
    "seconds = getSecondsAsInt(actualTime)\n",
    "print(seconds)"
   ]
  },
  {
   "cell_type": "code",
   "execution_count": 117,
   "id": "4e10b35f",
   "metadata": {},
   "outputs": [
    {
     "data": {
      "text/plain": [
       "292"
      ]
     },
     "execution_count": 117,
     "metadata": {},
     "output_type": "execute_result"
    }
   ],
   "source": [
    "# Rapha\n",
    "\n",
    "time = \"04:52\"\n",
    "def sec(time):\n",
    "    seconds=int(time.split(\":\")[1])\n",
    "    minutes=int(time.split(\":\")[0])*60\n",
    "    return minutes+seconds\n",
    "sec(\"04:52\")"
   ]
  },
  {
   "cell_type": "code",
   "execution_count": 122,
   "id": "49a413bd",
   "metadata": {},
   "outputs": [
    {
     "data": {
      "text/plain": [
       "292"
      ]
     },
     "execution_count": 122,
     "metadata": {},
     "output_type": "execute_result"
    }
   ],
   "source": [
    "# David\n",
    "\n",
    "def sec_count(time):\n",
    "    \"\"\"This funtcion returns the seconds of a given time\n",
    "    \"\"\"\n",
    "    sec= int(time.split(\":\")[1])\n",
    "    minu = int(time.split(\":\")[0]) *60\n",
    "    s_count = sec + minu\n",
    "    return s_count\n",
    "\n",
    "sec_count(\"04:52\")"
   ]
  },
  {
   "cell_type": "code",
   "execution_count": 120,
   "id": "6985b7bd",
   "metadata": {},
   "outputs": [
    {
     "data": {
      "text/plain": [
       "308"
      ]
     },
     "execution_count": 120,
     "metadata": {},
     "output_type": "execute_result"
    }
   ],
   "source": [
    "sec_count(\"04:68\")"
   ]
  },
  {
   "cell_type": "code",
   "execution_count": null,
   "id": "0317f572",
   "metadata": {},
   "outputs": [],
   "source": [
    "# Consider for corner cases or different ways in which the input can be read"
   ]
  },
  {
   "cell_type": "markdown",
   "id": "e498ddf7",
   "metadata": {
    "lang": "en"
   },
   "source": [
    "We have a lot of code for ONE functionality, which we could REUSE for different cases\n",
    "**THIS IS WHAT FUNCTIONS ARE FOR**\n",
    "We then turn it into a function"
   ]
  },
  {
   "cell_type": "markdown",
   "id": "0f4e7d38",
   "metadata": {
    "lang": "en"
   },
   "source": [
    "## Default parameters"
   ]
  },
  {
   "cell_type": "code",
   "execution_count": 126,
   "id": "7f9459e0",
   "metadata": {
    "scrolled": true
   },
   "outputs": [],
   "source": [
    "def greetings (name, language):\n",
    "    return f\"Hello {name}!\" "
   ]
  },
  {
   "cell_type": "code",
   "execution_count": 127,
   "id": "8b1b1ab2",
   "metadata": {},
   "outputs": [
    {
     "ename": "TypeError",
     "evalue": "greetings() missing 1 required positional argument: 'language'",
     "output_type": "error",
     "traceback": [
      "\u001b[0;31m---------------------------------------------------------------------------\u001b[0m",
      "\u001b[0;31mTypeError\u001b[0m                                 Traceback (most recent call last)",
      "Input \u001b[0;32mIn [127]\u001b[0m, in \u001b[0;36m<cell line: 1>\u001b[0;34m()\u001b[0m\n\u001b[0;32m----> 1\u001b[0m \u001b[43mgreetings\u001b[49m\u001b[43m \u001b[49m\u001b[43m(\u001b[49m\u001b[38;5;124;43m\"\u001b[39;49m\u001b[38;5;124;43mClara\u001b[39;49m\u001b[38;5;124;43m\"\u001b[39;49m\u001b[43m)\u001b[49m\n",
      "\u001b[0;31mTypeError\u001b[0m: greetings() missing 1 required positional argument: 'language'"
     ]
    }
   ],
   "source": [
    "greetings (\"Clara\")"
   ]
  },
  {
   "cell_type": "code",
   "execution_count": 128,
   "id": "2a75de89",
   "metadata": {},
   "outputs": [],
   "source": [
    "def greetings_default (name, language=\"en\"):\n",
    "    return f\"Hello {name}!\" "
   ]
  },
  {
   "cell_type": "code",
   "execution_count": 130,
   "id": "8e006cc8",
   "metadata": {},
   "outputs": [
    {
     "data": {
      "text/plain": [
       "'Hello Clara!'"
      ]
     },
     "execution_count": 130,
     "metadata": {},
     "output_type": "execute_result"
    }
   ],
   "source": [
    "greetings_default (\"Clara\")"
   ]
  },
  {
   "cell_type": "code",
   "execution_count": 132,
   "id": "86502a5f",
   "metadata": {},
   "outputs": [],
   "source": [
    "def greetings_default (name, language=\"en\"):\n",
    "    if language == \"spanish\":\n",
    "        return f\"Hola {name}!\"\n",
    "    elif language == \"en\":\n",
    "        return f\"Hey there {name}\""
   ]
  },
  {
   "cell_type": "code",
   "execution_count": 133,
   "id": "99b2461e",
   "metadata": {},
   "outputs": [
    {
     "data": {
      "text/plain": [
       "'Hey there Albert'"
      ]
     },
     "execution_count": 133,
     "metadata": {},
     "output_type": "execute_result"
    }
   ],
   "source": [
    "greetings_default (\"Albert\")"
   ]
  },
  {
   "cell_type": "code",
   "execution_count": 140,
   "id": "17643452",
   "metadata": {
    "scrolled": true
   },
   "outputs": [
    {
     "data": {
      "text/plain": [
       "'Hola Albert!'"
      ]
     },
     "execution_count": 140,
     "metadata": {},
     "output_type": "execute_result"
    }
   ],
   "source": [
    "greetings_default (\"Albert\", \"spanish\")"
   ]
  },
  {
   "cell_type": "code",
   "execution_count": 141,
   "id": "639f7d41",
   "metadata": {},
   "outputs": [
    {
     "data": {
      "text/plain": [
       "'Hola Albert!'"
      ]
     },
     "execution_count": 141,
     "metadata": {},
     "output_type": "execute_result"
    }
   ],
   "source": [
    "greetings_default (\"Albert\", language = \"spanish\") # no need to declare name of the variable, just value"
   ]
  },
  {
   "cell_type": "code",
   "execution_count": 136,
   "id": "a7d4d063",
   "metadata": {},
   "outputs": [],
   "source": [
    "def greetings_default_else (name, language=\"en\"):\n",
    "    if language == \"spanish\":\n",
    "        return f\"Hola {name}!\"\n",
    "    else:\n",
    "        return f\"Hey there {name}\""
   ]
  },
  {
   "cell_type": "code",
   "execution_count": 137,
   "id": "99232727",
   "metadata": {},
   "outputs": [
    {
     "data": {
      "text/plain": [
       "'Hey there María'"
      ]
     },
     "execution_count": 137,
     "metadata": {},
     "output_type": "execute_result"
    }
   ],
   "source": [
    "greetings_default_else (\"María\")"
   ]
  },
  {
   "cell_type": "code",
   "execution_count": 142,
   "id": "59ae4700",
   "metadata": {},
   "outputs": [],
   "source": [
    "# Default parameters: you can declare in the function definition\n",
    "# You can change them later on when calling the function\n",
    "\n",
    "# You don't have to use the param that is default. Eg.: greetings_default (\"Albert\")"
   ]
  },
  {
   "cell_type": "code",
   "execution_count": null,
   "id": "2c26d85f",
   "metadata": {},
   "outputs": [],
   "source": [
    "def entrance (age, club=):\n",
    "    \"\"\"\n",
    "    :age: the age of a person. int\n",
    "    :club: default as regular type of club. str -> light, regular club\n",
    "    \"\"\"\n",
    "    pass\n",
    "\n",
    "# light club: peoople can get in when they are > 16\n",
    "# regular club > 18, default\n",
    "\n",
    "# print(\"You can get in\")\n",
    "# print(\"You cannot get in\")"
   ]
  },
  {
   "cell_type": "code",
   "execution_count": 162,
   "id": "ca8012c2",
   "metadata": {},
   "outputs": [],
   "source": [
    "# Sergi\n",
    "\n",
    "def entrance (age, club=\"regular club\"):\n",
    "    \n",
    "    if club==\"light club\":\n",
    "        if age >= 16:\n",
    "            print(\"You can get in\")\n",
    "        else:\n",
    "            print(\"You cannot get in\")\n",
    "    else:\n",
    "        if age >= 18:\n",
    "            print(\"You can get in\")\n",
    "        else:\n",
    "            print(\"You cannot get in\")"
   ]
  },
  {
   "cell_type": "code",
   "execution_count": 158,
   "id": "12bd06eb",
   "metadata": {},
   "outputs": [
    {
     "name": "stdout",
     "output_type": "stream",
     "text": [
      "You cannot get in\n"
     ]
    }
   ],
   "source": [
    "entrance (15, club=\"light club\")"
   ]
  },
  {
   "cell_type": "code",
   "execution_count": 159,
   "id": "6e0c4f6c",
   "metadata": {},
   "outputs": [
    {
     "name": "stdout",
     "output_type": "stream",
     "text": [
      "You can get in\n"
     ]
    }
   ],
   "source": [
    "entrance (18)"
   ]
  },
  {
   "cell_type": "markdown",
   "id": "32e7775a",
   "metadata": {
    "lang": "en"
   },
   "source": [
    "## PLEASE don't confuse PRINTs inside a function with RETURNs!"
   ]
  },
  {
   "cell_type": "code",
   "execution_count": 163,
   "id": "2f2acd4d",
   "metadata": {
    "scrolled": true
   },
   "outputs": [],
   "source": [
    "# prints just show things\n",
    "# returns: saves or gives you thuings back\n",
    "\n",
    "# what it is you want to do with the function\n",
    "    # later on modifying tghe value -> return\n",
    "    # you can just print it"
   ]
  },
  {
   "cell_type": "markdown",
   "id": "5bbfe19b",
   "metadata": {
    "lang": "en"
   },
   "source": [
    "## Docstring\n",
    "- The code is written 1 time.\n",
    "- The code is read 100 times.\n",
    "- Help your colleagues understand your work.\n",
    "\n",
    "![lafoto](https://res.cloudinary.com/highflyer910/image/upload/v1589577574/1_1_httqnc.jpg)\n",
    "\n",
    "\n",
    "In this example, we have defined a cat function that returns meow. We have declared a docstring that explains what the function does. To get the docstring of a function, we need to display the doc attribute (print(cat.__doc__))\n",
    "Photo reference, description and more info about docstring [here](https://techiestuff.netlify.app/blog/what-is-a-python-docstring/)"
   ]
  },
  {
   "cell_type": "code",
   "execution_count": 170,
   "id": "82ab1ba9",
   "metadata": {},
   "outputs": [],
   "source": [
    "def cat (animal):\n",
    "    \"\"\"This function mewos to you\n",
    "    :animal: str. it is the animal that does the action\n",
    "    :return: a formatted string\n",
    "    \"\"\"\n",
    "    return f\"The {animal} meows\""
   ]
  },
  {
   "cell_type": "code",
   "execution_count": 172,
   "id": "be661622",
   "metadata": {},
   "outputs": [
    {
     "data": {
      "text/plain": [
       "'The sheep meows'"
      ]
     },
     "execution_count": 172,
     "metadata": {},
     "output_type": "execute_result"
    }
   ],
   "source": [
    "cat(\"sheep\")"
   ]
  },
  {
   "cell_type": "code",
   "execution_count": 174,
   "id": "c13bd1d5",
   "metadata": {},
   "outputs": [
    {
     "name": "stdout",
     "output_type": "stream",
     "text": [
      "This function mewos to you\n",
      "    :animal: str. it is the animal that does the action\n",
      "    :return: a formatted string\n",
      "    \n"
     ]
    }
   ],
   "source": [
    "print(cat.__doc__)"
   ]
  },
  {
   "cell_type": "code",
   "execution_count": 176,
   "id": "f8e4215f",
   "metadata": {},
   "outputs": [
    {
     "name": "stdout",
     "output_type": "stream",
     "text": [
      "def cat (animal):\n",
      "    \"\"\"This function mewos to you\n",
      "    :animal: str. it is the animal that does the action\n",
      "    :return: a formatted string\n",
      "    \"\"\"\n",
      "    return f\"The {animal} meows\"\n",
      "\n"
     ]
    }
   ],
   "source": [
    "import inspect\n",
    "print(inspect.getsource(cat))"
   ]
  },
  {
   "cell_type": "markdown",
   "id": "86c5ccda",
   "metadata": {
    "lang": "en"
   },
   "source": [
    "## Scope of functions"
   ]
  },
  {
   "cell_type": "code",
   "execution_count": 177,
   "id": "c9e4595e",
   "metadata": {
    "scrolled": true
   },
   "outputs": [],
   "source": [
    "# outside: it will recgonize the variable\n",
    "# inside: you cannot access it from the ourside"
   ]
  },
  {
   "cell_type": "code",
   "execution_count": null,
   "id": "0b5bc3d0",
   "metadata": {},
   "outputs": [],
   "source": [
    "# From outside to inside: fine"
   ]
  },
  {
   "cell_type": "code",
   "execution_count": 179,
   "id": "81180a32",
   "metadata": {},
   "outputs": [],
   "source": [
    "age = 25"
   ]
  },
  {
   "cell_type": "code",
   "execution_count": 180,
   "id": "9c578fc0",
   "metadata": {},
   "outputs": [],
   "source": [
    "def adds_10_to_age ():\n",
    "    return age + 10"
   ]
  },
  {
   "cell_type": "code",
   "execution_count": 181,
   "id": "acceafd1",
   "metadata": {},
   "outputs": [
    {
     "data": {
      "text/plain": [
       "35"
      ]
     },
     "execution_count": 181,
     "metadata": {},
     "output_type": "execute_result"
    }
   ],
   "source": [
    "adds_10_to_age()"
   ]
  },
  {
   "cell_type": "code",
   "execution_count": null,
   "id": "ae01a095",
   "metadata": {},
   "outputs": [],
   "source": [
    "# From inside to oustide: not fine"
   ]
  },
  {
   "cell_type": "code",
   "execution_count": 185,
   "id": "84b049ab",
   "metadata": {},
   "outputs": [],
   "source": [
    "def addition (a, b):\n",
    "    \n",
    "    multiplication = 6\n",
    "    \n",
    "    return (a + b) * multiplication"
   ]
  },
  {
   "cell_type": "code",
   "execution_count": 186,
   "id": "06fe7203",
   "metadata": {},
   "outputs": [
    {
     "data": {
      "text/plain": [
       "24"
      ]
     },
     "execution_count": 186,
     "metadata": {},
     "output_type": "execute_result"
    }
   ],
   "source": [
    "addition(2, 2)"
   ]
  },
  {
   "cell_type": "code",
   "execution_count": 187,
   "id": "7b518960",
   "metadata": {},
   "outputs": [
    {
     "ename": "NameError",
     "evalue": "name 'multiplication' is not defined",
     "output_type": "error",
     "traceback": [
      "\u001b[0;31m---------------------------------------------------------------------------\u001b[0m",
      "\u001b[0;31mNameError\u001b[0m                                 Traceback (most recent call last)",
      "Input \u001b[0;32mIn [187]\u001b[0m, in \u001b[0;36m<cell line: 1>\u001b[0;34m()\u001b[0m\n\u001b[0;32m----> 1\u001b[0m \u001b[38;5;28mprint\u001b[39m(\u001b[43mmultiplication\u001b[49m)\n",
      "\u001b[0;31mNameError\u001b[0m: name 'multiplication' is not defined"
     ]
    }
   ],
   "source": [
    "print(multiplication)"
   ]
  },
  {
   "cell_type": "code",
   "execution_count": 192,
   "id": "f7b7bee0",
   "metadata": {},
   "outputs": [
    {
     "data": {
      "text/plain": [
       "'\\ndef addition_2 (a, b):\\n    \\n    multiplication = (a + b) * 6\\n    \\n    return multiplication\\n\\naddition_2 (2, 2)\\n\\n\\nmultiplication = addition_2 (2, 2)\\nmultiplication\\n'"
      ]
     },
     "execution_count": 192,
     "metadata": {},
     "output_type": "execute_result"
    }
   ],
   "source": [
    "# Saving the result a new variable, to be able to accesss it outside\n",
    "\"\"\"\n",
    "def addition_2 (a, b):\n",
    "    \n",
    "    multiplication = (a + b) * 6\n",
    "    \n",
    "    return multiplication\n",
    "\n",
    "addition_2 (2, 2)\n",
    "\n",
    "\n",
    "multiplication = addition_2 (2, 2)\n",
    "multiplication\n",
    "\"\"\""
   ]
  },
  {
   "cell_type": "markdown",
   "id": "80ccf4fe",
   "metadata": {},
   "source": [
    "[Extra: global variables](https://www.w3schools.com/python/python_variables_global.asp)"
   ]
  },
  {
   "cell_type": "code",
   "execution_count": 203,
   "id": "520571e1",
   "metadata": {},
   "outputs": [],
   "source": [
    "def fucntion_returns_more_than_one (time):\n",
    "    \n",
    "    hours = time.split(\":\")[0]\n",
    "    minutes = time.split(\":\")[1]\n",
    "    seconds = time.split(\":\")[2]\n",
    "    \n",
    "    return hours, minutes, seconds"
   ]
  },
  {
   "cell_type": "code",
   "execution_count": 204,
   "id": "07a75039",
   "metadata": {},
   "outputs": [
    {
     "data": {
      "text/plain": [
       "('11', '04', '52')"
      ]
     },
     "execution_count": 204,
     "metadata": {},
     "output_type": "execute_result"
    }
   ],
   "source": [
    "fucntion_returns_more_than_one (the_time)"
   ]
  },
  {
   "cell_type": "code",
   "execution_count": 206,
   "id": "453ab3f6",
   "metadata": {},
   "outputs": [
    {
     "data": {
      "text/plain": [
       "('11', '04', '52')"
      ]
     },
     "execution_count": 206,
     "metadata": {},
     "output_type": "execute_result"
    }
   ],
   "source": [
    "time_splitted = fucntion_returns_more_than_one (the_time)\n",
    "time_splitted"
   ]
  },
  {
   "cell_type": "code",
   "execution_count": 209,
   "id": "3fca9e0e",
   "metadata": {},
   "outputs": [],
   "source": [
    "hours_returned, minutes_returned, seconds_returned = fucntion_returns_more_than_one (the_time)"
   ]
  },
  {
   "cell_type": "code",
   "execution_count": 213,
   "id": "fc99805b",
   "metadata": {},
   "outputs": [
    {
     "name": "stdout",
     "output_type": "stream",
     "text": [
      "52\n"
     ]
    }
   ],
   "source": [
    "hours_back = fucntion_returns_more_than_one (the_time)[0]\n",
    "minutes_back = fucntion_returns_more_than_one (the_time)[1]\n",
    "seconds_back = fucntion_returns_more_than_one (the_time)[2]\n",
    "\n",
    "\n",
    "print(seconds_back)"
   ]
  },
  {
   "cell_type": "code",
   "execution_count": 211,
   "id": "9b74d822",
   "metadata": {},
   "outputs": [
    {
     "data": {
      "text/plain": [
       "'04'"
      ]
     },
     "execution_count": 211,
     "metadata": {},
     "output_type": "execute_result"
    }
   ],
   "source": [
    "minutes_returned"
   ]
  },
  {
   "cell_type": "code",
   "execution_count": 205,
   "id": "95ed5bb0",
   "metadata": {},
   "outputs": [],
   "source": [
    "the_time = \"11:04:52\""
   ]
  },
  {
   "cell_type": "markdown",
   "id": "83d91d14",
   "metadata": {},
   "source": [
    "## Mini recap\n",
    "\n",
    "- parameters\n",
    "    - default\n",
    "    - not exist\n",
    "    - as many as we want\n",
    "- arguments\n",
    "    - default: skip\n",
    "\n",
    "- docstrings\n",
    "    - documentation of the function: function.__doc__\n",
    "\n",
    "- save the result of a function as a variable\n",
    "\n",
    "- print vs. return\n",
    "\n",
    "- we can return as many things as we want\n",
    "- we can also declare variables in a correlative way"
   ]
  },
  {
   "cell_type": "markdown",
   "id": "ed14ae9a",
   "metadata": {
    "lang": "en"
   },
   "source": [
    "## *Args\n",
    "In Python, the special parameter `*args` in a function is used to optionally pass a variable number of positional arguments."
   ]
  },
  {
   "cell_type": "code",
   "execution_count": null,
   "id": "5c82ea2e",
   "metadata": {
    "scrolled": true
   },
   "outputs": [],
   "source": [
    "def addition (*args):\n",
    "    pass"
   ]
  },
  {
   "cell_type": "code",
   "execution_count": 214,
   "id": "2bf6c978",
   "metadata": {},
   "outputs": [],
   "source": [
    "def add (a, b):\n",
    "    return a + b"
   ]
  },
  {
   "cell_type": "code",
   "execution_count": 215,
   "id": "22c897a7",
   "metadata": {},
   "outputs": [
    {
     "data": {
      "text/plain": [
       "3"
      ]
     },
     "execution_count": 215,
     "metadata": {},
     "output_type": "execute_result"
    }
   ],
   "source": [
    "add (1, 2)"
   ]
  },
  {
   "cell_type": "code",
   "execution_count": 216,
   "id": "d66de6b0",
   "metadata": {},
   "outputs": [
    {
     "ename": "TypeError",
     "evalue": "add() takes 2 positional arguments but 3 were given",
     "output_type": "error",
     "traceback": [
      "\u001b[0;31m---------------------------------------------------------------------------\u001b[0m",
      "\u001b[0;31mTypeError\u001b[0m                                 Traceback (most recent call last)",
      "Input \u001b[0;32mIn [216]\u001b[0m, in \u001b[0;36m<cell line: 1>\u001b[0;34m()\u001b[0m\n\u001b[0;32m----> 1\u001b[0m \u001b[43madd\u001b[49m\u001b[43m \u001b[49m\u001b[43m(\u001b[49m\u001b[38;5;241;43m1\u001b[39;49m\u001b[43m,\u001b[49m\u001b[43m \u001b[49m\u001b[38;5;241;43m2\u001b[39;49m\u001b[43m,\u001b[49m\u001b[43m \u001b[49m\u001b[38;5;241;43m5\u001b[39;49m\u001b[43m)\u001b[49m\n",
      "\u001b[0;31mTypeError\u001b[0m: add() takes 2 positional arguments but 3 were given"
     ]
    }
   ],
   "source": [
    "add (1, 2, 5)"
   ]
  },
  {
   "cell_type": "code",
   "execution_count": 235,
   "id": "a6cbf33a",
   "metadata": {},
   "outputs": [],
   "source": [
    "def addition (*random_numbers):\n",
    "    aux = 0\n",
    "    \n",
    "    for i in random_numbers:\n",
    "        aux += i\n",
    "        \n",
    "    return aux"
   ]
  },
  {
   "cell_type": "code",
   "execution_count": 236,
   "id": "a809faab",
   "metadata": {},
   "outputs": [
    {
     "data": {
      "text/plain": [
       "24"
      ]
     },
     "execution_count": 236,
     "metadata": {},
     "output_type": "execute_result"
    }
   ],
   "source": [
    "addition (1, 2, 6, 7, 8)"
   ]
  },
  {
   "cell_type": "code",
   "execution_count": 237,
   "id": "49dfd737",
   "metadata": {},
   "outputs": [
    {
     "data": {
      "text/plain": [
       "0"
      ]
     },
     "execution_count": 237,
     "metadata": {},
     "output_type": "execute_result"
    }
   ],
   "source": [
    "addition ()"
   ]
  },
  {
   "cell_type": "code",
   "execution_count": 224,
   "id": "7e3b611e",
   "metadata": {},
   "outputs": [
    {
     "data": {
      "text/plain": [
       "'TypeError: add() takes 2 positional arguments but 3 were given'"
      ]
     },
     "execution_count": 224,
     "metadata": {},
     "output_type": "execute_result"
    }
   ],
   "source": [
    "\"TypeError: add() takes 2 positional arguments but 3 were given\""
   ]
  },
  {
   "cell_type": "code",
   "execution_count": 226,
   "id": "567be658",
   "metadata": {},
   "outputs": [],
   "source": [
    "#*arg -> variable number of arguments\n",
    "#0 is a number of arguments"
   ]
  },
  {
   "cell_type": "code",
   "execution_count": 239,
   "id": "2707381c",
   "metadata": {},
   "outputs": [
    {
     "data": {
      "text/plain": [
       "0"
      ]
     },
     "execution_count": 239,
     "metadata": {},
     "output_type": "execute_result"
    }
   ],
   "source": [
    "addition () #optional argument zero argument"
   ]
  },
  {
   "cell_type": "code",
   "execution_count": null,
   "id": "492a1928",
   "metadata": {},
   "outputs": [],
   "source": [
    "list_ = [20, 30, 40]\n",
    "# 1, 2, 3"
   ]
  },
  {
   "cell_type": "code",
   "execution_count": null,
   "id": "a6069854",
   "metadata": {},
   "outputs": [],
   "source": [
    "#([20, 30, 40], 1, 2, 3, 50, 30)"
   ]
  },
  {
   "cell_type": "code",
   "execution_count": 260,
   "id": "ec8f15df",
   "metadata": {},
   "outputs": [],
   "source": [
    "def add_list_and_numbers (list_, *nums):\n",
    "    \n",
    "    print(nums)\n",
    "    \n",
    "    #sum of the list\n",
    "    #1. for loop\n",
    "    list_sum_2 = 0\n",
    "    for i in list_:\n",
    "        list_sum_2 += i\n",
    "    \n",
    "    #2. Sum method\n",
    "    list_sum = sum(list_)\n",
    "    \n",
    "    # sum of numbers\n",
    "    list_nums = sum(nums)\n",
    "    \n",
    "    return list_sum + list_nums #the sum of the numbers in the list + the sum of numbers"
   ]
  },
  {
   "cell_type": "code",
   "execution_count": 261,
   "id": "da9b6e82",
   "metadata": {},
   "outputs": [
    {
     "name": "stdout",
     "output_type": "stream",
     "text": [
      "(23, 2, 2, 0, 0)\n"
     ]
    },
    {
     "data": {
      "text/plain": [
       "77"
      ]
     },
     "execution_count": 261,
     "metadata": {},
     "output_type": "execute_result"
    }
   ],
   "source": [
    "add_list_and_numbers ([20, 30], 23, 2, 2, 0, 0)"
   ]
  },
  {
   "cell_type": "code",
   "execution_count": 262,
   "id": "bc28f6f5",
   "metadata": {},
   "outputs": [],
   "source": [
    "# *args -> variable number of arguments\n",
    "# we use it qhen: we don't know how many OR we know that it's not always the same amount"
   ]
  },
  {
   "cell_type": "markdown",
   "id": "d6f3043e",
   "metadata": {
    "lang": "en"
   },
   "source": [
    "## **Kwargs"
   ]
  },
  {
   "cell_type": "markdown",
   "id": "98ca1af5",
   "metadata": {
    "lang": "en"
   },
   "source": [
    "We can also pass a dictionary as an argument using the parameter names (**kwargs) as keys.\n",
    "Use **kwargs to optionally pass a variable number of named arguments to a function.\n",
    "It is a dictionary whose keys become parameters and their values ​​become the arguments of the parameters.\n",
    "The **kwargs parameter receives the arguments as a dictionary."
   ]
  },
  {
   "cell_type": "code",
   "execution_count": 49,
   "id": "08f52823",
   "metadata": {},
   "outputs": [],
   "source": [
    "clara = {\n",
    "    \"name\":\"clara\",\n",
    "    \"location\":\"barcelona\",\n",
    "    \"age\": 30\n",
    "}"
   ]
  },
  {
   "cell_type": "markdown",
   "id": "397d0e65",
   "metadata": {},
   "source": [
    "### Just *args"
   ]
  },
  {
   "cell_type": "code",
   "execution_count": 50,
   "id": "254f2913",
   "metadata": {},
   "outputs": [],
   "source": [
    "def introduce_yourself (dict_, *nums):\n",
    "    name = dict_[\"name\"]\n",
    "    city = dict_[\"location\"]\n",
    "    \n",
    "    numbers = sum(nums)\n",
    "    \n",
    "    print(numbers)\n",
    "    \n",
    "    return f\"Hello my name is {name} and I am from {city}\""
   ]
  },
  {
   "cell_type": "code",
   "execution_count": 5,
   "id": "6b0ff226",
   "metadata": {
    "scrolled": false
   },
   "outputs": [
    {
     "name": "stdout",
     "output_type": "stream",
     "text": [
      "5\n"
     ]
    },
    {
     "data": {
      "text/plain": [
       "'Hello my name is clara and I am from barcelona'"
      ]
     },
     "execution_count": 5,
     "metadata": {},
     "output_type": "execute_result"
    }
   ],
   "source": [
    "introduce_yourself (clara, 2, 3)"
   ]
  },
  {
   "cell_type": "markdown",
   "id": "136997a4",
   "metadata": {},
   "source": [
    "### With *kwargs"
   ]
  },
  {
   "cell_type": "code",
   "execution_count": 83,
   "id": "5247d5c1",
   "metadata": {},
   "outputs": [],
   "source": [
    "# Variable"
   ]
  },
  {
   "cell_type": "code",
   "execution_count": 84,
   "id": "ca51f521",
   "metadata": {},
   "outputs": [],
   "source": [
    "person = {\n",
    "    \"name_\":\"Albert\",\n",
    "    \"age\":30,\n",
    "    \"city\":\"barcelona\"\n",
    "}"
   ]
  },
  {
   "cell_type": "markdown",
   "id": "9b19f387",
   "metadata": {},
   "source": [
    "### Scenario 1: Calling the dictionary"
   ]
  },
  {
   "cell_type": "code",
   "execution_count": 99,
   "id": "3e708315",
   "metadata": {},
   "outputs": [],
   "source": [
    "# You NEED to use the dictionary when you call the function"
   ]
  },
  {
   "cell_type": "code",
   "execution_count": 100,
   "id": "f06048a3",
   "metadata": {},
   "outputs": [],
   "source": [
    "def log_in_NOT_kwargs (name, dict_):\n",
    "    for element in dict_:\n",
    "        print(f\"The element is {element} and the value is {dict_[element]}\")\n",
    "    return name"
   ]
  },
  {
   "cell_type": "code",
   "execution_count": 101,
   "id": "e5bc0e02",
   "metadata": {},
   "outputs": [
    {
     "name": "stdout",
     "output_type": "stream",
     "text": [
      "The element is name_ and the value is Albert\n",
      "The element is age and the value is 30\n",
      "The element is city and the value is barcelona\n"
     ]
    },
    {
     "data": {
      "text/plain": [
       "'Bernat'"
      ]
     },
     "execution_count": 101,
     "metadata": {},
     "output_type": "execute_result"
    }
   ],
   "source": [
    "log_in_NOT_kwargs(\"Bernat\", person) #does work"
   ]
  },
  {
   "cell_type": "code",
   "execution_count": 102,
   "id": "4d61949c",
   "metadata": {},
   "outputs": [
    {
     "ename": "TypeError",
     "evalue": "log_in_NOT_kwargs() missing 1 required positional argument: 'dict_'",
     "output_type": "error",
     "traceback": [
      "\u001b[0;31m---------------------------------------------------------------------------\u001b[0m",
      "\u001b[0;31mTypeError\u001b[0m                                 Traceback (most recent call last)",
      "Input \u001b[0;32mIn [102]\u001b[0m, in \u001b[0;36m<cell line: 1>\u001b[0;34m()\u001b[0m\n\u001b[0;32m----> 1\u001b[0m \u001b[43mlog_in_NOT_kwargs\u001b[49m\u001b[43m(\u001b[49m\u001b[38;5;124;43m\"\u001b[39;49m\u001b[38;5;124;43mBernat\u001b[39;49m\u001b[38;5;124;43m\"\u001b[39;49m\u001b[43m)\u001b[49m\n",
      "\u001b[0;31mTypeError\u001b[0m: log_in_NOT_kwargs() missing 1 required positional argument: 'dict_'"
     ]
    }
   ],
   "source": [
    "log_in_NOT_kwargs(\"Bernat\") # does NOT work"
   ]
  },
  {
   "cell_type": "markdown",
   "id": "284d92e5",
   "metadata": {},
   "source": [
    "### Scenario 2: using **kwargs"
   ]
  },
  {
   "cell_type": "code",
   "execution_count": 109,
   "id": "4132bb7b",
   "metadata": {},
   "outputs": [],
   "source": [
    "def log_in_WITH_kwargs (name, **dict_):\n",
    "    for element in dict_:\n",
    "        print(f\"The element is {element} and the value is {dict_[element]}\")\n",
    "    return name"
   ]
  },
  {
   "cell_type": "code",
   "execution_count": 110,
   "id": "06a0927a",
   "metadata": {},
   "outputs": [
    {
     "name": "stdout",
     "output_type": "stream",
     "text": [
      "The element is name_ and the value is Albert\n",
      "The element is age and the value is 30\n",
      "The element is city and the value is barcelona\n"
     ]
    },
    {
     "data": {
      "text/plain": [
       "'Bernat'"
      ]
     },
     "execution_count": 110,
     "metadata": {},
     "output_type": "execute_result"
    }
   ],
   "source": [
    "log_in_WITH_kwargs(\"Bernat\", **person) #does work"
   ]
  },
  {
   "cell_type": "code",
   "execution_count": 111,
   "id": "521e7882",
   "metadata": {},
   "outputs": [
    {
     "data": {
      "text/plain": [
       "'Bernat'"
      ]
     },
     "execution_count": 111,
     "metadata": {},
     "output_type": "execute_result"
    }
   ],
   "source": [
    "log_in_WITH_kwargs(\"Bernat\") #also does work <- OPTIONAL"
   ]
  },
  {
   "cell_type": "markdown",
   "id": "a8486f2d",
   "metadata": {},
   "source": [
    "- *args: they depend on their position\n",
    "**kwargs: position doesn't matter, it's name does\n",
    "**dict_: another way to say **kwargs, can be named whatever you want"
   ]
  },
  {
   "cell_type": "markdown",
   "id": "daf6126f",
   "metadata": {
    "lang": "en"
   },
   "source": [
    "## Order Matters\n",
    "The order of the parameters when defining a function matters...\n",
    "```python\n",
    "def example(arg1, arg2, *args,**kwargs)\n",
    "```"
   ]
  },
  {
   "cell_type": "code",
   "execution_count": 332,
   "id": "eeacb161",
   "metadata": {
    "scrolled": true
   },
   "outputs": [],
   "source": [
    "# positional arguments\n",
    "# correlative: 1-1, 2-2, so on. whatever comes after will be rest of arguments"
   ]
  },
  {
   "cell_type": "markdown",
   "id": "28a2d72b",
   "metadata": {
    "lang": "en"
   },
   "source": [
    "## Lambda\n",
    "A lambda function is an anonymous function, with no identifier, that can be declared in place. Since we can take functions as arguments and assign them to variables, the notation that makes it possible to create lambda functions is very handy in many cases.\n",
    "### Syntax of a lambda\n",
    "```python\n",
    "lambda <param list>:<return expression>\n",
    "```\n",
    "### lambda examples"
   ]
  },
  {
   "cell_type": "code",
   "execution_count": null,
   "id": "71c2ab71",
   "metadata": {},
   "outputs": [],
   "source": []
  },
  {
   "cell_type": "code",
   "execution_count": 67,
   "id": "465e0372",
   "metadata": {},
   "outputs": [],
   "source": [
    "def random_function (argument1, argument2, *args, **dict_):\n",
    "    \n",
    "    total_of_list = sum(args)\n",
    "    \n",
    "    total = argument1 * argument2 * total_of_list\n",
    "    \n",
    "    return f\"Random numbers is: {total} and age is {dict_['age']}\""
   ]
  },
  {
   "cell_type": "code",
   "execution_count": 24,
   "id": "6b7479d4",
   "metadata": {
    "scrolled": true
   },
   "outputs": [
    {
     "data": {
      "text/plain": [
       "'Random numbers is: 800 and age is 30'"
      ]
     },
     "execution_count": 24,
     "metadata": {},
     "output_type": "execute_result"
    }
   ],
   "source": [
    "random_function (100, 2, 2, 2, **clara)"
   ]
  },
  {
   "cell_type": "code",
   "execution_count": null,
   "id": "11ce5084",
   "metadata": {
    "scrolled": true
   },
   "outputs": [],
   "source": [
    "sort(iterable, key = lambda x: x[1])\n",
    "lambdas -> dataframes\n",
    "\n",
    "# if we dont want to reuse, and we want something quick, we do lambdas"
   ]
  },
  {
   "cell_type": "code",
   "execution_count": 334,
   "id": "aa426c78",
   "metadata": {},
   "outputs": [
    {
     "data": {
      "text/plain": [
       "5"
      ]
     },
     "execution_count": 334,
     "metadata": {},
     "output_type": "execute_result"
    }
   ],
   "source": [
    "addition = lambda a, b: a + b\n",
    "addition (2, 3)"
   ]
  },
  {
   "cell_type": "code",
   "execution_count": null,
   "id": "420a6fa7",
   "metadata": {},
   "outputs": [],
   "source": [
    "def adds_1 (x):\n",
    "    return x + 1"
   ]
  },
  {
   "cell_type": "code",
   "execution_count": null,
   "id": "e2761d79",
   "metadata": {},
   "outputs": [],
   "source": [
    "# df[\"column\"].apply(adds_1)"
   ]
  },
  {
   "cell_type": "code",
   "execution_count": null,
   "id": "24a58ff4",
   "metadata": {},
   "outputs": [],
   "source": [
    "# df[\"column\"].apply(lambda x: x + 1)"
   ]
  },
  {
   "cell_type": "code",
   "execution_count": 335,
   "id": "ef73dea5",
   "metadata": {},
   "outputs": [],
   "source": [
    "say_hi = lambda num: \"Hi\" if num > 5 else \"Hello\""
   ]
  },
  {
   "cell_type": "code",
   "execution_count": 337,
   "id": "7385dc70",
   "metadata": {},
   "outputs": [
    {
     "data": {
      "text/plain": [
       "'Hi'"
      ]
     },
     "execution_count": 337,
     "metadata": {},
     "output_type": "execute_result"
    }
   ],
   "source": [
    "say_hi(6)"
   ]
  },
  {
   "cell_type": "code",
   "execution_count": 338,
   "id": "efbe6980",
   "metadata": {},
   "outputs": [
    {
     "data": {
      "text/plain": [
       "'Hello'"
      ]
     },
     "execution_count": 338,
     "metadata": {},
     "output_type": "execute_result"
    }
   ],
   "source": [
    "say_hi(3)"
   ]
  },
  {
   "cell_type": "code",
   "execution_count": 339,
   "id": "2f3ffc3c",
   "metadata": {},
   "outputs": [],
   "source": [
    "def says_hi_hello (num):\n",
    "    if num > 5:\n",
    "        return \"Hi\"\n",
    "    else:\n",
    "        return \"Hello\""
   ]
  },
  {
   "cell_type": "code",
   "execution_count": 340,
   "id": "e4134c1f",
   "metadata": {},
   "outputs": [
    {
     "data": {
      "text/plain": [
       "'Hello'"
      ]
     },
     "execution_count": 340,
     "metadata": {},
     "output_type": "execute_result"
    }
   ],
   "source": [
    "says_hi_hello (3)"
   ]
  },
  {
   "cell_type": "code",
   "execution_count": 341,
   "id": "4a10eafc",
   "metadata": {},
   "outputs": [
    {
     "data": {
      "text/plain": [
       "'Hi'"
      ]
     },
     "execution_count": 341,
     "metadata": {},
     "output_type": "execute_result"
    }
   ],
   "source": [
    "says_hi_hello (6)"
   ]
  },
  {
   "cell_type": "markdown",
   "id": "85df84e3",
   "metadata": {
    "lang": "en"
   },
   "source": [
    "It is also possible to use these anonymous functions as arguments in calls to other functions. For example, in a call to sorted() or list.sort() we can use a lambda function as an argument to the key parameter:"
   ]
  },
  {
   "cell_type": "code",
   "execution_count": 25,
   "id": "6ad5d43e",
   "metadata": {},
   "outputs": [
    {
     "data": {
      "text/plain": [
       "[('bcn', 38378373), ('city', 7482), ('murcia', 333)]"
      ]
     },
     "execution_count": 25,
     "metadata": {},
     "output_type": "execute_result"
    }
   ],
   "source": [
    "# Criteria: first element of the tuple\n",
    "sorted(list_of_tuples, key = lambda x: x[0], reverse = False)"
   ]
  },
  {
   "cell_type": "code",
   "execution_count": 28,
   "id": "f493abff",
   "metadata": {},
   "outputs": [
    {
     "data": {
      "text/plain": [
       "[('murcia', 333), ('city', 7482), ('bcn', 38378373)]"
      ]
     },
     "execution_count": 28,
     "metadata": {},
     "output_type": "execute_result"
    }
   ],
   "source": [
    "# Criteria: second element of the tuple\n",
    "sorted(list_of_tuples, key = lambda x: x[1])"
   ]
  },
  {
   "cell_type": "code",
   "execution_count": 27,
   "id": "20879d75",
   "metadata": {},
   "outputs": [
    {
     "data": {
      "text/plain": [
       "[('bcn', 38378373), ('city', 7482), ('murcia', 333)]"
      ]
     },
     "execution_count": 27,
     "metadata": {},
     "output_type": "execute_result"
    }
   ],
   "source": [
    "# Criteria: second element of the tuple\n",
    "sorted(list_of_tuples, key = lambda x: x[1], reverse = True)"
   ]
  },
  {
   "cell_type": "code",
   "execution_count": 29,
   "id": "1e227d41",
   "metadata": {},
   "outputs": [
    {
     "data": {
      "text/plain": [
       "['a', 'c', 'z']"
      ]
     },
     "execution_count": 29,
     "metadata": {},
     "output_type": "execute_result"
    }
   ],
   "source": [
    "# Q: cabn you do the same with a list?\n",
    "sorted([\"a\", \"z\", \"c\"])"
   ]
  },
  {
   "cell_type": "markdown",
   "id": "b8f268d7",
   "metadata": {
    "lang": "en"
   },
   "source": [
    "Lastly, if we want to return the result of a function to another function, we can use any known function in the scope of the returning function, or use a lambda function:"
   ]
  },
  {
   "cell_type": "code",
   "execution_count": 5,
   "id": "65589c43",
   "metadata": {},
   "outputs": [],
   "source": [
    "def greater (a, b):\n",
    "    if a > b:\n",
    "        return a\n",
    "    elif b > a:\n",
    "        return b"
   ]
  },
  {
   "cell_type": "code",
   "execution_count": 30,
   "id": "f898bd69",
   "metadata": {},
   "outputs": [],
   "source": [
    "def comparisons (types_of_comparison):\n",
    "\n",
    "    if types_of_comparison == \"greater\":\n",
    "        return greater\n",
    "    elif types_of_comparison == \"lesser\":\n",
    "        return lambda x, y: x if x < y else y"
   ]
  },
  {
   "cell_type": "code",
   "execution_count": null,
   "id": "f8335bbf",
   "metadata": {},
   "outputs": [],
   "source": [
    "# parameters = placeholders: \"name\"\n",
    "# arguemnt = actual value: \"sam\""
   ]
  },
  {
   "cell_type": "code",
   "execution_count": 31,
   "id": "abecd142",
   "metadata": {},
   "outputs": [
    {
     "data": {
      "text/plain": [
       "5"
      ]
     },
     "execution_count": 31,
     "metadata": {},
     "output_type": "execute_result"
    }
   ],
   "source": [
    "comparisons (\"lesser\")(10, 5) #lambda function"
   ]
  },
  {
   "cell_type": "code",
   "execution_count": 32,
   "id": "2dc10a11",
   "metadata": {},
   "outputs": [
    {
     "data": {
      "text/plain": [
       "4"
      ]
     },
     "execution_count": 32,
     "metadata": {},
     "output_type": "execute_result"
    }
   ],
   "source": [
    "comparisons (\"greater\")(3, 4) #user-defined function"
   ]
  },
  {
   "cell_type": "code",
   "execution_count": 21,
   "id": "916b3b40",
   "metadata": {},
   "outputs": [],
   "source": [
    "list_of_tuples = [(\"city\", 7482), (\"bcn\", 38378373), (\"murcia\", 333)]"
   ]
  },
  {
   "cell_type": "code",
   "execution_count": 34,
   "id": "c828a564",
   "metadata": {},
   "outputs": [],
   "source": [
    "# no name\n",
    "# in-line\n",
    "# on the spot\n",
    "# not re-usable (unless you save them)\n",
    "# they can take many parameters"
   ]
  },
  {
   "cell_type": "markdown",
   "id": "f90508d9",
   "metadata": {
    "lang": "en"
   },
   "source": [
    "## Recursion\n",
    "It is called recursive call (or recursion), to those functions that in their algorithm, refer to itself.\n",
    "\n",
    "Recursive calls are usually very useful in very specific cases, but due to their great feasibility of falling into infinite iterations, adequate preventive measures should be taken and only used when strictly necessary and there is no viable alternative way to solve the problem. avoiding recursion.\n",
    "\n",
    "Python supports recursive calls, allowing a function to call itself, just as it does when calling another function."
   ]
  },
  {
   "cell_type": "code",
   "execution_count": 35,
   "id": "laden-advocacy",
   "metadata": {
    "scrolled": true
   },
   "outputs": [],
   "source": [
    "# recursive functions -> they can call themselves"
   ]
  },
  {
   "cell_type": "code",
   "execution_count": 36,
   "id": "3f4ba8f3",
   "metadata": {},
   "outputs": [],
   "source": [
    "# num = 20\n",
    "# function -> substract one from 20\n",
    "# run that function as long as 20 is not 0\n",
    "    # while loop\n",
    "    # recursive function that calls itself"
   ]
  },
  {
   "cell_type": "code",
   "execution_count": 43,
   "id": "0bb966d8",
   "metadata": {},
   "outputs": [],
   "source": [
    "import time\n",
    "def recursive_countdown (number):\n",
    "    number -= 1\n",
    "\n",
    "    if number > 0:\n",
    "        recursive_countdown (number)"
   ]
  },
  {
   "cell_type": "code",
   "execution_count": 44,
   "id": "fc1032f4",
   "metadata": {},
   "outputs": [],
   "source": [
    "def recursive_countdown_while (number):\n",
    "\n",
    "    while number > 0:\n",
    "        number -= 1\n",
    "        print(number)"
   ]
  },
  {
   "cell_type": "code",
   "execution_count": 45,
   "id": "72bac66e",
   "metadata": {},
   "outputs": [
    {
     "name": "stdout",
     "output_type": "stream",
     "text": [
      "4\n",
      "3\n",
      "2\n",
      "1\n",
      "0\n"
     ]
    }
   ],
   "source": [
    "recursive_countdown_while(5)"
   ]
  },
  {
   "cell_type": "code",
   "execution_count": 42,
   "id": "8de60112",
   "metadata": {},
   "outputs": [
    {
     "name": "stdout",
     "output_type": "stream",
     "text": [
      "4\n",
      "3\n",
      "2\n",
      "1\n",
      "0\n"
     ]
    }
   ],
   "source": [
    "recursive_countdown (5)"
   ]
  },
  {
   "cell_type": "code",
   "execution_count": 53,
   "id": "45332ac7",
   "metadata": {},
   "outputs": [],
   "source": [
    "def user ():\n",
    "    \"\"\"Have the user input a number lower than 5\n",
    "    \"\"\"\n",
    "    num = int(input (\"Please input a number: \"))\n",
    "    \n",
    "    if num >= 5:\n",
    "        user()\n",
    "        \n",
    "    else:\n",
    "        print(\"Your number is correct!\")"
   ]
  },
  {
   "cell_type": "code",
   "execution_count": 54,
   "id": "2ede1567",
   "metadata": {},
   "outputs": [
    {
     "name": "stdout",
     "output_type": "stream",
     "text": [
      "Please input a number: 77\n",
      "Please input a number: 3\n",
      "Your number is correct!\n"
     ]
    }
   ],
   "source": [
    "user()"
   ]
  },
  {
   "cell_type": "code",
   "execution_count": 55,
   "id": "930c90ee",
   "metadata": {},
   "outputs": [],
   "source": [
    "def user_while ():\n",
    "    \"\"\"Have the user input a number lower than 5\n",
    "    \"\"\"\n",
    "    num = int(input (\"Please input a number: \"))\n",
    "    \n",
    "    while num >= 5:\n",
    "        num = int(input (\"Please input a number: \"))\n",
    "        \n",
    "    else:\n",
    "        print(\"Your number is correct!\")"
   ]
  },
  {
   "cell_type": "code",
   "execution_count": 56,
   "id": "71abd17b",
   "metadata": {},
   "outputs": [
    {
     "name": "stdout",
     "output_type": "stream",
     "text": [
      "Please input a number: 7\n",
      "Please input a number: 7\n",
      "Please input a number: 7\n",
      "Please input a number: 5\n",
      "Please input a number: 2\n",
      "Your number is correct!\n"
     ]
    }
   ],
   "source": [
    "user_while()"
   ]
  },
  {
   "cell_type": "markdown",
   "id": "4cb268d0",
   "metadata": {
    "lang": "en"
   },
   "source": [
    "## Summary\n",
    "It's your turn. What have we learned today?"
   ]
  },
  {
   "cell_type": "markdown",
   "id": "48da5e9b",
   "metadata": {},
   "source": [
    "- defined, built-in or lambda\n",
    "- inspect the source code\n",
    "    - inspect.getsource(nameoffunction)\n",
    "    - function._ _doc_ _\n",
    "- variable number of arguments\n",
    "- default and optional\n",
    "    - documentation: \n",
    "        - reverse=None\n",
    "        - reverse=False\n",
    "- lambda\n",
    "    - one-use functionbs\n",
    "    - might be passed as arguemnts of another function\n",
    "- print vs return\n",
    "    - print: shows\n",
    "    - return: gives\n",
    "    \n",
    "- recursivity: careful not to go to infinity\n",
    "- imperative programming, functional programming, Object oriented programmiung\n",
    "- DOCUMENT THINGS\n",
    "```python\n",
    "def my_little_function (arg1, arg2):\n",
    "        \"\"\"Descritpion\n",
    "        :arg1: type, what it is\n",
    "        :arg2: type, what it is\n",
    "        :return: if it has one\n",
    "        \"\"\"\n",
    "        print(\"do things\")\n",
    "\n",
    " ```\n",
    "- naming function\n",
    "    - descriptive\n",
    "    - they do things: verbs"
   ]
  }
 ],
 "metadata": {
  "kernelspec": {
   "display_name": "ironhack",
   "language": "python",
   "name": "ironhack"
  },
  "language_info": {
   "codemirror_mode": {
    "name": "ipython",
    "version": 3
   },
   "file_extension": ".py",
   "mimetype": "text/x-python",
   "name": "python",
   "nbconvert_exporter": "python",
   "pygments_lexer": "ipython3",
   "version": "3.8.13"
  },
  "nbTranslate": {
   "displayLangs": [
    "en",
    "es"
   ],
   "hotkey": "alt-a",
   "langInMainMenu": true,
   "sourceLang": "es",
   "targetLang": "en",
   "useGoogleTranslate": true
  },
  "toc": {
   "base_numbering": 1,
   "nav_menu": {},
   "number_sections": true,
   "sideBar": true,
   "skip_h1_title": true,
   "title_cell": "Table of Contents",
   "title_sidebar": "Contents",
   "toc_cell": true,
   "toc_position": {
    "height": "calc(100% - 180px)",
    "left": "10px",
    "top": "150px",
    "width": "288px"
   },
   "toc_section_display": true,
   "toc_window_display": false
  }
 },
 "nbformat": 4,
 "nbformat_minor": 5
}
