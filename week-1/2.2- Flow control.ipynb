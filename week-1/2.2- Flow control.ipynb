{
 "cells": [
  {
   "cell_type": "markdown",
   "id": "subjective-quarter",
   "metadata": {
    "toc": true
   },
   "source": [
    "<h1>Table of Contents<span class=\"tocSkip\"></span></h1>\n",
    "<div class=\"toc\"><ul class=\"toc-item\"><li><span><a href=\"#Assignment-operators\" data-toc-modified-id=\"Assignment-operators-1\"><span class=\"toc-item-num\">1&nbsp;&nbsp;</span>Assignment operators</a></span></li><li><span><a href=\"#Arithmetic-operators\" data-toc-modified-id=\"Arithmetic-operators-2\"><span class=\"toc-item-num\">2&nbsp;&nbsp;</span>Arithmetic operators</a></span></li><li><span><a href=\"#Relational-operators\" data-toc-modified-id=\"Relational-operators-3\"><span class=\"toc-item-num\">3&nbsp;&nbsp;</span>Relational operators</a></span></li><li><span><a href=\"#Logical/Boolean-operators\" data-toc-modified-id=\"Logical/Boolean-operators-4\"><span class=\"toc-item-num\">4&nbsp;&nbsp;</span>Logical/Boolean operators</a></span></li><li><span><a href=\"#Pseudocode\" data-toc-modified-id=\"Pseudocode-5\"><span class=\"toc-item-num\">5&nbsp;&nbsp;</span>Pseudocode</a></span></li><li><span><a href=\"#The-&quot;If&quot;-statement\" data-toc-modified-id=\"The-&quot;If&quot;-statement-6\"><span class=\"toc-item-num\">6&nbsp;&nbsp;</span>The \"If\" statement</a></span><ul class=\"toc-item\"><li><ul class=\"toc-item\"><li><span><a href=\"#Syntax-things-to-consider:\" data-toc-modified-id=\"Syntax-things-to-consider:-6.0.1\"><span class=\"toc-item-num\">6.0.1&nbsp;&nbsp;</span>Syntax things to consider:</a></span></li></ul></li><li><span><a href=\"#elif\" data-toc-modified-id=\"elif-6.1\"><span class=\"toc-item-num\">6.1&nbsp;&nbsp;</span>elif</a></span></li><li><span><a href=\"#else\" data-toc-modified-id=\"else-6.2\"><span class=\"toc-item-num\">6.2&nbsp;&nbsp;</span>else</a></span></li><li><span><a href=\"#Your-examples-🚀\" data-toc-modified-id=\"Your-examples-🚀-6.3\"><span class=\"toc-item-num\">6.3&nbsp;&nbsp;</span>Your examples 🚀</a></span></li></ul></li><li><span><a href=\"#Summary\" data-toc-modified-id=\"Summary-7\"><span class=\"toc-item-num\">7&nbsp;&nbsp;</span>Summary</a></span></li><li><span><a href=\"#Further-materials\" data-toc-modified-id=\"Further-materials-8\"><span class=\"toc-item-num\">8&nbsp;&nbsp;</span>Further materials</a></span></li></ul></div>"
   ]
  },
  {
   "cell_type": "markdown",
   "id": "italic-editor",
   "metadata": {},
   "source": [
    "# Control Flow    \n",
    "Let`s go with the flow"
   ]
  },
  {
   "cell_type": "markdown",
   "id": "e6aaec42",
   "metadata": {
    "lang": "en"
   },
   "source": [
    "## Assignment operators"
   ]
  },
  {
   "cell_type": "markdown",
   "id": "3e1e56bd",
   "metadata": {
    "lang": "en"
   },
   "source": [
    "Assignment operators are those that allow you to give a value to a variable or modify it. Python has eight different assignment operators: a simple assignment operator and seven compound assignment operators."
   ]
  },
  {
   "cell_type": "markdown",
   "id": "fc5d346e",
   "metadata": {
    "lang": "en"
   },
   "source": [
    "* `=` Simple assignment `a=b`\n",
    "* `+=` Addition assignment `a+=b` Simple equivalent `a=a+b`\n",
    "* `-=` Subtraction assignment `a-=b` Simple equivalent `a=a-b`\n",
    "* `*=` Multiplication Assignment `a*=b` Simple Equivalent `a=a*b`\n",
    "* `/=` Division assignment `a/=b` Simple equivalent `a=a/b`\n",
    "* `%=` Module mapping `a/=b` Simple equivalent `a=a%b`\n",
    "* `//=` Integer Division Assignment `a//=b` Simple Equivalent `a=a//b`"
   ]
  },
  {
   "cell_type": "code",
   "execution_count": 8,
   "id": "2d6aa705",
   "metadata": {},
   "outputs": [],
   "source": [
    "a = 0\n",
    "a = 0 + 2\n",
    "\n",
    "\n",
    "a += 2"
   ]
  },
  {
   "cell_type": "code",
   "execution_count": 9,
   "id": "aa8caf72",
   "metadata": {},
   "outputs": [
    {
     "data": {
      "text/plain": [
       "4"
      ]
     },
     "execution_count": 9,
     "metadata": {},
     "output_type": "execute_result"
    }
   ],
   "source": [
    "a"
   ]
  },
  {
   "cell_type": "markdown",
   "id": "89b42f24",
   "metadata": {
    "lang": "en"
   },
   "source": [
    "The simple assignment operator is the equals symbol (=) and operations performed on it always have the syntax: `variable = expression`. In this type of operation, first, the expression on the right is resolved and the resulting value is assigned to the variable on the left."
   ]
  },
  {
   "cell_type": "markdown",
   "id": "143f947d",
   "metadata": {
    "lang": "en"
   },
   "source": [
    "## Arithmetic operators"
   ]
  },
  {
   "cell_type": "markdown",
   "id": "9aecbca0",
   "metadata": {
    "lang": "en"
   },
   "source": [
    "Arithmetic operators are used to perform arithmetic operations, that is, to manipulate numerical data through mathematical operations such as addition, subtraction or multiplication..."
   ]
  },
  {
   "cell_type": "code",
   "execution_count": 10,
   "id": "cbf4fe14",
   "metadata": {},
   "outputs": [
    {
     "data": {
      "text/plain": [
       "12"
      ]
     },
     "execution_count": 10,
     "metadata": {},
     "output_type": "execute_result"
    }
   ],
   "source": [
    "a * 3 "
   ]
  },
  {
   "cell_type": "markdown",
   "id": "7dae48c3",
   "metadata": {},
   "source": [
    "`+`, `*`"
   ]
  },
  {
   "cell_type": "markdown",
   "id": "71a92117",
   "metadata": {
    "lang": "en"
   },
   "source": [
    "## Relational operators"
   ]
  },
  {
   "cell_type": "markdown",
   "id": "38d5146c",
   "metadata": {
    "lang": "en"
   },
   "source": [
    "Relational operators are symbols used to compare two values ​​or expressions. The result of the evaluation with these two operators can be True, if the comparison is true, or False, if the comparison is false."
   ]
  },
  {
   "cell_type": "markdown",
   "id": "b7d7c2b5",
   "metadata": {
    "lang": "en"
   },
   "source": [
    "* `==` Equal to `a==b`\n",
    "* `!=` Not equal to `a!=b`\n",
    "* `>` Greater than `a>b`\n",
    "* `<` Lesser than `a<b` \n",
    "* `>=` Greater than or equal to `a>=b`\n",
    "* `<=` Less than or equal to `a<=b`"
   ]
  },
  {
   "cell_type": "markdown",
   "id": "6bb2bc2a",
   "metadata": {
    "lang": "en"
   },
   "source": [
    "Note the difference between a single equals sign (=), which is an assignment, and a double equals sign (==), which is a relational operator\n",
    "\n",
    "**Hint: Use parentheses to maintain the order of operations."
   ]
  },
  {
   "cell_type": "code",
   "execution_count": 11,
   "id": "ad340eea",
   "metadata": {},
   "outputs": [],
   "source": [
    "a = 3\n",
    "b = 4"
   ]
  },
  {
   "cell_type": "code",
   "execution_count": 13,
   "id": "827c3ba3",
   "metadata": {},
   "outputs": [],
   "source": [
    "a = b # this overwrites"
   ]
  },
  {
   "cell_type": "code",
   "execution_count": 16,
   "id": "5870be1e",
   "metadata": {},
   "outputs": [
    {
     "data": {
      "text/plain": [
       "True"
      ]
     },
     "execution_count": 16,
     "metadata": {},
     "output_type": "execute_result"
    }
   ],
   "source": [
    "a == b # this evaluates the equality"
   ]
  },
  {
   "cell_type": "code",
   "execution_count": 15,
   "id": "1df477c4",
   "metadata": {},
   "outputs": [
    {
     "data": {
      "text/plain": [
       "4"
      ]
     },
     "execution_count": 15,
     "metadata": {},
     "output_type": "execute_result"
    }
   ],
   "source": [
    "a"
   ]
  },
  {
   "cell_type": "code",
   "execution_count": 17,
   "id": "c89d88a6",
   "metadata": {},
   "outputs": [
    {
     "name": "stdout",
     "output_type": "stream",
     "text": [
      "It's the same\n"
     ]
    }
   ],
   "source": [
    "if a != b:\n",
    "    print(\"This is different\")\n",
    "else: \n",
    "    print(\"It's the same\")"
   ]
  },
  {
   "cell_type": "code",
   "execution_count": 23,
   "id": "b55efc9d",
   "metadata": {},
   "outputs": [
    {
     "name": "stdout",
     "output_type": "stream",
     "text": [
      "It's\n"
     ]
    }
   ],
   "source": [
    "if a != b:\n",
    "    print(\"This\")\n",
    "else: \n",
    "    print(\"It's\")"
   ]
  },
  {
   "cell_type": "code",
   "execution_count": 27,
   "id": "fa58f6af",
   "metadata": {},
   "outputs": [],
   "source": [
    "a = 0\n",
    "b = 10"
   ]
  },
  {
   "cell_type": "code",
   "execution_count": 29,
   "id": "05e69270",
   "metadata": {},
   "outputs": [
    {
     "data": {
      "text/plain": [
       "True"
      ]
     },
     "execution_count": 29,
     "metadata": {},
     "output_type": "execute_result"
    }
   ],
   "source": [
    "a <= b"
   ]
  },
  {
   "cell_type": "code",
   "execution_count": 30,
   "id": "5868c727",
   "metadata": {},
   "outputs": [
    {
     "data": {
      "text/plain": [
       "True"
      ]
     },
     "execution_count": 30,
     "metadata": {},
     "output_type": "execute_result"
    }
   ],
   "source": [
    "\"a string\" == \"a string\""
   ]
  },
  {
   "cell_type": "code",
   "execution_count": 36,
   "id": "96851194",
   "metadata": {},
   "outputs": [
    {
     "data": {
      "text/plain": [
       "False"
      ]
     },
     "execution_count": 36,
     "metadata": {},
     "output_type": "execute_result"
    }
   ],
   "source": [
    "\"a string\" == \"a string\""
   ]
  },
  {
   "cell_type": "code",
   "execution_count": null,
   "id": "938901c5",
   "metadata": {},
   "outputs": [],
   "source": [
    "# Tests: strings need to match perfectly"
   ]
  },
  {
   "cell_type": "markdown",
   "id": "577016cc",
   "metadata": {
    "lang": "en"
   },
   "source": [
    "## Logical/Boolean operators"
   ]
  },
  {
   "cell_type": "markdown",
   "id": "5d2c7d1a",
   "metadata": {
    "lang": "en"
   },
   "source": [
    "The logical or boolean operators are those that allow you to connect two comparison expressions and evaluate them logically, except for the not operator, which inverts the logical value of the expression to which it is applied. In Python there are three logical operators: and(and), or(or), and not(not). Operations with these operators always return a Boolean value: True or False."
   ]
  },
  {
   "cell_type": "markdown",
   "id": "0bf8a056",
   "metadata": {
    "lang": "en"
   },
   "source": [
    "With just these two `True`|`False` values ​​we can create a whole branch of mathematics called [Boolean Algebra](https://en.wikipedia.org/wiki/Boolean_algebra#Laws). While in regular Algebra the basic operations are addition and multiplication, the main operations in Boolean Algebra are conjunction (and), disjunction (or), and negation (not). **It is the formalism used to describe the logical operations**.\n",
    "\n",
    "In [Python we write these operations](https://www.geeksforgeeks.org/python-3-logical-operators/?ref=rp) as:\n",
    "\n",
    "- `==`\n",
    "* `x` and `y`\n",
    "* `x` or `y`\n",
    "* not `x`\n",
    "* `^`\n",
    "\n",
    "Although the meaning of these operations is clear, we can fully define them with the so-called \"truth table\":"
   ]
  },
  {
   "cell_type": "markdown",
   "id": "coral-armenia",
   "metadata": {},
   "source": [
    "![tablas](http://elclubdelautodidacta.es/wp/wp-content/uploads/2012/11/python-logicos.png)"
   ]
  },
  {
   "cell_type": "markdown",
   "id": "c39be317",
   "metadata": {
    "lang": "en"
   },
   "source": [
    "We can also include the EXCLUSIVE OR, which is true when one and only one of the operands is true, but strictly you must know that it is derived from the three basic ones. Its representation is ^, the hat or caret."
   ]
  },
  {
   "cell_type": "markdown",
   "id": "30ba18d2",
   "metadata": {},
   "source": [
    "The **equal** operator"
   ]
  },
  {
   "cell_type": "code",
   "execution_count": 42,
   "id": "57776d44",
   "metadata": {},
   "outputs": [],
   "source": [
    "a = 10"
   ]
  },
  {
   "cell_type": "code",
   "execution_count": 40,
   "id": "624458b7",
   "metadata": {},
   "outputs": [
    {
     "data": {
      "text/plain": [
       "False"
      ]
     },
     "execution_count": 40,
     "metadata": {},
     "output_type": "execute_result"
    }
   ],
   "source": [
    "a > 0 and a > 5"
   ]
  },
  {
   "cell_type": "code",
   "execution_count": 43,
   "id": "05a99932",
   "metadata": {},
   "outputs": [
    {
     "data": {
      "text/plain": [
       "True"
      ]
     },
     "execution_count": 43,
     "metadata": {},
     "output_type": "execute_result"
    }
   ],
   "source": [
    "a > 0 or a == 1"
   ]
  },
  {
   "cell_type": "code",
   "execution_count": 45,
   "id": "460d685a",
   "metadata": {},
   "outputs": [
    {
     "data": {
      "text/plain": [
       "False"
      ]
     },
     "execution_count": 45,
     "metadata": {},
     "output_type": "execute_result"
    }
   ],
   "source": [
    "bool(\"\")"
   ]
  },
  {
   "cell_type": "code",
   "execution_count": 47,
   "id": "b9b65430",
   "metadata": {},
   "outputs": [
    {
     "data": {
      "text/plain": [
       "bool"
      ]
     },
     "execution_count": 47,
     "metadata": {},
     "output_type": "execute_result"
    }
   ],
   "source": [
    "type(True)"
   ]
  },
  {
   "cell_type": "code",
   "execution_count": null,
   "id": "b1a4b214",
   "metadata": {},
   "outputs": [],
   "source": [
    "# True is a type bool\n",
    "# False is a type bool"
   ]
  },
  {
   "cell_type": "code",
   "execution_count": 48,
   "id": "3042f6fe",
   "metadata": {},
   "outputs": [
    {
     "data": {
      "text/plain": [
       "True"
      ]
     },
     "execution_count": 48,
     "metadata": {},
     "output_type": "execute_result"
    }
   ],
   "source": [
    "bool(a) # truthy"
   ]
  },
  {
   "cell_type": "code",
   "execution_count": 49,
   "id": "28325e09",
   "metadata": {},
   "outputs": [
    {
     "data": {
      "text/plain": [
       "False"
      ]
     },
     "execution_count": 49,
     "metadata": {},
     "output_type": "execute_result"
    }
   ],
   "source": [
    "bool(0) # falsie"
   ]
  },
  {
   "cell_type": "code",
   "execution_count": 50,
   "id": "5101333a",
   "metadata": {},
   "outputs": [
    {
     "name": "stdout",
     "output_type": "stream",
     "text": [
      "A is true\n"
     ]
    }
   ],
   "source": [
    "if a:\n",
    "    print(\"A is true\")"
   ]
  },
  {
   "cell_type": "code",
   "execution_count": 53,
   "id": "b8e67be2",
   "metadata": {},
   "outputs": [
    {
     "name": "stdout",
     "output_type": "stream",
     "text": [
      "A is true\n"
     ]
    }
   ],
   "source": [
    "if bool(a) == True:\n",
    "    print(\"A is true\")"
   ]
  },
  {
   "cell_type": "code",
   "execution_count": 54,
   "id": "ecf55c16",
   "metadata": {},
   "outputs": [
    {
     "data": {
      "text/plain": [
       "False"
      ]
     },
     "execution_count": 54,
     "metadata": {},
     "output_type": "execute_result"
    }
   ],
   "source": [
    "bool(0)"
   ]
  },
  {
   "cell_type": "code",
   "execution_count": 55,
   "id": "ccc8df09",
   "metadata": {},
   "outputs": [
    {
     "data": {
      "text/plain": [
       "False"
      ]
     },
     "execution_count": 55,
     "metadata": {},
     "output_type": "execute_result"
    }
   ],
   "source": [
    "bool(None)"
   ]
  },
  {
   "cell_type": "code",
   "execution_count": 57,
   "id": "16cfae5e",
   "metadata": {},
   "outputs": [
    {
     "data": {
      "text/plain": [
       "False"
      ]
     },
     "execution_count": 57,
     "metadata": {},
     "output_type": "execute_result"
    }
   ],
   "source": [
    "bool([])\n",
    "bool(\"\")\n",
    "bool({})"
   ]
  },
  {
   "cell_type": "code",
   "execution_count": 58,
   "id": "f1a82b6e",
   "metadata": {},
   "outputs": [
    {
     "data": {
      "text/plain": [
       "False"
      ]
     },
     "execution_count": 58,
     "metadata": {},
     "output_type": "execute_result"
    }
   ],
   "source": [
    "bool(range(0))"
   ]
  },
  {
   "cell_type": "code",
   "execution_count": 59,
   "id": "6b9f9b90",
   "metadata": {},
   "outputs": [
    {
     "data": {
      "text/plain": [
       "False"
      ]
     },
     "execution_count": 59,
     "metadata": {},
     "output_type": "execute_result"
    }
   ],
   "source": [
    "bool(False)"
   ]
  },
  {
   "cell_type": "code",
   "execution_count": 60,
   "id": "a338a39e",
   "metadata": {},
   "outputs": [
    {
     "data": {
      "text/plain": [
       "True"
      ]
     },
     "execution_count": 60,
     "metadata": {},
     "output_type": "execute_result"
    }
   ],
   "source": [
    "bool(\"a string\")\n",
    "bool(9)\n",
    "bool([1])"
   ]
  },
  {
   "cell_type": "code",
   "execution_count": 63,
   "id": "dd36706d",
   "metadata": {},
   "outputs": [
    {
     "data": {
      "text/plain": [
       "False"
      ]
     },
     "execution_count": 63,
     "metadata": {},
     "output_type": "execute_result"
    }
   ],
   "source": [
    "bool(0.0)"
   ]
  },
  {
   "cell_type": "markdown",
   "id": "2d617b18",
   "metadata": {},
   "source": [
    "- 0\n",
    "- None\n",
    "- Empty objects\n",
    "- range(0)\n",
    "- False"
   ]
  },
  {
   "cell_type": "code",
   "execution_count": 62,
   "id": "31d619ad",
   "metadata": {},
   "outputs": [],
   "source": [
    "if []: # this evalutes to false\n",
    "    print(\"It is empty\")"
   ]
  },
  {
   "cell_type": "code",
   "execution_count": null,
   "id": "88afedb7",
   "metadata": {},
   "outputs": [],
   "source": [
    "True, False #truthy, #falsies"
   ]
  },
  {
   "cell_type": "markdown",
   "id": "d5122028",
   "metadata": {
    "lang": "en"
   },
   "source": [
    "The **and** operator evaluates whether both expressions are true. If both expressions are true, it returns True. If either expression is false, it returns False. These types of tables are formally known as \"truth tables\"."
   ]
  },
  {
   "cell_type": "code",
   "execution_count": null,
   "id": "encouraging-pressure",
   "metadata": {},
   "outputs": [],
   "source": []
  },
  {
   "cell_type": "markdown",
   "id": "ddb3ca4d",
   "metadata": {
    "lang": "en"
   },
   "source": [
    "The **or** operator evaluates whether either expression is true, that is, it returns True if either expression is true and False when both expressions are false."
   ]
  },
  {
   "cell_type": "code",
   "execution_count": null,
   "id": "silver-flesh",
   "metadata": {},
   "outputs": [],
   "source": []
  },
  {
   "cell_type": "markdown",
   "id": "887a5c8d",
   "metadata": {
    "lang": "en"
   },
   "source": [
    "The **not** operator is an operator that returns the opposite value of the evaluated expression. If the expression has the value True, it returns False. Conversely, if the expression has the value False, it returns True."
   ]
  },
  {
   "cell_type": "code",
   "execution_count": null,
   "id": "4eb74c35",
   "metadata": {},
   "outputs": [],
   "source": []
  },
  {
   "cell_type": "markdown",
   "id": "attended-assurance",
   "metadata": {},
   "source": [
    "# Control Flow"
   ]
  },
  {
   "cell_type": "markdown",
   "id": "3e0ac95f",
   "metadata": {
    "lang": "en"
   },
   "source": [
    "In imperative languages, like Python, the computer follows the sequence of instructions in the code and executes it line by line. We call the \"flow\" of a program the order in which the code is executed. This sequential order can be altered. A function call, for example, leads execution to the code inside it (the \"body\" of the function) to return immediately after the call and continue."
   ]
  },
  {
   "cell_type": "markdown",
   "id": "c2a2b91b",
   "metadata": {
    "lang": "en"
   },
   "source": [
    "## Pseudocode"
   ]
  },
  {
   "cell_type": "markdown",
   "id": "6a4ca3d9",
   "metadata": {
    "lang": "en"
   },
   "source": [
    "Pseudocode is a planning method that allows the programmer to plan without worrying about syntax."
   ]
  },
  {
   "attachments": {
    "image.png": {
     "image/png": "[encoded data removed]"
    }
   },
   "cell_type": "markdown",
   "id": "short-survey",
   "metadata": {},
   "source": [
    "![image.png](attachment:image.png)"
   ]
  },
  {
   "cell_type": "code",
   "execution_count": null,
   "id": "d2737584",
   "metadata": {},
   "outputs": [],
   "source": [
    "# pseudocode is like metacode\n",
    "# it is code with natural language\n",
    "# translate that language into acutal syntax"
   ]
  },
  {
   "cell_type": "markdown",
   "id": "0eaad548",
   "metadata": {
    "lang": "en"
   },
   "source": [
    "## The \"If\" statement\n",
    "This is the most popular option to control the flow of a program. Conditions allow you to choose between different paths depending on the value of an expression. When you want to execute an action only when some condition is `True`, an \"if\" statement is used:"
   ]
  },
  {
   "cell_type": "markdown",
   "id": "580479b3",
   "metadata": {},
   "source": [
    "#### Syntax things to consider:\n",
    "- indentation\n",
    "- colon\n"
   ]
  },
  {
   "cell_type": "code",
   "execution_count": 75,
   "id": "12bb43e6",
   "metadata": {},
   "outputs": [
    {
     "name": "stdout",
     "output_type": "stream",
     "text": [
      "This is greater than 10\n"
     ]
    }
   ],
   "source": [
    "value = 11\n",
    "\n",
    "if value > 10:\n",
    "    print(\"This is greater than 10\")"
   ]
  },
  {
   "cell_type": "code",
   "execution_count": 72,
   "id": "c88a8521",
   "metadata": {
    "scrolled": true
   },
   "outputs": [
    {
     "name": "stdout",
     "output_type": "stream",
     "text": [
      "This is NOT greater than 10\n"
     ]
    }
   ],
   "source": [
    "value = 9\n",
    "\n",
    "if value in range(0, 8):\n",
    "    print(\"This is greater than 10\")\n",
    "else:\n",
    "    print(\"This is NOT greater than 10\")"
   ]
  },
  {
   "cell_type": "markdown",
   "id": "305e83a6",
   "metadata": {
    "lang": "en"
   },
   "source": [
    "As we can see, the code block associated with the condition begins after the colon \":\", with an indentation that determines the code block. All statements belonging to the same block must have the same indentation. The block ends when the indent returns to the starting position of the if statement. Remember that Python uses indentation to identify blocks of code."
   ]
  },
  {
   "cell_type": "markdown",
   "id": "baa11a80",
   "metadata": {
    "lang": "en"
   },
   "source": [
    "### elif\n",
    "Sometimes there are more than two possibilities. Think of something like:\n",
    "\"If Bob can get into the disco, let him in. If not, if he's over 16, recommend the nearby light disco. If not, send him home.\"\n",
    "\n",
    "We can achieve this with the `elif` clause and chained conditionals:"
   ]
  },
  {
   "cell_type": "code",
   "execution_count": null,
   "id": "89d6a107",
   "metadata": {},
   "outputs": [],
   "source": []
  },
  {
   "cell_type": "markdown",
   "id": "770fbd1a",
   "metadata": {
    "lang": "en"
   },
   "source": [
    "### else\n",
    "Sometimes you want if the condition is not met (and only then) another action is executed. They are mutually exclusive actions. This is achieved with the `else` statement."
   ]
  },
  {
   "cell_type": "markdown",
   "id": "median-injection",
   "metadata": {},
   "source": [
    "![if](../images/if-else-statements.jpeg)"
   ]
  },
  {
   "cell_type": "code",
   "execution_count": null,
   "id": "e2818e03",
   "metadata": {},
   "outputs": [],
   "source": [
    "value = 9\n",
    "\n",
    "if value in range(0, 8):\n",
    "    print(\"This is greater than 10\")\n",
    "elif: #this one will work\n",
    "    \n",
    "elif\n",
    "\n",
    "elif: \n",
    "    \n",
    "else:\n",
    "    print(\"This is NOT greater than 10\")"
   ]
  },
  {
   "cell_type": "code",
   "execution_count": null,
   "id": "be7b7970",
   "metadata": {},
   "outputs": [],
   "source": [
    "value = 9\n",
    "age = 22\n",
    "\n",
    "if value in range(0, 8):\n",
    "    print(\"This is greater than 10\")\n",
    "if value:\n",
    "    \n",
    "if value\n",
    "\n",
    "if value\n",
    "    \n",
    "else:\n",
    "    print(\"This is NOT greater than 10\")"
   ]
  },
  {
   "cell_type": "code",
   "execution_count": null,
   "id": "5d5f4cca",
   "metadata": {},
   "outputs": [],
   "source": [
    "# Using ifs when you can just use elifs is not recommmended\n",
    "# many ifs is poor memory wise\n",
    "\n",
    "\n",
    "# if conditions are exclusive (only one can be met: ELIFS)\n",
    "# if different conditions can happen at one, then okay, if's"
   ]
  },
  {
   "cell_type": "markdown",
   "id": "71dcc64c",
   "metadata": {
    "lang": "en"
   },
   "source": [
    "```python\n",
    "if I don't know what:\n",
    "    I don't know\n",
    "if else:\n",
    "    somethingelse\n",
    "```\n",
    "\n",
    "💩 It is computationally more efficient to use elif, although this code works, Python will go in and check all if"
   ]
  },
  {
   "cell_type": "markdown",
   "id": "4119b21e",
   "metadata": {
    "lang": "en"
   },
   "source": [
    "# Challenge 🤔\n",
    "\n",
    "Write a simple program that prints if bob can get into the club\n",
    "for any two values ​​of the following variables:\n",
    "`print(age_bob,age_minimum)`"
   ]
  },
  {
   "cell_type": "markdown",
   "id": "a9b00fd8",
   "metadata": {
    "lang": "en"
   },
   "source": [
    "### Your examples 🚀"
   ]
  },
  {
   "cell_type": "code",
   "execution_count": null,
   "id": "understanding-increase",
   "metadata": {},
   "outputs": [],
   "source": []
  },
  {
   "cell_type": "markdown",
   "id": "5f01cb54",
   "metadata": {
    "lang": "en"
   },
   "source": [
    "# Challenge 🤔\n",
    "Modify your schedule so that when Bob can't get into the club but is over the legal age (age=21)\n",
    "send it to disco light"
   ]
  },
  {
   "cell_type": "code",
   "execution_count": null,
   "id": "transparent-nickname",
   "metadata": {},
   "outputs": [],
   "source": []
  },
  {
   "cell_type": "markdown",
   "id": "b217ff64",
   "metadata": {
    "lang": "en"
   },
   "source": [
    "Let's imagine that we are building the program for a robot that sorts eggs by size. Our robot arm receives information from a scale, which indicates, in grams, the weight of the egg to be classified. The arm must, from the weight, place the egg in one box or another as follows:\n",
    "\n",
    "- **Box S** (small): weight less than 53 grams.\n",
    "- **Box M** (medium) : weight greater than or equal to 53 grams and less than 63 grams.\n",
    "- **Box L** (large): weight greater than or equal to 63 grams and less than 73 grams.\n",
    "- **XL box** (super large): weight greater than or equal to 73 grams."
   ]
  },
  {
   "cell_type": "markdown",
   "id": "2ec25145",
   "metadata": {
    "lang": "en"
   },
   "source": [
    "## Summary\n",
    "It's your turn: What have we learned?\n",
    "\n"
   ]
  },
  {
   "cell_type": "markdown",
   "id": "37a097a5",
   "metadata": {},
   "source": [
    "- Arithmetic operators\n",
    "- Assignment operators\n",
    "    - a = b\n",
    "    - Operations while assigning\n",
    "        - a = a + b; a+=b (#a=+b)\n",
    "        - addition, substration, division, so on.\n",
    "\n",
    "- Relational ones\n",
    "    - ==\n",
    "    - `>`\n",
    "    - <\n",
    "\n",
    "- Boolean\n",
    "    - and, or\n",
    "    - truthies, falises \n",
    "    - True, False\n",
    "\n",
    "- if/elif/else\n",
    "    - at least one if\n",
    "    - no more than one else\n",
    "    - as many elifs as possible\n",
    "    \n",
    "    - elifs most of the time rather than ifs\n",
    "    - indentation AND colons\n",
    "    \n",
    "    \n",
    "- Environment: a little box with some given dependencies\n",
    "    - always make sure you're in the env you want before installing\n",
    " \n",
    "- Pseudocode: write what you want to do before you code it (sometimes)"
   ]
  },
  {
   "cell_type": "markdown",
   "id": "6b90012b",
   "metadata": {},
   "source": [
    "###### Troubleshooting\n",
    "- What do I have? \n",
    "    - Data types\n",
    "    - Data structure\n",
    "\n",
    "\n",
    "- What i want to get?\n",
    "\n",
    "- type(something)\n",
    "- print(the value of things)\n",
    "- look at the docs: google (thing + docs), shift + tab, tab for autocompletion of methods\n",
    "- pseudocode & rubber duck debugging"
   ]
  },
  {
   "cell_type": "markdown",
   "id": "7deb669c",
   "metadata": {},
   "source": [
    "[Rubber duck debugging](https://www.freecodecamp.org/news/rubber-duck-debugging/#:~:text=The%20idea%20behind%20the%20rubber,loud%20before%20you%20post%20it)"
   ]
  },
  {
   "cell_type": "markdown",
   "id": "toxic-romance",
   "metadata": {},
   "source": [
    "## Further materials\n",
    "\n",
    "* [Python docs](https://docs.python.org/3/tutorial/controlflow.html)\n",
    "* Short tutorial on [Python Booleans](https://realpython.com/python-boolean/)\n",
    "* Just a nice [talk by Feynman](https://www.youtube.com/watch?v=EKWGGDXe5MA) on the principles of computation"
   ]
  }
 ],
 "metadata": {
  "kernelspec": {
   "display_name": "Python 3 (ipykernel)",
   "language": "python",
   "name": "python3"
  },
  "language_info": {
   "codemirror_mode": {
    "name": "ipython",
    "version": 3
   },
   "file_extension": ".py",
   "mimetype": "text/x-python",
   "name": "python",
   "nbconvert_exporter": "python",
   "pygments_lexer": "ipython3",
   "version": "3.8.13"
  },
  "nbTranslate": {
   "displayLangs": [
    "en",
    "es"
   ],
   "hotkey": "alt-a",
   "langInMainMenu": true,
   "sourceLang": "es",
   "targetLang": "en",
   "useGoogleTranslate": true
  },
  "toc": {
   "base_numbering": 1,
   "nav_menu": {},
   "number_sections": true,
   "sideBar": true,
   "skip_h1_title": true,
   "title_cell": "Table of Contents",
   "title_sidebar": "Contents",
   "toc_cell": true,
   "toc_position": {
    "height": "calc(100% - 180px)",
    "left": "10px",
    "top": "150px",
    "width": "165px"
   },
   "toc_section_display": true,
   "toc_window_display": true
  }
 },
 "nbformat": 4,
 "nbformat_minor": 5
}
