{
 "cells": [
  {
   "cell_type": "markdown",
   "id": "bfd2fc1f",
   "metadata": {
    "lang": "en"
   },
   "source": [
    "# Object-oriented programming"
   ]
  },
  {
   "cell_type": "markdown",
   "id": "linear-pierre",
   "metadata": {
    "toc": true
   },
   "source": [
    "<h1>Table of Contents<span class=\"tocSkip\"></span></h1>\n",
    "<div class=\"toc\"><ul class=\"toc-item\"><li><span><a href=\"#What-is-OOP---Object-Oriented-Programming?\" data-toc-modified-id=\"What-is-OOP---Object-Oriented-Programming?-1\"><span class=\"toc-item-num\">1&nbsp;&nbsp;</span>What is OOP - Object Oriented Programming?</a></span><ul class=\"toc-item\"><li><span><a href=\"#Fundamental-Principles\" data-toc-modified-id=\"Fundamental-Principles-1.1\"><span class=\"toc-item-num\">1.1&nbsp;&nbsp;</span>Fundamental Principles</a></span></li></ul></li><li><span><a href=\"#Classes-and-instances\" data-toc-modified-id=\"Classes-and-instances-2\"><span class=\"toc-item-num\">2&nbsp;&nbsp;</span>Classes and instances</a></span><ul class=\"toc-item\"><li><ul class=\"toc-item\"><li><span><a href=\"#mini-recap\" data-toc-modified-id=\"mini-recap-2.0.1\"><span class=\"toc-item-num\">2.0.1&nbsp;&nbsp;</span>mini-recap</a></span></li></ul></li></ul></li><li><span><a href=\"#Definition-of-a-class\" data-toc-modified-id=\"Definition-of-a-class-3\"><span class=\"toc-item-num\">3&nbsp;&nbsp;</span>Definition of a class</a></span><ul class=\"toc-item\"><li><span><a href=\"#Self:\" data-toc-modified-id=\"Self:-3.1\"><span class=\"toc-item-num\">3.1&nbsp;&nbsp;</span>Self:</a></span><ul class=\"toc-item\"><li><span><a href=\"#Defining-a-function\" data-toc-modified-id=\"Defining-a-function-3.1.1\"><span class=\"toc-item-num\">3.1.1&nbsp;&nbsp;</span>Defining a function</a></span></li><li><span><a href=\"#Calling-a-function\" data-toc-modified-id=\"Calling-a-function-3.1.2\"><span class=\"toc-item-num\">3.1.2&nbsp;&nbsp;</span>Calling a function</a></span></li><li><span><a href=\"#Defining-a-class\" data-toc-modified-id=\"Defining-a-class-3.1.3\"><span class=\"toc-item-num\">3.1.3&nbsp;&nbsp;</span>Defining a class</a></span></li><li><span><a href=\"#Instansiating-a-class\" data-toc-modified-id=\"Instansiating-a-class-3.1.4\"><span class=\"toc-item-num\">3.1.4&nbsp;&nbsp;</span>Instansiating a class</a></span></li></ul></li><li><span><a href=\"#Exploring-a-class\" data-toc-modified-id=\"Exploring-a-class-3.2\"><span class=\"toc-item-num\">3.2&nbsp;&nbsp;</span>Exploring a class</a></span></li><li><span><a href=\"#Instance-Attributes\" data-toc-modified-id=\"Instance-Attributes-3.3\"><span class=\"toc-item-num\">3.3&nbsp;&nbsp;</span>Instance Attributes</a></span><ul class=\"toc-item\"><li><span><a href=\"#Default-attributes\" data-toc-modified-id=\"Default-attributes-3.3.1\"><span class=\"toc-item-num\">3.3.1&nbsp;&nbsp;</span>Default attributes</a></span></li></ul></li><li><span><a href=\"#Instance-Methods\" data-toc-modified-id=\"Instance-Methods-3.4\"><span class=\"toc-item-num\">3.4&nbsp;&nbsp;</span>Instance Methods</a></span><ul class=\"toc-item\"><li><span><a href=\"#Python-is-built-with-objects\" data-toc-modified-id=\"Python-is-built-with-objects-3.4.1\"><span class=\"toc-item-num\">3.4.1&nbsp;&nbsp;</span>Python is built with objects</a></span></li></ul></li><li><span><a href=\"#Class-variables\" data-toc-modified-id=\"Class-variables-3.5\"><span class=\"toc-item-num\">3.5&nbsp;&nbsp;</span>Class variables</a></span></li></ul></li><li><span><a href=\"#Before-continuing,-let's-take-a-breath-and-review-vocabulary\" data-toc-modified-id=\"Before-continuing,-let's-take-a-breath-and-review-vocabulary-4\"><span class=\"toc-item-num\">4&nbsp;&nbsp;</span>Before continuing, let's take a breath and review vocabulary</a></span><ul class=\"toc-item\"><li><ul class=\"toc-item\"><li><span><a href=\"#Easy-exercise\" data-toc-modified-id=\"Easy-exercise-4.0.1\"><span class=\"toc-item-num\">4.0.1&nbsp;&nbsp;</span>Easy exercise</a></span></li></ul></li></ul></li><li><span><a href=\"#Inheritance\" data-toc-modified-id=\"Inheritance-5\"><span class=\"toc-item-num\">5&nbsp;&nbsp;</span>Inheritance</a></span><ul class=\"toc-item\"><li><span><a href=\"#super()\" data-toc-modified-id=\"super()-5.1\"><span class=\"toc-item-num\">5.1&nbsp;&nbsp;</span>super()</a></span></li></ul></li><li><span><a href=\"#Summary\" data-toc-modified-id=\"Summary-6\"><span class=\"toc-item-num\">6&nbsp;&nbsp;</span>Summary</a></span></li><li><span><a href=\"#Furthermaterials\" data-toc-modified-id=\"Furthermaterials-7\"><span class=\"toc-item-num\">7&nbsp;&nbsp;</span>Furthermaterials</a></span><ul class=\"toc-item\"><li><span><a href=\"#Methods-ADVANCED-@classmethod@staticmethod\" data-toc-modified-id=\"Methods-ADVANCED-@classmethod@staticmethod-7.1\"><span class=\"toc-item-num\">7.1&nbsp;&nbsp;</span>Methods <strong>ADVANCED</strong> @classmethod@staticmethod</a></span></li></ul></li></ul></div>"
   ]
  },
  {
   "cell_type": "markdown",
   "id": "44bbe54e",
   "metadata": {
    "lang": "en"
   },
   "source": [
    "## What is OOP - Object Oriented Programming?"
   ]
  },
  {
   "cell_type": "markdown",
   "id": "da79b55b",
   "metadata": {
    "lang": "en"
   },
   "source": [
    "Object-oriented programming is a programming paradigm, that is, a programming style and technique, which goes beyond the implementation itself. This paradigm is based on the \"object\" concept, which can contain both data, in the form of fields called \"attributes\", and code for its manipulation in the form of procedures and functions, called \"methods\". Thanks to this, we can group everything under a single data type (the object \"class\"), which facilitates the modularity and reusability of the code.\n",
    "This has a strong implication in the design of IT solutions; Software engineering methodologies are based on object-oriented programming."
   ]
  },
  {
   "cell_type": "markdown",
   "id": "19380f68",
   "metadata": {
    "lang": "en"
   },
   "source": [
    "You can imagine objects as a new data type whose definition is given in a structure called class.\n",
    "Classes are often compared to cookie cutters and objects to the cookies themselves. While all cookies made from the same pan have the same shape, each one takes on individual attributes after baking. Things like color, texture, flavor... can be very different.\n",
    "In other words, the cookies share a manufacturing process and some attributes, but they are independent of each other and of the mold itself, and that makes each one unique.\n",
    "Extrapolating from the example, a class is just a script about how the objects that will be created with it should be."
   ]
  },
  {
   "cell_type": "markdown",
   "id": "fallen-brazil",
   "metadata": {},
   "source": [
    "![clases](https://files.realpython.com/media/Object-Oriented-Programming-OOP-in-Python-3_Watermarked.0d29780806d5.jpg)"
   ]
  },
  {
   "cell_type": "markdown",
   "id": "92d02d2c",
   "metadata": {
    "lang": "en"
   },
   "source": [
    "### Fundamental Principles"
   ]
  },
  {
   "cell_type": "markdown",
   "id": "0473322c",
   "metadata": {
    "lang": "en"
   },
   "source": [
    "1 - **Data abstraction**: Something we do naturally in our understanding of the world is the abstraction of concrete information in concepts or classes. For example, the concept of \"car\" evokes in us an idea of ​​a vehicle with four wheels, a steering wheel, an engine... Our car is a specific \"instance\" of that concept, and different from other cars, but we are capable of associating certain properties or characteristics to said concept above specific details. This ability to abstract a concept is essential for the development of human language and, of course, such a good idea has been transferred to the world of programming. In OOP, we call the abstract concept \"class\" and the realization of that concept \"object\". Your car is concrete, you can drive it, it is an object, an \"instance\" of the class \"car\".\n",
    "   \n",
    "   2 - **Encapsulation**: Each type of object contains its own information and can be manipulated in a particular way. A car can be driven and has a certain pressure in the wheels, a color, a certain level of gasoline, etc. With a GPS we can obtain our position coordinates and the batteries will have a certain charge. A dog barks, has a weight, an age. All those attributes and \"methods\" are \"encapsulated\" within the object, and are accessible only through a given object. The advantage is that we don't need to have, for example, a list with names, another with ages, another with weights... but rather a list of objects and each one contains, that is, encapsulates, its own information.\n",
    "   \n",
    "   3 - **Inheritance**: Some classes can specialize others. For this, the specialized class \"inherits\" the properties of the more general class, called the \"superclass\". For example, the \"Car\" and \"Truck\" classes can inherit from the \"Vehicle\" class. This is a way of reusing code, by being able to assume those common properties between several classes in a superior class. Python supports \"multiple inheritance\", so a class can be defined as a subclass of several classes from which it would inherit all its properties (attributes and methods) at once.\n",
    "   \n",
    "   4 - **Polymorphism**: A square can be drawn, a circle as well, just as any other shape can be drawn. \"Square\" and \"Circle\" would be subclasses of \"Shape\". The \"Shape\" superclass implements a draw() method, and both the \"Square\" subclass and the \"Circle\" subclass override this method to their particular case. So a function could accept an object of type \"Shape\" as a parameter and call the draw() method without knowing if the passed argument is a circle or a square. Each object knows its level of specialization and the concrete implementation of its methods. This ability to use superclass methods in code but resolve to subclass methods at run time is called \"Polymorphism\": the same variable can take different forms."
   ]
  },
  {
   "cell_type": "markdown",
   "id": "f325c4f9",
   "metadata": {
    "lang": "en"
   },
   "source": [
    "## Classes and instances"
   ]
  },
  {
   "cell_type": "markdown",
   "id": "f1423c0e",
   "metadata": {
    "lang": "en"
   },
   "source": [
    "A class is like an abstract type for objects that, in addition to storing values ​​called attributes, has associated a series of functions that we call methods. An instance of a class is the same as saying an object of that class. Instantiating a class refers to creating an object that belongs to that class.\n",
    "In Python, data types are classes, and any literal or variable of one of these types is an object that instantiates the type's class. For example: a = 2222 is equivalent to instantiating the PyLongObject class by assigning an internal attribute the value 2222. This is what happens at a low level, but we can consider that the variable a is of type int. We can know the type of any variable, that is, the class it instantiates, with the type() function, and the identifier of the instantiated object with the id() function."
   ]
  },
  {
   "cell_type": "code",
   "execution_count": null,
   "id": "absent-yorkshire",
   "metadata": {},
   "outputs": [],
   "source": [
    "# class car\n",
    "    # instance = fiat punto, red, 2000"
   ]
  },
  {
   "cell_type": "code",
   "execution_count": 12,
   "id": "8b2f212a",
   "metadata": {},
   "outputs": [],
   "source": [
    "a = 33 #instance"
   ]
  },
  {
   "cell_type": "code",
   "execution_count": 13,
   "id": "95f6b633",
   "metadata": {},
   "outputs": [
    {
     "data": {
      "text/plain": [
       "int"
      ]
     },
     "execution_count": 13,
     "metadata": {},
     "output_type": "execute_result"
    }
   ],
   "source": [
    "type(a)"
   ]
  },
  {
   "cell_type": "code",
   "execution_count": null,
   "id": "32921bb3",
   "metadata": {},
   "outputs": [],
   "source": [
    "# class number /int -> int\n",
    "    # instances / examples / specific things -> "
   ]
  },
  {
   "cell_type": "code",
   "execution_count": 14,
   "id": "9aa2b085",
   "metadata": {},
   "outputs": [],
   "source": [
    "random_sentence = \"any sentence\""
   ]
  },
  {
   "cell_type": "code",
   "execution_count": 15,
   "id": "f8583382",
   "metadata": {},
   "outputs": [
    {
     "data": {
      "text/plain": [
       "str"
      ]
     },
     "execution_count": 15,
     "metadata": {},
     "output_type": "execute_result"
    }
   ],
   "source": [
    "type(random_sentence)"
   ]
  },
  {
   "cell_type": "code",
   "execution_count": null,
   "id": "2b42c2db",
   "metadata": {},
   "outputs": [],
   "source": [
    "#random_sentence iis an instance of the class string"
   ]
  },
  {
   "cell_type": "markdown",
   "id": "e4bd50ab",
   "metadata": {
    "lang": "en"
   },
   "source": [
    "To know all the methods and attributes of a class we can use the dir() function both on an object and on the class."
   ]
  },
  {
   "cell_type": "code",
   "execution_count": 16,
   "id": "945ed85d",
   "metadata": {
    "scrolled": true
   },
   "outputs": [
    {
     "data": {
      "text/plain": [
       "'ANY SENTENCE'"
      ]
     },
     "execution_count": 16,
     "metadata": {},
     "output_type": "execute_result"
    }
   ],
   "source": [
    "random_sentence.upper()"
   ]
  },
  {
   "cell_type": "code",
   "execution_count": null,
   "id": "c91600ae",
   "metadata": {},
   "outputs": [],
   "source": [
    "car.drive_forward() # updating the location of the car"
   ]
  },
  {
   "cell_type": "code",
   "execution_count": 17,
   "id": "a06a308a",
   "metadata": {
    "scrolled": true
   },
   "outputs": [
    {
     "data": {
      "text/plain": [
       "['__add__',\n",
       " '__class__',\n",
       " '__contains__',\n",
       " '__delattr__',\n",
       " '__dir__',\n",
       " '__doc__',\n",
       " '__eq__',\n",
       " '__format__',\n",
       " '__ge__',\n",
       " '__getattribute__',\n",
       " '__getitem__',\n",
       " '__getnewargs__',\n",
       " '__gt__',\n",
       " '__hash__',\n",
       " '__init__',\n",
       " '__init_subclass__',\n",
       " '__iter__',\n",
       " '__le__',\n",
       " '__len__',\n",
       " '__lt__',\n",
       " '__mod__',\n",
       " '__mul__',\n",
       " '__ne__',\n",
       " '__new__',\n",
       " '__reduce__',\n",
       " '__reduce_ex__',\n",
       " '__repr__',\n",
       " '__rmod__',\n",
       " '__rmul__',\n",
       " '__setattr__',\n",
       " '__sizeof__',\n",
       " '__str__',\n",
       " '__subclasshook__',\n",
       " 'capitalize',\n",
       " 'casefold',\n",
       " 'center',\n",
       " 'count',\n",
       " 'encode',\n",
       " 'endswith',\n",
       " 'expandtabs',\n",
       " 'find',\n",
       " 'format',\n",
       " 'format_map',\n",
       " 'index',\n",
       " 'isalnum',\n",
       " 'isalpha',\n",
       " 'isascii',\n",
       " 'isdecimal',\n",
       " 'isdigit',\n",
       " 'isidentifier',\n",
       " 'islower',\n",
       " 'isnumeric',\n",
       " 'isprintable',\n",
       " 'isspace',\n",
       " 'istitle',\n",
       " 'isupper',\n",
       " 'join',\n",
       " 'ljust',\n",
       " 'lower',\n",
       " 'lstrip',\n",
       " 'maketrans',\n",
       " 'partition',\n",
       " 'replace',\n",
       " 'rfind',\n",
       " 'rindex',\n",
       " 'rjust',\n",
       " 'rpartition',\n",
       " 'rsplit',\n",
       " 'rstrip',\n",
       " 'split',\n",
       " 'splitlines',\n",
       " 'startswith',\n",
       " 'strip',\n",
       " 'swapcase',\n",
       " 'title',\n",
       " 'translate',\n",
       " 'upper',\n",
       " 'zfill']"
      ]
     },
     "execution_count": 17,
     "metadata": {},
     "output_type": "execute_result"
    }
   ],
   "source": [
    "dir(str) # double under score -> internal python thingies"
   ]
  },
  {
   "cell_type": "code",
   "execution_count": 20,
   "id": "9b5b370b",
   "metadata": {},
   "outputs": [
    {
     "data": {
      "text/plain": [
       "['capitalize',\n",
       " 'casefold',\n",
       " 'center',\n",
       " 'count',\n",
       " 'encode',\n",
       " 'endswith',\n",
       " 'expandtabs',\n",
       " 'find',\n",
       " 'format',\n",
       " 'index',\n",
       " 'isalnum',\n",
       " 'isalpha',\n",
       " 'isascii',\n",
       " 'isdecimal',\n",
       " 'isdigit',\n",
       " 'isidentifier',\n",
       " 'islower',\n",
       " 'isnumeric',\n",
       " 'isprintable',\n",
       " 'isspace',\n",
       " 'istitle',\n",
       " 'isupper',\n",
       " 'join',\n",
       " 'ljust',\n",
       " 'lower',\n",
       " 'lstrip',\n",
       " 'maketrans',\n",
       " 'partition',\n",
       " 'replace',\n",
       " 'rfind',\n",
       " 'rindex',\n",
       " 'rjust',\n",
       " 'rpartition',\n",
       " 'rsplit',\n",
       " 'rstrip',\n",
       " 'split',\n",
       " 'splitlines',\n",
       " 'startswith',\n",
       " 'strip',\n",
       " 'swapcase',\n",
       " 'title',\n",
       " 'translate',\n",
       " 'upper',\n",
       " 'zfill']"
      ]
     },
     "execution_count": 20,
     "metadata": {},
     "output_type": "execute_result"
    }
   ],
   "source": [
    "#random_string\n",
    "[element for element in dir(random_sentence) if \"_\" not in element]"
   ]
  },
  {
   "cell_type": "code",
   "execution_count": 22,
   "id": "71c28fcf",
   "metadata": {},
   "outputs": [],
   "source": [
    "one_string = \"Hello\"\n",
    "second_string = \", how are you?\""
   ]
  },
  {
   "cell_type": "markdown",
   "id": "032f8630",
   "metadata": {},
   "source": [
    "You don't need to master this, just know what the `.__something__` means. It's a dunder/magic methods. Meant for Python internally"
   ]
  },
  {
   "cell_type": "code",
   "execution_count": 24,
   "id": "064bf5a7",
   "metadata": {},
   "outputs": [
    {
     "data": {
      "text/plain": [
       "'Hello, how are you?'"
      ]
     },
     "execution_count": 24,
     "metadata": {},
     "output_type": "execute_result"
    }
   ],
   "source": [
    "one_string + second_string # I can add them\n",
    "# because it is a methid / function of the class Str\n",
    "# so I can add two strings"
   ]
  },
  {
   "cell_type": "code",
   "execution_count": 27,
   "id": "db9503fa",
   "metadata": {},
   "outputs": [
    {
     "ename": "TypeError",
     "evalue": "can only concatenate str (not \"int\") to str",
     "output_type": "error",
     "traceback": [
      "\u001b[0;31m---------------------------------------------------------------------------\u001b[0m",
      "\u001b[0;31mTypeError\u001b[0m                                 Traceback (most recent call last)",
      "Input \u001b[0;32mIn [27]\u001b[0m, in \u001b[0;36m<cell line: 1>\u001b[0;34m()\u001b[0m\n\u001b[0;32m----> 1\u001b[0m \u001b[43mone_string\u001b[49m\u001b[43m \u001b[49m\u001b[38;5;241;43m+\u001b[39;49m\u001b[43m \u001b[49m\u001b[38;5;241;43m1\u001b[39;49m\n",
      "\u001b[0;31mTypeError\u001b[0m: can only concatenate str (not \"int\") to str"
     ]
    }
   ],
   "source": [
    "one_string + 1"
   ]
  },
  {
   "cell_type": "code",
   "execution_count": 31,
   "id": "1c4e8cfe",
   "metadata": {},
   "outputs": [
    {
     "data": {
      "text/plain": [
       "'Hello, how are you?'"
      ]
     },
     "execution_count": 31,
     "metadata": {},
     "output_type": "execute_result"
    }
   ],
   "source": [
    "# one_string + second_string -> running this line\n",
    "# this thing happens\n",
    "one_string.__add__(second_string)"
   ]
  },
  {
   "cell_type": "code",
   "execution_count": null,
   "id": "c16a3112",
   "metadata": {},
   "outputs": [],
   "source": [
    "# You can ignore the __, but just know that they do things\n",
    "# that you use"
   ]
  },
  {
   "cell_type": "markdown",
   "id": "d0865026",
   "metadata": {},
   "source": [
    "#### mini-recap\n",
    "\n",
    "- classes: general concepts, ideas\n",
    "    - from which you can create: instances / objects\n",
    "   \n",
    "- classes: structure, template on which you create the instances\n",
    "    - class car -> fiat punto\n",
    "    \n",
    "- classes have functions / methods that do thingsa\n",
    "    - a string can be added (just like a car can go forward)\n",
    "    - we can check what an obejct can do using dir(object)\n",
    "    \n",
    "- classes or objects/instances \n",
    "    - information -> properties / attributes / variables. Eg.: wheel = 4\n",
    "    - instructions -> does things E.g.: moving forward\n",
    "    \n",
    "- str:\n",
    "    - attributes: len(str)\n",
    "    - instructions / methods / functions -> str.upper()\n",
    "                                            car.move_forward()"
   ]
  },
  {
   "cell_type": "markdown",
   "id": "ffc3bd0b",
   "metadata": {
    "lang": "en"
   },
   "source": [
    "## Definition of a class"
   ]
  },
  {
   "cell_type": "markdown",
   "id": "8917064a",
   "metadata": {
    "lang": "en"
   },
   "source": [
    "We can define our own classes and indicate whether they inherit from others, what their internal attributes are, and what their methods are. Once the class is defined, it is possible to create objects from it. To create a class, simply group attributes and methods in the body of a **class** block.\n",
    "Imagine that you create software to manage a school, and you want to represent \"teachers\" in your Python code. Teachers will have some associated data (`attributes` in `class` jargon), and they will be able to *perform actions* through functions that we will call `methods` (again, `class` jargon).\n",
    "\n",
    "We could do it one by one:"
   ]
  },
  {
   "cell_type": "code",
   "execution_count": 33,
   "id": "91a4e2a3",
   "metadata": {},
   "outputs": [],
   "source": [
    "albert = {\n",
    "    \"name\": \"albert\",\n",
    "    \"fname\": \"coca\",\n",
    "    \"time_off\": 30,\n",
    "    \"greeting\": lambda : print(\"Hello guys!\"),\n",
    "    \"hobbies\": [\"surfing\", \"climbing\", \"reading\"]\n",
    "}"
   ]
  },
  {
   "cell_type": "code",
   "execution_count": null,
   "id": "1663ed2c",
   "metadata": {},
   "outputs": [],
   "source": [
    "# str -> upper()\n",
    "# car -> forward()\n",
    "\n",
    "# greeting -> print(\"Hello!\")"
   ]
  },
  {
   "cell_type": "code",
   "execution_count": 35,
   "id": "ceb52ec0",
   "metadata": {},
   "outputs": [
    {
     "name": "stdout",
     "output_type": "stream",
     "text": [
      "\n"
     ]
    }
   ],
   "source": [
    "print(\"\") # built-in python function\n",
    "# it does things\n",
    "# it takes an argument"
   ]
  },
  {
   "cell_type": "code",
   "execution_count": 39,
   "id": "888918ce",
   "metadata": {},
   "outputs": [],
   "source": [
    "names = [\"laura\"]\n",
    "fname = [\"molas\"]\n",
    "time_off = []"
   ]
  },
  {
   "cell_type": "code",
   "execution_count": 40,
   "id": "a6783be2",
   "metadata": {},
   "outputs": [],
   "source": [
    "laura = {\n",
    "    \"name\": \"laura\",\n",
    "    \"fname\": \"molas\",\n",
    "    \"time_off\": 20,\n",
    "    \"greeting\": lambda : print(\"Hey everyone!\"),\n",
    "    \"hobbies\": [\"surfing\", \"skating\", \"reading\"]\n",
    "}"
   ]
  },
  {
   "cell_type": "code",
   "execution_count": 41,
   "id": "80e443ce",
   "metadata": {},
   "outputs": [
    {
     "data": {
      "text/plain": [
       "'molas'"
      ]
     },
     "execution_count": 41,
     "metadata": {},
     "output_type": "execute_result"
    }
   ],
   "source": [
    "laura[\"fname\"] # more comfortable than many lists"
   ]
  },
  {
   "cell_type": "code",
   "execution_count": 43,
   "id": "1d9eae2a",
   "metadata": {},
   "outputs": [
    {
     "data": {
      "text/plain": [
       "'molas'"
      ]
     },
     "execution_count": 43,
     "metadata": {},
     "output_type": "execute_result"
    }
   ],
   "source": [
    "lfname = fname[0]\n",
    "lfname"
   ]
  },
  {
   "cell_type": "code",
   "execution_count": null,
   "id": "50ca344a",
   "metadata": {},
   "outputs": [],
   "source": [
    "thiago = {\n",
    "    \"name\": \"thiago\",\n",
    "    \"fname\": \"molas\",\n",
    "    \"time_off\": 20,\n",
    "    \"greeting\": lambda : print(\"Hey everyone!\"),\n",
    "    \"hobbies\": [\"surfing\", \"skating\", \"reading\"]\n",
    "}"
   ]
  },
  {
   "cell_type": "code",
   "execution_count": null,
   "id": "e306971a",
   "metadata": {},
   "outputs": [],
   "source": [
    "# class Car\n",
    "    # wheels\n",
    "    # move directions"
   ]
  },
  {
   "cell_type": "code",
   "execution_count": null,
   "id": "8b4978ed",
   "metadata": {},
   "outputs": [],
   "source": [
    "# ffiat punto -> wheels & move directions\n",
    "# mercedes -> wheels & move directions"
   ]
  },
  {
   "cell_type": "code",
   "execution_count": 53,
   "id": "3bdb7722",
   "metadata": {},
   "outputs": [],
   "source": [
    "def operations (a, b):\n",
    "    c = a + b\n",
    "    d = c / 2\n",
    "    return d"
   ]
  },
  {
   "cell_type": "code",
   "execution_count": 54,
   "id": "53a2ef7c",
   "metadata": {},
   "outputs": [
    {
     "data": {
      "text/plain": [
       "3.5"
      ]
     },
     "execution_count": 54,
     "metadata": {},
     "output_type": "execute_result"
    }
   ],
   "source": [
    "operations (3, 4)"
   ]
  },
  {
   "cell_type": "code",
   "execution_count": 57,
   "id": "b787b262",
   "metadata": {},
   "outputs": [],
   "source": [
    "a = 0\n",
    "b = 10"
   ]
  },
  {
   "cell_type": "code",
   "execution_count": 58,
   "id": "675f90d2",
   "metadata": {},
   "outputs": [
    {
     "name": "stdout",
     "output_type": "stream",
     "text": [
      "5.0\n"
     ]
    }
   ],
   "source": [
    "c = a + b\n",
    "d = c / 2\n",
    "print(d)"
   ]
  },
  {
   "cell_type": "code",
   "execution_count": 59,
   "id": "ca064998",
   "metadata": {},
   "outputs": [],
   "source": [
    "# Encapsulation of code\n",
    "    # for classes\n",
    "    # also for functions\n",
    "# sanity & good practices"
   ]
  },
  {
   "cell_type": "markdown",
   "id": "dffb2147",
   "metadata": {},
   "source": [
    "### Self: "
   ]
  },
  {
   "cell_type": "code",
   "execution_count": null,
   "id": "8bb22be9",
   "metadata": {},
   "outputs": [],
   "source": []
  },
  {
   "cell_type": "markdown",
   "id": "0acb0ad3",
   "metadata": {
    "lang": "en"
   },
   "source": [
    "I leave you [here](https://realpython.com/python-pep8/#naming-styles) a realpython article about the conventions for naming things (by things I mean variables, classes, functions... code tidbits )\n",
    "The Python user community has adopted a style guide that makes code easier to read and consistent between different user programs. This guide is not mandatory to follow, but it is highly recommended."
   ]
  },
  {
   "cell_type": "markdown",
   "id": "23576dae",
   "metadata": {},
   "source": [
    "#### Defining a function"
   ]
  },
  {
   "cell_type": "code",
   "execution_count": 60,
   "id": "ed124fd2",
   "metadata": {},
   "outputs": [],
   "source": [
    "def name_surname (name_):\n",
    "    return f\"Hello this is my {name_}\""
   ]
  },
  {
   "cell_type": "markdown",
   "id": "0789adf6",
   "metadata": {},
   "source": [
    "#### Calling a function"
   ]
  },
  {
   "cell_type": "code",
   "execution_count": 61,
   "id": "3c474795",
   "metadata": {},
   "outputs": [
    {
     "data": {
      "text/plain": [
       "'Hello this is my Sam'"
      ]
     },
     "execution_count": 61,
     "metadata": {},
     "output_type": "execute_result"
    }
   ],
   "source": [
    "name(\"Sam\")"
   ]
  },
  {
   "cell_type": "markdown",
   "id": "9e4ef398",
   "metadata": {},
   "source": [
    "#### Defining a class"
   ]
  },
  {
   "cell_type": "code",
   "execution_count": 63,
   "id": "fitted-exchange",
   "metadata": {},
   "outputs": [],
   "source": [
    "class Staff ():\n",
    "    pass"
   ]
  },
  {
   "cell_type": "markdown",
   "id": "dda40dab",
   "metadata": {},
   "source": [
    "#### Instansiating a class"
   ]
  },
  {
   "cell_type": "code",
   "execution_count": 64,
   "id": "0df5bfc0",
   "metadata": {},
   "outputs": [],
   "source": [
    "# creating an object from a class\n",
    "    # making a fiat out of the class Car()"
   ]
  },
  {
   "cell_type": "code",
   "execution_count": 65,
   "id": "7043c1a4",
   "metadata": {},
   "outputs": [],
   "source": [
    "laura = Staff()"
   ]
  },
  {
   "cell_type": "markdown",
   "id": "be46cddd",
   "metadata": {},
   "source": [
    "### Exploring a class"
   ]
  },
  {
   "cell_type": "code",
   "execution_count": 66,
   "id": "ff09e074",
   "metadata": {},
   "outputs": [
    {
     "data": {
      "text/plain": [
       "__main__.Staff"
      ]
     },
     "execution_count": 66,
     "metadata": {},
     "output_type": "execute_result"
    }
   ],
   "source": [
    "type(laura)"
   ]
  },
  {
   "cell_type": "code",
   "execution_count": 67,
   "id": "ebc0dbb5",
   "metadata": {},
   "outputs": [
    {
     "data": {
      "text/plain": [
       "True"
      ]
     },
     "execution_count": 67,
     "metadata": {},
     "output_type": "execute_result"
    }
   ],
   "source": [
    "isinstance(laura, Staff)"
   ]
  },
  {
   "cell_type": "code",
   "execution_count": 69,
   "id": "c86d964c",
   "metadata": {},
   "outputs": [],
   "source": [
    "clara = {}"
   ]
  },
  {
   "cell_type": "code",
   "execution_count": 70,
   "id": "ba21a04e",
   "metadata": {},
   "outputs": [
    {
     "data": {
      "text/plain": [
       "False"
      ]
     },
     "execution_count": 70,
     "metadata": {},
     "output_type": "execute_result"
    }
   ],
   "source": [
    "isinstance(clara, Staff)"
   ]
  },
  {
   "cell_type": "code",
   "execution_count": 71,
   "id": "edda6fb6",
   "metadata": {},
   "outputs": [],
   "source": [
    "laura = Staff()\n",
    "albert = Staff()\n",
    "clara = Staff()"
   ]
  },
  {
   "cell_type": "code",
   "execution_count": 73,
   "id": "e959a43f",
   "metadata": {},
   "outputs": [
    {
     "data": {
      "text/plain": [
       "[]"
      ]
     },
     "execution_count": 73,
     "metadata": {},
     "output_type": "execute_result"
    }
   ],
   "source": [
    "[element for element in dir(albert) if \"_\" not in element]"
   ]
  },
  {
   "cell_type": "markdown",
   "id": "81f9ca3e",
   "metadata": {},
   "source": [
    "### Instance Attributes\n",
    "They contain data that is unique to each instance."
   ]
  },
  {
   "cell_type": "code",
   "execution_count": 74,
   "id": "f37fe51b",
   "metadata": {},
   "outputs": [],
   "source": [
    "laura.age = 30"
   ]
  },
  {
   "cell_type": "code",
   "execution_count": 76,
   "id": "830e13e8",
   "metadata": {},
   "outputs": [],
   "source": [
    "laura.fname = \"molas\""
   ]
  },
  {
   "cell_type": "code",
   "execution_count": 77,
   "id": "8715703a",
   "metadata": {},
   "outputs": [
    {
     "data": {
      "text/plain": [
       "{'age': 30, 'fname': 'molas'}"
      ]
     },
     "execution_count": 77,
     "metadata": {},
     "output_type": "execute_result"
    }
   ],
   "source": [
    "laura.__dict__"
   ]
  },
  {
   "cell_type": "code",
   "execution_count": 78,
   "id": "b204c9e3",
   "metadata": {},
   "outputs": [],
   "source": [
    "# age & name -> attributes"
   ]
  },
  {
   "cell_type": "code",
   "execution_count": 79,
   "id": "8b211e07",
   "metadata": {},
   "outputs": [],
   "source": [
    "class Cookie ():\n",
    "    pass"
   ]
  },
  {
   "cell_type": "code",
   "execution_count": 80,
   "id": "37e9b47c",
   "metadata": {},
   "outputs": [],
   "source": [
    "chocolate_cookie = Cookie ()"
   ]
  },
  {
   "cell_type": "code",
   "execution_count": 81,
   "id": "81dfa147",
   "metadata": {},
   "outputs": [],
   "source": [
    "chocolate_cookie.chocolate_chips = 10"
   ]
  },
  {
   "cell_type": "code",
   "execution_count": 82,
   "id": "c2e5e5ed",
   "metadata": {},
   "outputs": [
    {
     "data": {
      "text/plain": [
       "{'chocolate_chips': 10}"
      ]
     },
     "execution_count": 82,
     "metadata": {},
     "output_type": "execute_result"
    }
   ],
   "source": [
    "chocolate_cookie.__dict__"
   ]
  },
  {
   "cell_type": "code",
   "execution_count": 83,
   "id": "638b3e04",
   "metadata": {},
   "outputs": [],
   "source": [
    "peanut_butter_cookie = Cookie ()"
   ]
  },
  {
   "cell_type": "code",
   "execution_count": 84,
   "id": "b40fd1c8",
   "metadata": {},
   "outputs": [],
   "source": [
    "peanut_butter_cookie.shape = \"circular\""
   ]
  },
  {
   "cell_type": "code",
   "execution_count": 85,
   "id": "e6c5cd36",
   "metadata": {},
   "outputs": [
    {
     "data": {
      "text/plain": [
       "{'shape': 'circular'}"
      ]
     },
     "execution_count": 85,
     "metadata": {},
     "output_type": "execute_result"
    }
   ],
   "source": [
    "peanut_butter_cookie.__dict__"
   ]
  },
  {
   "cell_type": "markdown",
   "id": "39ed3781",
   "metadata": {
    "lang": "en"
   },
   "source": [
    "Instead of doing it one by one, we can create these variables each time an object is instantiated with the special `__init__` method. This function defines all the actions that should be performed when we create a new object. The reason we have two underscores before and after the function name is to indicate that this function is internal to the object and should not be called from outside the object."
   ]
  },
  {
   "cell_type": "code",
   "execution_count": null,
   "id": "a86114a5",
   "metadata": {},
   "outputs": [],
   "source": [
    "class Staff ():\n",
    "    \n",
    "    name = \n",
    "    fname = \n",
    "    time_off = "
   ]
  },
  {
   "cell_type": "code",
   "execution_count": 87,
   "id": "1bc2cc98",
   "metadata": {},
   "outputs": [],
   "source": [
    "albert = {\n",
    "    \"name\": \"albert\",\n",
    "    \"fname\": \"coca\",\n",
    "    \"time_off\": 30,\n",
    "    \"greeting\": lambda : print(\"Hello guys!\"),\n",
    "    \"hobbies\": [\"surfing\", \"climbing\", \"reading\"]\n",
    "}"
   ]
  },
  {
   "cell_type": "code",
   "execution_count": 88,
   "id": "f9a3a087",
   "metadata": {},
   "outputs": [
    {
     "data": {
      "text/plain": [
       "'coca'"
      ]
     },
     "execution_count": 88,
     "metadata": {},
     "output_type": "execute_result"
    }
   ],
   "source": [
    "albert[\"fname\"]\n",
    "self[\"fname\"] #doesnt work outside of an instance\n",
    "#variable[\"key\"]"
   ]
  },
  {
   "cell_type": "code",
   "execution_count": 112,
   "id": "14da3ad1",
   "metadata": {},
   "outputs": [],
   "source": [
    "class Staff ():\n",
    "    \n",
    "    def __init__(self, name, fname, time_off): # Allow me to create instances with the properties\n",
    "        self.name = name \n",
    "        self.fname = fname\n",
    "        self.time_off = time_off"
   ]
  },
  {
   "cell_type": "code",
   "execution_count": 105,
   "id": "8fcc0d27",
   "metadata": {},
   "outputs": [],
   "source": [
    "# when creating a new instance\n",
    "# wee need all these properties to be created\n",
    "# along with the instance"
   ]
  },
  {
   "cell_type": "code",
   "execution_count": 106,
   "id": "7a4c1837",
   "metadata": {},
   "outputs": [],
   "source": [
    "clara = Staff(\"Clara\", \"Fernández\", 30)"
   ]
  },
  {
   "cell_type": "code",
   "execution_count": 107,
   "id": "1579290e",
   "metadata": {},
   "outputs": [],
   "source": [
    "albert = Staff (\"Albert\", \"Coca\", 25)"
   ]
  },
  {
   "cell_type": "code",
   "execution_count": 108,
   "id": "83ddb4dd",
   "metadata": {},
   "outputs": [],
   "source": [
    "laura = Staff(\"Laura\", \"Molas\", 26)"
   ]
  },
  {
   "cell_type": "code",
   "execution_count": 109,
   "id": "28030d25",
   "metadata": {},
   "outputs": [
    {
     "data": {
      "text/plain": [
       "'Fernández'"
      ]
     },
     "execution_count": 109,
     "metadata": {},
     "output_type": "execute_result"
    }
   ],
   "source": [
    "clara.fname"
   ]
  },
  {
   "cell_type": "code",
   "execution_count": 110,
   "id": "2157bac5",
   "metadata": {},
   "outputs": [
    {
     "data": {
      "text/plain": [
       "25"
      ]
     },
     "execution_count": 110,
     "metadata": {},
     "output_type": "execute_result"
    }
   ],
   "source": [
    "albert.time_off"
   ]
  },
  {
   "cell_type": "code",
   "execution_count": 111,
   "id": "e1f1f7c3",
   "metadata": {},
   "outputs": [
    {
     "data": {
      "text/plain": [
       "{'name': 'Clara', 'fname': 'Fernández', 'time_off': 30}"
      ]
     },
     "execution_count": 111,
     "metadata": {},
     "output_type": "execute_result"
    }
   ],
   "source": [
    "clara.__dict__"
   ]
  },
  {
   "cell_type": "code",
   "execution_count": 116,
   "id": "629cc97c",
   "metadata": {},
   "outputs": [
    {
     "data": {
      "text/plain": [
       "30"
      ]
     },
     "execution_count": 116,
     "metadata": {},
     "output_type": "execute_result"
    }
   ],
   "source": [
    "holidays_clara = clara.time_off\n",
    "holidays_clara"
   ]
  },
  {
   "cell_type": "code",
   "execution_count": 114,
   "id": "54a1fa7d",
   "metadata": {},
   "outputs": [
    {
     "data": {
      "text/plain": [
       "<__main__.Staff at 0x7f874ab27130>"
      ]
     },
     "execution_count": 114,
     "metadata": {},
     "output_type": "execute_result"
    }
   ],
   "source": [
    "laura"
   ]
  },
  {
   "cell_type": "markdown",
   "id": "a9b11397",
   "metadata": {
    "lang": "en"
   },
   "source": [
    "What does self do? It indicates that the data we are entering is for the object we are creating."
   ]
  },
  {
   "cell_type": "code",
   "execution_count": 121,
   "id": "ea2aef87",
   "metadata": {},
   "outputs": [],
   "source": [
    "class Staff ():\n",
    "    \n",
    "    def __init__(self, name, fname, time_off): # Allow me to create instances with the properties\n",
    "        self.name = name \n",
    "        self.fname = fname\n",
    "        self.time_off = time_off\n",
    "        \n",
    "        self.email = self.name.lower() + \".\" + self.fname.lower() + \"@ironhack.com\""
   ]
  },
  {
   "cell_type": "code",
   "execution_count": 122,
   "id": "a12172df",
   "metadata": {},
   "outputs": [],
   "source": [
    "# clara.fernandez@ironhack.com"
   ]
  },
  {
   "cell_type": "code",
   "execution_count": 123,
   "id": "a53e45d7",
   "metadata": {},
   "outputs": [],
   "source": [
    "clara = Staff (\"Clara\", \"Fernández\", 30) #I didn't declare e-mail"
   ]
  },
  {
   "cell_type": "code",
   "execution_count": 124,
   "id": "ff6cebb6",
   "metadata": {},
   "outputs": [
    {
     "data": {
      "text/plain": [
       "'clara.fernández@ironhack.com'"
      ]
     },
     "execution_count": 124,
     "metadata": {},
     "output_type": "execute_result"
    }
   ],
   "source": [
    "clara.email"
   ]
  },
  {
   "cell_type": "code",
   "execution_count": 125,
   "id": "81934f97",
   "metadata": {},
   "outputs": [
    {
     "data": {
      "text/plain": [
       "'albert.coca@ironhack.com'"
      ]
     },
     "execution_count": 125,
     "metadata": {},
     "output_type": "execute_result"
    }
   ],
   "source": [
    "albert = Staff (\"Albert\", \"Coca\", 25)\n",
    "albert.email"
   ]
  },
  {
   "cell_type": "markdown",
   "id": "8751e24c",
   "metadata": {
    "lang": "en"
   },
   "source": [
    "#### Default attributes\n",
    "\n",
    "We can initialize the attributes with a default value in case later, when creating the instances, the user or ourselves do not put anything in any of the attributes"
   ]
  },
  {
   "cell_type": "code",
   "execution_count": 127,
   "id": "bd3f4862",
   "metadata": {},
   "outputs": [],
   "source": [
    "class Staff ():\n",
    "    \n",
    "    def __init__(self, name, fname, time_off=30): # Allow me to create instances with the properties\n",
    "        self.name = name \n",
    "        self.fname = fname\n",
    "        self.time_off = time_off\n",
    "        \n",
    "        self.email = self.name.lower() + \".\" + self.fname.lower() + \"@ironhack.com\""
   ]
  },
  {
   "cell_type": "code",
   "execution_count": 129,
   "id": "210f5406",
   "metadata": {},
   "outputs": [
    {
     "data": {
      "text/plain": [
       "30"
      ]
     },
     "execution_count": 129,
     "metadata": {},
     "output_type": "execute_result"
    }
   ],
   "source": [
    "albert = Staff (\"Albert\", \"Coca\")\n",
    "albert.time_off"
   ]
  },
  {
   "cell_type": "markdown",
   "id": "0ce1eb62",
   "metadata": {
    "lang": "en"
   },
   "source": [
    "### Instance Methods"
   ]
  },
  {
   "cell_type": "code",
   "execution_count": 141,
   "id": "painted-tribe",
   "metadata": {},
   "outputs": [
    {
     "data": {
      "text/plain": [
       "22"
      ]
     },
     "execution_count": 141,
     "metadata": {},
     "output_type": "execute_result"
    }
   ],
   "source": [
    "albert.time_off = albert.time_off - 1\n",
    "albert.time_off"
   ]
  },
  {
   "cell_type": "code",
   "execution_count": 142,
   "id": "d60a10e6",
   "metadata": {},
   "outputs": [
    {
     "data": {
      "text/plain": [
       "{'name': 'Albert',\n",
       " 'fname': 'Coca',\n",
       " 'time_off': 22,\n",
       " 'email': 'albert.coca@ironhack.com'}"
      ]
     },
     "execution_count": 142,
     "metadata": {},
     "output_type": "execute_result"
    }
   ],
   "source": [
    "albert.__dict__"
   ]
  },
  {
   "cell_type": "markdown",
   "id": "3b7de249",
   "metadata": {
    "lang": "en"
   },
   "source": [
    "They are functions within the classes that will save us a lot of time"
   ]
  },
  {
   "cell_type": "code",
   "execution_count": 159,
   "id": "7003e67b",
   "metadata": {},
   "outputs": [],
   "source": [
    "class Staff ():\n",
    "    \n",
    "    def __init__(self, name, fname, time_off=30): # Allow me to create instances with the properties\n",
    "        self.name = name \n",
    "        self.fname = fname\n",
    "        self.time_off = time_off\n",
    "        \n",
    "        self.email = self.name.lower() + \".\" + self.fname.lower() + \"@ironhack.com\"\n",
    "        \n",
    "    def greeting (self):\n",
    "        print(\"Hello everyone!\")"
   ]
  },
  {
   "cell_type": "code",
   "execution_count": 160,
   "id": "45dcf203",
   "metadata": {},
   "outputs": [],
   "source": [
    "albert = Staff(\"Albert\", \"Coca\")"
   ]
  },
  {
   "cell_type": "code",
   "execution_count": 161,
   "id": "e5c2f42f",
   "metadata": {},
   "outputs": [
    {
     "data": {
      "text/plain": [
       "30"
      ]
     },
     "execution_count": 161,
     "metadata": {},
     "output_type": "execute_result"
    }
   ],
   "source": [
    "albert.time_off # .something -> value of the attribute / property | INFORMATION"
   ]
  },
  {
   "cell_type": "code",
   "execution_count": 162,
   "id": "bca06314",
   "metadata": {},
   "outputs": [
    {
     "name": "stdout",
     "output_type": "stream",
     "text": [
      "Hello everyone!\n"
     ]
    }
   ],
   "source": [
    "albert.greeting() # .something() -> running a function | INSTRUCTIONS, methods, functions"
   ]
  },
  {
   "cell_type": "code",
   "execution_count": 163,
   "id": "a6ca67a6",
   "metadata": {},
   "outputs": [
    {
     "data": {
      "text/plain": [
       "'A'"
      ]
     },
     "execution_count": 163,
     "metadata": {},
     "output_type": "execute_result"
    }
   ],
   "source": [
    "\"a\".upper()"
   ]
  },
  {
   "cell_type": "code",
   "execution_count": 164,
   "id": "e8f6af6e",
   "metadata": {},
   "outputs": [],
   "source": [
    "#[element for element in dir(str) if \"_\" not in element]"
   ]
  },
  {
   "cell_type": "code",
   "execution_count": 195,
   "id": "ba50e25b",
   "metadata": {},
   "outputs": [],
   "source": [
    "class Staff ():\n",
    "    \n",
    "    def __init__(self, name, fname, time_off=30): # Allow me to create instances with the properties\n",
    "        self.name = name \n",
    "        self.fname = fname\n",
    "        self.time_off = time_off\n",
    "        \n",
    "        self.email = self.name.lower() + \".\" + self.fname.lower() + \"@ironhack.com\"\n",
    "        \n",
    "    def greeting (self):\n",
    "        print(\"Hello everyone!\")\n",
    "        \n",
    "    def takes_days_off (self):\n",
    "        if self.time_off > 0:\n",
    "            self.time_off -= 1\n",
    "            return f\"I know have {self.time_off} available for me to take\"\n",
    "        else:\n",
    "            return \"No more days off, your total is 0\""
   ]
  },
  {
   "cell_type": "code",
   "execution_count": 196,
   "id": "07b5576b",
   "metadata": {},
   "outputs": [
    {
     "data": {
      "text/plain": [
       "{'name': 'ALbert',\n",
       " 'fname': 'Coca',\n",
       " 'time_off': 30,\n",
       " 'email': 'albert.coca@ironhack.com'}"
      ]
     },
     "execution_count": 196,
     "metadata": {},
     "output_type": "execute_result"
    }
   ],
   "source": [
    "albert = Staff (\"ALbert\", \"Coca\")\n",
    "albert.__dict__"
   ]
  },
  {
   "cell_type": "code",
   "execution_count": 230,
   "id": "05d3f632",
   "metadata": {},
   "outputs": [
    {
     "data": {
      "text/plain": [
       "'No more days off, your total is 0'"
      ]
     },
     "execution_count": 230,
     "metadata": {},
     "output_type": "execute_result"
    }
   ],
   "source": [
    "albert.takes_days_off()"
   ]
  },
  {
   "cell_type": "code",
   "execution_count": 191,
   "id": "b72a3b51",
   "metadata": {},
   "outputs": [
    {
     "data": {
      "text/plain": [
       "'I know have 18 available for me to take'"
      ]
     },
     "execution_count": 191,
     "metadata": {},
     "output_type": "execute_result"
    }
   ],
   "source": [
    "#clara = Staff (\"Clara\", \"Fdz\")\n",
    "clara.takes_days_off()"
   ]
  },
  {
   "cell_type": "code",
   "execution_count": 192,
   "id": "e806fe43",
   "metadata": {},
   "outputs": [
    {
     "data": {
      "text/plain": [
       "{'name': 'Clara',\n",
       " 'fname': 'Fdz',\n",
       " 'time_off': 18,\n",
       " 'email': 'clara.fdz@ironhack.com'}"
      ]
     },
     "execution_count": 192,
     "metadata": {},
     "output_type": "execute_result"
    }
   ],
   "source": [
    "clara.__dict__"
   ]
  },
  {
   "cell_type": "code",
   "execution_count": 193,
   "id": "7e1c328b",
   "metadata": {},
   "outputs": [
    {
     "data": {
      "text/plain": [
       "18"
      ]
     },
     "execution_count": 193,
     "metadata": {},
     "output_type": "execute_result"
    }
   ],
   "source": [
    "clara.time_off"
   ]
  },
  {
   "cell_type": "code",
   "execution_count": 232,
   "id": "f0a88507",
   "metadata": {},
   "outputs": [],
   "source": [
    "def greeting ():\n",
    "    print(\"Hello everyone!\")"
   ]
  },
  {
   "cell_type": "code",
   "execution_count": 233,
   "id": "4a6f3529",
   "metadata": {},
   "outputs": [
    {
     "name": "stdout",
     "output_type": "stream",
     "text": [
      "Hello everyone!\n"
     ]
    }
   ],
   "source": [
    "greeting()"
   ]
  },
  {
   "cell_type": "code",
   "execution_count": 234,
   "id": "dcc41e46",
   "metadata": {},
   "outputs": [],
   "source": [
    "def greeting (name):\n",
    "    print(f\"Hello everyone, I'm {name}!\")"
   ]
  },
  {
   "cell_type": "code",
   "execution_count": 235,
   "id": "ae5ca690",
   "metadata": {},
   "outputs": [
    {
     "name": "stdout",
     "output_type": "stream",
     "text": [
      "Hello everyone, I'm Clara!\n"
     ]
    }
   ],
   "source": [
    "greeting (\"Clara\")"
   ]
  },
  {
   "cell_type": "code",
   "execution_count": 236,
   "id": "d3cba9ec",
   "metadata": {},
   "outputs": [
    {
     "name": "stdout",
     "output_type": "stream",
     "text": [
      "Hello everyone, I'm Albert!\n"
     ]
    }
   ],
   "source": [
    "greeting (\"Albert\")"
   ]
  },
  {
   "cell_type": "code",
   "execution_count": 237,
   "id": "9178f8d5",
   "metadata": {},
   "outputs": [
    {
     "name": "stdout",
     "output_type": "stream",
     "text": [
      "Hello everyone!\n"
     ]
    }
   ],
   "source": [
    "albert.greeting()"
   ]
  },
  {
   "cell_type": "code",
   "execution_count": 238,
   "id": "01316fc0",
   "metadata": {},
   "outputs": [
    {
     "ename": "AttributeError",
     "evalue": "'Staff' object has no attribute 'greeting'",
     "output_type": "error",
     "traceback": [
      "\u001b[0;31m---------------------------------------------------------------------------\u001b[0m",
      "\u001b[0;31mAttributeError\u001b[0m                            Traceback (most recent call last)",
      "Input \u001b[0;32mIn [238]\u001b[0m, in \u001b[0;36m<cell line: 1>\u001b[0;34m()\u001b[0m\n\u001b[0;32m----> 1\u001b[0m \u001b[43mlaura\u001b[49m\u001b[38;5;241;43m.\u001b[39;49m\u001b[43mgreeting\u001b[49m()\n",
      "\u001b[0;31mAttributeError\u001b[0m: 'Staff' object has no attribute 'greeting'"
     ]
    }
   ],
   "source": [
    "laura.greeting()"
   ]
  },
  {
   "cell_type": "code",
   "execution_count": 241,
   "id": "19b97d6e",
   "metadata": {},
   "outputs": [
    {
     "data": {
      "text/plain": [
       "10"
      ]
     },
     "execution_count": 241,
     "metadata": {},
     "output_type": "execute_result"
    }
   ],
   "source": [
    "albert.time_off = 10\n",
    "albert.time_off"
   ]
  },
  {
   "cell_type": "code",
   "execution_count": 295,
   "id": "51586d67",
   "metadata": {},
   "outputs": [],
   "source": [
    "class Staff ():\n",
    "    \n",
    "    def __init__(self, name, fname, time_off=30): # Allow me to create instances with the properties\n",
    "        self.name = name \n",
    "        self.fname = fname\n",
    "        self.time_off = time_off\n",
    "        \n",
    "        self.email = self.name.lower() + \".\" + self.fname.lower() + \"@ironhack.com\"\n",
    "        \n",
    "        self.hobbies = []\n",
    "        \n",
    "    def greeting (self):\n",
    "        print(\"Hello everyone!\")\n",
    "        \n",
    "    def takes_days_off (self):\n",
    "        if self.time_off > 0:\n",
    "            self.time_off -= 1\n",
    "            return f\"I know have {self.time_off} available for me to take\"\n",
    "        else:\n",
    "            return \"No more days off, your total is 0\"\n",
    "    \n",
    "    def hobbies_add (self, hob):\n",
    "        self.hobbies.append(hob)\n",
    "        return f\"New hobby included: {hob}\"\n",
    "        \n",
    "    "
   ]
  },
  {
   "cell_type": "code",
   "execution_count": 296,
   "id": "2358451a",
   "metadata": {},
   "outputs": [],
   "source": [
    "# Q Bernat: do I need self?=\n",
    "# A: only on those attributes that actually belong to the class\n",
    "# not the ones from \"the outside\" like \"hob\""
   ]
  },
  {
   "cell_type": "code",
   "execution_count": 297,
   "id": "66352e7a",
   "metadata": {},
   "outputs": [],
   "source": [
    "carles = Staff(\"Carles\", \"Espuña\")"
   ]
  },
  {
   "cell_type": "code",
   "execution_count": 298,
   "id": "c5df834e",
   "metadata": {},
   "outputs": [
    {
     "data": {
      "text/plain": [
       "[]"
      ]
     },
     "execution_count": 298,
     "metadata": {},
     "output_type": "execute_result"
    }
   ],
   "source": [
    "carles.hobbies"
   ]
  },
  {
   "cell_type": "code",
   "execution_count": 299,
   "id": "aba33d13",
   "metadata": {},
   "outputs": [
    {
     "data": {
      "text/plain": [
       "'New hobby included: reading'"
      ]
     },
     "execution_count": 299,
     "metadata": {},
     "output_type": "execute_result"
    }
   ],
   "source": [
    "carles.hobbies_add(\"reading\") # running a method that is modifying his attributes"
   ]
  },
  {
   "cell_type": "code",
   "execution_count": 300,
   "id": "639f4f7a",
   "metadata": {},
   "outputs": [
    {
     "data": {
      "text/plain": [
       "['reading']"
      ]
     },
     "execution_count": 300,
     "metadata": {},
     "output_type": "execute_result"
    }
   ],
   "source": [
    "carles.hobbies # his attribute"
   ]
  },
  {
   "cell_type": "code",
   "execution_count": 279,
   "id": "57569069",
   "metadata": {},
   "outputs": [
    {
     "data": {
      "text/plain": [
       "['reading']"
      ]
     },
     "execution_count": 279,
     "metadata": {},
     "output_type": "execute_result"
    }
   ],
   "source": [
    "carles.hobbies"
   ]
  },
  {
   "cell_type": "code",
   "execution_count": null,
   "id": "f7042f19",
   "metadata": {},
   "outputs": [],
   "source": [
    "carles.hobbies_add(\"reading\") \n",
    "carles.hobbies_add(\"surfing\") "
   ]
  },
  {
   "cell_type": "code",
   "execution_count": null,
   "id": "9860ce59",
   "metadata": {},
   "outputs": [],
   "source": [
    "# i should have the hobbies_add function with *Args\n",
    "# if I want to run the code below\n",
    "# carles.hobbies_add(\"reading\", \"surfing\") "
   ]
  },
  {
   "cell_type": "markdown",
   "id": "fdda9183",
   "metadata": {},
   "source": [
    "_⚠️:  Target variables when instantiaing, ingnoring defaults?_"
   ]
  },
  {
   "cell_type": "code",
   "execution_count": null,
   "id": "aa27d407",
   "metadata": {},
   "outputs": [],
   "source": []
  },
  {
   "cell_type": "markdown",
   "id": "c584762d",
   "metadata": {
    "lang": "en"
   },
   "source": [
    "**watch out** 👀\n",
    "If we modify a class and add attributes or methods, we have to recreate the object so that it is initialized with those attributes and has those methods."
   ]
  },
  {
   "cell_type": "markdown",
   "id": "b6c1dbd0",
   "metadata": {
    "lang": "en"
   },
   "source": [
    "#### Python is built with objects\n",
    "In Python primitive data types are also objects that have associated attributes and methods."
   ]
  },
  {
   "cell_type": "code",
   "execution_count": null,
   "id": "approved-transsexual",
   "metadata": {},
   "outputs": [],
   "source": []
  },
  {
   "cell_type": "markdown",
   "id": "e6af3733",
   "metadata": {
    "lang": "en"
   },
   "source": [
    "Whenever we do .something, it is because we are calling the methods of that class"
   ]
  },
  {
   "cell_type": "code",
   "execution_count": null,
   "id": "b629d802",
   "metadata": {},
   "outputs": [],
   "source": []
  },
  {
   "cell_type": "markdown",
   "id": "2b7c965f",
   "metadata": {
    "lang": "en"
   },
   "source": [
    "### Class variables"
   ]
  },
  {
   "cell_type": "code",
   "execution_count": null,
   "id": "e55d6664",
   "metadata": {},
   "outputs": [],
   "source": []
  },
  {
   "cell_type": "markdown",
   "id": "2a28ab69",
   "metadata": {
    "lang": "en"
   },
   "source": [
    "In general, class attributes should not be used, except to store constant values."
   ]
  },
  {
   "cell_type": "markdown",
   "id": "9ad7387e",
   "metadata": {
    "lang": "en"
   },
   "source": [
    "**Exercise**\n",
    "\n",
    "Create a class `Circle` with:\n",
    "- radius as instance/object variable\n",
    "- pi (math.pi) as class variable\n",
    "- a compute_area(self) method that returns the area of ​​the \"circle\" object"
   ]
  },
  {
   "cell_type": "code",
   "execution_count": null,
   "id": "focused-invite",
   "metadata": {},
   "outputs": [],
   "source": [
    "import math"
   ]
  },
  {
   "cell_type": "code",
   "execution_count": null,
   "id": "3ce0668d",
   "metadata": {},
   "outputs": [],
   "source": []
  },
  {
   "cell_type": "markdown",
   "id": "87cccad5",
   "metadata": {
    "lang": "en"
   },
   "source": [
    "## Before continuing, let's take a breath and review vocabulary"
   ]
  },
  {
   "cell_type": "markdown",
   "id": "9170647e",
   "metadata": {
    "lang": "en"
   },
   "source": [
    "- **Class**: The cookie mold. With the class we can generate instances or objects.\n",
    "- **Object**: The cookie we generated. Each object has different characteristics but under the same pattern as the class.\n",
    "- **Instance**: Same as object, it's a synonym :) hehe\n",
    "- **Attribute**: The different ingredients of each object. They are defined as arguments in the __init__ function but are saved as data when we instantiate an object by calling the class"
   ]
  },
  {
   "cell_type": "markdown",
   "id": "b9edf159",
   "metadata": {},
   "source": [
    "```python\n",
    "aleix = Instructor(\"Aleix\", \"García\")\n",
    "```"
   ]
  },
  {
   "cell_type": "markdown",
   "id": "05499ca5",
   "metadata": {},
   "source": [
    "We can say that the attributes are the DATA, in this case \"Pau\" and \"Peracaula\".\n",
    "They are variables\n",
    "\n",
    "\n",
    "* **Class attribute**: Variables that belong to the class and that will be the same in all objects.\n",
    "* **Object/instance attribute**: The attributes explained above, specific to each object.\n",
    "* **Method**: Functions that do things"
   ]
  },
  {
   "cell_type": "markdown",
   "id": "8772dea7",
   "metadata": {
    "lang": "en"
   },
   "source": [
    "#### Easy exercise\n",
    "Kata --> https://www.codewars.com/kata/53f0f358b9cb376eca001079/train/python\n",
    "\n",
    "You can ignore the \"object\" for now"
   ]
  },
  {
   "cell_type": "markdown",
   "id": "050690b2",
   "metadata": {},
   "source": [
    "Solution:\n",
    "\n",
    "\n",
    "```python\n",
    "class Ball():\n",
    "    def __init__ (self, ball_type = \"regular\"):\n",
    "        self.ball_type = ball_type\n",
    "````"
   ]
  },
  {
   "cell_type": "markdown",
   "id": "pressed-proof",
   "metadata": {},
   "source": [
    "## Inheritance"
   ]
  },
  {
   "cell_type": "markdown",
   "id": "1f62f02d",
   "metadata": {
    "lang": "en"
   },
   "source": [
    "Inheritance allows defining new classes from existing classes. The class from which it is inherited is called the \"parent class\"/\"superclass\"/\"parent\". The class that it inherits is called a \"child class\" or \"subclass.\"\n",
    "The child class \"inherits\" all the properties of the parent class and allows us to override methods and attributes or add new ones. The fundamental advantage that the inheritance mechanism brings to programming is the ability to reuse code. Thus, a set of classes that share attributes and methods can inherit from a superclass where those methods and attributes are defined."
   ]
  },
  {
   "cell_type": "markdown",
   "id": "wanted-works",
   "metadata": {},
   "source": [
    "\n",
    "![miniyoda](https://media.giphy.com/media/j0eRJzyW7XjMpu1Pqd/giphy.gif)"
   ]
  },
  {
   "cell_type": "markdown",
   "id": "37b8b77c",
   "metadata": {
    "lang": "en"
   },
   "source": [
    "- Method defined in the `parent`, but not in the `child`\n",
    "\n",
    "In this case, the child will inherit the parent's method, it will work exactly the same and there is no need to override it.\n",
    "\n",
    "- Method defined in `Child`, but not in Parent\n",
    "\n",
    "The method only belongs to the child. Inheritance is one way.\n",
    "\n",
    "- Method set to \"both\".\n",
    "\n",
    "Two things can happen here, but both are a variant of the same fact. The method written in the `Child` class will override the one previously defined in Parent.\n",
    "\n",
    "However, if we want to use the original method and just add something else to it, we can always refer to the original (parent) method with `super()`. The `super()` function allows us to call any method of the parent class. Just remember to call it on the new define and make sure you get all the attributes it needs 😉 ."
   ]
  },
  {
   "cell_type": "code",
   "execution_count": null,
   "id": "unsigned-butterfly",
   "metadata": {},
   "outputs": [],
   "source": []
  },
  {
   "cell_type": "markdown",
   "id": "willing-workshop",
   "metadata": {},
   "source": [
    "### super()"
   ]
  },
  {
   "cell_type": "code",
   "execution_count": null,
   "id": "b9af98b2",
   "metadata": {},
   "outputs": [],
   "source": []
  },
  {
   "cell_type": "markdown",
   "id": "e26f2fec",
   "metadata": {
    "lang": "en"
   },
   "source": [
    "## Summary\n",
    "Now it's your turn: What have we learned? 🤯\n"
   ]
  },
  {
   "cell_type": "code",
   "execution_count": null,
   "id": "5ff2996d",
   "metadata": {},
   "outputs": [],
   "source": []
  },
  {
   "cell_type": "markdown",
   "id": "7d8865bd",
   "metadata": {
    "lang": "en"
   },
   "source": [
    "## Furthermaterials\n",
    "\n",
    "- Youtube Tutorial by [Corey Schafer](https://www.youtube.com/watch?v=ZDa-Z5JzLYM)\n",
    "- [Real Python](https://docs.hektorprofe.net/python/object-oriented-programming/classes-and-objects/)\n",
    "- [Interesting read](https://medium.com/@shaistha24/functional-programming-vs-object-oriented-programming-oop-which-is-better-82172e53a526) --> OOP vs Functional programming"
   ]
  },
  {
   "cell_type": "markdown",
   "id": "92bd3cce",
   "metadata": {
    "lang": "en"
   },
   "source": [
    "### Methods **ADVANCED** @classmethod@staticmethod\n",
    "* [Real Python - @classmethod/@stathicmethod](https://realpython.com/instance-class-and-static-methods-demystified/). Advanced Python with decorators (we'll mention them later)"
   ]
  }
 ],
 "metadata": {
  "kernelspec": {
   "display_name": "Python 3 (ipykernel)",
   "language": "python",
   "name": "python3"
  },
  "language_info": {
   "codemirror_mode": {
    "name": "ipython",
    "version": 3
   },
   "file_extension": ".py",
   "mimetype": "text/x-python",
   "name": "python",
   "nbconvert_exporter": "python",
   "pygments_lexer": "ipython3",
   "version": "3.8.13"
  },
  "nbTranslate": {
   "displayLangs": [
    "en",
    "es"
   ],
   "hotkey": "alt-a",
   "langInMainMenu": true,
   "sourceLang": "es",
   "targetLang": "en",
   "useGoogleTranslate": true
  },
  "toc": {
   "base_numbering": 1,
   "nav_menu": {},
   "number_sections": true,
   "sideBar": true,
   "skip_h1_title": true,
   "title_cell": "Table of Contents",
   "title_sidebar": "Contents",
   "toc_cell": true,
   "toc_position": {
    "height": "calc(100% - 180px)",
    "left": "10px",
    "top": "150px",
    "width": "288px"
   },
   "toc_section_display": true,
   "toc_window_display": true
  }
 },
 "nbformat": 4,
 "nbformat_minor": 5
}
