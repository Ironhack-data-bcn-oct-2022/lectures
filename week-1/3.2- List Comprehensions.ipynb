{
 "cells": [
  {
   "cell_type": "markdown",
   "id": "4476bce5",
   "metadata": {
    "lang": "en"
   },
   "source": [
    "# List Comprehensions"
   ]
  },
  {
   "cell_type": "markdown",
   "id": "ambient-dodge",
   "metadata": {},
   "source": [
    "![elgif](https://media.giphy.com/media/8vZY0QZZjJZqmfResk/giphy.gif)"
   ]
  },
  {
   "cell_type": "markdown",
   "id": "2d0ea60c",
   "metadata": {
    "lang": "en"
   },
   "source": [
    "## But what is this?\n",
    "List compressions are a very powerful tool, creating one list based on another, on a single readable line."
   ]
  },
  {
   "cell_type": "markdown",
   "id": "a6776c39",
   "metadata": {
    "lang": "en"
   },
   "source": [
    "If we wanted to have a list like this but with all the words in uppercase using a loop..."
   ]
  },
  {
   "cell_type": "code",
   "execution_count": 191,
   "id": "velvet-madonna",
   "metadata": {},
   "outputs": [
    {
     "data": {
      "text/plain": [
       "['BARCELONA', 'MADRID', 'GIRONA', 'MURCIA']"
      ]
     },
     "execution_count": 191,
     "metadata": {},
     "output_type": "execute_result"
    }
   ],
   "source": [
    "list_of_words = [\"barcelona\", \"madrid\", \"girona\", \"murcia\"]\n",
    "new_list_words_uppercase = []\n",
    "\n",
    "for city in list_of_words:\n",
    "    new_list_words_uppercase.append(city.upper())\n",
    "new_list_words_uppercase\n",
    "\n",
    "# transform the word into upper\n",
    "# append that transformed word into the new list"
   ]
  },
  {
   "cell_type": "markdown",
   "id": "012339ec",
   "metadata": {
    "lang": "en"
   },
   "source": [
    "How can we do it with list comprehension?"
   ]
  },
  {
   "cell_type": "code",
   "execution_count": 189,
   "id": "c1754a5a",
   "metadata": {},
   "outputs": [
    {
     "data": {
      "text/plain": [
       "['BARCELONA', 'MADRID', 'GIRONA', 'MURCIA']"
      ]
     },
     "execution_count": 189,
     "metadata": {},
     "output_type": "execute_result"
    }
   ],
   "source": [
    "# comprehension list\n",
    "\n",
    "comp_list = [city.upper() for city in list_of_words]\n",
    "comp_list"
   ]
  },
  {
   "cell_type": "markdown",
   "id": "third-policy",
   "metadata": {},
   "source": [
    "![imagen_compr](https://stsewd.dev/charla-comprension-de-listas/img/listComprehensions.gif)"
   ]
  },
  {
   "cell_type": "code",
   "execution_count": 193,
   "id": "36e710a5",
   "metadata": {},
   "outputs": [],
   "source": [
    "list_of_words = [\"barcelona\", 2,  3, \"madrid\", \"girona\", 30, \"murcia\"]"
   ]
  },
  {
   "cell_type": "code",
   "execution_count": 197,
   "id": "221cc9df",
   "metadata": {},
   "outputs": [
    {
     "name": "stdout",
     "output_type": "stream",
     "text": [
      "New list:  ['BARCELONA', 'MADRID', 'GIRONA', 'MURCIA']\n",
      "Comp list:  ['BARCELONA', 'MADRID', 'GIRONA', 'MURCIA']\n"
     ]
    }
   ],
   "source": [
    "# Goal: ['BARCELONA', 'MADRID', 'GIRONA', 'MURCIA'], nums out\n",
    "\n",
    "\n",
    "# For loop\n",
    "\n",
    "new_list = []\n",
    "for cities in list_of_words:\n",
    "    if type(cities) == str:\n",
    "        new_list.append(cities.upper())\n",
    "print(\"New list: \", new_list)\n",
    "\n",
    "# Comprehension list\n",
    "comp_list_2 = [cities.upper() for cities in list_of_words if type(cities) == str]\n",
    "print(\"Comp list: \", comp_list_2)"
   ]
  },
  {
   "cell_type": "markdown",
   "id": "aa4b9751",
   "metadata": {
    "lang": "en"
   },
   "source": [
    "## Easy challenge 🤔\n",
    "We want a list containing the squares of the numbers 1 to 10."
   ]
  },
  {
   "cell_type": "code",
   "execution_count": null,
   "id": "e3bc67b9",
   "metadata": {},
   "outputs": [],
   "source": [
    "# what we have: nothing :/ \n",
    "# goal: squares 1 - 10"
   ]
  },
  {
   "cell_type": "code",
   "execution_count": 202,
   "id": "8f1496bc",
   "metadata": {},
   "outputs": [
    {
     "data": {
      "text/plain": [
       "[1, 4, 9, 16, 25, 36, 49, 64, 81, 100]"
      ]
     },
     "execution_count": 202,
     "metadata": {},
     "output_type": "execute_result"
    }
   ],
   "source": [
    "# Regular loop\n",
    "\n",
    "new_list = []\n",
    "for number in range(1, 11):\n",
    "    new_list.append(number ** 2)\n",
    "new_list"
   ]
  },
  {
   "cell_type": "code",
   "execution_count": 203,
   "id": "238f8099",
   "metadata": {},
   "outputs": [
    {
     "data": {
      "text/plain": [
       "[1, 4, 9, 16, 25, 36, 49, 64, 81, 100]"
      ]
     },
     "execution_count": 203,
     "metadata": {},
     "output_type": "execute_result"
    }
   ],
   "source": [
    "# Carles: comprehension list\n",
    "\n",
    "squares = [number**2 for number in range(1,11)]\n",
    "squares"
   ]
  },
  {
   "cell_type": "markdown",
   "id": "54ce8e78",
   "metadata": {
    "lang": "en"
   },
   "source": [
    "## Advantage\n",
    "Understanding the list:\n",
    " *we don't need an empty list to start* we don't use the `.append` method."
   ]
  },
  {
   "cell_type": "code",
   "execution_count": 1,
   "id": "4e649137",
   "metadata": {},
   "outputs": [],
   "source": [
    "import time\n",
    "list_of_words = ['barcelona', 'madrid', 'gerona', 'murcia']"
   ]
  },
  {
   "cell_type": "code",
   "execution_count": 27,
   "id": "83169f15",
   "metadata": {},
   "outputs": [
    {
     "name": "stdout",
     "output_type": "stream",
     "text": [
      "CPU times: user 2 µs, sys: 1 µs, total: 3 µs\n",
      "Wall time: 4.77 µs\n",
      "['barcalona', 'madrid', 'garona', 'murcia']\n"
     ]
    }
   ],
   "source": [
    "%time\n",
    "new_list = []\n",
    "for city in list_of_words:\n",
    "    new_list.append(city.replace(\"e\", \"a\"))\n",
    "print(new_list)"
   ]
  },
  {
   "cell_type": "code",
   "execution_count": 28,
   "id": "e7c482fd",
   "metadata": {},
   "outputs": [
    {
     "name": "stdout",
     "output_type": "stream",
     "text": [
      "CPU times: user 2 µs, sys: 0 ns, total: 2 µs\n",
      "Wall time: 6.2 µs\n",
      "['barcalona', 'madrid', 'garona', 'murcia']\n"
     ]
    }
   ],
   "source": [
    "%time\n",
    "list2 = [city.replace(\"e\",\"a\") for city in list_of_words]\n",
    "print(list2)"
   ]
  },
  {
   "cell_type": "code",
   "execution_count": 30,
   "id": "bb442f11",
   "metadata": {},
   "outputs": [],
   "source": [
    "# comprehension lists \"should\" be faster\n",
    "# but they're also more comfortable"
   ]
  },
  {
   "cell_type": "markdown",
   "id": "04427900",
   "metadata": {
    "lang": "en"
   },
   "source": [
    "## Easy challenge 🤔\n",
    "Create a new list, substituting \"e's\" for \"a's\" in each word in the original `words` list."
   ]
  },
  {
   "cell_type": "code",
   "execution_count": 209,
   "id": "c8c45c56",
   "metadata": {},
   "outputs": [],
   "source": [
    "# e -> a\n",
    "\n",
    "# for loop\n",
    "    # get every word\n",
    "    # every word.replace \n",
    "    #append\n",
    "    #print(new_list)"
   ]
  },
  {
   "cell_type": "markdown",
   "id": "2c1733cd",
   "metadata": {},
   "source": [
    "### For loop"
   ]
  },
  {
   "cell_type": "code",
   "execution_count": 212,
   "id": "e9043062",
   "metadata": {},
   "outputs": [
    {
     "data": {
      "text/plain": [
       "['barcalona', 'madrid', 'garona', 'murcia']"
      ]
     },
     "execution_count": 212,
     "metadata": {},
     "output_type": "execute_result"
    }
   ],
   "source": [
    "# for loop\n",
    "new_list = []\n",
    "for city in list_of_words:\n",
    "    new_list.append(city.replace(\"e\", \"a\"))\n",
    "new_list "
   ]
  },
  {
   "cell_type": "markdown",
   "id": "998fd911",
   "metadata": {},
   "source": [
    "### Comprehension list"
   ]
  },
  {
   "cell_type": "code",
   "execution_count": 213,
   "id": "4cf5c6cb",
   "metadata": {},
   "outputs": [
    {
     "name": "stdout",
     "output_type": "stream",
     "text": [
      "['barcalona', 'madrid', 'garona', 'murcia']\n"
     ]
    }
   ],
   "source": [
    "# Carles\n",
    "\n",
    "list2 = [city.replace(\"e\",\"a\") for city in list_of_words]\n",
    "print(list2)"
   ]
  },
  {
   "cell_type": "markdown",
   "id": "69146175",
   "metadata": {
    "lang": "en"
   },
   "source": [
    "## Conditions (we put IF in the comprehension)"
   ]
  },
  {
   "cell_type": "markdown",
   "id": "worthy-major",
   "metadata": {},
   "source": [
    "<img width=600 src=\"https://www.mrdbourke.com/content/images/2019/09/python-list-comprehension-article.png\">"
   ]
  },
  {
   "cell_type": "markdown",
   "id": "27f79aae",
   "metadata": {
    "lang": "en"
   },
   "source": [
    "## Easy challenge 🤔\n",
    "We want a new list with words longer than 5 characters."
   ]
  },
  {
   "cell_type": "code",
   "execution_count": 32,
   "id": "invalid-variation",
   "metadata": {},
   "outputs": [],
   "source": [
    "list_of_words = ['barcelona', 'madrid', 'gerona', 'murcia']"
   ]
  },
  {
   "cell_type": "markdown",
   "id": "4e443e54",
   "metadata": {},
   "source": [
    "### For loop"
   ]
  },
  {
   "cell_type": "code",
   "execution_count": 36,
   "id": "83f3feda",
   "metadata": {},
   "outputs": [
    {
     "data": {
      "text/plain": [
       "['barcelona']"
      ]
     },
     "execution_count": 36,
     "metadata": {},
     "output_type": "execute_result"
    }
   ],
   "source": [
    "new_list = []\n",
    "for element in list_of_words:\n",
    "    if len(element) > 6:# if longer than 5\n",
    "        new_list.append(element)# then append\n",
    "new_list"
   ]
  },
  {
   "cell_type": "markdown",
   "id": "efa2cc76",
   "metadata": {},
   "source": [
    "### Comprehension list"
   ]
  },
  {
   "cell_type": "code",
   "execution_count": 38,
   "id": "7283fba5",
   "metadata": {},
   "outputs": [
    {
     "data": {
      "text/plain": [
       "['barcelona']"
      ]
     },
     "execution_count": 38,
     "metadata": {},
     "output_type": "execute_result"
    }
   ],
   "source": [
    "new_list_comp = [element for element in list_of_words if len(element) > 6]\n",
    "new_list_comp"
   ]
  },
  {
   "cell_type": "markdown",
   "id": "3a362f88",
   "metadata": {
    "lang": "en"
   },
   "source": [
    "## If / Else in comprehension\n",
    "You can include an else statement with a block of code that is implemented if the condition is false."
   ]
  },
  {
   "cell_type": "code",
   "execution_count": null,
   "id": "1cd66f87",
   "metadata": {},
   "outputs": [],
   "source": [
    "# if longer than 5\n",
    "# else: upper\n",
    "\n",
    "list_of_words = ['barcelona', 'madrid', 'gerona', 'murcia']"
   ]
  },
  {
   "cell_type": "code",
   "execution_count": 41,
   "id": "528c62a3",
   "metadata": {},
   "outputs": [
    {
     "data": {
      "text/plain": [
       "['barcelona', 'MADRID', 'GERONA', 'MURCIA']"
      ]
     },
     "execution_count": 41,
     "metadata": {},
     "output_type": "execute_result"
    }
   ],
   "source": [
    "# For loop\n",
    "\n",
    "new_list = []\n",
    "for city in list_of_words:\n",
    "    if len(city) > 7:\n",
    "        new_list.append(city)\n",
    "    else:\n",
    "        new_list.append(city.upper())\n",
    "new_list"
   ]
  },
  {
   "cell_type": "markdown",
   "id": "e5430c1d",
   "metadata": {
    "lang": "en"
   },
   "source": [
    "Be careful with the syntax, in this case it will change, the syntax of the comprehension will be:\n",
    "\n",
    "`[element if / else for element in whatever]`"
   ]
  },
  {
   "cell_type": "code",
   "execution_count": 43,
   "id": "9e203c2d",
   "metadata": {},
   "outputs": [
    {
     "data": {
      "text/plain": [
       "['barcelona', 'MADRID', 'GERONA', 'MURCIA']"
      ]
     },
     "execution_count": 43,
     "metadata": {},
     "output_type": "execute_result"
    }
   ],
   "source": [
    "# Comprehension list\n",
    "\n",
    "new_list = [city if len(city) > 7 else city.upper() for city in list_of_words]\n",
    "new_list "
   ]
  },
  {
   "cell_type": "code",
   "execution_count": 48,
   "id": "1ec8975d",
   "metadata": {},
   "outputs": [
    {
     "ename": "SyntaxError",
     "evalue": "invalid syntax (1843932003.py, line 4)",
     "output_type": "error",
     "traceback": [
      "\u001b[0;36m  Input \u001b[0;32mIn [48]\u001b[0;36m\u001b[0m\n\u001b[0;31m    new_list = [city if len(city) > 7 for city in list_of_words]\u001b[0m\n\u001b[0m                                      ^\u001b[0m\n\u001b[0;31mSyntaxError\u001b[0m\u001b[0;31m:\u001b[0m invalid syntax\n"
     ]
    }
   ],
   "source": [
    "# Q Sergi: can you have if in the middle without an else?\n",
    "# A: no\n",
    "\n",
    "new_list = [city if len(city) > 7 for city in list_of_words]\n",
    "new_list"
   ]
  },
  {
   "cell_type": "code",
   "execution_count": 47,
   "id": "c367889d",
   "metadata": {},
   "outputs": [
    {
     "ename": "SyntaxError",
     "evalue": "invalid syntax (2045864996.py, line 3)",
     "output_type": "error",
     "traceback": [
      "\u001b[0;36m  Input \u001b[0;32mIn [47]\u001b[0;36m\u001b[0m\n\u001b[0;31m    new_list = [city if len(city) > 7 if city.upper() for city in list_of_words]\u001b[0m\n\u001b[0m                                      ^\u001b[0m\n\u001b[0;31mSyntaxError\u001b[0m\u001b[0;31m:\u001b[0m invalid syntax\n"
     ]
    }
   ],
   "source": [
    "# Q: Marc Planas, what if you have myltiple ifs?\n",
    "#A: no\n",
    "\n",
    "new_list = [city if len(city) > 7 if city.upper() for city in list_of_words]\n",
    "new_list"
   ]
  },
  {
   "cell_type": "markdown",
   "id": "6e95c674",
   "metadata": {
    "lang": "es"
   },
   "source": [
    "## Nested list comprehensions"
   ]
  },
  {
   "cell_type": "code",
   "execution_count": 49,
   "id": "75349ba8",
   "metadata": {},
   "outputs": [],
   "source": [
    "names = [\"Albert\", \"Clara\", \"Laura\"]\n",
    "cities = [\"Mataró\", \"Poblenou\", \"Barcelona\"]"
   ]
  },
  {
   "cell_type": "code",
   "execution_count": null,
   "id": "1bbe7785",
   "metadata": {},
   "outputs": [],
   "source": [
    "#[[name, city], [name, city], [name, city]]\n",
    "#zip"
   ]
  },
  {
   "cell_type": "markdown",
   "id": "18296b82",
   "metadata": {},
   "source": [
    "### For loop"
   ]
  },
  {
   "cell_type": "markdown",
   "id": "3dceac52",
   "metadata": {
    "lang": "en"
   },
   "source": [
    "Let's create a list of lists with a for loop"
   ]
  },
  {
   "cell_type": "code",
   "execution_count": null,
   "id": "ongoing-england",
   "metadata": {},
   "outputs": [],
   "source": [
    "new_list = []\n",
    "for a, b in zip(names, cities):\n",
    "    new_list.append([a, b])\n",
    "new_list"
   ]
  },
  {
   "cell_type": "markdown",
   "id": "ac27117f",
   "metadata": {},
   "source": [
    "### Comprehension list: nested lists"
   ]
  },
  {
   "cell_type": "code",
   "execution_count": 56,
   "id": "88d96730",
   "metadata": {},
   "outputs": [
    {
     "data": {
      "text/plain": [
       "[['Albert', 'Mataró'], ['Clara', 'Poblenou'], ['Laura', 'Barcelona']]"
      ]
     },
     "execution_count": 56,
     "metadata": {},
     "output_type": "execute_result"
    }
   ],
   "source": [
    "nested_comprehension = [[a, b] for a, b in zip(names, cities)]\n",
    "nested_comprehension"
   ]
  },
  {
   "cell_type": "code",
   "execution_count": 58,
   "id": "2565d5b4",
   "metadata": {},
   "outputs": [
    {
     "data": {
      "text/plain": [
       "'Mataró'"
      ]
     },
     "execution_count": 58,
     "metadata": {},
     "output_type": "execute_result"
    }
   ],
   "source": [
    "nested_comprehension[0][1]\n",
    "\n",
    "[\"Abert\", \"Mataró\", \"Clara\", \"Poblenou\"] #unflattened version of my nested list"
   ]
  },
  {
   "cell_type": "markdown",
   "id": "90d83e6c",
   "metadata": {},
   "source": [
    "#### Unflattening a nested list with a for loop"
   ]
  },
  {
   "cell_type": "code",
   "execution_count": 62,
   "id": "8c3da52c",
   "metadata": {},
   "outputs": [
    {
     "data": {
      "text/plain": [
       "[['Albert', 'Mataró'], ['Clara', 'Poblenou'], ['Laura', 'Barcelona']]"
      ]
     },
     "execution_count": 62,
     "metadata": {},
     "output_type": "execute_result"
    }
   ],
   "source": [
    "nested_comprehension = [['Albert', 'Mataró'], ['Clara', 'Poblenou'], ['Laura', 'Barcelona']]\n",
    "nested_comprehension"
   ]
  },
  {
   "cell_type": "code",
   "execution_count": null,
   "id": "14e4ea3b",
   "metadata": {},
   "outputs": [],
   "source": [
    "# what i have: [['Albert', 'Mataró'], ['Clara', 'Poblenou'], ['Laura', 'Barcelona']]\n",
    "# goal:        [\"Abert\", \"Mataró\", \"Clara\", \"Poblenou\"]"
   ]
  },
  {
   "cell_type": "code",
   "execution_count": 66,
   "id": "8a317b59",
   "metadata": {},
   "outputs": [
    {
     "name": "stdout",
     "output_type": "stream",
     "text": [
      "Albert\n",
      "Mataró\n"
     ]
    }
   ],
   "source": [
    "i = ['Albert', 'Mataró']\n",
    "for element in i:\n",
    "    print(element)"
   ]
  },
  {
   "cell_type": "code",
   "execution_count": 73,
   "id": "91ab7124",
   "metadata": {},
   "outputs": [
    {
     "data": {
      "text/plain": [
       "['Albert', 'Mataró', 'Clara', 'Bcn', 'Clara', 'Poblenou', 'Laura', 'Barcelona']"
      ]
     },
     "execution_count": 73,
     "metadata": {},
     "output_type": "execute_result"
    }
   ],
   "source": [
    "nested_comprehension = [[['Albert', 'Mataró'], [\"Clara\", \"Bcn\"]], [['Clara', 'Poblenou']], [['Laura', 'Barcelona']]]\n",
    "\n",
    "unflattened = []\n",
    "\n",
    "for i in nested_comprehension:\n",
    "    for element in i:\n",
    "        for x in element:\n",
    "            unflattened.append(x) \n",
    "            \n",
    "unflattened"
   ]
  },
  {
   "cell_type": "markdown",
   "id": "e9c37ab7",
   "metadata": {},
   "source": [
    "#### Unflattening a nested list with a comprehension list"
   ]
  },
  {
   "cell_type": "code",
   "execution_count": 75,
   "id": "a89c12a0",
   "metadata": {},
   "outputs": [
    {
     "data": {
      "text/plain": [
       "['Albert', 'Mataró', 'Clara', 'Bcn', 'Clara', 'Poblenou', 'Laura', 'Barcelona']"
      ]
     },
     "execution_count": 75,
     "metadata": {},
     "output_type": "execute_result"
    }
   ],
   "source": [
    "unflatttened_comp = [x for i in nested_comprehension for element in i for x in element]\n",
    "unflatttened_comp"
   ]
  },
  {
   "cell_type": "markdown",
   "id": "3cbc2ea4",
   "metadata": {
    "lang": "en"
   },
   "source": [
    "## Dictionary comprehensions"
   ]
  },
  {
   "cell_type": "markdown",
   "id": "a199d32c",
   "metadata": {
    "lang": "en"
   },
   "source": [
    "How would we do it with a normal loop?"
   ]
  },
  {
   "cell_type": "code",
   "execution_count": null,
   "id": "a23c3202",
   "metadata": {},
   "outputs": [],
   "source": [
    "# two lists: names, emojis\n",
    "   # [\"venice\", \"sam\"]\n",
    "   # [\"emoji1\", \"emoji2\"] \n",
    "# goal: {\"venice\": \"emoji\", \"sam\":\"emoji\"}"
   ]
  },
  {
   "cell_type": "code",
   "execution_count": 76,
   "id": "5e44b9c5",
   "metadata": {},
   "outputs": [],
   "source": [
    "names = [\"venice\", \"sam\", \"clara\"]\n",
    "emojis = [\"💪\", \"🏠\", \"🤫\"]\n",
    "\n",
    "the_goal = {\"venice\": \"💪\",\n",
    " \"sam\": \"🏠\",\n",
    " \"clara\":\"🤫\" \n",
    "}"
   ]
  },
  {
   "cell_type": "markdown",
   "id": "11a48040",
   "metadata": {},
   "source": [
    "### For loop"
   ]
  },
  {
   "cell_type": "code",
   "execution_count": 80,
   "id": "tough-peeing",
   "metadata": {
    "scrolled": true
   },
   "outputs": [
    {
     "name": "stdout",
     "output_type": "stream",
     "text": [
      "{'venice': '💪', 'sam': '🏠', 'clara': '🤫'}\n"
     ]
    }
   ],
   "source": [
    "# iterate the two things. two lists\n",
    "    # iterating two lists at once\n",
    "# later I can build the dictionary\n",
    "    # new_dict[key] = value\n",
    "\n",
    "new_dictionary = {\n",
    "    \n",
    "}\n",
    "\n",
    "for person, picture in zip(names, emojis):\n",
    "    new_dictionary[person] = picture\n",
    "    #print(f\"Person: {person}, emoji: {picture}\")\n",
    "print(new_dictionary)"
   ]
  },
  {
   "cell_type": "markdown",
   "id": "c8d2e4fa",
   "metadata": {
    "lang": "en"
   },
   "source": [
    "### Comprehension dict"
   ]
  },
  {
   "cell_type": "code",
   "execution_count": 82,
   "id": "constitutional-daughter",
   "metadata": {},
   "outputs": [
    {
     "data": {
      "text/plain": [
       "{'venice': '💪', 'sam': '🏠', 'clara': '🤫'}"
      ]
     },
     "execution_count": 82,
     "metadata": {},
     "output_type": "execute_result"
    }
   ],
   "source": [
    "new_dict = {person:picture for person, picture in zip(names, emojis)}\n",
    "new_dict"
   ]
  },
  {
   "cell_type": "code",
   "execution_count": 83,
   "id": "56327cab",
   "metadata": {},
   "outputs": [
    {
     "data": {
      "text/plain": [
       "{'💪': 'venice', '🏠': 'sam', '🤫': 'clara'}"
      ]
     },
     "execution_count": 83,
     "metadata": {},
     "output_type": "execute_result"
    }
   ],
   "source": [
    "new_dict = {picture:person for person, picture in zip(names, emojis)}\n",
    "new_dict"
   ]
  },
  {
   "cell_type": "markdown",
   "id": "c33cdd0a",
   "metadata": {
    "lang": "en"
   },
   "source": [
    "## Challenge 🤔\n",
    "They give you a list of words. Write a dictionary containing the length of each word."
   ]
  },
  {
   "cell_type": "code",
   "execution_count": 84,
   "id": "12333f41",
   "metadata": {},
   "outputs": [],
   "source": [
    "list_of_words = [\"football\", \"climbing\", \"swimming\", \"golf\"]"
   ]
  },
  {
   "cell_type": "code",
   "execution_count": null,
   "id": "23650147",
   "metadata": {},
   "outputs": [],
   "source": [
    "# {footabll: 8}"
   ]
  },
  {
   "cell_type": "markdown",
   "id": "6ecdeb74",
   "metadata": {},
   "source": [
    "### For loop"
   ]
  },
  {
   "cell_type": "code",
   "execution_count": 86,
   "id": "romantic-tiffany",
   "metadata": {},
   "outputs": [
    {
     "data": {
      "text/plain": [
       "{'football': 8, 'climbing': 8, 'swimming': 8, 'golf': 4}"
      ]
     },
     "execution_count": 86,
     "metadata": {},
     "output_type": "execute_result"
    }
   ],
   "source": [
    "new_dict = {}\n",
    "for s in list_of_words:\n",
    "    new_dict[s] = len(s)\n",
    "new_dict"
   ]
  },
  {
   "cell_type": "markdown",
   "id": "c62375e0",
   "metadata": {},
   "source": [
    "### Comprehension dict"
   ]
  },
  {
   "cell_type": "code",
   "execution_count": 85,
   "id": "2435f19f",
   "metadata": {},
   "outputs": [
    {
     "data": {
      "text/plain": [
       "{'football': 8, 'climbing': 8, 'swimming': 8, 'golf': 4}"
      ]
     },
     "execution_count": 85,
     "metadata": {},
     "output_type": "execute_result"
    }
   ],
   "source": [
    "sports = {s:len(s) for s in list_of_words}\n",
    "sports"
   ]
  },
  {
   "cell_type": "markdown",
   "id": "0389e710",
   "metadata": {
    "lang": "en"
   },
   "source": [
    "## Last Challenge: comprehension SET\n",
    "Also output, with a set comprehension, only unique country codes"
   ]
  },
  {
   "cell_type": "code",
   "execution_count": 98,
   "id": "inner-refund",
   "metadata": {},
   "outputs": [],
   "source": [
    "codes_countries = [\"es-91\", \"en-88\", \"fra-12\", \"it-33\", \"ar-55\", \"it-34\", \"es-98\"]"
   ]
  },
  {
   "cell_type": "code",
   "execution_count": 96,
   "id": "30bb8484",
   "metadata": {},
   "outputs": [],
   "source": [
    "# goal = {'AR', 'EN', 'ES', 'FRA', 'IT'}\n",
    "\n",
    "# gettting just the letters\n",
    "# uppercase"
   ]
  },
  {
   "cell_type": "code",
   "execution_count": 108,
   "id": "6eed686c",
   "metadata": {},
   "outputs": [
    {
     "data": {
      "text/plain": [
       "['ES', 'EN', 'FRA', 'IT', 'AR', 'IT', 'ES']"
      ]
     },
     "execution_count": 108,
     "metadata": {},
     "output_type": "execute_result"
    }
   ],
   "source": [
    "new_list = []\n",
    "for element in codes_countries:\n",
    "    new_list.append(element.split(\"-\")[0].upper())\n",
    "\n",
    "new_list"
   ]
  },
  {
   "cell_type": "code",
   "execution_count": 115,
   "id": "e3eeb682",
   "metadata": {},
   "outputs": [
    {
     "data": {
      "text/plain": [
       "{'AR', 'EN', 'ES', 'FRA', 'IT'}"
      ]
     },
     "execution_count": 115,
     "metadata": {},
     "output_type": "execute_result"
    }
   ],
   "source": [
    "my_set = {element.split(\"-\")[0].upper() for element in codes_countries}\n",
    "my_set"
   ]
  },
  {
   "cell_type": "code",
   "execution_count": 116,
   "id": "93522121",
   "metadata": {},
   "outputs": [
    {
     "name": "stdout",
     "output_type": "stream",
     "text": [
      "{'ES', 'FRA', 'AR', 'EN', 'IT'}\n"
     ]
    }
   ],
   "source": [
    "print(my_set)"
   ]
  },
  {
   "cell_type": "raw",
   "id": "97efd01e",
   "metadata": {},
   "source": [
    "# order when printing changes\n",
    "{1, 100, 6, 50}"
   ]
  },
  {
   "cell_type": "markdown",
   "id": "19d8a0d8",
   "metadata": {},
   "source": [
    "# RECAP"
   ]
  },
  {
   "cell_type": "markdown",
   "id": "e36fe6b9",
   "metadata": {},
   "source": [
    "- quicker, more comfortable (i think) and readable way to create lists\n",
    "- comprehension lists, sets, dictionaries\n",
    "- flatten and create nested lists\n",
    "- save some steps while we do comprehensions\n",
    "- we can use conditions\n",
    "- IF  we use ELSE: the order changes"
   ]
  }
 ],
 "metadata": {
  "kernelspec": {
   "display_name": "ironhack",
   "language": "python",
   "name": "ironhack"
  },
  "language_info": {
   "codemirror_mode": {
    "name": "ipython",
    "version": 3
   },
   "file_extension": ".py",
   "mimetype": "text/x-python",
   "name": "python",
   "nbconvert_exporter": "python",
   "pygments_lexer": "ipython3",
   "version": "3.8.13"
  },
  "nbTranslate": {
   "displayLangs": [
    "en",
    "es"
   ],
   "hotkey": "alt-a",
   "langInMainMenu": true,
   "sourceLang": "es",
   "targetLang": "en",
   "useGoogleTranslate": true
  },
  "toc": {
   "base_numbering": 1,
   "nav_menu": {},
   "number_sections": true,
   "sideBar": false,
   "skip_h1_title": true,
   "title_cell": "Table of Contents",
   "title_sidebar": "Contents",
   "toc_cell": false,
   "toc_position": {
    "height": "466px",
    "left": "91px",
    "top": "111.125px",
    "width": "256px"
   },
   "toc_section_display": true,
   "toc_window_display": false
  }
 },
 "nbformat": 4,
 "nbformat_minor": 5
}
