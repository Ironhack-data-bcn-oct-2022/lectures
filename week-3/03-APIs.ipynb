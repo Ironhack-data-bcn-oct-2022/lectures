{
 "cells": [
  {
   "cell_type": "markdown",
   "id": "looking-favor",
   "metadata": {},
   "source": [
    "# APIS "
   ]
  },
  {
   "cell_type": "markdown",
   "id": "aggregate-occurrence",
   "metadata": {},
   "source": [
    "![apis_gif](https://media.giphy.com/media/wepUQluC5smgEd4Qz4/giphy.gif)"
   ]
  },
  {
   "cell_type": "markdown",
   "id": "ceramic-advocate",
   "metadata": {
    "toc": true
   },
   "source": [
    "<h1>Table of Contents<span class=\"tocSkip\"></span></h1>\n",
    "<div class=\"toc\"><ul class=\"toc-item\"><li><span><a href=\"#Libraries-summary\" data-toc-modified-id=\"Libraries-summary-1\"><span class=\"toc-item-num\">1&nbsp;&nbsp;</span>Libraries summary</a></span></li><li><span><a href=\"#Internet,-DNS,-IPs\" data-toc-modified-id=\"Internet,-DNS,-IPs-2\"><span class=\"toc-item-num\">2&nbsp;&nbsp;</span>Internet, DNS, IPs</a></span></li><li><span><a href=\"#HTTP\" data-toc-modified-id=\"HTTP-3\"><span class=\"toc-item-num\">3&nbsp;&nbsp;</span>HTTP</a></span><ul class=\"toc-item\"><li><span><a href=\"#URL\" data-toc-modified-id=\"URL-3.1\"><span class=\"toc-item-num\">3.1&nbsp;&nbsp;</span>URL</a></span></li><li><span><a href=\"#HTTP-vs-HTTPS\" data-toc-modified-id=\"HTTP-vs-HTTPS-3.2\"><span class=\"toc-item-num\">3.2&nbsp;&nbsp;</span>HTTP vs HTTPS</a></span></li><li><span><a href=\"#Requests\" data-toc-modified-id=\"Requests-3.3\"><span class=\"toc-item-num\">3.3&nbsp;&nbsp;</span>Requests</a></span></li><li><span><a href=\"#Response\" data-toc-modified-id=\"Response-3.4\"><span class=\"toc-item-num\">3.4&nbsp;&nbsp;</span>Response</a></span></li></ul></li><li><span><a href=\"#API\" data-toc-modified-id=\"API-4\"><span class=\"toc-item-num\">4&nbsp;&nbsp;</span>API</a></span><ul class=\"toc-item\"><li><span><a href=\"#RESTful-APIs\" data-toc-modified-id=\"RESTful-APIs-4.1\"><span class=\"toc-item-num\">4.1&nbsp;&nbsp;</span>RESTful APIs</a></span></li></ul></li><li><span><a href=\"#Let's-go\" data-toc-modified-id=\"Let's-go-5\"><span class=\"toc-item-num\">5&nbsp;&nbsp;</span>Let's go</a></span><ul class=\"toc-item\"><li><span><a href=\"#Requests-in-Python\" data-toc-modified-id=\"Requests-in-Python-5.1\"><span class=\"toc-item-num\">5.1&nbsp;&nbsp;</span>Requests in Python</a></span></li><li><span><a href=\"#HTML-response\" data-toc-modified-id=\"HTML-response-5.2\"><span class=\"toc-item-num\">5.2&nbsp;&nbsp;</span>HTML response</a></span></li><li><span><a href=\"#JSON-response\" data-toc-modified-id=\"JSON-response-5.3\"><span class=\"toc-item-num\">5.3&nbsp;&nbsp;</span>JSON response</a></span></li><li><span><a href=\"#Data-management-in-pandas\" data-toc-modified-id=\"Data-management-in-pandas-5.4\"><span class=\"toc-item-num\">5.4&nbsp;&nbsp;</span>Data management in pandas</a></span></li><li><span><a href=\"#Parameters\" data-toc-modified-id=\"Parameters-5.5\"><span class=\"toc-item-num\">5.5&nbsp;&nbsp;</span>Parameters</a></span></li></ul></li><li><span><a href=\"#It's-now-your-turn\" data-toc-modified-id=\"It's-now-your-turn-6\"><span class=\"toc-item-num\">6&nbsp;&nbsp;</span>It's now your turn</a></span></li><li><span><a href=\"#STEPS-TO-GET-REPONSES\" data-toc-modified-id=\"STEPS-TO-GET-REPONSES-7\"><span class=\"toc-item-num\">7&nbsp;&nbsp;</span>STEPS TO GET REPONSES</a></span></li><li><span><a href=\"#STEPS-TO-MANIPULATE-THE-RESPONSES\" data-toc-modified-id=\"STEPS-TO-MANIPULATE-THE-RESPONSES-8\"><span class=\"toc-item-num\">8&nbsp;&nbsp;</span>STEPS TO MANIPULATE THE RESPONSES</a></span></li><li><span><a href=\"#Headers\" data-toc-modified-id=\"Headers-9\"><span class=\"toc-item-num\">9&nbsp;&nbsp;</span>Headers</a></span></li><li><span><a href=\"#API-Keys-/-tokens-/-private_keys\" data-toc-modified-id=\"API-Keys-/-tokens-/-private_keys-10\"><span class=\"toc-item-num\">10&nbsp;&nbsp;</span>API Keys / tokens / private_keys</a></span><ul class=\"toc-item\"><li><span><a href=\"#Mini-recap\" data-toc-modified-id=\"Mini-recap-10.1\"><span class=\"toc-item-num\">10.1&nbsp;&nbsp;</span>Mini-recap</a></span></li></ul></li><li><span><a href=\"#API-Clients\" data-toc-modified-id=\"API-Clients-11\"><span class=\"toc-item-num\">11&nbsp;&nbsp;</span>API Clients</a></span><ul class=\"toc-item\"><li><span><a href=\"#THIS-IS-FROM-RAPIDAPI--->-https://rapidapi.com/community/api/open-weather-map/\" data-toc-modified-id=\"THIS-IS-FROM-RAPIDAPI--->-https://rapidapi.com/community/api/open-weather-map/-11.1\"><span class=\"toc-item-num\">11.1&nbsp;&nbsp;</span>THIS IS FROM RAPIDAPI --&gt; <a href=\"https://rapidapi.com/community/api/open-weather-map/\" rel=\"nofollow\" target=\"_blank\">https://rapidapi.com/community/api/open-weather-map/</a></a></span></li><li><span><a href=\"#Insomnia\" data-toc-modified-id=\"Insomnia-11.2\"><span class=\"toc-item-num\">11.2&nbsp;&nbsp;</span>Insomnia</a></span></li><li><span><a href=\"#Codes-generated-by-insomnia\" data-toc-modified-id=\"Codes-generated-by-insomnia-11.3\"><span class=\"toc-item-num\">11.3&nbsp;&nbsp;</span>Codes generated by insomnia</a></span></li></ul></li><li><span><a href=\"#Spotify\" data-toc-modified-id=\"Spotify-12\"><span class=\"toc-item-num\">12&nbsp;&nbsp;</span>Spotify</a></span><ul class=\"toc-item\"><li><span><a href=\"#Load-initial-credentials\" data-toc-modified-id=\"Load-initial-credentials-12.1\"><span class=\"toc-item-num\">12.1&nbsp;&nbsp;</span>Load initial credentials</a></span></li><li><span><a href=\"#Get-token-from-those-initial-credentials\" data-toc-modified-id=\"Get-token-from-those-initial-credentials-12.2\"><span class=\"toc-item-num\">12.2&nbsp;&nbsp;</span>Get token from those initial credentials</a></span></li><li><span><a href=\"#With-token,-we-can-create-the-headers\" data-toc-modified-id=\"With-token,-we-can-create-the-headers-12.3\"><span class=\"toc-item-num\">12.3&nbsp;&nbsp;</span>With token, we can create the headers</a></span></li></ul></li><li><span><a href=\"#Summary\" data-toc-modified-id=\"Summary-13\"><span class=\"toc-item-num\">13&nbsp;&nbsp;</span>Summary</a></span><ul class=\"toc-item\"><li><span><a href=\"#What-APIs-are\" data-toc-modified-id=\"What-APIs-are-13.1\"><span class=\"toc-item-num\">13.1&nbsp;&nbsp;</span>What APIs are</a></span></li><li><span><a href=\"#How-they-work\" data-toc-modified-id=\"How-they-work-13.2\"><span class=\"toc-item-num\">13.2&nbsp;&nbsp;</span>How they work</a></span></li><li><span><a href=\"#Authentication\" data-toc-modified-id=\"Authentication-13.3\"><span class=\"toc-item-num\">13.3&nbsp;&nbsp;</span>Authentication</a></span></li><li><span><a href=\"#Process\" data-toc-modified-id=\"Process-13.4\"><span class=\"toc-item-num\">13.4&nbsp;&nbsp;</span>Process</a></span></li><li><span><a href=\"#Keep-in-mind:\" data-toc-modified-id=\"Keep-in-mind:-13.5\"><span class=\"toc-item-num\">13.5&nbsp;&nbsp;</span>Keep in mind:</a></span></li></ul></li><li><span><a href=\"#Further-materials\" data-toc-modified-id=\"Further-materials-14\"><span class=\"toc-item-num\">14&nbsp;&nbsp;</span>Further materials</a></span></li></ul></div>"
   ]
  },
  {
   "cell_type": "markdown",
   "id": "259fc652",
   "metadata": {
    "lang": "en"
   },
   "source": [
    "## Libraries summary"
   ]
  },
  {
   "cell_type": "code",
   "execution_count": 1,
   "id": "planned-satisfaction",
   "metadata": {},
   "outputs": [],
   "source": [
    "import pandas as pd\n",
    "from pandas import json_normalize\n",
    "\n",
    "import requests \n",
    "import json\n",
    "import os\n",
    "from dotenv import load_dotenv #conda install -c conda-forge python-dotenv\n",
    "\n",
    "import time"
   ]
  },
  {
   "cell_type": "code",
   "execution_count": null,
   "id": "e5d9e898",
   "metadata": {},
   "outputs": [],
   "source": [
    "1. .env needs to exist\n",
    "2. it needs to have contents\n",
    "3. you might need to reset the kernel\n",
    "4. load_dotenv()"
   ]
  },
  {
   "cell_type": "code",
   "execution_count": 2,
   "id": "12caed50",
   "metadata": {},
   "outputs": [
    {
     "data": {
      "text/plain": [
       "True"
      ]
     },
     "execution_count": 2,
     "metadata": {},
     "output_type": "execute_result"
    }
   ],
   "source": [
    "load_dotenv()"
   ]
  },
  {
   "cell_type": "code",
   "execution_count": 4,
   "id": "b938d3d2",
   "metadata": {},
   "outputs": [
    {
     "data": {
      "text/plain": [
       "'838484'"
      ]
     },
     "execution_count": 4,
     "metadata": {},
     "output_type": "execute_result"
    }
   ],
   "source": [
    "import os\n",
    "token_for_github = os.getenv(\"gh_token\")\n",
    "token_for_github"
   ]
  },
  {
   "cell_type": "markdown",
   "id": "cosmetic-creator",
   "metadata": {},
   "source": [
    "## Internet, DNS, IPs"
   ]
  },
  {
   "cell_type": "code",
   "execution_count": null,
   "id": "6d76c18d",
   "metadata": {},
   "outputs": [],
   "source": []
  },
  {
   "cell_type": "markdown",
   "id": "suspended-macedonia",
   "metadata": {},
   "source": [
    "![enjuto](https://www.publico.es/files/article_main/uploads//2014/12/13/548bb18f1d9ef.jpg)"
   ]
  },
  {
   "cell_type": "markdown",
   "id": "69084d6b",
   "metadata": {
    "lang": "en"
   },
   "source": [
    "- DNS (Domain Name Server): Maps the Internet address www.google.com to the server IP: 216.58.222.196\n",
    "- IP: server identification. code that allows information to be sent and received by the correct parties\n",
    "- Domain providers: they sell and buy Internet domains"
   ]
  },
  {
   "cell_type": "markdown",
   "id": "oriented-bride",
   "metadata": {},
   "source": [
    "## HTTP"
   ]
  },
  {
   "cell_type": "markdown",
   "id": "d16828a5",
   "metadata": {
    "lang": "en"
   },
   "source": [
    "**H**yper **T**ext **T**transfer **P**rotocolo\n",
    "HTTP is a communications protocol that provides a structure for requests between client and server on a network.\n",
    "For example, the web browser on the user's computer (the client) uses the HTTP protocol to request information from a website on a server."
   ]
  },
  {
   "cell_type": "markdown",
   "id": "5ce30e09",
   "metadata": {
    "lang": "en"
   },
   "source": [
    "### URL\n",
    "Contains information about the resource that is being requested from the SERVER.\n",
    "Examples:\n",
    "\n",
    "- http://www.towardsdatascience.com\n",
    "- https://www.ironhack.com/\n",
    "- Protocol: https (https == http is the same but https is encrypted)\n",
    "- Domain name --> IRONHACK\n",
    "- TLD (top level domain) --> .com\n",
    "- https://www.google.com/webhp?authuser=2\n"
   ]
  },
  {
   "cell_type": "markdown",
   "id": "f3c895c9",
   "metadata": {
    "lang": "en"
   },
   "source": [
    "### HTTP vs HTTPS\n",
    "\n",
    "- HTTP transfers data in plain text while HTTPS transfers data in encrypted text.\n",
    "- HTTP is faster than HTTPS because the latter consumes computing power to encrypt the communication channel."
   ]
  },
  {
   "cell_type": "markdown",
   "id": "elegant-british",
   "metadata": {},
   "source": [
    "### Requests"
   ]
  },
  {
   "cell_type": "markdown",
   "id": "26c28ba4",
   "metadata": {
    "lang": "en"
   },
   "source": [
    "The **Requests** are questions that we ask a SERVER to receive information (a **response**).\n",
    "Types of request (verb):\n",
    "- GET: read the information from the resource, and do not modify it in any way. Accessing the web page from the browser **gets** information.\n",
    "- POST\n",
    "- PUT\n",
    "- DELETE\n",
    "- PATCH\n",
    "- ..."
   ]
  },
  {
   "cell_type": "markdown",
   "id": "20dce799",
   "metadata": {
    "lang": "en"
   },
   "source": [
    "### Response\n",
    "Responses can be of various types:\n",
    "* a JSON (similar to Python's dictionary)\n",
    "* an image\n",
    "* a video\n",
    "* an HTML page\n",
    "* a PDF file\n",
    "* ..."
   ]
  },
  {
   "cell_type": "code",
   "execution_count": null,
   "id": "aba002fc",
   "metadata": {},
   "outputs": [],
   "source": [
    "# we'll see this now\n",
    "\n",
    "\n",
    "'{\"\":\"\"}' #object\n",
    "\n",
    "#conversion into -> \n",
    "\n",
    "{\"\":\"\"} #dictionary\n",
    "\n"
   ]
  },
  {
   "cell_type": "markdown",
   "id": "2686f816",
   "metadata": {
    "lang": "en"
   },
   "source": [
    "The responses follow the following structure. Have:\n",
    "- a HEADER section: contains metadata about the behavior of the server\n",
    "- a BODY: contains the desired information\n",
    "\n",
    "An important part of the HEADER is the **status code**. This code is a numeric code indicating the result of the server. There are different status codes depending on whether the server has succeeded in making the request or has failed to do anything. Here are some groups of status codes:\n",
    "\n",
    "- **2xx** successful__: the request was received, understood and accepted successfully\n",
    "- **3xx** redirect__: more action is needed to complete the request\n",
    "- **4xx** client error__: request contains incorrect syntax or cannot be fulfilled\n",
    "- **5xx** server error__: the server was unable to complete an apparently valid request\n",
    "\n",
    "Complete list:\n",
    "https://en.wikipedia.org/wiki/List_of_HTTP_status_codes\n",
    "\n",
    "Much more fun:\n",
    "https://http.cat/"
   ]
  },
  {
   "cell_type": "markdown",
   "id": "going-question",
   "metadata": {},
   "source": [
    "## API"
   ]
  },
  {
   "cell_type": "markdown",
   "id": "07f5a004",
   "metadata": {
    "lang": "en"
   },
   "source": [
    "**A**pplication **P**rogramming **I**nterface\n",
    "- In the cloud era, programs need to communicate over the Internet.\n",
    "- Within a project, the backend may want to share information with the frontend without access to the database.\n",
    "- It is a contract between software products.\n",
    "* It is an instruction manual to use a software.\n",
    "* The client calls the server through an API, the server responds."
   ]
  },
  {
   "cell_type": "markdown",
   "id": "af017169",
   "metadata": {},
   "source": [
    "![API - Waiter](https://miro.medium.com/max/1400/0*2tmGZJKP6LfDycgV.png)"
   ]
  },
  {
   "cell_type": "markdown",
   "id": "headed-quarterly",
   "metadata": {},
   "source": [
    "### RESTful APIs"
   ]
  },
  {
   "cell_type": "markdown",
   "id": "0cae99ba",
   "metadata": {
    "lang": "en"
   },
   "source": [
    "Most interactive APIs follow REST logic, a set of rules\n",
    "- [REST Guiding Principles](https://restfulapi.net/)\n",
    "\n",
    "Who does what:\n",
    "- We (client) send a request\n",
    "- They (server) return a response, usually in JSON format\n",
    "\n",
    "APIs always have to offer documentation of their different services: **endpoints**<br>\n",
    "Each endpoint is a different URL"
   ]
  },
  {
   "cell_type": "markdown",
   "id": "respiratory-settle",
   "metadata": {},
   "source": [
    "## Let's go"
   ]
  },
  {
   "cell_type": "markdown",
   "id": "18797a28",
   "metadata": {
    "lang": "en"
   },
   "source": [
    "### Requests in Python"
   ]
  },
  {
   "cell_type": "markdown",
   "id": "parallel-makeup",
   "metadata": {},
   "source": [
    "https://requests.readthedocs.io/en/master/"
   ]
  },
  {
   "cell_type": "code",
   "execution_count": null,
   "id": "immediate-headset",
   "metadata": {},
   "outputs": [],
   "source": [
    "#!pip install requests\n",
    "#conda install requests"
   ]
  },
  {
   "cell_type": "code",
   "execution_count": 71,
   "id": "lesser-customs",
   "metadata": {},
   "outputs": [],
   "source": [
    "import requests"
   ]
  },
  {
   "cell_type": "code",
   "execution_count": 74,
   "id": "ad7a8595",
   "metadata": {},
   "outputs": [],
   "source": [
    "response_pais = requests.get(\"https://elpais.com\")"
   ]
  },
  {
   "cell_type": "code",
   "execution_count": 75,
   "id": "b28f7184",
   "metadata": {},
   "outputs": [
    {
     "data": {
      "text/plain": [
       "<Response [200]>"
      ]
     },
     "execution_count": 75,
     "metadata": {},
     "output_type": "execute_result"
    }
   ],
   "source": [
    "response_pais"
   ]
  },
  {
   "cell_type": "code",
   "execution_count": 81,
   "id": "1e4a49f4",
   "metadata": {
    "scrolled": true
   },
   "outputs": [
    {
     "data": {
      "text/plain": [
       "{'Content-Type': 'text/html; charset=utf-8', 'Server': 'openresty', 'Content-Encoding': 'gzip', 'ETag': 'W/\"5c9f2-OfEql3Zl4IlChed1wuukVNN6vXw\"', 'Last-Modified': 'Thu, 20 Oct 2022 08:23:54 GMT', 'Vary': 'Accept-Encoding', 'X-Akamai-Transformed': '9 - 0 pmb=mRUM,2', 'Cache-Control': 'private, max-age=60', 'Expires': 'Thu, 20 Oct 2022 08:26:08 GMT', 'Date': 'Thu, 20 Oct 2022 08:25:08 GMT', 'Transfer-Encoding': 'chunked', 'Connection': 'keep-alive, Transfer-Encoding', 'Set-Cookie': 'arc-geo={\"georegion\":\"200\",\"countrycode\":\"ES\",\"regioncode\":\"eu-central-1\",\"timezone\":\"GMT+1\",\"continent\":\"EU\"}; expires=Thu, 20-Oct-2022 08:40:08 GMT; path=/, eptz=ES; path=/; domain=.elpais.com, hpage=1; expires=Fri, 20-Oct-2023 08:25:08 GMT; path=/; domain=.elpais.com', 'Server-Timing': 'cdn-cache; desc=HIT, edge; dur=1', 'Akamai-True-TTL': '130'}"
      ]
     },
     "execution_count": 81,
     "metadata": {},
     "output_type": "execute_result"
    }
   ],
   "source": [
    "response_pais.headers"
   ]
  },
  {
   "cell_type": "markdown",
   "id": "opponent-missouri",
   "metadata": {},
   "source": [
    "### HTML response"
   ]
  },
  {
   "cell_type": "markdown",
   "id": "e3abefeb",
   "metadata": {
    "lang": "en"
   },
   "source": [
    "I can call a url and have all the html, all the response from the server."
   ]
  },
  {
   "cell_type": "code",
   "execution_count": 17,
   "id": "8c49c853",
   "metadata": {},
   "outputs": [],
   "source": [
    "#response_pais.content"
   ]
  },
  {
   "cell_type": "code",
   "execution_count": 84,
   "id": "53ccd272",
   "metadata": {},
   "outputs": [
    {
     "data": {
      "text/plain": [
       "True"
      ]
     },
     "execution_count": 84,
     "metadata": {},
     "output_type": "execute_result"
    }
   ],
   "source": [
    "\"alarma\" in str(response_pais.content)"
   ]
  },
  {
   "cell_type": "markdown",
   "id": "northern-indian",
   "metadata": {},
   "source": [
    "### JSON response"
   ]
  },
  {
   "cell_type": "markdown",
   "id": "appointed-ready",
   "metadata": {},
   "source": [
    "JSON: Java Script Object Notation"
   ]
  },
  {
   "cell_type": "markdown",
   "id": "28cad090",
   "metadata": {
    "lang": "en"
   },
   "source": [
    "Let's get information from the ISS (international space station)"
   ]
  },
  {
   "cell_type": "markdown",
   "id": "biblical-consultation",
   "metadata": {},
   "source": [
    "[ISS API documentation](https://wheretheiss.at/w/developer)"
   ]
  },
  {
   "cell_type": "code",
   "execution_count": 86,
   "id": "c8236435",
   "metadata": {},
   "outputs": [],
   "source": [
    "url = \"https://api.wheretheiss.at/v1/satellites\""
   ]
  },
  {
   "cell_type": "code",
   "execution_count": 87,
   "id": "474e99b4",
   "metadata": {},
   "outputs": [],
   "source": [
    "res = requests.get(url)"
   ]
  },
  {
   "cell_type": "code",
   "execution_count": 88,
   "id": "d685695b",
   "metadata": {},
   "outputs": [
    {
     "data": {
      "text/plain": [
       "<Response [200]>"
      ]
     },
     "execution_count": 88,
     "metadata": {},
     "output_type": "execute_result"
    }
   ],
   "source": [
    "res"
   ]
  },
  {
   "cell_type": "code",
   "execution_count": 89,
   "id": "3e559427",
   "metadata": {},
   "outputs": [
    {
     "data": {
      "text/plain": [
       "{'Date': 'Thu, 20 Oct 2022 08:32:38 GMT', 'Server': 'Apache/2.2.22 (Ubuntu)', 'X-Powered-By': 'PHP/5.3.10-1ubuntu3.26', 'X-Rate-Limit-Limit': '350', 'X-Rate-Limit-Remaining': '349', 'X-Rate-Limit-Interval': '5 minutes', 'Access-Control-Allow-Origin': '*', 'X-Apache-Time': 'D=17142', 'Cache-Control': 'max-age=0, no-cache', 'Content-Length': '27', 'Keep-Alive': 'timeout=15, max=100', 'Connection': 'Keep-Alive', 'Content-Type': 'application/json'}"
      ]
     },
     "execution_count": 89,
     "metadata": {},
     "output_type": "execute_result"
    }
   ],
   "source": [
    "res.headers"
   ]
  },
  {
   "cell_type": "code",
   "execution_count": 94,
   "id": "0c772e0b",
   "metadata": {},
   "outputs": [
    {
     "data": {
      "text/plain": [
       "b'[{\"name\":\"iss\",\"id\":25544}]'"
      ]
     },
     "execution_count": 94,
     "metadata": {},
     "output_type": "execute_result"
    }
   ],
   "source": [
    "res.content"
   ]
  },
  {
   "cell_type": "code",
   "execution_count": null,
   "id": "775734a2",
   "metadata": {},
   "outputs": [],
   "source": [
    "#www.github.com\n",
    "#www.api.github.com¡"
   ]
  },
  {
   "cell_type": "markdown",
   "id": "ee690bdb",
   "metadata": {
    "lang": "en"
   },
   "source": [
    "If the Content-Type of the response is json, we can access it with `.json()`\n",
    "[Documentation](https://docs.python.org/3/library/json.html)"
   ]
  },
  {
   "cell_type": "code",
   "execution_count": null,
   "id": "a96255c2",
   "metadata": {},
   "outputs": [],
   "source": [
    "res.json()"
   ]
  },
  {
   "cell_type": "code",
   "execution_count": 99,
   "id": "bb4aad65",
   "metadata": {},
   "outputs": [
    {
     "data": {
      "text/plain": [
       "25544"
      ]
     },
     "execution_count": 99,
     "metadata": {},
     "output_type": "execute_result"
    }
   ],
   "source": [
    "id_satellite = res.json()[0][\"id\"]\n",
    "id_satellite"
   ]
  },
  {
   "cell_type": "markdown",
   "id": "662a5bd2",
   "metadata": {
    "lang": "en"
   },
   "source": [
    "We make the call to the satellites endpoint with the id because it has already been returned to us by the previous request"
   ]
  },
  {
   "cell_type": "code",
   "execution_count": 100,
   "id": "04350569",
   "metadata": {},
   "outputs": [
    {
     "data": {
      "text/plain": [
       "25544"
      ]
     },
     "execution_count": 100,
     "metadata": {},
     "output_type": "execute_result"
    }
   ],
   "source": [
    "id_satellite"
   ]
  },
  {
   "cell_type": "code",
   "execution_count": 105,
   "id": "64a748c6",
   "metadata": {},
   "outputs": [],
   "source": [
    "url_2 = f\"https://api.wheretheiss.at/v1/satellites/{id_satellite}\""
   ]
  },
  {
   "cell_type": "code",
   "execution_count": 110,
   "id": "80eff5d0",
   "metadata": {
    "scrolled": true
   },
   "outputs": [
    {
     "data": {
      "text/plain": [
       "{'name': 'iss',\n",
       " 'id': 25544,\n",
       " 'latitude': -16.879549294376,\n",
       " 'longitude': 111.8930331971,\n",
       " 'altitude': 425.51884615296,\n",
       " 'velocity': 27556.682037604,\n",
       " 'visibility': 'daylight',\n",
       " 'footprint': 4535.4349718499,\n",
       " 'timestamp': 1666255099,\n",
       " 'daynum': 2459872.8599421,\n",
       " 'solar_lat': -10.383029616989,\n",
       " 'solar_lon': 46.62853362494,\n",
       " 'units': 'kilometers'}"
      ]
     },
     "execution_count": 110,
     "metadata": {},
     "output_type": "execute_result"
    }
   ],
   "source": [
    "res_2 = requests.get(url_2)\n",
    "res_2.json()"
   ]
  },
  {
   "cell_type": "code",
   "execution_count": 111,
   "id": "8068eebe",
   "metadata": {},
   "outputs": [
    {
     "data": {
      "text/plain": [
       "{'name': 'iss',\n",
       " 'id': 25544,\n",
       " 'latitude': -16.879549294376,\n",
       " 'longitude': 111.8930331971,\n",
       " 'altitude': 425.51884615296,\n",
       " 'velocity': 27556.682037604,\n",
       " 'visibility': 'daylight',\n",
       " 'footprint': 4535.4349718499,\n",
       " 'timestamp': 1666255099,\n",
       " 'daynum': 2459872.8599421,\n",
       " 'solar_lat': -10.383029616989,\n",
       " 'solar_lon': 46.62853362494,\n",
       " 'units': 'kilometers'}"
      ]
     },
     "execution_count": 111,
     "metadata": {},
     "output_type": "execute_result"
    }
   ],
   "source": [
    "location = res_2.json()\n",
    "location"
   ]
  },
  {
   "cell_type": "code",
   "execution_count": 112,
   "id": "6cdf6f00",
   "metadata": {},
   "outputs": [
    {
     "data": {
      "text/plain": [
       "-16.879549294376"
      ]
     },
     "execution_count": 112,
     "metadata": {},
     "output_type": "execute_result"
    }
   ],
   "source": [
    "location[\"latitude\"]"
   ]
  },
  {
   "cell_type": "code",
   "execution_count": 113,
   "id": "55cc0e57",
   "metadata": {},
   "outputs": [
    {
     "data": {
      "text/plain": [
       "111.8930331971"
      ]
     },
     "execution_count": 113,
     "metadata": {},
     "output_type": "execute_result"
    }
   ],
   "source": [
    "location[\"longitude\"]"
   ]
  },
  {
   "cell_type": "code",
   "execution_count": 114,
   "id": "537875d0",
   "metadata": {},
   "outputs": [],
   "source": [
    "lat, long = (location[\"latitude\"], location[\"longitude\"])"
   ]
  },
  {
   "cell_type": "code",
   "execution_count": 115,
   "id": "e3ffdbc7",
   "metadata": {},
   "outputs": [
    {
     "data": {
      "text/plain": [
       "-16.879549294376"
      ]
     },
     "execution_count": 115,
     "metadata": {},
     "output_type": "execute_result"
    }
   ],
   "source": [
    "lat"
   ]
  },
  {
   "cell_type": "markdown",
   "id": "c0e4b41e",
   "metadata": {
    "lang": "en"
   },
   "source": [
    "### Data management in pandas"
   ]
  },
  {
   "cell_type": "code",
   "execution_count": 116,
   "id": "21b54696",
   "metadata": {},
   "outputs": [],
   "source": [
    "import pandas as pd"
   ]
  },
  {
   "cell_type": "code",
   "execution_count": 120,
   "id": "055a8937",
   "metadata": {},
   "outputs": [
    {
     "data": {
      "text/html": [
       "<div>\n",
       "<style scoped>\n",
       "    .dataframe tbody tr th:only-of-type {\n",
       "        vertical-align: middle;\n",
       "    }\n",
       "\n",
       "    .dataframe tbody tr th {\n",
       "        vertical-align: top;\n",
       "    }\n",
       "\n",
       "    .dataframe thead th {\n",
       "        text-align: right;\n",
       "    }\n",
       "</style>\n",
       "<table border=\"1\" class=\"dataframe\">\n",
       "  <thead>\n",
       "    <tr style=\"text-align: right;\">\n",
       "      <th></th>\n",
       "      <th>0</th>\n",
       "    </tr>\n",
       "  </thead>\n",
       "  <tbody>\n",
       "    <tr>\n",
       "      <th>name</th>\n",
       "      <td>iss</td>\n",
       "    </tr>\n",
       "    <tr>\n",
       "      <th>id</th>\n",
       "      <td>25544</td>\n",
       "    </tr>\n",
       "    <tr>\n",
       "      <th>latitude</th>\n",
       "      <td>-16.879549</td>\n",
       "    </tr>\n",
       "    <tr>\n",
       "      <th>longitude</th>\n",
       "      <td>111.893033</td>\n",
       "    </tr>\n",
       "    <tr>\n",
       "      <th>altitude</th>\n",
       "      <td>425.518846</td>\n",
       "    </tr>\n",
       "    <tr>\n",
       "      <th>velocity</th>\n",
       "      <td>27556.682038</td>\n",
       "    </tr>\n",
       "    <tr>\n",
       "      <th>visibility</th>\n",
       "      <td>daylight</td>\n",
       "    </tr>\n",
       "    <tr>\n",
       "      <th>footprint</th>\n",
       "      <td>4535.434972</td>\n",
       "    </tr>\n",
       "    <tr>\n",
       "      <th>timestamp</th>\n",
       "      <td>1666255099</td>\n",
       "    </tr>\n",
       "    <tr>\n",
       "      <th>daynum</th>\n",
       "      <td>2459872.859942</td>\n",
       "    </tr>\n",
       "    <tr>\n",
       "      <th>solar_lat</th>\n",
       "      <td>-10.38303</td>\n",
       "    </tr>\n",
       "    <tr>\n",
       "      <th>solar_lon</th>\n",
       "      <td>46.628534</td>\n",
       "    </tr>\n",
       "    <tr>\n",
       "      <th>units</th>\n",
       "      <td>kilometers</td>\n",
       "    </tr>\n",
       "  </tbody>\n",
       "</table>\n",
       "</div>"
      ],
      "text/plain": [
       "                         0\n",
       "name                   iss\n",
       "id                   25544\n",
       "latitude        -16.879549\n",
       "longitude       111.893033\n",
       "altitude        425.518846\n",
       "velocity      27556.682038\n",
       "visibility        daylight\n",
       "footprint      4535.434972\n",
       "timestamp       1666255099\n",
       "daynum      2459872.859942\n",
       "solar_lat        -10.38303\n",
       "solar_lon        46.628534\n",
       "units           kilometers"
      ]
     },
     "execution_count": 120,
     "metadata": {},
     "output_type": "execute_result"
    }
   ],
   "source": [
    "df1 = pd.DataFrame.from_dict(location, orient=\"index\")\n",
    "df1"
   ]
  },
  {
   "cell_type": "code",
   "execution_count": 121,
   "id": "843374bc",
   "metadata": {},
   "outputs": [],
   "source": [
    "from pandas import json_normalize"
   ]
  },
  {
   "cell_type": "code",
   "execution_count": 123,
   "id": "05bd2326",
   "metadata": {},
   "outputs": [
    {
     "data": {
      "text/plain": [
       "{'name': 'iss',\n",
       " 'id': 25544,\n",
       " 'latitude': -30.049390376457,\n",
       " 'longitude': 123.98633218281,\n",
       " 'altitude': 429.44950595857,\n",
       " 'velocity': 27548.592242686,\n",
       " 'visibility': 'daylight',\n",
       " 'footprint': 4555.2292187022,\n",
       " 'timestamp': 1666255376,\n",
       " 'daynum': 2459872.8631481,\n",
       " 'solar_lat': -10.384178195896,\n",
       " 'solar_lon': 45.474228497,\n",
       " 'units': 'kilometers'}"
      ]
     },
     "execution_count": 123,
     "metadata": {},
     "output_type": "execute_result"
    }
   ],
   "source": [
    "a_json = requests.get(url_2).json()\n",
    "a_json"
   ]
  },
  {
   "cell_type": "code",
   "execution_count": 124,
   "id": "fa9bb780",
   "metadata": {},
   "outputs": [
    {
     "data": {
      "text/html": [
       "<div>\n",
       "<style scoped>\n",
       "    .dataframe tbody tr th:only-of-type {\n",
       "        vertical-align: middle;\n",
       "    }\n",
       "\n",
       "    .dataframe tbody tr th {\n",
       "        vertical-align: top;\n",
       "    }\n",
       "\n",
       "    .dataframe thead th {\n",
       "        text-align: right;\n",
       "    }\n",
       "</style>\n",
       "<table border=\"1\" class=\"dataframe\">\n",
       "  <thead>\n",
       "    <tr style=\"text-align: right;\">\n",
       "      <th></th>\n",
       "      <th>name</th>\n",
       "      <th>id</th>\n",
       "      <th>latitude</th>\n",
       "      <th>longitude</th>\n",
       "      <th>altitude</th>\n",
       "      <th>velocity</th>\n",
       "      <th>visibility</th>\n",
       "      <th>footprint</th>\n",
       "      <th>timestamp</th>\n",
       "      <th>daynum</th>\n",
       "      <th>solar_lat</th>\n",
       "      <th>solar_lon</th>\n",
       "      <th>units</th>\n",
       "    </tr>\n",
       "  </thead>\n",
       "  <tbody>\n",
       "    <tr>\n",
       "      <th>0</th>\n",
       "      <td>iss</td>\n",
       "      <td>25544</td>\n",
       "      <td>-30.04939</td>\n",
       "      <td>123.986332</td>\n",
       "      <td>429.449506</td>\n",
       "      <td>27548.592243</td>\n",
       "      <td>daylight</td>\n",
       "      <td>4555.229219</td>\n",
       "      <td>1666255376</td>\n",
       "      <td>2.459873e+06</td>\n",
       "      <td>-10.384178</td>\n",
       "      <td>45.474228</td>\n",
       "      <td>kilometers</td>\n",
       "    </tr>\n",
       "  </tbody>\n",
       "</table>\n",
       "</div>"
      ],
      "text/plain": [
       "  name     id  latitude   longitude    altitude      velocity visibility  \\\n",
       "0  iss  25544 -30.04939  123.986332  429.449506  27548.592243   daylight   \n",
       "\n",
       "     footprint   timestamp        daynum  solar_lat  solar_lon       units  \n",
       "0  4555.229219  1666255376  2.459873e+06 -10.384178  45.474228  kilometers  "
      ]
     },
     "execution_count": 124,
     "metadata": {},
     "output_type": "execute_result"
    }
   ],
   "source": [
    "json_normalize(a_json)"
   ]
  },
  {
   "cell_type": "code",
   "execution_count": 125,
   "id": "b309a08f",
   "metadata": {},
   "outputs": [],
   "source": [
    "import time"
   ]
  },
  {
   "cell_type": "code",
   "execution_count": 127,
   "id": "10e65378",
   "metadata": {},
   "outputs": [
    {
     "name": "stdout",
     "output_type": "stream",
     "text": [
      "0\n",
      "1\n",
      "2\n",
      "3\n",
      "4\n",
      "5\n",
      "6\n",
      "7\n",
      "8\n",
      "9\n"
     ]
    },
    {
     "data": {
      "text/html": [
       "<div>\n",
       "<style scoped>\n",
       "    .dataframe tbody tr th:only-of-type {\n",
       "        vertical-align: middle;\n",
       "    }\n",
       "\n",
       "    .dataframe tbody tr th {\n",
       "        vertical-align: top;\n",
       "    }\n",
       "\n",
       "    .dataframe thead th {\n",
       "        text-align: right;\n",
       "    }\n",
       "</style>\n",
       "<table border=\"1\" class=\"dataframe\">\n",
       "  <thead>\n",
       "    <tr style=\"text-align: right;\">\n",
       "      <th></th>\n",
       "      <th>name</th>\n",
       "      <th>id</th>\n",
       "      <th>latitude</th>\n",
       "      <th>longitude</th>\n",
       "      <th>altitude</th>\n",
       "      <th>velocity</th>\n",
       "      <th>visibility</th>\n",
       "      <th>footprint</th>\n",
       "      <th>timestamp</th>\n",
       "      <th>daynum</th>\n",
       "      <th>solar_lat</th>\n",
       "      <th>solar_lon</th>\n",
       "      <th>units</th>\n",
       "    </tr>\n",
       "  </thead>\n",
       "  <tbody>\n",
       "    <tr>\n",
       "      <th>0</th>\n",
       "      <td>iss</td>\n",
       "      <td>25544</td>\n",
       "      <td>-38.754282</td>\n",
       "      <td>60.758023</td>\n",
       "      <td>427.886483</td>\n",
       "      <td>27561.566360</td>\n",
       "      <td>eclipsed</td>\n",
       "      <td>4547.370674</td>\n",
       "      <td>1666212161</td>\n",
       "      <td>2.459872e+06</td>\n",
       "      <td>-10.204673</td>\n",
       "      <td>225.558675</td>\n",
       "      <td>kilometers</td>\n",
       "    </tr>\n",
       "    <tr>\n",
       "      <th>1</th>\n",
       "      <td>iss</td>\n",
       "      <td>25544</td>\n",
       "      <td>-38.675631</td>\n",
       "      <td>60.880592</td>\n",
       "      <td>427.848732</td>\n",
       "      <td>27561.656164</td>\n",
       "      <td>eclipsed</td>\n",
       "      <td>4547.180661</td>\n",
       "      <td>1666212163</td>\n",
       "      <td>2.459872e+06</td>\n",
       "      <td>-10.204681</td>\n",
       "      <td>225.550341</td>\n",
       "      <td>kilometers</td>\n",
       "    </tr>\n",
       "    <tr>\n",
       "      <th>2</th>\n",
       "      <td>iss</td>\n",
       "      <td>25544</td>\n",
       "      <td>-38.596832</td>\n",
       "      <td>61.002877</td>\n",
       "      <td>427.810939</td>\n",
       "      <td>27561.746056</td>\n",
       "      <td>eclipsed</td>\n",
       "      <td>4546.990431</td>\n",
       "      <td>1666212165</td>\n",
       "      <td>2.459872e+06</td>\n",
       "      <td>-10.204690</td>\n",
       "      <td>225.542006</td>\n",
       "      <td>kilometers</td>\n",
       "    </tr>\n",
       "    <tr>\n",
       "      <th>3</th>\n",
       "      <td>iss</td>\n",
       "      <td>25544</td>\n",
       "      <td>-38.517885</td>\n",
       "      <td>61.124880</td>\n",
       "      <td>427.773105</td>\n",
       "      <td>27561.836036</td>\n",
       "      <td>eclipsed</td>\n",
       "      <td>4546.799984</td>\n",
       "      <td>1666212167</td>\n",
       "      <td>2.459872e+06</td>\n",
       "      <td>-10.204698</td>\n",
       "      <td>225.533672</td>\n",
       "      <td>kilometers</td>\n",
       "    </tr>\n",
       "    <tr>\n",
       "      <th>4</th>\n",
       "      <td>iss</td>\n",
       "      <td>25544</td>\n",
       "      <td>-38.478357</td>\n",
       "      <td>61.185774</td>\n",
       "      <td>427.754173</td>\n",
       "      <td>27561.881057</td>\n",
       "      <td>eclipsed</td>\n",
       "      <td>4546.704683</td>\n",
       "      <td>1666212168</td>\n",
       "      <td>2.459872e+06</td>\n",
       "      <td>-10.204702</td>\n",
       "      <td>225.529505</td>\n",
       "      <td>kilometers</td>\n",
       "    </tr>\n",
       "    <tr>\n",
       "      <th>5</th>\n",
       "      <td>iss</td>\n",
       "      <td>25544</td>\n",
       "      <td>-38.399193</td>\n",
       "      <td>61.307350</td>\n",
       "      <td>427.716280</td>\n",
       "      <td>27561.971164</td>\n",
       "      <td>eclipsed</td>\n",
       "      <td>4546.513925</td>\n",
       "      <td>1666212170</td>\n",
       "      <td>2.459872e+06</td>\n",
       "      <td>-10.204711</td>\n",
       "      <td>225.521170</td>\n",
       "      <td>kilometers</td>\n",
       "    </tr>\n",
       "    <tr>\n",
       "      <th>6</th>\n",
       "      <td>iss</td>\n",
       "      <td>25544</td>\n",
       "      <td>-38.319883</td>\n",
       "      <td>61.428644</td>\n",
       "      <td>427.678348</td>\n",
       "      <td>27562.061354</td>\n",
       "      <td>eclipsed</td>\n",
       "      <td>4546.322960</td>\n",
       "      <td>1666212172</td>\n",
       "      <td>2.459872e+06</td>\n",
       "      <td>-10.204719</td>\n",
       "      <td>225.512836</td>\n",
       "      <td>kilometers</td>\n",
       "    </tr>\n",
       "    <tr>\n",
       "      <th>7</th>\n",
       "      <td>iss</td>\n",
       "      <td>25544</td>\n",
       "      <td>-38.240427</td>\n",
       "      <td>61.549659</td>\n",
       "      <td>427.640377</td>\n",
       "      <td>27562.151630</td>\n",
       "      <td>eclipsed</td>\n",
       "      <td>4546.131787</td>\n",
       "      <td>1666212174</td>\n",
       "      <td>2.459872e+06</td>\n",
       "      <td>-10.204727</td>\n",
       "      <td>225.504502</td>\n",
       "      <td>kilometers</td>\n",
       "    </tr>\n",
       "    <tr>\n",
       "      <th>8</th>\n",
       "      <td>iss</td>\n",
       "      <td>25544</td>\n",
       "      <td>-38.160830</td>\n",
       "      <td>61.670392</td>\n",
       "      <td>427.602368</td>\n",
       "      <td>27562.241986</td>\n",
       "      <td>eclipsed</td>\n",
       "      <td>4545.940418</td>\n",
       "      <td>1666212176</td>\n",
       "      <td>2.459872e+06</td>\n",
       "      <td>-10.204736</td>\n",
       "      <td>225.496167</td>\n",
       "      <td>kilometers</td>\n",
       "    </tr>\n",
       "    <tr>\n",
       "      <th>9</th>\n",
       "      <td>iss</td>\n",
       "      <td>25544</td>\n",
       "      <td>-38.120977</td>\n",
       "      <td>61.730653</td>\n",
       "      <td>427.583350</td>\n",
       "      <td>27562.287195</td>\n",
       "      <td>eclipsed</td>\n",
       "      <td>4545.844658</td>\n",
       "      <td>1666212177</td>\n",
       "      <td>2.459872e+06</td>\n",
       "      <td>-10.204740</td>\n",
       "      <td>225.492000</td>\n",
       "      <td>kilometers</td>\n",
       "    </tr>\n",
       "  </tbody>\n",
       "</table>\n",
       "</div>"
      ],
      "text/plain": [
       "  name     id   latitude  longitude    altitude      velocity visibility  \\\n",
       "0  iss  25544 -38.754282  60.758023  427.886483  27561.566360   eclipsed   \n",
       "1  iss  25544 -38.675631  60.880592  427.848732  27561.656164   eclipsed   \n",
       "2  iss  25544 -38.596832  61.002877  427.810939  27561.746056   eclipsed   \n",
       "3  iss  25544 -38.517885  61.124880  427.773105  27561.836036   eclipsed   \n",
       "4  iss  25544 -38.478357  61.185774  427.754173  27561.881057   eclipsed   \n",
       "5  iss  25544 -38.399193  61.307350  427.716280  27561.971164   eclipsed   \n",
       "6  iss  25544 -38.319883  61.428644  427.678348  27562.061354   eclipsed   \n",
       "7  iss  25544 -38.240427  61.549659  427.640377  27562.151630   eclipsed   \n",
       "8  iss  25544 -38.160830  61.670392  427.602368  27562.241986   eclipsed   \n",
       "9  iss  25544 -38.120977  61.730653  427.583350  27562.287195   eclipsed   \n",
       "\n",
       "     footprint   timestamp        daynum  solar_lat   solar_lon       units  \n",
       "0  4547.370674  1666212161  2.459872e+06 -10.204673  225.558675  kilometers  \n",
       "1  4547.180661  1666212163  2.459872e+06 -10.204681  225.550341  kilometers  \n",
       "2  4546.990431  1666212165  2.459872e+06 -10.204690  225.542006  kilometers  \n",
       "3  4546.799984  1666212167  2.459872e+06 -10.204698  225.533672  kilometers  \n",
       "4  4546.704683  1666212168  2.459872e+06 -10.204702  225.529505  kilometers  \n",
       "5  4546.513925  1666212170  2.459872e+06 -10.204711  225.521170  kilometers  \n",
       "6  4546.322960  1666212172  2.459872e+06 -10.204719  225.512836  kilometers  \n",
       "7  4546.131787  1666212174  2.459872e+06 -10.204727  225.504502  kilometers  \n",
       "8  4545.940418  1666212176  2.459872e+06 -10.204736  225.496167  kilometers  \n",
       "9  4545.844658  1666212177  2.459872e+06 -10.204740  225.492000  kilometers  "
      ]
     },
     "execution_count": 127,
     "metadata": {},
     "output_type": "execute_result"
    }
   ],
   "source": [
    "position = []\n",
    "\n",
    "for i in range(10):\n",
    "    time.sleep(2)\n",
    "    print(i)\n",
    "    res = requests.get(url_2).json()\n",
    "    position.append(res)\n",
    "json_normalize(positions)"
   ]
  },
  {
   "cell_type": "markdown",
   "id": "967581a1",
   "metadata": {
    "lang": "en"
   },
   "source": [
    "### Parameters"
   ]
  },
  {
   "cell_type": "markdown",
   "id": "bea0378c",
   "metadata": {
    "lang": "en"
   },
   "source": [
    "Remember... The API Documentation\n",
    "https://wheretheiss.at/w/developer"
   ]
  },
  {
   "cell_type": "markdown",
   "id": "round-miracle",
   "metadata": {},
   "source": [
    "![captura](../images/parameters.png)"
   ]
  },
  {
   "cell_type": "markdown",
   "id": "bf1e3d89",
   "metadata": {
    "lang": "en"
   },
   "source": [
    "Sometimes we want to pass some parameters to an API endpoint.\n",
    "Similar to python functions receiving parameters for different behavior"
   ]
  },
  {
   "cell_type": "markdown",
   "id": "34017582",
   "metadata": {
    "lang": "en"
   },
   "source": [
    "Parameters are passed with `?param1=value1&param2=value2...` at the end of the URL"
   ]
  },
  {
   "cell_type": "code",
   "execution_count": 129,
   "id": "vital-grace",
   "metadata": {},
   "outputs": [],
   "source": [
    "url_3 = f\"https://api.wheretheiss.at/v1/satellites/{id_satellite}?units=miles\""
   ]
  },
  {
   "cell_type": "markdown",
   "id": "152dc1f6",
   "metadata": {
    "lang": "en"
   },
   "source": [
    "The `requests` library lets pass the parameters as a dictionary"
   ]
  },
  {
   "cell_type": "code",
   "execution_count": 130,
   "id": "allied-uncertainty",
   "metadata": {},
   "outputs": [
    {
     "data": {
      "text/plain": [
       "{'name': 'iss',\n",
       " 'id': 25544,\n",
       " 'latitude': -50.254731450551,\n",
       " 'longitude': 165.52574097292,\n",
       " 'altitude': 435.51508914715,\n",
       " 'velocity': 27540.078569318,\n",
       " 'visibility': 'daylight',\n",
       " 'footprint': 4585.5697029968,\n",
       " 'timestamp': 1666255974,\n",
       " 'daynum': 2459872.8700694,\n",
       " 'solar_lat': -10.386657710357,\n",
       " 'solar_lon': 42.982262819915,\n",
       " 'units': 'kilometers'}"
      ]
     },
     "execution_count": 130,
     "metadata": {},
     "output_type": "execute_result"
    }
   ],
   "source": [
    "res_km = requests.get(url_2).json()\n",
    "res_km"
   ]
  },
  {
   "cell_type": "code",
   "execution_count": 131,
   "id": "9abc0a27",
   "metadata": {
    "scrolled": true
   },
   "outputs": [
    {
     "data": {
      "text/plain": [
       "{'name': 'iss',\n",
       " 'id': 25544,\n",
       " 'latitude': -50.303298685691,\n",
       " 'longitude': 165.80494645141,\n",
       " 'altitude': 270.62094729054,\n",
       " 'velocity': 17112.612378033,\n",
       " 'visibility': 'daylight',\n",
       " 'footprint': 2849.3624540553,\n",
       " 'timestamp': 1666255977,\n",
       " 'daynum': 2459872.8701042,\n",
       " 'solar_lat': -10.386670149018,\n",
       " 'solar_lon': 42.969761388317,\n",
       " 'units': 'miles'}"
      ]
     },
     "execution_count": 131,
     "metadata": {},
     "output_type": "execute_result"
    }
   ],
   "source": [
    "res_miles = requests.get(url_3).json()\n",
    "res_miles"
   ]
  },
  {
   "cell_type": "code",
   "execution_count": 138,
   "id": "ac1770ab",
   "metadata": {},
   "outputs": [],
   "source": [
    "# /{}?option=something"
   ]
  },
  {
   "cell_type": "code",
   "execution_count": 135,
   "id": "b0e0ca32",
   "metadata": {},
   "outputs": [],
   "source": [
    "parameter = {\"units\":\"miles\"}"
   ]
  },
  {
   "cell_type": "code",
   "execution_count": 136,
   "id": "56ecc922",
   "metadata": {},
   "outputs": [
    {
     "data": {
      "text/plain": [
       "'https://api.wheretheiss.at/v1/satellites/25544'"
      ]
     },
     "execution_count": 136,
     "metadata": {},
     "output_type": "execute_result"
    }
   ],
   "source": [
    "url_2"
   ]
  },
  {
   "cell_type": "code",
   "execution_count": 137,
   "id": "688cee69",
   "metadata": {},
   "outputs": [
    {
     "data": {
      "text/plain": [
       "{'name': 'iss',\n",
       " 'id': 25544,\n",
       " 'latitude': -51.740531477484,\n",
       " 'longitude': -179.95096228644,\n",
       " 'altitude': 270.60519466008,\n",
       " 'velocity': 17113.395921347,\n",
       " 'visibility': 'daylight',\n",
       " 'footprint': 2849.2839770416,\n",
       " 'timestamp': 1666256124,\n",
       " 'daynum': 2459872.8718056,\n",
       " 'solar_lat': -10.387279642943,\n",
       " 'solar_lon': 42.357187890776,\n",
       " 'units': 'miles'}"
      ]
     },
     "execution_count": 137,
     "metadata": {},
     "output_type": "execute_result"
    }
   ],
   "source": [
    "res = requests.get(url_2, params = parameter).json()\n",
    "res"
   ]
  },
  {
   "cell_type": "markdown",
   "id": "8aa63185",
   "metadata": {},
   "source": [
    "# RECAP\n",
    "\n",
    "- Requests\n",
    "    - You asking to get info\n",
    "    - Website\n",
    "        - Browser\n",
    "        - Python: requests\n",
    "        - Response: HTML\n",
    "    - API\n",
    "        - Python\n",
    "        - JSON: JavaScript Object Notation -> dictionaries\n",
    "        \n",
    "    \n",
    "- API\n",
    "    - Someone has to build them\n",
    "    - The exist for some websites, but it's upo to the developer\n",
    "       - or the service\n",
    "    - You need play by their rules: read the documentation\n",
    "    \n",
    "- \"Plain\" requests & tuned with parameters\n",
    "   - Building them into the link\n",
    "   - Argument \"params = something_you_create\""
   ]
  },
  {
   "cell_type": "markdown",
   "id": "68d80f0b",
   "metadata": {
    "lang": "en"
   },
   "source": [
    "## It's now your turn"
   ]
  },
  {
   "cell_type": "markdown",
   "id": "9f46ac9e",
   "metadata": {
    "lang": "en"
   },
   "source": [
    "Check out this API... 👆or any other, [YOU CAN LOOK HERE](https://github.com/public-apis/public-apis) to do the exercise.\n",
    "Try to call an API, with or without parameters and... get some information!!"
   ]
  },
  {
   "cell_type": "code",
   "execution_count": null,
   "id": "308a3e96",
   "metadata": {},
   "outputs": [],
   "source": [
    "# 0. import requests\n",
    "# 1. url\n",
    "# 2. res = requests.get(url)\n",
    "# 3. res.json()\n",
    "# 4. something_else[\"\"]"
   ]
  },
  {
   "cell_type": "code",
   "execution_count": null,
   "id": "8073d9f2",
   "metadata": {},
   "outputs": [],
   "source": [
    "# \"https://nekos.best/api/v2\" -> jsons through API\n",
    "# \"https://docs.nekos.best/api/endpoints.html\" -> html"
   ]
  },
  {
   "cell_type": "code",
   "execution_count": 144,
   "id": "b5b0be34",
   "metadata": {},
   "outputs": [
    {
     "data": {
      "text/plain": [
       "<Response [200]>"
      ]
     },
     "execution_count": 144,
     "metadata": {},
     "output_type": "execute_result"
    }
   ],
   "source": [
    "res = requests.get(\"https://nekos.best/api/v2/neko\")\n",
    "res"
   ]
  },
  {
   "cell_type": "code",
   "execution_count": 149,
   "id": "9aa15f71",
   "metadata": {},
   "outputs": [
    {
     "data": {
      "text/plain": [
       "b'{\"results\":[{\"artist_href\":\"https://www.pixiv.net/en/users/2257693\",\"artist_name\":\"\\xe3\\x81\\x93\\xe3\\x82\\x82\\xe3\\x82\\x82\",\"source_url\":\"https://www.pixiv.net/en/artworks/93139156\",\"url\":\"https://nekos.best/api/v2/neko/0483.png\"}]}'"
      ]
     },
     "execution_count": 149,
     "metadata": {},
     "output_type": "execute_result"
    }
   ],
   "source": [
    "res.content"
   ]
  },
  {
   "cell_type": "code",
   "execution_count": 155,
   "id": "8b138a98",
   "metadata": {},
   "outputs": [
    {
     "data": {
      "text/plain": [
       "{'code': 'EUR',\n",
       " 'symbol': '&euro;',\n",
       " 'rate': '18,673.7046',\n",
       " 'description': 'Euro',\n",
       " 'rate_float': 18673.7046}"
      ]
     },
     "execution_count": 155,
     "metadata": {},
     "output_type": "execute_result"
    }
   ],
   "source": [
    "# Rapha\n",
    "\n",
    "crypto = \"https://api.coindesk.com/v1/bpi/currentprice.json\"\n",
    "res = requests.get(crypto)\n",
    "res.json()[\"bpi\"][\"EUR\"]"
   ]
  },
  {
   "cell_type": "code",
   "execution_count": 18,
   "id": "f227b61a",
   "metadata": {},
   "outputs": [
    {
     "data": {
      "text/plain": [
       "{'no_of_comments': 131,\n",
       " 'sentiment': 'Bullish',\n",
       " 'sentiment_score': 0.13,\n",
       " 'ticker': 'GME'}"
      ]
     },
     "execution_count": 18,
     "metadata": {},
     "output_type": "execute_result"
    }
   ],
   "source": [
    "# Carlos\n",
    "\n",
    "url = 'https://tradestie.com/api/v1/apps/reddit?date=2022-04-03'\n",
    "res = requests.get(url)\n",
    "res.json()[0]"
   ]
  },
  {
   "cell_type": "code",
   "execution_count": 163,
   "id": "55abdd59",
   "metadata": {},
   "outputs": [
    {
     "data": {
      "text/html": [
       "<div>\n",
       "<style scoped>\n",
       "    .dataframe tbody tr th:only-of-type {\n",
       "        vertical-align: middle;\n",
       "    }\n",
       "\n",
       "    .dataframe tbody tr th {\n",
       "        vertical-align: top;\n",
       "    }\n",
       "\n",
       "    .dataframe thead th {\n",
       "        text-align: right;\n",
       "    }\n",
       "</style>\n",
       "<table border=\"1\" class=\"dataframe\">\n",
       "  <thead>\n",
       "    <tr style=\"text-align: right;\">\n",
       "      <th></th>\n",
       "      <th>rms</th>\n",
       "      <th>epoch</th>\n",
       "      <th>readable_des</th>\n",
       "      <th>H</th>\n",
       "      <th>num_obs</th>\n",
       "      <th>ref</th>\n",
       "      <th>G</th>\n",
       "      <th>last_obs</th>\n",
       "      <th>comp</th>\n",
       "      <th>M</th>\n",
       "      <th>...</th>\n",
       "      <th>a</th>\n",
       "      <th>om</th>\n",
       "      <th>pert_p</th>\n",
       "      <th>d</th>\n",
       "      <th>i</th>\n",
       "      <th>des</th>\n",
       "      <th>flags</th>\n",
       "      <th>num_opp</th>\n",
       "      <th>w</th>\n",
       "      <th>pert_c</th>\n",
       "    </tr>\n",
       "  </thead>\n",
       "  <tbody>\n",
       "    <tr>\n",
       "      <th>0</th>\n",
       "      <td>0.39</td>\n",
       "      <td>K194R</td>\n",
       "      <td>(626) Notburga</td>\n",
       "      <td>9.0</td>\n",
       "      <td>1687</td>\n",
       "      <td>MPO452166</td>\n",
       "      <td>0.15</td>\n",
       "      <td>20180520</td>\n",
       "      <td>MPCLINUX</td>\n",
       "      <td>156.00654</td>\n",
       "      <td>...</td>\n",
       "      <td>2.572985</td>\n",
       "      <td>341.63871</td>\n",
       "      <td>38h</td>\n",
       "      <td>0.238808</td>\n",
       "      <td>25.37154</td>\n",
       "      <td>00626</td>\n",
       "      <td>0000</td>\n",
       "      <td>43</td>\n",
       "      <td>43.55622</td>\n",
       "      <td>M-v</td>\n",
       "    </tr>\n",
       "  </tbody>\n",
       "</table>\n",
       "<p>1 rows × 22 columns</p>\n",
       "</div>"
      ],
      "text/plain": [
       "    rms  epoch    readable_des    H  num_obs        ref     G  last_obs  \\\n",
       "0  0.39  K194R  (626) Notburga  9.0     1687  MPO452166  0.15  20180520   \n",
       "\n",
       "         comp          M  ...         a         om  pert_p         d  \\\n",
       "0  MPCLINUX    156.00654  ...  2.572985  341.63871     38h  0.238808   \n",
       "\n",
       "          i    des  flags num_opp         w  pert_c  \n",
       "0  25.37154  00626   0000      43  43.55622     M-v  \n",
       "\n",
       "[1 rows x 22 columns]"
      ]
     },
     "execution_count": 163,
     "metadata": {},
     "output_type": "execute_result"
    }
   ],
   "source": [
    "#Carles\n",
    "notburga = requests.get('http://asterank.com/api/mpc?query={\"readable_des\":\"(626) Notburga\"}')\n",
    "json_normalize(notburga.json())"
   ]
  },
  {
   "cell_type": "code",
   "execution_count": 162,
   "id": "69f9e9e1",
   "metadata": {},
   "outputs": [],
   "source": [
    "# Sergi\n",
    "# https://www.astrobin.com/mggfve/\n",
    "url = 'https://cataas.com/cat/says/\"Read the docs\"'\n",
    "re_cat = requests.get(url)\n",
    "img = re_cat.content\n",
    "\n",
    "from PIL import Image\n",
    "from io import BytesIO\n",
    "im = Image.open(BytesIO(img))\n",
    "im.show()"
   ]
  },
  {
   "attachments": {
    "Screenshot%202022-10-20%20at%2014.06.06.png": {
     "image/png": "[encoded data removed]"
    }
   },
   "cell_type": "markdown",
   "id": "ca6b727d",
   "metadata": {},
   "source": [
    "![Screenshot%202022-10-20%20at%2014.06.06.png](attachment:Screenshot%202022-10-20%20at%2014.06.06.png)"
   ]
  },
  {
   "cell_type": "code",
   "execution_count": 170,
   "id": "c1186bc9",
   "metadata": {},
   "outputs": [],
   "source": [
    "website = \"https://www.astrobin.com/mggfve/\""
   ]
  },
  {
   "cell_type": "code",
   "execution_count": 171,
   "id": "400940de",
   "metadata": {},
   "outputs": [
    {
     "data": {
      "text/plain": [
       "{'url': 'https://www.astrobin.com/mggfve/',\n",
       " 'green': True,\n",
       " 'bytes': 14023251,\n",
       " 'cleanerThan': 0.06,\n",
       " 'statistics': {'adjustedBytes': 10587554.505,\n",
       "  'energy': 0.00798694710158743,\n",
       "  'co2': {'grid': {'grams': 3.530230618901644, 'litres': 1.963514270233094},\n",
       "   'renewable': {'grams': 3.0605981293283038, 'litres': 1.7023046795324022}}},\n",
       " 'timestamp': 1666261360}"
      ]
     },
     "execution_count": 171,
     "metadata": {},
     "output_type": "execute_result"
    }
   ],
   "source": [
    "# Nerea\n",
    "\n",
    "res = requests.get(f\"https://api.websitecarbon.com/site?url={website}\").json()\n",
    "res"
   ]
  },
  {
   "cell_type": "code",
   "execution_count": 21,
   "id": "2d7f008b",
   "metadata": {},
   "outputs": [
    {
     "data": {
      "text/html": [
       "<div>\n",
       "<style scoped>\n",
       "    .dataframe tbody tr th:only-of-type {\n",
       "        vertical-align: middle;\n",
       "    }\n",
       "\n",
       "    .dataframe tbody tr th {\n",
       "        vertical-align: top;\n",
       "    }\n",
       "\n",
       "    .dataframe thead th {\n",
       "        text-align: right;\n",
       "    }\n",
       "</style>\n",
       "<table border=\"1\" class=\"dataframe\">\n",
       "  <thead>\n",
       "    <tr style=\"text-align: right;\">\n",
       "      <th></th>\n",
       "      <th>anime_name</th>\n",
       "      <th>anime_img</th>\n",
       "    </tr>\n",
       "    <tr>\n",
       "      <th>anime_id</th>\n",
       "      <th></th>\n",
       "      <th></th>\n",
       "    </tr>\n",
       "  </thead>\n",
       "  <tbody>\n",
       "    <tr>\n",
       "      <th>1</th>\n",
       "      <td>bleach</td>\n",
       "      <td>https://m.media-amazon.com/images/M/MV5BZjE0Yj...</td>\n",
       "    </tr>\n",
       "    <tr>\n",
       "      <th>2</th>\n",
       "      <td>black_clover</td>\n",
       "      <td>https://m.media-amazon.com/images/M/MV5BNTAzYT...</td>\n",
       "    </tr>\n",
       "    <tr>\n",
       "      <th>3</th>\n",
       "      <td>dragon_ball</td>\n",
       "      <td>https://m.media-amazon.com/images/M/MV5BMGMyOT...</td>\n",
       "    </tr>\n",
       "    <tr>\n",
       "      <th>4</th>\n",
       "      <td>jujutsu_kaisen</td>\n",
       "      <td>https://m.media-amazon.com/images/M/MV5BNzQyYz...</td>\n",
       "    </tr>\n",
       "    <tr>\n",
       "      <th>5</th>\n",
       "      <td>fma_brotherhood</td>\n",
       "      <td>https://m.media-amazon.com/images/M/MV5BZmEzN2...</td>\n",
       "    </tr>\n",
       "  </tbody>\n",
       "</table>\n",
       "</div>"
      ],
      "text/plain": [
       "               anime_name                                          anime_img\n",
       "anime_id                                                                    \n",
       "1                  bleach  https://m.media-amazon.com/images/M/MV5BZjE0Yj...\n",
       "2            black_clover  https://m.media-amazon.com/images/M/MV5BNTAzYT...\n",
       "3             dragon_ball  https://m.media-amazon.com/images/M/MV5BMGMyOT...\n",
       "4          jujutsu_kaisen  https://m.media-amazon.com/images/M/MV5BNzQyYz...\n",
       "5         fma_brotherhood  https://m.media-amazon.com/images/M/MV5BZmEzN2..."
      ]
     },
     "execution_count": 21,
     "metadata": {},
     "output_type": "execute_result"
    }
   ],
   "source": [
    "# Cason\n",
    "\n",
    "url_2 = f\"https://anime-facts-rest-api.herokuapp.com/api/v1/\"\n",
    "res_2 = requests.get(url_2).json()\n",
    "\n",
    "# Into a DF\n",
    "df1 = pd.DataFrame.from_dict(res_2[\"data\"])\n",
    "df1.set_index(\"anime_id\", inplace=True)\n",
    "df1.head()"
   ]
  },
  {
   "cell_type": "markdown",
   "id": "16436de1",
   "metadata": {},
   "source": [
    "## STEPS TO GET REPONSES\n",
    "\n",
    "1. Look for an API if it exists\n",
    "2. Read the docs that that person created\n",
    "3. I get the URL for the API: different from website url, \"api.something\"\n",
    "4. I can issue requests through Python to the API-url\n",
    "\n",
    "\n",
    "## STEPS TO MANIPULATE THE RESPONSES\n",
    "\n",
    "1. If request object -> pass res.json() _probably_\n",
    "2. I have a dictionary -> Do I want to turn it into a df?\n",
    "3. You MIGHT want to do `json_normalize(res.json())`"
   ]
  },
  {
   "cell_type": "markdown",
   "id": "mexican-links",
   "metadata": {},
   "source": [
    "## Headers"
   ]
  },
  {
   "cell_type": "markdown",
   "id": "fcae38be",
   "metadata": {
    "lang": "en"
   },
   "source": [
    "HTTP headers are an important part of the API request and response, as they represent the metadata associated with the API request and response. Headers carry information for:\n",
    "\n",
    "- Request and response body\n",
    "- Authorization of the request\n",
    "- Cache of the response\n",
    "- Response cookies"
   ]
  },
  {
   "cell_type": "markdown",
   "id": "994492e7",
   "metadata": {
    "lang": "en"
   },
   "source": [
    "## API Keys / tokens / private_keys\n",
    "Some of the APIs we use will require authentication."
   ]
  },
  {
   "cell_type": "markdown",
   "id": "educated-rotation",
   "metadata": {},
   "source": [
    "- https://github.com/settings/tokens\n",
    "- https://docs.github.com/es/rest/guides/getting-started-with-the-rest-api\n",
    "- https://pypi.org/project/python-dotenv/\n",
    "- https://docs.github.com/es/rest/reference/permissions-required-for-github-apps"
   ]
  },
  {
   "cell_type": "code",
   "execution_count": 181,
   "id": "c0b86ada",
   "metadata": {},
   "outputs": [],
   "source": [
    "#gh_token"
   ]
  },
  {
   "cell_type": "code",
   "execution_count": null,
   "id": "6a647b9c",
   "metadata": {},
   "outputs": [],
   "source": [
    "# 1. Create .env\n",
    "# 2. Include .env in our .gitignore\n",
    "# 3. Include environment variables into .env\n",
    "# 4. Import environment variables into notebooks\n",
    "# 5. DO NOT INCLUDE PRINTS OF THE VARIABLES ON YOUR NOTEBOOKS"
   ]
  },
  {
   "cell_type": "code",
   "execution_count": null,
   "id": "c03236d7",
   "metadata": {},
   "outputs": [],
   "source": [
    "# github.com -> link to website\n",
    "# api.github.com -> link to api"
   ]
  },
  {
   "cell_type": "code",
   "execution_count": 182,
   "id": "2cffb8da",
   "metadata": {},
   "outputs": [],
   "source": [
    "user = \"public-apis\"\n",
    "repo = \"public-apis\""
   ]
  },
  {
   "cell_type": "code",
   "execution_count": 183,
   "id": "1bbae166",
   "metadata": {},
   "outputs": [],
   "source": [
    "url_1 = f\"https://api.github.com/repos/{user}/{repo}/forks\""
   ]
  },
  {
   "cell_type": "code",
   "execution_count": 184,
   "id": "6556a5ba",
   "metadata": {},
   "outputs": [
    {
     "data": {
      "text/plain": [
       "'https://api.github.com/repos/public-apis/public-apis/forks'"
      ]
     },
     "execution_count": 184,
     "metadata": {},
     "output_type": "execute_result"
    }
   ],
   "source": [
    "url_1"
   ]
  },
  {
   "cell_type": "code",
   "execution_count": 187,
   "id": "7243ffc7",
   "metadata": {},
   "outputs": [
    {
     "data": {
      "text/plain": [
       "<Response [200]>"
      ]
     },
     "execution_count": 187,
     "metadata": {},
     "output_type": "execute_result"
    }
   ],
   "source": [
    "public_apis = requests.get(url_1)\n",
    "public_apis"
   ]
  },
  {
   "cell_type": "code",
   "execution_count": 22,
   "id": "24e18408",
   "metadata": {},
   "outputs": [],
   "source": [
    "# public_apis.content #toolong"
   ]
  },
  {
   "cell_type": "code",
   "execution_count": 191,
   "id": "db4c6f6b",
   "metadata": {},
   "outputs": [],
   "source": [
    "parameters = {\"Authorization\": f\"token {gh_token}\"}"
   ]
  },
  {
   "cell_type": "code",
   "execution_count": null,
   "id": "5ba0c052",
   "metadata": {},
   "outputs": [],
   "source": [
    "my_responses = requests.get(url_1, params = parameters).json()\n",
    "my_responses"
   ]
  },
  {
   "cell_type": "code",
   "execution_count": 195,
   "id": "1a372c5a",
   "metadata": {},
   "outputs": [
    {
     "data": {
      "text/html": [
       "<div>\n",
       "<style scoped>\n",
       "    .dataframe tbody tr th:only-of-type {\n",
       "        vertical-align: middle;\n",
       "    }\n",
       "\n",
       "    .dataframe tbody tr th {\n",
       "        vertical-align: top;\n",
       "    }\n",
       "\n",
       "    .dataframe thead th {\n",
       "        text-align: right;\n",
       "    }\n",
       "</style>\n",
       "<table border=\"1\" class=\"dataframe\">\n",
       "  <thead>\n",
       "    <tr style=\"text-align: right;\">\n",
       "      <th></th>\n",
       "      <th>id</th>\n",
       "      <th>node_id</th>\n",
       "      <th>name</th>\n",
       "      <th>full_name</th>\n",
       "      <th>private</th>\n",
       "      <th>owner</th>\n",
       "      <th>html_url</th>\n",
       "      <th>description</th>\n",
       "      <th>fork</th>\n",
       "      <th>url</th>\n",
       "      <th>...</th>\n",
       "      <th>license</th>\n",
       "      <th>allow_forking</th>\n",
       "      <th>is_template</th>\n",
       "      <th>web_commit_signoff_required</th>\n",
       "      <th>topics</th>\n",
       "      <th>visibility</th>\n",
       "      <th>forks</th>\n",
       "      <th>open_issues</th>\n",
       "      <th>watchers</th>\n",
       "      <th>default_branch</th>\n",
       "    </tr>\n",
       "  </thead>\n",
       "  <tbody>\n",
       "    <tr>\n",
       "      <th>0</th>\n",
       "      <td>554656933</td>\n",
       "      <td>R_kgDOIQ9kpQ</td>\n",
       "      <td>public-apis-1</td>\n",
       "      <td>imtanvir/public-apis-1</td>\n",
       "      <td>False</td>\n",
       "      <td>{'login': 'imtanvir', 'id': 69302248, 'node_id...</td>\n",
       "      <td>https://github.com/imtanvir/public-apis-1</td>\n",
       "      <td>A collective list of free APIs</td>\n",
       "      <td>True</td>\n",
       "      <td>https://api.github.com/repos/imtanvir/public-a...</td>\n",
       "      <td>...</td>\n",
       "      <td>{'key': 'mit', 'name': 'MIT License', 'spdx_id...</td>\n",
       "      <td>True</td>\n",
       "      <td>False</td>\n",
       "      <td>False</td>\n",
       "      <td>[]</td>\n",
       "      <td>public</td>\n",
       "      <td>0</td>\n",
       "      <td>0</td>\n",
       "      <td>0</td>\n",
       "      <td>master</td>\n",
       "    </tr>\n",
       "    <tr>\n",
       "      <th>1</th>\n",
       "      <td>554601490</td>\n",
       "      <td>R_kgDOIQ6MEg</td>\n",
       "      <td>public-apis</td>\n",
       "      <td>JackMcCray2/public-apis</td>\n",
       "      <td>False</td>\n",
       "      <td>{'login': 'JackMcCray2', 'id': 116235263, 'nod...</td>\n",
       "      <td>https://github.com/JackMcCray2/public-apis</td>\n",
       "      <td>A collective list of free APIs</td>\n",
       "      <td>True</td>\n",
       "      <td>https://api.github.com/repos/JackMcCray2/publi...</td>\n",
       "      <td>...</td>\n",
       "      <td>{'key': 'mit', 'name': 'MIT License', 'spdx_id...</td>\n",
       "      <td>True</td>\n",
       "      <td>False</td>\n",
       "      <td>False</td>\n",
       "      <td>[]</td>\n",
       "      <td>public</td>\n",
       "      <td>0</td>\n",
       "      <td>0</td>\n",
       "      <td>0</td>\n",
       "      <td>master</td>\n",
       "    </tr>\n",
       "    <tr>\n",
       "      <th>2</th>\n",
       "      <td>554561139</td>\n",
       "      <td>R_kgDOIQ3ucw</td>\n",
       "      <td>public-apis</td>\n",
       "      <td>odhiambo123/public-apis</td>\n",
       "      <td>False</td>\n",
       "      <td>{'login': 'odhiambo123', 'id': 8829018, 'node_...</td>\n",
       "      <td>https://github.com/odhiambo123/public-apis</td>\n",
       "      <td>A collective list of free APIs</td>\n",
       "      <td>True</td>\n",
       "      <td>https://api.github.com/repos/odhiambo123/publi...</td>\n",
       "      <td>...</td>\n",
       "      <td>{'key': 'mit', 'name': 'MIT License', 'spdx_id...</td>\n",
       "      <td>True</td>\n",
       "      <td>False</td>\n",
       "      <td>False</td>\n",
       "      <td>[]</td>\n",
       "      <td>public</td>\n",
       "      <td>0</td>\n",
       "      <td>0</td>\n",
       "      <td>0</td>\n",
       "      <td>master</td>\n",
       "    </tr>\n",
       "    <tr>\n",
       "      <th>3</th>\n",
       "      <td>554511297</td>\n",
       "      <td>R_kgDOIQ0rwQ</td>\n",
       "      <td>public-apis</td>\n",
       "      <td>keumbi/public-apis</td>\n",
       "      <td>False</td>\n",
       "      <td>{'login': 'keumbi', 'id': 1317770, 'node_id': ...</td>\n",
       "      <td>https://github.com/keumbi/public-apis</td>\n",
       "      <td>A collective list of free APIs</td>\n",
       "      <td>True</td>\n",
       "      <td>https://api.github.com/repos/keumbi/public-apis</td>\n",
       "      <td>...</td>\n",
       "      <td>{'key': 'mit', 'name': 'MIT License', 'spdx_id...</td>\n",
       "      <td>True</td>\n",
       "      <td>False</td>\n",
       "      <td>False</td>\n",
       "      <td>[]</td>\n",
       "      <td>public</td>\n",
       "      <td>0</td>\n",
       "      <td>0</td>\n",
       "      <td>0</td>\n",
       "      <td>master</td>\n",
       "    </tr>\n",
       "    <tr>\n",
       "      <th>4</th>\n",
       "      <td>554509924</td>\n",
       "      <td>R_kgDOIQ0mZA</td>\n",
       "      <td>public-apis</td>\n",
       "      <td>Tharanigosa/public-apis</td>\n",
       "      <td>False</td>\n",
       "      <td>{'login': 'Tharanigosa', 'id': 116229767, 'nod...</td>\n",
       "      <td>https://github.com/Tharanigosa/public-apis</td>\n",
       "      <td>A collective list of free APIs</td>\n",
       "      <td>True</td>\n",
       "      <td>https://api.github.com/repos/Tharanigosa/publi...</td>\n",
       "      <td>...</td>\n",
       "      <td>{'key': 'mit', 'name': 'MIT License', 'spdx_id...</td>\n",
       "      <td>True</td>\n",
       "      <td>False</td>\n",
       "      <td>False</td>\n",
       "      <td>[]</td>\n",
       "      <td>public</td>\n",
       "      <td>0</td>\n",
       "      <td>0</td>\n",
       "      <td>0</td>\n",
       "      <td>master</td>\n",
       "    </tr>\n",
       "    <tr>\n",
       "      <th>5</th>\n",
       "      <td>554489055</td>\n",
       "      <td>R_kgDOIQzU3w</td>\n",
       "      <td>public-apis</td>\n",
       "      <td>Greyshaws/public-apis</td>\n",
       "      <td>False</td>\n",
       "      <td>{'login': 'Greyshaws', 'id': 95550095, 'node_i...</td>\n",
       "      <td>https://github.com/Greyshaws/public-apis</td>\n",
       "      <td>A collective list of free APIs</td>\n",
       "      <td>True</td>\n",
       "      <td>https://api.github.com/repos/Greyshaws/public-...</td>\n",
       "      <td>...</td>\n",
       "      <td>{'key': 'mit', 'name': 'MIT License', 'spdx_id...</td>\n",
       "      <td>True</td>\n",
       "      <td>False</td>\n",
       "      <td>False</td>\n",
       "      <td>[]</td>\n",
       "      <td>public</td>\n",
       "      <td>0</td>\n",
       "      <td>0</td>\n",
       "      <td>0</td>\n",
       "      <td>master</td>\n",
       "    </tr>\n",
       "    <tr>\n",
       "      <th>6</th>\n",
       "      <td>554348142</td>\n",
       "      <td>R_kgDOIQqubg</td>\n",
       "      <td>public-apis</td>\n",
       "      <td>mittal-parth/public-apis</td>\n",
       "      <td>False</td>\n",
       "      <td>{'login': 'mittal-parth', 'id': 76661350, 'nod...</td>\n",
       "      <td>https://github.com/mittal-parth/public-apis</td>\n",
       "      <td>A collective list of free APIs</td>\n",
       "      <td>True</td>\n",
       "      <td>https://api.github.com/repos/mittal-parth/publ...</td>\n",
       "      <td>...</td>\n",
       "      <td>{'key': 'mit', 'name': 'MIT License', 'spdx_id...</td>\n",
       "      <td>True</td>\n",
       "      <td>False</td>\n",
       "      <td>False</td>\n",
       "      <td>[]</td>\n",
       "      <td>public</td>\n",
       "      <td>0</td>\n",
       "      <td>0</td>\n",
       "      <td>0</td>\n",
       "      <td>master</td>\n",
       "    </tr>\n",
       "    <tr>\n",
       "      <th>7</th>\n",
       "      <td>554324530</td>\n",
       "      <td>R_kgDOIQpSMg</td>\n",
       "      <td>public-apis</td>\n",
       "      <td>HuyNguyen09196/public-apis</td>\n",
       "      <td>False</td>\n",
       "      <td>{'login': 'HuyNguyen09196', 'id': 113064240, '...</td>\n",
       "      <td>https://github.com/HuyNguyen09196/public-apis</td>\n",
       "      <td>A collective list of free APIs</td>\n",
       "      <td>True</td>\n",
       "      <td>https://api.github.com/repos/HuyNguyen09196/pu...</td>\n",
       "      <td>...</td>\n",
       "      <td>{'key': 'mit', 'name': 'MIT License', 'spdx_id...</td>\n",
       "      <td>True</td>\n",
       "      <td>False</td>\n",
       "      <td>False</td>\n",
       "      <td>[]</td>\n",
       "      <td>public</td>\n",
       "      <td>0</td>\n",
       "      <td>0</td>\n",
       "      <td>0</td>\n",
       "      <td>master</td>\n",
       "    </tr>\n",
       "    <tr>\n",
       "      <th>8</th>\n",
       "      <td>554301024</td>\n",
       "      <td>R_kgDOIQn2YA</td>\n",
       "      <td>public-apis</td>\n",
       "      <td>prasadt865/public-apis</td>\n",
       "      <td>False</td>\n",
       "      <td>{'login': 'prasadt865', 'id': 8504955, 'node_i...</td>\n",
       "      <td>https://github.com/prasadt865/public-apis</td>\n",
       "      <td>A collective list of free APIs</td>\n",
       "      <td>True</td>\n",
       "      <td>https://api.github.com/repos/prasadt865/public...</td>\n",
       "      <td>...</td>\n",
       "      <td>{'key': 'mit', 'name': 'MIT License', 'spdx_id...</td>\n",
       "      <td>True</td>\n",
       "      <td>False</td>\n",
       "      <td>False</td>\n",
       "      <td>[]</td>\n",
       "      <td>public</td>\n",
       "      <td>0</td>\n",
       "      <td>0</td>\n",
       "      <td>0</td>\n",
       "      <td>master</td>\n",
       "    </tr>\n",
       "    <tr>\n",
       "      <th>9</th>\n",
       "      <td>554255116</td>\n",
       "      <td>R_kgDOIQlDDA</td>\n",
       "      <td>public-apis</td>\n",
       "      <td>Jose-Luis-Me-Le/public-apis</td>\n",
       "      <td>False</td>\n",
       "      <td>{'login': 'Jose-Luis-Me-Le', 'id': 20649763, '...</td>\n",
       "      <td>https://github.com/Jose-Luis-Me-Le/public-apis</td>\n",
       "      <td>A collective list of free APIs</td>\n",
       "      <td>True</td>\n",
       "      <td>https://api.github.com/repos/Jose-Luis-Me-Le/p...</td>\n",
       "      <td>...</td>\n",
       "      <td>{'key': 'mit', 'name': 'MIT License', 'spdx_id...</td>\n",
       "      <td>True</td>\n",
       "      <td>False</td>\n",
       "      <td>False</td>\n",
       "      <td>[]</td>\n",
       "      <td>public</td>\n",
       "      <td>0</td>\n",
       "      <td>0</td>\n",
       "      <td>0</td>\n",
       "      <td>master</td>\n",
       "    </tr>\n",
       "    <tr>\n",
       "      <th>10</th>\n",
       "      <td>554249504</td>\n",
       "      <td>R_kgDOIQktIA</td>\n",
       "      <td>public-apis</td>\n",
       "      <td>LaPartisano/public-apis</td>\n",
       "      <td>False</td>\n",
       "      <td>{'login': 'LaPartisano', 'id': 39332723, 'node...</td>\n",
       "      <td>https://github.com/LaPartisano/public-apis</td>\n",
       "      <td>A collective list of free APIs</td>\n",
       "      <td>True</td>\n",
       "      <td>https://api.github.com/repos/LaPartisano/publi...</td>\n",
       "      <td>...</td>\n",
       "      <td>{'key': 'mit', 'name': 'MIT License', 'spdx_id...</td>\n",
       "      <td>True</td>\n",
       "      <td>False</td>\n",
       "      <td>False</td>\n",
       "      <td>[]</td>\n",
       "      <td>public</td>\n",
       "      <td>0</td>\n",
       "      <td>0</td>\n",
       "      <td>0</td>\n",
       "      <td>master</td>\n",
       "    </tr>\n",
       "    <tr>\n",
       "      <th>11</th>\n",
       "      <td>554105890</td>\n",
       "      <td>R_kgDOIQb8Ig</td>\n",
       "      <td>public-apis</td>\n",
       "      <td>LeiYu-code/public-apis</td>\n",
       "      <td>False</td>\n",
       "      <td>{'login': 'LeiYu-code', 'id': 34673379, 'node_...</td>\n",
       "      <td>https://github.com/LeiYu-code/public-apis</td>\n",
       "      <td>A collective list of free APIs</td>\n",
       "      <td>True</td>\n",
       "      <td>https://api.github.com/repos/LeiYu-code/public...</td>\n",
       "      <td>...</td>\n",
       "      <td>{'key': 'mit', 'name': 'MIT License', 'spdx_id...</td>\n",
       "      <td>True</td>\n",
       "      <td>False</td>\n",
       "      <td>False</td>\n",
       "      <td>[]</td>\n",
       "      <td>public</td>\n",
       "      <td>0</td>\n",
       "      <td>0</td>\n",
       "      <td>0</td>\n",
       "      <td>master</td>\n",
       "    </tr>\n",
       "    <tr>\n",
       "      <th>12</th>\n",
       "      <td>554075886</td>\n",
       "      <td>R_kgDOIQaG7g</td>\n",
       "      <td>public-apis</td>\n",
       "      <td>kongju7/public-apis</td>\n",
       "      <td>False</td>\n",
       "      <td>{'login': 'kongju7', 'id': 48289881, 'node_id'...</td>\n",
       "      <td>https://github.com/kongju7/public-apis</td>\n",
       "      <td>A collective list of free APIs</td>\n",
       "      <td>True</td>\n",
       "      <td>https://api.github.com/repos/kongju7/public-apis</td>\n",
       "      <td>...</td>\n",
       "      <td>{'key': 'mit', 'name': 'MIT License', 'spdx_id...</td>\n",
       "      <td>True</td>\n",
       "      <td>False</td>\n",
       "      <td>False</td>\n",
       "      <td>[]</td>\n",
       "      <td>public</td>\n",
       "      <td>0</td>\n",
       "      <td>0</td>\n",
       "      <td>0</td>\n",
       "      <td>master</td>\n",
       "    </tr>\n",
       "    <tr>\n",
       "      <th>13</th>\n",
       "      <td>554026322</td>\n",
       "      <td>R_kgDOIQXFUg</td>\n",
       "      <td>public-apis</td>\n",
       "      <td>filiklik/public-apis</td>\n",
       "      <td>False</td>\n",
       "      <td>{'login': 'filiklik', 'id': 46173305, 'node_id...</td>\n",
       "      <td>https://github.com/filiklik/public-apis</td>\n",
       "      <td>A collective list of free APIs</td>\n",
       "      <td>True</td>\n",
       "      <td>https://api.github.com/repos/filiklik/public-apis</td>\n",
       "      <td>...</td>\n",
       "      <td>{'key': 'mit', 'name': 'MIT License', 'spdx_id...</td>\n",
       "      <td>True</td>\n",
       "      <td>False</td>\n",
       "      <td>False</td>\n",
       "      <td>[]</td>\n",
       "      <td>public</td>\n",
       "      <td>0</td>\n",
       "      <td>0</td>\n",
       "      <td>0</td>\n",
       "      <td>master</td>\n",
       "    </tr>\n",
       "    <tr>\n",
       "      <th>14</th>\n",
       "      <td>553923096</td>\n",
       "      <td>R_kgDOIQQyGA</td>\n",
       "      <td>public-apis</td>\n",
       "      <td>jeanpierrecarvalho/public-apis</td>\n",
       "      <td>False</td>\n",
       "      <td>{'login': 'jeanpierrecarvalho', 'id': 90358872...</td>\n",
       "      <td>https://github.com/jeanpierrecarvalho/public-apis</td>\n",
       "      <td>A collective list of free APIs</td>\n",
       "      <td>True</td>\n",
       "      <td>https://api.github.com/repos/jeanpierrecarvalh...</td>\n",
       "      <td>...</td>\n",
       "      <td>{'key': 'mit', 'name': 'MIT License', 'spdx_id...</td>\n",
       "      <td>True</td>\n",
       "      <td>False</td>\n",
       "      <td>False</td>\n",
       "      <td>[]</td>\n",
       "      <td>public</td>\n",
       "      <td>0</td>\n",
       "      <td>0</td>\n",
       "      <td>0</td>\n",
       "      <td>master</td>\n",
       "    </tr>\n",
       "    <tr>\n",
       "      <th>15</th>\n",
       "      <td>553911603</td>\n",
       "      <td>R_kgDOIQQFMw</td>\n",
       "      <td>public-apis</td>\n",
       "      <td>yonathan3801911625/public-apis</td>\n",
       "      <td>False</td>\n",
       "      <td>{'login': 'yonathan3801911625', 'id': 88912141...</td>\n",
       "      <td>https://github.com/yonathan3801911625/public-apis</td>\n",
       "      <td>A collective list of free APIs</td>\n",
       "      <td>True</td>\n",
       "      <td>https://api.github.com/repos/yonathan380191162...</td>\n",
       "      <td>...</td>\n",
       "      <td>{'key': 'mit', 'name': 'MIT License', 'spdx_id...</td>\n",
       "      <td>True</td>\n",
       "      <td>False</td>\n",
       "      <td>False</td>\n",
       "      <td>[]</td>\n",
       "      <td>public</td>\n",
       "      <td>0</td>\n",
       "      <td>0</td>\n",
       "      <td>0</td>\n",
       "      <td>master</td>\n",
       "    </tr>\n",
       "    <tr>\n",
       "      <th>16</th>\n",
       "      <td>553879423</td>\n",
       "      <td>R_kgDOIQOHfw</td>\n",
       "      <td>public-apis</td>\n",
       "      <td>kz-98/public-apis</td>\n",
       "      <td>False</td>\n",
       "      <td>{'login': 'kz-98', 'id': 79171242, 'node_id': ...</td>\n",
       "      <td>https://github.com/kz-98/public-apis</td>\n",
       "      <td>A collective list of free APIs</td>\n",
       "      <td>True</td>\n",
       "      <td>https://api.github.com/repos/kz-98/public-apis</td>\n",
       "      <td>...</td>\n",
       "      <td>{'key': 'mit', 'name': 'MIT License', 'spdx_id...</td>\n",
       "      <td>True</td>\n",
       "      <td>False</td>\n",
       "      <td>False</td>\n",
       "      <td>[]</td>\n",
       "      <td>public</td>\n",
       "      <td>0</td>\n",
       "      <td>0</td>\n",
       "      <td>0</td>\n",
       "      <td>master</td>\n",
       "    </tr>\n",
       "    <tr>\n",
       "      <th>17</th>\n",
       "      <td>553772162</td>\n",
       "      <td>R_kgDOIQHkgg</td>\n",
       "      <td>public-apis</td>\n",
       "      <td>Camargovf/public-apis</td>\n",
       "      <td>False</td>\n",
       "      <td>{'login': 'Camargovf', 'id': 59845047, 'node_i...</td>\n",
       "      <td>https://github.com/Camargovf/public-apis</td>\n",
       "      <td>A collective list of free APIs</td>\n",
       "      <td>True</td>\n",
       "      <td>https://api.github.com/repos/Camargovf/public-...</td>\n",
       "      <td>...</td>\n",
       "      <td>{'key': 'mit', 'name': 'MIT License', 'spdx_id...</td>\n",
       "      <td>True</td>\n",
       "      <td>False</td>\n",
       "      <td>False</td>\n",
       "      <td>[]</td>\n",
       "      <td>public</td>\n",
       "      <td>0</td>\n",
       "      <td>0</td>\n",
       "      <td>0</td>\n",
       "      <td>master</td>\n",
       "    </tr>\n",
       "    <tr>\n",
       "      <th>18</th>\n",
       "      <td>553752438</td>\n",
       "      <td>R_kgDOIQGXdg</td>\n",
       "      <td>public-apis</td>\n",
       "      <td>iAaquibjawed/public-apis</td>\n",
       "      <td>False</td>\n",
       "      <td>{'login': 'iAaquibjawed', 'id': 63148940, 'nod...</td>\n",
       "      <td>https://github.com/iAaquibjawed/public-apis</td>\n",
       "      <td>A collective list of free APIs</td>\n",
       "      <td>True</td>\n",
       "      <td>https://api.github.com/repos/iAaquibjawed/publ...</td>\n",
       "      <td>...</td>\n",
       "      <td>{'key': 'mit', 'name': 'MIT License', 'spdx_id...</td>\n",
       "      <td>True</td>\n",
       "      <td>False</td>\n",
       "      <td>False</td>\n",
       "      <td>[]</td>\n",
       "      <td>public</td>\n",
       "      <td>0</td>\n",
       "      <td>0</td>\n",
       "      <td>0</td>\n",
       "      <td>master</td>\n",
       "    </tr>\n",
       "    <tr>\n",
       "      <th>19</th>\n",
       "      <td>553741291</td>\n",
       "      <td>R_kgDOIQFr6w</td>\n",
       "      <td>public-APPI</td>\n",
       "      <td>EttTer/public-APPI</td>\n",
       "      <td>False</td>\n",
       "      <td>{'login': 'EttTer', 'id': 100372581, 'node_id'...</td>\n",
       "      <td>https://github.com/EttTer/public-APPI</td>\n",
       "      <td>A collective list of free APIs</td>\n",
       "      <td>True</td>\n",
       "      <td>https://api.github.com/repos/EttTer/public-APPI</td>\n",
       "      <td>...</td>\n",
       "      <td>{'key': 'mit', 'name': 'MIT License', 'spdx_id...</td>\n",
       "      <td>True</td>\n",
       "      <td>False</td>\n",
       "      <td>False</td>\n",
       "      <td>[]</td>\n",
       "      <td>public</td>\n",
       "      <td>0</td>\n",
       "      <td>0</td>\n",
       "      <td>0</td>\n",
       "      <td>master</td>\n",
       "    </tr>\n",
       "    <tr>\n",
       "      <th>20</th>\n",
       "      <td>553725846</td>\n",
       "      <td>R_kgDOIQEvlg</td>\n",
       "      <td>public-apis</td>\n",
       "      <td>ritushreedas2002/public-apis</td>\n",
       "      <td>False</td>\n",
       "      <td>{'login': 'ritushreedas2002', 'id': 115244469,...</td>\n",
       "      <td>https://github.com/ritushreedas2002/public-apis</td>\n",
       "      <td>A collective list of free APIs</td>\n",
       "      <td>True</td>\n",
       "      <td>https://api.github.com/repos/ritushreedas2002/...</td>\n",
       "      <td>...</td>\n",
       "      <td>{'key': 'mit', 'name': 'MIT License', 'spdx_id...</td>\n",
       "      <td>True</td>\n",
       "      <td>False</td>\n",
       "      <td>False</td>\n",
       "      <td>[]</td>\n",
       "      <td>public</td>\n",
       "      <td>0</td>\n",
       "      <td>0</td>\n",
       "      <td>0</td>\n",
       "      <td>master</td>\n",
       "    </tr>\n",
       "    <tr>\n",
       "      <th>21</th>\n",
       "      <td>553675045</td>\n",
       "      <td>R_kgDOIQBpJQ</td>\n",
       "      <td>public-apis</td>\n",
       "      <td>bobneville/public-apis</td>\n",
       "      <td>False</td>\n",
       "      <td>{'login': 'bobneville', 'id': 5566119, 'node_i...</td>\n",
       "      <td>https://github.com/bobneville/public-apis</td>\n",
       "      <td>A collective list of free APIs</td>\n",
       "      <td>True</td>\n",
       "      <td>https://api.github.com/repos/bobneville/public...</td>\n",
       "      <td>...</td>\n",
       "      <td>{'key': 'mit', 'name': 'MIT License', 'spdx_id...</td>\n",
       "      <td>True</td>\n",
       "      <td>False</td>\n",
       "      <td>False</td>\n",
       "      <td>[]</td>\n",
       "      <td>public</td>\n",
       "      <td>0</td>\n",
       "      <td>0</td>\n",
       "      <td>0</td>\n",
       "      <td>master</td>\n",
       "    </tr>\n",
       "    <tr>\n",
       "      <th>22</th>\n",
       "      <td>553662518</td>\n",
       "      <td>R_kgDOIQA4Ng</td>\n",
       "      <td>public-apis</td>\n",
       "      <td>st-small/public-apis</td>\n",
       "      <td>False</td>\n",
       "      <td>{'login': 'st-small', 'id': 1850189, 'node_id'...</td>\n",
       "      <td>https://github.com/st-small/public-apis</td>\n",
       "      <td>A collective list of free APIs</td>\n",
       "      <td>True</td>\n",
       "      <td>https://api.github.com/repos/st-small/public-apis</td>\n",
       "      <td>...</td>\n",
       "      <td>{'key': 'mit', 'name': 'MIT License', 'spdx_id...</td>\n",
       "      <td>True</td>\n",
       "      <td>False</td>\n",
       "      <td>False</td>\n",
       "      <td>[]</td>\n",
       "      <td>public</td>\n",
       "      <td>0</td>\n",
       "      <td>0</td>\n",
       "      <td>0</td>\n",
       "      <td>master</td>\n",
       "    </tr>\n",
       "    <tr>\n",
       "      <th>23</th>\n",
       "      <td>553607046</td>\n",
       "      <td>R_kgDOIP9fhg</td>\n",
       "      <td>public-apis_public-apis</td>\n",
       "      <td>SecurityLab-CodeAnalysis/public-apis_public-apis</td>\n",
       "      <td>False</td>\n",
       "      <td>{'login': 'SecurityLab-CodeAnalysis', 'id': 11...</td>\n",
       "      <td>https://github.com/SecurityLab-CodeAnalysis/pu...</td>\n",
       "      <td>A collective list of free APIs</td>\n",
       "      <td>True</td>\n",
       "      <td>https://api.github.com/repos/SecurityLab-CodeA...</td>\n",
       "      <td>...</td>\n",
       "      <td>{'key': 'mit', 'name': 'MIT License', 'spdx_id...</td>\n",
       "      <td>True</td>\n",
       "      <td>False</td>\n",
       "      <td>False</td>\n",
       "      <td>[]</td>\n",
       "      <td>public</td>\n",
       "      <td>0</td>\n",
       "      <td>0</td>\n",
       "      <td>0</td>\n",
       "      <td>master</td>\n",
       "    </tr>\n",
       "    <tr>\n",
       "      <th>24</th>\n",
       "      <td>553582219</td>\n",
       "      <td>R_kgDOIP7-iw</td>\n",
       "      <td>public-apis</td>\n",
       "      <td>battlede/public-apis</td>\n",
       "      <td>False</td>\n",
       "      <td>{'login': 'battlede', 'id': 86907955, 'node_id...</td>\n",
       "      <td>https://github.com/battlede/public-apis</td>\n",
       "      <td>A collective list of free APIs</td>\n",
       "      <td>True</td>\n",
       "      <td>https://api.github.com/repos/battlede/public-apis</td>\n",
       "      <td>...</td>\n",
       "      <td>{'key': 'mit', 'name': 'MIT License', 'spdx_id...</td>\n",
       "      <td>True</td>\n",
       "      <td>False</td>\n",
       "      <td>False</td>\n",
       "      <td>[]</td>\n",
       "      <td>public</td>\n",
       "      <td>0</td>\n",
       "      <td>0</td>\n",
       "      <td>0</td>\n",
       "      <td>master</td>\n",
       "    </tr>\n",
       "    <tr>\n",
       "      <th>25</th>\n",
       "      <td>553456177</td>\n",
       "      <td>R_kgDOIP0SMQ</td>\n",
       "      <td>public-apis</td>\n",
       "      <td>alexluque29/public-apis</td>\n",
       "      <td>False</td>\n",
       "      <td>{'login': 'alexluque29', 'id': 105233328, 'nod...</td>\n",
       "      <td>https://github.com/alexluque29/public-apis</td>\n",
       "      <td>A collective list of free APIs</td>\n",
       "      <td>True</td>\n",
       "      <td>https://api.github.com/repos/alexluque29/publi...</td>\n",
       "      <td>...</td>\n",
       "      <td>{'key': 'mit', 'name': 'MIT License', 'spdx_id...</td>\n",
       "      <td>True</td>\n",
       "      <td>False</td>\n",
       "      <td>False</td>\n",
       "      <td>[]</td>\n",
       "      <td>public</td>\n",
       "      <td>0</td>\n",
       "      <td>0</td>\n",
       "      <td>0</td>\n",
       "      <td>master</td>\n",
       "    </tr>\n",
       "    <tr>\n",
       "      <th>26</th>\n",
       "      <td>553444917</td>\n",
       "      <td>R_kgDOIPzmNQ</td>\n",
       "      <td>public-apis</td>\n",
       "      <td>hritesh94/public-apis</td>\n",
       "      <td>False</td>\n",
       "      <td>{'login': 'hritesh94', 'id': 89804314, 'node_i...</td>\n",
       "      <td>https://github.com/hritesh94/public-apis</td>\n",
       "      <td>A collective list of free APIs</td>\n",
       "      <td>True</td>\n",
       "      <td>https://api.github.com/repos/hritesh94/public-...</td>\n",
       "      <td>...</td>\n",
       "      <td>{'key': 'mit', 'name': 'MIT License', 'spdx_id...</td>\n",
       "      <td>True</td>\n",
       "      <td>False</td>\n",
       "      <td>False</td>\n",
       "      <td>[]</td>\n",
       "      <td>public</td>\n",
       "      <td>0</td>\n",
       "      <td>0</td>\n",
       "      <td>0</td>\n",
       "      <td>master</td>\n",
       "    </tr>\n",
       "    <tr>\n",
       "      <th>27</th>\n",
       "      <td>553421457</td>\n",
       "      <td>R_kgDOIPyKkQ</td>\n",
       "      <td>public-apis</td>\n",
       "      <td>dingxiangyang/public-apis</td>\n",
       "      <td>False</td>\n",
       "      <td>{'login': 'dingxiangyang', 'id': 6755215, 'nod...</td>\n",
       "      <td>https://github.com/dingxiangyang/public-apis</td>\n",
       "      <td>A collective list of free APIs</td>\n",
       "      <td>True</td>\n",
       "      <td>https://api.github.com/repos/dingxiangyang/pub...</td>\n",
       "      <td>...</td>\n",
       "      <td>{'key': 'mit', 'name': 'MIT License', 'spdx_id...</td>\n",
       "      <td>True</td>\n",
       "      <td>False</td>\n",
       "      <td>False</td>\n",
       "      <td>[]</td>\n",
       "      <td>public</td>\n",
       "      <td>0</td>\n",
       "      <td>0</td>\n",
       "      <td>0</td>\n",
       "      <td>master</td>\n",
       "    </tr>\n",
       "    <tr>\n",
       "      <th>28</th>\n",
       "      <td>553405238</td>\n",
       "      <td>R_kgDOIPxLNg</td>\n",
       "      <td>public-apis</td>\n",
       "      <td>hymanking/public-apis</td>\n",
       "      <td>False</td>\n",
       "      <td>{'login': 'hymanking', 'id': 32807386, 'node_i...</td>\n",
       "      <td>https://github.com/hymanking/public-apis</td>\n",
       "      <td>A collective list of free APIs</td>\n",
       "      <td>True</td>\n",
       "      <td>https://api.github.com/repos/hymanking/public-...</td>\n",
       "      <td>...</td>\n",
       "      <td>{'key': 'mit', 'name': 'MIT License', 'spdx_id...</td>\n",
       "      <td>True</td>\n",
       "      <td>False</td>\n",
       "      <td>False</td>\n",
       "      <td>[]</td>\n",
       "      <td>public</td>\n",
       "      <td>0</td>\n",
       "      <td>0</td>\n",
       "      <td>0</td>\n",
       "      <td>master</td>\n",
       "    </tr>\n",
       "    <tr>\n",
       "      <th>29</th>\n",
       "      <td>553382812</td>\n",
       "      <td>R_kgDOIPvznA</td>\n",
       "      <td>public-apis</td>\n",
       "      <td>soi-20/public-apis</td>\n",
       "      <td>False</td>\n",
       "      <td>{'login': 'soi-20', 'id': 58353252, 'node_id':...</td>\n",
       "      <td>https://github.com/soi-20/public-apis</td>\n",
       "      <td>A collective list of free APIs</td>\n",
       "      <td>True</td>\n",
       "      <td>https://api.github.com/repos/soi-20/public-apis</td>\n",
       "      <td>...</td>\n",
       "      <td>{'key': 'mit', 'name': 'MIT License', 'spdx_id...</td>\n",
       "      <td>True</td>\n",
       "      <td>False</td>\n",
       "      <td>False</td>\n",
       "      <td>[]</td>\n",
       "      <td>public</td>\n",
       "      <td>0</td>\n",
       "      <td>0</td>\n",
       "      <td>0</td>\n",
       "      <td>master</td>\n",
       "    </tr>\n",
       "  </tbody>\n",
       "</table>\n",
       "<p>30 rows × 78 columns</p>\n",
       "</div>"
      ],
      "text/plain": [
       "           id       node_id                     name  \\\n",
       "0   554656933  R_kgDOIQ9kpQ            public-apis-1   \n",
       "1   554601490  R_kgDOIQ6MEg              public-apis   \n",
       "2   554561139  R_kgDOIQ3ucw              public-apis   \n",
       "3   554511297  R_kgDOIQ0rwQ              public-apis   \n",
       "4   554509924  R_kgDOIQ0mZA              public-apis   \n",
       "5   554489055  R_kgDOIQzU3w              public-apis   \n",
       "6   554348142  R_kgDOIQqubg              public-apis   \n",
       "7   554324530  R_kgDOIQpSMg              public-apis   \n",
       "8   554301024  R_kgDOIQn2YA              public-apis   \n",
       "9   554255116  R_kgDOIQlDDA              public-apis   \n",
       "10  554249504  R_kgDOIQktIA              public-apis   \n",
       "11  554105890  R_kgDOIQb8Ig              public-apis   \n",
       "12  554075886  R_kgDOIQaG7g              public-apis   \n",
       "13  554026322  R_kgDOIQXFUg              public-apis   \n",
       "14  553923096  R_kgDOIQQyGA              public-apis   \n",
       "15  553911603  R_kgDOIQQFMw              public-apis   \n",
       "16  553879423  R_kgDOIQOHfw              public-apis   \n",
       "17  553772162  R_kgDOIQHkgg              public-apis   \n",
       "18  553752438  R_kgDOIQGXdg              public-apis   \n",
       "19  553741291  R_kgDOIQFr6w              public-APPI   \n",
       "20  553725846  R_kgDOIQEvlg              public-apis   \n",
       "21  553675045  R_kgDOIQBpJQ              public-apis   \n",
       "22  553662518  R_kgDOIQA4Ng              public-apis   \n",
       "23  553607046  R_kgDOIP9fhg  public-apis_public-apis   \n",
       "24  553582219  R_kgDOIP7-iw              public-apis   \n",
       "25  553456177  R_kgDOIP0SMQ              public-apis   \n",
       "26  553444917  R_kgDOIPzmNQ              public-apis   \n",
       "27  553421457  R_kgDOIPyKkQ              public-apis   \n",
       "28  553405238  R_kgDOIPxLNg              public-apis   \n",
       "29  553382812  R_kgDOIPvznA              public-apis   \n",
       "\n",
       "                                           full_name  private  \\\n",
       "0                             imtanvir/public-apis-1    False   \n",
       "1                            JackMcCray2/public-apis    False   \n",
       "2                            odhiambo123/public-apis    False   \n",
       "3                                 keumbi/public-apis    False   \n",
       "4                            Tharanigosa/public-apis    False   \n",
       "5                              Greyshaws/public-apis    False   \n",
       "6                           mittal-parth/public-apis    False   \n",
       "7                         HuyNguyen09196/public-apis    False   \n",
       "8                             prasadt865/public-apis    False   \n",
       "9                        Jose-Luis-Me-Le/public-apis    False   \n",
       "10                           LaPartisano/public-apis    False   \n",
       "11                            LeiYu-code/public-apis    False   \n",
       "12                               kongju7/public-apis    False   \n",
       "13                              filiklik/public-apis    False   \n",
       "14                    jeanpierrecarvalho/public-apis    False   \n",
       "15                    yonathan3801911625/public-apis    False   \n",
       "16                                 kz-98/public-apis    False   \n",
       "17                             Camargovf/public-apis    False   \n",
       "18                          iAaquibjawed/public-apis    False   \n",
       "19                                EttTer/public-APPI    False   \n",
       "20                      ritushreedas2002/public-apis    False   \n",
       "21                            bobneville/public-apis    False   \n",
       "22                              st-small/public-apis    False   \n",
       "23  SecurityLab-CodeAnalysis/public-apis_public-apis    False   \n",
       "24                              battlede/public-apis    False   \n",
       "25                           alexluque29/public-apis    False   \n",
       "26                             hritesh94/public-apis    False   \n",
       "27                         dingxiangyang/public-apis    False   \n",
       "28                             hymanking/public-apis    False   \n",
       "29                                soi-20/public-apis    False   \n",
       "\n",
       "                                                owner  \\\n",
       "0   {'login': 'imtanvir', 'id': 69302248, 'node_id...   \n",
       "1   {'login': 'JackMcCray2', 'id': 116235263, 'nod...   \n",
       "2   {'login': 'odhiambo123', 'id': 8829018, 'node_...   \n",
       "3   {'login': 'keumbi', 'id': 1317770, 'node_id': ...   \n",
       "4   {'login': 'Tharanigosa', 'id': 116229767, 'nod...   \n",
       "5   {'login': 'Greyshaws', 'id': 95550095, 'node_i...   \n",
       "6   {'login': 'mittal-parth', 'id': 76661350, 'nod...   \n",
       "7   {'login': 'HuyNguyen09196', 'id': 113064240, '...   \n",
       "8   {'login': 'prasadt865', 'id': 8504955, 'node_i...   \n",
       "9   {'login': 'Jose-Luis-Me-Le', 'id': 20649763, '...   \n",
       "10  {'login': 'LaPartisano', 'id': 39332723, 'node...   \n",
       "11  {'login': 'LeiYu-code', 'id': 34673379, 'node_...   \n",
       "12  {'login': 'kongju7', 'id': 48289881, 'node_id'...   \n",
       "13  {'login': 'filiklik', 'id': 46173305, 'node_id...   \n",
       "14  {'login': 'jeanpierrecarvalho', 'id': 90358872...   \n",
       "15  {'login': 'yonathan3801911625', 'id': 88912141...   \n",
       "16  {'login': 'kz-98', 'id': 79171242, 'node_id': ...   \n",
       "17  {'login': 'Camargovf', 'id': 59845047, 'node_i...   \n",
       "18  {'login': 'iAaquibjawed', 'id': 63148940, 'nod...   \n",
       "19  {'login': 'EttTer', 'id': 100372581, 'node_id'...   \n",
       "20  {'login': 'ritushreedas2002', 'id': 115244469,...   \n",
       "21  {'login': 'bobneville', 'id': 5566119, 'node_i...   \n",
       "22  {'login': 'st-small', 'id': 1850189, 'node_id'...   \n",
       "23  {'login': 'SecurityLab-CodeAnalysis', 'id': 11...   \n",
       "24  {'login': 'battlede', 'id': 86907955, 'node_id...   \n",
       "25  {'login': 'alexluque29', 'id': 105233328, 'nod...   \n",
       "26  {'login': 'hritesh94', 'id': 89804314, 'node_i...   \n",
       "27  {'login': 'dingxiangyang', 'id': 6755215, 'nod...   \n",
       "28  {'login': 'hymanking', 'id': 32807386, 'node_i...   \n",
       "29  {'login': 'soi-20', 'id': 58353252, 'node_id':...   \n",
       "\n",
       "                                             html_url  \\\n",
       "0           https://github.com/imtanvir/public-apis-1   \n",
       "1          https://github.com/JackMcCray2/public-apis   \n",
       "2          https://github.com/odhiambo123/public-apis   \n",
       "3               https://github.com/keumbi/public-apis   \n",
       "4          https://github.com/Tharanigosa/public-apis   \n",
       "5            https://github.com/Greyshaws/public-apis   \n",
       "6         https://github.com/mittal-parth/public-apis   \n",
       "7       https://github.com/HuyNguyen09196/public-apis   \n",
       "8           https://github.com/prasadt865/public-apis   \n",
       "9      https://github.com/Jose-Luis-Me-Le/public-apis   \n",
       "10         https://github.com/LaPartisano/public-apis   \n",
       "11          https://github.com/LeiYu-code/public-apis   \n",
       "12             https://github.com/kongju7/public-apis   \n",
       "13            https://github.com/filiklik/public-apis   \n",
       "14  https://github.com/jeanpierrecarvalho/public-apis   \n",
       "15  https://github.com/yonathan3801911625/public-apis   \n",
       "16               https://github.com/kz-98/public-apis   \n",
       "17           https://github.com/Camargovf/public-apis   \n",
       "18        https://github.com/iAaquibjawed/public-apis   \n",
       "19              https://github.com/EttTer/public-APPI   \n",
       "20    https://github.com/ritushreedas2002/public-apis   \n",
       "21          https://github.com/bobneville/public-apis   \n",
       "22            https://github.com/st-small/public-apis   \n",
       "23  https://github.com/SecurityLab-CodeAnalysis/pu...   \n",
       "24            https://github.com/battlede/public-apis   \n",
       "25         https://github.com/alexluque29/public-apis   \n",
       "26           https://github.com/hritesh94/public-apis   \n",
       "27       https://github.com/dingxiangyang/public-apis   \n",
       "28           https://github.com/hymanking/public-apis   \n",
       "29              https://github.com/soi-20/public-apis   \n",
       "\n",
       "                       description  fork  \\\n",
       "0   A collective list of free APIs  True   \n",
       "1   A collective list of free APIs  True   \n",
       "2   A collective list of free APIs  True   \n",
       "3   A collective list of free APIs  True   \n",
       "4   A collective list of free APIs  True   \n",
       "5   A collective list of free APIs  True   \n",
       "6   A collective list of free APIs  True   \n",
       "7   A collective list of free APIs  True   \n",
       "8   A collective list of free APIs  True   \n",
       "9   A collective list of free APIs  True   \n",
       "10  A collective list of free APIs  True   \n",
       "11  A collective list of free APIs  True   \n",
       "12  A collective list of free APIs  True   \n",
       "13  A collective list of free APIs  True   \n",
       "14  A collective list of free APIs  True   \n",
       "15  A collective list of free APIs  True   \n",
       "16  A collective list of free APIs  True   \n",
       "17  A collective list of free APIs  True   \n",
       "18  A collective list of free APIs  True   \n",
       "19  A collective list of free APIs  True   \n",
       "20  A collective list of free APIs  True   \n",
       "21  A collective list of free APIs  True   \n",
       "22  A collective list of free APIs  True   \n",
       "23  A collective list of free APIs  True   \n",
       "24  A collective list of free APIs  True   \n",
       "25  A collective list of free APIs  True   \n",
       "26  A collective list of free APIs  True   \n",
       "27  A collective list of free APIs  True   \n",
       "28  A collective list of free APIs  True   \n",
       "29  A collective list of free APIs  True   \n",
       "\n",
       "                                                  url  ...  \\\n",
       "0   https://api.github.com/repos/imtanvir/public-a...  ...   \n",
       "1   https://api.github.com/repos/JackMcCray2/publi...  ...   \n",
       "2   https://api.github.com/repos/odhiambo123/publi...  ...   \n",
       "3     https://api.github.com/repos/keumbi/public-apis  ...   \n",
       "4   https://api.github.com/repos/Tharanigosa/publi...  ...   \n",
       "5   https://api.github.com/repos/Greyshaws/public-...  ...   \n",
       "6   https://api.github.com/repos/mittal-parth/publ...  ...   \n",
       "7   https://api.github.com/repos/HuyNguyen09196/pu...  ...   \n",
       "8   https://api.github.com/repos/prasadt865/public...  ...   \n",
       "9   https://api.github.com/repos/Jose-Luis-Me-Le/p...  ...   \n",
       "10  https://api.github.com/repos/LaPartisano/publi...  ...   \n",
       "11  https://api.github.com/repos/LeiYu-code/public...  ...   \n",
       "12   https://api.github.com/repos/kongju7/public-apis  ...   \n",
       "13  https://api.github.com/repos/filiklik/public-apis  ...   \n",
       "14  https://api.github.com/repos/jeanpierrecarvalh...  ...   \n",
       "15  https://api.github.com/repos/yonathan380191162...  ...   \n",
       "16     https://api.github.com/repos/kz-98/public-apis  ...   \n",
       "17  https://api.github.com/repos/Camargovf/public-...  ...   \n",
       "18  https://api.github.com/repos/iAaquibjawed/publ...  ...   \n",
       "19    https://api.github.com/repos/EttTer/public-APPI  ...   \n",
       "20  https://api.github.com/repos/ritushreedas2002/...  ...   \n",
       "21  https://api.github.com/repos/bobneville/public...  ...   \n",
       "22  https://api.github.com/repos/st-small/public-apis  ...   \n",
       "23  https://api.github.com/repos/SecurityLab-CodeA...  ...   \n",
       "24  https://api.github.com/repos/battlede/public-apis  ...   \n",
       "25  https://api.github.com/repos/alexluque29/publi...  ...   \n",
       "26  https://api.github.com/repos/hritesh94/public-...  ...   \n",
       "27  https://api.github.com/repos/dingxiangyang/pub...  ...   \n",
       "28  https://api.github.com/repos/hymanking/public-...  ...   \n",
       "29    https://api.github.com/repos/soi-20/public-apis  ...   \n",
       "\n",
       "                                              license allow_forking  \\\n",
       "0   {'key': 'mit', 'name': 'MIT License', 'spdx_id...          True   \n",
       "1   {'key': 'mit', 'name': 'MIT License', 'spdx_id...          True   \n",
       "2   {'key': 'mit', 'name': 'MIT License', 'spdx_id...          True   \n",
       "3   {'key': 'mit', 'name': 'MIT License', 'spdx_id...          True   \n",
       "4   {'key': 'mit', 'name': 'MIT License', 'spdx_id...          True   \n",
       "5   {'key': 'mit', 'name': 'MIT License', 'spdx_id...          True   \n",
       "6   {'key': 'mit', 'name': 'MIT License', 'spdx_id...          True   \n",
       "7   {'key': 'mit', 'name': 'MIT License', 'spdx_id...          True   \n",
       "8   {'key': 'mit', 'name': 'MIT License', 'spdx_id...          True   \n",
       "9   {'key': 'mit', 'name': 'MIT License', 'spdx_id...          True   \n",
       "10  {'key': 'mit', 'name': 'MIT License', 'spdx_id...          True   \n",
       "11  {'key': 'mit', 'name': 'MIT License', 'spdx_id...          True   \n",
       "12  {'key': 'mit', 'name': 'MIT License', 'spdx_id...          True   \n",
       "13  {'key': 'mit', 'name': 'MIT License', 'spdx_id...          True   \n",
       "14  {'key': 'mit', 'name': 'MIT License', 'spdx_id...          True   \n",
       "15  {'key': 'mit', 'name': 'MIT License', 'spdx_id...          True   \n",
       "16  {'key': 'mit', 'name': 'MIT License', 'spdx_id...          True   \n",
       "17  {'key': 'mit', 'name': 'MIT License', 'spdx_id...          True   \n",
       "18  {'key': 'mit', 'name': 'MIT License', 'spdx_id...          True   \n",
       "19  {'key': 'mit', 'name': 'MIT License', 'spdx_id...          True   \n",
       "20  {'key': 'mit', 'name': 'MIT License', 'spdx_id...          True   \n",
       "21  {'key': 'mit', 'name': 'MIT License', 'spdx_id...          True   \n",
       "22  {'key': 'mit', 'name': 'MIT License', 'spdx_id...          True   \n",
       "23  {'key': 'mit', 'name': 'MIT License', 'spdx_id...          True   \n",
       "24  {'key': 'mit', 'name': 'MIT License', 'spdx_id...          True   \n",
       "25  {'key': 'mit', 'name': 'MIT License', 'spdx_id...          True   \n",
       "26  {'key': 'mit', 'name': 'MIT License', 'spdx_id...          True   \n",
       "27  {'key': 'mit', 'name': 'MIT License', 'spdx_id...          True   \n",
       "28  {'key': 'mit', 'name': 'MIT License', 'spdx_id...          True   \n",
       "29  {'key': 'mit', 'name': 'MIT License', 'spdx_id...          True   \n",
       "\n",
       "   is_template web_commit_signoff_required topics visibility forks  \\\n",
       "0        False                       False     []     public     0   \n",
       "1        False                       False     []     public     0   \n",
       "2        False                       False     []     public     0   \n",
       "3        False                       False     []     public     0   \n",
       "4        False                       False     []     public     0   \n",
       "5        False                       False     []     public     0   \n",
       "6        False                       False     []     public     0   \n",
       "7        False                       False     []     public     0   \n",
       "8        False                       False     []     public     0   \n",
       "9        False                       False     []     public     0   \n",
       "10       False                       False     []     public     0   \n",
       "11       False                       False     []     public     0   \n",
       "12       False                       False     []     public     0   \n",
       "13       False                       False     []     public     0   \n",
       "14       False                       False     []     public     0   \n",
       "15       False                       False     []     public     0   \n",
       "16       False                       False     []     public     0   \n",
       "17       False                       False     []     public     0   \n",
       "18       False                       False     []     public     0   \n",
       "19       False                       False     []     public     0   \n",
       "20       False                       False     []     public     0   \n",
       "21       False                       False     []     public     0   \n",
       "22       False                       False     []     public     0   \n",
       "23       False                       False     []     public     0   \n",
       "24       False                       False     []     public     0   \n",
       "25       False                       False     []     public     0   \n",
       "26       False                       False     []     public     0   \n",
       "27       False                       False     []     public     0   \n",
       "28       False                       False     []     public     0   \n",
       "29       False                       False     []     public     0   \n",
       "\n",
       "   open_issues watchers default_branch  \n",
       "0            0        0         master  \n",
       "1            0        0         master  \n",
       "2            0        0         master  \n",
       "3            0        0         master  \n",
       "4            0        0         master  \n",
       "5            0        0         master  \n",
       "6            0        0         master  \n",
       "7            0        0         master  \n",
       "8            0        0         master  \n",
       "9            0        0         master  \n",
       "10           0        0         master  \n",
       "11           0        0         master  \n",
       "12           0        0         master  \n",
       "13           0        0         master  \n",
       "14           0        0         master  \n",
       "15           0        0         master  \n",
       "16           0        0         master  \n",
       "17           0        0         master  \n",
       "18           0        0         master  \n",
       "19           0        0         master  \n",
       "20           0        0         master  \n",
       "21           0        0         master  \n",
       "22           0        0         master  \n",
       "23           0        0         master  \n",
       "24           0        0         master  \n",
       "25           0        0         master  \n",
       "26           0        0         master  \n",
       "27           0        0         master  \n",
       "28           0        0         master  \n",
       "29           0        0         master  \n",
       "\n",
       "[30 rows x 78 columns]"
      ]
     },
     "execution_count": 195,
     "metadata": {},
     "output_type": "execute_result"
    }
   ],
   "source": [
    "df3 = pd.DataFrame(my_responses)\n",
    "df3"
   ]
  },
  {
   "cell_type": "markdown",
   "id": "3a7488c7",
   "metadata": {
    "lang": "en"
   },
   "source": [
    "Philosophy of life : What I do for one element of the list I do for all of them in one iteration, so let's review the first element and then we'll see"
   ]
  },
  {
   "cell_type": "markdown",
   "id": "845be78e",
   "metadata": {},
   "source": [
    "`.env` "
   ]
  },
  {
   "cell_type": "markdown",
   "id": "b6c2943d",
   "metadata": {},
   "source": [
    "- File to hold: private info\n",
    "    - Passwords\n",
    "    - Tokens\n",
    "- .env needs included in the .gitignore\n",
    "- .env in python can be read with python-dotenv\n",
    "\n",
    "\n",
    "0. Add one line of text for .env in .gitinore\n",
    "1. Create the `.env`: from VSCode clicking on the `+` sign\n",
    "2. VARIABLE=\"value in a string\"\n",
    "3. On notebooks: import dotenv, os\n",
    "4. load_dotenv()\n",
    "5. value = os.getenv(\"VARIABLE\")\n",
    "\n",
    "6. IF YOU CHECK THE VALUE: DELETE THE PRINT\n",
    "7. DELETE AGAIN"
   ]
  },
  {
   "cell_type": "code",
   "execution_count": 7,
   "id": "dfdc969f",
   "metadata": {},
   "outputs": [],
   "source": [
    "password = os.getenv(\"CLIENT_ID\")"
   ]
  },
  {
   "cell_type": "code",
   "execution_count": null,
   "id": "5a8e8b04",
   "metadata": {},
   "outputs": [],
   "source": [
    "parameters = {\"Authentication\":f\"token {password}\"}"
   ]
  },
  {
   "cell_type": "markdown",
   "id": "24bccf20",
   "metadata": {},
   "source": [
    "### Mini-recap\n",
    "\n",
    "- We might need tokens\n",
    "- Those tokensm, API owner provides to us\n",
    "- those tokens will let us Authenticate (1 way to auth)\n",
    "- We pass authentication through: params\n",
    "- Requests on python allows us to pass params to authenticate"
   ]
  },
  {
   "cell_type": "markdown",
   "id": "58385507",
   "metadata": {
    "lang": "en"
   },
   "source": [
    "## API Clients"
   ]
  },
  {
   "cell_type": "markdown",
   "id": "ecb99495",
   "metadata": {
    "lang": "en"
   },
   "source": [
    "### THIS IS FROM RAPIDAPI --> https://rapidapi.com/community/api/open-weather-map/"
   ]
  },
  {
   "cell_type": "code",
   "execution_count": 9,
   "id": "resistant-editing",
   "metadata": {},
   "outputs": [
    {
     "name": "stdout",
     "output_type": "stream",
     "text": [
      "{\"id\":583,\"iata\":\"BCN\",\"icao\":\"LEBL\",\"name\":\"Barcelona–El Prat Airport\",\"location\":\"Barcelona, Catalonia, Spain\",\"street_number\":\"\",\"street\":\"\",\"city\":\"El Prat de Llobregat\",\"county\":\"Barcelona\",\"state\":\"Catalonia\",\"country_iso\":\"ES\",\"country\":\"Spain\",\"postal_code\":\"8820\",\"phone\":\"+34 902 40 47 04\",\"latitude\":41.297443,\"longitude\":2.0832942,\"uct\":120,\"website\":\"http://www.aena-aeropuertos.es/csee/Satellite/Aeropuerto-Barcelona\"}\n",
      "\n"
     ]
    }
   ],
   "source": [
    "import requests\n",
    "\n",
    "url = \"https://airport-info.p.rapidapi.com/airport\"\n",
    "\n",
    "querystring = {\"iata\":\"bcn\"}\n",
    "\n",
    "headers = {\n",
    "\"X-RapidAPI-Key\": \"NOT AGAIN\",\n",
    "\"X-RapidAPI-Host\": \"airport-info.p.rapidapi.com\"\n",
    "}\n",
    "\n",
    "response = requests.request(\"GET\", url, headers=headers, params=querystring)\n",
    "\n",
    "print(response.text)"
   ]
  },
  {
   "cell_type": "code",
   "execution_count": 15,
   "id": "c9efdac2",
   "metadata": {},
   "outputs": [
    {
     "data": {
      "text/plain": [
       "{'id': 583,\n",
       " 'iata': 'BCN',\n",
       " 'icao': 'LEBL',\n",
       " 'name': 'Barcelona–El Prat Airport',\n",
       " 'location': 'Barcelona, Catalonia, Spain',\n",
       " 'street_number': '',\n",
       " 'street': '',\n",
       " 'city': 'El Prat de Llobregat',\n",
       " 'county': 'Barcelona',\n",
       " 'state': 'Catalonia',\n",
       " 'country_iso': 'ES',\n",
       " 'country': 'Spain',\n",
       " 'postal_code': '8820',\n",
       " 'phone': '+34 902 40 47 04',\n",
       " 'latitude': 41.297443,\n",
       " 'longitude': 2.0832942,\n",
       " 'uct': 120,\n",
       " 'website': 'http://www.aena-aeropuertos.es/csee/Satellite/Aeropuerto-Barcelona'}"
      ]
     },
     "execution_count": 15,
     "metadata": {},
     "output_type": "execute_result"
    }
   ],
   "source": [
    "response.json()"
   ]
  },
  {
   "cell_type": "markdown",
   "id": "6f17a911",
   "metadata": {},
   "source": [
    "### Insomnia"
   ]
  },
  {
   "cell_type": "markdown",
   "id": "f301a56f",
   "metadata": {
    "lang": "en"
   },
   "source": [
    "We see insomnia --> https://insomnia.rest/download"
   ]
  },
  {
   "cell_type": "markdown",
   "id": "31bf4527",
   "metadata": {
    "lang": "en"
   },
   "source": [
    "In insomnia we can save different apis to be able to call them with a click, I leave you screenshots"
   ]
  },
  {
   "cell_type": "markdown",
   "id": "prime-liability",
   "metadata": {},
   "source": [
    "![insomnia](../images/in_1.png)\n",
    "![insomnia](../images/in_2.png)\n",
    "![insomnia](../images/in_3.png)\n",
    "![insomnia](../images/in_4.png)"
   ]
  },
  {
   "cell_type": "markdown",
   "id": "3e69cff5",
   "metadata": {
    "lang": "en"
   },
   "source": [
    "### Codes generated by insomnia"
   ]
  },
  {
   "cell_type": "code",
   "execution_count": null,
   "id": "silver-washer",
   "metadata": {
    "scrolled": true
   },
   "outputs": [],
   "source": [
    "import requests\n",
    "\n",
    "url = \"https://api.chucknorris.io/jokes/random\"\n",
    "\n",
    "payload = \"\"\n",
    "response = requests.request(\"GET\", url, data=payload)\n",
    "\n",
    "print(response.text)"
   ]
  },
  {
   "cell_type": "markdown",
   "id": "a40d6b35",
   "metadata": {},
   "source": [
    "## Spotify"
   ]
  },
  {
   "cell_type": "code",
   "execution_count": null,
   "id": "3e983f28",
   "metadata": {},
   "outputs": [],
   "source": [
    "# Sign up as a developer\n",
    "# Create an app\n",
    "# Credentials: id & token (spotify: two steps)\n",
    "# Use your token to do requests to things"
   ]
  },
  {
   "cell_type": "code",
   "execution_count": null,
   "id": "8f1b5812",
   "metadata": {},
   "outputs": [],
   "source": [
    "# ALWAYS: limit your quests to 1 until you're sure the code works\n",
    "# time.sleep(4): to give enough time not to over request within a time frame\n",
    "# IP adress: \n",
    "    # restart your router\n",
    "    # cached: incognito mode\n",
    "    # Your phone data for one second \n",
    "    # VPN"
   ]
  },
  {
   "cell_type": "code",
   "execution_count": null,
   "id": "932ba981",
   "metadata": {},
   "outputs": [],
   "source": [
    "url = \"https://api.spotify.com/v1/playlists\""
   ]
  },
  {
   "cell_type": "code",
   "execution_count": null,
   "id": "dc3788e4",
   "metadata": {},
   "outputs": [],
   "source": [
    "# 1. Sign up as a developer -> client_id & client_secret\n",
    "# 2. Create an app (projects): tokens will be linked to this app\n",
    "# 3: Get credentials for authentication -> token for requests"
   ]
  },
  {
   "cell_type": "markdown",
   "id": "5f799494",
   "metadata": {},
   "source": [
    "### Load initial credentials"
   ]
  },
  {
   "cell_type": "code",
   "execution_count": null,
   "id": "a67f54a4",
   "metadata": {},
   "outputs": [],
   "source": [
    "load_dotenv()\n",
    "CLIENT_ID=os.getenv(\"CLIENT_ID\")\n",
    "CLIENT_SECRET=os.getenv(\"CLIENT_SECRET\")"
   ]
  },
  {
   "cell_type": "markdown",
   "id": "a669519a",
   "metadata": {},
   "source": [
    "### Get token from those initial credentials"
   ]
  },
  {
   "cell_type": "code",
   "execution_count": null,
   "id": "9ee2f661",
   "metadata": {},
   "outputs": [],
   "source": [
    "# From the docs\n",
    "\n",
    "url_token = \"https://accounts.spotify.com/api/token\""
   ]
  },
  {
   "cell_type": "code",
   "execution_count": null,
   "id": "928a8345",
   "metadata": {},
   "outputs": [],
   "source": [
    "# Defining params: body_params & url"
   ]
  },
  {
   "cell_type": "code",
   "execution_count": null,
   "id": "44b83f9d",
   "metadata": {},
   "outputs": [],
   "source": [
    "body_params = {\"grant_type\":\"client_credentials\"}"
   ]
  },
  {
   "cell_type": "code",
   "execution_count": null,
   "id": "355f5ad3",
   "metadata": {},
   "outputs": [],
   "source": [
    "# Requesting the token"
   ]
  },
  {
   "cell_type": "code",
   "execution_count": null,
   "id": "80538ec8",
   "metadata": {},
   "outputs": [],
   "source": [
    "response = requests.post(url_token, data=body_params, auth = (CLIENT_ID, CLIENT_SECRET))\n",
    "response"
   ]
  },
  {
   "cell_type": "code",
   "execution_count": null,
   "id": "367a2108",
   "metadata": {},
   "outputs": [],
   "source": [
    "token = response.json()[\"access_token\"]\n",
    "token"
   ]
  },
  {
   "cell_type": "markdown",
   "id": "e4a07e19",
   "metadata": {},
   "source": [
    "### With token, we can create the headers"
   ]
  },
  {
   "cell_type": "code",
   "execution_count": null,
   "id": "3ec47750",
   "metadata": {},
   "outputs": [],
   "source": [
    "#headers\n",
    "\n",
    "headers = {\"Authorization\":f\"Bearer {token}\"}"
   ]
  },
  {
   "cell_type": "code",
   "execution_count": null,
   "id": "961723a6",
   "metadata": {},
   "outputs": [],
   "source": [
    "playlist_id = \"2ac00RfnLIVfFe5cLcDRjB\" #reggaeton viejito"
   ]
  },
  {
   "cell_type": "code",
   "execution_count": null,
   "id": "c8566b58",
   "metadata": {},
   "outputs": [],
   "source": [
    "url = f\"https://api.spotify.com/v1/playlists/{playlist_id}\""
   ]
  },
  {
   "cell_type": "code",
   "execution_count": null,
   "id": "5dab85ab",
   "metadata": {},
   "outputs": [],
   "source": [
    "url"
   ]
  },
  {
   "cell_type": "code",
   "execution_count": null,
   "id": "fbcc93bf",
   "metadata": {},
   "outputs": [],
   "source": [
    "res = requests.get(url, headers=headers).json()"
   ]
  },
  {
   "cell_type": "markdown",
   "id": "050c0c05",
   "metadata": {
    "lang": "en"
   },
   "source": [
    "## Summary"
   ]
  },
  {
   "cell_type": "markdown",
   "id": "f36b27c3",
   "metadata": {},
   "source": [
    "### What APIs are\n",
    "\n",
    "- Applications: middlemen\n",
    "    - Connect services that are independent\n",
    "  \n",
    "\n",
    "\n",
    "### How they work\n",
    "- Receive instructions (\"The steak, medium rare\")\n",
    "- They pass that to the backend (\"The cook receives the order\")\n",
    "- The give you the steak already cooked\n",
    "- Without you knowing how to work the kitchen, the pan, the oile, the temperature\n",
    "\n",
    "\n",
    "### Authentication\n",
    "\n",
    "- Some of them\n",
    "- Pass that as parameters\n",
    "- They will give to you: you need to sign up\n",
    "\n",
    "### Process\n",
    "- 1. fint the api link (might be different from the actual website)\n",
    "- 2. read the docs, look for examples\n",
    "- 3. Hide the token: .env, .gitignore, python-dotenv\n",
    "- 4. Request\n",
    "      - res = requests.get(url, *params)\n",
    "      - res.json()\n",
    "      - df? value?\n",
    "\n",
    "### Keep in mind:\n",
    "- Max requests per time-frame: h, d, user\n",
    "    - Limit those requests\n",
    "    - Use different networks: kicked out :/"
   ]
  },
  {
   "cell_type": "markdown",
   "id": "plastic-cleaner",
   "metadata": {},
   "source": [
    "## Further materials"
   ]
  },
  {
   "cell_type": "markdown",
   "id": "logical-essence",
   "metadata": {},
   "source": [
    "- [5 Simple-To-Use APIs for Beginners](https://dev.to/alanconstantino/5-simple-to-use-apis-for-beginners-2e0n)\n",
    "- [RapidAPI](https://rapidapi.com/category/Sports): access thousands of APIs!!\n",
    "- [More APIs](https://github.com/public-apis/public-apis)"
   ]
  }
 ],
 "metadata": {
  "kernelspec": {
   "display_name": "ironhack",
   "language": "python",
   "name": "ironhack"
  },
  "language_info": {
   "codemirror_mode": {
    "name": "ipython",
    "version": 3
   },
   "file_extension": ".py",
   "mimetype": "text/x-python",
   "name": "python",
   "nbconvert_exporter": "python",
   "pygments_lexer": "ipython3",
   "version": "3.8.13"
  },
  "nbTranslate": {
   "displayLangs": [
    "en",
    "es"
   ],
   "hotkey": "alt-a",
   "langInMainMenu": true,
   "sourceLang": "es",
   "targetLang": "en",
   "useGoogleTranslate": true
  },
  "toc": {
   "base_numbering": 1,
   "nav_menu": {},
   "number_sections": true,
   "sideBar": true,
   "skip_h1_title": true,
   "title_cell": "Table of Contents",
   "title_sidebar": "Contents",
   "toc_cell": true,
   "toc_position": {
    "height": "calc(100% - 180px)",
    "left": "10px",
    "top": "150px",
    "width": "204px"
   },
   "toc_section_display": true,
   "toc_window_display": false
  }
 },
 "nbformat": 4,
 "nbformat_minor": 5
}
