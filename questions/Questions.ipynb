{
 "cells": [
  {
   "cell_type": "markdown",
   "id": "e1c3c113",
   "metadata": {},
   "source": [
    "# LAB"
   ]
  },
  {
   "cell_type": "markdown",
   "id": "0aa00951",
   "metadata": {},
   "source": [
    "## Numpy"
   ]
  },
  {
   "cell_type": "code",
   "execution_count": 1,
   "id": "f910f7ae",
   "metadata": {},
   "outputs": [],
   "source": [
    "import numpy as np"
   ]
  },
  {
   "cell_type": "code",
   "execution_count": 2,
   "id": "525acbc5",
   "metadata": {},
   "outputs": [],
   "source": [
    "a = np.random.randint(low=0,high=10,size=(2,3,5))\n",
    "b = np.ones((5,2,3))\n",
    "c = b.transpose(1,2,0)\n",
    "d = a + c\n",
    "e = a * c\n",
    "\n",
    "d_max = d.max()\n",
    "d_min = d.min()\n",
    "d_mean = d.mean()"
   ]
  },
  {
   "cell_type": "code",
   "execution_count": 7,
   "id": "9088ae2a",
   "metadata": {},
   "outputs": [
    {
     "name": "stdout",
     "output_type": "stream",
     "text": [
      "[[[ 75.  25.  75.  75.  25.]\n",
      "  [ 25.  25.  25.  75.  25.]\n",
      "  [ 25.  75.   0.  25. 100.]]\n",
      "\n",
      " [[100.  75.   0.  25.  75.]\n",
      "  [ 75.  25.  25.  75.  25.]\n",
      "  [100.  25.  75.  75. 100.]]]\n"
     ]
    }
   ],
   "source": [
    "f = np.empty([2,3,5])\n",
    "\n",
    "for x in range(f.shape[0]):\n",
    "        for y in range(f.shape[1]):\n",
    "                for z in range(f.shape[2]):\n",
    "                        if f[x][y][z] > d_min and f[x][y][z]  <d_mean:\n",
    "                                f[x][y][z] = 25\n",
    "\n",
    "                        elif f[x][y][z]  > d_mean and f[x][y][z]  < d_max:\n",
    "                                f[x][y][z] = 75\n",
    "\n",
    "                        elif f[x][y][z] == d_mean:\n",
    "                                f[x][y][z] = 50\n",
    "                        elif f[x][y][z] == d_min:\n",
    "                                f[x][y][z] = 0\n",
    "                        elif f[x][y][z] == d_max:\n",
    "                                f[x][y][z] = 100\n",
    "print(f)"
   ]
  },
  {
   "cell_type": "code",
   "execution_count": 47,
   "id": "dbc1f71a",
   "metadata": {
    "scrolled": true
   },
   "outputs": [
    {
     "name": "stdout",
     "output_type": "stream",
     "text": [
      "16 Populate the values in f. --------------------------------------------------\n",
      "\n",
      "[[[ 75.  25.  75.  75.  25.]\n",
      "  [ 25.  25.  25.  75.  25.]\n",
      "  [ 25.  75.   0.  25. 100.]]\n",
      "\n",
      " [[100.  75.   0.  25.  75.]\n",
      "  [ 75.  25.  25.  75.  25.]\n",
      "  [100.  25.  75.  75. 100.]]]\n",
      "17 Print d and f--------------------------------------------------\n",
      "\n",
      "This is d :  [[[ 7.  5.  9.  8.  6.]\n",
      "  [ 2.  6.  5.  8.  4.]\n",
      "  [ 4.  8.  1.  4. 10.]]\n",
      "\n",
      " [[10.  9.  1.  4.  7.]\n",
      "  [ 7.  6.  4.  9.  5.]\n",
      "  [10.  6.  8.  9. 10.]]]\n",
      "-----------------------------\n",
      "\n",
      "This is f :  [[[ 75.  25.  75.  75.  25.]\n",
      "  [ 25.  25.  25.  75.  25.]\n",
      "  [ 25.  75.   0.  25. 100.]]\n",
      "\n",
      " [[100.  75.   0.  25.  75.]\n",
      "  [ 75.  25.  25.  75.  25.]\n",
      "  [100.  25.  75.  75. 100.]]]\n",
      "18 Bonus question: instead of using numbers --------------------------------------------------\n",
      "\n",
      "[[['D' 'B' 'D' 'D' 'B']\n",
      "  ['B' 'B' 'B' 'D' 'B']\n",
      "  ['B' 'D' 'A' 'B' 'E']]\n",
      "\n",
      " [['E' 'D' 'A' 'B' 'D']\n",
      "  ['D' 'B' 'B' 'D' 'B']\n",
      "  ['E' 'B' 'D' 'D' 'E']]]\n"
     ]
    }
   ],
   "source": [
    "f = np.empty((2,3,5))\n",
    "\n",
    "\"\"\"\n",
    "#16. Populate the values in f. For each value in d, if it's larger than d_min but smaller than d_mean, assign 25 to the corresponding value in f.\n",
    "If a value in d is larger than d_mean but smaller than d_max, assign 75 to the corresponding value in f.\n",
    "If a value equals to d_mean, assign 50 to the corresponding value in f.\n",
    "Assign 0 to the corresponding value(s) in f for d_min in d.\n",
    "Assign 100 to the corresponding value(s) in f for d_max in d.\n",
    "In the end, f should have only the following values: 0, 25, 50, 75, and 100.\n",
    "Note: you don't have to use Numpy in this question.\n",
    "\"\"\"\n",
    "print('16 Populate the values in f. --------------------------------------------------\\n')\n",
    "\n",
    "i,v,z = -1,-1,-1\n",
    "for subd, subf in zip(d,f):\n",
    "    if i == 2:\n",
    "        i = -1\n",
    "    i += 1\n",
    "    for lisd,lisf in zip(subd,subf):\n",
    "        if v == 2:\n",
    "            v = -1\n",
    "        v += 1\n",
    "        for eld,elf in zip(lisd,lisf):\n",
    "            if z == 4:\n",
    "                z = -1\n",
    "            z += 1\n",
    "            if eld > d_min and eld < d_mean:\n",
    "                f[i,v,z] = 25\n",
    "            elif eld > d_mean and eld < d_max:\n",
    "                f[i,v,z] = 75\n",
    "            elif eld == d_mean:\n",
    "                f[i,v,z] = 50\n",
    "            elif eld == d_min:\n",
    "                f[i,v,z] = 0\n",
    "            elif eld == d_max:\n",
    "                f[i,v,z] = 100\n",
    "print(f)\n",
    "\n",
    "\n",
    "\"\"\"\n",
    "#17. Print d and f. Do you have your expected f?\n",
    "For instance, if your d is:\n",
    "array([[[1.85836099, 1.67064465, 1.62576044, 1.40243961, 1.88454931],\n",
    "        [1.75354326, 1.69403643, 1.36729252, 1.61415071, 1.12104981],\n",
    "        [1.72201435, 1.1862918 , 1.87078449, 1.7726778 , 1.88180042]],\n",
    "       [[1.44747908, 1.31673383, 1.02000951, 1.52218947, 1.97066381],\n",
    "        [1.79129243, 1.74983003, 1.96028037, 1.85166831, 1.65450881],\n",
    "        [1.18068344, 1.9587381 , 1.00656599, 1.93402165, 1.73514584]]])\n",
    "Your f should be:\n",
    "array([[[ 75.,  75.,  75.,  25.,  75.],\n",
    "        [ 75.,  75.,  25.,  25.,  25.],\n",
    "        [ 75.,  25.,  75.,  75.,  75.]],\n",
    "       [[ 25.,  25.,  25.,  25., 100.],\n",
    "        [ 75.,  75.,  75.,  75.,  75.],\n",
    "        [ 25.,  75.,   0.,  75.,  75.]]])\n",
    "\"\"\"\n",
    "print('17 Print d and f--------------------------------------------------\\n')\n",
    "print('This is d : ' , d)\n",
    "print('-----------------------------\\n')\n",
    "print('This is f : ', f)\n",
    "\"\"\"\n",
    "#18. Bonus question: instead of using numbers (i.e. 0, 25, 50, 75, and 100), how to use string values \n",
    "(\"A\", \"B\", \"C\", \"D\", and \"E\") to label the array elements? You are expecting the result to be:\n",
    "array([[[ 'D',  'D',  'D',  'B',  'D'],\n",
    "        [ 'D',  'D',  'B',  'B',  'B'],\n",
    "        [ 'D',  'B',  'D',  'D',  'D']],\n",
    "       [[ 'B',  'B',  'B',  'B',  'E'],\n",
    "        [ 'D',  'D',  'D',  'D',  'D'],\n",
    "        [ 'B',  'D',   'A',  'D', 'D']]])\n",
    "Again, you don't need Numpy in this question.\n",
    "\"\"\"\n",
    "print('18 Bonus question: instead of using numbers --------------------------------------------------\\n')\n",
    "ss = np.empty([2,3,5],dtype=\"object\")\n",
    "\n",
    "\n",
    "ss[f==25] = 'B'\n",
    "ss[f==75] = 'D'\n",
    "ss[f==50] = 'C'\n",
    "ss[f==0] = 'A'\n",
    "ss[f==100] = 'E'\n",
    "print(ss)"
   ]
  },
  {
   "cell_type": "code",
   "execution_count": 53,
   "id": "e897f977",
   "metadata": {},
   "outputs": [
    {
     "data": {
      "text/plain": [
       "array([[['D', 'B', 'D', 'D', 'B'],\n",
       "        ['B', 'B', 'B', 'D', 'B'],\n",
       "        ['B', 'D', 'A', 'B', 'E']],\n",
       "\n",
       "       [['E', 'D', 'A', 'B', 'D'],\n",
       "        ['D', 'B', 'B', 'D', 'B'],\n",
       "        ['E', 'B', 'D', 'D', 'E']]], dtype=object)"
      ]
     },
     "execution_count": 53,
     "metadata": {},
     "output_type": "execute_result"
    }
   ],
   "source": [
    "g = np.empty((2,3,5),dtype=\"object\")\n",
    "\n",
    "for x in range(d.shape[0]) :\n",
    "        for y in range(d.shape[1]) :\n",
    "                for z in range(d.shape[2]) :\n",
    "                        if d[x,y,z] > d_min and d[x,y,z] < d_mean :\n",
    "                                g[x,y,z] = 'B'\n",
    "                        elif d[x,y,z] > d_mean and d[x,y,z] < d_max :\n",
    "                                g[x,y,z] = 'D'\n",
    "                        elif d[x,y,z] == d_mean :\n",
    "                                g[x,y,z] = 'C'\n",
    "                        elif d[x,y,z] == d_min :\n",
    "                                g[x,y,z] = 'A'\n",
    "                        elif d[x,y,z] == d_max :\n",
    "                                g[x,y,z] = 'E'\n",
    "g"
   ]
  },
  {
   "cell_type": "markdown",
   "id": "596729e5",
   "metadata": {},
   "source": [
    "# CLASS"
   ]
  },
  {
   "cell_type": "markdown",
   "id": "5b02b1b6",
   "metadata": {},
   "source": [
    "## Visualization"
   ]
  },
  {
   "cell_type": "code",
   "execution_count": 5,
   "id": "bbcacbea",
   "metadata": {},
   "outputs": [
    {
     "data": {
      "text/plain": [
       "<AxesSubplot:xlabel='year', ylabel='passengers'>"
      ]
     },
     "execution_count": 5,
     "metadata": {},
     "output_type": "execute_result"
    },
    {
     "data": {
      "image/png": "[encoded data removed]",
      "text/plain": [
       "<Figure size 432x288 with 1 Axes>"
      ]
     },
     "metadata": {
      "needs_background": "light"
     },
     "output_type": "display_data"
    }
   ],
   "source": [
    "import seaborn as sns\n",
    "flights = sns.load_dataset(\"flights\")\n",
    "sns.barplot(x=\"year\", y=\"passengers\", data=flights, palette=\"magma\") #average per year"
   ]
  },
  {
   "cell_type": "code",
   "execution_count": 6,
   "id": "665b5bd2",
   "metadata": {
    "scrolled": true
   },
   "outputs": [
    {
     "data": {
      "text/plain": [
       "<AxesSubplot:xlabel='year', ylabel='passengers'>"
      ]
     },
     "execution_count": 6,
     "metadata": {},
     "output_type": "execute_result"
    },
    {
     "data": {
      "image/png": "[encoded data removed]",
      "text/plain": [
       "<Figure size 432x288 with 1 Axes>"
      ]
     },
     "metadata": {
      "needs_background": "light"
     },
     "output_type": "display_data"
    }
   ],
   "source": [
    "# Maya: total ampount\n",
    "sns.barplot(x=flights[\"year\"], y=flights[\"passengers\"], palette=\"magma\", estimator=sum) #sum"
   ]
  }
 ],
 "metadata": {
  "kernelspec": {
   "display_name": "ironhack",
   "language": "python",
   "name": "ironhack"
  },
  "language_info": {
   "codemirror_mode": {
    "name": "ipython",
    "version": 3
   },
   "file_extension": ".py",
   "mimetype": "text/x-python",
   "name": "python",
   "nbconvert_exporter": "python",
   "pygments_lexer": "ipython3",
   "version": "3.8.13"
  },
  "toc": {
   "base_numbering": 1,
   "nav_menu": {},
   "number_sections": true,
   "sideBar": true,
   "skip_h1_title": false,
   "title_cell": "Table of Contents",
   "title_sidebar": "Contents",
   "toc_cell": false,
   "toc_position": {},
   "toc_section_display": true,
   "toc_window_display": true
  }
 },
 "nbformat": 4,
 "nbformat_minor": 5
}
