{
 "cells": [
  {
   "cell_type": "markdown",
   "id": "threaded-asbestos",
   "metadata": {},
   "source": [
    "# Challenge 2: Count Commits\n",
    "\n",
    "Count how many commits were made in the past week.\n",
    "\n",
    "Obtain all the commits made in the past week via API, which is a JSON array that contains multiple commit objects.\n",
    "\n",
    "Count how many commit objects are contained in the array."
   ]
  },
  {
   "cell_type": "markdown",
   "id": "norwegian-praise",
   "metadata": {},
   "source": [
    "⚠️ **Remember to limit your output before submission**."
   ]
  },
  {
   "cell_type": "markdown",
   "id": "0a85d22c",
   "metadata": {},
   "source": []
  },
  {
   "cell_type": "code",
   "execution_count": 28,
   "id": "creative-stable",
   "metadata": {},
   "outputs": [
    {
     "data": {
      "text/plain": [
       "True"
      ]
     },
     "execution_count": 28,
     "metadata": {},
     "output_type": "execute_result"
    }
   ],
   "source": [
    "import requests \n",
    "import json\n",
    "import os\n",
    "from dotenv import load_dotenv\n",
    "import pandas as pd\n",
    "from pandas import json_normalize\n",
    "import time\n",
    "import datetime as DT\n",
    "\n",
    "import os\n",
    "from dotenv import load_dotenv\n",
    "load_dotenv()"
   ]
  },
  {
   "cell_type": "code",
   "execution_count": 56,
   "id": "ongoing-taylor",
   "metadata": {},
   "outputs": [],
   "source": [
    "today = DT.date.today()\n",
    "week_ago = (today - DT.timedelta(days=7)).isoformat()\n",
    "\n",
    "#commits\n",
    "bootcamp_url = f\"https://api.github.com/repos/ironhack-datalabs/datamad1020-rev/commits/?since={week_ago}\"\n",
    "\n",
    "def requestGithub(url):\n",
    "    api_key = os.getenv(\"gh_api_key\")\n",
    "    if not api_key:\n",
    "        raise ValueError( \"No hay token.\")\n",
    "    print(f\"Estoy haciendo request a {url}\")\n",
    "    parameters  = {\"Authorization\" : f\"token {api_key}\"}\n",
    "    query_params = {\"since\": week_ago}\n",
    "    response = requests.get (url = url, params = parameters).json()\n",
    "\n",
    "    return response"
   ]
  },
  {
   "cell_type": "code",
   "execution_count": 57,
   "id": "37f5b21a",
   "metadata": {},
   "outputs": [
    {
     "name": "stdout",
     "output_type": "stream",
     "text": [
      "Estoy haciendo request a https://api.github.com/repos/ironhack-datalabs/datamad1020-rev/commits/?since=2021-04-01\n",
      "The number of commits is: 2\n"
     ]
    }
   ],
   "source": [
    "  \n",
    "commits_response = requestGithub(bootcamp_url)\n",
    "print (\"The number of commits is:\", len(commits_response))"
   ]
  },
  {
   "cell_type": "code",
   "execution_count": 32,
   "id": "6e2a60e6",
   "metadata": {},
   "outputs": [
    {
     "data": {
      "text/plain": [
       "'2021-04-01'"
      ]
     },
     "execution_count": 32,
     "metadata": {},
     "output_type": "execute_result"
    }
   ],
   "source": []
  }
 ],
 "metadata": {
  "kernelspec": {
   "display_name": "ironhack",
   "language": "python",
   "name": "ironhack"
  },
  "language_info": {
   "codemirror_mode": {
    "name": "ipython",
    "version": 3
   },
   "file_extension": ".py",
   "mimetype": "text/x-python",
   "name": "python",
   "nbconvert_exporter": "python",
   "pygments_lexer": "ipython3",
   "version": "3.8.13"
  },
  "toc": {
   "base_numbering": 1,
   "nav_menu": {},
   "number_sections": true,
   "sideBar": true,
   "skip_h1_title": true,
   "title_cell": "Table of Contents",
   "title_sidebar": "Contents",
   "toc_cell": false,
   "toc_position": {
    "height": "calc(100% - 180px)",
    "left": "10px",
    "top": "150px",
    "width": "288px"
   },
   "toc_section_display": true,
   "toc_window_display": true
  }
 },
 "nbformat": 4,
 "nbformat_minor": 5
}
