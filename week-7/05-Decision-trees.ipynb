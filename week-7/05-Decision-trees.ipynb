{
 "cells": [
  {
   "cell_type": "markdown",
   "metadata": {
    "lang": "en"
   },
   "source": [
    "# Decision trees"
   ]
  },
  {
   "cell_type": "markdown",
   "metadata": {},
   "source": [
    "![tree](https://media.giphy.com/media/G7S0Fek06CZfW/giphy.gif)"
   ]
  },
  {
   "cell_type": "markdown",
   "metadata": {
    "toc": true
   },
   "source": [
    "<h1>Table of Contents<span class=\"tocSkip\"></span></h1>\n",
    "<div class=\"toc\"><ul class=\"toc-item\"><li><span><a href=\"#Types-of-machine-learning-models\" data-toc-modified-id=\"Types-of-machine-learning-models-1\"><span class=\"toc-item-num\">1&nbsp;&nbsp;</span>Types of machine learning models</a></span></li><li><span><a href=\"#Intro\" data-toc-modified-id=\"Intro-2\"><span class=\"toc-item-num\">2&nbsp;&nbsp;</span>Intro</a></span></li><li><span><a href=\"#The-problem\" data-toc-modified-id=\"The-problem-3\"><span class=\"toc-item-num\">3&nbsp;&nbsp;</span>The problem</a></span><ul class=\"toc-item\"><li><span><a href=\"#Data-exploration\" data-toc-modified-id=\"Data-exploration-3.1\"><span class=\"toc-item-num\">3.1&nbsp;&nbsp;</span>Data exploration</a></span></li><li><span><a href=\"#My-quantitative-variable\" data-toc-modified-id=\"My-quantitative-variable-3.2\"><span class=\"toc-item-num\">3.2&nbsp;&nbsp;</span>My quantitative variable</a></span></li><li><span><a href=\"#My-qualitative-variable\" data-toc-modified-id=\"My-qualitative-variable-3.3\"><span class=\"toc-item-num\">3.3&nbsp;&nbsp;</span>My qualitative variable</a></span></li></ul></li><li><span><a href=\"#QUANTITATIVE:-how-much-alcohol?\" data-toc-modified-id=\"QUANTITATIVE:-how-much-alcohol?-4\"><span class=\"toc-item-num\">4&nbsp;&nbsp;</span>QUANTITATIVE: how much alcohol?</a></span><ul class=\"toc-item\"><li><span><a href=\"#QUANTITATIVE:-DecisionTreeRegressor-(alcohol)\" data-toc-modified-id=\"QUANTITATIVE:-DecisionTreeRegressor-(alcohol)-4.1\"><span class=\"toc-item-num\">4.1&nbsp;&nbsp;</span>QUANTITATIVE: DecisionTreeRegressor (alcohol)</a></span></li><li><span><a href=\"#QUANTITATIVE:-RandomForestRegressor-(alcohol)\" data-toc-modified-id=\"QUANTITATIVE:-RandomForestRegressor-(alcohol)-4.2\"><span class=\"toc-item-num\">4.2&nbsp;&nbsp;</span>QUANTITATIVE: RandomForestRegressor (alcohol)</a></span></li></ul></li><li><span><a href=\"#QUALITATIVE:-what-number-(of-quality)?\" data-toc-modified-id=\"QUALITATIVE:-what-number-(of-quality)?-5\"><span class=\"toc-item-num\">5&nbsp;&nbsp;</span>QUALITATIVE: what number (of quality)?</a></span><ul class=\"toc-item\"><li><span><a href=\"#QUALITATIVE:-DecisionTreeClassifier-(quality)\" data-toc-modified-id=\"QUALITATIVE:-DecisionTreeClassifier-(quality)-5.1\"><span class=\"toc-item-num\">5.1&nbsp;&nbsp;</span>QUALITATIVE: DecisionTreeClassifier (quality)</a></span></li><li><span><a href=\"#QUALITATIVE:-RandomForestClassifier-(quality)\" data-toc-modified-id=\"QUALITATIVE:-RandomForestClassifier-(quality)-5.2\"><span class=\"toc-item-num\">5.2&nbsp;&nbsp;</span>QUALITATIVE: RandomForestClassifier (quality)</a></span><ul class=\"toc-item\"><li><span><a href=\"#Mini-checkpoint\" data-toc-modified-id=\"Mini-checkpoint-5.2.1\"><span class=\"toc-item-num\">5.2.1&nbsp;&nbsp;</span>Mini-checkpoint</a></span></li></ul></li></ul></li><li><span><a href=\"#More-depth-to-get-a-better-accuracy?\" data-toc-modified-id=\"More-depth-to-get-a-better-accuracy?-6\"><span class=\"toc-item-num\">6&nbsp;&nbsp;</span>More depth to get a better accuracy?</a></span></li><li><span><a href=\"#What-happened?\" data-toc-modified-id=\"What-happened?-7\"><span class=\"toc-item-num\">7&nbsp;&nbsp;</span>What happened?</a></span><ul class=\"toc-item\"><li><span><a href=\"#Overfitting:-let's-try-different-depths\" data-toc-modified-id=\"Overfitting:-let's-try-different-depths-7.1\"><span class=\"toc-item-num\">7.1&nbsp;&nbsp;</span>Overfitting: let's try different depths</a></span></li></ul></li><li><span><a href=\"#Bagging\" data-toc-modified-id=\"Bagging-8\"><span class=\"toc-item-num\">8&nbsp;&nbsp;</span>Bagging</a></span></li><li><span><a href=\"#Machine-Learning-algorithms-in-sklearn\" data-toc-modified-id=\"Machine-Learning-algorithms-in-sklearn-9\"><span class=\"toc-item-num\">9&nbsp;&nbsp;</span>Machine Learning algorithms in sklearn</a></span></li><li><span><a href=\"#Other-libraries-to-do-ML\" data-toc-modified-id=\"Other-libraries-to-do-ML-10\"><span class=\"toc-item-num\">10&nbsp;&nbsp;</span>Other libraries to do ML</a></span></li><li><span><a href=\"#Summary\" data-toc-modified-id=\"Summary-11\"><span class=\"toc-item-num\">11&nbsp;&nbsp;</span>Summary</a></span></li></ul></div>"
   ]
  },
  {
   "cell_type": "markdown",
   "metadata": {
    "lang": "en"
   },
   "source": [
    "## Types of machine learning models"
   ]
  },
  {
   "cell_type": "markdown",
   "metadata": {
    "lang": "en"
   },
   "source": [
    "* **1. Decision Trees**: A decision tree is a decision support tool that uses a graph or model similar to a decision tree and its possible consequences, including the outcomes of chance events, the costs of resources and utility. They look like this:\n",
    "![image](https://miro.medium.com/max/1200/0*YEwFetXQGPB8aDFV)\n",
    "\n",
    "\n",
    "From the standpoint of business decision making, a decision tree is the minimum number of yes/no questions one has to ask, to assess the probability of making a correct decision, most of the time. This method allows you to approach the problem in a structured and systematic way to reach a logical conclusion.\n",
    "\n",
    "* **2. Naïve Bayes Classification**: Naïve Bayes classifiers are a family of simple probabilistic classifiers based on the application of Bayes 'theorem with strong (Naïve) assumptions of independence between features'. The featured image is the equation – with P(A undefined B) is posterior probability, P(B undefined A) is probability, P(A) is class prior probability, and P(B) predictor prior probability.\n",
    "\n",
    "![Naïve Bayes Classification](https://miro.medium.com/max/1200/1*Qqc0LLHonDhThUeYPGND0Q.png)\n",
    "\n",
    "* **3. Ordinary Least Squares Regression**: If you've been around statistics, you've probably heard of linear regression before. Ordinary Least Squares Regression is a method for performing linear regression. Linear regression can be thought of as the task of fitting a straight line through a set of points. There are several possible strategies for doing this, and the \"ordinary least squares\" strategy goes like this: you can draw a line and then, for each of the data points, measure the vertical distance between the point and the line and add them together; The adjusted line would be the one in which this sum of distances is as small as possible.\n",
    "![regression](https://www.raona.com/wp-content/uploads/2017/05/3.png)\n",
    "\n",
    "Linear refers to the type of model you are using to fit the data, while least squares refers to the type of error metric you are minimizing.\n",
    "\n",
    "* **4. Logistic Regression**: Logistic regression is a powerful statistical way to model a binomial outcome with one or more explanatory variables. It measures the relationship between the categorical dependent variable and one or more independent variables by estimating the probabilities using a logistic function, which is the cumulative logistic distribution.\n",
    "\n",
    "![logistics](https://www.raona.com/wp-content/uploads/2017/05/4.png)\n",
    "\n",
    "* **5. Support Vector Machines**: SVM is a binary classification algorithm. Given a set of points of 2 types at the N-dimensional locus, SVM generates an (N – 1) dimensional hyperlane to separate those points into 2 groups. Let's say you have some points of 2 types on a piece of paper that are linearly separable. SVM will find a straight line separating those points into 2 types and located as far as possible from all those points.\n",
    "![svm](https://www.raona.com/wp-content/uploads/2017/05/5.png)\n",
    "\n",
    "In terms of scale, some of the biggest problems that have been solved using SVMs (with appropriately modified implementations) are display advertising, human splice site recognition, image-based gender detection, large-scale image classification.\n",
    "\n",
    "* **6. Ensemble** methods: Ensemble methods are learning algorithms that build a set of classifiers and then classify new data points by taking a weighted vote on their predictions. The original ensemble method is Bayesian averaging, but newer algorithms include output error correction coding."
   ]
  },
  {
   "cell_type": "code",
   "execution_count": 396,
   "metadata": {},
   "outputs": [],
   "source": [
    "import pandas as pd\n",
    "import numpy as np\n",
    "from matplotlib import pyplot as plt\n",
    "%matplotlib inline\n",
    "%config Inlinebackend.figure_format = 'retina'\n",
    "\n",
    "import seaborn as sns\n",
    "sns.set_context('poster')\n",
    "sns.set(rc={'figure.figsize': (16., 9.)})\n",
    "sns.set_style('whitegrid')\n",
    "\n",
    "\n",
    "from sklearn.model_selection import train_test_split\n",
    "from sklearn import metrics\n",
    "from sklearn import tree\n",
    "from sklearn.tree import export_graphviz"
   ]
  },
  {
   "cell_type": "markdown",
   "metadata": {},
   "source": [
    "## Intro"
   ]
  },
  {
   "cell_type": "markdown",
   "metadata": {
    "lang": "en"
   },
   "source": [
    "A decision tree tries to predict the target variable using logic like the following."
   ]
  },
  {
   "cell_type": "markdown",
   "metadata": {},
   "source": [
    "![](../images/dig10.png)"
   ]
  },
  {
   "cell_type": "markdown",
   "metadata": {},
   "source": [
    "[Docs](https://scikit-learn.org/stable/auto_examples/tree/plot_unveil_tree_structure.html)"
   ]
  },
  {
   "cell_type": "markdown",
   "metadata": {},
   "source": [
    "- Root node\n",
    "- Branches\n",
    "- Leaf nodes"
   ]
  },
  {
   "cell_type": "markdown",
   "metadata": {},
   "source": [
    "![Image by Shubham from HackerEarth](https://miro.medium.com/max/1200/0*lGdmveHcvsKYGWrU.gif)"
   ]
  },
  {
   "cell_type": "markdown",
   "metadata": {},
   "source": [
    "On a X/Y axis:"
   ]
  },
  {
   "attachments": {
    "image.png": {
     "image/png": "[encoded data removed]"
    }
   },
   "cell_type": "markdown",
   "metadata": {},
   "source": [
    "![image.png](attachment:image.png)"
   ]
  },
  {
   "cell_type": "markdown",
   "metadata": {
    "lang": "en"
   },
   "source": [
    "Decision Trees:\n",
    " * are used **both** for classification (Fit/Unfit example above) and for regression\n",
    " * involve stratifying (segmenting) the predictor space...\n",
    " * does this iteratively\n",
    " * get this name because the division rules can be summarized in a tree\n",
    " \n",
    "Decision Trees:\n",
    " * are simple\n",
    " * are useful for interpretation\n",
    " * are not very strong predictors but... (well, compared to linear regression, obviously yes)\n",
    " * lead to more complex models, such as Random Forest or Gradient Boosted Trees algorithms"
   ]
  },
  {
   "cell_type": "markdown",
   "metadata": {
    "lang": "en"
   },
   "source": [
    "## The problem"
   ]
  },
  {
   "cell_type": "markdown",
   "metadata": {
    "lang": "en"
   },
   "source": [
    "Today we are going to use a data set of **white wine**.\n",
    "Experts have rated several wines, whose physical properties are also indicated"
   ]
  },
  {
   "cell_type": "code",
   "execution_count": 397,
   "metadata": {},
   "outputs": [],
   "source": []
  },
  {
   "cell_type": "markdown",
   "metadata": {},
   "source": [
    "### Data exploration"
   ]
  },
  {
   "cell_type": "code",
   "execution_count": null,
   "metadata": {},
   "outputs": [],
   "source": []
  },
  {
   "cell_type": "markdown",
   "metadata": {
    "lang": "en"
   },
   "source": [
    "We want:\n",
    " * build two **supervised** learning models:\n",
    "     * **regression** model: predict quantity of alcohol\n",
    "     * **classification** model: that tries to predict the \"quality\" of the wine from its physical properties (so that we no longer need expert advice)"
   ]
  },
  {
   "cell_type": "markdown",
   "metadata": {},
   "source": [
    "### My quantitative variable"
   ]
  },
  {
   "cell_type": "code",
   "execution_count": null,
   "metadata": {},
   "outputs": [],
   "source": []
  },
  {
   "cell_type": "markdown",
   "metadata": {},
   "source": [
    "### My qualitative variable"
   ]
  },
  {
   "cell_type": "code",
   "execution_count": null,
   "metadata": {},
   "outputs": [],
   "source": []
  },
  {
   "cell_type": "markdown",
   "metadata": {
    "lang": "en"
   },
   "source": [
    "## QUANTITATIVE: how much alcohol?"
   ]
  },
  {
   "cell_type": "code",
   "execution_count": null,
   "metadata": {},
   "outputs": [],
   "source": []
  },
  {
   "cell_type": "markdown",
   "metadata": {},
   "source": [
    "### QUANTITATIVE: DecisionTreeRegressor (alcohol)"
   ]
  },
  {
   "cell_type": "code",
   "execution_count": 416,
   "metadata": {},
   "outputs": [],
   "source": [
    "from sklearn.tree import DecisionTreeRegressor"
   ]
  },
  {
   "cell_type": "code",
   "execution_count": null,
   "metadata": {},
   "outputs": [],
   "source": []
  },
  {
   "cell_type": "markdown",
   "metadata": {},
   "source": [
    "### QUANTITATIVE: RandomForestRegressor (alcohol)"
   ]
  },
  {
   "cell_type": "code",
   "execution_count": 504,
   "metadata": {},
   "outputs": [],
   "source": [
    "from sklearn.ensemble import RandomForestRegressor"
   ]
  },
  {
   "cell_type": "code",
   "execution_count": null,
   "metadata": {},
   "outputs": [],
   "source": []
  },
  {
   "cell_type": "markdown",
   "metadata": {},
   "source": [
    "## QUALITATIVE: what number (of quality)?"
   ]
  },
  {
   "cell_type": "code",
   "execution_count": 520,
   "metadata": {},
   "outputs": [],
   "source": [
    "from sklearn.metrics import accuracy_score, precision_score, recall_score, f1_score, fbeta_score, confusion_matrix"
   ]
  },
  {
   "cell_type": "code",
   "execution_count": null,
   "metadata": {},
   "outputs": [],
   "source": []
  },
  {
   "cell_type": "markdown",
   "metadata": {},
   "source": [
    "### QUALITATIVE: DecisionTreeClassifier (quality) "
   ]
  },
  {
   "cell_type": "code",
   "execution_count": 525,
   "metadata": {},
   "outputs": [],
   "source": [
    "from sklearn.tree import DecisionTreeClassifier"
   ]
  },
  {
   "cell_type": "code",
   "execution_count": null,
   "metadata": {},
   "outputs": [],
   "source": []
  },
  {
   "cell_type": "markdown",
   "metadata": {},
   "source": [
    "### QUALITATIVE: RandomForestClassifier (quality)"
   ]
  },
  {
   "cell_type": "code",
   "execution_count": 550,
   "metadata": {},
   "outputs": [],
   "source": [
    "from sklearn.ensemble import RandomForestClassifier"
   ]
  },
  {
   "cell_type": "code",
   "execution_count": null,
   "metadata": {},
   "outputs": [],
   "source": []
  },
  {
   "cell_type": "markdown",
   "metadata": {},
   "source": [
    "## More depth to get a better accuracy?"
   ]
  },
  {
   "cell_type": "code",
   "execution_count": 583,
   "metadata": {},
   "outputs": [
    {
     "data": {
      "image/png": "[encoded data removed]",
      "text/plain": [
       "<Figure size 1152x648 with 1 Axes>"
      ]
     },
     "metadata": {},
     "output_type": "display_data"
    }
   ],
   "source": [
    "# Import the necessary modules and libraries\n",
    "import numpy as np\n",
    "from sklearn.tree import DecisionTreeRegressor\n",
    "import matplotlib.pyplot as plt\n",
    "\n",
    "# Create a random dataset\n",
    "rng = np.random.RandomState(1)\n",
    "X = np.sort(5 * rng.rand(80, 1), axis=0)\n",
    "y = np.sin(X).ravel()\n",
    "y[::5] += 3 * (0.5 - rng.rand(16))\n",
    "\n",
    "# Fit regression model\n",
    "regr_1 = DecisionTreeRegressor(max_depth=2)\n",
    "regr_2 = DecisionTreeRegressor(max_depth=5)\n",
    "regr_1.fit(X, y)\n",
    "regr_2.fit(X, y)\n",
    "\n",
    "# Predict\n",
    "X_test = np.arange(0.0, 5.0, 0.01)[:, np.newaxis]\n",
    "y_1 = regr_1.predict(X_test)\n",
    "y_2 = regr_2.predict(X_test)\n",
    "\n",
    "# Plot the results\n",
    "plt.figure()\n",
    "plt.scatter(X, y, s=20, edgecolor=\"black\", c=\"darkorange\", label=\"data\")\n",
    "plt.plot(X_test, y_1, color=\"cornflowerblue\", label=\"max_depth=2\", linewidth=2)\n",
    "plt.plot(X_test, y_2, color=\"yellowgreen\", label=\"max_depth=5\", linewidth=2)\n",
    "plt.xlabel(\"data\")\n",
    "plt.ylabel(\"target\")\n",
    "plt.title(\"Decision Tree Regression\")\n",
    "plt.legend()\n",
    "plt.show()"
   ]
  },
  {
   "cell_type": "markdown",
   "metadata": {},
   "source": [
    "![overfiting](https://media.makeameme.org/created/you-are-overfitting.jpg)"
   ]
  },
  {
   "cell_type": "markdown",
   "metadata": {
    "lang": "en"
   },
   "source": [
    "## What happened?"
   ]
  },
  {
   "cell_type": "markdown",
   "metadata": {},
   "source": [
    "### Overfitting: let's try different depths"
   ]
  },
  {
   "cell_type": "code",
   "execution_count": null,
   "metadata": {},
   "outputs": [],
   "source": []
  },
  {
   "cell_type": "markdown",
   "metadata": {
    "lang": "en"
   },
   "source": [
    "We can see how, when `max_depth` increases above ~8:\n",
    " *training error decreases (more accurate on training samples)* test error increases (the model memorizes the training set and does not generalize very well)"
   ]
  },
  {
   "cell_type": "markdown",
   "metadata": {
    "lang": "en"
   },
   "source": [
    "This is the famous overfitting! And that is why the **test error** is the one to look at! (and that is why in class I practically do not mention the test error, although you see it in the labs)"
   ]
  },
  {
   "cell_type": "code",
   "execution_count": null,
   "metadata": {},
   "outputs": [],
   "source": []
  },
  {
   "cell_type": "markdown",
   "metadata": {
    "lang": "en"
   },
   "source": [
    "## Bagging\n",
    "\n",
    "Bagging (Bootstrap Aggregation) is a Machine Learning tool used to:\n",
    " *improve the stability of an algorithm (robust against small changes in the data)* reduce overfitting\n",
    " \n",
    "It consists of, given an original $D$ dataset:\n",
    " 1. build different $D_i$ datasets from $D$, extracting samples with replacement (bootstraping)\n",
    " 2. and build a model for each $D_i$ dataset\n",
    " 3. to finally average the predictions in the testing phase (aggregation)"
   ]
  },
  {
   "cell_type": "markdown",
   "metadata": {},
   "source": [
    "\n",
    "<img width=600 src=\"https://upload.wikimedia.org/wikipedia/commons/thumb/c/c8/Ensemble_Bagging.svg/440px-Ensemble_Bagging.svg.png\">"
   ]
  },
  {
   "cell_type": "markdown",
   "metadata": {},
   "source": [
    "That's how random forest works!"
   ]
  },
  {
   "cell_type": "markdown",
   "metadata": {
    "lang": "en"
   },
   "source": [
    "## Machine Learning algorithms in sklearn"
   ]
  },
  {
   "cell_type": "markdown",
   "metadata": {
    "lang": "en"
   },
   "source": [
    "Often the hardest part of solving a machine learning problem can be finding the right estimator for the job.\n",
    "\n",
    "Different estimators are better suited for different types of data and different problems.\n",
    "\n",
    "The following flowchart is designed to give users a rough guide on how to approach issues regarding the estimators that need to be tested on the data.\n",
    "\n",
    "They have this info on their own page so I refer you directly to the [documentation](https://scikit-learn.org/stable/tutorial/machine_learning_map/index.html)\n",
    "![SKLEARN](https://scikit-learn.org/stable/_static/ml_map.png)"
   ]
  },
  {
   "cell_type": "markdown",
   "metadata": {
    "lang": "en"
   },
   "source": [
    "## Other libraries to do ML\n",
    "- https://xgboost.readthedocs.io/en/stable/tutorials/model.html\n",
    "- https://docs.h2o.ai/h2o/latest-stable/h2o-py/docs/model_categories.html"
   ]
  },
  {
   "cell_type": "markdown",
   "metadata": {
    "lang": "en"
   },
   "source": [
    "## Summary\n",
    "It's your turn, what have we learned today?\n",
    "\n"
   ]
  },
  {
   "cell_type": "code",
   "execution_count": null,
   "metadata": {},
   "outputs": [],
   "source": []
  }
 ],
 "metadata": {
  "kernelspec": {
   "display_name": "ironhack",
   "language": "python",
   "name": "ironhack"
  },
  "language_info": {
   "codemirror_mode": {
    "name": "ipython",
    "version": 3
   },
   "file_extension": ".py",
   "mimetype": "text/x-python",
   "name": "python",
   "nbconvert_exporter": "python",
   "pygments_lexer": "ipython3",
   "version": "3.8.13"
  },
  "nbTranslate": {
   "displayLangs": [
    "en",
    "es"
   ],
   "hotkey": "alt-a",
   "langInMainMenu": true,
   "sourceLang": "es",
   "targetLang": "en",
   "useGoogleTranslate": true
  },
  "toc": {
   "base_numbering": 1,
   "nav_menu": {},
   "number_sections": true,
   "sideBar": true,
   "skip_h1_title": true,
   "title_cell": "Table of Contents",
   "title_sidebar": "Contents",
   "toc_cell": true,
   "toc_position": {
    "height": "calc(100% - 180px)",
    "left": "10px",
    "top": "150px",
    "width": "165px"
   },
   "toc_section_display": true,
   "toc_window_display": false
  },
  "varInspector": {
   "cols": {
    "lenName": 16,
    "lenType": 16,
    "lenVar": 40
   },
   "kernels_config": {
    "python": {
     "delete_cmd_postfix": "",
     "delete_cmd_prefix": "del ",
     "library": "var_list.py",
     "varRefreshCmd": "print(var_dic_list())"
    },
    "r": {
     "delete_cmd_postfix": ") ",
     "delete_cmd_prefix": "rm(",
     "library": "var_list.r",
     "varRefreshCmd": "cat(var_dic_list()) "
    }
   },
   "types_to_exclude": [
    "module",
    "function",
    "builtin_function_or_method",
    "instance",
    "_Feature"
   ],
   "window_display": false
  }
 },
 "nbformat": 4,
 "nbformat_minor": 4
}
