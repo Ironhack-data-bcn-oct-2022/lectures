{
 "cells": [
  {
   "cell_type": "markdown",
   "id": "dying-schema",
   "metadata": {},
   "source": [
    " # Hyperparameter Tuning - Feature engineering "
   ]
  },
  {
   "cell_type": "markdown",
   "id": "noticed-christian",
   "metadata": {},
   "source": [
    "![nohayjupytersingif](https://media.giphy.com/media/jeDM590qtCP9C/giphy.gif)"
   ]
  },
  {
   "cell_type": "markdown",
   "id": "excited-stack",
   "metadata": {
    "toc": true
   },
   "source": [
    "<h1>Table of Contents<span class=\"tocSkip\"></span></h1>\n",
    "<div class=\"toc\"><ul class=\"toc-item\"><li><span><a href=\"#Feature-engineering\" data-toc-modified-id=\"Feature-engineering-1\"><span class=\"toc-item-num\">1&nbsp;&nbsp;</span>Feature engineering</a></span></li><li><span><a href=\"#Small-exploration-of-the-data\" data-toc-modified-id=\"Small-exploration-of-the-data-2\"><span class=\"toc-item-num\">2&nbsp;&nbsp;</span>Small exploration of the data</a></span><ul class=\"toc-item\"><li><span><a href=\"#We-look-at-the-&quot;Cabin&quot;-feature\" data-toc-modified-id=\"We-look-at-the-&quot;Cabin&quot;-feature-2.1\"><span class=\"toc-item-num\">2.1&nbsp;&nbsp;</span>We look at the \"Cabin\" feature</a></span></li><li><span><a href=\"#We-analyze-the-names-of-the-passengers\" data-toc-modified-id=\"We-analyze-the-names-of-the-passengers-2.2\"><span class=\"toc-item-num\">2.2&nbsp;&nbsp;</span>We analyze the names of the passengers</a></span></li><li><span><a href=\"#In-order-not-to-have-many-categories-with-the-titles,-we-are-going-to-keep-those-that-have-more-than-7\" data-toc-modified-id=\"In-order-not-to-have-many-categories-with-the-titles,-we-are-going-to-keep-those-that-have-more-than-7-2.3\"><span class=\"toc-item-num\">2.3&nbsp;&nbsp;</span>In order not to have many categories with the titles, we are going to keep those that have more than 7</a></span></li></ul></li><li><span><a href=\"#Categorical-encoding\" data-toc-modified-id=\"Categorical-encoding-3\"><span class=\"toc-item-num\">3&nbsp;&nbsp;</span>Categorical encoding</a></span><ul class=\"toc-item\"><li><span><a href=\"#Label-Encoder\" data-toc-modified-id=\"Label-Encoder-3.1\"><span class=\"toc-item-num\">3.1&nbsp;&nbsp;</span>Label Encoder</a></span></li><li><span><a href=\"#One-Hot-Encoder\" data-toc-modified-id=\"One-Hot-Encoder-3.2\"><span class=\"toc-item-num\">3.2&nbsp;&nbsp;</span>One Hot Encoder</a></span></li><li><span><a href=\"#By-hand-with-a-dictionary-💡\" data-toc-modified-id=\"By-hand-with-a-dictionary-💡-3.3\"><span class=\"toc-item-num\">3.3&nbsp;&nbsp;</span>By hand with a dictionary 💡</a></span></li></ul></li><li><span><a href=\"#Feature-Scaling\" data-toc-modified-id=\"Feature-Scaling-4\"><span class=\"toc-item-num\">4&nbsp;&nbsp;</span>Feature Scaling</a></span><ul class=\"toc-item\"><li><span><a href=\"#Standardization\" data-toc-modified-id=\"Standardization-4.1\"><span class=\"toc-item-num\">4.1&nbsp;&nbsp;</span>Standardization</a></span></li><li><span><a href=\"#Normalization\" data-toc-modified-id=\"Normalization-4.2\"><span class=\"toc-item-num\">4.2&nbsp;&nbsp;</span>Normalization</a></span></li><li><span><a href=\"#I-quote-Andriy-Burkov:\" data-toc-modified-id=\"I-quote-Andriy-Burkov:-4.3\"><span class=\"toc-item-num\">4.3&nbsp;&nbsp;</span>I quote Andriy Burkov:</a></span></li></ul></li><li><span><a href=\"#Let's-review:-Train-Test-Split\" data-toc-modified-id=\"Let's-review:-Train-Test-Split-5\"><span class=\"toc-item-num\">5&nbsp;&nbsp;</span>Let's review: Train-Test Split</a></span></li><li><span><a href=\"#Hyperparameter-Tuning\" data-toc-modified-id=\"Hyperparameter-Tuning-6\"><span class=\"toc-item-num\">6&nbsp;&nbsp;</span>Hyperparameter Tuning</a></span><ul class=\"toc-item\"><li><span><a href=\"#--Random-sampling\" data-toc-modified-id=\"--Random-sampling-6.1\"><span class=\"toc-item-num\">6.1&nbsp;&nbsp;</span>- Random sampling</a></span></li><li><span><a href=\"#--Grid-Sampling\" data-toc-modified-id=\"--Grid-Sampling-6.2\"><span class=\"toc-item-num\">6.2&nbsp;&nbsp;</span>- Grid Sampling</a></span></li><li><span><a href=\"#--Bayesian-sampling\" data-toc-modified-id=\"--Bayesian-sampling-6.3\"><span class=\"toc-item-num\">6.3&nbsp;&nbsp;</span>- Bayesian sampling</a></span></li><li><span><a href=\"#GridSearchCV-by-sklearn,-say-hello-to-your-new-friend!\" data-toc-modified-id=\"GridSearchCV-by-sklearn,-say-hello-to-your-new-friend!-6.4\"><span class=\"toc-item-num\">6.4&nbsp;&nbsp;</span>GridSearchCV by sklearn, say hello to your new friend!</a></span></li><li><span><a href=\"#We-would-train-the-model-with-the-best-parameters\" data-toc-modified-id=\"We-would-train-the-model-with-the-best-parameters-6.5\"><span class=\"toc-item-num\">6.5&nbsp;&nbsp;</span>We would train the model with the best parameters</a></span></li></ul></li><li><span><a href=\"#Save-/-Export-the-model\" data-toc-modified-id=\"Save-/-Export-the-model-7\"><span class=\"toc-item-num\">7&nbsp;&nbsp;</span>Save / Export the model</a></span></li></ul></div>"
   ]
  },
  {
   "cell_type": "markdown",
   "id": "0d6e4de2",
   "metadata": {
    "lang": "en"
   },
   "source": [
    "## Feature engineering\n",
    "It is the process of using domain knowledge to extract features from raw data. These features can be used to improve the performance of machine learning algorithms. Feature engineering can be thought of as applied machine learning itself"
   ]
  },
  {
   "cell_type": "code",
   "execution_count": 1,
   "id": "split-worry",
   "metadata": {},
   "outputs": [],
   "source": [
    "import pandas as pd"
   ]
  },
  {
   "cell_type": "code",
   "execution_count": 2,
   "id": "7d399878",
   "metadata": {},
   "outputs": [],
   "source": [
    "data = pd.read_csv(\"../datasets/titanic.csv\")"
   ]
  },
  {
   "cell_type": "markdown",
   "id": "318a941a",
   "metadata": {
    "lang": "en"
   },
   "source": [
    "## Small exploration of the data"
   ]
  },
  {
   "cell_type": "code",
   "execution_count": 3,
   "id": "a0acc2fa",
   "metadata": {},
   "outputs": [
    {
     "data": {
      "text/html": [
       "<div>\n",
       "<style scoped>\n",
       "    .dataframe tbody tr th:only-of-type {\n",
       "        vertical-align: middle;\n",
       "    }\n",
       "\n",
       "    .dataframe tbody tr th {\n",
       "        vertical-align: top;\n",
       "    }\n",
       "\n",
       "    .dataframe thead th {\n",
       "        text-align: right;\n",
       "    }\n",
       "</style>\n",
       "<table border=\"1\" class=\"dataframe\">\n",
       "  <thead>\n",
       "    <tr style=\"text-align: right;\">\n",
       "      <th></th>\n",
       "      <th>Survived</th>\n",
       "      <th>Pclass</th>\n",
       "      <th>Name</th>\n",
       "      <th>Sex</th>\n",
       "      <th>Age</th>\n",
       "      <th>SibSp</th>\n",
       "      <th>Parch</th>\n",
       "      <th>Ticket</th>\n",
       "      <th>Fare</th>\n",
       "      <th>Cabin</th>\n",
       "      <th>Embarked</th>\n",
       "    </tr>\n",
       "  </thead>\n",
       "  <tbody>\n",
       "    <tr>\n",
       "      <th>0</th>\n",
       "      <td>0</td>\n",
       "      <td>3</td>\n",
       "      <td>Braund, Mr. Owen Harris</td>\n",
       "      <td>male</td>\n",
       "      <td>22.0</td>\n",
       "      <td>1</td>\n",
       "      <td>0</td>\n",
       "      <td>A/5 21171</td>\n",
       "      <td>7.2500</td>\n",
       "      <td>NaN</td>\n",
       "      <td>S</td>\n",
       "    </tr>\n",
       "    <tr>\n",
       "      <th>1</th>\n",
       "      <td>1</td>\n",
       "      <td>1</td>\n",
       "      <td>Cumings, Mrs. John Bradley (Florence Briggs Th...</td>\n",
       "      <td>female</td>\n",
       "      <td>38.0</td>\n",
       "      <td>1</td>\n",
       "      <td>0</td>\n",
       "      <td>PC 17599</td>\n",
       "      <td>71.2833</td>\n",
       "      <td>C85</td>\n",
       "      <td>C</td>\n",
       "    </tr>\n",
       "    <tr>\n",
       "      <th>2</th>\n",
       "      <td>1</td>\n",
       "      <td>3</td>\n",
       "      <td>Heikkinen, Miss. Laina</td>\n",
       "      <td>female</td>\n",
       "      <td>26.0</td>\n",
       "      <td>0</td>\n",
       "      <td>0</td>\n",
       "      <td>STON/O2. 3101282</td>\n",
       "      <td>7.9250</td>\n",
       "      <td>NaN</td>\n",
       "      <td>S</td>\n",
       "    </tr>\n",
       "    <tr>\n",
       "      <th>3</th>\n",
       "      <td>1</td>\n",
       "      <td>1</td>\n",
       "      <td>Futrelle, Mrs. Jacques Heath (Lily May Peel)</td>\n",
       "      <td>female</td>\n",
       "      <td>35.0</td>\n",
       "      <td>1</td>\n",
       "      <td>0</td>\n",
       "      <td>113803</td>\n",
       "      <td>53.1000</td>\n",
       "      <td>C123</td>\n",
       "      <td>S</td>\n",
       "    </tr>\n",
       "    <tr>\n",
       "      <th>4</th>\n",
       "      <td>0</td>\n",
       "      <td>3</td>\n",
       "      <td>Allen, Mr. William Henry</td>\n",
       "      <td>male</td>\n",
       "      <td>35.0</td>\n",
       "      <td>0</td>\n",
       "      <td>0</td>\n",
       "      <td>373450</td>\n",
       "      <td>8.0500</td>\n",
       "      <td>NaN</td>\n",
       "      <td>S</td>\n",
       "    </tr>\n",
       "    <tr>\n",
       "      <th>...</th>\n",
       "      <td>...</td>\n",
       "      <td>...</td>\n",
       "      <td>...</td>\n",
       "      <td>...</td>\n",
       "      <td>...</td>\n",
       "      <td>...</td>\n",
       "      <td>...</td>\n",
       "      <td>...</td>\n",
       "      <td>...</td>\n",
       "      <td>...</td>\n",
       "      <td>...</td>\n",
       "    </tr>\n",
       "    <tr>\n",
       "      <th>886</th>\n",
       "      <td>0</td>\n",
       "      <td>2</td>\n",
       "      <td>Montvila, Rev. Juozas</td>\n",
       "      <td>male</td>\n",
       "      <td>27.0</td>\n",
       "      <td>0</td>\n",
       "      <td>0</td>\n",
       "      <td>211536</td>\n",
       "      <td>13.0000</td>\n",
       "      <td>NaN</td>\n",
       "      <td>S</td>\n",
       "    </tr>\n",
       "    <tr>\n",
       "      <th>887</th>\n",
       "      <td>1</td>\n",
       "      <td>1</td>\n",
       "      <td>Graham, Miss. Margaret Edith</td>\n",
       "      <td>female</td>\n",
       "      <td>19.0</td>\n",
       "      <td>0</td>\n",
       "      <td>0</td>\n",
       "      <td>112053</td>\n",
       "      <td>30.0000</td>\n",
       "      <td>B42</td>\n",
       "      <td>S</td>\n",
       "    </tr>\n",
       "    <tr>\n",
       "      <th>888</th>\n",
       "      <td>0</td>\n",
       "      <td>3</td>\n",
       "      <td>Johnston, Miss. Catherine Helen \"Carrie\"</td>\n",
       "      <td>female</td>\n",
       "      <td>NaN</td>\n",
       "      <td>1</td>\n",
       "      <td>2</td>\n",
       "      <td>W./C. 6607</td>\n",
       "      <td>23.4500</td>\n",
       "      <td>NaN</td>\n",
       "      <td>S</td>\n",
       "    </tr>\n",
       "    <tr>\n",
       "      <th>889</th>\n",
       "      <td>1</td>\n",
       "      <td>1</td>\n",
       "      <td>Behr, Mr. Karl Howell</td>\n",
       "      <td>male</td>\n",
       "      <td>26.0</td>\n",
       "      <td>0</td>\n",
       "      <td>0</td>\n",
       "      <td>111369</td>\n",
       "      <td>30.0000</td>\n",
       "      <td>C148</td>\n",
       "      <td>C</td>\n",
       "    </tr>\n",
       "    <tr>\n",
       "      <th>890</th>\n",
       "      <td>0</td>\n",
       "      <td>3</td>\n",
       "      <td>Dooley, Mr. Patrick</td>\n",
       "      <td>male</td>\n",
       "      <td>32.0</td>\n",
       "      <td>0</td>\n",
       "      <td>0</td>\n",
       "      <td>370376</td>\n",
       "      <td>7.7500</td>\n",
       "      <td>NaN</td>\n",
       "      <td>Q</td>\n",
       "    </tr>\n",
       "  </tbody>\n",
       "</table>\n",
       "<p>891 rows × 11 columns</p>\n",
       "</div>"
      ],
      "text/plain": [
       "     Survived  Pclass                                               Name  \\\n",
       "0           0       3                            Braund, Mr. Owen Harris   \n",
       "1           1       1  Cumings, Mrs. John Bradley (Florence Briggs Th...   \n",
       "2           1       3                             Heikkinen, Miss. Laina   \n",
       "3           1       1       Futrelle, Mrs. Jacques Heath (Lily May Peel)   \n",
       "4           0       3                           Allen, Mr. William Henry   \n",
       "..        ...     ...                                                ...   \n",
       "886         0       2                              Montvila, Rev. Juozas   \n",
       "887         1       1                       Graham, Miss. Margaret Edith   \n",
       "888         0       3           Johnston, Miss. Catherine Helen \"Carrie\"   \n",
       "889         1       1                              Behr, Mr. Karl Howell   \n",
       "890         0       3                                Dooley, Mr. Patrick   \n",
       "\n",
       "        Sex   Age  SibSp  Parch            Ticket     Fare Cabin Embarked  \n",
       "0      male  22.0      1      0         A/5 21171   7.2500   NaN        S  \n",
       "1    female  38.0      1      0          PC 17599  71.2833   C85        C  \n",
       "2    female  26.0      0      0  STON/O2. 3101282   7.9250   NaN        S  \n",
       "3    female  35.0      1      0            113803  53.1000  C123        S  \n",
       "4      male  35.0      0      0            373450   8.0500   NaN        S  \n",
       "..      ...   ...    ...    ...               ...      ...   ...      ...  \n",
       "886    male  27.0      0      0            211536  13.0000   NaN        S  \n",
       "887  female  19.0      0      0            112053  30.0000   B42        S  \n",
       "888  female   NaN      1      2        W./C. 6607  23.4500   NaN        S  \n",
       "889    male  26.0      0      0            111369  30.0000  C148        C  \n",
       "890    male  32.0      0      0            370376   7.7500   NaN        Q  \n",
       "\n",
       "[891 rows x 11 columns]"
      ]
     },
     "execution_count": 3,
     "metadata": {},
     "output_type": "execute_result"
    }
   ],
   "source": [
    "data"
   ]
  },
  {
   "cell_type": "code",
   "execution_count": 4,
   "id": "e73d6f66",
   "metadata": {},
   "outputs": [
    {
     "name": "stdout",
     "output_type": "stream",
     "text": [
      "<class 'pandas.core.frame.DataFrame'>\n",
      "RangeIndex: 891 entries, 0 to 890\n",
      "Data columns (total 11 columns):\n",
      " #   Column    Non-Null Count  Dtype  \n",
      "---  ------    --------------  -----  \n",
      " 0   Survived  891 non-null    int64  \n",
      " 1   Pclass    891 non-null    int64  \n",
      " 2   Name      891 non-null    object \n",
      " 3   Sex       891 non-null    object \n",
      " 4   Age       714 non-null    float64\n",
      " 5   SibSp     891 non-null    int64  \n",
      " 6   Parch     891 non-null    int64  \n",
      " 7   Ticket    891 non-null    object \n",
      " 8   Fare      891 non-null    float64\n",
      " 9   Cabin     204 non-null    object \n",
      " 10  Embarked  889 non-null    object \n",
      "dtypes: float64(2), int64(4), object(5)\n",
      "memory usage: 76.7+ KB\n"
     ]
    }
   ],
   "source": [
    "data.info()"
   ]
  },
  {
   "cell_type": "code",
   "execution_count": 5,
   "id": "f2daa22e",
   "metadata": {},
   "outputs": [
    {
     "data": {
      "text/plain": [
       "Survived      int64\n",
       "Pclass        int64\n",
       "Name         object\n",
       "Sex          object\n",
       "Age         float64\n",
       "SibSp         int64\n",
       "Parch         int64\n",
       "Ticket       object\n",
       "Fare        float64\n",
       "Cabin        object\n",
       "Embarked     object\n",
       "dtype: object"
      ]
     },
     "execution_count": 5,
     "metadata": {},
     "output_type": "execute_result"
    }
   ],
   "source": [
    "data.dtypes"
   ]
  },
  {
   "cell_type": "code",
   "execution_count": 6,
   "id": "c9498deb",
   "metadata": {},
   "outputs": [
    {
     "data": {
      "text/html": [
       "<div>\n",
       "<style scoped>\n",
       "    .dataframe tbody tr th:only-of-type {\n",
       "        vertical-align: middle;\n",
       "    }\n",
       "\n",
       "    .dataframe tbody tr th {\n",
       "        vertical-align: top;\n",
       "    }\n",
       "\n",
       "    .dataframe thead th {\n",
       "        text-align: right;\n",
       "    }\n",
       "</style>\n",
       "<table border=\"1\" class=\"dataframe\">\n",
       "  <thead>\n",
       "    <tr style=\"text-align: right;\">\n",
       "      <th></th>\n",
       "      <th>Survived</th>\n",
       "      <th>Pclass</th>\n",
       "      <th>Age</th>\n",
       "      <th>SibSp</th>\n",
       "      <th>Parch</th>\n",
       "      <th>Fare</th>\n",
       "    </tr>\n",
       "  </thead>\n",
       "  <tbody>\n",
       "    <tr>\n",
       "      <th>count</th>\n",
       "      <td>891.000000</td>\n",
       "      <td>891.000000</td>\n",
       "      <td>714.000000</td>\n",
       "      <td>891.000000</td>\n",
       "      <td>891.000000</td>\n",
       "      <td>891.000000</td>\n",
       "    </tr>\n",
       "    <tr>\n",
       "      <th>mean</th>\n",
       "      <td>0.383838</td>\n",
       "      <td>2.308642</td>\n",
       "      <td>29.699118</td>\n",
       "      <td>0.523008</td>\n",
       "      <td>0.381594</td>\n",
       "      <td>32.204208</td>\n",
       "    </tr>\n",
       "    <tr>\n",
       "      <th>std</th>\n",
       "      <td>0.486592</td>\n",
       "      <td>0.836071</td>\n",
       "      <td>14.526497</td>\n",
       "      <td>1.102743</td>\n",
       "      <td>0.806057</td>\n",
       "      <td>49.693429</td>\n",
       "    </tr>\n",
       "    <tr>\n",
       "      <th>min</th>\n",
       "      <td>0.000000</td>\n",
       "      <td>1.000000</td>\n",
       "      <td>0.420000</td>\n",
       "      <td>0.000000</td>\n",
       "      <td>0.000000</td>\n",
       "      <td>0.000000</td>\n",
       "    </tr>\n",
       "    <tr>\n",
       "      <th>25%</th>\n",
       "      <td>0.000000</td>\n",
       "      <td>2.000000</td>\n",
       "      <td>20.125000</td>\n",
       "      <td>0.000000</td>\n",
       "      <td>0.000000</td>\n",
       "      <td>7.910400</td>\n",
       "    </tr>\n",
       "    <tr>\n",
       "      <th>50%</th>\n",
       "      <td>0.000000</td>\n",
       "      <td>3.000000</td>\n",
       "      <td>28.000000</td>\n",
       "      <td>0.000000</td>\n",
       "      <td>0.000000</td>\n",
       "      <td>14.454200</td>\n",
       "    </tr>\n",
       "    <tr>\n",
       "      <th>75%</th>\n",
       "      <td>1.000000</td>\n",
       "      <td>3.000000</td>\n",
       "      <td>38.000000</td>\n",
       "      <td>1.000000</td>\n",
       "      <td>0.000000</td>\n",
       "      <td>31.000000</td>\n",
       "    </tr>\n",
       "    <tr>\n",
       "      <th>max</th>\n",
       "      <td>1.000000</td>\n",
       "      <td>3.000000</td>\n",
       "      <td>80.000000</td>\n",
       "      <td>8.000000</td>\n",
       "      <td>6.000000</td>\n",
       "      <td>512.329200</td>\n",
       "    </tr>\n",
       "  </tbody>\n",
       "</table>\n",
       "</div>"
      ],
      "text/plain": [
       "         Survived      Pclass         Age       SibSp       Parch        Fare\n",
       "count  891.000000  891.000000  714.000000  891.000000  891.000000  891.000000\n",
       "mean     0.383838    2.308642   29.699118    0.523008    0.381594   32.204208\n",
       "std      0.486592    0.836071   14.526497    1.102743    0.806057   49.693429\n",
       "min      0.000000    1.000000    0.420000    0.000000    0.000000    0.000000\n",
       "25%      0.000000    2.000000   20.125000    0.000000    0.000000    7.910400\n",
       "50%      0.000000    3.000000   28.000000    0.000000    0.000000   14.454200\n",
       "75%      1.000000    3.000000   38.000000    1.000000    0.000000   31.000000\n",
       "max      1.000000    3.000000   80.000000    8.000000    6.000000  512.329200"
      ]
     },
     "execution_count": 6,
     "metadata": {},
     "output_type": "execute_result"
    }
   ],
   "source": [
    "data.describe()"
   ]
  },
  {
   "cell_type": "code",
   "execution_count": 7,
   "id": "f1c26951",
   "metadata": {},
   "outputs": [
    {
     "data": {
      "text/plain": [
       "Survived      0\n",
       "Pclass        0\n",
       "Name          0\n",
       "Sex           0\n",
       "Age         177\n",
       "SibSp         0\n",
       "Parch         0\n",
       "Ticket        0\n",
       "Fare          0\n",
       "Cabin       687\n",
       "Embarked      2\n",
       "dtype: int64"
      ]
     },
     "execution_count": 7,
     "metadata": {},
     "output_type": "execute_result"
    }
   ],
   "source": [
    "data.isna().sum() # Age, Cabin (and embarked)"
   ]
  },
  {
   "cell_type": "code",
   "execution_count": 8,
   "id": "17aa9583",
   "metadata": {
    "scrolled": true
   },
   "outputs": [
    {
     "data": {
      "text/plain": [
       "array(['S', 'C', 'Q', nan], dtype=object)"
      ]
     },
     "execution_count": 8,
     "metadata": {},
     "output_type": "execute_result"
    }
   ],
   "source": [
    "data.Embarked.unique() # Southampton, Cherbourg & Queenstown"
   ]
  },
  {
   "cell_type": "markdown",
   "id": "d162b1c5",
   "metadata": {
    "lang": "en"
   },
   "source": [
    "### We look at the \"Cabin\" feature"
   ]
  },
  {
   "cell_type": "code",
   "execution_count": 9,
   "id": "dc5710c3",
   "metadata": {},
   "outputs": [
    {
     "data": {
      "text/plain": [
       "array([nan, 'C85', 'C123', 'E46', 'G6', 'C103', 'D56', 'A6',\n",
       "       'C23 C25 C27', 'B78', 'D33', 'B30', 'C52', 'B28', 'C83', 'F33',\n",
       "       'F G73', 'E31', 'A5', 'D10 D12', 'D26', 'C110', 'B58 B60', 'E101',\n",
       "       'F E69', 'D47', 'B86', 'F2', 'C2', 'E33', 'B19', 'A7', 'C49', 'F4',\n",
       "       'A32', 'B4', 'B80', 'A31', 'D36', 'D15', 'C93', 'C78', 'D35',\n",
       "       'C87', 'B77', 'E67', 'B94', 'C125', 'C99', 'C118', 'D7', 'A19',\n",
       "       'B49', 'D', 'C22 C26', 'C106', 'C65', 'E36', 'C54',\n",
       "       'B57 B59 B63 B66', 'C7', 'E34', 'C32', 'B18', 'C124', 'C91', 'E40',\n",
       "       'T', 'C128', 'D37', 'B35', 'E50', 'C82', 'B96 B98', 'E10', 'E44',\n",
       "       'A34', 'C104', 'C111', 'C92', 'E38', 'D21', 'E12', 'E63', 'A14',\n",
       "       'B37', 'C30', 'D20', 'B79', 'E25', 'D46', 'B73', 'C95', 'B38',\n",
       "       'B39', 'B22', 'C86', 'C70', 'A16', 'C101', 'C68', 'A10', 'E68',\n",
       "       'B41', 'A20', 'D19', 'D50', 'D9', 'A23', 'B50', 'A26', 'D48',\n",
       "       'E58', 'C126', 'B71', 'B51 B53 B55', 'D49', 'B5', 'B20', 'F G63',\n",
       "       'C62 C64', 'E24', 'C90', 'C45', 'E8', 'B101', 'D45', 'C46', 'D30',\n",
       "       'E121', 'D11', 'E77', 'F38', 'B3', 'D6', 'B82 B84', 'D17', 'A36',\n",
       "       'B102', 'B69', 'E49', 'C47', 'D28', 'E17', 'A24', 'C50', 'B42',\n",
       "       'C148'], dtype=object)"
      ]
     },
     "execution_count": 9,
     "metadata": {},
     "output_type": "execute_result"
    }
   ],
   "source": [
    "data.Cabin.unique()"
   ]
  },
  {
   "cell_type": "markdown",
   "id": "8c2b3096",
   "metadata": {
    "lang": "en"
   },
   "source": [
    "There are many missing values, but we must use the stateroom variable because it can be an important predictor. As you can see in the picture below, first class had cabins on deck A, B, or C, a mix was on deck D or E, and third class was mostly on f or g. We can identify the cover by the first letter."
   ]
  },
  {
   "cell_type": "markdown",
   "id": "cognitive-consent",
   "metadata": {},
   "source": [
    "![laimagendelbarco](../images/barco.png)"
   ]
  },
  {
   "cell_type": "code",
   "execution_count": 10,
   "id": "3945b4b9",
   "metadata": {},
   "outputs": [],
   "source": [
    "# The further from A -> the lowest\n",
    "# A is the highest"
   ]
  },
  {
   "cell_type": "code",
   "execution_count": 11,
   "id": "c385040f",
   "metadata": {},
   "outputs": [
    {
     "data": {
      "text/html": [
       "<div>\n",
       "<style scoped>\n",
       "    .dataframe tbody tr th:only-of-type {\n",
       "        vertical-align: middle;\n",
       "    }\n",
       "\n",
       "    .dataframe tbody tr th {\n",
       "        vertical-align: top;\n",
       "    }\n",
       "\n",
       "    .dataframe thead th {\n",
       "        text-align: right;\n",
       "    }\n",
       "</style>\n",
       "<table border=\"1\" class=\"dataframe\">\n",
       "  <thead>\n",
       "    <tr style=\"text-align: right;\">\n",
       "      <th></th>\n",
       "      <th>Survived</th>\n",
       "      <th>Pclass</th>\n",
       "      <th>Name</th>\n",
       "      <th>Sex</th>\n",
       "      <th>Age</th>\n",
       "      <th>SibSp</th>\n",
       "      <th>Parch</th>\n",
       "      <th>Ticket</th>\n",
       "      <th>Fare</th>\n",
       "      <th>Cabin</th>\n",
       "      <th>Embarked</th>\n",
       "    </tr>\n",
       "  </thead>\n",
       "  <tbody>\n",
       "    <tr>\n",
       "      <th>221</th>\n",
       "      <td>0</td>\n",
       "      <td>2</td>\n",
       "      <td>Bracken, Mr. James H</td>\n",
       "      <td>male</td>\n",
       "      <td>27.0</td>\n",
       "      <td>0</td>\n",
       "      <td>0</td>\n",
       "      <td>220367</td>\n",
       "      <td>13.0000</td>\n",
       "      <td>NaN</td>\n",
       "      <td>S</td>\n",
       "    </tr>\n",
       "    <tr>\n",
       "      <th>857</th>\n",
       "      <td>1</td>\n",
       "      <td>1</td>\n",
       "      <td>Daly, Mr. Peter Denis</td>\n",
       "      <td>male</td>\n",
       "      <td>51.0</td>\n",
       "      <td>0</td>\n",
       "      <td>0</td>\n",
       "      <td>113055</td>\n",
       "      <td>26.5500</td>\n",
       "      <td>E17</td>\n",
       "      <td>S</td>\n",
       "    </tr>\n",
       "    <tr>\n",
       "      <th>415</th>\n",
       "      <td>0</td>\n",
       "      <td>3</td>\n",
       "      <td>Meek, Mrs. Thomas (Annie Louise Rowley)</td>\n",
       "      <td>female</td>\n",
       "      <td>NaN</td>\n",
       "      <td>0</td>\n",
       "      <td>0</td>\n",
       "      <td>343095</td>\n",
       "      <td>8.0500</td>\n",
       "      <td>NaN</td>\n",
       "      <td>S</td>\n",
       "    </tr>\n",
       "    <tr>\n",
       "      <th>547</th>\n",
       "      <td>1</td>\n",
       "      <td>2</td>\n",
       "      <td>Padro y Manent, Mr. Julian</td>\n",
       "      <td>male</td>\n",
       "      <td>NaN</td>\n",
       "      <td>0</td>\n",
       "      <td>0</td>\n",
       "      <td>SC/PARIS 2146</td>\n",
       "      <td>13.8625</td>\n",
       "      <td>NaN</td>\n",
       "      <td>C</td>\n",
       "    </tr>\n",
       "    <tr>\n",
       "      <th>149</th>\n",
       "      <td>0</td>\n",
       "      <td>2</td>\n",
       "      <td>Byles, Rev. Thomas Roussel Davids</td>\n",
       "      <td>male</td>\n",
       "      <td>42.0</td>\n",
       "      <td>0</td>\n",
       "      <td>0</td>\n",
       "      <td>244310</td>\n",
       "      <td>13.0000</td>\n",
       "      <td>NaN</td>\n",
       "      <td>S</td>\n",
       "    </tr>\n",
       "    <tr>\n",
       "      <th>...</th>\n",
       "      <td>...</td>\n",
       "      <td>...</td>\n",
       "      <td>...</td>\n",
       "      <td>...</td>\n",
       "      <td>...</td>\n",
       "      <td>...</td>\n",
       "      <td>...</td>\n",
       "      <td>...</td>\n",
       "      <td>...</td>\n",
       "      <td>...</td>\n",
       "      <td>...</td>\n",
       "    </tr>\n",
       "    <tr>\n",
       "      <th>708</th>\n",
       "      <td>1</td>\n",
       "      <td>1</td>\n",
       "      <td>Cleaver, Miss. Alice</td>\n",
       "      <td>female</td>\n",
       "      <td>22.0</td>\n",
       "      <td>0</td>\n",
       "      <td>0</td>\n",
       "      <td>113781</td>\n",
       "      <td>151.5500</td>\n",
       "      <td>NaN</td>\n",
       "      <td>S</td>\n",
       "    </tr>\n",
       "    <tr>\n",
       "      <th>484</th>\n",
       "      <td>1</td>\n",
       "      <td>1</td>\n",
       "      <td>Bishop, Mr. Dickinson H</td>\n",
       "      <td>male</td>\n",
       "      <td>25.0</td>\n",
       "      <td>1</td>\n",
       "      <td>0</td>\n",
       "      <td>11967</td>\n",
       "      <td>91.0792</td>\n",
       "      <td>B49</td>\n",
       "      <td>C</td>\n",
       "    </tr>\n",
       "    <tr>\n",
       "      <th>864</th>\n",
       "      <td>0</td>\n",
       "      <td>2</td>\n",
       "      <td>Gill, Mr. John William</td>\n",
       "      <td>male</td>\n",
       "      <td>24.0</td>\n",
       "      <td>0</td>\n",
       "      <td>0</td>\n",
       "      <td>233866</td>\n",
       "      <td>13.0000</td>\n",
       "      <td>NaN</td>\n",
       "      <td>S</td>\n",
       "    </tr>\n",
       "    <tr>\n",
       "      <th>104</th>\n",
       "      <td>0</td>\n",
       "      <td>3</td>\n",
       "      <td>Gustafsson, Mr. Anders Vilhelm</td>\n",
       "      <td>male</td>\n",
       "      <td>37.0</td>\n",
       "      <td>2</td>\n",
       "      <td>0</td>\n",
       "      <td>3101276</td>\n",
       "      <td>7.9250</td>\n",
       "      <td>NaN</td>\n",
       "      <td>S</td>\n",
       "    </tr>\n",
       "    <tr>\n",
       "      <th>443</th>\n",
       "      <td>1</td>\n",
       "      <td>2</td>\n",
       "      <td>Reynaldo, Ms. Encarnacion</td>\n",
       "      <td>female</td>\n",
       "      <td>28.0</td>\n",
       "      <td>0</td>\n",
       "      <td>0</td>\n",
       "      <td>230434</td>\n",
       "      <td>13.0000</td>\n",
       "      <td>NaN</td>\n",
       "      <td>S</td>\n",
       "    </tr>\n",
       "  </tbody>\n",
       "</table>\n",
       "<p>90 rows × 11 columns</p>\n",
       "</div>"
      ],
      "text/plain": [
       "     Survived  Pclass                                     Name     Sex   Age  \\\n",
       "221         0       2                     Bracken, Mr. James H    male  27.0   \n",
       "857         1       1                   Daly, Mr. Peter Denis     male  51.0   \n",
       "415         0       3  Meek, Mrs. Thomas (Annie Louise Rowley)  female   NaN   \n",
       "547         1       2               Padro y Manent, Mr. Julian    male   NaN   \n",
       "149         0       2        Byles, Rev. Thomas Roussel Davids    male  42.0   \n",
       "..        ...     ...                                      ...     ...   ...   \n",
       "708         1       1                     Cleaver, Miss. Alice  female  22.0   \n",
       "484         1       1                  Bishop, Mr. Dickinson H    male  25.0   \n",
       "864         0       2                   Gill, Mr. John William    male  24.0   \n",
       "104         0       3           Gustafsson, Mr. Anders Vilhelm    male  37.0   \n",
       "443         1       2                Reynaldo, Ms. Encarnacion  female  28.0   \n",
       "\n",
       "     SibSp  Parch         Ticket      Fare Cabin Embarked  \n",
       "221      0      0         220367   13.0000   NaN        S  \n",
       "857      0      0         113055   26.5500   E17        S  \n",
       "415      0      0         343095    8.0500   NaN        S  \n",
       "547      0      0  SC/PARIS 2146   13.8625   NaN        C  \n",
       "149      0      0         244310   13.0000   NaN        S  \n",
       "..     ...    ...            ...       ...   ...      ...  \n",
       "708      0      0         113781  151.5500   NaN        S  \n",
       "484      1      0          11967   91.0792   B49        C  \n",
       "864      0      0         233866   13.0000   NaN        S  \n",
       "104      2      0        3101276    7.9250   NaN        S  \n",
       "443      0      0         230434   13.0000   NaN        S  \n",
       "\n",
       "[90 rows x 11 columns]"
      ]
     },
     "execution_count": 11,
     "metadata": {},
     "output_type": "execute_result"
    }
   ],
   "source": [
    "data.sample(90)"
   ]
  },
  {
   "cell_type": "code",
   "execution_count": 12,
   "id": "f1850a08",
   "metadata": {
    "scrolled": true
   },
   "outputs": [
    {
     "data": {
      "text/plain": [
       "'B30'"
      ]
     },
     "execution_count": 12,
     "metadata": {},
     "output_type": "execute_result"
    }
   ],
   "source": [
    "a_cabin = data.iloc[54].Cabin\n",
    "a_cabin"
   ]
  },
  {
   "cell_type": "code",
   "execution_count": 13,
   "id": "ef0eab55",
   "metadata": {},
   "outputs": [],
   "source": [
    "# regex\n",
    "# split by digit (?)\n",
    "# check if digit or letter and return the letter\n",
    "#take the first one"
   ]
  },
  {
   "cell_type": "code",
   "execution_count": 14,
   "id": "b745c942",
   "metadata": {},
   "outputs": [],
   "source": [
    "#'B30' -> B\n",
    "#M for misceallenous/missing/\n",
    "\n",
    "data[\"deck\"] = data.Cabin.apply(lambda x: x[0] if pd.notnull(x) else \"M\") #if the value is not missing"
   ]
  },
  {
   "cell_type": "code",
   "execution_count": 15,
   "id": "7c46db2a",
   "metadata": {},
   "outputs": [
    {
     "data": {
      "text/html": [
       "<div>\n",
       "<style scoped>\n",
       "    .dataframe tbody tr th:only-of-type {\n",
       "        vertical-align: middle;\n",
       "    }\n",
       "\n",
       "    .dataframe tbody tr th {\n",
       "        vertical-align: top;\n",
       "    }\n",
       "\n",
       "    .dataframe thead th {\n",
       "        text-align: right;\n",
       "    }\n",
       "</style>\n",
       "<table border=\"1\" class=\"dataframe\">\n",
       "  <thead>\n",
       "    <tr style=\"text-align: right;\">\n",
       "      <th></th>\n",
       "      <th>Survived</th>\n",
       "      <th>Pclass</th>\n",
       "      <th>Name</th>\n",
       "      <th>Sex</th>\n",
       "      <th>Age</th>\n",
       "      <th>SibSp</th>\n",
       "      <th>Parch</th>\n",
       "      <th>Ticket</th>\n",
       "      <th>Fare</th>\n",
       "      <th>Cabin</th>\n",
       "      <th>Embarked</th>\n",
       "      <th>deck</th>\n",
       "    </tr>\n",
       "  </thead>\n",
       "  <tbody>\n",
       "    <tr>\n",
       "      <th>835</th>\n",
       "      <td>1</td>\n",
       "      <td>1</td>\n",
       "      <td>Compton, Miss. Sara Rebecca</td>\n",
       "      <td>female</td>\n",
       "      <td>39.0</td>\n",
       "      <td>1</td>\n",
       "      <td>1</td>\n",
       "      <td>PC 17756</td>\n",
       "      <td>83.1583</td>\n",
       "      <td>E49</td>\n",
       "      <td>C</td>\n",
       "      <td>E</td>\n",
       "    </tr>\n",
       "    <tr>\n",
       "      <th>635</th>\n",
       "      <td>1</td>\n",
       "      <td>2</td>\n",
       "      <td>Davis, Miss. Mary</td>\n",
       "      <td>female</td>\n",
       "      <td>28.0</td>\n",
       "      <td>0</td>\n",
       "      <td>0</td>\n",
       "      <td>237668</td>\n",
       "      <td>13.0000</td>\n",
       "      <td>NaN</td>\n",
       "      <td>S</td>\n",
       "      <td>M</td>\n",
       "    </tr>\n",
       "    <tr>\n",
       "      <th>464</th>\n",
       "      <td>0</td>\n",
       "      <td>3</td>\n",
       "      <td>Maisner, Mr. Simon</td>\n",
       "      <td>male</td>\n",
       "      <td>NaN</td>\n",
       "      <td>0</td>\n",
       "      <td>0</td>\n",
       "      <td>A/S 2816</td>\n",
       "      <td>8.0500</td>\n",
       "      <td>NaN</td>\n",
       "      <td>S</td>\n",
       "      <td>M</td>\n",
       "    </tr>\n",
       "    <tr>\n",
       "      <th>92</th>\n",
       "      <td>0</td>\n",
       "      <td>1</td>\n",
       "      <td>Chaffee, Mr. Herbert Fuller</td>\n",
       "      <td>male</td>\n",
       "      <td>46.0</td>\n",
       "      <td>1</td>\n",
       "      <td>0</td>\n",
       "      <td>W.E.P. 5734</td>\n",
       "      <td>61.1750</td>\n",
       "      <td>E31</td>\n",
       "      <td>S</td>\n",
       "      <td>E</td>\n",
       "    </tr>\n",
       "  </tbody>\n",
       "</table>\n",
       "</div>"
      ],
      "text/plain": [
       "     Survived  Pclass                         Name     Sex   Age  SibSp  \\\n",
       "835         1       1  Compton, Miss. Sara Rebecca  female  39.0      1   \n",
       "635         1       2            Davis, Miss. Mary  female  28.0      0   \n",
       "464         0       3           Maisner, Mr. Simon    male   NaN      0   \n",
       "92          0       1  Chaffee, Mr. Herbert Fuller    male  46.0      1   \n",
       "\n",
       "     Parch       Ticket     Fare Cabin Embarked deck  \n",
       "835      1     PC 17756  83.1583   E49        C    E  \n",
       "635      0       237668  13.0000   NaN        S    M  \n",
       "464      0     A/S 2816   8.0500   NaN        S    M  \n",
       "92       0  W.E.P. 5734  61.1750   E31        S    E  "
      ]
     },
     "execution_count": 15,
     "metadata": {},
     "output_type": "execute_result"
    }
   ],
   "source": [
    "data.sample(4)"
   ]
  },
  {
   "cell_type": "code",
   "execution_count": 16,
   "id": "4f60a7f5",
   "metadata": {},
   "outputs": [],
   "source": [
    "# Family name?"
   ]
  },
  {
   "cell_type": "code",
   "execution_count": 17,
   "id": "d76164dd",
   "metadata": {},
   "outputs": [],
   "source": [
    "# Mr, Miss/Miss, Master, Don, Drs, Reverends?"
   ]
  },
  {
   "cell_type": "code",
   "execution_count": 18,
   "id": "d3b2db12",
   "metadata": {
    "scrolled": true
   },
   "outputs": [
    {
     "data": {
      "text/plain": [
       "array(['Braund, Mr. Owen Harris',\n",
       "       'Cumings, Mrs. John Bradley (Florence Briggs Thayer)',\n",
       "       'Heikkinen, Miss. Laina',\n",
       "       'Futrelle, Mrs. Jacques Heath (Lily May Peel)',\n",
       "       'Allen, Mr. William Henry', 'Moran, Mr. James',\n",
       "       'McCarthy, Mr. Timothy J', 'Palsson, Master. Gosta Leonard',\n",
       "       'Johnson, Mrs. Oscar W (Elisabeth Vilhelmina Berg)',\n",
       "       'Nasser, Mrs. Nicholas (Adele Achem)',\n",
       "       'Sandstrom, Miss. Marguerite Rut', 'Bonnell, Miss. Elizabeth',\n",
       "       'Saundercock, Mr. William Henry', 'Andersson, Mr. Anders Johan',\n",
       "       'Vestrom, Miss. Hulda Amanda Adolfina',\n",
       "       'Hewlett, Mrs. (Mary D Kingcome) ', 'Rice, Master. Eugene',\n",
       "       'Williams, Mr. Charles Eugene',\n",
       "       'Vander Planke, Mrs. Julius (Emelia Maria Vandemoortele)',\n",
       "       'Masselmani, Mrs. Fatima', 'Fynney, Mr. Joseph J',\n",
       "       'Beesley, Mr. Lawrence', 'McGowan, Miss. Anna \"Annie\"',\n",
       "       'Sloper, Mr. William Thompson', 'Palsson, Miss. Torborg Danira',\n",
       "       'Asplund, Mrs. Carl Oscar (Selma Augusta Emilia Johansson)',\n",
       "       'Emir, Mr. Farred Chehab', 'Fortune, Mr. Charles Alexander',\n",
       "       'O\\'Dwyer, Miss. Ellen \"Nellie\"', 'Todoroff, Mr. Lalio',\n",
       "       'Uruchurtu, Don. Manuel E',\n",
       "       'Spencer, Mrs. William Augustus (Marie Eugenie)',\n",
       "       'Glynn, Miss. Mary Agatha', 'Wheadon, Mr. Edward H',\n",
       "       'Meyer, Mr. Edgar Joseph', 'Holverson, Mr. Alexander Oskar',\n",
       "       'Mamee, Mr. Hanna', 'Cann, Mr. Ernest Charles',\n",
       "       'Vander Planke, Miss. Augusta Maria',\n",
       "       'Nicola-Yarred, Miss. Jamila',\n",
       "       'Ahlin, Mrs. Johan (Johanna Persdotter Larsson)',\n",
       "       'Turpin, Mrs. William John Robert (Dorothy Ann Wonnacott)',\n",
       "       'Kraeff, Mr. Theodor', 'Laroche, Miss. Simonne Marie Anne Andree',\n",
       "       'Devaney, Miss. Margaret Delia', 'Rogers, Mr. William John',\n",
       "       'Lennon, Mr. Denis', \"O'Driscoll, Miss. Bridget\",\n",
       "       'Samaan, Mr. Youssef',\n",
       "       'Arnold-Franchi, Mrs. Josef (Josefine Franchi)',\n",
       "       'Panula, Master. Juha Niilo', 'Nosworthy, Mr. Richard Cater',\n",
       "       'Harper, Mrs. Henry Sleeper (Myna Haxtun)',\n",
       "       'Faunthorpe, Mrs. Lizzie (Elizabeth Anne Wilkinson)',\n",
       "       'Ostby, Mr. Engelhart Cornelius', 'Woolner, Mr. Hugh',\n",
       "       'Rugg, Miss. Emily', 'Novel, Mr. Mansouer',\n",
       "       'West, Miss. Constance Mirium',\n",
       "       'Goodwin, Master. William Frederick', 'Sirayanian, Mr. Orsen',\n",
       "       'Icard, Miss. Amelie', 'Harris, Mr. Henry Birkhardt',\n",
       "       'Skoog, Master. Harald', 'Stewart, Mr. Albert A',\n",
       "       'Moubarek, Master. Gerios', 'Nye, Mrs. (Elizabeth Ramell)',\n",
       "       'Crease, Mr. Ernest James', 'Andersson, Miss. Erna Alexandra',\n",
       "       'Kink, Mr. Vincenz', 'Jenkin, Mr. Stephen Curnow',\n",
       "       'Goodwin, Miss. Lillian Amy', 'Hood, Mr. Ambrose Jr',\n",
       "       'Chronopoulos, Mr. Apostolos', 'Bing, Mr. Lee',\n",
       "       'Moen, Mr. Sigurd Hansen', 'Staneff, Mr. Ivan',\n",
       "       'Moutal, Mr. Rahamin Haim', 'Caldwell, Master. Alden Gates',\n",
       "       'Dowdell, Miss. Elizabeth', 'Waelens, Mr. Achille',\n",
       "       'Sheerlinck, Mr. Jan Baptist', 'McDermott, Miss. Brigdet Delia',\n",
       "       'Carrau, Mr. Francisco M', 'Ilett, Miss. Bertha',\n",
       "       'Backstrom, Mrs. Karl Alfred (Maria Mathilda Gustafsson)',\n",
       "       'Ford, Mr. William Neal', 'Slocovski, Mr. Selman Francis',\n",
       "       'Fortune, Miss. Mabel Helen', 'Celotti, Mr. Francesco',\n",
       "       'Christmann, Mr. Emil', 'Andreasson, Mr. Paul Edvin',\n",
       "       'Chaffee, Mr. Herbert Fuller', 'Dean, Mr. Bertram Frank',\n",
       "       'Coxon, Mr. Daniel', 'Shorney, Mr. Charles Joseph',\n",
       "       'Goldschmidt, Mr. George B', 'Greenfield, Mr. William Bertram',\n",
       "       'Doling, Mrs. John T (Ada Julia Bone)', 'Kantor, Mr. Sinai',\n",
       "       'Petranec, Miss. Matilda', 'Petroff, Mr. Pastcho (\"Pentcho\")',\n",
       "       'White, Mr. Richard Frasar', 'Johansson, Mr. Gustaf Joel',\n",
       "       'Gustafsson, Mr. Anders Vilhelm', 'Mionoff, Mr. Stoytcho',\n",
       "       'Salkjelsvik, Miss. Anna Kristine', 'Moss, Mr. Albert Johan',\n",
       "       'Rekic, Mr. Tido', 'Moran, Miss. Bertha',\n",
       "       'Porter, Mr. Walter Chamberlain', 'Zabour, Miss. Hileni',\n",
       "       'Barton, Mr. David John', 'Jussila, Miss. Katriina',\n",
       "       'Attalah, Miss. Malake', 'Pekoniemi, Mr. Edvard',\n",
       "       'Connors, Mr. Patrick', 'Turpin, Mr. William John Robert',\n",
       "       'Baxter, Mr. Quigg Edmond', 'Andersson, Miss. Ellis Anna Maria',\n",
       "       'Hickman, Mr. Stanley George', 'Moore, Mr. Leonard Charles',\n",
       "       'Nasser, Mr. Nicholas', 'Webber, Miss. Susan',\n",
       "       'White, Mr. Percival Wayland', 'Nicola-Yarred, Master. Elias',\n",
       "       'McMahon, Mr. Martin', 'Madsen, Mr. Fridtjof Arne',\n",
       "       'Peter, Miss. Anna', 'Ekstrom, Mr. Johan', 'Drazenoic, Mr. Jozef',\n",
       "       'Coelho, Mr. Domingos Fernandeo',\n",
       "       'Robins, Mrs. Alexander A (Grace Charity Laury)',\n",
       "       'Weisz, Mrs. Leopold (Mathilde Francoise Pede)',\n",
       "       'Sobey, Mr. Samuel James Hayden', 'Richard, Mr. Emile',\n",
       "       'Newsom, Miss. Helen Monypeny', 'Futrelle, Mr. Jacques Heath',\n",
       "       'Osen, Mr. Olaf Elon', 'Giglio, Mr. Victor',\n",
       "       'Boulos, Mrs. Joseph (Sultana)', 'Nysten, Miss. Anna Sofia',\n",
       "       'Hakkarainen, Mrs. Pekka Pietari (Elin Matilda Dolck)',\n",
       "       'Burke, Mr. Jeremiah', 'Andrew, Mr. Edgardo Samuel',\n",
       "       'Nicholls, Mr. Joseph Charles',\n",
       "       'Andersson, Mr. August Edvard (\"Wennerstrom\")',\n",
       "       'Ford, Miss. Robina Maggie \"Ruby\"',\n",
       "       'Navratil, Mr. Michel (\"Louis M Hoffman\")',\n",
       "       'Byles, Rev. Thomas Roussel Davids', 'Bateman, Rev. Robert James',\n",
       "       'Pears, Mrs. Thomas (Edith Wearne)', 'Meo, Mr. Alfonzo',\n",
       "       'van Billiard, Mr. Austin Blyler', 'Olsen, Mr. Ole Martin',\n",
       "       'Williams, Mr. Charles Duane', 'Gilnagh, Miss. Katherine \"Katie\"',\n",
       "       'Corn, Mr. Harry', 'Smiljanic, Mr. Mile',\n",
       "       'Sage, Master. Thomas Henry', 'Cribb, Mr. John Hatfield',\n",
       "       'Watt, Mrs. James (Elizabeth \"Bessie\" Inglis Milne)',\n",
       "       'Bengtsson, Mr. John Viktor', 'Calic, Mr. Jovo',\n",
       "       'Panula, Master. Eino Viljami',\n",
       "       'Goldsmith, Master. Frank John William \"Frankie\"',\n",
       "       'Chibnall, Mrs. (Edith Martha Bowerman)',\n",
       "       'Skoog, Mrs. William (Anna Bernhardina Karlsson)',\n",
       "       'Baumann, Mr. John D', 'Ling, Mr. Lee',\n",
       "       'Van der hoef, Mr. Wyckoff', 'Rice, Master. Arthur',\n",
       "       'Johnson, Miss. Eleanor Ileen', 'Sivola, Mr. Antti Wilhelm',\n",
       "       'Smith, Mr. James Clinch', 'Klasen, Mr. Klas Albin',\n",
       "       'Lefebre, Master. Henry Forbes', 'Isham, Miss. Ann Elizabeth',\n",
       "       'Hale, Mr. Reginald', 'Leonard, Mr. Lionel',\n",
       "       'Sage, Miss. Constance Gladys', 'Pernot, Mr. Rene',\n",
       "       'Asplund, Master. Clarence Gustaf Hugo',\n",
       "       'Becker, Master. Richard F', 'Kink-Heilmann, Miss. Luise Gretchen',\n",
       "       'Rood, Mr. Hugh Roscoe',\n",
       "       'O\\'Brien, Mrs. Thomas (Johanna \"Hannah\" Godfrey)',\n",
       "       'Romaine, Mr. Charles Hallace (\"Mr C Rolmane\")',\n",
       "       'Bourke, Mr. John', 'Turcin, Mr. Stjepan', 'Pinsky, Mrs. (Rosa)',\n",
       "       'Carbines, Mr. William',\n",
       "       'Andersen-Jensen, Miss. Carla Christine Nielsine',\n",
       "       'Navratil, Master. Michel M',\n",
       "       'Brown, Mrs. James Joseph (Margaret Tobin)',\n",
       "       'Lurette, Miss. Elise', 'Mernagh, Mr. Robert',\n",
       "       'Olsen, Mr. Karl Siegwart Andreas',\n",
       "       'Madigan, Miss. Margaret \"Maggie\"',\n",
       "       'Yrois, Miss. Henriette (\"Mrs Harbeck\")',\n",
       "       'Vande Walle, Mr. Nestor Cyriel', 'Sage, Mr. Frederick',\n",
       "       'Johanson, Mr. Jakob Alfred', 'Youseff, Mr. Gerious',\n",
       "       'Cohen, Mr. Gurshon \"Gus\"', 'Strom, Miss. Telma Matilda',\n",
       "       'Backstrom, Mr. Karl Alfred', 'Albimona, Mr. Nassef Cassem',\n",
       "       'Carr, Miss. Helen \"Ellen\"', 'Blank, Mr. Henry', 'Ali, Mr. Ahmed',\n",
       "       'Cameron, Miss. Clear Annie', 'Perkin, Mr. John Henry',\n",
       "       'Givard, Mr. Hans Kristensen', 'Kiernan, Mr. Philip',\n",
       "       'Newell, Miss. Madeleine', 'Honkanen, Miss. Eliina',\n",
       "       'Jacobsohn, Mr. Sidney Samuel', 'Bazzani, Miss. Albina',\n",
       "       'Harris, Mr. Walter', 'Sunderland, Mr. Victor Francis',\n",
       "       'Bracken, Mr. James H', 'Green, Mr. George Henry',\n",
       "       'Nenkoff, Mr. Christo', 'Hoyt, Mr. Frederick Maxfield',\n",
       "       'Berglund, Mr. Karl Ivar Sven', 'Mellors, Mr. William John',\n",
       "       'Lovell, Mr. John Hall (\"Henry\")', 'Fahlstrom, Mr. Arne Jonas',\n",
       "       'Lefebre, Miss. Mathilde',\n",
       "       'Harris, Mrs. Henry Birkhardt (Irene Wallach)',\n",
       "       'Larsson, Mr. Bengt Edvin', 'Sjostedt, Mr. Ernst Adolf',\n",
       "       'Asplund, Miss. Lillian Gertrud',\n",
       "       'Leyson, Mr. Robert William Norman',\n",
       "       'Harknett, Miss. Alice Phoebe', 'Hold, Mr. Stephen',\n",
       "       'Collyer, Miss. Marjorie \"Lottie\"',\n",
       "       'Pengelly, Mr. Frederick William', 'Hunt, Mr. George Henry',\n",
       "       'Zabour, Miss. Thamine', 'Murphy, Miss. Katherine \"Kate\"',\n",
       "       'Coleridge, Mr. Reginald Charles', 'Maenpaa, Mr. Matti Alexanteri',\n",
       "       'Attalah, Mr. Sleiman', 'Minahan, Dr. William Edward',\n",
       "       'Lindahl, Miss. Agda Thorilda Viktoria',\n",
       "       'Hamalainen, Mrs. William (Anna)', 'Beckwith, Mr. Richard Leonard',\n",
       "       'Carter, Rev. Ernest Courtenay', 'Reed, Mr. James George',\n",
       "       'Strom, Mrs. Wilhelm (Elna Matilda Persson)',\n",
       "       'Stead, Mr. William Thomas', 'Lobb, Mr. William Arthur',\n",
       "       'Rosblom, Mrs. Viktor (Helena Wilhelmina)',\n",
       "       'Touma, Mrs. Darwis (Hanne Youssef Razi)',\n",
       "       'Thorne, Mrs. Gertrude Maybelle', 'Cherry, Miss. Gladys',\n",
       "       'Ward, Miss. Anna', 'Parrish, Mrs. (Lutie Davis)',\n",
       "       'Smith, Mr. Thomas', 'Asplund, Master. Edvin Rojj Felix',\n",
       "       'Taussig, Mr. Emil', 'Harrison, Mr. William', 'Henry, Miss. Delia',\n",
       "       'Reeves, Mr. David', 'Panula, Mr. Ernesti Arvid',\n",
       "       'Persson, Mr. Ernst Ulrik',\n",
       "       'Graham, Mrs. William Thompson (Edith Junkins)',\n",
       "       'Bissette, Miss. Amelia', 'Cairns, Mr. Alexander',\n",
       "       'Tornquist, Mr. William Henry',\n",
       "       'Mellinger, Mrs. (Elizabeth Anne Maidment)',\n",
       "       'Natsch, Mr. Charles H', 'Healy, Miss. Hanora \"Nora\"',\n",
       "       'Andrews, Miss. Kornelia Theodosia',\n",
       "       'Lindblom, Miss. Augusta Charlotta', 'Parkes, Mr. Francis \"Frank\"',\n",
       "       'Rice, Master. Eric', 'Abbott, Mrs. Stanton (Rosa Hunt)',\n",
       "       'Duane, Mr. Frank', 'Olsson, Mr. Nils Johan Goransson',\n",
       "       'de Pelsmaeker, Mr. Alfons', 'Dorking, Mr. Edward Arthur',\n",
       "       'Smith, Mr. Richard William', 'Stankovic, Mr. Ivan',\n",
       "       'de Mulder, Mr. Theodore', 'Naidenoff, Mr. Penko',\n",
       "       'Hosono, Mr. Masabumi', 'Connolly, Miss. Kate',\n",
       "       'Barber, Miss. Ellen \"Nellie\"',\n",
       "       'Bishop, Mrs. Dickinson H (Helen Walton)',\n",
       "       'Levy, Mr. Rene Jacques', 'Haas, Miss. Aloisia',\n",
       "       'Mineff, Mr. Ivan', 'Lewy, Mr. Ervin G', 'Hanna, Mr. Mansour',\n",
       "       'Allison, Miss. Helen Loraine', 'Saalfeld, Mr. Adolphe',\n",
       "       'Baxter, Mrs. James (Helene DeLaudeniere Chaput)',\n",
       "       'Kelly, Miss. Anna Katherine \"Annie Kate\"', 'McCoy, Mr. Bernard',\n",
       "       'Johnson, Mr. William Cahoone Jr', 'Keane, Miss. Nora A',\n",
       "       'Williams, Mr. Howard Hugh \"Harry\"',\n",
       "       'Allison, Master. Hudson Trevor', 'Fleming, Miss. Margaret',\n",
       "       'Penasco y Castellana, Mrs. Victor de Satode (Maria Josefa Perez de Soto y Vallejo)',\n",
       "       'Abelson, Mr. Samuel', 'Francatelli, Miss. Laura Mabel',\n",
       "       'Hays, Miss. Margaret Bechstein', 'Ryerson, Miss. Emily Borie',\n",
       "       'Lahtinen, Mrs. William (Anna Sylfven)', 'Hendekovic, Mr. Ignjac',\n",
       "       'Hart, Mr. Benjamin', 'Nilsson, Miss. Helmina Josefina',\n",
       "       'Kantor, Mrs. Sinai (Miriam Sternin)', 'Moraweck, Dr. Ernest',\n",
       "       'Wick, Miss. Mary Natalie',\n",
       "       'Spedden, Mrs. Frederic Oakley (Margaretta Corning Stone)',\n",
       "       'Dennis, Mr. Samuel', 'Danoff, Mr. Yoto',\n",
       "       'Slayter, Miss. Hilda Mary',\n",
       "       'Caldwell, Mrs. Albert Francis (Sylvia Mae Harbaugh)',\n",
       "       'Sage, Mr. George John Jr', 'Young, Miss. Marie Grice',\n",
       "       'Nysveen, Mr. Johan Hansen', 'Ball, Mrs. (Ada E Hall)',\n",
       "       'Goldsmith, Mrs. Frank John (Emily Alice Brown)',\n",
       "       'Hippach, Miss. Jean Gertrude', 'McCoy, Miss. Agnes',\n",
       "       'Partner, Mr. Austen', 'Graham, Mr. George Edward',\n",
       "       'Vander Planke, Mr. Leo Edmondus',\n",
       "       'Frauenthal, Mrs. Henry William (Clara Heinsheimer)',\n",
       "       'Denkoff, Mr. Mitto', 'Pears, Mr. Thomas Clinton',\n",
       "       'Burns, Miss. Elizabeth Margaret', 'Dahl, Mr. Karl Edwart',\n",
       "       'Blackwell, Mr. Stephen Weart', 'Navratil, Master. Edmond Roger',\n",
       "       'Fortune, Miss. Alice Elizabeth', 'Collander, Mr. Erik Gustaf',\n",
       "       'Sedgwick, Mr. Charles Frederick Waddington',\n",
       "       'Fox, Mr. Stanley Hubert', 'Brown, Miss. Amelia \"Mildred\"',\n",
       "       'Smith, Miss. Marion Elsie',\n",
       "       'Davison, Mrs. Thomas Henry (Mary E Finck)',\n",
       "       'Coutts, Master. William Loch \"William\"', 'Dimic, Mr. Jovan',\n",
       "       'Odahl, Mr. Nils Martin', 'Williams-Lambert, Mr. Fletcher Fellows',\n",
       "       'Elias, Mr. Tannous', 'Arnold-Franchi, Mr. Josef',\n",
       "       'Yousif, Mr. Wazli', 'Vanden Steen, Mr. Leo Peter',\n",
       "       'Bowerman, Miss. Elsie Edith', 'Funk, Miss. Annie Clemmer',\n",
       "       'McGovern, Miss. Mary', 'Mockler, Miss. Helen Mary \"Ellie\"',\n",
       "       'Skoog, Mr. Wilhelm', 'del Carlo, Mr. Sebastiano',\n",
       "       'Barbara, Mrs. (Catherine David)', 'Asim, Mr. Adola',\n",
       "       \"O'Brien, Mr. Thomas\", 'Adahl, Mr. Mauritz Nils Martin',\n",
       "       'Warren, Mrs. Frank Manley (Anna Sophia Atkinson)',\n",
       "       'Moussa, Mrs. (Mantoura Boulos)', 'Jermyn, Miss. Annie',\n",
       "       'Aubart, Mme. Leontine Pauline', 'Harder, Mr. George Achilles',\n",
       "       'Wiklund, Mr. Jakob Alfred', 'Beavan, Mr. William Thomas',\n",
       "       'Ringhini, Mr. Sante', 'Palsson, Miss. Stina Viola',\n",
       "       'Meyer, Mrs. Edgar Joseph (Leila Saks)',\n",
       "       'Landergren, Miss. Aurora Adelia', 'Widener, Mr. Harry Elkins',\n",
       "       'Betros, Mr. Tannous', 'Gustafsson, Mr. Karl Gideon',\n",
       "       'Bidois, Miss. Rosalie', 'Nakid, Miss. Maria (\"Mary\")',\n",
       "       'Tikkanen, Mr. Juho',\n",
       "       'Holverson, Mrs. Alexander Oskar (Mary Aline Towner)',\n",
       "       'Plotcharsky, Mr. Vasil', 'Davies, Mr. Charles Henry',\n",
       "       'Goodwin, Master. Sidney Leonard', 'Buss, Miss. Kate',\n",
       "       'Sadlier, Mr. Matthew', 'Lehmann, Miss. Bertha',\n",
       "       'Carter, Mr. William Ernest', 'Jansson, Mr. Carl Olof',\n",
       "       'Gustafsson, Mr. Johan Birger', 'Newell, Miss. Marjorie',\n",
       "       'Sandstrom, Mrs. Hjalmar (Agnes Charlotta Bengtsson)',\n",
       "       'Johansson, Mr. Erik', 'Olsson, Miss. Elina',\n",
       "       'McKane, Mr. Peter David', 'Pain, Dr. Alfred',\n",
       "       'Trout, Mrs. William H (Jessie L)', 'Niskanen, Mr. Juha',\n",
       "       'Adams, Mr. John', 'Jussila, Miss. Mari Aina',\n",
       "       'Hakkarainen, Mr. Pekka Pietari', 'Oreskovic, Miss. Marija',\n",
       "       'Gale, Mr. Shadrach', 'Widegren, Mr. Carl/Charles Peter',\n",
       "       'Richards, Master. William Rowe',\n",
       "       'Birkeland, Mr. Hans Martin Monsen', 'Lefebre, Miss. Ida',\n",
       "       'Sdycoff, Mr. Todor', 'Hart, Mr. Henry', 'Minahan, Miss. Daisy E',\n",
       "       'Cunningham, Mr. Alfred Fleming', 'Sundman, Mr. Johan Julian',\n",
       "       'Meek, Mrs. Thomas (Annie Louise Rowley)',\n",
       "       'Drew, Mrs. James Vivian (Lulu Thorne Christian)',\n",
       "       'Silven, Miss. Lyyli Karoliina', 'Matthews, Mr. William John',\n",
       "       'Van Impe, Miss. Catharina', 'Gheorgheff, Mr. Stanio',\n",
       "       'Charters, Mr. David', 'Zimmerman, Mr. Leo',\n",
       "       'Danbom, Mrs. Ernst Gilbert (Anna Sigrid Maria Brogren)',\n",
       "       'Rosblom, Mr. Viktor Richard', 'Wiseman, Mr. Phillippe',\n",
       "       'Clarke, Mrs. Charles V (Ada Maria Winfield)',\n",
       "       'Phillips, Miss. Kate Florence (\"Mrs Kate Louise Phillips Marshall\")',\n",
       "       'Flynn, Mr. James', 'Pickard, Mr. Berk (Berk Trembisky)',\n",
       "       'Bjornstrom-Steffansson, Mr. Mauritz Hakan',\n",
       "       'Thorneycroft, Mrs. Percival (Florence Kate White)',\n",
       "       'Louch, Mrs. Charles Alexander (Alice Adelaide Slow)',\n",
       "       'Kallio, Mr. Nikolai Erland', 'Silvey, Mr. William Baird',\n",
       "       'Carter, Miss. Lucile Polk',\n",
       "       'Ford, Miss. Doolina Margaret \"Daisy\"',\n",
       "       'Richards, Mrs. Sidney (Emily Hocking)', 'Fortune, Mr. Mark',\n",
       "       'Kvillner, Mr. Johan Henrik Johannesson',\n",
       "       'Hart, Mrs. Benjamin (Esther Ada Bloomfield)', 'Hampe, Mr. Leon',\n",
       "       'Petterson, Mr. Johan Emil', 'Reynaldo, Ms. Encarnacion',\n",
       "       'Johannesen-Bratthammer, Mr. Bernt', 'Dodge, Master. Washington',\n",
       "       'Mellinger, Miss. Madeleine Violet', 'Seward, Mr. Frederic Kimber',\n",
       "       'Baclini, Miss. Marie Catherine', 'Peuchen, Major. Arthur Godfrey',\n",
       "       'West, Mr. Edwy Arthur', 'Hagland, Mr. Ingvald Olai Olsen',\n",
       "       'Foreman, Mr. Benjamin Laventall', 'Goldenberg, Mr. Samuel L',\n",
       "       'Peduzzi, Mr. Joseph', 'Jalsevac, Mr. Ivan',\n",
       "       'Millet, Mr. Francis Davis', 'Kenyon, Mrs. Frederick R (Marion)',\n",
       "       'Toomey, Miss. Ellen', \"O'Connor, Mr. Maurice\",\n",
       "       'Anderson, Mr. Harry', 'Morley, Mr. William', 'Gee, Mr. Arthur H',\n",
       "       'Milling, Mr. Jacob Christian', 'Maisner, Mr. Simon',\n",
       "       'Goncalves, Mr. Manuel Estanslas', 'Campbell, Mr. William',\n",
       "       'Smart, Mr. John Montgomery', 'Scanlan, Mr. James',\n",
       "       'Baclini, Miss. Helene Barbara', 'Keefe, Mr. Arthur',\n",
       "       'Cacic, Mr. Luka', 'West, Mrs. Edwy Arthur (Ada Mary Worth)',\n",
       "       'Jerwan, Mrs. Amin S (Marie Marthe Thuillard)',\n",
       "       'Strandberg, Miss. Ida Sofia', 'Clifford, Mr. George Quincy',\n",
       "       'Renouf, Mr. Peter Henry', 'Braund, Mr. Lewis Richard',\n",
       "       'Karlsson, Mr. Nils August', 'Hirvonen, Miss. Hildur E',\n",
       "       'Goodwin, Master. Harold Victor',\n",
       "       'Frost, Mr. Anthony Wood \"Archie\"', 'Rouse, Mr. Richard Henry',\n",
       "       'Turkula, Mrs. (Hedwig)', 'Bishop, Mr. Dickinson H',\n",
       "       'Lefebre, Miss. Jeannie',\n",
       "       'Hoyt, Mrs. Frederick Maxfield (Jane Anne Forby)',\n",
       "       'Kent, Mr. Edward Austin', 'Somerton, Mr. Francis William',\n",
       "       'Coutts, Master. Eden Leslie \"Neville\"',\n",
       "       'Hagland, Mr. Konrad Mathias Reiersen', 'Windelov, Mr. Einar',\n",
       "       'Molson, Mr. Harry Markland', 'Artagaveytia, Mr. Ramon',\n",
       "       'Stanley, Mr. Edward Roland', 'Yousseff, Mr. Gerious',\n",
       "       'Eustis, Miss. Elizabeth Mussey',\n",
       "       'Shellard, Mr. Frederick William',\n",
       "       'Allison, Mrs. Hudson J C (Bessie Waldo Daniels)',\n",
       "       'Svensson, Mr. Olof', 'Calic, Mr. Petar', 'Canavan, Miss. Mary',\n",
       "       \"O'Sullivan, Miss. Bridget Mary\", 'Laitinen, Miss. Kristina Sofia',\n",
       "       'Maioni, Miss. Roberta',\n",
       "       'Penasco y Castellana, Mr. Victor de Satode',\n",
       "       'Quick, Mrs. Frederick Charles (Jane Richards)',\n",
       "       'Bradley, Mr. George (\"George Arthur Brayton\")',\n",
       "       'Olsen, Mr. Henry Margido', 'Lang, Mr. Fang',\n",
       "       'Daly, Mr. Eugene Patrick', 'Webber, Mr. James',\n",
       "       'McGough, Mr. James Robert',\n",
       "       'Rothschild, Mrs. Martin (Elizabeth L. Barrett)',\n",
       "       'Coleff, Mr. Satio', 'Walker, Mr. William Anderson',\n",
       "       'Lemore, Mrs. (Amelia Milley)', 'Ryan, Mr. Patrick',\n",
       "       'Angle, Mrs. William A (Florence \"Mary\" Agnes Hughes)',\n",
       "       'Pavlovic, Mr. Stefo', 'Perreault, Miss. Anne', 'Vovk, Mr. Janko',\n",
       "       'Lahoud, Mr. Sarkis',\n",
       "       'Hippach, Mrs. Louis Albert (Ida Sophia Fischer)',\n",
       "       'Kassem, Mr. Fared', 'Farrell, Mr. James', 'Ridsdale, Miss. Lucy',\n",
       "       'Farthing, Mr. John', 'Salonen, Mr. Johan Werner',\n",
       "       'Hocking, Mr. Richard George', 'Quick, Miss. Phyllis May',\n",
       "       'Toufik, Mr. Nakli', 'Elias, Mr. Joseph Jr',\n",
       "       'Peter, Mrs. Catherine (Catherine Rizk)', 'Cacic, Miss. Marija',\n",
       "       'Hart, Miss. Eva Miriam', 'Butt, Major. Archibald Willingham',\n",
       "       'LeRoy, Miss. Bertha', 'Risien, Mr. Samuel Beard',\n",
       "       'Frolicher, Miss. Hedwig Margaritha', 'Crosby, Miss. Harriet R',\n",
       "       'Andersson, Miss. Ingeborg Constanzia',\n",
       "       'Andersson, Miss. Sigrid Elisabeth', 'Beane, Mr. Edward',\n",
       "       'Douglas, Mr. Walter Donald', 'Nicholson, Mr. Arthur Ernest',\n",
       "       'Beane, Mrs. Edward (Ethel Clarke)', 'Padro y Manent, Mr. Julian',\n",
       "       'Goldsmith, Mr. Frank John', 'Davies, Master. John Morgan Jr',\n",
       "       'Thayer, Mr. John Borland Jr', 'Sharp, Mr. Percival James R',\n",
       "       \"O'Brien, Mr. Timothy\", 'Leeni, Mr. Fahim (\"Philip Zenni\")',\n",
       "       'Ohman, Miss. Velin', 'Wright, Mr. George',\n",
       "       'Duff Gordon, Lady. (Lucille Christiana Sutherland) (\"Mrs Morgan\")',\n",
       "       'Robbins, Mr. Victor', 'Taussig, Mrs. Emil (Tillie Mandelbaum)',\n",
       "       'de Messemaeker, Mrs. Guillaume Joseph (Emma)',\n",
       "       'Morrow, Mr. Thomas Rowan', 'Sivic, Mr. Husein',\n",
       "       'Norman, Mr. Robert Douglas', 'Simmons, Mr. John',\n",
       "       'Meanwell, Miss. (Marion Ogden)', 'Davies, Mr. Alfred J',\n",
       "       'Stoytcheff, Mr. Ilia',\n",
       "       'Palsson, Mrs. Nils (Alma Cornelia Berglund)',\n",
       "       'Doharr, Mr. Tannous', 'Jonsson, Mr. Carl', 'Harris, Mr. George',\n",
       "       'Appleton, Mrs. Edward Dale (Charlotte Lamson)',\n",
       "       'Flynn, Mr. John Irwin (\"Irving\")', 'Kelly, Miss. Mary',\n",
       "       'Rush, Mr. Alfred George John', 'Patchett, Mr. George',\n",
       "       'Garside, Miss. Ethel',\n",
       "       'Silvey, Mrs. William Baird (Alice Munger)',\n",
       "       'Caram, Mrs. Joseph (Maria Elias)', 'Jussila, Mr. Eiriik',\n",
       "       'Christy, Miss. Julie Rachel',\n",
       "       'Thayer, Mrs. John Borland (Marian Longstreth Morris)',\n",
       "       'Downton, Mr. William James', 'Ross, Mr. John Hugo',\n",
       "       'Paulner, Mr. Uscher', 'Taussig, Miss. Ruth',\n",
       "       'Jarvis, Mr. John Denzil', 'Frolicher-Stehli, Mr. Maxmillian',\n",
       "       'Gilinski, Mr. Eliezer', 'Murdlin, Mr. Joseph',\n",
       "       'Rintamaki, Mr. Matti',\n",
       "       'Stephenson, Mrs. Walter Bertram (Martha Eustis)',\n",
       "       'Elsbury, Mr. William James', 'Bourke, Miss. Mary',\n",
       "       'Chapman, Mr. John Henry', 'Van Impe, Mr. Jean Baptiste',\n",
       "       'Leitch, Miss. Jessie Wills', 'Johnson, Mr. Alfred',\n",
       "       'Boulos, Mr. Hanna',\n",
       "       'Duff Gordon, Sir. Cosmo Edmund (\"Mr Morgan\")',\n",
       "       'Jacobsohn, Mrs. Sidney Samuel (Amy Frances Christy)',\n",
       "       'Slabenoff, Mr. Petco', 'Harrington, Mr. Charles H',\n",
       "       'Torber, Mr. Ernst William', 'Homer, Mr. Harry (\"Mr E Haven\")',\n",
       "       'Lindell, Mr. Edvard Bengtsson', 'Karaic, Mr. Milan',\n",
       "       'Daniel, Mr. Robert Williams',\n",
       "       'Laroche, Mrs. Joseph (Juliette Marie Louise Lafargue)',\n",
       "       'Shutes, Miss. Elizabeth W',\n",
       "       'Andersson, Mrs. Anders Johan (Alfrida Konstantia Brogren)',\n",
       "       'Jardin, Mr. Jose Neto', 'Murphy, Miss. Margaret Jane',\n",
       "       'Horgan, Mr. John', 'Brocklebank, Mr. William Alfred',\n",
       "       'Herman, Miss. Alice', 'Danbom, Mr. Ernst Gilbert',\n",
       "       'Lobb, Mrs. William Arthur (Cordelia K Stanlick)',\n",
       "       'Becker, Miss. Marion Louise', 'Gavey, Mr. Lawrence',\n",
       "       'Yasbeck, Mr. Antoni', 'Kimball, Mr. Edwin Nelson Jr',\n",
       "       'Nakid, Mr. Sahid', 'Hansen, Mr. Henry Damsgaard',\n",
       "       'Bowen, Mr. David John \"Dai\"', 'Sutton, Mr. Frederick',\n",
       "       'Kirkland, Rev. Charles Leonard', 'Longley, Miss. Gretchen Fiske',\n",
       "       'Bostandyeff, Mr. Guentcho', \"O'Connell, Mr. Patrick D\",\n",
       "       'Barkworth, Mr. Algernon Henry Wilson',\n",
       "       'Lundahl, Mr. Johan Svensson', 'Stahelin-Maeglin, Dr. Max',\n",
       "       'Parr, Mr. William Henry Marsh', 'Skoog, Miss. Mabel',\n",
       "       'Davis, Miss. Mary', 'Leinonen, Mr. Antti Gustaf',\n",
       "       'Collyer, Mr. Harvey', 'Panula, Mrs. Juha (Maria Emilia Ojala)',\n",
       "       'Thorneycroft, Mr. Percival', 'Jensen, Mr. Hans Peder',\n",
       "       'Sagesser, Mlle. Emma', 'Skoog, Miss. Margit Elizabeth',\n",
       "       'Foo, Mr. Choong', 'Baclini, Miss. Eugenie',\n",
       "       'Harper, Mr. Henry Sleeper', 'Cor, Mr. Liudevit',\n",
       "       'Simonius-Blumer, Col. Oberst Alfons', 'Willey, Mr. Edward',\n",
       "       'Stanley, Miss. Amy Zillah Elsie', 'Mitkoff, Mr. Mito',\n",
       "       'Doling, Miss. Elsie', 'Kalvik, Mr. Johannes Halvorsen',\n",
       "       'O\\'Leary, Miss. Hanora \"Norah\"', 'Hegarty, Miss. Hanora \"Nora\"',\n",
       "       'Hickman, Mr. Leonard Mark', 'Radeff, Mr. Alexander',\n",
       "       'Bourke, Mrs. John (Catherine)', 'Eitemiller, Mr. George Floyd',\n",
       "       'Newell, Mr. Arthur Webster', 'Frauenthal, Dr. Henry William',\n",
       "       'Badt, Mr. Mohamed', 'Colley, Mr. Edward Pomeroy',\n",
       "       'Coleff, Mr. Peju', 'Lindqvist, Mr. Eino William',\n",
       "       'Hickman, Mr. Lewis', 'Butler, Mr. Reginald Fenton',\n",
       "       'Rommetvedt, Mr. Knud Paust', 'Cook, Mr. Jacob',\n",
       "       'Taylor, Mrs. Elmer Zebley (Juliet Cummins Wright)',\n",
       "       'Brown, Mrs. Thomas William Solomon (Elizabeth Catherine Ford)',\n",
       "       'Davidson, Mr. Thornton', 'Mitchell, Mr. Henry Michael',\n",
       "       'Wilhelms, Mr. Charles', 'Watson, Mr. Ennis Hastings',\n",
       "       'Edvardsson, Mr. Gustaf Hjalmar', 'Sawyer, Mr. Frederick Charles',\n",
       "       'Turja, Miss. Anna Sofia',\n",
       "       'Goodwin, Mrs. Frederick (Augusta Tyler)',\n",
       "       'Cardeza, Mr. Thomas Drake Martinez', 'Peters, Miss. Katie',\n",
       "       'Hassab, Mr. Hammad', 'Olsvigen, Mr. Thor Anderson',\n",
       "       'Goodwin, Mr. Charles Edward', 'Brown, Mr. Thomas William Solomon',\n",
       "       'Laroche, Mr. Joseph Philippe Lemercier',\n",
       "       'Panula, Mr. Jaako Arnold', 'Dakic, Mr. Branko',\n",
       "       'Fischer, Mr. Eberhard Thelander',\n",
       "       'Madill, Miss. Georgette Alexandra', 'Dick, Mr. Albert Adrian',\n",
       "       'Karun, Miss. Manca', 'Lam, Mr. Ali', 'Saad, Mr. Khalil',\n",
       "       'Weir, Col. John', 'Chapman, Mr. Charles Henry',\n",
       "       'Kelly, Mr. James', 'Mullens, Miss. Katherine \"Katie\"',\n",
       "       'Thayer, Mr. John Borland',\n",
       "       'Humblen, Mr. Adolf Mathias Nicolai Olsen',\n",
       "       'Astor, Mrs. John Jacob (Madeleine Talmadge Force)',\n",
       "       'Silverthorne, Mr. Spencer Victor', 'Barbara, Miss. Saiide',\n",
       "       'Gallagher, Mr. Martin', 'Hansen, Mr. Henrik Juul',\n",
       "       'Morley, Mr. Henry Samuel (\"Mr Henry Marshall\")',\n",
       "       'Kelly, Mrs. Florence \"Fannie\"',\n",
       "       'Calderhead, Mr. Edward Pennington', 'Cleaver, Miss. Alice',\n",
       "       'Moubarek, Master. Halim Gonios (\"William George\")',\n",
       "       'Mayne, Mlle. Berthe Antonine (\"Mrs de Villiers\")',\n",
       "       'Klaber, Mr. Herman', 'Taylor, Mr. Elmer Zebley',\n",
       "       'Larsson, Mr. August Viktor', 'Greenberg, Mr. Samuel',\n",
       "       'Soholt, Mr. Peter Andreas Lauritz Andersen',\n",
       "       'Endres, Miss. Caroline Louise',\n",
       "       'Troutt, Miss. Edwina Celia \"Winnie\"', 'McEvoy, Mr. Michael',\n",
       "       'Johnson, Mr. Malkolm Joackim',\n",
       "       'Harper, Miss. Annie Jessie \"Nina\"', 'Jensen, Mr. Svend Lauritz',\n",
       "       'Gillespie, Mr. William Henry', 'Hodges, Mr. Henry Price',\n",
       "       'Chambers, Mr. Norman Campbell', 'Oreskovic, Mr. Luka',\n",
       "       'Renouf, Mrs. Peter Henry (Lillian Jefferys)',\n",
       "       'Mannion, Miss. Margareth', 'Bryhl, Mr. Kurt Arnold Gottfrid',\n",
       "       'Ilmakangas, Miss. Pieta Sofia', 'Allen, Miss. Elisabeth Walton',\n",
       "       'Hassan, Mr. Houssein G N', 'Knight, Mr. Robert J',\n",
       "       'Berriman, Mr. William John', 'Troupiansky, Mr. Moses Aaron',\n",
       "       'Williams, Mr. Leslie', 'Ford, Mrs. Edward (Margaret Ann Watson)',\n",
       "       'Lesurer, Mr. Gustave J', 'Ivanoff, Mr. Kanio',\n",
       "       'Nankoff, Mr. Minko', 'Hawksford, Mr. Walter James',\n",
       "       'Cavendish, Mr. Tyrell William',\n",
       "       'Ryerson, Miss. Susan Parker \"Suzette\"', 'McNamee, Mr. Neal',\n",
       "       'Stranden, Mr. Juho', 'Crosby, Capt. Edward Gifford',\n",
       "       'Abbott, Mr. Rossmore Edward', 'Sinkkonen, Miss. Anna',\n",
       "       'Marvin, Mr. Daniel Warner', 'Connaghton, Mr. Michael',\n",
       "       'Wells, Miss. Joan', 'Moor, Master. Meier',\n",
       "       'Vande Velde, Mr. Johannes Joseph', 'Jonkoff, Mr. Lalio',\n",
       "       'Herman, Mrs. Samuel (Jane Laver)', 'Hamalainen, Master. Viljo',\n",
       "       'Carlsson, Mr. August Sigfrid', 'Bailey, Mr. Percy Andrew',\n",
       "       'Theobald, Mr. Thomas Leonard',\n",
       "       'Rothes, the Countess. of (Lucy Noel Martha Dyer-Edwards)',\n",
       "       'Garfirth, Mr. John', 'Nirva, Mr. Iisakki Antino Aijo',\n",
       "       'Barah, Mr. Hanna Assi',\n",
       "       'Carter, Mrs. William Ernest (Lucile Polk)',\n",
       "       'Eklund, Mr. Hans Linus', 'Hogeboom, Mrs. John C (Anna Andrews)',\n",
       "       'Brewe, Dr. Arthur Jackson', 'Mangan, Miss. Mary',\n",
       "       'Moran, Mr. Daniel J', 'Gronnestad, Mr. Daniel Danielsen',\n",
       "       'Lievens, Mr. Rene Aime', 'Jensen, Mr. Niels Peder',\n",
       "       'Mack, Mrs. (Mary)', 'Elias, Mr. Dibo',\n",
       "       'Hocking, Mrs. Elizabeth (Eliza Needs)',\n",
       "       'Myhrman, Mr. Pehr Fabian Oliver Malkolm', 'Tobin, Mr. Roger',\n",
       "       'Emanuel, Miss. Virginia Ethel', 'Kilgannon, Mr. Thomas J',\n",
       "       'Robert, Mrs. Edward Scott (Elisabeth Walton McMillan)',\n",
       "       'Ayoub, Miss. Banoura',\n",
       "       'Dick, Mrs. Albert Adrian (Vera Gillespie)',\n",
       "       'Long, Mr. Milton Clyde', 'Johnston, Mr. Andrew G',\n",
       "       'Ali, Mr. William', 'Harmer, Mr. Abraham (David Lishin)',\n",
       "       'Sjoblom, Miss. Anna Sofia', 'Rice, Master. George Hugh',\n",
       "       'Dean, Master. Bertram Vere', 'Guggenheim, Mr. Benjamin',\n",
       "       'Keane, Mr. Andrew \"Andy\"', 'Gaskell, Mr. Alfred',\n",
       "       'Sage, Miss. Stella Anna', 'Hoyt, Mr. William Fisher',\n",
       "       'Dantcheff, Mr. Ristiu', 'Otter, Mr. Richard',\n",
       "       'Leader, Dr. Alice (Farnham)', 'Osman, Mrs. Mara',\n",
       "       'Ibrahim Shawah, Mr. Yousseff',\n",
       "       'Van Impe, Mrs. Jean Baptiste (Rosalie Paula Govaert)',\n",
       "       'Ponesell, Mr. Martin',\n",
       "       'Collyer, Mrs. Harvey (Charlotte Annie Tate)',\n",
       "       'Carter, Master. William Thornton II',\n",
       "       'Thomas, Master. Assad Alexander', 'Hedman, Mr. Oskar Arvid',\n",
       "       'Johansson, Mr. Karl Johan', 'Andrews, Mr. Thomas Jr',\n",
       "       'Pettersson, Miss. Ellen Natalia', 'Meyer, Mr. August',\n",
       "       'Chambers, Mrs. Norman Campbell (Bertha Griggs)',\n",
       "       'Alexander, Mr. William', 'Lester, Mr. James',\n",
       "       'Slemen, Mr. Richard James', 'Andersson, Miss. Ebba Iris Alfrida',\n",
       "       'Tomlin, Mr. Ernest Portage', 'Fry, Mr. Richard',\n",
       "       'Heininen, Miss. Wendla Maria', 'Mallet, Mr. Albert',\n",
       "       'Holm, Mr. John Fredrik Alexander', 'Skoog, Master. Karl Thorsten',\n",
       "       'Hays, Mrs. Charles Melville (Clara Jennings Gregg)',\n",
       "       'Lulic, Mr. Nikola', 'Reuchlin, Jonkheer. John George',\n",
       "       'Moor, Mrs. (Beila)', 'Panula, Master. Urho Abraham',\n",
       "       'Flynn, Mr. John', 'Lam, Mr. Len', 'Mallet, Master. Andre',\n",
       "       'McCormack, Mr. Thomas Joseph',\n",
       "       'Stone, Mrs. George Nelson (Martha Evelyn)',\n",
       "       'Yasbeck, Mrs. Antoni (Selini Alexander)',\n",
       "       'Richards, Master. George Sibley', 'Saad, Mr. Amin',\n",
       "       'Augustsson, Mr. Albert', 'Allum, Mr. Owen George',\n",
       "       'Compton, Miss. Sara Rebecca', 'Pasic, Mr. Jakob',\n",
       "       'Sirota, Mr. Maurice', 'Chip, Mr. Chang', 'Marechal, Mr. Pierre',\n",
       "       'Alhomaki, Mr. Ilmari Rudolf', 'Mudd, Mr. Thomas Charles',\n",
       "       'Serepeca, Miss. Augusta', 'Lemberopolous, Mr. Peter L',\n",
       "       'Culumovic, Mr. Jeso', 'Abbing, Mr. Anthony',\n",
       "       'Sage, Mr. Douglas Bullen', 'Markoff, Mr. Marin',\n",
       "       'Harper, Rev. John',\n",
       "       'Goldenberg, Mrs. Samuel L (Edwiga Grabowska)',\n",
       "       'Andersson, Master. Sigvard Harald Elias', 'Svensson, Mr. Johan',\n",
       "       'Boulos, Miss. Nourelain', 'Lines, Miss. Mary Conover',\n",
       "       'Carter, Mrs. Ernest Courtenay (Lilian Hughes)',\n",
       "       'Aks, Mrs. Sam (Leah Rosen)',\n",
       "       'Wick, Mrs. George Dennick (Mary Hitchcock)',\n",
       "       'Daly, Mr. Peter Denis ', 'Baclini, Mrs. Solomon (Latifa Qurban)',\n",
       "       'Razi, Mr. Raihed', 'Hansen, Mr. Claus Peter',\n",
       "       'Giles, Mr. Frederick Edward',\n",
       "       'Swift, Mrs. Frederick Joel (Margaret Welles Barron)',\n",
       "       'Sage, Miss. Dorothy Edith \"Dolly\"', 'Gill, Mr. John William',\n",
       "       'Bystrom, Mrs. (Karolina)', 'Duran y More, Miss. Asuncion',\n",
       "       'Roebling, Mr. Washington Augustus II',\n",
       "       'van Melkebeke, Mr. Philemon', 'Johnson, Master. Harold Theodor',\n",
       "       'Balkic, Mr. Cerin',\n",
       "       'Beckwith, Mrs. Richard Leonard (Sallie Monypeny)',\n",
       "       'Carlsson, Mr. Frans Olof', 'Vander Cruyssen, Mr. Victor',\n",
       "       'Abelson, Mrs. Samuel (Hannah Wizosky)',\n",
       "       'Najib, Miss. Adele Kiamie \"Jane\"',\n",
       "       'Gustafsson, Mr. Alfred Ossian', 'Petroff, Mr. Nedelio',\n",
       "       'Laleff, Mr. Kristo',\n",
       "       'Potter, Mrs. Thomas Jr (Lily Alexenia Wilson)',\n",
       "       'Shelley, Mrs. William (Imanita Parrish Hall)',\n",
       "       'Markun, Mr. Johann', 'Dahlberg, Miss. Gerda Ulrika',\n",
       "       'Banfield, Mr. Frederick James', 'Sutehall, Mr. Henry Jr',\n",
       "       'Rice, Mrs. William (Margaret Norton)', 'Montvila, Rev. Juozas',\n",
       "       'Graham, Miss. Margaret Edith',\n",
       "       'Johnston, Miss. Catherine Helen \"Carrie\"',\n",
       "       'Behr, Mr. Karl Howell', 'Dooley, Mr. Patrick'], dtype=object)"
      ]
     },
     "execution_count": 18,
     "metadata": {},
     "output_type": "execute_result"
    }
   ],
   "source": [
    "data.Name.unique()"
   ]
  },
  {
   "cell_type": "code",
   "execution_count": 19,
   "id": "e101b8a9",
   "metadata": {},
   "outputs": [
    {
     "data": {
      "text/plain": [
       "'Nasser, Mrs. Nicholas (Adele Achem)'"
      ]
     },
     "execution_count": 19,
     "metadata": {},
     "output_type": "execute_result"
    }
   ],
   "source": [
    "one_name = data.iloc[9].Name\n",
    "one_name"
   ]
  },
  {
   "cell_type": "code",
   "execution_count": 20,
   "id": "4bd08d77",
   "metadata": {},
   "outputs": [
    {
     "data": {
      "text/plain": [
       "'Mrs'"
      ]
     },
     "execution_count": 20,
     "metadata": {},
     "output_type": "execute_result"
    }
   ],
   "source": [
    "one_name.split(\",\")[1].split(\".\")[0].strip()"
   ]
  },
  {
   "cell_type": "code",
   "execution_count": 21,
   "id": "58ae3259",
   "metadata": {},
   "outputs": [],
   "source": [
    "def get_title (x):\n",
    "    return x.split(\",\")[1].split(\".\")[0].strip()"
   ]
  },
  {
   "cell_type": "code",
   "execution_count": 22,
   "id": "79904826",
   "metadata": {},
   "outputs": [
    {
     "data": {
      "text/plain": [
       "'Mrs'"
      ]
     },
     "execution_count": 22,
     "metadata": {},
     "output_type": "execute_result"
    }
   ],
   "source": [
    "get_title ('Nasser, Mrs. Nicholas (Adele Achem)')"
   ]
  },
  {
   "cell_type": "code",
   "execution_count": 23,
   "id": "94912029",
   "metadata": {},
   "outputs": [],
   "source": [
    "data[\"title\"] = data.Name.apply(get_title)"
   ]
  },
  {
   "cell_type": "code",
   "execution_count": 24,
   "id": "77c54ab1",
   "metadata": {},
   "outputs": [
    {
     "data": {
      "text/html": [
       "<div>\n",
       "<style scoped>\n",
       "    .dataframe tbody tr th:only-of-type {\n",
       "        vertical-align: middle;\n",
       "    }\n",
       "\n",
       "    .dataframe tbody tr th {\n",
       "        vertical-align: top;\n",
       "    }\n",
       "\n",
       "    .dataframe thead th {\n",
       "        text-align: right;\n",
       "    }\n",
       "</style>\n",
       "<table border=\"1\" class=\"dataframe\">\n",
       "  <thead>\n",
       "    <tr style=\"text-align: right;\">\n",
       "      <th></th>\n",
       "      <th>Survived</th>\n",
       "      <th>Pclass</th>\n",
       "      <th>Name</th>\n",
       "      <th>Sex</th>\n",
       "      <th>Age</th>\n",
       "      <th>SibSp</th>\n",
       "      <th>Parch</th>\n",
       "      <th>Ticket</th>\n",
       "      <th>Fare</th>\n",
       "      <th>Cabin</th>\n",
       "      <th>Embarked</th>\n",
       "      <th>deck</th>\n",
       "      <th>title</th>\n",
       "    </tr>\n",
       "  </thead>\n",
       "  <tbody>\n",
       "    <tr>\n",
       "      <th>298</th>\n",
       "      <td>1</td>\n",
       "      <td>1</td>\n",
       "      <td>Saalfeld, Mr. Adolphe</td>\n",
       "      <td>male</td>\n",
       "      <td>NaN</td>\n",
       "      <td>0</td>\n",
       "      <td>0</td>\n",
       "      <td>19988</td>\n",
       "      <td>30.5000</td>\n",
       "      <td>C106</td>\n",
       "      <td>S</td>\n",
       "      <td>C</td>\n",
       "      <td>Mr</td>\n",
       "    </tr>\n",
       "    <tr>\n",
       "      <th>228</th>\n",
       "      <td>0</td>\n",
       "      <td>2</td>\n",
       "      <td>Fahlstrom, Mr. Arne Jonas</td>\n",
       "      <td>male</td>\n",
       "      <td>18.0</td>\n",
       "      <td>0</td>\n",
       "      <td>0</td>\n",
       "      <td>236171</td>\n",
       "      <td>13.0000</td>\n",
       "      <td>NaN</td>\n",
       "      <td>S</td>\n",
       "      <td>M</td>\n",
       "      <td>Mr</td>\n",
       "    </tr>\n",
       "    <tr>\n",
       "      <th>421</th>\n",
       "      <td>0</td>\n",
       "      <td>3</td>\n",
       "      <td>Charters, Mr. David</td>\n",
       "      <td>male</td>\n",
       "      <td>21.0</td>\n",
       "      <td>0</td>\n",
       "      <td>0</td>\n",
       "      <td>A/5. 13032</td>\n",
       "      <td>7.7333</td>\n",
       "      <td>NaN</td>\n",
       "      <td>Q</td>\n",
       "      <td>M</td>\n",
       "      <td>Mr</td>\n",
       "    </tr>\n",
       "    <tr>\n",
       "      <th>849</th>\n",
       "      <td>1</td>\n",
       "      <td>1</td>\n",
       "      <td>Goldenberg, Mrs. Samuel L (Edwiga Grabowska)</td>\n",
       "      <td>female</td>\n",
       "      <td>NaN</td>\n",
       "      <td>1</td>\n",
       "      <td>0</td>\n",
       "      <td>17453</td>\n",
       "      <td>89.1042</td>\n",
       "      <td>C92</td>\n",
       "      <td>C</td>\n",
       "      <td>C</td>\n",
       "      <td>Mrs</td>\n",
       "    </tr>\n",
       "  </tbody>\n",
       "</table>\n",
       "</div>"
      ],
      "text/plain": [
       "     Survived  Pclass                                          Name     Sex  \\\n",
       "298         1       1                         Saalfeld, Mr. Adolphe    male   \n",
       "228         0       2                     Fahlstrom, Mr. Arne Jonas    male   \n",
       "421         0       3                           Charters, Mr. David    male   \n",
       "849         1       1  Goldenberg, Mrs. Samuel L (Edwiga Grabowska)  female   \n",
       "\n",
       "      Age  SibSp  Parch      Ticket     Fare Cabin Embarked deck title  \n",
       "298   NaN      0      0       19988  30.5000  C106        S    C    Mr  \n",
       "228  18.0      0      0      236171  13.0000   NaN        S    M    Mr  \n",
       "421  21.0      0      0  A/5. 13032   7.7333   NaN        Q    M    Mr  \n",
       "849   NaN      1      0       17453  89.1042   C92        C    C   Mrs  "
      ]
     },
     "execution_count": 24,
     "metadata": {},
     "output_type": "execute_result"
    }
   ],
   "source": [
    "data.sample(4)"
   ]
  },
  {
   "cell_type": "code",
   "execution_count": 25,
   "id": "67e925f2",
   "metadata": {},
   "outputs": [
    {
     "data": {
      "text/plain": [
       "array(['Mr', 'Mrs', 'Miss', 'Master', 'Don', 'Rev', 'Dr', 'Mme', 'Ms',\n",
       "       'Major', 'Lady', 'Sir', 'Mlle', 'Col', 'Capt', 'the Countess',\n",
       "       'Jonkheer'], dtype=object)"
      ]
     },
     "execution_count": 25,
     "metadata": {},
     "output_type": "execute_result"
    }
   ],
   "source": [
    "data[\"title\"].unique()"
   ]
  },
  {
   "cell_type": "code",
   "execution_count": 26,
   "id": "da38f208",
   "metadata": {},
   "outputs": [
    {
     "data": {
      "text/plain": [
       "Mr              517\n",
       "Miss            182\n",
       "Mrs             125\n",
       "Master           40\n",
       "Dr                7\n",
       "Rev               6\n",
       "Mlle              2\n",
       "Major             2\n",
       "Col               2\n",
       "the Countess      1\n",
       "Capt              1\n",
       "Ms                1\n",
       "Sir               1\n",
       "Lady              1\n",
       "Mme               1\n",
       "Don               1\n",
       "Jonkheer          1\n",
       "Name: title, dtype: int64"
      ]
     },
     "execution_count": 26,
     "metadata": {},
     "output_type": "execute_result"
    }
   ],
   "source": [
    "data[\"title\"].value_counts()"
   ]
  },
  {
   "cell_type": "code",
   "execution_count": 27,
   "id": "4a543549",
   "metadata": {},
   "outputs": [],
   "source": [
    "# map in pandas columns "
   ]
  },
  {
   "cell_type": "code",
   "execution_count": 28,
   "id": "5a9883a2",
   "metadata": {},
   "outputs": [
    {
     "data": {
      "text/plain": [
       "['T', 'abs', 'add', 'agg', 'aggregate']"
      ]
     },
     "execution_count": 28,
     "metadata": {},
     "output_type": "execute_result"
    }
   ],
   "source": [
    "[i for i in dir(pd.Series) if \"_\" not in i][:5]"
   ]
  },
  {
   "cell_type": "code",
   "execution_count": 29,
   "id": "dade3aed",
   "metadata": {},
   "outputs": [
    {
     "data": {
      "text/plain": [
       "'\\nsmall_dictionary = {\\n    \"Mlle\": \"Miss\"\\n}\\n\\n#\\xa0Ms -> Miss\\n#\\xa0Mlle -> Miss\\ndata[\"title\"] = data[\"title\"].map(small_dictionary, na_action=\\'ignore\\')\\n\\ndata[\"title\"].value_counts()\\ndata.sample(5)\\n'"
      ]
     },
     "execution_count": 29,
     "metadata": {},
     "output_type": "execute_result"
    }
   ],
   "source": [
    "\"\"\"\n",
    "small_dictionary = {\n",
    "    \"Mlle\": \"Miss\"\n",
    "}\n",
    "\n",
    "# Ms -> Miss\n",
    "# Mlle -> Miss\n",
    "data[\"title\"] = data[\"title\"].map(small_dictionary, na_action='ignore')\n",
    "\n",
    "data[\"title\"].value_counts()\n",
    "data.sample(5)\n",
    "\"\"\""
   ]
  },
  {
   "cell_type": "code",
   "execution_count": 30,
   "id": "b6099e44",
   "metadata": {},
   "outputs": [
    {
     "data": {
      "text/plain": [
       "{'Mr': 'Mr',\n",
       " 'Mrs': 'Mrs',\n",
       " 'Miss': 'Miss',\n",
       " 'Master': 'Master',\n",
       " 'Don': 'Don',\n",
       " 'Rev': 'Rev',\n",
       " 'Dr': 'Dr',\n",
       " 'Mme': 'Mme',\n",
       " 'Ms': 'Ms',\n",
       " 'Major': 'Major',\n",
       " 'Lady': 'Lady',\n",
       " 'Sir': 'Sir',\n",
       " 'Mlle': 'Mlle',\n",
       " 'Col': 'Col',\n",
       " 'Capt': 'Capt',\n",
       " 'the Countess': 'the Countess',\n",
       " 'Jonkheer': 'Jonkheer'}"
      ]
     },
     "execution_count": 30,
     "metadata": {},
     "output_type": "execute_result"
    }
   ],
   "source": [
    "new_dict = {\n",
    "    \n",
    "}\n",
    "\n",
    "for i in list(data[\"title\"].unique()):\n",
    "    new_dict[i] = i\n",
    "    \n",
    "new_dict\n",
    "\n",
    "#{\"Mr\": [\"Mister\", \"Mr.\", \"\"]}"
   ]
  },
  {
   "cell_type": "code",
   "execution_count": 31,
   "id": "e73ca889",
   "metadata": {},
   "outputs": [],
   "source": [
    "data[\"title\"] = data.title.apply(lambda x: x.replace(\"Mlle\", \"Miss\"))"
   ]
  },
  {
   "cell_type": "code",
   "execution_count": 32,
   "id": "ad7246e3",
   "metadata": {},
   "outputs": [],
   "source": [
    "#data[\"col\"] = data.col.apply(func_)"
   ]
  },
  {
   "cell_type": "code",
   "execution_count": 33,
   "id": "e16b8fe4",
   "metadata": {},
   "outputs": [
    {
     "data": {
      "text/plain": [
       "Mr              517\n",
       "Miss            184\n",
       "Mrs             125\n",
       "Master           40\n",
       "Dr                7\n",
       "Rev               6\n",
       "Major             2\n",
       "Col               2\n",
       "Don               1\n",
       "Mme               1\n",
       "Ms                1\n",
       "Lady              1\n",
       "Sir               1\n",
       "Capt              1\n",
       "the Countess      1\n",
       "Jonkheer          1\n",
       "Name: title, dtype: int64"
      ]
     },
     "execution_count": 33,
     "metadata": {},
     "output_type": "execute_result"
    }
   ],
   "source": [
    "data[\"title\"].value_counts()"
   ]
  },
  {
   "cell_type": "code",
   "execution_count": 34,
   "id": "98bcd603",
   "metadata": {},
   "outputs": [
    {
     "data": {
      "text/plain": [
       "Mr              False\n",
       "Miss            False\n",
       "Mrs             False\n",
       "Master          False\n",
       "Dr              False\n",
       "Rev             False\n",
       "Major            True\n",
       "Col              True\n",
       "Don              True\n",
       "Mme              True\n",
       "Ms               True\n",
       "Lady             True\n",
       "Sir              True\n",
       "Capt             True\n",
       "the Countess     True\n",
       "Jonkheer         True\n",
       "Name: title, dtype: bool"
      ]
     },
     "execution_count": 34,
     "metadata": {},
     "output_type": "execute_result"
    }
   ],
   "source": [
    "less_than_7 = (data.title.value_counts() < 6)\n",
    "less_than_7"
   ]
  },
  {
   "cell_type": "code",
   "execution_count": 35,
   "id": "c1f8449e",
   "metadata": {},
   "outputs": [],
   "source": [
    " # data.head(1) = data.iloc[0] -> Braund, Mr. Owen Harris"
   ]
  },
  {
   "cell_type": "code",
   "execution_count": 36,
   "id": "1f5883e0",
   "metadata": {},
   "outputs": [],
   "source": [
    "data[\"title\"] = data[\"title\"].apply(lambda x: \"Misc\" if less_than_7.loc[x] == True else x)"
   ]
  },
  {
   "cell_type": "code",
   "execution_count": 37,
   "id": "91aa3cb7",
   "metadata": {},
   "outputs": [],
   "source": [
    "#data[\"title\"] = data[\"title\"].apply(lambda x: \"Misc\" if less_than_7.loc[x] else x)"
   ]
  },
  {
   "cell_type": "code",
   "execution_count": 38,
   "id": "1b37cec4",
   "metadata": {},
   "outputs": [
    {
     "data": {
      "text/plain": [
       "array(['Mr', 'Mrs', 'Miss', 'Master', 'Misc', 'Rev', 'Dr'], dtype=object)"
      ]
     },
     "execution_count": 38,
     "metadata": {},
     "output_type": "execute_result"
    }
   ],
   "source": [
    "data.title.unique()"
   ]
  },
  {
   "cell_type": "code",
   "execution_count": 39,
   "id": "4ba1cab3",
   "metadata": {},
   "outputs": [],
   "source": [
    "# /KERNEL/ -> COLONEL ()"
   ]
  },
  {
   "cell_type": "markdown",
   "id": "eb4aa383",
   "metadata": {
    "lang": "en"
   },
   "source": [
    "The name could give us important information about the socioeconomic status of a passenger. And depending on their socioeconomic status, they have been able to buy a more expensive or cheaper ticket, which indicates a cabin located in one place or another on the ship. We can answer the question of whether or not someone is married or has a formal title and extract that information to generate a new variable."
   ]
  },
  {
   "cell_type": "code",
   "execution_count": 40,
   "id": "3a6e2d2b",
   "metadata": {},
   "outputs": [
    {
     "data": {
      "text/html": [
       "<div>\n",
       "<style scoped>\n",
       "    .dataframe tbody tr th:only-of-type {\n",
       "        vertical-align: middle;\n",
       "    }\n",
       "\n",
       "    .dataframe tbody tr th {\n",
       "        vertical-align: top;\n",
       "    }\n",
       "\n",
       "    .dataframe thead th {\n",
       "        text-align: right;\n",
       "    }\n",
       "</style>\n",
       "<table border=\"1\" class=\"dataframe\">\n",
       "  <thead>\n",
       "    <tr style=\"text-align: right;\">\n",
       "      <th></th>\n",
       "      <th>Survived</th>\n",
       "      <th>Pclass</th>\n",
       "      <th>Name</th>\n",
       "      <th>Sex</th>\n",
       "      <th>Age</th>\n",
       "      <th>SibSp</th>\n",
       "      <th>Parch</th>\n",
       "      <th>Ticket</th>\n",
       "      <th>Fare</th>\n",
       "      <th>Cabin</th>\n",
       "      <th>Embarked</th>\n",
       "      <th>deck</th>\n",
       "      <th>title</th>\n",
       "    </tr>\n",
       "  </thead>\n",
       "  <tbody>\n",
       "    <tr>\n",
       "      <th>585</th>\n",
       "      <td>1</td>\n",
       "      <td>1</td>\n",
       "      <td>Taussig, Miss. Ruth</td>\n",
       "      <td>female</td>\n",
       "      <td>18.0</td>\n",
       "      <td>0</td>\n",
       "      <td>2</td>\n",
       "      <td>110413</td>\n",
       "      <td>79.6500</td>\n",
       "      <td>E68</td>\n",
       "      <td>S</td>\n",
       "      <td>E</td>\n",
       "      <td>Miss</td>\n",
       "    </tr>\n",
       "    <tr>\n",
       "      <th>92</th>\n",
       "      <td>0</td>\n",
       "      <td>1</td>\n",
       "      <td>Chaffee, Mr. Herbert Fuller</td>\n",
       "      <td>male</td>\n",
       "      <td>46.0</td>\n",
       "      <td>1</td>\n",
       "      <td>0</td>\n",
       "      <td>W.E.P. 5734</td>\n",
       "      <td>61.1750</td>\n",
       "      <td>E31</td>\n",
       "      <td>S</td>\n",
       "      <td>E</td>\n",
       "      <td>Mr</td>\n",
       "    </tr>\n",
       "    <tr>\n",
       "      <th>857</th>\n",
       "      <td>1</td>\n",
       "      <td>1</td>\n",
       "      <td>Daly, Mr. Peter Denis</td>\n",
       "      <td>male</td>\n",
       "      <td>51.0</td>\n",
       "      <td>0</td>\n",
       "      <td>0</td>\n",
       "      <td>113055</td>\n",
       "      <td>26.5500</td>\n",
       "      <td>E17</td>\n",
       "      <td>S</td>\n",
       "      <td>E</td>\n",
       "      <td>Mr</td>\n",
       "    </tr>\n",
       "    <tr>\n",
       "      <th>797</th>\n",
       "      <td>1</td>\n",
       "      <td>3</td>\n",
       "      <td>Osman, Mrs. Mara</td>\n",
       "      <td>female</td>\n",
       "      <td>31.0</td>\n",
       "      <td>0</td>\n",
       "      <td>0</td>\n",
       "      <td>349244</td>\n",
       "      <td>8.6833</td>\n",
       "      <td>NaN</td>\n",
       "      <td>S</td>\n",
       "      <td>M</td>\n",
       "      <td>Mrs</td>\n",
       "    </tr>\n",
       "    <tr>\n",
       "      <th>402</th>\n",
       "      <td>0</td>\n",
       "      <td>3</td>\n",
       "      <td>Jussila, Miss. Mari Aina</td>\n",
       "      <td>female</td>\n",
       "      <td>21.0</td>\n",
       "      <td>1</td>\n",
       "      <td>0</td>\n",
       "      <td>4137</td>\n",
       "      <td>9.8250</td>\n",
       "      <td>NaN</td>\n",
       "      <td>S</td>\n",
       "      <td>M</td>\n",
       "      <td>Miss</td>\n",
       "    </tr>\n",
       "  </tbody>\n",
       "</table>\n",
       "</div>"
      ],
      "text/plain": [
       "     Survived  Pclass                         Name     Sex   Age  SibSp  \\\n",
       "585         1       1          Taussig, Miss. Ruth  female  18.0      0   \n",
       "92          0       1  Chaffee, Mr. Herbert Fuller    male  46.0      1   \n",
       "857         1       1       Daly, Mr. Peter Denis     male  51.0      0   \n",
       "797         1       3             Osman, Mrs. Mara  female  31.0      0   \n",
       "402         0       3     Jussila, Miss. Mari Aina  female  21.0      1   \n",
       "\n",
       "     Parch       Ticket     Fare Cabin Embarked deck title  \n",
       "585      2       110413  79.6500   E68        S    E  Miss  \n",
       "92       0  W.E.P. 5734  61.1750   E31        S    E    Mr  \n",
       "857      0       113055  26.5500   E17        S    E    Mr  \n",
       "797      0       349244   8.6833   NaN        S    M   Mrs  \n",
       "402      0         4137   9.8250   NaN        S    M  Miss  "
      ]
     },
     "execution_count": 40,
     "metadata": {},
     "output_type": "execute_result"
    }
   ],
   "source": [
    "data.sample(5)"
   ]
  },
  {
   "cell_type": "code",
   "execution_count": 41,
   "id": "bd361b61",
   "metadata": {},
   "outputs": [],
   "source": [
    "# GOAL -> make columns lowercase (so it's easier)\n",
    "    #1. for i in data.columns:\n",
    "        # i = i.lower()\n",
    "    #2. replace\n",
    "    #3. FUNC: rename. -> df.rename(columns={\"A\": \"a\", \"B\": \"c\"})\n",
    "    #4. ATTR: over-write"
   ]
  },
  {
   "cell_type": "code",
   "execution_count": 42,
   "id": "c32156c4",
   "metadata": {},
   "outputs": [],
   "source": [
    "data.columns = [i.lower() for i in data.columns]"
   ]
  },
  {
   "cell_type": "code",
   "execution_count": 43,
   "id": "99bf0a4d",
   "metadata": {},
   "outputs": [],
   "source": [
    "import os\n",
    "import warnings\n",
    "warnings.filterwarnings(\"ignore\")\n",
    "\n",
    "\n",
    "def push ():\n",
    "    os.system(\"git add 03-Feature_engineering.ipynb; git commit -m 'uploading'; git push origin main\")\n",
    "    return \"pushed\""
   ]
  },
  {
   "cell_type": "code",
   "execution_count": 44,
   "id": "1558fc5a",
   "metadata": {},
   "outputs": [
    {
     "name": "stdout",
     "output_type": "stream",
     "text": [
      "[main dffada9] uploading\n",
      " 1 file changed, 1553 insertions(+), 840 deletions(-)\n"
     ]
    },
    {
     "name": "stderr",
     "output_type": "stream",
     "text": [
      "To https://github.com/Ironhack-data-bcn-oct-2022/lectures\n",
      "   6881ea0..dffada9  main -> main\n"
     ]
    },
    {
     "data": {
      "text/plain": [
       "'pushed'"
      ]
     },
     "execution_count": 44,
     "metadata": {},
     "output_type": "execute_result"
    }
   ],
   "source": [
    "push()"
   ]
  },
  {
   "cell_type": "code",
   "execution_count": 45,
   "id": "161efb01",
   "metadata": {},
   "outputs": [],
   "source": [
    "columns_to_drop = [\"name\", \"cabin\", \"ticket\"]"
   ]
  },
  {
   "cell_type": "code",
   "execution_count": 46,
   "id": "4a2c463c",
   "metadata": {},
   "outputs": [],
   "source": [
    "data.drop(columns_to_drop, inplace=True, axis=1)"
   ]
  },
  {
   "cell_type": "code",
   "execution_count": 47,
   "id": "46b43a3d",
   "metadata": {},
   "outputs": [
    {
     "data": {
      "text/html": [
       "<div>\n",
       "<style scoped>\n",
       "    .dataframe tbody tr th:only-of-type {\n",
       "        vertical-align: middle;\n",
       "    }\n",
       "\n",
       "    .dataframe tbody tr th {\n",
       "        vertical-align: top;\n",
       "    }\n",
       "\n",
       "    .dataframe thead th {\n",
       "        text-align: right;\n",
       "    }\n",
       "</style>\n",
       "<table border=\"1\" class=\"dataframe\">\n",
       "  <thead>\n",
       "    <tr style=\"text-align: right;\">\n",
       "      <th></th>\n",
       "      <th>survived</th>\n",
       "      <th>pclass</th>\n",
       "      <th>sex</th>\n",
       "      <th>age</th>\n",
       "      <th>sibsp</th>\n",
       "      <th>parch</th>\n",
       "      <th>fare</th>\n",
       "      <th>embarked</th>\n",
       "      <th>deck</th>\n",
       "      <th>title</th>\n",
       "    </tr>\n",
       "  </thead>\n",
       "  <tbody>\n",
       "    <tr>\n",
       "      <th>508</th>\n",
       "      <td>0</td>\n",
       "      <td>3</td>\n",
       "      <td>male</td>\n",
       "      <td>28.0</td>\n",
       "      <td>0</td>\n",
       "      <td>0</td>\n",
       "      <td>22.525</td>\n",
       "      <td>S</td>\n",
       "      <td>M</td>\n",
       "      <td>Mr</td>\n",
       "    </tr>\n",
       "    <tr>\n",
       "      <th>241</th>\n",
       "      <td>1</td>\n",
       "      <td>3</td>\n",
       "      <td>female</td>\n",
       "      <td>NaN</td>\n",
       "      <td>1</td>\n",
       "      <td>0</td>\n",
       "      <td>15.500</td>\n",
       "      <td>Q</td>\n",
       "      <td>M</td>\n",
       "      <td>Miss</td>\n",
       "    </tr>\n",
       "    <tr>\n",
       "      <th>846</th>\n",
       "      <td>0</td>\n",
       "      <td>3</td>\n",
       "      <td>male</td>\n",
       "      <td>NaN</td>\n",
       "      <td>8</td>\n",
       "      <td>2</td>\n",
       "      <td>69.550</td>\n",
       "      <td>S</td>\n",
       "      <td>M</td>\n",
       "      <td>Mr</td>\n",
       "    </tr>\n",
       "    <tr>\n",
       "      <th>56</th>\n",
       "      <td>1</td>\n",
       "      <td>2</td>\n",
       "      <td>female</td>\n",
       "      <td>21.0</td>\n",
       "      <td>0</td>\n",
       "      <td>0</td>\n",
       "      <td>10.500</td>\n",
       "      <td>S</td>\n",
       "      <td>M</td>\n",
       "      <td>Miss</td>\n",
       "    </tr>\n",
       "  </tbody>\n",
       "</table>\n",
       "</div>"
      ],
      "text/plain": [
       "     survived  pclass     sex   age  sibsp  parch    fare embarked deck title\n",
       "508         0       3    male  28.0      0      0  22.525        S    M    Mr\n",
       "241         1       3  female   NaN      1      0  15.500        Q    M  Miss\n",
       "846         0       3    male   NaN      8      2  69.550        S    M    Mr\n",
       "56          1       2  female  21.0      0      0  10.500        S    M  Miss"
      ]
     },
     "execution_count": 47,
     "metadata": {},
     "output_type": "execute_result"
    }
   ],
   "source": [
    "data.sample(4)"
   ]
  },
  {
   "cell_type": "code",
   "execution_count": 48,
   "id": "fed95b6b",
   "metadata": {},
   "outputs": [
    {
     "data": {
      "text/plain": [
       "survived      0\n",
       "pclass        0\n",
       "sex           0\n",
       "age         177\n",
       "sibsp         0\n",
       "parch         0\n",
       "fare          0\n",
       "embarked      2\n",
       "deck          0\n",
       "title         0\n",
       "dtype: int64"
      ]
     },
     "execution_count": 48,
     "metadata": {},
     "output_type": "execute_result"
    }
   ],
   "source": [
    "data.isnull().sum()"
   ]
  },
  {
   "cell_type": "code",
   "execution_count": 49,
   "id": "aac5ea98",
   "metadata": {},
   "outputs": [],
   "source": [
    "#REPLACE WITH MEAN"
   ]
  },
  {
   "cell_type": "code",
   "execution_count": 50,
   "id": "ce040e93",
   "metadata": {},
   "outputs": [
    {
     "data": {
      "text/plain": [
       "29.69911764705882"
      ]
     },
     "execution_count": 50,
     "metadata": {},
     "output_type": "execute_result"
    }
   ],
   "source": [
    "data.age.mean()"
   ]
  },
  {
   "cell_type": "code",
   "execution_count": 51,
   "id": "b515c49d",
   "metadata": {},
   "outputs": [
    {
     "data": {
      "text/plain": [
       "sex\n",
       "female    27.915709\n",
       "male      30.726645\n",
       "Name: age, dtype: float64"
      ]
     },
     "execution_count": 51,
     "metadata": {},
     "output_type": "execute_result"
    }
   ],
   "source": [
    "#groupby: \n",
    "\n",
    "data.groupby(\"sex\")[\"age\"].mean()"
   ]
  },
  {
   "cell_type": "code",
   "execution_count": 52,
   "id": "ac600f00",
   "metadata": {},
   "outputs": [
    {
     "data": {
      "text/plain": [
       "sex\n",
       "female    27.0\n",
       "male      29.0\n",
       "Name: age, dtype: float64"
      ]
     },
     "execution_count": 52,
     "metadata": {},
     "output_type": "execute_result"
    }
   ],
   "source": [
    "data.groupby(\"sex\")[\"age\"].median()"
   ]
  },
  {
   "cell_type": "code",
   "execution_count": 53,
   "id": "22a21a95",
   "metadata": {},
   "outputs": [
    {
     "data": {
      "text/plain": [
       "sex     title \n",
       "female  Dr        49.000000\n",
       "        Misc      33.250000\n",
       "        Miss      21.804054\n",
       "        Mrs       35.898148\n",
       "male    Dr        40.600000\n",
       "        Master     4.574167\n",
       "        Misc      51.250000\n",
       "        Mr        32.368090\n",
       "        Rev       43.166667\n",
       "Name: age, dtype: float64"
      ]
     },
     "execution_count": 53,
     "metadata": {},
     "output_type": "execute_result"
    }
   ],
   "source": [
    "#group by sex AND title\n",
    "\n",
    "data.groupby([\"sex\", \"title\"])[\"age\"].mean()"
   ]
  },
  {
   "cell_type": "code",
   "execution_count": 54,
   "id": "d1b51f4f",
   "metadata": {},
   "outputs": [
    {
     "data": {
      "text/html": [
       "<div>\n",
       "<style scoped>\n",
       "    .dataframe tbody tr th:only-of-type {\n",
       "        vertical-align: middle;\n",
       "    }\n",
       "\n",
       "    .dataframe tbody tr th {\n",
       "        vertical-align: top;\n",
       "    }\n",
       "\n",
       "    .dataframe thead th {\n",
       "        text-align: right;\n",
       "    }\n",
       "</style>\n",
       "<table border=\"1\" class=\"dataframe\">\n",
       "  <thead>\n",
       "    <tr style=\"text-align: right;\">\n",
       "      <th></th>\n",
       "      <th></th>\n",
       "      <th>age</th>\n",
       "    </tr>\n",
       "    <tr>\n",
       "      <th>sex</th>\n",
       "      <th>title</th>\n",
       "      <th></th>\n",
       "    </tr>\n",
       "  </thead>\n",
       "  <tbody>\n",
       "    <tr>\n",
       "      <th rowspan=\"4\" valign=\"top\">female</th>\n",
       "      <th>Dr</th>\n",
       "      <td>49.000000</td>\n",
       "    </tr>\n",
       "    <tr>\n",
       "      <th>Misc</th>\n",
       "      <td>33.250000</td>\n",
       "    </tr>\n",
       "    <tr>\n",
       "      <th>Miss</th>\n",
       "      <td>21.804054</td>\n",
       "    </tr>\n",
       "    <tr>\n",
       "      <th>Mrs</th>\n",
       "      <td>35.898148</td>\n",
       "    </tr>\n",
       "    <tr>\n",
       "      <th rowspan=\"5\" valign=\"top\">male</th>\n",
       "      <th>Dr</th>\n",
       "      <td>40.600000</td>\n",
       "    </tr>\n",
       "    <tr>\n",
       "      <th>Master</th>\n",
       "      <td>4.574167</td>\n",
       "    </tr>\n",
       "    <tr>\n",
       "      <th>Misc</th>\n",
       "      <td>51.250000</td>\n",
       "    </tr>\n",
       "    <tr>\n",
       "      <th>Mr</th>\n",
       "      <td>32.368090</td>\n",
       "    </tr>\n",
       "    <tr>\n",
       "      <th>Rev</th>\n",
       "      <td>43.166667</td>\n",
       "    </tr>\n",
       "  </tbody>\n",
       "</table>\n",
       "</div>"
      ],
      "text/plain": [
       "                     age\n",
       "sex    title            \n",
       "female Dr      49.000000\n",
       "       Misc    33.250000\n",
       "       Miss    21.804054\n",
       "       Mrs     35.898148\n",
       "male   Dr      40.600000\n",
       "       Master   4.574167\n",
       "       Misc    51.250000\n",
       "       Mr      32.368090\n",
       "       Rev     43.166667"
      ]
     },
     "execution_count": 54,
     "metadata": {},
     "output_type": "execute_result"
    }
   ],
   "source": [
    "data.groupby(['sex', \"title\"]).agg({'age': 'mean'})"
   ]
  },
  {
   "cell_type": "code",
   "execution_count": 55,
   "id": "0845cd2a",
   "metadata": {},
   "outputs": [],
   "source": [
    "data[\"age\"] = data.groupby([\"sex\", \"title\"])[\"age\"].apply(lambda x: x.fillna(x.mean()))"
   ]
  },
  {
   "cell_type": "code",
   "execution_count": 56,
   "id": "eb9e78ed",
   "metadata": {},
   "outputs": [
    {
     "data": {
      "text/plain": [
       "29.754302912402053"
      ]
     },
     "execution_count": 56,
     "metadata": {},
     "output_type": "execute_result"
    }
   ],
   "source": [
    "data.age.mean()"
   ]
  },
  {
   "cell_type": "code",
   "execution_count": 57,
   "id": "6b15522e",
   "metadata": {},
   "outputs": [
    {
     "data": {
      "text/plain": [
       "sex\n",
       "female    27.647180\n",
       "male      30.900987\n",
       "Name: age, dtype: float64"
      ]
     },
     "execution_count": 57,
     "metadata": {},
     "output_type": "execute_result"
    }
   ],
   "source": [
    "data.groupby(\"sex\")[\"age\"].mean()"
   ]
  },
  {
   "cell_type": "code",
   "execution_count": 58,
   "id": "7bc6f991",
   "metadata": {},
   "outputs": [],
   "source": [
    "# from 27.915709 -> 27.647180\n",
    "# from 30.726645 -> 30.900987"
   ]
  },
  {
   "cell_type": "code",
   "execution_count": 59,
   "id": "bf1ff99f",
   "metadata": {},
   "outputs": [
    {
     "data": {
      "text/plain": [
       "survived    0\n",
       "pclass      0\n",
       "sex         0\n",
       "age         0\n",
       "sibsp       0\n",
       "parch       0\n",
       "fare        0\n",
       "embarked    2\n",
       "deck        0\n",
       "title       0\n",
       "dtype: int64"
      ]
     },
     "execution_count": 59,
     "metadata": {},
     "output_type": "execute_result"
    }
   ],
   "source": [
    "data.isnull().sum()"
   ]
  },
  {
   "cell_type": "code",
   "execution_count": 60,
   "id": "97ace910",
   "metadata": {},
   "outputs": [
    {
     "data": {
      "text/plain": [
       "array(['S', 'C', 'Q', nan], dtype=object)"
      ]
     },
     "execution_count": 60,
     "metadata": {},
     "output_type": "execute_result"
    }
   ],
   "source": [
    "data.embarked.unique()"
   ]
  },
  {
   "cell_type": "code",
   "execution_count": 61,
   "id": "3666f984",
   "metadata": {},
   "outputs": [
    {
     "data": {
      "text/plain": [
       "S    644\n",
       "C    168\n",
       "Q     77\n",
       "Name: embarked, dtype: int64"
      ]
     },
     "execution_count": 61,
     "metadata": {},
     "output_type": "execute_result"
    }
   ],
   "source": [
    "#value counts\n",
    "\n",
    "data.embarked.value_counts()"
   ]
  },
  {
   "cell_type": "code",
   "execution_count": 62,
   "id": "a6d6a61a",
   "metadata": {
    "scrolled": true
   },
   "outputs": [],
   "source": [
    "data.embarked.fillna(\"S\", inplace=True)"
   ]
  },
  {
   "cell_type": "code",
   "execution_count": 63,
   "id": "e3011786",
   "metadata": {},
   "outputs": [
    {
     "data": {
      "text/plain": [
       "array(['S', 'C', 'Q'], dtype=object)"
      ]
     },
     "execution_count": 63,
     "metadata": {},
     "output_type": "execute_result"
    }
   ],
   "source": [
    "data.embarked.unique()"
   ]
  },
  {
   "cell_type": "code",
   "execution_count": 64,
   "id": "0a887c67",
   "metadata": {
    "scrolled": true
   },
   "outputs": [
    {
     "data": {
      "text/plain": [
       "survived    0\n",
       "pclass      0\n",
       "sex         0\n",
       "age         0\n",
       "sibsp       0\n",
       "parch       0\n",
       "fare        0\n",
       "embarked    0\n",
       "deck        0\n",
       "title       0\n",
       "dtype: int64"
      ]
     },
     "execution_count": 64,
     "metadata": {},
     "output_type": "execute_result"
    }
   ],
   "source": [
    "data.isna().sum()"
   ]
  },
  {
   "cell_type": "code",
   "execution_count": 65,
   "id": "2453f68e",
   "metadata": {},
   "outputs": [
    {
     "data": {
      "text/html": [
       "<div>\n",
       "<style scoped>\n",
       "    .dataframe tbody tr th:only-of-type {\n",
       "        vertical-align: middle;\n",
       "    }\n",
       "\n",
       "    .dataframe tbody tr th {\n",
       "        vertical-align: top;\n",
       "    }\n",
       "\n",
       "    .dataframe thead th {\n",
       "        text-align: right;\n",
       "    }\n",
       "</style>\n",
       "<table border=\"1\" class=\"dataframe\">\n",
       "  <thead>\n",
       "    <tr style=\"text-align: right;\">\n",
       "      <th></th>\n",
       "      <th>survived</th>\n",
       "      <th>pclass</th>\n",
       "      <th>sex</th>\n",
       "      <th>age</th>\n",
       "      <th>sibsp</th>\n",
       "      <th>parch</th>\n",
       "      <th>fare</th>\n",
       "      <th>embarked</th>\n",
       "      <th>deck</th>\n",
       "      <th>title</th>\n",
       "    </tr>\n",
       "  </thead>\n",
       "  <tbody>\n",
       "    <tr>\n",
       "      <th>589</th>\n",
       "      <td>0</td>\n",
       "      <td>3</td>\n",
       "      <td>male</td>\n",
       "      <td>32.36809</td>\n",
       "      <td>0</td>\n",
       "      <td>0</td>\n",
       "      <td>8.0500</td>\n",
       "      <td>S</td>\n",
       "      <td>M</td>\n",
       "      <td>Mr</td>\n",
       "    </tr>\n",
       "    <tr>\n",
       "      <th>340</th>\n",
       "      <td>1</td>\n",
       "      <td>2</td>\n",
       "      <td>male</td>\n",
       "      <td>2.00000</td>\n",
       "      <td>1</td>\n",
       "      <td>1</td>\n",
       "      <td>26.0000</td>\n",
       "      <td>S</td>\n",
       "      <td>F</td>\n",
       "      <td>Master</td>\n",
       "    </tr>\n",
       "    <tr>\n",
       "      <th>647</th>\n",
       "      <td>1</td>\n",
       "      <td>1</td>\n",
       "      <td>male</td>\n",
       "      <td>56.00000</td>\n",
       "      <td>0</td>\n",
       "      <td>0</td>\n",
       "      <td>35.5000</td>\n",
       "      <td>C</td>\n",
       "      <td>A</td>\n",
       "      <td>Misc</td>\n",
       "    </tr>\n",
       "    <tr>\n",
       "      <th>445</th>\n",
       "      <td>1</td>\n",
       "      <td>1</td>\n",
       "      <td>male</td>\n",
       "      <td>4.00000</td>\n",
       "      <td>0</td>\n",
       "      <td>2</td>\n",
       "      <td>81.8583</td>\n",
       "      <td>S</td>\n",
       "      <td>A</td>\n",
       "      <td>Master</td>\n",
       "    </tr>\n",
       "    <tr>\n",
       "      <th>508</th>\n",
       "      <td>0</td>\n",
       "      <td>3</td>\n",
       "      <td>male</td>\n",
       "      <td>28.00000</td>\n",
       "      <td>0</td>\n",
       "      <td>0</td>\n",
       "      <td>22.5250</td>\n",
       "      <td>S</td>\n",
       "      <td>M</td>\n",
       "      <td>Mr</td>\n",
       "    </tr>\n",
       "  </tbody>\n",
       "</table>\n",
       "</div>"
      ],
      "text/plain": [
       "     survived  pclass   sex       age  sibsp  parch     fare embarked deck  \\\n",
       "589         0       3  male  32.36809      0      0   8.0500        S    M   \n",
       "340         1       2  male   2.00000      1      1  26.0000        S    F   \n",
       "647         1       1  male  56.00000      0      0  35.5000        C    A   \n",
       "445         1       1  male   4.00000      0      2  81.8583        S    A   \n",
       "508         0       3  male  28.00000      0      0  22.5250        S    M   \n",
       "\n",
       "      title  \n",
       "589      Mr  \n",
       "340  Master  \n",
       "647    Misc  \n",
       "445  Master  \n",
       "508      Mr  "
      ]
     },
     "execution_count": 65,
     "metadata": {},
     "output_type": "execute_result"
    }
   ],
   "source": [
    "data.sample(5)"
   ]
  },
  {
   "cell_type": "code",
   "execution_count": 66,
   "id": "6624d287",
   "metadata": {},
   "outputs": [],
   "source": [
    "# If it is binary (male, female) -> 0, 1\n",
    "# If it's not binary (S, C, Q): different columns: If it's S: 1. As many columns as possibilities -> ONE column (1), the rest with 0\n",
    "# label encoder (?)\n",
    "\n",
    "# deck: 0, 1, 0, 0, 0?. \n",
    "    # A: 9\n",
    "    # B: 8\n",
    "    # C"
   ]
  },
  {
   "cell_type": "code",
   "execution_count": 67,
   "id": "953bbc71",
   "metadata": {},
   "outputs": [
    {
     "data": {
      "text/plain": [
       "9"
      ]
     },
     "execution_count": 67,
     "metadata": {},
     "output_type": "execute_result"
    }
   ],
   "source": [
    "len(data.deck.unique())"
   ]
  },
  {
   "cell_type": "markdown",
   "id": "57595606",
   "metadata": {
    "lang": "en"
   },
   "source": [
    "### We analyze the names of the passengers"
   ]
  },
  {
   "cell_type": "code",
   "execution_count": null,
   "id": "f1a1d524",
   "metadata": {},
   "outputs": [],
   "source": []
  },
  {
   "cell_type": "markdown",
   "id": "11e29484",
   "metadata": {
    "lang": "en"
   },
   "source": [
    "### In order not to have many categories with the titles, we are going to keep those that have more than 7"
   ]
  },
  {
   "cell_type": "code",
   "execution_count": null,
   "id": "15d18bad",
   "metadata": {},
   "outputs": [],
   "source": []
  },
  {
   "cell_type": "markdown",
   "id": "a36315b1",
   "metadata": {
    "lang": "en"
   },
   "source": [
    "We only have the Age column with nulls... Let's fill them in, but exploring the data... are men the same age on average as women?"
   ]
  },
  {
   "cell_type": "code",
   "execution_count": null,
   "id": "0eaaa992",
   "metadata": {},
   "outputs": [],
   "source": []
  },
  {
   "cell_type": "markdown",
   "id": "15d4cf22",
   "metadata": {
    "lang": "en"
   },
   "source": [
    "To adjust a little more, we are going to fill the NaN of the age with the median but based on their gender and also based on the cover."
   ]
  },
  {
   "cell_type": "code",
   "execution_count": null,
   "id": "b3f82d3e",
   "metadata": {},
   "outputs": [],
   "source": []
  },
  {
   "cell_type": "markdown",
   "id": "456e1464",
   "metadata": {
    "lang": "en"
   },
   "source": [
    "## Categorical encoding\n",
    "\n",
    "With an import line in our code, new possibilities are opened in options to how to model or manipulate our dataset.\n",
    "\n",
    "Previously we discussed in the dummies post the possibility of generating with the get_dummies() function and transforming each non-numeric data into a binary representation (expanding our dataset to the amount of different data that exists in a column)."
   ]
  },
  {
   "cell_type": "markdown",
   "id": "1ed54885",
   "metadata": {
    "lang": "en"
   },
   "source": [
    "### Label Encoder\n",
    "Pros and cons\n",
    "- If we have categories that have value in themselves, such as \"good, bad, regular\" the ideal would be not to let LabelEncoder do it automatically but to apply it manually, since the value we put can influence the weight that the algorithm gives those variables."
   ]
  },
  {
   "cell_type": "code",
   "execution_count": 68,
   "id": "buried-straight",
   "metadata": {},
   "outputs": [],
   "source": [
    "from sklearn import preprocessing\n",
    "le = preprocessing.LabelEncoder()"
   ]
  },
  {
   "cell_type": "code",
   "execution_count": 69,
   "id": "6a6dfa45",
   "metadata": {},
   "outputs": [],
   "source": [
    "# Model: predictions\n",
    "\n",
    "# Pre-processing\n",
    "# Split (cv)\n",
    "# Model\n",
    "   # options (params) \n",
    "#Errors"
   ]
  },
  {
   "cell_type": "code",
   "execution_count": 70,
   "id": "57625c5f",
   "metadata": {},
   "outputs": [
    {
     "data": {
      "text/html": [
       "<div>\n",
       "<style scoped>\n",
       "    .dataframe tbody tr th:only-of-type {\n",
       "        vertical-align: middle;\n",
       "    }\n",
       "\n",
       "    .dataframe tbody tr th {\n",
       "        vertical-align: top;\n",
       "    }\n",
       "\n",
       "    .dataframe thead th {\n",
       "        text-align: right;\n",
       "    }\n",
       "</style>\n",
       "<table border=\"1\" class=\"dataframe\">\n",
       "  <thead>\n",
       "    <tr style=\"text-align: right;\">\n",
       "      <th></th>\n",
       "      <th>survived</th>\n",
       "      <th>pclass</th>\n",
       "      <th>sex</th>\n",
       "      <th>age</th>\n",
       "      <th>sibsp</th>\n",
       "      <th>parch</th>\n",
       "      <th>fare</th>\n",
       "      <th>embarked</th>\n",
       "      <th>deck</th>\n",
       "      <th>title</th>\n",
       "    </tr>\n",
       "  </thead>\n",
       "  <tbody>\n",
       "    <tr>\n",
       "      <th>807</th>\n",
       "      <td>0</td>\n",
       "      <td>3</td>\n",
       "      <td>female</td>\n",
       "      <td>18.0</td>\n",
       "      <td>0</td>\n",
       "      <td>0</td>\n",
       "      <td>7.775</td>\n",
       "      <td>S</td>\n",
       "      <td>M</td>\n",
       "      <td>Miss</td>\n",
       "    </tr>\n",
       "  </tbody>\n",
       "</table>\n",
       "</div>"
      ],
      "text/plain": [
       "     survived  pclass     sex   age  sibsp  parch   fare embarked deck title\n",
       "807         0       3  female  18.0      0      0  7.775        S    M  Miss"
      ]
     },
     "execution_count": 70,
     "metadata": {},
     "output_type": "execute_result"
    }
   ],
   "source": [
    "data.sample()"
   ]
  },
  {
   "cell_type": "code",
   "execution_count": 71,
   "id": "25115fda",
   "metadata": {},
   "outputs": [],
   "source": [
    "data[\"sex\"] = le.fit_transform(data[\"sex\"])"
   ]
  },
  {
   "cell_type": "code",
   "execution_count": 72,
   "id": "70dcb406",
   "metadata": {},
   "outputs": [
    {
     "data": {
      "text/html": [
       "<div>\n",
       "<style scoped>\n",
       "    .dataframe tbody tr th:only-of-type {\n",
       "        vertical-align: middle;\n",
       "    }\n",
       "\n",
       "    .dataframe tbody tr th {\n",
       "        vertical-align: top;\n",
       "    }\n",
       "\n",
       "    .dataframe thead th {\n",
       "        text-align: right;\n",
       "    }\n",
       "</style>\n",
       "<table border=\"1\" class=\"dataframe\">\n",
       "  <thead>\n",
       "    <tr style=\"text-align: right;\">\n",
       "      <th></th>\n",
       "      <th>survived</th>\n",
       "      <th>pclass</th>\n",
       "      <th>sex</th>\n",
       "      <th>age</th>\n",
       "      <th>sibsp</th>\n",
       "      <th>parch</th>\n",
       "      <th>fare</th>\n",
       "      <th>embarked</th>\n",
       "      <th>deck</th>\n",
       "      <th>title</th>\n",
       "      <th>embarked_1</th>\n",
       "    </tr>\n",
       "  </thead>\n",
       "  <tbody>\n",
       "    <tr>\n",
       "      <th>779</th>\n",
       "      <td>1</td>\n",
       "      <td>1</td>\n",
       "      <td>0</td>\n",
       "      <td>43.0</td>\n",
       "      <td>0</td>\n",
       "      <td>1</td>\n",
       "      <td>211.3375</td>\n",
       "      <td>S</td>\n",
       "      <td>B</td>\n",
       "      <td>Mrs</td>\n",
       "      <td>2</td>\n",
       "    </tr>\n",
       "    <tr>\n",
       "      <th>287</th>\n",
       "      <td>0</td>\n",
       "      <td>3</td>\n",
       "      <td>1</td>\n",
       "      <td>22.0</td>\n",
       "      <td>0</td>\n",
       "      <td>0</td>\n",
       "      <td>7.8958</td>\n",
       "      <td>S</td>\n",
       "      <td>M</td>\n",
       "      <td>Mr</td>\n",
       "      <td>2</td>\n",
       "    </tr>\n",
       "    <tr>\n",
       "      <th>745</th>\n",
       "      <td>0</td>\n",
       "      <td>1</td>\n",
       "      <td>1</td>\n",
       "      <td>70.0</td>\n",
       "      <td>1</td>\n",
       "      <td>1</td>\n",
       "      <td>71.0000</td>\n",
       "      <td>S</td>\n",
       "      <td>B</td>\n",
       "      <td>Misc</td>\n",
       "      <td>2</td>\n",
       "    </tr>\n",
       "    <tr>\n",
       "      <th>309</th>\n",
       "      <td>1</td>\n",
       "      <td>1</td>\n",
       "      <td>0</td>\n",
       "      <td>30.0</td>\n",
       "      <td>0</td>\n",
       "      <td>0</td>\n",
       "      <td>56.9292</td>\n",
       "      <td>C</td>\n",
       "      <td>E</td>\n",
       "      <td>Miss</td>\n",
       "      <td>0</td>\n",
       "    </tr>\n",
       "    <tr>\n",
       "      <th>657</th>\n",
       "      <td>0</td>\n",
       "      <td>3</td>\n",
       "      <td>0</td>\n",
       "      <td>32.0</td>\n",
       "      <td>1</td>\n",
       "      <td>1</td>\n",
       "      <td>15.5000</td>\n",
       "      <td>Q</td>\n",
       "      <td>M</td>\n",
       "      <td>Mrs</td>\n",
       "      <td>1</td>\n",
       "    </tr>\n",
       "  </tbody>\n",
       "</table>\n",
       "</div>"
      ],
      "text/plain": [
       "     survived  pclass  sex   age  sibsp  parch      fare embarked deck title  \\\n",
       "779         1       1    0  43.0      0      1  211.3375        S    B   Mrs   \n",
       "287         0       3    1  22.0      0      0    7.8958        S    M    Mr   \n",
       "745         0       1    1  70.0      1      1   71.0000        S    B  Misc   \n",
       "309         1       1    0  30.0      0      0   56.9292        C    E  Miss   \n",
       "657         0       3    0  32.0      1      1   15.5000        Q    M   Mrs   \n",
       "\n",
       "     embarked_1  \n",
       "779           2  \n",
       "287           2  \n",
       "745           2  \n",
       "309           0  \n",
       "657           1  "
      ]
     },
     "execution_count": 72,
     "metadata": {},
     "output_type": "execute_result"
    }
   ],
   "source": [
    "data[\"embarked_1\"] = le.fit_transform(data[\"embarked\"])\n",
    "data.sample(5)"
   ]
  },
  {
   "cell_type": "code",
   "execution_count": 73,
   "id": "9e159926",
   "metadata": {},
   "outputs": [],
   "source": [
    "#data.drop(\"embarked_1\", axis=1, inplace=True)"
   ]
  },
  {
   "cell_type": "code",
   "execution_count": 74,
   "id": "0a237d76",
   "metadata": {},
   "outputs": [
    {
     "data": {
      "text/html": [
       "<div>\n",
       "<style scoped>\n",
       "    .dataframe tbody tr th:only-of-type {\n",
       "        vertical-align: middle;\n",
       "    }\n",
       "\n",
       "    .dataframe tbody tr th {\n",
       "        vertical-align: top;\n",
       "    }\n",
       "\n",
       "    .dataframe thead th {\n",
       "        text-align: right;\n",
       "    }\n",
       "</style>\n",
       "<table border=\"1\" class=\"dataframe\">\n",
       "  <thead>\n",
       "    <tr style=\"text-align: right;\">\n",
       "      <th></th>\n",
       "      <th>survived</th>\n",
       "      <th>pclass</th>\n",
       "      <th>sex</th>\n",
       "      <th>age</th>\n",
       "      <th>sibsp</th>\n",
       "      <th>parch</th>\n",
       "      <th>fare</th>\n",
       "      <th>embarked</th>\n",
       "      <th>deck</th>\n",
       "      <th>title</th>\n",
       "      <th>embarked_1</th>\n",
       "    </tr>\n",
       "  </thead>\n",
       "  <tbody>\n",
       "    <tr>\n",
       "      <th>167</th>\n",
       "      <td>0</td>\n",
       "      <td>3</td>\n",
       "      <td>0</td>\n",
       "      <td>45.0</td>\n",
       "      <td>1</td>\n",
       "      <td>4</td>\n",
       "      <td>27.9000</td>\n",
       "      <td>S</td>\n",
       "      <td>M</td>\n",
       "      <td>Mrs</td>\n",
       "      <td>2</td>\n",
       "    </tr>\n",
       "    <tr>\n",
       "      <th>412</th>\n",
       "      <td>1</td>\n",
       "      <td>1</td>\n",
       "      <td>0</td>\n",
       "      <td>33.0</td>\n",
       "      <td>1</td>\n",
       "      <td>0</td>\n",
       "      <td>90.0000</td>\n",
       "      <td>Q</td>\n",
       "      <td>C</td>\n",
       "      <td>Miss</td>\n",
       "      <td>1</td>\n",
       "    </tr>\n",
       "    <tr>\n",
       "      <th>853</th>\n",
       "      <td>1</td>\n",
       "      <td>1</td>\n",
       "      <td>0</td>\n",
       "      <td>16.0</td>\n",
       "      <td>0</td>\n",
       "      <td>1</td>\n",
       "      <td>39.4000</td>\n",
       "      <td>S</td>\n",
       "      <td>D</td>\n",
       "      <td>Miss</td>\n",
       "      <td>2</td>\n",
       "    </tr>\n",
       "    <tr>\n",
       "      <th>733</th>\n",
       "      <td>0</td>\n",
       "      <td>2</td>\n",
       "      <td>1</td>\n",
       "      <td>23.0</td>\n",
       "      <td>0</td>\n",
       "      <td>0</td>\n",
       "      <td>13.0000</td>\n",
       "      <td>S</td>\n",
       "      <td>M</td>\n",
       "      <td>Mr</td>\n",
       "      <td>2</td>\n",
       "    </tr>\n",
       "    <tr>\n",
       "      <th>100</th>\n",
       "      <td>0</td>\n",
       "      <td>3</td>\n",
       "      <td>0</td>\n",
       "      <td>28.0</td>\n",
       "      <td>0</td>\n",
       "      <td>0</td>\n",
       "      <td>7.8958</td>\n",
       "      <td>S</td>\n",
       "      <td>M</td>\n",
       "      <td>Miss</td>\n",
       "      <td>2</td>\n",
       "    </tr>\n",
       "  </tbody>\n",
       "</table>\n",
       "</div>"
      ],
      "text/plain": [
       "     survived  pclass  sex   age  sibsp  parch     fare embarked deck title  \\\n",
       "167         0       3    0  45.0      1      4  27.9000        S    M   Mrs   \n",
       "412         1       1    0  33.0      1      0  90.0000        Q    C  Miss   \n",
       "853         1       1    0  16.0      0      1  39.4000        S    D  Miss   \n",
       "733         0       2    1  23.0      0      0  13.0000        S    M    Mr   \n",
       "100         0       3    0  28.0      0      0   7.8958        S    M  Miss   \n",
       "\n",
       "     embarked_1  \n",
       "167           2  \n",
       "412           1  \n",
       "853           2  \n",
       "733           2  \n",
       "100           2  "
      ]
     },
     "execution_count": 74,
     "metadata": {},
     "output_type": "execute_result"
    }
   ],
   "source": [
    "data.sample(5)"
   ]
  },
  {
   "cell_type": "markdown",
   "id": "scheduled-serial",
   "metadata": {},
   "source": [
    "### One Hot Encoder"
   ]
  },
  {
   "cell_type": "markdown",
   "id": "c7fa7b29",
   "metadata": {
    "lang": "en"
   },
   "source": [
    "Now, as we have already mentioned, depending on the data we have, we could find situations in which, after encoding the labels, we could confuse our model by making it believe that a column has data with some kind of order or hierarchy, when clearly we don't have it. To avoid this, we \"OneHotEncode\" that column.\n",
    "What a hot encoding does is it takes a column that has categorical data, which has been encoded with labels, and then splits the column into multiple columns. The numbers are replaced by 1s and 0s, depending on which column has which value."
   ]
  },
  {
   "cell_type": "code",
   "execution_count": 75,
   "id": "4b29d8dc",
   "metadata": {},
   "outputs": [],
   "source": [
    "onehotencoder = preprocessing.OneHotEncoder()"
   ]
  },
  {
   "cell_type": "code",
   "execution_count": 76,
   "id": "441f98f5",
   "metadata": {},
   "outputs": [
    {
     "data": {
      "text/html": [
       "<style>#sk-container-id-1 {color: black;background-color: white;}#sk-container-id-1 pre{padding: 0;}#sk-container-id-1 div.sk-toggleable {background-color: white;}#sk-container-id-1 label.sk-toggleable__label {cursor: pointer;display: block;width: 100%;margin-bottom: 0;padding: 0.3em;box-sizing: border-box;text-align: center;}#sk-container-id-1 label.sk-toggleable__label-arrow:before {content: \"▸\";float: left;margin-right: 0.25em;color: #696969;}#sk-container-id-1 label.sk-toggleable__label-arrow:hover:before {color: black;}#sk-container-id-1 div.sk-estimator:hover label.sk-toggleable__label-arrow:before {color: black;}#sk-container-id-1 div.sk-toggleable__content {max-height: 0;max-width: 0;overflow: hidden;text-align: left;background-color: #f0f8ff;}#sk-container-id-1 div.sk-toggleable__content pre {margin: 0.2em;color: black;border-radius: 0.25em;background-color: #f0f8ff;}#sk-container-id-1 input.sk-toggleable__control:checked~div.sk-toggleable__content {max-height: 200px;max-width: 100%;overflow: auto;}#sk-container-id-1 input.sk-toggleable__control:checked~label.sk-toggleable__label-arrow:before {content: \"▾\";}#sk-container-id-1 div.sk-estimator input.sk-toggleable__control:checked~label.sk-toggleable__label {background-color: #d4ebff;}#sk-container-id-1 div.sk-label input.sk-toggleable__control:checked~label.sk-toggleable__label {background-color: #d4ebff;}#sk-container-id-1 input.sk-hidden--visually {border: 0;clip: rect(1px 1px 1px 1px);clip: rect(1px, 1px, 1px, 1px);height: 1px;margin: -1px;overflow: hidden;padding: 0;position: absolute;width: 1px;}#sk-container-id-1 div.sk-estimator {font-family: monospace;background-color: #f0f8ff;border: 1px dotted black;border-radius: 0.25em;box-sizing: border-box;margin-bottom: 0.5em;}#sk-container-id-1 div.sk-estimator:hover {background-color: #d4ebff;}#sk-container-id-1 div.sk-parallel-item::after {content: \"\";width: 100%;border-bottom: 1px solid gray;flex-grow: 1;}#sk-container-id-1 div.sk-label:hover label.sk-toggleable__label {background-color: #d4ebff;}#sk-container-id-1 div.sk-serial::before {content: \"\";position: absolute;border-left: 1px solid gray;box-sizing: border-box;top: 0;bottom: 0;left: 50%;z-index: 0;}#sk-container-id-1 div.sk-serial {display: flex;flex-direction: column;align-items: center;background-color: white;padding-right: 0.2em;padding-left: 0.2em;position: relative;}#sk-container-id-1 div.sk-item {position: relative;z-index: 1;}#sk-container-id-1 div.sk-parallel {display: flex;align-items: stretch;justify-content: center;background-color: white;position: relative;}#sk-container-id-1 div.sk-item::before, #sk-container-id-1 div.sk-parallel-item::before {content: \"\";position: absolute;border-left: 1px solid gray;box-sizing: border-box;top: 0;bottom: 0;left: 50%;z-index: -1;}#sk-container-id-1 div.sk-parallel-item {display: flex;flex-direction: column;z-index: 1;position: relative;background-color: white;}#sk-container-id-1 div.sk-parallel-item:first-child::after {align-self: flex-end;width: 50%;}#sk-container-id-1 div.sk-parallel-item:last-child::after {align-self: flex-start;width: 50%;}#sk-container-id-1 div.sk-parallel-item:only-child::after {width: 0;}#sk-container-id-1 div.sk-dashed-wrapped {border: 1px dashed gray;margin: 0 0.4em 0.5em 0.4em;box-sizing: border-box;padding-bottom: 0.4em;background-color: white;}#sk-container-id-1 div.sk-label label {font-family: monospace;font-weight: bold;display: inline-block;line-height: 1.2em;}#sk-container-id-1 div.sk-label-container {text-align: center;}#sk-container-id-1 div.sk-container {/* jupyter's `normalize.less` sets `[hidden] { display: none; }` but bootstrap.min.css set `[hidden] { display: none !important; }` so we also need the `!important` here to be able to override the default hidden behavior on the sphinx rendered scikit-learn.org. See: https://github.com/scikit-learn/scikit-learn/issues/21755 */display: inline-block !important;position: relative;}#sk-container-id-1 div.sk-text-repr-fallback {display: none;}</style><div id=\"sk-container-id-1\" class=\"sk-top-container\"><div class=\"sk-text-repr-fallback\"><pre>OneHotEncoder()</pre><b>In a Jupyter environment, please rerun this cell to show the HTML representation or trust the notebook. <br />On GitHub, the HTML representation is unable to render, please try loading this page with nbviewer.org.</b></div><div class=\"sk-container\" hidden><div class=\"sk-item\"><div class=\"sk-estimator sk-toggleable\"><input class=\"sk-toggleable__control sk-hidden--visually\" id=\"sk-estimator-id-1\" type=\"checkbox\" checked><label for=\"sk-estimator-id-1\" class=\"sk-toggleable__label sk-toggleable__label-arrow\">OneHotEncoder</label><div class=\"sk-toggleable__content\"><pre>OneHotEncoder()</pre></div></div></div></div></div>"
      ],
      "text/plain": [
       "OneHotEncoder()"
      ]
     },
     "execution_count": 76,
     "metadata": {},
     "output_type": "execute_result"
    }
   ],
   "source": [
    "onehotencoder"
   ]
  },
  {
   "cell_type": "code",
   "execution_count": 77,
   "id": "71a68a39",
   "metadata": {},
   "outputs": [
    {
     "data": {
      "text/plain": [
       "array(['S', 'C', 'S', 'S', 'S', 'Q', 'S', 'S', 'S', 'C', 'S', 'S', 'S',\n",
       "       'S', 'S', 'S', 'Q', 'S', 'S', 'C', 'S', 'S', 'Q', 'S', 'S', 'S',\n",
       "       'C', 'S', 'Q', 'S', 'C', 'C', 'Q', 'S', 'C', 'S', 'C', 'S', 'S',\n",
       "       'C', 'S', 'S', 'C', 'C', 'Q', 'S', 'Q', 'Q', 'C', 'S', 'S', 'S',\n",
       "       'C', 'S', 'C', 'S', 'S', 'C', 'S', 'S', 'C', 'S', 'S', 'S', 'C',\n",
       "       'C', 'S', 'S', 'S', 'S', 'S', 'S', 'S', 'C', 'S', 'S', 'S', 'S',\n",
       "       'S', 'S', 'S', 'S', 'Q', 'S', 'S', 'S', 'S', 'S', 'S', 'S', 'S',\n",
       "       'S', 'S', 'S', 'S', 'S', 'C', 'C', 'S', 'S', 'S', 'S', 'S', 'S',\n",
       "       'S', 'S', 'S', 'S', 'S', 'Q', 'S', 'C', 'S', 'S', 'C', 'S', 'Q',\n",
       "       'S', 'C', 'S', 'S', 'S', 'C', 'S', 'S', 'C', 'Q', 'S', 'C', 'S',\n",
       "       'C', 'S', 'S', 'S', 'S', 'C', 'S', 'S', 'S', 'C', 'C', 'S', 'S',\n",
       "       'Q', 'S', 'S', 'S', 'S', 'S', 'S', 'S', 'S', 'S', 'S', 'S', 'C',\n",
       "       'Q', 'S', 'S', 'S', 'S', 'S', 'S', 'S', 'S', 'S', 'S', 'S', 'S',\n",
       "       'S', 'S', 'Q', 'S', 'S', 'C', 'S', 'S', 'C', 'S', 'S', 'S', 'C',\n",
       "       'S', 'S', 'S', 'S', 'Q', 'S', 'Q', 'S', 'S', 'S', 'S', 'S', 'C',\n",
       "       'C', 'Q', 'S', 'Q', 'S', 'S', 'S', 'S', 'C', 'S', 'S', 'S', 'C',\n",
       "       'Q', 'C', 'S', 'S', 'S', 'S', 'Q', 'C', 'S', 'S', 'C', 'S', 'S',\n",
       "       'S', 'S', 'S', 'S', 'S', 'S', 'S', 'S', 'S', 'S', 'S', 'S', 'S',\n",
       "       'S', 'S', 'S', 'S', 'S', 'S', 'C', 'Q', 'S', 'S', 'C', 'Q', 'S',\n",
       "       'S', 'S', 'S', 'S', 'S', 'S', 'S', 'S', 'C', 'C', 'S', 'C', 'S',\n",
       "       'Q', 'S', 'S', 'S', 'Q', 'S', 'S', 'S', 'S', 'S', 'S', 'S', 'S',\n",
       "       'C', 'Q', 'S', 'S', 'S', 'Q', 'S', 'Q', 'S', 'S', 'S', 'S', 'C',\n",
       "       'S', 'S', 'S', 'Q', 'S', 'C', 'C', 'S', 'S', 'C', 'C', 'S', 'S',\n",
       "       'C', 'Q', 'Q', 'S', 'Q', 'S', 'S', 'C', 'C', 'C', 'C', 'C', 'C',\n",
       "       'S', 'S', 'S', 'S', 'S', 'S', 'S', 'C', 'S', 'S', 'Q', 'S', 'S',\n",
       "       'C', 'S', 'S', 'S', 'C', 'Q', 'S', 'S', 'S', 'S', 'S', 'S', 'C',\n",
       "       'S', 'S', 'S', 'S', 'S', 'S', 'S', 'S', 'S', 'S', 'S', 'S', 'S',\n",
       "       'S', 'C', 'S', 'C', 'S', 'S', 'S', 'Q', 'Q', 'S', 'C', 'C', 'S',\n",
       "       'Q', 'S', 'C', 'C', 'Q', 'C', 'C', 'S', 'S', 'C', 'S', 'C', 'S',\n",
       "       'C', 'C', 'S', 'C', 'C', 'S', 'S', 'S', 'S', 'S', 'S', 'Q', 'C',\n",
       "       'S', 'S', 'S', 'C', 'S', 'S', 'S', 'S', 'S', 'S', 'S', 'S', 'S',\n",
       "       'S', 'S', 'S', 'S', 'S', 'S', 'S', 'S', 'Q', 'Q', 'S', 'S', 'S',\n",
       "       'S', 'S', 'S', 'S', 'C', 'Q', 'S', 'S', 'S', 'S', 'S', 'S', 'Q',\n",
       "       'S', 'S', 'S', 'S', 'S', 'S', 'S', 'S', 'S', 'S', 'S', 'S', 'S',\n",
       "       'S', 'S', 'S', 'S', 'S', 'S', 'C', 'S', 'S', 'S', 'C', 'C', 'S',\n",
       "       'C', 'S', 'S', 'S', 'Q', 'S', 'S', 'S', 'S', 'S', 'S', 'S', 'S',\n",
       "       'Q', 'C', 'S', 'S', 'S', 'C', 'S', 'S', 'S', 'S', 'S', 'S', 'S',\n",
       "       'S', 'S', 'S', 'C', 'S', 'S', 'C', 'S', 'S', 'S', 'S', 'S', 'C',\n",
       "       'S', 'C', 'C', 'S', 'S', 'S', 'S', 'Q', 'Q', 'S', 'S', 'C', 'S',\n",
       "       'S', 'S', 'S', 'Q', 'S', 'S', 'C', 'S', 'S', 'S', 'Q', 'S', 'S',\n",
       "       'S', 'S', 'C', 'C', 'C', 'Q', 'S', 'S', 'S', 'S', 'S', 'C', 'C',\n",
       "       'C', 'S', 'S', 'S', 'C', 'S', 'C', 'S', 'S', 'S', 'S', 'C', 'S',\n",
       "       'S', 'C', 'S', 'S', 'C', 'S', 'Q', 'C', 'S', 'S', 'C', 'C', 'S',\n",
       "       'S', 'Q', 'S', 'S', 'S', 'S', 'S', 'S', 'S', 'C', 'S', 'S', 'S',\n",
       "       'S', 'Q', 'S', 'S', 'S', 'S', 'C', 'S', 'S', 'C', 'S', 'C', 'C',\n",
       "       'S', 'S', 'C', 'S', 'S', 'S', 'C', 'S', 'Q', 'S', 'S', 'S', 'S',\n",
       "       'C', 'C', 'S', 'S', 'S', 'S', 'C', 'S', 'S', 'S', 'C', 'S', 'S',\n",
       "       'S', 'Q', 'Q', 'S', 'S', 'S', 'S', 'S', 'S', 'C', 'S', 'C', 'S',\n",
       "       'S', 'S', 'Q', 'S', 'S', 'Q', 'S', 'S', 'C', 'S', 'S', 'S', 'S',\n",
       "       'S', 'S', 'S', 'S', 'C', 'S', 'S', 'C', 'C', 'S', 'C', 'S', 'S',\n",
       "       'S', 'S', 'S', 'Q', 'Q', 'S', 'S', 'Q', 'S', 'C', 'S', 'C', 'S',\n",
       "       'S', 'S', 'S', 'S', 'S', 'S', 'S', 'S', 'S', 'S', 'S', 'S', 'S',\n",
       "       'S', 'S', 'S', 'C', 'Q', 'C', 'S', 'S', 'S', 'C', 'S', 'S', 'S',\n",
       "       'S', 'S', 'C', 'S', 'C', 'S', 'S', 'S', 'Q', 'C', 'S', 'C', 'S',\n",
       "       'C', 'Q', 'S', 'S', 'S', 'S', 'S', 'C', 'C', 'S', 'S', 'S', 'S',\n",
       "       'S', 'C', 'S', 'Q', 'S', 'S', 'S', 'S', 'S', 'S', 'S', 'S', 'Q',\n",
       "       'S', 'S', 'S', 'C', 'S', 'S', 'S', 'S', 'S', 'C', 'S', 'S', 'S',\n",
       "       'S', 'C', 'S', 'S', 'S', 'S', 'S', 'S', 'Q', 'S', 'S', 'S', 'S',\n",
       "       'S', 'S', 'S', 'S', 'S', 'S', 'S', 'S', 'C', 'S', 'S', 'S', 'C',\n",
       "       'Q', 'Q', 'S', 'S', 'S', 'S', 'C', 'S', 'S', 'Q', 'S', 'Q', 'S',\n",
       "       'C', 'S', 'S', 'S', 'S', 'S', 'S', 'Q', 'S', 'C', 'Q', 'S', 'S',\n",
       "       'C', 'S', 'S', 'S', 'S', 'C', 'S', 'S', 'S', 'S', 'C', 'S', 'S',\n",
       "       'S', 'S', 'S', 'S', 'S', 'S', 'S', 'S', 'S', 'S', 'S', 'C', 'S',\n",
       "       'S', 'S', 'S', 'S', 'S', 'S', 'Q', 'S', 'C', 'Q', 'S', 'C', 'S',\n",
       "       'C', 'S', 'S', 'C', 'S', 'S', 'S', 'C', 'S', 'S', 'C', 'C', 'S',\n",
       "       'S', 'S', 'C', 'S', 'C', 'S', 'S', 'C', 'S', 'S', 'S', 'S', 'S',\n",
       "       'C', 'C', 'S', 'S', 'S', 'S', 'S', 'S', 'C', 'S', 'S', 'S', 'S',\n",
       "       'S', 'S', 'S', 'C', 'C', 'S', 'S', 'S', 'C', 'S', 'S', 'S', 'S',\n",
       "       'S', 'Q', 'S', 'S', 'S', 'C', 'Q'], dtype=object)"
      ]
     },
     "execution_count": 77,
     "metadata": {},
     "output_type": "execute_result"
    }
   ],
   "source": [
    "data[\"embarked\"].values"
   ]
  },
  {
   "cell_type": "code",
   "execution_count": 78,
   "id": "931b5765",
   "metadata": {},
   "outputs": [
    {
     "data": {
      "text/plain": [
       "array([[0., 0., 1.],\n",
       "       [1., 0., 0.],\n",
       "       [0., 0., 1.],\n",
       "       ...,\n",
       "       [0., 0., 1.],\n",
       "       [1., 0., 0.],\n",
       "       [0., 1., 0.]])"
      ]
     },
     "execution_count": 78,
     "metadata": {},
     "output_type": "execute_result"
    }
   ],
   "source": [
    "embarked_column = onehotencoder.fit_transform(data[\"embarked\"].values.reshape(-1, 1)).toarray()\n",
    "embarked_column"
   ]
  },
  {
   "cell_type": "code",
   "execution_count": 79,
   "id": "12442532",
   "metadata": {},
   "outputs": [
    {
     "data": {
      "text/plain": [
       "numpy.ndarray"
      ]
     },
     "execution_count": 79,
     "metadata": {},
     "output_type": "execute_result"
    }
   ],
   "source": [
    "type(embarked_column)"
   ]
  },
  {
   "cell_type": "code",
   "execution_count": 80,
   "id": "cbc54455",
   "metadata": {
    "scrolled": false
   },
   "outputs": [
    {
     "data": {
      "text/plain": [
       "(891, 3)"
      ]
     },
     "execution_count": 80,
     "metadata": {},
     "output_type": "execute_result"
    }
   ],
   "source": [
    "embarked_column.shape"
   ]
  },
  {
   "cell_type": "code",
   "execution_count": 81,
   "id": "e64ec1f6",
   "metadata": {},
   "outputs": [
    {
     "data": {
      "text/html": [
       "<div>\n",
       "<style scoped>\n",
       "    .dataframe tbody tr th:only-of-type {\n",
       "        vertical-align: middle;\n",
       "    }\n",
       "\n",
       "    .dataframe tbody tr th {\n",
       "        vertical-align: top;\n",
       "    }\n",
       "\n",
       "    .dataframe thead th {\n",
       "        text-align: right;\n",
       "    }\n",
       "</style>\n",
       "<table border=\"1\" class=\"dataframe\">\n",
       "  <thead>\n",
       "    <tr style=\"text-align: right;\">\n",
       "      <th></th>\n",
       "      <th>survived</th>\n",
       "      <th>pclass</th>\n",
       "      <th>sex</th>\n",
       "      <th>age</th>\n",
       "      <th>sibsp</th>\n",
       "      <th>parch</th>\n",
       "      <th>fare</th>\n",
       "      <th>embarked</th>\n",
       "      <th>deck</th>\n",
       "      <th>title</th>\n",
       "      <th>embarked_1</th>\n",
       "    </tr>\n",
       "  </thead>\n",
       "  <tbody>\n",
       "    <tr>\n",
       "      <th>0</th>\n",
       "      <td>0</td>\n",
       "      <td>3</td>\n",
       "      <td>1</td>\n",
       "      <td>22.000000</td>\n",
       "      <td>1</td>\n",
       "      <td>0</td>\n",
       "      <td>7.2500</td>\n",
       "      <td>S</td>\n",
       "      <td>M</td>\n",
       "      <td>Mr</td>\n",
       "      <td>2</td>\n",
       "    </tr>\n",
       "    <tr>\n",
       "      <th>1</th>\n",
       "      <td>1</td>\n",
       "      <td>1</td>\n",
       "      <td>0</td>\n",
       "      <td>38.000000</td>\n",
       "      <td>1</td>\n",
       "      <td>0</td>\n",
       "      <td>71.2833</td>\n",
       "      <td>C</td>\n",
       "      <td>C</td>\n",
       "      <td>Mrs</td>\n",
       "      <td>0</td>\n",
       "    </tr>\n",
       "    <tr>\n",
       "      <th>2</th>\n",
       "      <td>1</td>\n",
       "      <td>3</td>\n",
       "      <td>0</td>\n",
       "      <td>26.000000</td>\n",
       "      <td>0</td>\n",
       "      <td>0</td>\n",
       "      <td>7.9250</td>\n",
       "      <td>S</td>\n",
       "      <td>M</td>\n",
       "      <td>Miss</td>\n",
       "      <td>2</td>\n",
       "    </tr>\n",
       "    <tr>\n",
       "      <th>3</th>\n",
       "      <td>1</td>\n",
       "      <td>1</td>\n",
       "      <td>0</td>\n",
       "      <td>35.000000</td>\n",
       "      <td>1</td>\n",
       "      <td>0</td>\n",
       "      <td>53.1000</td>\n",
       "      <td>S</td>\n",
       "      <td>C</td>\n",
       "      <td>Mrs</td>\n",
       "      <td>2</td>\n",
       "    </tr>\n",
       "    <tr>\n",
       "      <th>4</th>\n",
       "      <td>0</td>\n",
       "      <td>3</td>\n",
       "      <td>1</td>\n",
       "      <td>35.000000</td>\n",
       "      <td>0</td>\n",
       "      <td>0</td>\n",
       "      <td>8.0500</td>\n",
       "      <td>S</td>\n",
       "      <td>M</td>\n",
       "      <td>Mr</td>\n",
       "      <td>2</td>\n",
       "    </tr>\n",
       "    <tr>\n",
       "      <th>...</th>\n",
       "      <td>...</td>\n",
       "      <td>...</td>\n",
       "      <td>...</td>\n",
       "      <td>...</td>\n",
       "      <td>...</td>\n",
       "      <td>...</td>\n",
       "      <td>...</td>\n",
       "      <td>...</td>\n",
       "      <td>...</td>\n",
       "      <td>...</td>\n",
       "      <td>...</td>\n",
       "    </tr>\n",
       "    <tr>\n",
       "      <th>886</th>\n",
       "      <td>0</td>\n",
       "      <td>2</td>\n",
       "      <td>1</td>\n",
       "      <td>27.000000</td>\n",
       "      <td>0</td>\n",
       "      <td>0</td>\n",
       "      <td>13.0000</td>\n",
       "      <td>S</td>\n",
       "      <td>M</td>\n",
       "      <td>Rev</td>\n",
       "      <td>2</td>\n",
       "    </tr>\n",
       "    <tr>\n",
       "      <th>887</th>\n",
       "      <td>1</td>\n",
       "      <td>1</td>\n",
       "      <td>0</td>\n",
       "      <td>19.000000</td>\n",
       "      <td>0</td>\n",
       "      <td>0</td>\n",
       "      <td>30.0000</td>\n",
       "      <td>S</td>\n",
       "      <td>B</td>\n",
       "      <td>Miss</td>\n",
       "      <td>2</td>\n",
       "    </tr>\n",
       "    <tr>\n",
       "      <th>888</th>\n",
       "      <td>0</td>\n",
       "      <td>3</td>\n",
       "      <td>0</td>\n",
       "      <td>21.804054</td>\n",
       "      <td>1</td>\n",
       "      <td>2</td>\n",
       "      <td>23.4500</td>\n",
       "      <td>S</td>\n",
       "      <td>M</td>\n",
       "      <td>Miss</td>\n",
       "      <td>2</td>\n",
       "    </tr>\n",
       "    <tr>\n",
       "      <th>889</th>\n",
       "      <td>1</td>\n",
       "      <td>1</td>\n",
       "      <td>1</td>\n",
       "      <td>26.000000</td>\n",
       "      <td>0</td>\n",
       "      <td>0</td>\n",
       "      <td>30.0000</td>\n",
       "      <td>C</td>\n",
       "      <td>C</td>\n",
       "      <td>Mr</td>\n",
       "      <td>0</td>\n",
       "    </tr>\n",
       "    <tr>\n",
       "      <th>890</th>\n",
       "      <td>0</td>\n",
       "      <td>3</td>\n",
       "      <td>1</td>\n",
       "      <td>32.000000</td>\n",
       "      <td>0</td>\n",
       "      <td>0</td>\n",
       "      <td>7.7500</td>\n",
       "      <td>Q</td>\n",
       "      <td>M</td>\n",
       "      <td>Mr</td>\n",
       "      <td>1</td>\n",
       "    </tr>\n",
       "  </tbody>\n",
       "</table>\n",
       "<p>891 rows × 11 columns</p>\n",
       "</div>"
      ],
      "text/plain": [
       "     survived  pclass  sex        age  sibsp  parch     fare embarked deck  \\\n",
       "0           0       3    1  22.000000      1      0   7.2500        S    M   \n",
       "1           1       1    0  38.000000      1      0  71.2833        C    C   \n",
       "2           1       3    0  26.000000      0      0   7.9250        S    M   \n",
       "3           1       1    0  35.000000      1      0  53.1000        S    C   \n",
       "4           0       3    1  35.000000      0      0   8.0500        S    M   \n",
       "..        ...     ...  ...        ...    ...    ...      ...      ...  ...   \n",
       "886         0       2    1  27.000000      0      0  13.0000        S    M   \n",
       "887         1       1    0  19.000000      0      0  30.0000        S    B   \n",
       "888         0       3    0  21.804054      1      2  23.4500        S    M   \n",
       "889         1       1    1  26.000000      0      0  30.0000        C    C   \n",
       "890         0       3    1  32.000000      0      0   7.7500        Q    M   \n",
       "\n",
       "    title  embarked_1  \n",
       "0      Mr           2  \n",
       "1     Mrs           0  \n",
       "2    Miss           2  \n",
       "3     Mrs           2  \n",
       "4      Mr           2  \n",
       "..    ...         ...  \n",
       "886   Rev           2  \n",
       "887  Miss           2  \n",
       "888  Miss           2  \n",
       "889    Mr           0  \n",
       "890    Mr           1  \n",
       "\n",
       "[891 rows x 11 columns]"
      ]
     },
     "execution_count": 81,
     "metadata": {},
     "output_type": "execute_result"
    }
   ],
   "source": [
    "data"
   ]
  },
  {
   "cell_type": "code",
   "execution_count": 82,
   "id": "dabe407f",
   "metadata": {},
   "outputs": [
    {
     "data": {
      "text/html": [
       "<div>\n",
       "<style scoped>\n",
       "    .dataframe tbody tr th:only-of-type {\n",
       "        vertical-align: middle;\n",
       "    }\n",
       "\n",
       "    .dataframe tbody tr th {\n",
       "        vertical-align: top;\n",
       "    }\n",
       "\n",
       "    .dataframe thead th {\n",
       "        text-align: right;\n",
       "    }\n",
       "</style>\n",
       "<table border=\"1\" class=\"dataframe\">\n",
       "  <thead>\n",
       "    <tr style=\"text-align: right;\">\n",
       "      <th></th>\n",
       "      <th>survived</th>\n",
       "      <th>pclass</th>\n",
       "      <th>sex</th>\n",
       "      <th>age</th>\n",
       "      <th>sibsp</th>\n",
       "      <th>parch</th>\n",
       "      <th>fare</th>\n",
       "      <th>embarked</th>\n",
       "      <th>deck</th>\n",
       "      <th>title</th>\n",
       "      <th>embarked_1</th>\n",
       "    </tr>\n",
       "  </thead>\n",
       "  <tbody>\n",
       "    <tr>\n",
       "      <th>0</th>\n",
       "      <td>0</td>\n",
       "      <td>3</td>\n",
       "      <td>1</td>\n",
       "      <td>22.000000</td>\n",
       "      <td>1</td>\n",
       "      <td>0</td>\n",
       "      <td>7.2500</td>\n",
       "      <td>S</td>\n",
       "      <td>M</td>\n",
       "      <td>Mr</td>\n",
       "      <td>2</td>\n",
       "    </tr>\n",
       "    <tr>\n",
       "      <th>1</th>\n",
       "      <td>1</td>\n",
       "      <td>1</td>\n",
       "      <td>0</td>\n",
       "      <td>38.000000</td>\n",
       "      <td>1</td>\n",
       "      <td>0</td>\n",
       "      <td>71.2833</td>\n",
       "      <td>C</td>\n",
       "      <td>C</td>\n",
       "      <td>Mrs</td>\n",
       "      <td>0</td>\n",
       "    </tr>\n",
       "    <tr>\n",
       "      <th>2</th>\n",
       "      <td>1</td>\n",
       "      <td>3</td>\n",
       "      <td>0</td>\n",
       "      <td>26.000000</td>\n",
       "      <td>0</td>\n",
       "      <td>0</td>\n",
       "      <td>7.9250</td>\n",
       "      <td>S</td>\n",
       "      <td>M</td>\n",
       "      <td>Miss</td>\n",
       "      <td>2</td>\n",
       "    </tr>\n",
       "    <tr>\n",
       "      <th>3</th>\n",
       "      <td>1</td>\n",
       "      <td>1</td>\n",
       "      <td>0</td>\n",
       "      <td>35.000000</td>\n",
       "      <td>1</td>\n",
       "      <td>0</td>\n",
       "      <td>53.1000</td>\n",
       "      <td>S</td>\n",
       "      <td>C</td>\n",
       "      <td>Mrs</td>\n",
       "      <td>2</td>\n",
       "    </tr>\n",
       "    <tr>\n",
       "      <th>4</th>\n",
       "      <td>0</td>\n",
       "      <td>3</td>\n",
       "      <td>1</td>\n",
       "      <td>35.000000</td>\n",
       "      <td>0</td>\n",
       "      <td>0</td>\n",
       "      <td>8.0500</td>\n",
       "      <td>S</td>\n",
       "      <td>M</td>\n",
       "      <td>Mr</td>\n",
       "      <td>2</td>\n",
       "    </tr>\n",
       "    <tr>\n",
       "      <th>...</th>\n",
       "      <td>...</td>\n",
       "      <td>...</td>\n",
       "      <td>...</td>\n",
       "      <td>...</td>\n",
       "      <td>...</td>\n",
       "      <td>...</td>\n",
       "      <td>...</td>\n",
       "      <td>...</td>\n",
       "      <td>...</td>\n",
       "      <td>...</td>\n",
       "      <td>...</td>\n",
       "    </tr>\n",
       "    <tr>\n",
       "      <th>886</th>\n",
       "      <td>0</td>\n",
       "      <td>2</td>\n",
       "      <td>1</td>\n",
       "      <td>27.000000</td>\n",
       "      <td>0</td>\n",
       "      <td>0</td>\n",
       "      <td>13.0000</td>\n",
       "      <td>S</td>\n",
       "      <td>M</td>\n",
       "      <td>Rev</td>\n",
       "      <td>2</td>\n",
       "    </tr>\n",
       "    <tr>\n",
       "      <th>887</th>\n",
       "      <td>1</td>\n",
       "      <td>1</td>\n",
       "      <td>0</td>\n",
       "      <td>19.000000</td>\n",
       "      <td>0</td>\n",
       "      <td>0</td>\n",
       "      <td>30.0000</td>\n",
       "      <td>S</td>\n",
       "      <td>B</td>\n",
       "      <td>Miss</td>\n",
       "      <td>2</td>\n",
       "    </tr>\n",
       "    <tr>\n",
       "      <th>888</th>\n",
       "      <td>0</td>\n",
       "      <td>3</td>\n",
       "      <td>0</td>\n",
       "      <td>21.804054</td>\n",
       "      <td>1</td>\n",
       "      <td>2</td>\n",
       "      <td>23.4500</td>\n",
       "      <td>S</td>\n",
       "      <td>M</td>\n",
       "      <td>Miss</td>\n",
       "      <td>2</td>\n",
       "    </tr>\n",
       "    <tr>\n",
       "      <th>889</th>\n",
       "      <td>1</td>\n",
       "      <td>1</td>\n",
       "      <td>1</td>\n",
       "      <td>26.000000</td>\n",
       "      <td>0</td>\n",
       "      <td>0</td>\n",
       "      <td>30.0000</td>\n",
       "      <td>C</td>\n",
       "      <td>C</td>\n",
       "      <td>Mr</td>\n",
       "      <td>0</td>\n",
       "    </tr>\n",
       "    <tr>\n",
       "      <th>890</th>\n",
       "      <td>0</td>\n",
       "      <td>3</td>\n",
       "      <td>1</td>\n",
       "      <td>32.000000</td>\n",
       "      <td>0</td>\n",
       "      <td>0</td>\n",
       "      <td>7.7500</td>\n",
       "      <td>Q</td>\n",
       "      <td>M</td>\n",
       "      <td>Mr</td>\n",
       "      <td>1</td>\n",
       "    </tr>\n",
       "  </tbody>\n",
       "</table>\n",
       "<p>891 rows × 11 columns</p>\n",
       "</div>"
      ],
      "text/plain": [
       "     survived  pclass  sex        age  sibsp  parch     fare embarked deck  \\\n",
       "0           0       3    1  22.000000      1      0   7.2500        S    M   \n",
       "1           1       1    0  38.000000      1      0  71.2833        C    C   \n",
       "2           1       3    0  26.000000      0      0   7.9250        S    M   \n",
       "3           1       1    0  35.000000      1      0  53.1000        S    C   \n",
       "4           0       3    1  35.000000      0      0   8.0500        S    M   \n",
       "..        ...     ...  ...        ...    ...    ...      ...      ...  ...   \n",
       "886         0       2    1  27.000000      0      0  13.0000        S    M   \n",
       "887         1       1    0  19.000000      0      0  30.0000        S    B   \n",
       "888         0       3    0  21.804054      1      2  23.4500        S    M   \n",
       "889         1       1    1  26.000000      0      0  30.0000        C    C   \n",
       "890         0       3    1  32.000000      0      0   7.7500        Q    M   \n",
       "\n",
       "    title  embarked_1  \n",
       "0      Mr           2  \n",
       "1     Mrs           0  \n",
       "2    Miss           2  \n",
       "3     Mrs           2  \n",
       "4      Mr           2  \n",
       "..    ...         ...  \n",
       "886   Rev           2  \n",
       "887  Miss           2  \n",
       "888  Miss           2  \n",
       "889    Mr           0  \n",
       "890    Mr           1  \n",
       "\n",
       "[891 rows x 11 columns]"
      ]
     },
     "execution_count": 82,
     "metadata": {},
     "output_type": "execute_result"
    }
   ],
   "source": [
    "data"
   ]
  },
  {
   "cell_type": "code",
   "execution_count": 83,
   "id": "c45e1055",
   "metadata": {
    "scrolled": false
   },
   "outputs": [
    {
     "data": {
      "text/html": [
       "<div>\n",
       "<style scoped>\n",
       "    .dataframe tbody tr th:only-of-type {\n",
       "        vertical-align: middle;\n",
       "    }\n",
       "\n",
       "    .dataframe tbody tr th {\n",
       "        vertical-align: top;\n",
       "    }\n",
       "\n",
       "    .dataframe thead th {\n",
       "        text-align: right;\n",
       "    }\n",
       "</style>\n",
       "<table border=\"1\" class=\"dataframe\">\n",
       "  <thead>\n",
       "    <tr style=\"text-align: right;\">\n",
       "      <th></th>\n",
       "      <th>survived</th>\n",
       "      <th>pclass</th>\n",
       "      <th>sex</th>\n",
       "      <th>age</th>\n",
       "      <th>sibsp</th>\n",
       "      <th>parch</th>\n",
       "      <th>fare</th>\n",
       "      <th>embarked</th>\n",
       "      <th>deck</th>\n",
       "      <th>title</th>\n",
       "      <th>embarked_1</th>\n",
       "      <th>C</th>\n",
       "      <th>Q</th>\n",
       "      <th>S</th>\n",
       "    </tr>\n",
       "  </thead>\n",
       "  <tbody>\n",
       "    <tr>\n",
       "      <th>0</th>\n",
       "      <td>0</td>\n",
       "      <td>3</td>\n",
       "      <td>1</td>\n",
       "      <td>22.000000</td>\n",
       "      <td>1</td>\n",
       "      <td>0</td>\n",
       "      <td>7.2500</td>\n",
       "      <td>S</td>\n",
       "      <td>M</td>\n",
       "      <td>Mr</td>\n",
       "      <td>2</td>\n",
       "      <td>0.0</td>\n",
       "      <td>0.0</td>\n",
       "      <td>1.0</td>\n",
       "    </tr>\n",
       "    <tr>\n",
       "      <th>1</th>\n",
       "      <td>1</td>\n",
       "      <td>1</td>\n",
       "      <td>0</td>\n",
       "      <td>38.000000</td>\n",
       "      <td>1</td>\n",
       "      <td>0</td>\n",
       "      <td>71.2833</td>\n",
       "      <td>C</td>\n",
       "      <td>C</td>\n",
       "      <td>Mrs</td>\n",
       "      <td>0</td>\n",
       "      <td>1.0</td>\n",
       "      <td>0.0</td>\n",
       "      <td>0.0</td>\n",
       "    </tr>\n",
       "    <tr>\n",
       "      <th>2</th>\n",
       "      <td>1</td>\n",
       "      <td>3</td>\n",
       "      <td>0</td>\n",
       "      <td>26.000000</td>\n",
       "      <td>0</td>\n",
       "      <td>0</td>\n",
       "      <td>7.9250</td>\n",
       "      <td>S</td>\n",
       "      <td>M</td>\n",
       "      <td>Miss</td>\n",
       "      <td>2</td>\n",
       "      <td>0.0</td>\n",
       "      <td>0.0</td>\n",
       "      <td>1.0</td>\n",
       "    </tr>\n",
       "    <tr>\n",
       "      <th>3</th>\n",
       "      <td>1</td>\n",
       "      <td>1</td>\n",
       "      <td>0</td>\n",
       "      <td>35.000000</td>\n",
       "      <td>1</td>\n",
       "      <td>0</td>\n",
       "      <td>53.1000</td>\n",
       "      <td>S</td>\n",
       "      <td>C</td>\n",
       "      <td>Mrs</td>\n",
       "      <td>2</td>\n",
       "      <td>0.0</td>\n",
       "      <td>0.0</td>\n",
       "      <td>1.0</td>\n",
       "    </tr>\n",
       "    <tr>\n",
       "      <th>4</th>\n",
       "      <td>0</td>\n",
       "      <td>3</td>\n",
       "      <td>1</td>\n",
       "      <td>35.000000</td>\n",
       "      <td>0</td>\n",
       "      <td>0</td>\n",
       "      <td>8.0500</td>\n",
       "      <td>S</td>\n",
       "      <td>M</td>\n",
       "      <td>Mr</td>\n",
       "      <td>2</td>\n",
       "      <td>0.0</td>\n",
       "      <td>0.0</td>\n",
       "      <td>1.0</td>\n",
       "    </tr>\n",
       "    <tr>\n",
       "      <th>...</th>\n",
       "      <td>...</td>\n",
       "      <td>...</td>\n",
       "      <td>...</td>\n",
       "      <td>...</td>\n",
       "      <td>...</td>\n",
       "      <td>...</td>\n",
       "      <td>...</td>\n",
       "      <td>...</td>\n",
       "      <td>...</td>\n",
       "      <td>...</td>\n",
       "      <td>...</td>\n",
       "      <td>...</td>\n",
       "      <td>...</td>\n",
       "      <td>...</td>\n",
       "    </tr>\n",
       "    <tr>\n",
       "      <th>886</th>\n",
       "      <td>0</td>\n",
       "      <td>2</td>\n",
       "      <td>1</td>\n",
       "      <td>27.000000</td>\n",
       "      <td>0</td>\n",
       "      <td>0</td>\n",
       "      <td>13.0000</td>\n",
       "      <td>S</td>\n",
       "      <td>M</td>\n",
       "      <td>Rev</td>\n",
       "      <td>2</td>\n",
       "      <td>0.0</td>\n",
       "      <td>0.0</td>\n",
       "      <td>1.0</td>\n",
       "    </tr>\n",
       "    <tr>\n",
       "      <th>887</th>\n",
       "      <td>1</td>\n",
       "      <td>1</td>\n",
       "      <td>0</td>\n",
       "      <td>19.000000</td>\n",
       "      <td>0</td>\n",
       "      <td>0</td>\n",
       "      <td>30.0000</td>\n",
       "      <td>S</td>\n",
       "      <td>B</td>\n",
       "      <td>Miss</td>\n",
       "      <td>2</td>\n",
       "      <td>0.0</td>\n",
       "      <td>0.0</td>\n",
       "      <td>1.0</td>\n",
       "    </tr>\n",
       "    <tr>\n",
       "      <th>888</th>\n",
       "      <td>0</td>\n",
       "      <td>3</td>\n",
       "      <td>0</td>\n",
       "      <td>21.804054</td>\n",
       "      <td>1</td>\n",
       "      <td>2</td>\n",
       "      <td>23.4500</td>\n",
       "      <td>S</td>\n",
       "      <td>M</td>\n",
       "      <td>Miss</td>\n",
       "      <td>2</td>\n",
       "      <td>0.0</td>\n",
       "      <td>0.0</td>\n",
       "      <td>1.0</td>\n",
       "    </tr>\n",
       "    <tr>\n",
       "      <th>889</th>\n",
       "      <td>1</td>\n",
       "      <td>1</td>\n",
       "      <td>1</td>\n",
       "      <td>26.000000</td>\n",
       "      <td>0</td>\n",
       "      <td>0</td>\n",
       "      <td>30.0000</td>\n",
       "      <td>C</td>\n",
       "      <td>C</td>\n",
       "      <td>Mr</td>\n",
       "      <td>0</td>\n",
       "      <td>1.0</td>\n",
       "      <td>0.0</td>\n",
       "      <td>0.0</td>\n",
       "    </tr>\n",
       "    <tr>\n",
       "      <th>890</th>\n",
       "      <td>0</td>\n",
       "      <td>3</td>\n",
       "      <td>1</td>\n",
       "      <td>32.000000</td>\n",
       "      <td>0</td>\n",
       "      <td>0</td>\n",
       "      <td>7.7500</td>\n",
       "      <td>Q</td>\n",
       "      <td>M</td>\n",
       "      <td>Mr</td>\n",
       "      <td>1</td>\n",
       "      <td>0.0</td>\n",
       "      <td>1.0</td>\n",
       "      <td>0.0</td>\n",
       "    </tr>\n",
       "  </tbody>\n",
       "</table>\n",
       "<p>891 rows × 14 columns</p>\n",
       "</div>"
      ],
      "text/plain": [
       "     survived  pclass  sex        age  sibsp  parch     fare embarked deck  \\\n",
       "0           0       3    1  22.000000      1      0   7.2500        S    M   \n",
       "1           1       1    0  38.000000      1      0  71.2833        C    C   \n",
       "2           1       3    0  26.000000      0      0   7.9250        S    M   \n",
       "3           1       1    0  35.000000      1      0  53.1000        S    C   \n",
       "4           0       3    1  35.000000      0      0   8.0500        S    M   \n",
       "..        ...     ...  ...        ...    ...    ...      ...      ...  ...   \n",
       "886         0       2    1  27.000000      0      0  13.0000        S    M   \n",
       "887         1       1    0  19.000000      0      0  30.0000        S    B   \n",
       "888         0       3    0  21.804054      1      2  23.4500        S    M   \n",
       "889         1       1    1  26.000000      0      0  30.0000        C    C   \n",
       "890         0       3    1  32.000000      0      0   7.7500        Q    M   \n",
       "\n",
       "    title  embarked_1    C    Q    S  \n",
       "0      Mr           2  0.0  0.0  1.0  \n",
       "1     Mrs           0  1.0  0.0  0.0  \n",
       "2    Miss           2  0.0  0.0  1.0  \n",
       "3     Mrs           2  0.0  0.0  1.0  \n",
       "4      Mr           2  0.0  0.0  1.0  \n",
       "..    ...         ...  ...  ...  ...  \n",
       "886   Rev           2  0.0  0.0  1.0  \n",
       "887  Miss           2  0.0  0.0  1.0  \n",
       "888  Miss           2  0.0  0.0  1.0  \n",
       "889    Mr           0  1.0  0.0  0.0  \n",
       "890    Mr           1  0.0  1.0  0.0  \n",
       "\n",
       "[891 rows x 14 columns]"
      ]
     },
     "execution_count": 83,
     "metadata": {},
     "output_type": "execute_result"
    }
   ],
   "source": [
    "data[[\"C\", \"Q\", \"S\"]] = embarked_column #alphabetically\n",
    "data"
   ]
  },
  {
   "cell_type": "code",
   "execution_count": 84,
   "id": "abffc936",
   "metadata": {},
   "outputs": [],
   "source": [
    "# male -> 1\n",
    "# female -> 0"
   ]
  },
  {
   "cell_type": "code",
   "execution_count": 85,
   "id": "04b453b4",
   "metadata": {},
   "outputs": [],
   "source": [
    "data.drop(\"embarked\", axis=1, inplace=True)\n",
    "data.drop(\"embarked_1\", axis=1, inplace=True)"
   ]
  },
  {
   "cell_type": "code",
   "execution_count": 86,
   "id": "a80783ab",
   "metadata": {},
   "outputs": [
    {
     "data": {
      "text/html": [
       "<div>\n",
       "<style scoped>\n",
       "    .dataframe tbody tr th:only-of-type {\n",
       "        vertical-align: middle;\n",
       "    }\n",
       "\n",
       "    .dataframe tbody tr th {\n",
       "        vertical-align: top;\n",
       "    }\n",
       "\n",
       "    .dataframe thead th {\n",
       "        text-align: right;\n",
       "    }\n",
       "</style>\n",
       "<table border=\"1\" class=\"dataframe\">\n",
       "  <thead>\n",
       "    <tr style=\"text-align: right;\">\n",
       "      <th></th>\n",
       "      <th>survived</th>\n",
       "      <th>pclass</th>\n",
       "      <th>sex</th>\n",
       "      <th>age</th>\n",
       "      <th>sibsp</th>\n",
       "      <th>parch</th>\n",
       "      <th>fare</th>\n",
       "      <th>deck</th>\n",
       "      <th>title</th>\n",
       "      <th>C</th>\n",
       "      <th>Q</th>\n",
       "      <th>S</th>\n",
       "    </tr>\n",
       "  </thead>\n",
       "  <tbody>\n",
       "    <tr>\n",
       "      <th>0</th>\n",
       "      <td>0</td>\n",
       "      <td>3</td>\n",
       "      <td>1</td>\n",
       "      <td>22.000000</td>\n",
       "      <td>1</td>\n",
       "      <td>0</td>\n",
       "      <td>7.2500</td>\n",
       "      <td>M</td>\n",
       "      <td>Mr</td>\n",
       "      <td>0.0</td>\n",
       "      <td>0.0</td>\n",
       "      <td>1.0</td>\n",
       "    </tr>\n",
       "    <tr>\n",
       "      <th>1</th>\n",
       "      <td>1</td>\n",
       "      <td>1</td>\n",
       "      <td>0</td>\n",
       "      <td>38.000000</td>\n",
       "      <td>1</td>\n",
       "      <td>0</td>\n",
       "      <td>71.2833</td>\n",
       "      <td>C</td>\n",
       "      <td>Mrs</td>\n",
       "      <td>1.0</td>\n",
       "      <td>0.0</td>\n",
       "      <td>0.0</td>\n",
       "    </tr>\n",
       "    <tr>\n",
       "      <th>2</th>\n",
       "      <td>1</td>\n",
       "      <td>3</td>\n",
       "      <td>0</td>\n",
       "      <td>26.000000</td>\n",
       "      <td>0</td>\n",
       "      <td>0</td>\n",
       "      <td>7.9250</td>\n",
       "      <td>M</td>\n",
       "      <td>Miss</td>\n",
       "      <td>0.0</td>\n",
       "      <td>0.0</td>\n",
       "      <td>1.0</td>\n",
       "    </tr>\n",
       "    <tr>\n",
       "      <th>3</th>\n",
       "      <td>1</td>\n",
       "      <td>1</td>\n",
       "      <td>0</td>\n",
       "      <td>35.000000</td>\n",
       "      <td>1</td>\n",
       "      <td>0</td>\n",
       "      <td>53.1000</td>\n",
       "      <td>C</td>\n",
       "      <td>Mrs</td>\n",
       "      <td>0.0</td>\n",
       "      <td>0.0</td>\n",
       "      <td>1.0</td>\n",
       "    </tr>\n",
       "    <tr>\n",
       "      <th>4</th>\n",
       "      <td>0</td>\n",
       "      <td>3</td>\n",
       "      <td>1</td>\n",
       "      <td>35.000000</td>\n",
       "      <td>0</td>\n",
       "      <td>0</td>\n",
       "      <td>8.0500</td>\n",
       "      <td>M</td>\n",
       "      <td>Mr</td>\n",
       "      <td>0.0</td>\n",
       "      <td>0.0</td>\n",
       "      <td>1.0</td>\n",
       "    </tr>\n",
       "    <tr>\n",
       "      <th>...</th>\n",
       "      <td>...</td>\n",
       "      <td>...</td>\n",
       "      <td>...</td>\n",
       "      <td>...</td>\n",
       "      <td>...</td>\n",
       "      <td>...</td>\n",
       "      <td>...</td>\n",
       "      <td>...</td>\n",
       "      <td>...</td>\n",
       "      <td>...</td>\n",
       "      <td>...</td>\n",
       "      <td>...</td>\n",
       "    </tr>\n",
       "    <tr>\n",
       "      <th>886</th>\n",
       "      <td>0</td>\n",
       "      <td>2</td>\n",
       "      <td>1</td>\n",
       "      <td>27.000000</td>\n",
       "      <td>0</td>\n",
       "      <td>0</td>\n",
       "      <td>13.0000</td>\n",
       "      <td>M</td>\n",
       "      <td>Rev</td>\n",
       "      <td>0.0</td>\n",
       "      <td>0.0</td>\n",
       "      <td>1.0</td>\n",
       "    </tr>\n",
       "    <tr>\n",
       "      <th>887</th>\n",
       "      <td>1</td>\n",
       "      <td>1</td>\n",
       "      <td>0</td>\n",
       "      <td>19.000000</td>\n",
       "      <td>0</td>\n",
       "      <td>0</td>\n",
       "      <td>30.0000</td>\n",
       "      <td>B</td>\n",
       "      <td>Miss</td>\n",
       "      <td>0.0</td>\n",
       "      <td>0.0</td>\n",
       "      <td>1.0</td>\n",
       "    </tr>\n",
       "    <tr>\n",
       "      <th>888</th>\n",
       "      <td>0</td>\n",
       "      <td>3</td>\n",
       "      <td>0</td>\n",
       "      <td>21.804054</td>\n",
       "      <td>1</td>\n",
       "      <td>2</td>\n",
       "      <td>23.4500</td>\n",
       "      <td>M</td>\n",
       "      <td>Miss</td>\n",
       "      <td>0.0</td>\n",
       "      <td>0.0</td>\n",
       "      <td>1.0</td>\n",
       "    </tr>\n",
       "    <tr>\n",
       "      <th>889</th>\n",
       "      <td>1</td>\n",
       "      <td>1</td>\n",
       "      <td>1</td>\n",
       "      <td>26.000000</td>\n",
       "      <td>0</td>\n",
       "      <td>0</td>\n",
       "      <td>30.0000</td>\n",
       "      <td>C</td>\n",
       "      <td>Mr</td>\n",
       "      <td>1.0</td>\n",
       "      <td>0.0</td>\n",
       "      <td>0.0</td>\n",
       "    </tr>\n",
       "    <tr>\n",
       "      <th>890</th>\n",
       "      <td>0</td>\n",
       "      <td>3</td>\n",
       "      <td>1</td>\n",
       "      <td>32.000000</td>\n",
       "      <td>0</td>\n",
       "      <td>0</td>\n",
       "      <td>7.7500</td>\n",
       "      <td>M</td>\n",
       "      <td>Mr</td>\n",
       "      <td>0.0</td>\n",
       "      <td>1.0</td>\n",
       "      <td>0.0</td>\n",
       "    </tr>\n",
       "  </tbody>\n",
       "</table>\n",
       "<p>891 rows × 12 columns</p>\n",
       "</div>"
      ],
      "text/plain": [
       "     survived  pclass  sex        age  sibsp  parch     fare deck title    C  \\\n",
       "0           0       3    1  22.000000      1      0   7.2500    M    Mr  0.0   \n",
       "1           1       1    0  38.000000      1      0  71.2833    C   Mrs  1.0   \n",
       "2           1       3    0  26.000000      0      0   7.9250    M  Miss  0.0   \n",
       "3           1       1    0  35.000000      1      0  53.1000    C   Mrs  0.0   \n",
       "4           0       3    1  35.000000      0      0   8.0500    M    Mr  0.0   \n",
       "..        ...     ...  ...        ...    ...    ...      ...  ...   ...  ...   \n",
       "886         0       2    1  27.000000      0      0  13.0000    M   Rev  0.0   \n",
       "887         1       1    0  19.000000      0      0  30.0000    B  Miss  0.0   \n",
       "888         0       3    0  21.804054      1      2  23.4500    M  Miss  0.0   \n",
       "889         1       1    1  26.000000      0      0  30.0000    C    Mr  1.0   \n",
       "890         0       3    1  32.000000      0      0   7.7500    M    Mr  0.0   \n",
       "\n",
       "       Q    S  \n",
       "0    0.0  1.0  \n",
       "1    0.0  0.0  \n",
       "2    0.0  1.0  \n",
       "3    0.0  1.0  \n",
       "4    0.0  1.0  \n",
       "..   ...  ...  \n",
       "886  0.0  1.0  \n",
       "887  0.0  1.0  \n",
       "888  0.0  1.0  \n",
       "889  0.0  0.0  \n",
       "890  1.0  0.0  \n",
       "\n",
       "[891 rows x 12 columns]"
      ]
     },
     "execution_count": 86,
     "metadata": {},
     "output_type": "execute_result"
    }
   ],
   "source": [
    "data"
   ]
  },
  {
   "cell_type": "markdown",
   "id": "49865bb6",
   "metadata": {},
   "source": [
    "label encoder: 0, 1, 2, 3, 4, 5, 6\n",
    "one hot encoder or get dummies: 0, 1, 0, 0 , 0 for each -> one column\n",
    "hierachy: A > B > C > D"
   ]
  },
  {
   "cell_type": "markdown",
   "id": "43ce680b",
   "metadata": {
    "lang": "en"
   },
   "source": [
    "### By hand with a dictionary 💡\n",
    "We can give a numerical value to each category and decide its importance"
   ]
  },
  {
   "cell_type": "code",
   "execution_count": 87,
   "id": "b05815fb",
   "metadata": {},
   "outputs": [
    {
     "data": {
      "text/plain": [
       "['M', 'C', 'E', 'G', 'D', 'A', 'B', 'F', 'T']"
      ]
     },
     "execution_count": 87,
     "metadata": {},
     "output_type": "execute_result"
    }
   ],
   "source": [
    "list(data.deck.unique())"
   ]
  },
  {
   "cell_type": "code",
   "execution_count": 88,
   "id": "ecb8490a",
   "metadata": {},
   "outputs": [],
   "source": [
    "new_dict = {\n",
    "    \n",
    "}\n",
    "\n",
    "for i in list(data.deck.unique()):\n",
    "    new_dict[i] = 0"
   ]
  },
  {
   "cell_type": "code",
   "execution_count": 89,
   "id": "70996f85",
   "metadata": {},
   "outputs": [],
   "source": [
    "new_dict = {'M': 2, \n",
    "            'C': 7, \n",
    "            'E': 5, \n",
    "            'G': 3, \n",
    "            'D': 6, \n",
    "            'A': 9, \n",
    "            'B': 8, \n",
    "            'F': 4, \n",
    "            'T': 2}"
   ]
  },
  {
   "cell_type": "code",
   "execution_count": 90,
   "id": "c5d03c02",
   "metadata": {},
   "outputs": [
    {
     "data": {
      "text/html": [
       "<div>\n",
       "<style scoped>\n",
       "    .dataframe tbody tr th:only-of-type {\n",
       "        vertical-align: middle;\n",
       "    }\n",
       "\n",
       "    .dataframe tbody tr th {\n",
       "        vertical-align: top;\n",
       "    }\n",
       "\n",
       "    .dataframe thead th {\n",
       "        text-align: right;\n",
       "    }\n",
       "</style>\n",
       "<table border=\"1\" class=\"dataframe\">\n",
       "  <thead>\n",
       "    <tr style=\"text-align: right;\">\n",
       "      <th></th>\n",
       "      <th>survived</th>\n",
       "      <th>pclass</th>\n",
       "      <th>sex</th>\n",
       "      <th>age</th>\n",
       "      <th>sibsp</th>\n",
       "      <th>parch</th>\n",
       "      <th>fare</th>\n",
       "      <th>deck</th>\n",
       "      <th>title</th>\n",
       "      <th>C</th>\n",
       "      <th>Q</th>\n",
       "      <th>S</th>\n",
       "    </tr>\n",
       "  </thead>\n",
       "  <tbody>\n",
       "    <tr>\n",
       "      <th>0</th>\n",
       "      <td>0</td>\n",
       "      <td>3</td>\n",
       "      <td>1</td>\n",
       "      <td>22.000000</td>\n",
       "      <td>1</td>\n",
       "      <td>0</td>\n",
       "      <td>7.2500</td>\n",
       "      <td>2</td>\n",
       "      <td>Mr</td>\n",
       "      <td>0.0</td>\n",
       "      <td>0.0</td>\n",
       "      <td>1.0</td>\n",
       "    </tr>\n",
       "    <tr>\n",
       "      <th>1</th>\n",
       "      <td>1</td>\n",
       "      <td>1</td>\n",
       "      <td>0</td>\n",
       "      <td>38.000000</td>\n",
       "      <td>1</td>\n",
       "      <td>0</td>\n",
       "      <td>71.2833</td>\n",
       "      <td>7</td>\n",
       "      <td>Mrs</td>\n",
       "      <td>1.0</td>\n",
       "      <td>0.0</td>\n",
       "      <td>0.0</td>\n",
       "    </tr>\n",
       "    <tr>\n",
       "      <th>2</th>\n",
       "      <td>1</td>\n",
       "      <td>3</td>\n",
       "      <td>0</td>\n",
       "      <td>26.000000</td>\n",
       "      <td>0</td>\n",
       "      <td>0</td>\n",
       "      <td>7.9250</td>\n",
       "      <td>2</td>\n",
       "      <td>Miss</td>\n",
       "      <td>0.0</td>\n",
       "      <td>0.0</td>\n",
       "      <td>1.0</td>\n",
       "    </tr>\n",
       "    <tr>\n",
       "      <th>3</th>\n",
       "      <td>1</td>\n",
       "      <td>1</td>\n",
       "      <td>0</td>\n",
       "      <td>35.000000</td>\n",
       "      <td>1</td>\n",
       "      <td>0</td>\n",
       "      <td>53.1000</td>\n",
       "      <td>7</td>\n",
       "      <td>Mrs</td>\n",
       "      <td>0.0</td>\n",
       "      <td>0.0</td>\n",
       "      <td>1.0</td>\n",
       "    </tr>\n",
       "    <tr>\n",
       "      <th>4</th>\n",
       "      <td>0</td>\n",
       "      <td>3</td>\n",
       "      <td>1</td>\n",
       "      <td>35.000000</td>\n",
       "      <td>0</td>\n",
       "      <td>0</td>\n",
       "      <td>8.0500</td>\n",
       "      <td>2</td>\n",
       "      <td>Mr</td>\n",
       "      <td>0.0</td>\n",
       "      <td>0.0</td>\n",
       "      <td>1.0</td>\n",
       "    </tr>\n",
       "    <tr>\n",
       "      <th>...</th>\n",
       "      <td>...</td>\n",
       "      <td>...</td>\n",
       "      <td>...</td>\n",
       "      <td>...</td>\n",
       "      <td>...</td>\n",
       "      <td>...</td>\n",
       "      <td>...</td>\n",
       "      <td>...</td>\n",
       "      <td>...</td>\n",
       "      <td>...</td>\n",
       "      <td>...</td>\n",
       "      <td>...</td>\n",
       "    </tr>\n",
       "    <tr>\n",
       "      <th>886</th>\n",
       "      <td>0</td>\n",
       "      <td>2</td>\n",
       "      <td>1</td>\n",
       "      <td>27.000000</td>\n",
       "      <td>0</td>\n",
       "      <td>0</td>\n",
       "      <td>13.0000</td>\n",
       "      <td>2</td>\n",
       "      <td>Rev</td>\n",
       "      <td>0.0</td>\n",
       "      <td>0.0</td>\n",
       "      <td>1.0</td>\n",
       "    </tr>\n",
       "    <tr>\n",
       "      <th>887</th>\n",
       "      <td>1</td>\n",
       "      <td>1</td>\n",
       "      <td>0</td>\n",
       "      <td>19.000000</td>\n",
       "      <td>0</td>\n",
       "      <td>0</td>\n",
       "      <td>30.0000</td>\n",
       "      <td>8</td>\n",
       "      <td>Miss</td>\n",
       "      <td>0.0</td>\n",
       "      <td>0.0</td>\n",
       "      <td>1.0</td>\n",
       "    </tr>\n",
       "    <tr>\n",
       "      <th>888</th>\n",
       "      <td>0</td>\n",
       "      <td>3</td>\n",
       "      <td>0</td>\n",
       "      <td>21.804054</td>\n",
       "      <td>1</td>\n",
       "      <td>2</td>\n",
       "      <td>23.4500</td>\n",
       "      <td>2</td>\n",
       "      <td>Miss</td>\n",
       "      <td>0.0</td>\n",
       "      <td>0.0</td>\n",
       "      <td>1.0</td>\n",
       "    </tr>\n",
       "    <tr>\n",
       "      <th>889</th>\n",
       "      <td>1</td>\n",
       "      <td>1</td>\n",
       "      <td>1</td>\n",
       "      <td>26.000000</td>\n",
       "      <td>0</td>\n",
       "      <td>0</td>\n",
       "      <td>30.0000</td>\n",
       "      <td>7</td>\n",
       "      <td>Mr</td>\n",
       "      <td>1.0</td>\n",
       "      <td>0.0</td>\n",
       "      <td>0.0</td>\n",
       "    </tr>\n",
       "    <tr>\n",
       "      <th>890</th>\n",
       "      <td>0</td>\n",
       "      <td>3</td>\n",
       "      <td>1</td>\n",
       "      <td>32.000000</td>\n",
       "      <td>0</td>\n",
       "      <td>0</td>\n",
       "      <td>7.7500</td>\n",
       "      <td>2</td>\n",
       "      <td>Mr</td>\n",
       "      <td>0.0</td>\n",
       "      <td>1.0</td>\n",
       "      <td>0.0</td>\n",
       "    </tr>\n",
       "  </tbody>\n",
       "</table>\n",
       "<p>891 rows × 12 columns</p>\n",
       "</div>"
      ],
      "text/plain": [
       "     survived  pclass  sex        age  sibsp  parch     fare  deck title    C  \\\n",
       "0           0       3    1  22.000000      1      0   7.2500     2    Mr  0.0   \n",
       "1           1       1    0  38.000000      1      0  71.2833     7   Mrs  1.0   \n",
       "2           1       3    0  26.000000      0      0   7.9250     2  Miss  0.0   \n",
       "3           1       1    0  35.000000      1      0  53.1000     7   Mrs  0.0   \n",
       "4           0       3    1  35.000000      0      0   8.0500     2    Mr  0.0   \n",
       "..        ...     ...  ...        ...    ...    ...      ...   ...   ...  ...   \n",
       "886         0       2    1  27.000000      0      0  13.0000     2   Rev  0.0   \n",
       "887         1       1    0  19.000000      0      0  30.0000     8  Miss  0.0   \n",
       "888         0       3    0  21.804054      1      2  23.4500     2  Miss  0.0   \n",
       "889         1       1    1  26.000000      0      0  30.0000     7    Mr  1.0   \n",
       "890         0       3    1  32.000000      0      0   7.7500     2    Mr  0.0   \n",
       "\n",
       "       Q    S  \n",
       "0    0.0  1.0  \n",
       "1    0.0  0.0  \n",
       "2    0.0  1.0  \n",
       "3    0.0  1.0  \n",
       "4    0.0  1.0  \n",
       "..   ...  ...  \n",
       "886  0.0  1.0  \n",
       "887  0.0  1.0  \n",
       "888  0.0  1.0  \n",
       "889  0.0  0.0  \n",
       "890  1.0  0.0  \n",
       "\n",
       "[891 rows x 12 columns]"
      ]
     },
     "execution_count": 90,
     "metadata": {},
     "output_type": "execute_result"
    }
   ],
   "source": [
    "data[\"deck\"] = data.deck.map(new_dict)\n",
    "data"
   ]
  },
  {
   "cell_type": "code",
   "execution_count": 91,
   "id": "5b70fa23",
   "metadata": {},
   "outputs": [
    {
     "data": {
      "text/plain": [
       "array(['Mr', 'Mrs', 'Miss', 'Master', 'Misc', 'Rev', 'Dr'], dtype=object)"
      ]
     },
     "execution_count": 91,
     "metadata": {},
     "output_type": "execute_result"
    }
   ],
   "source": [
    "data.title.unique()"
   ]
  },
  {
   "cell_type": "code",
   "execution_count": 92,
   "id": "bfebc498",
   "metadata": {},
   "outputs": [],
   "source": [
    "data = pd.get_dummies(data, prefix=['title_'])"
   ]
  },
  {
   "cell_type": "markdown",
   "id": "cathedral-mattress",
   "metadata": {},
   "source": [
    "## Feature Scaling"
   ]
  },
  {
   "cell_type": "markdown",
   "id": "98a10db0",
   "metadata": {
    "lang": "en"
   },
   "source": [
    "Some algorithms, especially those based on distance calculations, will give more weight to features that show large changes in value, interpreting these features as artificially more important. For these algorithms, it is important that we scale our features, or that we scale features with naturally different scales, so that the features are used by the algorithm without artificial overweighting, and allow two features with different scales to be compared.\n",
    "\n",
    "Algorithms that do not require normalization/scaling are rule-based. They would not be affected by any monotonic transformation of the variables. Scaling is a monotonic transformation.\n",
    "Examples of algorithms in this category are all tree-based algorithms:\n",
    "- CART\n",
    "-Random Forests\n",
    "-Gradient Boosted Decision Trees\n",
    "These algorithms use rules (series of inequalities) and do not require normalization.\n",
    "\n",
    "There are two different types of feature scaling that we are going to explore:"
   ]
  },
  {
   "cell_type": "markdown",
   "id": "260cd15c",
   "metadata": {
    "lang": "en"
   },
   "source": [
    "Still, I leave you literature:\n",
    "    - https://towardsdatascience.com/all-about-feature-scaling-bcc0ad75cb35"
   ]
  },
  {
   "cell_type": "markdown",
   "id": "b2118fec",
   "metadata": {
    "lang": "en"
   },
   "source": [
    "### Standardization\n",
    "In standardization, we impose several statistical properties on the variable: the mean value is set to 0, and the standard deviation is set to 1. This is achieved by subtracting the mean from each feature value and dividing by the standard deviation. This is also sometimes called \"z-score normalization.\"\n",
    "\n",
    "So what does this mean, in practice, about standardized data? As we can see below, we now have the distributions of both variables centered around the zero mean, with a standard deviation of 1. Since we are enforcing this standard deviation, normalization reduces the effects of outliers on the feature. In addition, it allows comparing two characteristics with different scales or units. The different scales of the characteristics would be statistically reflected in differences in both the mean and the standard deviation. Standardizing these two numbers between features removes the influence of these scale differences.\n",
    "\n",
    "Standardization is especially important in situations where we use algorithms that assume features in our data are distributed along a 'bell curve' or Gaussian distribution, such as linear and logistic regression."
   ]
  },
  {
   "cell_type": "code",
   "execution_count": 93,
   "id": "b7d505d2",
   "metadata": {
    "lang": "en"
   },
   "outputs": [],
   "source": [
    "from sklearn.preprocessing import StandardScaler"
   ]
  },
  {
   "cell_type": "code",
   "execution_count": 94,
   "id": "c343ba9a",
   "metadata": {},
   "outputs": [],
   "source": [
    "scaler = StandardScaler()"
   ]
  },
  {
   "cell_type": "code",
   "execution_count": 95,
   "id": "783bfe82",
   "metadata": {},
   "outputs": [
    {
     "data": {
      "text/plain": [
       "0       7.2500\n",
       "1      71.2833\n",
       "2       7.9250\n",
       "3      53.1000\n",
       "4       8.0500\n",
       "        ...   \n",
       "886    13.0000\n",
       "887    30.0000\n",
       "888    23.4500\n",
       "889    30.0000\n",
       "890     7.7500\n",
       "Name: fare, Length: 891, dtype: float64"
      ]
     },
     "execution_count": 95,
     "metadata": {},
     "output_type": "execute_result"
    }
   ],
   "source": [
    "data.fare"
   ]
  },
  {
   "cell_type": "code",
   "execution_count": 96,
   "id": "53d56403",
   "metadata": {},
   "outputs": [
    {
     "data": {
      "text/plain": [
       "0.0"
      ]
     },
     "execution_count": 96,
     "metadata": {},
     "output_type": "execute_result"
    }
   ],
   "source": [
    "data.fare.min()"
   ]
  },
  {
   "cell_type": "code",
   "execution_count": 97,
   "id": "f6c0ec26",
   "metadata": {},
   "outputs": [
    {
     "data": {
      "text/plain": [
       "512.3292"
      ]
     },
     "execution_count": 97,
     "metadata": {},
     "output_type": "execute_result"
    }
   ],
   "source": [
    "data.fare.max()"
   ]
  },
  {
   "cell_type": "code",
   "execution_count": 98,
   "id": "b64616a1",
   "metadata": {},
   "outputs": [
    {
     "data": {
      "image/png": "[encoded data removed]",
      "text/plain": [
       "<Figure size 432x288 with 1 Axes>"
      ]
     },
     "metadata": {
      "needs_background": "light"
     },
     "output_type": "display_data"
    }
   ],
   "source": [
    "import seaborn as sns\n",
    "sns.histplot(x=data.fare);"
   ]
  },
  {
   "cell_type": "code",
   "execution_count": 99,
   "id": "4553353f",
   "metadata": {},
   "outputs": [],
   "source": [
    "data[\"fare\"] = scaler.fit_transform(data[\"fare\"].values.reshape(-1, 1))"
   ]
  },
  {
   "cell_type": "code",
   "execution_count": 100,
   "id": "844110b2",
   "metadata": {
    "scrolled": true
   },
   "outputs": [
    {
     "data": {
      "text/html": [
       "<div>\n",
       "<style scoped>\n",
       "    .dataframe tbody tr th:only-of-type {\n",
       "        vertical-align: middle;\n",
       "    }\n",
       "\n",
       "    .dataframe tbody tr th {\n",
       "        vertical-align: top;\n",
       "    }\n",
       "\n",
       "    .dataframe thead th {\n",
       "        text-align: right;\n",
       "    }\n",
       "</style>\n",
       "<table border=\"1\" class=\"dataframe\">\n",
       "  <thead>\n",
       "    <tr style=\"text-align: right;\">\n",
       "      <th></th>\n",
       "      <th>survived</th>\n",
       "      <th>pclass</th>\n",
       "      <th>sex</th>\n",
       "      <th>age</th>\n",
       "      <th>sibsp</th>\n",
       "      <th>parch</th>\n",
       "      <th>fare</th>\n",
       "      <th>deck</th>\n",
       "      <th>C</th>\n",
       "      <th>Q</th>\n",
       "      <th>S</th>\n",
       "      <th>title__Dr</th>\n",
       "      <th>title__Master</th>\n",
       "      <th>title__Misc</th>\n",
       "      <th>title__Miss</th>\n",
       "      <th>title__Mr</th>\n",
       "      <th>title__Mrs</th>\n",
       "      <th>title__Rev</th>\n",
       "    </tr>\n",
       "  </thead>\n",
       "  <tbody>\n",
       "    <tr>\n",
       "      <th>0</th>\n",
       "      <td>0</td>\n",
       "      <td>3</td>\n",
       "      <td>1</td>\n",
       "      <td>22.000000</td>\n",
       "      <td>1</td>\n",
       "      <td>0</td>\n",
       "      <td>-0.502445</td>\n",
       "      <td>2</td>\n",
       "      <td>0.0</td>\n",
       "      <td>0.0</td>\n",
       "      <td>1.0</td>\n",
       "      <td>0</td>\n",
       "      <td>0</td>\n",
       "      <td>0</td>\n",
       "      <td>0</td>\n",
       "      <td>1</td>\n",
       "      <td>0</td>\n",
       "      <td>0</td>\n",
       "    </tr>\n",
       "    <tr>\n",
       "      <th>1</th>\n",
       "      <td>1</td>\n",
       "      <td>1</td>\n",
       "      <td>0</td>\n",
       "      <td>38.000000</td>\n",
       "      <td>1</td>\n",
       "      <td>0</td>\n",
       "      <td>0.786845</td>\n",
       "      <td>7</td>\n",
       "      <td>1.0</td>\n",
       "      <td>0.0</td>\n",
       "      <td>0.0</td>\n",
       "      <td>0</td>\n",
       "      <td>0</td>\n",
       "      <td>0</td>\n",
       "      <td>0</td>\n",
       "      <td>0</td>\n",
       "      <td>1</td>\n",
       "      <td>0</td>\n",
       "    </tr>\n",
       "    <tr>\n",
       "      <th>2</th>\n",
       "      <td>1</td>\n",
       "      <td>3</td>\n",
       "      <td>0</td>\n",
       "      <td>26.000000</td>\n",
       "      <td>0</td>\n",
       "      <td>0</td>\n",
       "      <td>-0.488854</td>\n",
       "      <td>2</td>\n",
       "      <td>0.0</td>\n",
       "      <td>0.0</td>\n",
       "      <td>1.0</td>\n",
       "      <td>0</td>\n",
       "      <td>0</td>\n",
       "      <td>0</td>\n",
       "      <td>1</td>\n",
       "      <td>0</td>\n",
       "      <td>0</td>\n",
       "      <td>0</td>\n",
       "    </tr>\n",
       "    <tr>\n",
       "      <th>3</th>\n",
       "      <td>1</td>\n",
       "      <td>1</td>\n",
       "      <td>0</td>\n",
       "      <td>35.000000</td>\n",
       "      <td>1</td>\n",
       "      <td>0</td>\n",
       "      <td>0.420730</td>\n",
       "      <td>7</td>\n",
       "      <td>0.0</td>\n",
       "      <td>0.0</td>\n",
       "      <td>1.0</td>\n",
       "      <td>0</td>\n",
       "      <td>0</td>\n",
       "      <td>0</td>\n",
       "      <td>0</td>\n",
       "      <td>0</td>\n",
       "      <td>1</td>\n",
       "      <td>0</td>\n",
       "    </tr>\n",
       "    <tr>\n",
       "      <th>4</th>\n",
       "      <td>0</td>\n",
       "      <td>3</td>\n",
       "      <td>1</td>\n",
       "      <td>35.000000</td>\n",
       "      <td>0</td>\n",
       "      <td>0</td>\n",
       "      <td>-0.486337</td>\n",
       "      <td>2</td>\n",
       "      <td>0.0</td>\n",
       "      <td>0.0</td>\n",
       "      <td>1.0</td>\n",
       "      <td>0</td>\n",
       "      <td>0</td>\n",
       "      <td>0</td>\n",
       "      <td>0</td>\n",
       "      <td>1</td>\n",
       "      <td>0</td>\n",
       "      <td>0</td>\n",
       "    </tr>\n",
       "    <tr>\n",
       "      <th>...</th>\n",
       "      <td>...</td>\n",
       "      <td>...</td>\n",
       "      <td>...</td>\n",
       "      <td>...</td>\n",
       "      <td>...</td>\n",
       "      <td>...</td>\n",
       "      <td>...</td>\n",
       "      <td>...</td>\n",
       "      <td>...</td>\n",
       "      <td>...</td>\n",
       "      <td>...</td>\n",
       "      <td>...</td>\n",
       "      <td>...</td>\n",
       "      <td>...</td>\n",
       "      <td>...</td>\n",
       "      <td>...</td>\n",
       "      <td>...</td>\n",
       "      <td>...</td>\n",
       "    </tr>\n",
       "    <tr>\n",
       "      <th>886</th>\n",
       "      <td>0</td>\n",
       "      <td>2</td>\n",
       "      <td>1</td>\n",
       "      <td>27.000000</td>\n",
       "      <td>0</td>\n",
       "      <td>0</td>\n",
       "      <td>-0.386671</td>\n",
       "      <td>2</td>\n",
       "      <td>0.0</td>\n",
       "      <td>0.0</td>\n",
       "      <td>1.0</td>\n",
       "      <td>0</td>\n",
       "      <td>0</td>\n",
       "      <td>0</td>\n",
       "      <td>0</td>\n",
       "      <td>0</td>\n",
       "      <td>0</td>\n",
       "      <td>1</td>\n",
       "    </tr>\n",
       "    <tr>\n",
       "      <th>887</th>\n",
       "      <td>1</td>\n",
       "      <td>1</td>\n",
       "      <td>0</td>\n",
       "      <td>19.000000</td>\n",
       "      <td>0</td>\n",
       "      <td>0</td>\n",
       "      <td>-0.044381</td>\n",
       "      <td>8</td>\n",
       "      <td>0.0</td>\n",
       "      <td>0.0</td>\n",
       "      <td>1.0</td>\n",
       "      <td>0</td>\n",
       "      <td>0</td>\n",
       "      <td>0</td>\n",
       "      <td>1</td>\n",
       "      <td>0</td>\n",
       "      <td>0</td>\n",
       "      <td>0</td>\n",
       "    </tr>\n",
       "    <tr>\n",
       "      <th>888</th>\n",
       "      <td>0</td>\n",
       "      <td>3</td>\n",
       "      <td>0</td>\n",
       "      <td>21.804054</td>\n",
       "      <td>1</td>\n",
       "      <td>2</td>\n",
       "      <td>-0.176263</td>\n",
       "      <td>2</td>\n",
       "      <td>0.0</td>\n",
       "      <td>0.0</td>\n",
       "      <td>1.0</td>\n",
       "      <td>0</td>\n",
       "      <td>0</td>\n",
       "      <td>0</td>\n",
       "      <td>1</td>\n",
       "      <td>0</td>\n",
       "      <td>0</td>\n",
       "      <td>0</td>\n",
       "    </tr>\n",
       "    <tr>\n",
       "      <th>889</th>\n",
       "      <td>1</td>\n",
       "      <td>1</td>\n",
       "      <td>1</td>\n",
       "      <td>26.000000</td>\n",
       "      <td>0</td>\n",
       "      <td>0</td>\n",
       "      <td>-0.044381</td>\n",
       "      <td>7</td>\n",
       "      <td>1.0</td>\n",
       "      <td>0.0</td>\n",
       "      <td>0.0</td>\n",
       "      <td>0</td>\n",
       "      <td>0</td>\n",
       "      <td>0</td>\n",
       "      <td>0</td>\n",
       "      <td>1</td>\n",
       "      <td>0</td>\n",
       "      <td>0</td>\n",
       "    </tr>\n",
       "    <tr>\n",
       "      <th>890</th>\n",
       "      <td>0</td>\n",
       "      <td>3</td>\n",
       "      <td>1</td>\n",
       "      <td>32.000000</td>\n",
       "      <td>0</td>\n",
       "      <td>0</td>\n",
       "      <td>-0.492378</td>\n",
       "      <td>2</td>\n",
       "      <td>0.0</td>\n",
       "      <td>1.0</td>\n",
       "      <td>0.0</td>\n",
       "      <td>0</td>\n",
       "      <td>0</td>\n",
       "      <td>0</td>\n",
       "      <td>0</td>\n",
       "      <td>1</td>\n",
       "      <td>0</td>\n",
       "      <td>0</td>\n",
       "    </tr>\n",
       "  </tbody>\n",
       "</table>\n",
       "<p>891 rows × 18 columns</p>\n",
       "</div>"
      ],
      "text/plain": [
       "     survived  pclass  sex        age  sibsp  parch      fare  deck    C    Q  \\\n",
       "0           0       3    1  22.000000      1      0 -0.502445     2  0.0  0.0   \n",
       "1           1       1    0  38.000000      1      0  0.786845     7  1.0  0.0   \n",
       "2           1       3    0  26.000000      0      0 -0.488854     2  0.0  0.0   \n",
       "3           1       1    0  35.000000      1      0  0.420730     7  0.0  0.0   \n",
       "4           0       3    1  35.000000      0      0 -0.486337     2  0.0  0.0   \n",
       "..        ...     ...  ...        ...    ...    ...       ...   ...  ...  ...   \n",
       "886         0       2    1  27.000000      0      0 -0.386671     2  0.0  0.0   \n",
       "887         1       1    0  19.000000      0      0 -0.044381     8  0.0  0.0   \n",
       "888         0       3    0  21.804054      1      2 -0.176263     2  0.0  0.0   \n",
       "889         1       1    1  26.000000      0      0 -0.044381     7  1.0  0.0   \n",
       "890         0       3    1  32.000000      0      0 -0.492378     2  0.0  1.0   \n",
       "\n",
       "       S  title__Dr  title__Master  title__Misc  title__Miss  title__Mr  \\\n",
       "0    1.0          0              0            0            0          1   \n",
       "1    0.0          0              0            0            0          0   \n",
       "2    1.0          0              0            0            1          0   \n",
       "3    1.0          0              0            0            0          0   \n",
       "4    1.0          0              0            0            0          1   \n",
       "..   ...        ...            ...          ...          ...        ...   \n",
       "886  1.0          0              0            0            0          0   \n",
       "887  1.0          0              0            0            1          0   \n",
       "888  1.0          0              0            0            1          0   \n",
       "889  0.0          0              0            0            0          1   \n",
       "890  0.0          0              0            0            0          1   \n",
       "\n",
       "     title__Mrs  title__Rev  \n",
       "0             0           0  \n",
       "1             1           0  \n",
       "2             0           0  \n",
       "3             1           0  \n",
       "4             0           0  \n",
       "..          ...         ...  \n",
       "886           0           1  \n",
       "887           0           0  \n",
       "888           0           0  \n",
       "889           0           0  \n",
       "890           0           0  \n",
       "\n",
       "[891 rows x 18 columns]"
      ]
     },
     "execution_count": 100,
     "metadata": {},
     "output_type": "execute_result"
    }
   ],
   "source": [
    "data"
   ]
  },
  {
   "cell_type": "code",
   "execution_count": 101,
   "id": "380e5d3b",
   "metadata": {},
   "outputs": [],
   "source": [
    "# Maybe: deck -> 0-1 NORMALIZE IT\n",
    "# A, B, C -> 1, 2, 3\n",
    "# NUMERICAL, ranges -> 0-1 (NORMALIZATION) OR STANDARIZATION (mean = 0, std = 1)"
   ]
  },
  {
   "cell_type": "code",
   "execution_count": 102,
   "id": "0ae668e7",
   "metadata": {},
   "outputs": [
    {
     "data": {
      "text/plain": [
       "-0.6484216535389205"
      ]
     },
     "execution_count": 102,
     "metadata": {},
     "output_type": "execute_result"
    }
   ],
   "source": [
    "data.fare.min()"
   ]
  },
  {
   "cell_type": "code",
   "execution_count": 103,
   "id": "196f50e7",
   "metadata": {},
   "outputs": [
    {
     "data": {
      "text/plain": [
       "9.667166525013505"
      ]
     },
     "execution_count": 103,
     "metadata": {},
     "output_type": "execute_result"
    }
   ],
   "source": [
    "data.fare.max()"
   ]
  },
  {
   "cell_type": "code",
   "execution_count": 104,
   "id": "89ce48ac",
   "metadata": {},
   "outputs": [
    {
     "data": {
      "image/png": "[encoded data removed]",
      "text/plain": [
       "<Figure size 432x288 with 1 Axes>"
      ]
     },
     "metadata": {
      "needs_background": "light"
     },
     "output_type": "display_data"
    }
   ],
   "source": [
    "import seaborn as sns\n",
    "sns.histplot(x=data.fare);"
   ]
  },
  {
   "cell_type": "markdown",
   "id": "5739ed12",
   "metadata": {
    "lang": "en"
   },
   "source": [
    "### Normalization\n",
    "\n",
    "In the other form of feature scaling, called normalization, the feature is rescaled to a range between 0 and 1, without any change to its original distribution within that range. Mathematically, this is achieved by subtracting the minimum feature value from each feature value, and dividing by the difference between the largest value and the smallest value.\n",
    "\n",
    "Since we compute the normalized value using the maximum and minimum values ​​of the feature, this technique is sometimes called \"min-max normalization.\"\n",
    "Normalization is most useful in cases where your data has few outliers but highly variable ranges, you don't know how your data is distributed, or you know that it is not distributed on a bell (Gaussian) curve. It is generally applied with algorithms that make no assumptions about the distributions of the features."
   ]
  },
  {
   "cell_type": "code",
   "execution_count": 105,
   "id": "771e3195",
   "metadata": {},
   "outputs": [],
   "source": [
    "# standarization: normality is assumed\n",
    "# normalization: when it is not assumed"
   ]
  },
  {
   "cell_type": "code",
   "execution_count": 106,
   "id": "3b3e222a",
   "metadata": {},
   "outputs": [],
   "source": [
    "# This one we would normalize"
   ]
  },
  {
   "attachments": {
    "image-2.png": {
     "image/png": "[encoded data removed]"
    }
   },
   "cell_type": "markdown",
   "id": "98f0df03",
   "metadata": {},
   "source": [
    "![image-2.png](attachment:image-2.png)"
   ]
  },
  {
   "cell_type": "code",
   "execution_count": 107,
   "id": "4e9d4ee8",
   "metadata": {},
   "outputs": [],
   "source": [
    "# this one we wouldnt have to"
   ]
  },
  {
   "attachments": {
    "image.png": {
     "image/png": "[encoded data removed]"
    }
   },
   "cell_type": "markdown",
   "id": "4dfeaedf",
   "metadata": {},
   "source": [
    "![image.png](attachment:image.png)"
   ]
  },
  {
   "cell_type": "code",
   "execution_count": 108,
   "id": "ideal-questionnaire",
   "metadata": {},
   "outputs": [],
   "source": [
    "from sklearn.preprocessing import MinMaxScaler"
   ]
  },
  {
   "cell_type": "code",
   "execution_count": 109,
   "id": "385cd108",
   "metadata": {},
   "outputs": [],
   "source": [
    "min_max = MinMaxScaler()"
   ]
  },
  {
   "cell_type": "code",
   "execution_count": 110,
   "id": "ba6a47d4",
   "metadata": {},
   "outputs": [
    {
     "data": {
      "text/plain": [
       "32.368090    119\n",
       "21.804054     36\n",
       "24.000000     30\n",
       "22.000000     27\n",
       "18.000000     26\n",
       "            ... \n",
       "14.500000      1\n",
       "70.500000      1\n",
       "12.000000      1\n",
       "36.500000      1\n",
       "74.000000      1\n",
       "Name: age, Length: 93, dtype: int64"
      ]
     },
     "execution_count": 110,
     "metadata": {},
     "output_type": "execute_result"
    }
   ],
   "source": [
    "data.age.value_counts()"
   ]
  },
  {
   "cell_type": "code",
   "execution_count": 111,
   "id": "d70e8364",
   "metadata": {},
   "outputs": [
    {
     "data": {
      "text/plain": [
       "<AxesSubplot:xlabel='age', ylabel='Count'>"
      ]
     },
     "execution_count": 111,
     "metadata": {},
     "output_type": "execute_result"
    },
    {
     "data": {
      "image/png": "[encoded data removed]",
      "text/plain": [
       "<Figure size 432x288 with 1 Axes>"
      ]
     },
     "metadata": {
      "needs_background": "light"
     },
     "output_type": "display_data"
    }
   ],
   "source": [
    "sns.histplot(x=data.age)"
   ]
  },
  {
   "cell_type": "code",
   "execution_count": 112,
   "id": "fbc40e18",
   "metadata": {},
   "outputs": [],
   "source": [
    "data[\"age\"] = min_max.fit_transform(data[\"age\"].values.reshape(-1, 1))"
   ]
  },
  {
   "cell_type": "code",
   "execution_count": 113,
   "id": "7e40e753",
   "metadata": {
    "scrolled": true
   },
   "outputs": [
    {
     "data": {
      "text/html": [
       "<div>\n",
       "<style scoped>\n",
       "    .dataframe tbody tr th:only-of-type {\n",
       "        vertical-align: middle;\n",
       "    }\n",
       "\n",
       "    .dataframe tbody tr th {\n",
       "        vertical-align: top;\n",
       "    }\n",
       "\n",
       "    .dataframe thead th {\n",
       "        text-align: right;\n",
       "    }\n",
       "</style>\n",
       "<table border=\"1\" class=\"dataframe\">\n",
       "  <thead>\n",
       "    <tr style=\"text-align: right;\">\n",
       "      <th></th>\n",
       "      <th>survived</th>\n",
       "      <th>pclass</th>\n",
       "      <th>sex</th>\n",
       "      <th>age</th>\n",
       "      <th>sibsp</th>\n",
       "      <th>parch</th>\n",
       "      <th>fare</th>\n",
       "      <th>deck</th>\n",
       "      <th>C</th>\n",
       "      <th>Q</th>\n",
       "      <th>S</th>\n",
       "      <th>title__Dr</th>\n",
       "      <th>title__Master</th>\n",
       "      <th>title__Misc</th>\n",
       "      <th>title__Miss</th>\n",
       "      <th>title__Mr</th>\n",
       "      <th>title__Mrs</th>\n",
       "      <th>title__Rev</th>\n",
       "    </tr>\n",
       "  </thead>\n",
       "  <tbody>\n",
       "    <tr>\n",
       "      <th>0</th>\n",
       "      <td>0</td>\n",
       "      <td>3</td>\n",
       "      <td>1</td>\n",
       "      <td>0.271174</td>\n",
       "      <td>1</td>\n",
       "      <td>0</td>\n",
       "      <td>-0.502445</td>\n",
       "      <td>2</td>\n",
       "      <td>0.0</td>\n",
       "      <td>0.0</td>\n",
       "      <td>1.0</td>\n",
       "      <td>0</td>\n",
       "      <td>0</td>\n",
       "      <td>0</td>\n",
       "      <td>0</td>\n",
       "      <td>1</td>\n",
       "      <td>0</td>\n",
       "      <td>0</td>\n",
       "    </tr>\n",
       "    <tr>\n",
       "      <th>1</th>\n",
       "      <td>1</td>\n",
       "      <td>1</td>\n",
       "      <td>0</td>\n",
       "      <td>0.472229</td>\n",
       "      <td>1</td>\n",
       "      <td>0</td>\n",
       "      <td>0.786845</td>\n",
       "      <td>7</td>\n",
       "      <td>1.0</td>\n",
       "      <td>0.0</td>\n",
       "      <td>0.0</td>\n",
       "      <td>0</td>\n",
       "      <td>0</td>\n",
       "      <td>0</td>\n",
       "      <td>0</td>\n",
       "      <td>0</td>\n",
       "      <td>1</td>\n",
       "      <td>0</td>\n",
       "    </tr>\n",
       "    <tr>\n",
       "      <th>2</th>\n",
       "      <td>1</td>\n",
       "      <td>3</td>\n",
       "      <td>0</td>\n",
       "      <td>0.321438</td>\n",
       "      <td>0</td>\n",
       "      <td>0</td>\n",
       "      <td>-0.488854</td>\n",
       "      <td>2</td>\n",
       "      <td>0.0</td>\n",
       "      <td>0.0</td>\n",
       "      <td>1.0</td>\n",
       "      <td>0</td>\n",
       "      <td>0</td>\n",
       "      <td>0</td>\n",
       "      <td>1</td>\n",
       "      <td>0</td>\n",
       "      <td>0</td>\n",
       "      <td>0</td>\n",
       "    </tr>\n",
       "    <tr>\n",
       "      <th>3</th>\n",
       "      <td>1</td>\n",
       "      <td>1</td>\n",
       "      <td>0</td>\n",
       "      <td>0.434531</td>\n",
       "      <td>1</td>\n",
       "      <td>0</td>\n",
       "      <td>0.420730</td>\n",
       "      <td>7</td>\n",
       "      <td>0.0</td>\n",
       "      <td>0.0</td>\n",
       "      <td>1.0</td>\n",
       "      <td>0</td>\n",
       "      <td>0</td>\n",
       "      <td>0</td>\n",
       "      <td>0</td>\n",
       "      <td>0</td>\n",
       "      <td>1</td>\n",
       "      <td>0</td>\n",
       "    </tr>\n",
       "    <tr>\n",
       "      <th>4</th>\n",
       "      <td>0</td>\n",
       "      <td>3</td>\n",
       "      <td>1</td>\n",
       "      <td>0.434531</td>\n",
       "      <td>0</td>\n",
       "      <td>0</td>\n",
       "      <td>-0.486337</td>\n",
       "      <td>2</td>\n",
       "      <td>0.0</td>\n",
       "      <td>0.0</td>\n",
       "      <td>1.0</td>\n",
       "      <td>0</td>\n",
       "      <td>0</td>\n",
       "      <td>0</td>\n",
       "      <td>0</td>\n",
       "      <td>1</td>\n",
       "      <td>0</td>\n",
       "      <td>0</td>\n",
       "    </tr>\n",
       "    <tr>\n",
       "      <th>...</th>\n",
       "      <td>...</td>\n",
       "      <td>...</td>\n",
       "      <td>...</td>\n",
       "      <td>...</td>\n",
       "      <td>...</td>\n",
       "      <td>...</td>\n",
       "      <td>...</td>\n",
       "      <td>...</td>\n",
       "      <td>...</td>\n",
       "      <td>...</td>\n",
       "      <td>...</td>\n",
       "      <td>...</td>\n",
       "      <td>...</td>\n",
       "      <td>...</td>\n",
       "      <td>...</td>\n",
       "      <td>...</td>\n",
       "      <td>...</td>\n",
       "      <td>...</td>\n",
       "    </tr>\n",
       "    <tr>\n",
       "      <th>886</th>\n",
       "      <td>0</td>\n",
       "      <td>2</td>\n",
       "      <td>1</td>\n",
       "      <td>0.334004</td>\n",
       "      <td>0</td>\n",
       "      <td>0</td>\n",
       "      <td>-0.386671</td>\n",
       "      <td>2</td>\n",
       "      <td>0.0</td>\n",
       "      <td>0.0</td>\n",
       "      <td>1.0</td>\n",
       "      <td>0</td>\n",
       "      <td>0</td>\n",
       "      <td>0</td>\n",
       "      <td>0</td>\n",
       "      <td>0</td>\n",
       "      <td>0</td>\n",
       "      <td>1</td>\n",
       "    </tr>\n",
       "    <tr>\n",
       "      <th>887</th>\n",
       "      <td>1</td>\n",
       "      <td>1</td>\n",
       "      <td>0</td>\n",
       "      <td>0.233476</td>\n",
       "      <td>0</td>\n",
       "      <td>0</td>\n",
       "      <td>-0.044381</td>\n",
       "      <td>8</td>\n",
       "      <td>0.0</td>\n",
       "      <td>0.0</td>\n",
       "      <td>1.0</td>\n",
       "      <td>0</td>\n",
       "      <td>0</td>\n",
       "      <td>0</td>\n",
       "      <td>1</td>\n",
       "      <td>0</td>\n",
       "      <td>0</td>\n",
       "      <td>0</td>\n",
       "    </tr>\n",
       "    <tr>\n",
       "      <th>888</th>\n",
       "      <td>0</td>\n",
       "      <td>3</td>\n",
       "      <td>0</td>\n",
       "      <td>0.268711</td>\n",
       "      <td>1</td>\n",
       "      <td>2</td>\n",
       "      <td>-0.176263</td>\n",
       "      <td>2</td>\n",
       "      <td>0.0</td>\n",
       "      <td>0.0</td>\n",
       "      <td>1.0</td>\n",
       "      <td>0</td>\n",
       "      <td>0</td>\n",
       "      <td>0</td>\n",
       "      <td>1</td>\n",
       "      <td>0</td>\n",
       "      <td>0</td>\n",
       "      <td>0</td>\n",
       "    </tr>\n",
       "    <tr>\n",
       "      <th>889</th>\n",
       "      <td>1</td>\n",
       "      <td>1</td>\n",
       "      <td>1</td>\n",
       "      <td>0.321438</td>\n",
       "      <td>0</td>\n",
       "      <td>0</td>\n",
       "      <td>-0.044381</td>\n",
       "      <td>7</td>\n",
       "      <td>1.0</td>\n",
       "      <td>0.0</td>\n",
       "      <td>0.0</td>\n",
       "      <td>0</td>\n",
       "      <td>0</td>\n",
       "      <td>0</td>\n",
       "      <td>0</td>\n",
       "      <td>1</td>\n",
       "      <td>0</td>\n",
       "      <td>0</td>\n",
       "    </tr>\n",
       "    <tr>\n",
       "      <th>890</th>\n",
       "      <td>0</td>\n",
       "      <td>3</td>\n",
       "      <td>1</td>\n",
       "      <td>0.396833</td>\n",
       "      <td>0</td>\n",
       "      <td>0</td>\n",
       "      <td>-0.492378</td>\n",
       "      <td>2</td>\n",
       "      <td>0.0</td>\n",
       "      <td>1.0</td>\n",
       "      <td>0.0</td>\n",
       "      <td>0</td>\n",
       "      <td>0</td>\n",
       "      <td>0</td>\n",
       "      <td>0</td>\n",
       "      <td>1</td>\n",
       "      <td>0</td>\n",
       "      <td>0</td>\n",
       "    </tr>\n",
       "  </tbody>\n",
       "</table>\n",
       "<p>891 rows × 18 columns</p>\n",
       "</div>"
      ],
      "text/plain": [
       "     survived  pclass  sex       age  sibsp  parch      fare  deck    C    Q  \\\n",
       "0           0       3    1  0.271174      1      0 -0.502445     2  0.0  0.0   \n",
       "1           1       1    0  0.472229      1      0  0.786845     7  1.0  0.0   \n",
       "2           1       3    0  0.321438      0      0 -0.488854     2  0.0  0.0   \n",
       "3           1       1    0  0.434531      1      0  0.420730     7  0.0  0.0   \n",
       "4           0       3    1  0.434531      0      0 -0.486337     2  0.0  0.0   \n",
       "..        ...     ...  ...       ...    ...    ...       ...   ...  ...  ...   \n",
       "886         0       2    1  0.334004      0      0 -0.386671     2  0.0  0.0   \n",
       "887         1       1    0  0.233476      0      0 -0.044381     8  0.0  0.0   \n",
       "888         0       3    0  0.268711      1      2 -0.176263     2  0.0  0.0   \n",
       "889         1       1    1  0.321438      0      0 -0.044381     7  1.0  0.0   \n",
       "890         0       3    1  0.396833      0      0 -0.492378     2  0.0  1.0   \n",
       "\n",
       "       S  title__Dr  title__Master  title__Misc  title__Miss  title__Mr  \\\n",
       "0    1.0          0              0            0            0          1   \n",
       "1    0.0          0              0            0            0          0   \n",
       "2    1.0          0              0            0            1          0   \n",
       "3    1.0          0              0            0            0          0   \n",
       "4    1.0          0              0            0            0          1   \n",
       "..   ...        ...            ...          ...          ...        ...   \n",
       "886  1.0          0              0            0            0          0   \n",
       "887  1.0          0              0            0            1          0   \n",
       "888  1.0          0              0            0            1          0   \n",
       "889  0.0          0              0            0            0          1   \n",
       "890  0.0          0              0            0            0          1   \n",
       "\n",
       "     title__Mrs  title__Rev  \n",
       "0             0           0  \n",
       "1             1           0  \n",
       "2             0           0  \n",
       "3             1           0  \n",
       "4             0           0  \n",
       "..          ...         ...  \n",
       "886           0           1  \n",
       "887           0           0  \n",
       "888           0           0  \n",
       "889           0           0  \n",
       "890           0           0  \n",
       "\n",
       "[891 rows x 18 columns]"
      ]
     },
     "execution_count": 113,
     "metadata": {},
     "output_type": "execute_result"
    }
   ],
   "source": [
    "data"
   ]
  },
  {
   "cell_type": "code",
   "execution_count": 114,
   "id": "4f788dad",
   "metadata": {},
   "outputs": [
    {
     "data": {
      "text/plain": [
       "<AxesSubplot:xlabel='age', ylabel='Count'>"
      ]
     },
     "execution_count": 114,
     "metadata": {},
     "output_type": "execute_result"
    },
    {
     "data": {
      "image/png": "[encoded data removed]",
      "text/plain": [
       "<Figure size 432x288 with 1 Axes>"
      ]
     },
     "metadata": {
      "needs_background": "light"
     },
     "output_type": "display_data"
    }
   ],
   "source": [
    "sns.histplot(x=data.age)"
   ]
  },
  {
   "cell_type": "markdown",
   "id": "f0760436",
   "metadata": {},
   "source": [
    "CATEGORICAL\n",
    "    Encoding: \n",
    "        - OneHotEncoder / get_dummies\n",
    "        - LabelEncoder \n",
    "        - Dictionaries \n",
    "        \n",
    "NUMERICAL\n",
    "    - Standarize: \n",
    "        mean = 0, std = 1\n",
    "    - Normalize: \n",
    "        range 0-1"
   ]
  },
  {
   "cell_type": "markdown",
   "id": "2b771a96",
   "metadata": {
    "lang": "en"
   },
   "source": [
    "### I quote Andriy Burkov:\n",
    "You may be wondering when normalization should be used and when standardization. There is no definitive answer to this question. Usually, if your dataset isn't too big and you have time, you can try both and see which one suits your task better.\n",
    "If you don't have time to run multiple experiments, as a general rule:\n",
    "\n",
    "- Unsupervised learning algorithms, in practice, benefit more from standardization than normalization.\n",
    "- Standardization is also preferable for a characteristic if the values ​​it takes are distributed close to a normal distribution (the so-called bell curve).\n",
    "- Again, normalization is preferable for a feature if it can sometimes have extremely high or low values ​​(outliers); this is because the normalization will \"squeeze\" the normal values ​​into a very small range.\n",
    "- In all other cases, normalization is preferable.\n",
    "\n",
    "Feature rescaling is usually beneficial for most learning algorithms. However, modern implementations of learning algorithms, which can be found in popular libraries, are robust to features found in different ranges."
   ]
  },
  {
   "cell_type": "markdown",
   "id": "bec57b14",
   "metadata": {},
   "source": [
    "QUANTITAITVE\n",
    "    - Standardize\n",
    "    - Normalize\n"
   ]
  },
  {
   "cell_type": "markdown",
   "id": "784f876b",
   "metadata": {
    "lang": "en"
   },
   "source": [
    "## Let's review: Train-Test Split"
   ]
  },
  {
   "cell_type": "code",
   "execution_count": 115,
   "id": "430c8c4b",
   "metadata": {},
   "outputs": [
    {
     "data": {
      "text/html": [
       "<div>\n",
       "<style scoped>\n",
       "    .dataframe tbody tr th:only-of-type {\n",
       "        vertical-align: middle;\n",
       "    }\n",
       "\n",
       "    .dataframe tbody tr th {\n",
       "        vertical-align: top;\n",
       "    }\n",
       "\n",
       "    .dataframe thead th {\n",
       "        text-align: right;\n",
       "    }\n",
       "</style>\n",
       "<table border=\"1\" class=\"dataframe\">\n",
       "  <thead>\n",
       "    <tr style=\"text-align: right;\">\n",
       "      <th></th>\n",
       "      <th>survived</th>\n",
       "      <th>pclass</th>\n",
       "      <th>sex</th>\n",
       "      <th>age</th>\n",
       "      <th>sibsp</th>\n",
       "      <th>parch</th>\n",
       "      <th>fare</th>\n",
       "      <th>deck</th>\n",
       "      <th>C</th>\n",
       "      <th>Q</th>\n",
       "      <th>S</th>\n",
       "      <th>title__Dr</th>\n",
       "      <th>title__Master</th>\n",
       "      <th>title__Misc</th>\n",
       "      <th>title__Miss</th>\n",
       "      <th>title__Mr</th>\n",
       "      <th>title__Mrs</th>\n",
       "      <th>title__Rev</th>\n",
       "    </tr>\n",
       "  </thead>\n",
       "  <tbody>\n",
       "    <tr>\n",
       "      <th>0</th>\n",
       "      <td>0</td>\n",
       "      <td>3</td>\n",
       "      <td>1</td>\n",
       "      <td>0.271174</td>\n",
       "      <td>1</td>\n",
       "      <td>0</td>\n",
       "      <td>-0.502445</td>\n",
       "      <td>2</td>\n",
       "      <td>0.0</td>\n",
       "      <td>0.0</td>\n",
       "      <td>1.0</td>\n",
       "      <td>0</td>\n",
       "      <td>0</td>\n",
       "      <td>0</td>\n",
       "      <td>0</td>\n",
       "      <td>1</td>\n",
       "      <td>0</td>\n",
       "      <td>0</td>\n",
       "    </tr>\n",
       "    <tr>\n",
       "      <th>1</th>\n",
       "      <td>1</td>\n",
       "      <td>1</td>\n",
       "      <td>0</td>\n",
       "      <td>0.472229</td>\n",
       "      <td>1</td>\n",
       "      <td>0</td>\n",
       "      <td>0.786845</td>\n",
       "      <td>7</td>\n",
       "      <td>1.0</td>\n",
       "      <td>0.0</td>\n",
       "      <td>0.0</td>\n",
       "      <td>0</td>\n",
       "      <td>0</td>\n",
       "      <td>0</td>\n",
       "      <td>0</td>\n",
       "      <td>0</td>\n",
       "      <td>1</td>\n",
       "      <td>0</td>\n",
       "    </tr>\n",
       "    <tr>\n",
       "      <th>2</th>\n",
       "      <td>1</td>\n",
       "      <td>3</td>\n",
       "      <td>0</td>\n",
       "      <td>0.321438</td>\n",
       "      <td>0</td>\n",
       "      <td>0</td>\n",
       "      <td>-0.488854</td>\n",
       "      <td>2</td>\n",
       "      <td>0.0</td>\n",
       "      <td>0.0</td>\n",
       "      <td>1.0</td>\n",
       "      <td>0</td>\n",
       "      <td>0</td>\n",
       "      <td>0</td>\n",
       "      <td>1</td>\n",
       "      <td>0</td>\n",
       "      <td>0</td>\n",
       "      <td>0</td>\n",
       "    </tr>\n",
       "    <tr>\n",
       "      <th>3</th>\n",
       "      <td>1</td>\n",
       "      <td>1</td>\n",
       "      <td>0</td>\n",
       "      <td>0.434531</td>\n",
       "      <td>1</td>\n",
       "      <td>0</td>\n",
       "      <td>0.420730</td>\n",
       "      <td>7</td>\n",
       "      <td>0.0</td>\n",
       "      <td>0.0</td>\n",
       "      <td>1.0</td>\n",
       "      <td>0</td>\n",
       "      <td>0</td>\n",
       "      <td>0</td>\n",
       "      <td>0</td>\n",
       "      <td>0</td>\n",
       "      <td>1</td>\n",
       "      <td>0</td>\n",
       "    </tr>\n",
       "    <tr>\n",
       "      <th>4</th>\n",
       "      <td>0</td>\n",
       "      <td>3</td>\n",
       "      <td>1</td>\n",
       "      <td>0.434531</td>\n",
       "      <td>0</td>\n",
       "      <td>0</td>\n",
       "      <td>-0.486337</td>\n",
       "      <td>2</td>\n",
       "      <td>0.0</td>\n",
       "      <td>0.0</td>\n",
       "      <td>1.0</td>\n",
       "      <td>0</td>\n",
       "      <td>0</td>\n",
       "      <td>0</td>\n",
       "      <td>0</td>\n",
       "      <td>1</td>\n",
       "      <td>0</td>\n",
       "      <td>0</td>\n",
       "    </tr>\n",
       "    <tr>\n",
       "      <th>...</th>\n",
       "      <td>...</td>\n",
       "      <td>...</td>\n",
       "      <td>...</td>\n",
       "      <td>...</td>\n",
       "      <td>...</td>\n",
       "      <td>...</td>\n",
       "      <td>...</td>\n",
       "      <td>...</td>\n",
       "      <td>...</td>\n",
       "      <td>...</td>\n",
       "      <td>...</td>\n",
       "      <td>...</td>\n",
       "      <td>...</td>\n",
       "      <td>...</td>\n",
       "      <td>...</td>\n",
       "      <td>...</td>\n",
       "      <td>...</td>\n",
       "      <td>...</td>\n",
       "    </tr>\n",
       "    <tr>\n",
       "      <th>886</th>\n",
       "      <td>0</td>\n",
       "      <td>2</td>\n",
       "      <td>1</td>\n",
       "      <td>0.334004</td>\n",
       "      <td>0</td>\n",
       "      <td>0</td>\n",
       "      <td>-0.386671</td>\n",
       "      <td>2</td>\n",
       "      <td>0.0</td>\n",
       "      <td>0.0</td>\n",
       "      <td>1.0</td>\n",
       "      <td>0</td>\n",
       "      <td>0</td>\n",
       "      <td>0</td>\n",
       "      <td>0</td>\n",
       "      <td>0</td>\n",
       "      <td>0</td>\n",
       "      <td>1</td>\n",
       "    </tr>\n",
       "    <tr>\n",
       "      <th>887</th>\n",
       "      <td>1</td>\n",
       "      <td>1</td>\n",
       "      <td>0</td>\n",
       "      <td>0.233476</td>\n",
       "      <td>0</td>\n",
       "      <td>0</td>\n",
       "      <td>-0.044381</td>\n",
       "      <td>8</td>\n",
       "      <td>0.0</td>\n",
       "      <td>0.0</td>\n",
       "      <td>1.0</td>\n",
       "      <td>0</td>\n",
       "      <td>0</td>\n",
       "      <td>0</td>\n",
       "      <td>1</td>\n",
       "      <td>0</td>\n",
       "      <td>0</td>\n",
       "      <td>0</td>\n",
       "    </tr>\n",
       "    <tr>\n",
       "      <th>888</th>\n",
       "      <td>0</td>\n",
       "      <td>3</td>\n",
       "      <td>0</td>\n",
       "      <td>0.268711</td>\n",
       "      <td>1</td>\n",
       "      <td>2</td>\n",
       "      <td>-0.176263</td>\n",
       "      <td>2</td>\n",
       "      <td>0.0</td>\n",
       "      <td>0.0</td>\n",
       "      <td>1.0</td>\n",
       "      <td>0</td>\n",
       "      <td>0</td>\n",
       "      <td>0</td>\n",
       "      <td>1</td>\n",
       "      <td>0</td>\n",
       "      <td>0</td>\n",
       "      <td>0</td>\n",
       "    </tr>\n",
       "    <tr>\n",
       "      <th>889</th>\n",
       "      <td>1</td>\n",
       "      <td>1</td>\n",
       "      <td>1</td>\n",
       "      <td>0.321438</td>\n",
       "      <td>0</td>\n",
       "      <td>0</td>\n",
       "      <td>-0.044381</td>\n",
       "      <td>7</td>\n",
       "      <td>1.0</td>\n",
       "      <td>0.0</td>\n",
       "      <td>0.0</td>\n",
       "      <td>0</td>\n",
       "      <td>0</td>\n",
       "      <td>0</td>\n",
       "      <td>0</td>\n",
       "      <td>1</td>\n",
       "      <td>0</td>\n",
       "      <td>0</td>\n",
       "    </tr>\n",
       "    <tr>\n",
       "      <th>890</th>\n",
       "      <td>0</td>\n",
       "      <td>3</td>\n",
       "      <td>1</td>\n",
       "      <td>0.396833</td>\n",
       "      <td>0</td>\n",
       "      <td>0</td>\n",
       "      <td>-0.492378</td>\n",
       "      <td>2</td>\n",
       "      <td>0.0</td>\n",
       "      <td>1.0</td>\n",
       "      <td>0.0</td>\n",
       "      <td>0</td>\n",
       "      <td>0</td>\n",
       "      <td>0</td>\n",
       "      <td>0</td>\n",
       "      <td>1</td>\n",
       "      <td>0</td>\n",
       "      <td>0</td>\n",
       "    </tr>\n",
       "  </tbody>\n",
       "</table>\n",
       "<p>891 rows × 18 columns</p>\n",
       "</div>"
      ],
      "text/plain": [
       "     survived  pclass  sex       age  sibsp  parch      fare  deck    C    Q  \\\n",
       "0           0       3    1  0.271174      1      0 -0.502445     2  0.0  0.0   \n",
       "1           1       1    0  0.472229      1      0  0.786845     7  1.0  0.0   \n",
       "2           1       3    0  0.321438      0      0 -0.488854     2  0.0  0.0   \n",
       "3           1       1    0  0.434531      1      0  0.420730     7  0.0  0.0   \n",
       "4           0       3    1  0.434531      0      0 -0.486337     2  0.0  0.0   \n",
       "..        ...     ...  ...       ...    ...    ...       ...   ...  ...  ...   \n",
       "886         0       2    1  0.334004      0      0 -0.386671     2  0.0  0.0   \n",
       "887         1       1    0  0.233476      0      0 -0.044381     8  0.0  0.0   \n",
       "888         0       3    0  0.268711      1      2 -0.176263     2  0.0  0.0   \n",
       "889         1       1    1  0.321438      0      0 -0.044381     7  1.0  0.0   \n",
       "890         0       3    1  0.396833      0      0 -0.492378     2  0.0  1.0   \n",
       "\n",
       "       S  title__Dr  title__Master  title__Misc  title__Miss  title__Mr  \\\n",
       "0    1.0          0              0            0            0          1   \n",
       "1    0.0          0              0            0            0          0   \n",
       "2    1.0          0              0            0            1          0   \n",
       "3    1.0          0              0            0            0          0   \n",
       "4    1.0          0              0            0            0          1   \n",
       "..   ...        ...            ...          ...          ...        ...   \n",
       "886  1.0          0              0            0            0          0   \n",
       "887  1.0          0              0            0            1          0   \n",
       "888  1.0          0              0            0            1          0   \n",
       "889  0.0          0              0            0            0          1   \n",
       "890  0.0          0              0            0            0          1   \n",
       "\n",
       "     title__Mrs  title__Rev  \n",
       "0             0           0  \n",
       "1             1           0  \n",
       "2             0           0  \n",
       "3             1           0  \n",
       "4             0           0  \n",
       "..          ...         ...  \n",
       "886           0           1  \n",
       "887           0           0  \n",
       "888           0           0  \n",
       "889           0           0  \n",
       "890           0           0  \n",
       "\n",
       "[891 rows x 18 columns]"
      ]
     },
     "execution_count": 115,
     "metadata": {},
     "output_type": "execute_result"
    }
   ],
   "source": [
    "data"
   ]
  },
  {
   "cell_type": "code",
   "execution_count": 116,
   "id": "2565bf41",
   "metadata": {
    "lang": "en"
   },
   "outputs": [],
   "source": [
    "# Let's prepare the data (X, y) before training the model and tuning the hyperparameters"
   ]
  },
  {
   "cell_type": "code",
   "execution_count": 117,
   "id": "recovered-affect",
   "metadata": {},
   "outputs": [],
   "source": [
    "from sklearn.model_selection import train_test_split"
   ]
  },
  {
   "cell_type": "code",
   "execution_count": 118,
   "id": "24036fda",
   "metadata": {},
   "outputs": [],
   "source": [
    "X = data.drop(\"survived\", axis=1)"
   ]
  },
  {
   "cell_type": "code",
   "execution_count": 119,
   "id": "4089900a",
   "metadata": {},
   "outputs": [],
   "source": [
    "#X = data[[col1, col2, col3]]"
   ]
  },
  {
   "cell_type": "code",
   "execution_count": 120,
   "id": "f9440dec",
   "metadata": {},
   "outputs": [],
   "source": [
    "y = data.survived"
   ]
  },
  {
   "cell_type": "code",
   "execution_count": 121,
   "id": "509faa40",
   "metadata": {},
   "outputs": [],
   "source": [
    "X_train, X_test, y_train, y_test = train_test_split(X, y, test_size = 0.2)"
   ]
  },
  {
   "cell_type": "code",
   "execution_count": 122,
   "id": "738da126",
   "metadata": {},
   "outputs": [
    {
     "data": {
      "text/plain": [
       "True"
      ]
     },
     "execution_count": 122,
     "metadata": {},
     "output_type": "execute_result"
    }
   ],
   "source": [
    "X_train.shape[0] == y_train.shape[0]"
   ]
  },
  {
   "cell_type": "code",
   "execution_count": 123,
   "id": "9369a99f",
   "metadata": {},
   "outputs": [
    {
     "data": {
      "text/plain": [
       "True"
      ]
     },
     "execution_count": 123,
     "metadata": {},
     "output_type": "execute_result"
    }
   ],
   "source": [
    "X_test.shape[0] == y_test.shape[0]"
   ]
  },
  {
   "cell_type": "code",
   "execution_count": 125,
   "id": "adc15b2e",
   "metadata": {},
   "outputs": [],
   "source": [
    "#Survival: 1, 0"
   ]
  },
  {
   "cell_type": "code",
   "execution_count": 126,
   "id": "27442208",
   "metadata": {},
   "outputs": [],
   "source": [
    "#Categorical model: classification model"
   ]
  },
  {
   "cell_type": "markdown",
   "id": "e795ee82",
   "metadata": {
    "lang": "en"
   },
   "source": [
    "## Hyperparameter Tuning"
   ]
  },
  {
   "cell_type": "markdown",
   "id": "e45cb7fd",
   "metadata": {
    "lang": "en"
   },
   "source": [
    "What is hyperparameter tuning?\n",
    "Hyperparameters are tunable parameters that allow you to control the process of training a model. For example, with neural networks, you can decide the number of hidden layers and the number of nodes in each layer. The performance of a model depends heavily on hyperparameters.\n",
    "Hyperparameter tuning, also called hyperparameter optimization, is the process of finding the hyperparameter configuration that produces the best performance. Typically, the process is manual and computationally expensive.\n",
    "\n",
    "There are different techniques to choose this hyperparameter tuning:\n",
    "    \n",
    "### - Random sampling\n",
    "Random sampling supports discrete and continuous hyperparameters. Supports early termination of underperforming strings. Some users perform an initial search with random sampling and then narrow the search space to improve results.\n",
    "In random sampling, hyperparameter values ​​are randomly selected from the defined search space.\n",
    "\n",
    "### - Grid Sampling\n",
    "Grid sampling supports discrete hyperparameters. Use grid sampling if your budget allows you to search the search space exhaustively. Supports early termination of underperforming strings.\n",
    "\n",
    "### - Bayesian sampling\n",
    "Bayesian sampling is based on the Bayesian optimization algorithm. Pick the samples based on how the previous ones did, so that the new samples improve the main metric.\n",
    " For best results, it is recommended that the maximum number of runs be greater than or equal to 20 times the number of hyperparameters being optimized.\n",
    "The number of simultaneous series affects the efficiency of the adjustment process. Fewer concurrent runs can lead to better sampling convergence, since the lower degree of parallelism increases the number of runs that benefit from previously completed runs.\n",
    "\n",
    "We are going to look at grid hyperparameter tuning with GridSearchCV but I leave you to investigate Bayesian sampling with [HyperOpt](https://towardsdatascience.com/hyperopt-hyperparameter-tuning-based-on-bayesian-optimization-7fa32dffaf29)"
   ]
  },
  {
   "cell_type": "markdown",
   "id": "198ec044",
   "metadata": {
    "lang": "en"
   },
   "source": [
    "### GridSearchCV by sklearn, say hello to your new friend!\n",
    "And read the [documentation](https://scikit-learn.org/stable/modules/generated/sklearn.model_selection.GridSearchCV.html)"
   ]
  },
  {
   "cell_type": "markdown",
   "id": "756d0650",
   "metadata": {},
   "source": [
    "![](https://najeesmith.github.io/images/Classifiers/RF/header.png)"
   ]
  },
  {
   "cell_type": "code",
   "execution_count": 127,
   "id": "b56d01a5",
   "metadata": {},
   "outputs": [],
   "source": [
    "from sklearn.model_selection import GridSearchCV\n",
    "from sklearn.ensemble import RandomForestClassifier"
   ]
  },
  {
   "cell_type": "code",
   "execution_count": 128,
   "id": "86cff4a6",
   "metadata": {},
   "outputs": [],
   "source": [
    "# PRE-PROCESS\n",
    "# SPLIT\n",
    "    # cross-validation\n",
    "    # size of the split\n",
    "# TYPE OF MODEL\n",
    "# DIFFERENT PARAMETERS: n_leaves, n_trees, n_estimators\n",
    "# train, evaluation"
   ]
  },
  {
   "cell_type": "code",
   "execution_count": 129,
   "id": "a9241fd9",
   "metadata": {},
   "outputs": [],
   "source": [
    "parameters = {\"bootstrap\": True,\n",
    "              \"max_depth\": 20,\n",
    "              \"max_features\": \"auto\",\n",
    "              \"min_samples_leaf\": 2\n",
    "             }"
   ]
  },
  {
   "cell_type": "code",
   "execution_count": 130,
   "id": "4b0a11d3",
   "metadata": {},
   "outputs": [],
   "source": [
    "rfc = RandomForestClassifier(bootstrap =  True,\n",
    "              max_depth = 30,\n",
    "              max_features = \"auto\",\n",
    "              min_samples_leaf =  8)"
   ]
  },
  {
   "cell_type": "code",
   "execution_count": 131,
   "id": "048bfdc1",
   "metadata": {},
   "outputs": [],
   "source": [
    "rfc = RandomForestClassifier()"
   ]
  },
  {
   "cell_type": "code",
   "execution_count": 143,
   "id": "2a2dd2a8",
   "metadata": {},
   "outputs": [
    {
     "data": {
      "text/html": [
       "<style>#sk-container-id-2 {color: black;background-color: white;}#sk-container-id-2 pre{padding: 0;}#sk-container-id-2 div.sk-toggleable {background-color: white;}#sk-container-id-2 label.sk-toggleable__label {cursor: pointer;display: block;width: 100%;margin-bottom: 0;padding: 0.3em;box-sizing: border-box;text-align: center;}#sk-container-id-2 label.sk-toggleable__label-arrow:before {content: \"▸\";float: left;margin-right: 0.25em;color: #696969;}#sk-container-id-2 label.sk-toggleable__label-arrow:hover:before {color: black;}#sk-container-id-2 div.sk-estimator:hover label.sk-toggleable__label-arrow:before {color: black;}#sk-container-id-2 div.sk-toggleable__content {max-height: 0;max-width: 0;overflow: hidden;text-align: left;background-color: #f0f8ff;}#sk-container-id-2 div.sk-toggleable__content pre {margin: 0.2em;color: black;border-radius: 0.25em;background-color: #f0f8ff;}#sk-container-id-2 input.sk-toggleable__control:checked~div.sk-toggleable__content {max-height: 200px;max-width: 100%;overflow: auto;}#sk-container-id-2 input.sk-toggleable__control:checked~label.sk-toggleable__label-arrow:before {content: \"▾\";}#sk-container-id-2 div.sk-estimator input.sk-toggleable__control:checked~label.sk-toggleable__label {background-color: #d4ebff;}#sk-container-id-2 div.sk-label input.sk-toggleable__control:checked~label.sk-toggleable__label {background-color: #d4ebff;}#sk-container-id-2 input.sk-hidden--visually {border: 0;clip: rect(1px 1px 1px 1px);clip: rect(1px, 1px, 1px, 1px);height: 1px;margin: -1px;overflow: hidden;padding: 0;position: absolute;width: 1px;}#sk-container-id-2 div.sk-estimator {font-family: monospace;background-color: #f0f8ff;border: 1px dotted black;border-radius: 0.25em;box-sizing: border-box;margin-bottom: 0.5em;}#sk-container-id-2 div.sk-estimator:hover {background-color: #d4ebff;}#sk-container-id-2 div.sk-parallel-item::after {content: \"\";width: 100%;border-bottom: 1px solid gray;flex-grow: 1;}#sk-container-id-2 div.sk-label:hover label.sk-toggleable__label {background-color: #d4ebff;}#sk-container-id-2 div.sk-serial::before {content: \"\";position: absolute;border-left: 1px solid gray;box-sizing: border-box;top: 0;bottom: 0;left: 50%;z-index: 0;}#sk-container-id-2 div.sk-serial {display: flex;flex-direction: column;align-items: center;background-color: white;padding-right: 0.2em;padding-left: 0.2em;position: relative;}#sk-container-id-2 div.sk-item {position: relative;z-index: 1;}#sk-container-id-2 div.sk-parallel {display: flex;align-items: stretch;justify-content: center;background-color: white;position: relative;}#sk-container-id-2 div.sk-item::before, #sk-container-id-2 div.sk-parallel-item::before {content: \"\";position: absolute;border-left: 1px solid gray;box-sizing: border-box;top: 0;bottom: 0;left: 50%;z-index: -1;}#sk-container-id-2 div.sk-parallel-item {display: flex;flex-direction: column;z-index: 1;position: relative;background-color: white;}#sk-container-id-2 div.sk-parallel-item:first-child::after {align-self: flex-end;width: 50%;}#sk-container-id-2 div.sk-parallel-item:last-child::after {align-self: flex-start;width: 50%;}#sk-container-id-2 div.sk-parallel-item:only-child::after {width: 0;}#sk-container-id-2 div.sk-dashed-wrapped {border: 1px dashed gray;margin: 0 0.4em 0.5em 0.4em;box-sizing: border-box;padding-bottom: 0.4em;background-color: white;}#sk-container-id-2 div.sk-label label {font-family: monospace;font-weight: bold;display: inline-block;line-height: 1.2em;}#sk-container-id-2 div.sk-label-container {text-align: center;}#sk-container-id-2 div.sk-container {/* jupyter's `normalize.less` sets `[hidden] { display: none; }` but bootstrap.min.css set `[hidden] { display: none !important; }` so we also need the `!important` here to be able to override the default hidden behavior on the sphinx rendered scikit-learn.org. See: https://github.com/scikit-learn/scikit-learn/issues/21755 */display: inline-block !important;position: relative;}#sk-container-id-2 div.sk-text-repr-fallback {display: none;}</style><div id=\"sk-container-id-2\" class=\"sk-top-container\"><div class=\"sk-text-repr-fallback\"><pre>RandomForestClassifier()</pre><b>In a Jupyter environment, please rerun this cell to show the HTML representation or trust the notebook. <br />On GitHub, the HTML representation is unable to render, please try loading this page with nbviewer.org.</b></div><div class=\"sk-container\" hidden><div class=\"sk-item\"><div class=\"sk-estimator sk-toggleable\"><input class=\"sk-toggleable__control sk-hidden--visually\" id=\"sk-estimator-id-2\" type=\"checkbox\" checked><label for=\"sk-estimator-id-2\" class=\"sk-toggleable__label sk-toggleable__label-arrow\">RandomForestClassifier</label><div class=\"sk-toggleable__content\"><pre>RandomForestClassifier()</pre></div></div></div></div></div>"
      ],
      "text/plain": [
       "RandomForestClassifier()"
      ]
     },
     "execution_count": 143,
     "metadata": {},
     "output_type": "execute_result"
    }
   ],
   "source": [
    "rfc.fit(X_train, y_train)"
   ]
  },
  {
   "cell_type": "code",
   "execution_count": 144,
   "id": "8a743429",
   "metadata": {},
   "outputs": [],
   "source": [
    "y_pred = rfc.predict(X_test)"
   ]
  },
  {
   "cell_type": "code",
   "execution_count": 145,
   "id": "d55c0bec",
   "metadata": {},
   "outputs": [],
   "source": [
    "# Metrics: 1, 0 survival\n",
    "    # Errors: accuracy_score, precision_score, f1_score, recall_score"
   ]
  },
  {
   "cell_type": "markdown",
   "id": "7df4a15f",
   "metadata": {
    "lang": "en"
   },
   "source": [
    "### We would train the model with the best parameters"
   ]
  },
  {
   "cell_type": "markdown",
   "id": "40cef7c2",
   "metadata": {
    "lang": "en"
   },
   "source": [
    "If GridSearchCV() is set to refit=True, after identifying the best hyperparameters, the model is retrained with them and stored in .best_estimator_."
   ]
  },
  {
   "cell_type": "code",
   "execution_count": 146,
   "id": "meaningful-mouse",
   "metadata": {},
   "outputs": [],
   "source": [
    "from sklearn.metrics import accuracy_score, precision_score, f1_score, recall_score"
   ]
  },
  {
   "cell_type": "code",
   "execution_count": 147,
   "id": "34470cdf",
   "metadata": {},
   "outputs": [
    {
     "data": {
      "text/plain": [
       "0.7716535433070867"
      ]
     },
     "execution_count": 147,
     "metadata": {},
     "output_type": "execute_result"
    }
   ],
   "source": [
    "accuracy_score (y_pred, y_test)\n",
    "precision_score (y_pred, y_test)\n",
    "recall_score (y_pred, y_test)\n",
    "f1_score (y_pred, y_test)"
   ]
  },
  {
   "cell_type": "code",
   "execution_count": 148,
   "id": "212ce98b",
   "metadata": {},
   "outputs": [],
   "source": [
    "parameters = {'bootstrap': [True, False],\n",
    "     'max_depth': [10, 20, 30, 40, 50, 60, 70, 80, 90, 100, None],\n",
    "     'max_features': ['auto', 'sqrt'],\n",
    "     'min_samples_leaf': [1, 2, 4],\n",
    "     'min_samples_split': [2, 5, 10],\n",
    "     'n_estimators': [200, 400, 600, 800, 1000, 1200, 1400, 1600, 1800, 2000]}"
   ]
  },
  {
   "cell_type": "code",
   "execution_count": 154,
   "id": "8ff2c460",
   "metadata": {},
   "outputs": [],
   "source": [
    "parameters_2 = {'bootstrap': [True, False],\n",
    "     'max_depth': [10, 20],\n",
    "     'max_features': ['auto', 'sqrt'],\n",
    "     'min_samples_leaf': [1, 2, 4],\n",
    "     'min_samples_split': [2, 5, 10],\n",
    "     'n_estimators': [2, 4]}"
   ]
  },
  {
   "cell_type": "code",
   "execution_count": 155,
   "id": "608d02af",
   "metadata": {},
   "outputs": [],
   "source": [
    "rfc = RandomForestClassifier()"
   ]
  },
  {
   "cell_type": "code",
   "execution_count": 156,
   "id": "1238aa78",
   "metadata": {},
   "outputs": [],
   "source": [
    "gs = GridSearchCV(rfc, parameters_2)"
   ]
  },
  {
   "cell_type": "code",
   "execution_count": null,
   "id": "1d87bca8",
   "metadata": {},
   "outputs": [],
   "source": [
    "gs.fit(X_train, y_train)\n",
    "!os.system(\"say -v monica don\")"
   ]
  },
  {
   "cell_type": "code",
   "execution_count": null,
   "id": "ecb6e9e5",
   "metadata": {},
   "outputs": [],
   "source": [
    "y_pred = gs.predict(X_test)"
   ]
  },
  {
   "cell_type": "code",
   "execution_count": null,
   "id": "a1963289",
   "metadata": {},
   "outputs": [],
   "source": [
    "f1_score (y_pred, y_test)"
   ]
  },
  {
   "cell_type": "markdown",
   "id": "b3df9df5",
   "metadata": {},
   "source": [
    "https://www.analyticsvidhya.com/blog/2015/06/tuning-random-forest-model/"
   ]
  },
  {
   "cell_type": "markdown",
   "id": "a8977427",
   "metadata": {
    "lang": "en"
   },
   "source": [
    "## Save / Export the model\n",
    "https://machinelearningmastery.com/save-load-machine-learning-models-python-scikit-learn/"
   ]
  },
  {
   "cell_type": "code",
   "execution_count": null,
   "id": "dietary-genealogy",
   "metadata": {},
   "outputs": [],
   "source": [
    "import pickle"
   ]
  },
  {
   "cell_type": "code",
   "execution_count": null,
   "id": "a3f49f8f",
   "metadata": {},
   "outputs": [],
   "source": [
    "pickle.dump(gs, open(\"my_best_model\"), \"wb\")"
   ]
  },
  {
   "cell_type": "code",
   "execution_count": null,
   "id": "0bbd4019",
   "metadata": {},
   "outputs": [],
   "source": [
    "loaded_model = pickle.load(open (\"my_best_model\"), \"rb\")"
   ]
  },
  {
   "cell_type": "code",
   "execution_count": null,
   "id": "23dc1346",
   "metadata": {},
   "outputs": [],
   "source": [
    "loaded_model.predict(X)"
   ]
  }
 ],
 "metadata": {
  "kernelspec": {
   "display_name": "ironhack",
   "language": "python",
   "name": "ironhack"
  },
  "language_info": {
   "codemirror_mode": {
    "name": "ipython",
    "version": 3
   },
   "file_extension": ".py",
   "mimetype": "text/x-python",
   "name": "python",
   "nbconvert_exporter": "python",
   "pygments_lexer": "ipython3",
   "version": "3.8.13"
  },
  "nbTranslate": {
   "displayLangs": [
    "en",
    "es"
   ],
   "hotkey": "alt-a",
   "langInMainMenu": true,
   "sourceLang": "es",
   "targetLang": "en",
   "useGoogleTranslate": true
  },
  "toc": {
   "base_numbering": 1,
   "nav_menu": {},
   "number_sections": true,
   "sideBar": true,
   "skip_h1_title": true,
   "title_cell": "Table of Contents",
   "title_sidebar": "Contents",
   "toc_cell": true,
   "toc_position": {
    "height": "calc(100% - 180px)",
    "left": "10px",
    "top": "150px",
    "width": "165px"
   },
   "toc_section_display": true,
   "toc_window_display": true
  }
 },
 "nbformat": 4,
 "nbformat_minor": 5
}
