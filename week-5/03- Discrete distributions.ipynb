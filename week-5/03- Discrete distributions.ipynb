{
 "cells": [
  {
   "cell_type": "markdown",
   "metadata": {
    "lang": "en"
   },
   "source": [
    "# Discrete probability distributions"
   ]
  },
  {
   "cell_type": "markdown",
   "metadata": {
    "toc": true
   },
   "source": [
    "<h1>Table of Contents<span class=\"tocSkip\"></span></h1>\n",
    "<div class=\"toc\"><ul class=\"toc-item\"><li><span><a href=\"#Basic-concepts\" data-toc-modified-id=\"Basic-concepts-1\"><span class=\"toc-item-num\">1&nbsp;&nbsp;</span>Basic concepts</a></span><ul class=\"toc-item\"><li><span><a href=\"#Random-experiment:\" data-toc-modified-id=\"Random-experiment:-1.1\"><span class=\"toc-item-num\">1.1&nbsp;&nbsp;</span>Random experiment:</a></span></li><li><span><a href=\"#Sample-space\" data-toc-modified-id=\"Sample-space-1.2\"><span class=\"toc-item-num\">1.2&nbsp;&nbsp;</span>Sample space</a></span></li><li><span><a href=\"#Random-variable\" data-toc-modified-id=\"Random-variable-1.3\"><span class=\"toc-item-num\">1.3&nbsp;&nbsp;</span>Random variable</a></span></li><li><span><a href=\"#Brief-summary-as-a-whole\" data-toc-modified-id=\"Brief-summary-as-a-whole-1.4\"><span class=\"toc-item-num\">1.4&nbsp;&nbsp;</span>Brief summary as a whole</a></span></li></ul></li><li><span><a href=\"#Examples\" data-toc-modified-id=\"Examples-2\"><span class=\"toc-item-num\">2&nbsp;&nbsp;</span>Examples</a></span><ul class=\"toc-item\"><li><span><a href=\"#Flip-the-coin\" data-toc-modified-id=\"Flip-the-coin-2.1\"><span class=\"toc-item-num\">2.1&nbsp;&nbsp;</span>Flip the coin</a></span></li><li><span><a href=\"#Biased-Coin-70-/-30\" data-toc-modified-id=\"Biased-Coin-70-/-30-2.2\"><span class=\"toc-item-num\">2.2&nbsp;&nbsp;</span>Biased Coin 70 / 30</a></span><ul class=\"toc-item\"><li><span><a href=\"#Roll-a-die\" data-toc-modified-id=\"Roll-a-die-2.2.1\"><span class=\"toc-item-num\">2.2.1&nbsp;&nbsp;</span>Roll a die</a></span></li><li><span><a href=\"#The-first-letter-of-our-name\" data-toc-modified-id=\"The-first-letter-of-our-name-2.2.2\"><span class=\"toc-item-num\">2.2.2&nbsp;&nbsp;</span>The first letter of our name</a></span></li></ul></li></ul></li><li><span><a href=\"#Discrete-probability-distributions:-Bernouilli,-Binomial-&amp;-Poisson\" data-toc-modified-id=\"Discrete-probability-distributions:-Bernouilli,-Binomial-&amp;-Poisson-3\"><span class=\"toc-item-num\">3&nbsp;&nbsp;</span>Discrete probability distributions: Bernouilli, Binomial &amp; Poisson</a></span><ul class=\"toc-item\"><li><span><a href=\"#Bernoulli-distribution\" data-toc-modified-id=\"Bernoulli-distribution-3.1\"><span class=\"toc-item-num\">3.1&nbsp;&nbsp;</span>Bernoulli distribution</a></span><ul class=\"toc-item\"><li><span><a href=\"#Let's-Python\" data-toc-modified-id=\"Let's-Python-3.1.1\"><span class=\"toc-item-num\">3.1.1&nbsp;&nbsp;</span>Let's Python</a></span></li></ul></li><li><span><a href=\"#Binomial-Distribution\" data-toc-modified-id=\"Binomial-Distribution-3.2\"><span class=\"toc-item-num\">3.2&nbsp;&nbsp;</span>Binomial Distribution</a></span><ul class=\"toc-item\"><li><span><a href=\"#Let's-Python\" data-toc-modified-id=\"Let's-Python-3.2.1\"><span class=\"toc-item-num\">3.2.1&nbsp;&nbsp;</span>Let's Python</a></span></li></ul></li><li><span><a href=\"#scipy.stats-generates-methods-regardless-of-our-distribution\" data-toc-modified-id=\"scipy.stats-generates-methods-regardless-of-our-distribution-3.3\"><span class=\"toc-item-num\">3.3&nbsp;&nbsp;</span>scipy.stats generates methods regardless of our distribution</a></span><ul class=\"toc-item\"><li><span><a href=\"#RVS\" data-toc-modified-id=\"RVS-3.3.1\"><span class=\"toc-item-num\">3.3.1&nbsp;&nbsp;</span>RVS</a></span></li><li><span><a href=\"#PMF\" data-toc-modified-id=\"PMF-3.3.2\"><span class=\"toc-item-num\">3.3.2&nbsp;&nbsp;</span>PMF</a></span></li><li><span><a href=\"#CDF\" data-toc-modified-id=\"CDF-3.3.3\"><span class=\"toc-item-num\">3.3.3&nbsp;&nbsp;</span>CDF</a></span></li><li><span><a href=\"#Mean,-Variance,-Standard-Deviation\" data-toc-modified-id=\"Mean,-Variance,-Standard-Deviation-3.3.4\"><span class=\"toc-item-num\">3.3.4&nbsp;&nbsp;</span>Mean, Variance, Standard Deviation</a></span></li></ul></li><li><span><a href=\"#Poisson-distribution\" data-toc-modified-id=\"Poisson-distribution-3.4\"><span class=\"toc-item-num\">3.4&nbsp;&nbsp;</span>Poisson distribution</a></span></li></ul></li></ul></div>"
   ]
  },
  {
   "cell_type": "code",
   "execution_count": null,
   "metadata": {},
   "outputs": [],
   "source": [
    "# Viz mantra\n",
    "from matplotlib import pyplot as plt\n",
    "%matplotlib inline\n",
    "%config Inlinebackend.figure_format = 'retina'\n",
    "\n",
    "import seaborn as sns\n",
    "sns.set_context('poster')\n",
    "sns.set(rc={'figure.figsize': (16., 9.)})\n",
    "sns.set_style('whitegrid')"
   ]
  },
  {
   "cell_type": "markdown",
   "metadata": {
    "lang": "en"
   },
   "source": [
    "## Basic concepts\n",
    "\n",
    "### Random experiment:\n",
    "The process of observing a phenomenon for which all possible outcomes are known in advance, but from the initial conditions it cannot be predicted exactly which of these outcomes will occur.\n",
    "\n",
    "### Sample space\n",
    "It is the set of all possible outcomes of a random experiment. It is denoted by Ω = {e1, e2, . . . , in, . . .} and each of its elements is called an elementary event or sample point.\n",
    "\n",
    "### Random variable\n",
    "In probability and statistics, a random variable is a function that assigns a value, usually numerical, to the outcome of a random experiment. For example, the possible outcomes of rolling a die twice: (1, 1), (1, 2), etc. or a real number (e.g., the maximum temperature measured throughout the day in a specific city)."
   ]
  },
  {
   "cell_type": "markdown",
   "metadata": {
    "lang": "en"
   },
   "source": [
    "### Brief summary as a whole"
   ]
  },
  {
   "cell_type": "markdown",
   "metadata": {
    "lang": "en"
   },
   "source": [
    "Random experiment is the controlled reproduction of a phenomenon, with uncertainty about the result that will be obtained. A random experiment under the same apparent set of initial conditions may present different results, that is, the exact result of each particular experiment cannot be predicted or reproduced. (Ex: Rolling a die, tossing a coin, tossing a card from a deck)."
   ]
  },
  {
   "cell_type": "markdown",
   "metadata": {
    "lang": "en"
   },
   "source": [
    "* **Sample Space** $\\Omega$ is the set of possible outcomes. {H, T} in the case of tossing a coin.\n",
    "* In general, not all outcomes are equally likely.\n",
    "* The probabilities of each outcome are specified by a random variable X.\n",
    "* A **random variable** X is a function from the sample space $\\Omega$ to the real numbers $\\mathbb{R}$."
   ]
  },
  {
   "cell_type": "markdown",
   "metadata": {
    "colab_type": "text",
    "id": "RGEdKGZnMqBF"
   },
   "source": [
    "$$X: \\Omega \\rightarrow \\mathbb{R}$$"
   ]
  },
  {
   "cell_type": "markdown",
   "metadata": {
    "lang": "en"
   },
   "source": [
    "That is, for each element $x \\in \\Omega$, we have $P(X=x) \\in \\mathbb{R}$"
   ]
  },
  {
   "cell_type": "markdown",
   "metadata": {
    "lang": "en"
   },
   "source": [
    "**NOTE**: all probabilities must add (integrate in case of continuous variables) to one"
   ]
  },
  {
   "cell_type": "markdown",
   "metadata": {},
   "source": [
    "$$\\sum_{x \\in \\Omega} P(X=x) = 1$$"
   ]
  },
  {
   "cell_type": "markdown",
   "metadata": {
    "lang": "en"
   },
   "source": [
    "## Examples"
   ]
  },
  {
   "cell_type": "markdown",
   "metadata": {
    "lang": "en"
   },
   "source": [
    "### Flip the coin"
   ]
  },
  {
   "cell_type": "markdown",
   "metadata": {},
   "source": [
    "<img src=\"https://www.neurochispas.com/wp-content/uploads/2020/07/Intuicion-probabilistica-1.svg\" width=300>"
   ]
  },
  {
   "cell_type": "markdown",
   "metadata": {
    "lang": "en"
   },
   "source": [
    "The sample space is $\\Omega = \\{H, T\\}$, heads or tails.\n",
    "Being the coin fair, both outcomes are equally likely."
   ]
  },
  {
   "cell_type": "markdown",
   "metadata": {
    "lang": "en"
   },
   "source": [
    "The random variable X is defined as:"
   ]
  },
  {
   "cell_type": "markdown",
   "metadata": {},
   "source": [
    "$P(X=H) = \\frac{1}{2}$\n",
    "\n",
    "$P(X=T) = \\frac{1}{2}$"
   ]
  },
  {
   "cell_type": "markdown",
   "metadata": {},
   "source": [
    "\n",
    "<div align=\"center\">$\\sum_{x \\in \\Omega} P(X=x) = 1$</div> \n"
   ]
  },
  {
   "cell_type": "markdown",
   "metadata": {
    "lang": "en"
   },
   "source": [
    "Or what is the same... that the probability of each possibility adds 1 in a random event"
   ]
  },
  {
   "cell_type": "markdown",
   "metadata": {},
   "source": [
    "<div align=\"center\">  $P(X=H) + P(X=T) = 1$</div> \n"
   ]
  },
  {
   "cell_type": "markdown",
   "metadata": {
    "lang": "en"
   },
   "source": [
    "### Biased Coin 70 / 30"
   ]
  },
  {
   "cell_type": "code",
   "execution_count": null,
   "metadata": {},
   "outputs": [],
   "source": [
    "# weighted coin"
   ]
  },
  {
   "cell_type": "markdown",
   "metadata": {},
   "source": [
    "![coin](https://media.giphy.com/media/hWk4OcIkPDfSCon46I/giphy.gif)"
   ]
  },
  {
   "cell_type": "markdown",
   "metadata": {
    "lang": "en"
   },
   "source": [
    "The sample space is $\\Omega = \\{H, T\\}$, heads and tails\n",
    "The random variable x is defined as:"
   ]
  },
  {
   "cell_type": "markdown",
   "metadata": {},
   "source": [
    "$P(X=H) = \\frac{7}{10}$\n",
    "\n",
    "$P(X=T) = \\frac{3}{10}$"
   ]
  },
  {
   "cell_type": "markdown",
   "metadata": {
    "lang": "en"
   },
   "source": [
    "#### Roll a die"
   ]
  },
  {
   "cell_type": "markdown",
   "metadata": {},
   "source": [
    "![dado](https://media.giphy.com/media/8mmRfT31UfaifyuYa8/giphy.gif)"
   ]
  },
  {
   "cell_type": "markdown",
   "metadata": {
    "lang": "en"
   },
   "source": [
    "The sample space is $\\Omega = \\{1, 2, 3, 4, 5, 6\\}$"
   ]
  },
  {
   "cell_type": "markdown",
   "metadata": {},
   "source": [
    "<img src=\"data:image/jpeg;base64,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\" width=300>"
   ]
  },
  {
   "cell_type": "markdown",
   "metadata": {
    "lang": "en"
   },
   "source": [
    "The random variable x:"
   ]
  },
  {
   "cell_type": "markdown",
   "metadata": {},
   "source": [
    "$P(X=1) = P(X=2) = P(X=3) = P(X=4) = P(X=5) = P(X=6) = \\frac{1}{6}$"
   ]
  },
  {
   "cell_type": "markdown",
   "metadata": {},
   "source": [
    "$$\\sum_{x \\in X} P(X=x) = 1$$"
   ]
  },
  {
   "cell_type": "markdown",
   "metadata": {
    "lang": "en"
   },
   "source": [
    "#### The first letter of our name"
   ]
  },
  {
   "cell_type": "markdown",
   "metadata": {},
   "source": [
    "<img src=\"https://i.pinimg.com/originals/0b/e4/ad/0be4adcffad57cfca79dbf64b3889fc2.jpg\" width=500>"
   ]
  },
  {
   "cell_type": "code",
   "execution_count": 3,
   "metadata": {},
   "outputs": [],
   "source": [
    "class_ =[\n",
    "   \"bernat\",\n",
    "    \"carles\",\n",
    "    \"carlos\", \n",
    "    \"david\",\n",
    "    \"francesc\",\n",
    "    \"guillermo\",\n",
    "    \"hugo\",\n",
    "    \"joan\",\n",
    "    \"joana\",\n",
    "    \"joaquin\",\n",
    "    \"marc\",\n",
    "    \"marc\",\n",
    "    \"marc\",\n",
    "    \"marc\",\n",
    "    \"maximiliano\",\n",
    "    \"mayara\",\n",
    "    \"cason\",\n",
    "    \"nerea\",\n",
    "    \"queralt\",\n",
    "    \"raphael\",\n",
    "    \"selma\",\n",
    "    \"sergi\"\n",
    "] "
   ]
  },
  {
   "cell_type": "code",
   "execution_count": null,
   "metadata": {},
   "outputs": [],
   "source": []
  },
  {
   "cell_type": "markdown",
   "metadata": {},
   "source": [
    "The sample space $\\Omega = \\{B, C, D, F, G, H, J, M, N, Q, R, S\\}$"
   ]
  },
  {
   "cell_type": "code",
   "execution_count": null,
   "metadata": {},
   "outputs": [],
   "source": []
  },
  {
   "cell_type": "markdown",
   "metadata": {
    "lang": "en"
   },
   "source": [
    "The random variable X is defined as:"
   ]
  },
  {
   "cell_type": "markdown",
   "metadata": {},
   "source": [
    "$P(x=B) = \\frac{1}{22}$\n",
    "\n",
    "$P(x=C) = \\frac{1}{22}$\n",
    "\n",
    "$P(x=D) = \\frac{1}{22}$\n",
    "\n",
    "$P(x=F) = \\frac{1}{22}$\n",
    "\n",
    "$P(x=G) = \\frac{1}{22}$\n",
    "\n",
    "$P(x=H) = \\frac{1}{22}$\n",
    "\n",
    "$P(x=J) = \\frac{3}{22}$\n",
    "\n",
    "$P(x=M) = \\frac{6}{22}$\n",
    "\n",
    "$P(x=N) = \\frac{1}{22}$\n",
    "\n",
    "$P(x=Q) = \\frac{1}{22}$\n",
    "\n",
    "$P(x=R) = \\frac{1}{22}$\n",
    "\n",
    "$P(x=S) = \\frac{2}{22}$"
   ]
  },
  {
   "cell_type": "markdown",
   "metadata": {
    "lang": "en"
   },
   "source": [
    "## Discrete probability distributions: Bernouilli, Binomial & Poisson"
   ]
  },
  {
   "cell_type": "markdown",
   "metadata": {
    "lang": "en"
   },
   "source": [
    "- **Discrete probability distributions** are those that only take a finite (or countably infinite) number of different values.\n",
    "\n",
    "- X is a discrete random variable.\n",
    "X follows a discrete probability distribution.\n",
    "\n",
    "- A probability mass function, often abbreviated PMF , tells us the probability that a discrete random variable takes on a certain value."
   ]
  },
  {
   "cell_type": "markdown",
   "metadata": {},
   "source": [
    "$$X: \\Omega \\rightarrow \\mathbb{R}$$"
   ]
  },
  {
   "cell_type": "markdown",
   "metadata": {},
   "source": [
    "$P(X=H)=0.7$"
   ]
  },
  {
   "cell_type": "markdown",
   "metadata": {
    "lang": "en"
   },
   "source": [
    "Probability mass functions in practice 👇🏻🤔"
   ]
  },
  {
   "cell_type": "markdown",
   "metadata": {
    "lang": "en"
   },
   "source": [
    "### Bernoulli distribution\n",
    "The Bernoulli distribution is a theoretical model used to represent a discrete random variable which can only result in two mutually exclusive events.\n",
    "In other words, the Bernoulli distribution is a distribution applied to a discrete random variable, which can only result in two possible events: “success” and “no success”.\n",
    "The Bernouilli distribution has 2 possible outcomes, with probability $p$ and $1-p$. \n",
    "\n",
    "**Example: biased coin**"
   ]
  },
  {
   "cell_type": "markdown",
   "metadata": {
    "lang": "en"
   },
   "source": [
    "* $\\Omega = \\{0, 1\\}$ (think H and T)\n",
    "* We call the probability of success 𝑝.\n",
    "\n",
    "\n",
    "We prepare our distribution."
   ]
  },
  {
   "cell_type": "markdown",
   "metadata": {},
   "source": [
    "\n",
    "<div align=\"center\">$X \\sim Bernoulli(p)$</div> \n"
   ]
  },
  {
   "cell_type": "markdown",
   "metadata": {
    "lang": "en"
   },
   "source": [
    "#### Let's Python"
   ]
  },
  {
   "cell_type": "code",
   "execution_count": null,
   "metadata": {
    "colab": {},
    "colab_type": "code",
    "id": "Rm-AQZ_DGor6"
   },
   "outputs": [],
   "source": []
  },
  {
   "cell_type": "markdown",
   "metadata": {
    "lang": "en"
   },
   "source": [
    "This means that I have bought a machine that every time I press the button it returns a 1 or a 0.\n",
    "1 with the probability of 0.8 (success) and 0 with the probability of 0.2"
   ]
  },
  {
   "cell_type": "markdown",
   "metadata": {},
   "source": [
    "$P(X=1)=p=0.8$\n",
    "\n",
    "$P(X=0)=1-p=0.2$"
   ]
  },
  {
   "cell_type": "markdown",
   "metadata": {
    "lang": "en"
   },
   "source": [
    "We generate random samples, how? with `.rvs` (random variates sample)"
   ]
  },
  {
   "cell_type": "code",
   "execution_count": null,
   "metadata": {
    "colab": {},
    "colab_type": "code",
    "id": "Rm-AQZ_DGor6"
   },
   "outputs": [],
   "source": [
    "from scipy.stats import bernoulli"
   ]
  },
  {
   "cell_type": "code",
   "execution_count": null,
   "metadata": {
    "lang": "en"
   },
   "outputs": [],
   "source": [
    "# Initialize with the biased coin\n"
   ]
  },
  {
   "cell_type": "markdown",
   "metadata": {
    "lang": "en"
   },
   "source": [
    "How much do we expect the sum of these 100 numbers to be? ...if we roll 100 times and the probability of getting 1 is 0.8..."
   ]
  },
  {
   "cell_type": "markdown",
   "metadata": {
    "lang": "en"
   },
   "source": [
    "How do I define a Bernoulli distribution?\n",
    "- Possible outcomes (what the machine returns)\n",
    "- Probability of each"
   ]
  },
  {
   "cell_type": "markdown",
   "metadata": {
    "lang": "en"
   },
   "source": [
    "### Binomial Distribution"
   ]
  },
  {
   "cell_type": "markdown",
   "metadata": {
    "lang": "en"
   },
   "source": [
    "Questions: If I flip 10 tricked coins with $P(X=H)=p=0,8$\n",
    " * What is the probability of getting 10 heads?\n",
    " * What is the probability of getting 0 heads?\n",
    " * What is the probability of getting 1 head?"
   ]
  },
  {
   "cell_type": "markdown",
   "metadata": {
    "lang": "en"
   },
   "source": [
    "1. **Probability of getting 10 heads**"
   ]
  },
  {
   "cell_type": "code",
   "execution_count": null,
   "metadata": {},
   "outputs": [],
   "source": []
  },
  {
   "cell_type": "markdown",
   "metadata": {},
   "source": [
    "$P(10 heads) = 0.8 ^{10} \\sim 0.11$  "
   ]
  },
  {
   "cell_type": "markdown",
   "metadata": {
    "lang": "en"
   },
   "source": [
    "2. **Probability of getting zero heads**"
   ]
  },
  {
   "cell_type": "code",
   "execution_count": null,
   "metadata": {},
   "outputs": [],
   "source": []
  },
  {
   "cell_type": "markdown",
   "metadata": {
    "lang": "en"
   },
   "source": [
    "practically 0\n",
    "\n",
    "$P(0 heads) = 0.2^{10} \\sim 0$"
   ]
  },
  {
   "cell_type": "markdown",
   "metadata": {
    "lang": "en"
   },
   "source": [
    "3. **Probability of getting a head**"
   ]
  },
  {
   "cell_type": "markdown",
   "metadata": {},
   "source": [
    "HTTTTTTTTT     \n",
    "THTTTTTTTT     \n",
    "TTHTTTTTTT     \n",
    "TTTHTTTTTT     \n",
    "TTTTHTTTTT     \n",
    "...     \n",
    "TTTTTTTTTH     "
   ]
  },
  {
   "cell_type": "markdown",
   "metadata": {
    "lang": "en"
   },
   "source": [
    "I don't care when I get a head, so I don't care if it's the first option, or the second... in this case, all these events have the same probability, therefore, the probability of getting a head will be the sum of all those events."
   ]
  },
  {
   "cell_type": "markdown",
   "metadata": {},
   "source": [
    "$P(1 head) = 10 * 0.8 * 0.2^9$"
   ]
  },
  {
   "cell_type": "markdown",
   "metadata": {
    "lang": "en"
   },
   "source": [
    "Ok, but... **and what is the probability of getting two heads?**\n",
    "- HTTTTTTHTT\n",
    "- HTTTHTTTTT\n",
    "- THTTTHTTTT\n",
    "- HHTTTTTTTT"
   ]
  },
  {
   "cell_type": "markdown",
   "metadata": {
    "lang": "en"
   },
   "source": [
    "I have many different combinations, what can I do? Do I write them all by hand being careful?\n",
    "Actually, this would be the same as giving two head positions that are two integers from 1 to 10.\n",
    "<div align=\"center\"> ....</div>"
   ]
  },
  {
   "cell_type": "markdown",
   "metadata": {},
   "source": [
    "![thinking](https://media.giphy.com/media/xT5P0z1uWDceDQFjWg/giphy.gif)"
   ]
  },
  {
   "cell_type": "markdown",
   "metadata": {
    "lang": "en"
   },
   "source": [
    "It's the sandwich problem!! They are pairs of numbers from 1 to 10 where the order does not matter... combinations of 10 elements taken 2 at a time."
   ]
  },
  {
   "cell_type": "markdown",
   "metadata": {},
   "source": [
    "$${N\\choose k} \\equiv \\frac{N!}{k!(N-k)!}$$"
   ]
  },
  {
   "cell_type": "markdown",
   "metadata": {
    "lang": "en"
   },
   "source": [
    "Our example in the formula...."
   ]
  },
  {
   "cell_type": "markdown",
   "metadata": {},
   "source": [
    "$${10\\choose 2} \\equiv \\frac{10!}{2!8!}$$"
   ]
  },
  {
   "cell_type": "markdown",
   "metadata": {
    "lang": "en"
   },
   "source": [
    "Therefore, the possible combinations"
   ]
  },
  {
   "cell_type": "markdown",
   "metadata": {},
   "source": [
    "$P(2 heads) = 45 * 0.8^2 * 0.2^8$"
   ]
  },
  {
   "cell_type": "markdown",
   "metadata": {
    "lang": "en"
   },
   "source": [
    "**And this is the binomial distribution**\n",
    "\n",
    "A binomial distribution is a discrete probability distribution that describes the number of successes in performing n independent experiments on a random variable.\n",
    "\n",
    "There is a great diversity of experiments or events that can be characterized under this probability distribution. Imagine a coin toss in which we define the event “getting heads” as success. If we flipped the coin 5 times and counted the successes (heads) we get, our probability distribution would fit a binomial distribution.\n",
    "\n",
    "Therefore, we can summarize it as the probability of having $k$ hits on $N$ total Bernoulli trials with probability $p$."
   ]
  },
  {
   "cell_type": "markdown",
   "metadata": {
    "lang": "en"
   },
   "source": [
    "* $p$ is the probability of success on each trial\n",
    "* $N$ is the number of trials.\n",
    "* $\\Omega = \\{0, 1, 2, 3, ..., N-1, N\\}$ (think about the number of heads in N tosses)"
   ]
  },
  {
   "cell_type": "markdown",
   "metadata": {
    "lang": "en"
   },
   "source": [
    "**We set the distribution**"
   ]
  },
  {
   "cell_type": "markdown",
   "metadata": {},
   "source": [
    "\n",
    "<div align=\"center\">$X \\sim Binomial(N, p)$</div> \n"
   ]
  },
  {
   "cell_type": "code",
   "execution_count": null,
   "metadata": {},
   "outputs": [],
   "source": []
  },
  {
   "cell_type": "markdown",
   "metadata": {},
   "source": [
    "$P(X=0)=(1-p)^N$\n",
    "\n",
    "$P(X=N)=p^N$"
   ]
  },
  {
   "cell_type": "markdown",
   "metadata": {
    "lang": "en"
   },
   "source": [
    "What the Bernoulli machine did was give me back 0 or 1 on each toss depending on the probability of success that I would have given it.\n",
    "Now, before making the machine they ask me:\n",
    "- What is the probability of success? --> 0.8\n",
    "- How many coins do you want me to throw? --> 10\n",
    "\n",
    "What this machine returns to me every time I press the button is the number of heads after having thrown 10 coins with that probability of success.\n",
    "\n",
    "What about the odds of $X=1, 2, 3...$? (Let 1 head come up, let 2 heads come up, let 3 heads come up...)\n",
    "This is the formula, what happens inside the machine👇🏻🤔"
   ]
  },
  {
   "cell_type": "markdown",
   "metadata": {},
   "source": [
    "$$P(X=k)={N \\choose k} p^{k}(1-p)^{N-k}$$"
   ]
  },
  {
   "cell_type": "markdown",
   "metadata": {
    "lang": "en"
   },
   "source": [
    "**REMINDER**: ${N \\choose k} \\equiv \\frac{N!}{k!(N-k)!}$ (the combinations)"
   ]
  },
  {
   "cell_type": "markdown",
   "metadata": {
    "lang": "en"
   },
   "source": [
    "$P(X=1)=10*p^{1}*(1-p)^{9}$ (Probability of getting 1 head)"
   ]
  },
  {
   "cell_type": "markdown",
   "metadata": {
    "lang": "en"
   },
   "source": [
    "$P(X=2)=45*p^{2}*(1-p)^{8}$ (Probability of getting 2 heads)"
   ]
  },
  {
   "cell_type": "markdown",
   "metadata": {
    "lang": "en"
   },
   "source": [
    "Probability that 3 heads come up... is to multiply by all combinations"
   ]
  },
  {
   "cell_type": "markdown",
   "metadata": {
    "lang": "en"
   },
   "source": [
    "#### Let's Python"
   ]
  },
  {
   "cell_type": "code",
   "execution_count": null,
   "metadata": {
    "colab": {},
    "colab_type": "code",
    "id": "h-_Ioss8NwNo"
   },
   "outputs": [],
   "source": [
    "from scipy.stats import binom"
   ]
  },
  {
   "cell_type": "markdown",
   "metadata": {
    "lang": "en"
   },
   "source": [
    "We generate random samples, how? with `.rvs` (random variates sample)"
   ]
  },
  {
   "cell_type": "code",
   "execution_count": null,
   "metadata": {},
   "outputs": [],
   "source": []
  },
  {
   "cell_type": "markdown",
   "metadata": {
    "lang": "en"
   },
   "source": [
    "**Probability mass function** The `.pmf` returns the theoretical probability of the distribution that we have seen experimentally previously.\n",
    "We see that the probability that 4 heads come up is low, we have seen it because we have experienced it, we also know it because before we have seen that we had to calculate all the combinations of 2 heads....if we apply it in the following formula, only we have to substitute the k for 4 and we obtain the theoretical probability."
   ]
  },
  {
   "cell_type": "markdown",
   "metadata": {},
   "source": [
    "$$P(X=k)={N \\choose k} p^{k}(1-p)^{N-k}$$"
   ]
  },
  {
   "cell_type": "markdown",
   "metadata": {},
   "source": [
    "**REMINDER**: ${N \\choose k} \\equiv \\frac{N!}{k!(N-k)!}$"
   ]
  },
  {
   "cell_type": "markdown",
   "metadata": {},
   "source": [
    "$$P(X=4)={10 \\choose 4} 0.8^{4}(1-0.8)^{10-4}=\\frac{10!}{4!6!}0.8^40.2^6=\\frac{10*9*8*7}{4*3*2*1}0.8^40.2^6=210* 0.8^40.2^6$$"
   ]
  },
  {
   "cell_type": "markdown",
   "metadata": {
    "lang": "en"
   },
   "source": [
    "The 210 possible combinations of 4 heads and 8 tails times the probability of each"
   ]
  },
  {
   "cell_type": "code",
   "execution_count": null,
   "metadata": {},
   "outputs": [],
   "source": []
  },
  {
   "cell_type": "markdown",
   "metadata": {
    "lang": "en"
   },
   "source": [
    "Python comes to help us because it has the function implemented, and it saves us from doing the calculations above, but we have to know what it means and understand what we're doing.\n",
    "\n",
    "**What is the probability that I get 4 heads?**"
   ]
  },
  {
   "cell_type": "code",
   "execution_count": null,
   "metadata": {},
   "outputs": [],
   "source": []
  },
  {
   "cell_type": "markdown",
   "metadata": {
    "lang": "en"
   },
   "source": [
    "How much do the values ​​have to add up to?"
   ]
  },
  {
   "cell_type": "code",
   "execution_count": null,
   "metadata": {
    "lang": "en"
   },
   "outputs": [],
   "source": []
  },
  {
   "cell_type": "markdown",
   "metadata": {
    "lang": "en"
   },
   "source": [
    "**Use case**:\n",
    "- N: A party with 100 people\n",
    "- p: Individual probability of having Covid is 0.02"
   ]
  },
  {
   "cell_type": "code",
   "execution_count": null,
   "metadata": {},
   "outputs": [],
   "source": []
  },
  {
   "cell_type": "markdown",
   "metadata": {
    "lang": "en"
   },
   "source": [
    "**Probability mass function**\n",
    "We recall that pmf tells me the theoretical probability."
   ]
  },
  {
   "cell_type": "code",
   "execution_count": null,
   "metadata": {
    "lang": "en"
   },
   "outputs": [],
   "source": []
  },
  {
   "cell_type": "markdown",
   "metadata": {
    "lang": "en"
   },
   "source": [
    "What is the probability that at a given party, at least one person will have covid?"
   ]
  },
  {
   "cell_type": "code",
   "execution_count": null,
   "metadata": {},
   "outputs": [],
   "source": []
  },
  {
   "cell_type": "markdown",
   "metadata": {
    "lang": "en"
   },
   "source": [
    "### scipy.stats generates methods regardless of our distribution"
   ]
  },
  {
   "cell_type": "markdown",
   "metadata": {},
   "source": [
    "#### RVS"
   ]
  },
  {
   "cell_type": "markdown",
   "metadata": {
    "lang": "en"
   },
   "source": [
    "Remember, it generates random variables of a given type."
   ]
  },
  {
   "cell_type": "code",
   "execution_count": null,
   "metadata": {
    "lang": "en"
   },
   "outputs": [],
   "source": []
  },
  {
   "cell_type": "markdown",
   "metadata": {
    "lang": "en"
   },
   "source": [
    "I'm going to a party. What is the number of sick people in it?"
   ]
  },
  {
   "cell_type": "code",
   "execution_count": null,
   "metadata": {},
   "outputs": [],
   "source": []
  },
  {
   "cell_type": "markdown",
   "metadata": {
    "lang": "en"
   },
   "source": [
    "I go to 20 parties. What is the number of patients in them?"
   ]
  },
  {
   "cell_type": "code",
   "execution_count": null,
   "metadata": {},
   "outputs": [],
   "source": []
  },
  {
   "cell_type": "markdown",
   "metadata": {},
   "source": [
    "#### PMF"
   ]
  },
  {
   "cell_type": "markdown",
   "metadata": {
    "lang": "en"
   },
   "source": [
    "Returns the (probability mass function) at a given value, that is, the probability of that result"
   ]
  },
  {
   "cell_type": "markdown",
   "metadata": {},
   "source": [
    "$P(X=k)$"
   ]
  },
  {
   "cell_type": "code",
   "execution_count": null,
   "metadata": {
    "lang": "en"
   },
   "outputs": [],
   "source": []
  },
  {
   "cell_type": "markdown",
   "metadata": {
    "lang": "en"
   },
   "source": [
    "#### CDF\n",
    "The cumulative distribution function.\n",
    "Calculates the cumulative probability of a given value of x. Use the cdf to determine the probability that a random observation drawn from the population is less than or equal to a certain value. You can also use this information to determine the probability that an observation is greater than a certain value or is between two values."
   ]
  },
  {
   "cell_type": "markdown",
   "metadata": {},
   "source": [
    "$P(X \\leq k)$"
   ]
  },
  {
   "cell_type": "code",
   "execution_count": null,
   "metadata": {
    "colab": {},
    "colab_type": "code",
    "id": "h-_Ioss8NwNo"
   },
   "outputs": [],
   "source": []
  },
  {
   "cell_type": "markdown",
   "metadata": {
    "lang": "en"
   },
   "source": [
    "**Remark**"
   ]
  },
  {
   "cell_type": "code",
   "execution_count": null,
   "metadata": {
    "lang": "en"
   },
   "outputs": [],
   "source": []
  },
  {
   "cell_type": "markdown",
   "metadata": {
    "lang": "en"
   },
   "source": [
    "**Exercise**: Every day of the year 2023, if you get 7 heads or more, I invite you to breakfast. How many days do you expect me to invite you? 10 times you flip the coin and it is NOT bweighted"
   ]
  },
  {
   "cell_type": "code",
   "execution_count": null,
   "metadata": {},
   "outputs": [],
   "source": []
  },
  {
   "cell_type": "markdown",
   "metadata": {
    "lang": "en"
   },
   "source": [
    "#### Mean, Variance, Standard Deviation"
   ]
  },
  {
   "cell_type": "markdown",
   "metadata": {
    "lang": "en"
   },
   "source": [
    "This was the rigged coin. The machine that threw 10 coins with a success probability of 0.8"
   ]
  },
  {
   "cell_type": "code",
   "execution_count": null,
   "metadata": {},
   "outputs": [],
   "source": []
  },
  {
   "cell_type": "markdown",
   "metadata": {
    "lang": "en"
   },
   "source": [
    "Let's plot the MPF of the binomial"
   ]
  },
  {
   "cell_type": "code",
   "execution_count": null,
   "metadata": {},
   "outputs": [],
   "source": [
    "import numpy as np"
   ]
  },
  {
   "cell_type": "code",
   "execution_count": null,
   "metadata": {},
   "outputs": [],
   "source": []
  },
  {
   "cell_type": "markdown",
   "metadata": {
    "lang": "en"
   },
   "source": [
    "Let's plot an experiment! 🙃🌈"
   ]
  },
  {
   "cell_type": "code",
   "execution_count": null,
   "metadata": {
    "colab": {},
    "colab_type": "code",
    "id": "9NNpanrLBygi"
   },
   "outputs": [],
   "source": []
  },
  {
   "cell_type": "markdown",
   "metadata": {
    "lang": "en"
   },
   "source": [
    "### Poisson distribution"
   ]
  },
  {
   "cell_type": "markdown",
   "metadata": {
    "lang": "en"
   },
   "source": [
    "The Poisson distribution is used to describe the number of times something **can happen in a given time**.\n",
    "The Poisson distribution is applied to various discrete phenomena of nature (that is, those phenomena that occur 0, 1, 2, 3, …, times during a defined period of time or in a given area) when the probability of occurrence of the phenomenon is constant in time or space. Examples of these events that can be modeled by the Poisson distribution include:\n",
    "\n",
    "- The number of cars that pass through a certain point on a route (sufficiently distant from traffic lights) during a defined period of time.\n",
    "- The number of misspellings that one commits when writing a single page.\n",
    "- The number of web servers accessed per minute.\n",
    "- The number of mutations of a given DNA strand after a certain amount of radiation.\n",
    "- The number of unstable atomic nuclei that have disintegrated in a given period.\n",
    "- The inventiveness of an inventor throughout his career.\n",
    "- The number of meteorites larger than 1 meter in diameter that hit the Earth in a year\n",
    "- The number of patients who arrive at an emergency room between 10 and 11 at night\n",
    "- The number of laser photons that hit a detector in a given time interval"
   ]
  },
  {
   "cell_type": "markdown",
   "metadata": {
    "lang": "en"
   },
   "source": [
    "$\\Omega = \\{0, 1, 2, 3, ...\\}$ (think of the number of patients from 10 to 11). It is not bounded."
   ]
  },
  {
   "cell_type": "markdown",
   "metadata": {
    "lang": "en"
   },
   "source": [
    "**We set the distribution**"
   ]
  },
  {
   "cell_type": "markdown",
   "metadata": {
    "lang": "en"
   },
   "source": [
    "$\\lambda$ is the theoretical mean number of occurrences.\n",
    "If we want to buy the machine from the Poisson distribution, it only receives one parameter. Average.\n",
    "The Poisson is a distribution that has no memory, they are independent events, it appears just because."
   ]
  },
  {
   "cell_type": "markdown",
   "metadata": {},
   "source": [
    "$X \\sim Po(\\lambda)$"
   ]
  },
  {
   "cell_type": "code",
   "execution_count": null,
   "metadata": {},
   "outputs": [],
   "source": []
  },
  {
   "cell_type": "markdown",
   "metadata": {
    "lang": "en"
   },
   "source": [
    "The PMF that follows the Poisson distribution is as follows:"
   ]
  },
  {
   "cell_type": "markdown",
   "metadata": {},
   "source": [
    "$$P(X=k)=\\frac{\\lambda ^{k}e^{-\\lambda }}{k!}$$"
   ]
  },
  {
   "cell_type": "markdown",
   "metadata": {},
   "source": [
    "$$P(X=1)=\\lambda e^{-\\lambda }$$"
   ]
  },
  {
   "cell_type": "markdown",
   "metadata": {},
   "source": [
    "$$P(X=2)=\\frac{\\lambda ^{2}e^{-\\lambda }}{2}$$"
   ]
  },
  {
   "cell_type": "code",
   "execution_count": null,
   "metadata": {
    "colab": {},
    "colab_type": "code",
    "id": "7vWUFVMDSoEK"
   },
   "outputs": [],
   "source": [
    "from scipy.stats import poisson"
   ]
  },
  {
   "cell_type": "code",
   "execution_count": null,
   "metadata": {},
   "outputs": [],
   "source": []
  },
  {
   "cell_type": "markdown",
   "metadata": {
    "lang": "en"
   },
   "source": [
    "What about the exact odds? I want to make sure that 99% of the time I will have a doctor available for each patient. We use `pmf`"
   ]
  },
  {
   "cell_type": "markdown",
   "metadata": {},
   "source": [
    "$$P(X=k)=\\frac{\\lambda ^{k}e^{-\\lambda }}{k!}$$"
   ]
  },
  {
   "cell_type": "code",
   "execution_count": null,
   "metadata": {
    "lang": "en"
   },
   "outputs": [],
   "source": []
  },
  {
   "cell_type": "markdown",
   "metadata": {
    "lang": "en"
   },
   "source": [
    "What did the cdf do? We calculated the probability that 6 or fewer patients will arrive"
   ]
  },
  {
   "cell_type": "code",
   "execution_count": null,
   "metadata": {},
   "outputs": [],
   "source": []
  },
  {
   "cell_type": "markdown",
   "metadata": {
    "lang": "en"
   },
   "source": [
    "What is the probability that more than 12 patients will arrive?"
   ]
  },
  {
   "cell_type": "code",
   "execution_count": null,
   "metadata": {
    "lang": "en"
   },
   "outputs": [],
   "source": []
  },
  {
   "cell_type": "markdown",
   "metadata": {
    "lang": "en"
   },
   "source": [
    "**Mean, Variance**"
   ]
  },
  {
   "cell_type": "code",
   "execution_count": null,
   "metadata": {},
   "outputs": [],
   "source": []
  },
  {
   "cell_type": "markdown",
   "metadata": {
    "lang": "en"
   },
   "source": [
    "**Exercise**\n",
    "My visits to the web: 30 people enter my web page on average every minute (instance the probability machine)"
   ]
  },
  {
   "cell_type": "code",
   "execution_count": null,
   "metadata": {},
   "outputs": [],
   "source": []
  },
  {
   "cell_type": "markdown",
   "metadata": {},
   "source": [
    "# Recap\n",
    "\n"
   ]
  },
  {
   "cell_type": "code",
   "execution_count": null,
   "metadata": {},
   "outputs": [],
   "source": []
  }
 ],
 "metadata": {
  "colab": {
   "collapsed_sections": [],
   "name": "ProbabilityDistribution (1).ipynb",
   "provenance": []
  },
  "kernelspec": {
   "display_name": "ironhack",
   "language": "python",
   "name": "ironhack"
  },
  "language_info": {
   "codemirror_mode": {
    "name": "ipython",
    "version": 3
   },
   "file_extension": ".py",
   "mimetype": "text/x-python",
   "name": "python",
   "nbconvert_exporter": "python",
   "pygments_lexer": "ipython3",
   "version": "3.8.13"
  },
  "nbTranslate": {
   "displayLangs": [
    "en",
    "es"
   ],
   "hotkey": "alt-a",
   "langInMainMenu": true,
   "sourceLang": "es",
   "targetLang": "en",
   "useGoogleTranslate": true
  },
  "toc": {
   "base_numbering": 1,
   "nav_menu": {},
   "number_sections": true,
   "sideBar": true,
   "skip_h1_title": true,
   "title_cell": "Table of Contents",
   "title_sidebar": "Contents",
   "toc_cell": true,
   "toc_position": {
    "height": "calc(100% - 180px)",
    "left": "10px",
    "top": "150px",
    "width": "224px"
   },
   "toc_section_display": true,
   "toc_window_display": true
  },
  "varInspector": {
   "cols": {
    "lenName": 16,
    "lenType": 16,
    "lenVar": 40
   },
   "kernels_config": {
    "python": {
     "delete_cmd_postfix": "",
     "delete_cmd_prefix": "del ",
     "library": "var_list.py",
     "varRefreshCmd": "print(var_dic_list())"
    },
    "r": {
     "delete_cmd_postfix": ") ",
     "delete_cmd_prefix": "rm(",
     "library": "var_list.r",
     "varRefreshCmd": "cat(var_dic_list()) "
    }
   },
   "types_to_exclude": [
    "module",
    "function",
    "builtin_function_or_method",
    "instance",
    "_Feature"
   ],
   "window_display": false
  }
 },
 "nbformat": 4,
 "nbformat_minor": 1
}
