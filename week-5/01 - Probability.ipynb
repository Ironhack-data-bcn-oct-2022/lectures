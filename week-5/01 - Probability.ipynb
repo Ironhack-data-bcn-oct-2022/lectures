{
 "cells": [
  {
   "cell_type": "markdown",
   "metadata": {
    "lang": "en"
   },
   "source": [
    "# Basics of probability"
   ]
  },
  {
   "cell_type": "markdown",
   "metadata": {},
   "source": [
    "![elgif](https://media.giphy.com/media/AUk28PN6A8syGmcHOQ/giphy.gif)"
   ]
  },
  {
   "cell_type": "markdown",
   "metadata": {
    "toc": true
   },
   "source": [
    "<h1>Table of Contents<span class=\"tocSkip\"></span></h1>\n",
    "<div class=\"toc\"><ul class=\"toc-item\"><li><span><a href=\"#Factorial\" data-toc-modified-id=\"Factorial-1\"><span class=\"toc-item-num\">1&nbsp;&nbsp;</span>Factorial</a></span><ul class=\"toc-item\"><li><span><a href=\"#Variations\" data-toc-modified-id=\"Variations-1.1\"><span class=\"toc-item-num\">1.1&nbsp;&nbsp;</span>Variations</a></span></li><li><span><a href=\"#Permutations\" data-toc-modified-id=\"Permutations-1.2\"><span class=\"toc-item-num\">1.2&nbsp;&nbsp;</span>Permutations</a></span></li><li><span><a href=\"#Combinations\" data-toc-modified-id=\"Combinations-1.3\"><span class=\"toc-item-num\">1.3&nbsp;&nbsp;</span>Combinations</a></span></li></ul></li><li><span><a href=\"#Do-it-with-python\" data-toc-modified-id=\"Do-it-with-python-2\"><span class=\"toc-item-num\">2&nbsp;&nbsp;</span>Do it with python</a></span></li><li><span><a href=\"#Introduction\" data-toc-modified-id=\"Introduction-3\"><span class=\"toc-item-num\">3&nbsp;&nbsp;</span>Introduction</a></span></li><li><span><a href=\"#Laplace's-rule\" data-toc-modified-id=\"Laplace's-rule-4\"><span class=\"toc-item-num\">4&nbsp;&nbsp;</span>Laplace's rule</a></span></li><li><span><a href=\"#Compound-Events\" data-toc-modified-id=\"Compound-Events-5\"><span class=\"toc-item-num\">5&nbsp;&nbsp;</span>Compound Events</a></span><ul class=\"toc-item\"><li><span><a href=\"#Union-and-Intersection\" data-toc-modified-id=\"Union-and-Intersection-5.1\"><span class=\"toc-item-num\">5.1&nbsp;&nbsp;</span>Union and Intersection</a></span></li><li><span><a href=\"#Contrary\" data-toc-modified-id=\"Contrary-5.2\"><span class=\"toc-item-num\">5.2&nbsp;&nbsp;</span>Contrary</a></span></li></ul></li><li><span><a href=\"#Conditioned-Probability\" data-toc-modified-id=\"Conditioned-Probability-6\"><span class=\"toc-item-num\">6&nbsp;&nbsp;</span>Conditioned Probability</a></span><ul class=\"toc-item\"><li><span><a href=\"#THE-intuition\" data-toc-modified-id=\"THE-intuition-6.1\"><span class=\"toc-item-num\">6.1&nbsp;&nbsp;</span>THE intuition</a></span></li><li><span><a href=\"#Formal-Definition\" data-toc-modified-id=\"Formal-Definition-6.2\"><span class=\"toc-item-num\">6.2&nbsp;&nbsp;</span>Formal Definition</a></span></li><li><span><a href=\"#Misleading-examples-from-real-life\" data-toc-modified-id=\"Misleading-examples-from-real-life-6.3\"><span class=\"toc-item-num\">6.3&nbsp;&nbsp;</span>Misleading examples from real life</a></span></li></ul></li><li><span><a href=\"#Compound-Events\" data-toc-modified-id=\"Compound-Events-7\"><span class=\"toc-item-num\">7&nbsp;&nbsp;</span>Compound Events</a></span><ul class=\"toc-item\"><li><span><a href=\"#Independent-Events\" data-toc-modified-id=\"Independent-Events-7.1\"><span class=\"toc-item-num\">7.1&nbsp;&nbsp;</span>Independent Events</a></span></li><li><span><a href=\"#Dependent-Events\" data-toc-modified-id=\"Dependent-Events-7.2\"><span class=\"toc-item-num\">7.2&nbsp;&nbsp;</span>Dependent Events</a></span></li></ul></li><li><span><a href=\"#Probability-tree\" data-toc-modified-id=\"Probability-tree-8\"><span class=\"toc-item-num\">8&nbsp;&nbsp;</span>Probability tree</a></span></li><li><span><a href=\"#Bayes-theorem\" data-toc-modified-id=\"Bayes-theorem-9\"><span class=\"toc-item-num\">9&nbsp;&nbsp;</span>Bayes theorem</a></span><ul class=\"toc-item\"><li><span><a href=\"#Bayes-rule\" data-toc-modified-id=\"Bayes-rule-9.1\"><span class=\"toc-item-num\">9.1&nbsp;&nbsp;</span>Bayes rule</a></span><ul class=\"toc-item\"><li><span><a href=\"#Another-example\" data-toc-modified-id=\"Another-example-9.1.1\"><span class=\"toc-item-num\">9.1.1&nbsp;&nbsp;</span>Another example</a></span></li></ul></li></ul></li><li><span><a href=\"#Summary\" data-toc-modified-id=\"Summary-10\"><span class=\"toc-item-num\">10&nbsp;&nbsp;</span>Summary</a></span></li><li><span><a href=\"#Challenges\" data-toc-modified-id=\"Challenges-11\"><span class=\"toc-item-num\">11&nbsp;&nbsp;</span>Challenges</a></span></li><li><span><a href=\"#Materials\" data-toc-modified-id=\"Materials-12\"><span class=\"toc-item-num\">12&nbsp;&nbsp;</span>Materials</a></span></li></ul></div>"
   ]
  },
  {
   "cell_type": "markdown",
   "metadata": {
    "lang": "en"
   },
   "source": [
    "## Factorial\n",
    "The factorial of a positive integer n, the factorial of n or n factorial is defined in principle as the product of all positive integers from 1 to n, therefore, we can also understand it as the product of all positive integers from n to 1. .. and we see it represented by the following formula.\n",
    "\n",
    "$$N!=N*(N-1)*(N-2)*...*3*2*1$$\n"
   ]
  },
  {
   "cell_type": "markdown",
   "metadata": {
    "lang": "en"
   },
   "source": [
    "examples\n",
    "$$3!=3*2*1 = 6$$\n",
    "$$5!=5*4*3*2*1 = 120$$"
   ]
  },
  {
   "cell_type": "markdown",
   "metadata": {
    "lang": "en"
   },
   "source": [
    "So if you look at it... this is the same as\n",
    "$$5!=5 *4! = 120$$"
   ]
  },
  {
   "cell_type": "code",
   "execution_count": 1,
   "metadata": {},
   "outputs": [],
   "source": [
    "def factorial(n):\n",
    "    if n == 0:\n",
    "        return 1\n",
    "    else:\n",
    "        return n * factorial(n-1)"
   ]
  },
  {
   "cell_type": "code",
   "execution_count": 2,
   "metadata": {
    "scrolled": true
   },
   "outputs": [
    {
     "data": {
      "text/plain": [
       "6"
      ]
     },
     "execution_count": 2,
     "metadata": {},
     "output_type": "execute_result"
    }
   ],
   "source": [
    "factorial(3)"
   ]
  },
  {
   "cell_type": "code",
   "execution_count": 3,
   "metadata": {},
   "outputs": [
    {
     "data": {
      "text/plain": [
       "120"
      ]
     },
     "execution_count": 3,
     "metadata": {},
     "output_type": "execute_result"
    }
   ],
   "source": [
    "factorial(5)"
   ]
  },
  {
   "cell_type": "markdown",
   "metadata": {
    "lang": "en"
   },
   "source": [
    "### Variations\n",
    "Variation is called each of the possible groupings that can be formed with the elements of a certain set, for example, of numbers or objects.\n",
    "The order matters...\n",
    "\n",
    "\n",
    "**Example**:\n",
    "This semester there are 21 new students in Gryffyndor of which we need to choose **1 for the position of prefect** and **1 for a Quidditch player**"
   ]
  },
  {
   "cell_type": "markdown",
   "metadata": {},
   "source": [
    "![ungif](https://media.giphy.com/media/rjiRFTZ0NIdi/giphy.gif)"
   ]
  },
  {
   "cell_type": "markdown",
   "metadata": {
    "lang": "en"
   },
   "source": [
    "Before thinking of any type of mathematical formula that is going to explain the variations... How would you think about it?\n",
    "How many are the different combination possibilities of people?"
   ]
  },
  {
   "cell_type": "markdown",
   "metadata": {},
   "source": [
    "$$V_k^N = \\frac{N!}{(N-k)!}$$"
   ]
  },
  {
   "cell_type": "markdown",
   "metadata": {
    "lang": "en"
   },
   "source": [
    "Above is the formula that explains it, and below we are going to develop it, but really, if there are 21 students and I take one for the position of prefect, I have another 19 possibilities for the position of Quidditch player... and if each one can be a prefect and each one can be a player... you just have to multiply, right?"
   ]
  },
  {
   "cell_type": "markdown",
   "metadata": {},
   "source": [
    "$$V_2^{21} = \\frac{21!}{(21 - 2)!} = \\frac{21 * 20 * 19!}{19!} = 21 * 20$$"
   ]
  },
  {
   "cell_type": "markdown",
   "metadata": {
    "lang": "en"
   },
   "source": [
    "How many podium variations can there be in a group of 10 people?"
   ]
  },
  {
   "cell_type": "markdown",
   "metadata": {},
   "source": [
    "![ungif](https://media.giphy.com/media/l2JejHcRDHq2NZxHG/giphy.gif)"
   ]
  },
  {
   "cell_type": "markdown",
   "metadata": {
    "lang": "en"
   },
   "source": [
    "Intuition, if we calculate it without formulas, tells us that if we choose a person who is gold, we have 9 people left without a podium, in that case, we take 1 for silver and we have 8 people left.... therefore the possibilities would be the result of multiplying 10 *9* 8"
   ]
  },
  {
   "cell_type": "markdown",
   "metadata": {
    "lang": "es"
   },
   "source": [
    "We develop it mathematically\n",
    "$$V_3^{10} = \\frac{10!}{(10 - 3)!} = \\frac{10 * 9 * 8 * 7!}{7!} = 10 * 9 *8$$"
   ]
  },
  {
   "cell_type": "markdown",
   "metadata": {
    "lang": "en"
   },
   "source": [
    "### Permutations\n",
    "**Order matters**, and **all** elements are used without repetition. It is a particular case of variations.\n",
    "We have the letters A, B, C. How many 3-letter words can we build with them, without repeating them?"
   ]
  },
  {
   "cell_type": "markdown",
   "metadata": {},
   "source": [
    "![sheldon](https://media.giphy.com/media/l2R01AMRh4g9XEKZO/giphy.gif)"
   ]
  },
  {
   "cell_type": "markdown",
   "metadata": {
    "lang": "en"
   },
   "source": [
    "Do we think about it and write it down?"
   ]
  },
  {
   "cell_type": "markdown",
   "metadata": {},
   "source": [
    "ABC\n",
    "ACB\n",
    "BCA\n",
    "BAC\n",
    "CBA\n",
    "CAB"
   ]
  },
  {
   "cell_type": "markdown",
   "metadata": {
    "lang": "en"
   },
   "source": [
    "Actually the way to calculate the number of possibilities is the factorial."
   ]
  },
  {
   "cell_type": "code",
   "execution_count": 4,
   "metadata": {},
   "outputs": [
    {
     "data": {
      "text/plain": [
       "6"
      ]
     },
     "execution_count": 4,
     "metadata": {},
     "output_type": "execute_result"
    }
   ],
   "source": [
    "factorial(3)"
   ]
  },
  {
   "cell_type": "markdown",
   "metadata": {},
   "source": [
    "$$N!$$"
   ]
  },
  {
   "cell_type": "markdown",
   "metadata": {
    "lang": "en"
   },
   "source": [
    "### Combinations\n",
    "Combinations of m elements taken from n to n (m ≥ n) are called all the possible groupings that can be made with the m elements such that:\n",
    "\n",
    "- Not all elements fit.\n",
    "- The order doesn't matter.\n",
    "- Items are not repeated.\n",
    "\n",
    "\n",
    "Let's see it clearly with an example:"
   ]
  },
  {
   "cell_type": "markdown",
   "metadata": {},
   "source": [
    "![alf](https://media.giphy.com/media/XRKWmpN7NrJhm/giphy.gif)"
   ]
  },
  {
   "cell_type": "markdown",
   "metadata": {
    "lang": "en"
   },
   "source": [
    "**Exercise**\n",
    "How many different sandwiches can we make with two different ingredients?\n",
    "\n",
    "We have:\n",
    "- lettuce\n",
    "- tomato\n",
    "- ham\n",
    "- cheese\n",
    "- avocado"
   ]
  },
  {
   "cell_type": "markdown",
   "metadata": {},
   "source": [
    "lettuce & tomato\n",
    "lettuce & ham\n",
    "lettuce & cheese\n",
    "lettuce & avocado\n",
    "\n",
    "###tomatto & lettuce\n",
    "tomato & ham\n",
    "tomato & cheese"
   ]
  },
  {
   "cell_type": "markdown",
   "metadata": {},
   "source": [
    "$${N\\choose k} \\equiv \\frac{N!}{k!(N-k)!}$$"
   ]
  },
  {
   "cell_type": "markdown",
   "metadata": {},
   "source": [
    "$${5\\choose 2} \\equiv \\frac{5!}{2!3!} = \\frac{5 * 4 * 3!}{2! * 3!} = \\frac{5*4}{2} = 10$$"
   ]
  },
  {
   "cell_type": "markdown",
   "metadata": {},
   "source": [
    "![](https://qph.cf2.quoracdn.net/main-qimg-a941590e07ef713266eb5deac90edd37-lq)"
   ]
  },
  {
   "cell_type": "code",
   "execution_count": 7,
   "metadata": {},
   "outputs": [
    {
     "name": "stdout",
     "output_type": "stream",
     "text": [
      "(1, 2, 3)\n",
      "(1, 3, 2)\n",
      "(2, 1, 3)\n",
      "(2, 3, 1)\n",
      "(3, 1, 2)\n",
      "(3, 2, 1)\n"
     ]
    }
   ],
   "source": [
    "# Get all permutations of [1, 2, 3] \n",
    "\n",
    "from itertools import permutations \n",
    "perm = permutations([1, 2, 3]) \n",
    "#perm = permutations([\"A\", \"B\", \"C\"]) \n",
    "\n",
    "for i in list(perm): \n",
    "    print (i)"
   ]
  },
  {
   "cell_type": "code",
   "execution_count": 8,
   "metadata": {},
   "outputs": [
    {
     "name": "stdout",
     "output_type": "stream",
     "text": [
      "(1, 2)\n",
      "(1, 3)\n",
      "(2, 1)\n",
      "(2, 3)\n",
      "(3, 1)\n",
      "(3, 2)\n"
     ]
    }
   ],
   "source": [
    "# A Python program to print all \n",
    "# permutations of given length \n",
    "from itertools import permutations \n",
    "  \n",
    "# Get all permutations of length 2 \n",
    "# and length 2 \n",
    "perm = permutations([1, 2, 3], 2) \n",
    "  \n",
    "# Print the obtained permutations \n",
    "for i in list(perm): \n",
    "    print (i) "
   ]
  },
  {
   "cell_type": "code",
   "execution_count": null,
   "metadata": {},
   "outputs": [],
   "source": [
    "# combinations of given length\n",
    "from itertools import combinations\n",
    "  \n",
    "# Get all combinations of [1, 2, 3]\n",
    "# and length 2\n",
    "comb = combinations([1, 2, 3], 2)\n",
    "  \n",
    "# Print the obtained combinations\n",
    "for i in list(comb):\n",
    "    print (i)"
   ]
  },
  {
   "cell_type": "code",
   "execution_count": 9,
   "metadata": {},
   "outputs": [
    {
     "name": "stdout",
     "output_type": "stream",
     "text": [
      "(1, 1)\n",
      "(1, 2)\n",
      "(1, 3)\n",
      "(2, 2)\n",
      "(2, 3)\n",
      "(3, 3)\n"
     ]
    }
   ],
   "source": [
    "# A Python program to print all combinations \n",
    "# with an element-to-itself combination is \n",
    "# also included \n",
    "from itertools import combinations_with_replacement \n",
    "  \n",
    "# Get all combinations of [1, 2, 3] and length 2 \n",
    "comb = combinations_with_replacement([1, 2, 3], 2) \n",
    "  \n",
    "# Print the obtained combinations \n",
    "for i in list(comb): \n",
    "    print (i) "
   ]
  },
  {
   "cell_type": "code",
   "execution_count": null,
   "metadata": {},
   "outputs": [],
   "source": [
    "# A Python program to print all combinations \n",
    "# of given length with unsorted input. \n",
    "from itertools import combinations \n",
    "  \n",
    "# Get all combinations of [2, 1, 3] \n",
    "# and length 2 \n",
    "comb = combinations([2, 1, 3], 2) \n",
    "  \n",
    "# Print the obtained combinations \n",
    "for i in list(comb): \n",
    "    print (i)"
   ]
  },
  {
   "cell_type": "markdown",
   "metadata": {
    "lang": "en"
   },
   "source": [
    "## Do it with python\n",
    "https://www.geeksforgeeks.org/permutation-and-combination-in-python/"
   ]
  },
  {
   "cell_type": "code",
   "execution_count": 10,
   "metadata": {},
   "outputs": [],
   "source": [
    "import random"
   ]
  },
  {
   "cell_type": "markdown",
   "metadata": {
    "lang": "en"
   },
   "source": [
    "## Introduction"
   ]
  },
  {
   "cell_type": "markdown",
   "metadata": {
    "lang": "en"
   },
   "source": [
    "- **Probability** is the branch of mathematics that deals with experiments whose results **we are not sure of**\n",
    "- The probability of an **event** expresses the possibility of its occurrence. It is a **number between 0 and 1**\n",
    "- The probability of an event $𝐴$ is written as $𝑃(𝐴)$\n",
    "- $𝑃(𝐴)=0$ means that the event is impossible\n",
    "*$𝑃(𝐴)=1$ means that the event is certain\n",
    "- The $Ω$ sample space of an experiment is the **set** of possible outcomes\n",
    "- An event is a subset of the sample space\n",
    "- **Simulations** can be done to \"guess\" the values ​​of the probability: the relative frequency tends to the theoretical probability"
   ]
  },
  {
   "cell_type": "markdown",
   "metadata": {
    "lang": "en"
   },
   "source": [
    "This last feature is **The Law of Large Numbers**\n",
    "It is considered the first fundamental theorem of probability theory.\n",
    "Basically, the theorem states that the relative frequency of the results of a certain random experiment tend to stabilize at a certain number, which is precisely the probability, when the experiment is performed many times."
   ]
  },
  {
   "cell_type": "markdown",
   "metadata": {
    "lang": "en"
   },
   "source": [
    "**Experiment example**: tossing a coin"
   ]
  },
  {
   "cell_type": "markdown",
   "metadata": {},
   "source": [
    "<img src=\"https://www.neurochispas.com/wp-content/uploads/2020/07/Intuicion-probabilistica-1.svg\" width=300>"
   ]
  },
  {
   "cell_type": "markdown",
   "metadata": {
    "lang": "en"
   },
   "source": [
    "The sample space is $\\Omega = \\{H, T\\}$, heads and tails"
   ]
  },
  {
   "cell_type": "markdown",
   "metadata": {},
   "source": [
    "$P(H) = \\frac{1}{2} (=0.5 = 50\\%)$"
   ]
  },
  {
   "cell_type": "markdown",
   "metadata": {},
   "source": [
    "$P(T) = \\frac{1}{2} (=0.5 = 50\\%)$"
   ]
  },
  {
   "cell_type": "markdown",
   "metadata": {
    "lang": "en"
   },
   "source": [
    "👆🏻 Theoretical probability....\n",
    "Let's simulate it!"
   ]
  },
  {
   "cell_type": "code",
   "execution_count": 11,
   "metadata": {},
   "outputs": [],
   "source": [
    "sample_space = [\"H\", \"T\"]"
   ]
  },
  {
   "cell_type": "code",
   "execution_count": 91,
   "metadata": {},
   "outputs": [
    {
     "data": {
      "text/plain": [
       "0.4"
      ]
     },
     "execution_count": 91,
     "metadata": {},
     "output_type": "execute_result"
    }
   ],
   "source": [
    "toss = random.choices(sample_space, k=10)\n",
    "heads = toss.count(\"H\")/len(toss)\n",
    "heads"
   ]
  },
  {
   "cell_type": "code",
   "execution_count": 116,
   "metadata": {},
   "outputs": [
    {
     "data": {
      "text/plain": [
       "0.5035"
      ]
     },
     "execution_count": 116,
     "metadata": {},
     "output_type": "execute_result"
    }
   ],
   "source": [
    "toss = random.choices(sample_space, k=10000)\n",
    "heads = toss.count(\"H\")/len(toss)\n",
    "heads"
   ]
  },
  {
   "cell_type": "code",
   "execution_count": null,
   "metadata": {},
   "outputs": [],
   "source": [
    "# theoretical probability: h 0.5, t 0.5\n",
    "# result: \n",
    "    # different dependinf on the amount of flips"
   ]
  },
  {
   "cell_type": "markdown",
   "metadata": {
    "lang": "en"
   },
   "source": [
    "**Experiment example**: rolling a die"
   ]
  },
  {
   "cell_type": "markdown",
   "metadata": {},
   "source": [
    "<img src=\"data:image/jpeg;base64,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\" width=300>"
   ]
  },
  {
   "cell_type": "markdown",
   "metadata": {
    "lang": "en"
   },
   "source": [
    "The sample space is $\\Omega = \\{1, 2, 3, 4, 5, 6\\}$"
   ]
  },
  {
   "cell_type": "markdown",
   "metadata": {},
   "source": [
    "$P(1) = \\frac{1}{6}$"
   ]
  },
  {
   "cell_type": "markdown",
   "metadata": {},
   "source": [
    "$P(4) = \\frac{1}{6} \\sim 0.16$"
   ]
  },
  {
   "cell_type": "markdown",
   "metadata": {},
   "source": [
    "$P(7) = 0$"
   ]
  },
  {
   "cell_type": "markdown",
   "metadata": {
    "lang": "en"
   },
   "source": [
    "## Laplace's rule"
   ]
  },
  {
   "cell_type": "markdown",
   "metadata": {},
   "source": [
    "![party](https://media.giphy.com/media/SQSMZI0fYbebPLF2RQ/giphy.gif)"
   ]
  },
  {
   "cell_type": "markdown",
   "metadata": {
    "lang": "en"
   },
   "source": [
    "If every outcome in $\\Omega$ occurs with the same probability, then the probability of any event is simply:\n",
    "\n",
    "$P(event)=\\frac {\\text{number of results in the event}}{\\text{number of results in sample space}}$\n",
    "\n",
    "It is what we have been doing intuitively, dividing favorable cases among possible cases and this is Laplace's rule"
   ]
  },
  {
   "cell_type": "markdown",
   "metadata": {
    "lang": "en"
   },
   "source": [
    "**Experiment example**: toss two coins"
   ]
  },
  {
   "cell_type": "markdown",
   "metadata": {},
   "source": [
    "<img src=\"https://qph.fs.quoracdn.net/main-qimg-7de41d4aee9953bdb442e36b187ffc6f\" width=150>\n",
    "<img src=\"https://qph.fs.quoracdn.net/main-qimg-7de41d4aee9953bdb442e36b187ffc6f\" width=150>"
   ]
  },
  {
   "cell_type": "markdown",
   "metadata": {
    "lang": "en"
   },
   "source": [
    "The sample space / sample space is $\\Omega = \\{HH, HT, TH, TT\\}$"
   ]
  },
  {
   "cell_type": "markdown",
   "metadata": {
    "lang": "en"
   },
   "source": [
    "I write the sample space and then if you ask me anything... what is the probability that there is at least one head?"
   ]
  },
  {
   "cell_type": "markdown",
   "metadata": {},
   "source": [
    "$P(\\text{one of each}) = \\frac{2}{4}$"
   ]
  },
  {
   "cell_type": "markdown",
   "metadata": {},
   "source": [
    "$P(\\text{two equals}) = \\frac{2}{4}$"
   ]
  },
  {
   "cell_type": "markdown",
   "metadata": {
    "lang": "en"
   },
   "source": [
    "**Experiment example**: roll a die. Even vs. uneven numbers"
   ]
  },
  {
   "cell_type": "markdown",
   "metadata": {},
   "source": [
    "<img src=\"data:image/jpeg;base64,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\" width=300>"
   ]
  },
  {
   "cell_type": "markdown",
   "metadata": {
    "lang": "en"
   },
   "source": [
    "Sample space $\\Omega = \\{1, 2, 3, 4, 5, 6\\}$"
   ]
  },
  {
   "cell_type": "markdown",
   "metadata": {
    "lang": "en"
   },
   "source": [
    "$P(\\text{even}) = \\frac{3}{6}$"
   ]
  },
  {
   "cell_type": "markdown",
   "metadata": {},
   "source": [
    "$P(\\text{greater than 4}) = \\frac{2}{6}$"
   ]
  },
  {
   "cell_type": "markdown",
   "metadata": {
    "lang": "en"
   },
   "source": [
    "**Experiment example**: we take a ball out of a jar"
   ]
  },
  {
   "cell_type": "markdown",
   "metadata": {},
   "source": [
    "<img src=\"data:image/jpeg;base64,/9j/4AAQSkZJRgABAQAAAQABAAD/2wCEAAkGBxISEhUSEhMWFhUXFhcWFhYXGBcaGhoXGRUXFhcXGBgbHSogHSAlIBUYITEhJSktLi4uFx8zODMsNygtLisBCgoKDg0OGxAQGy0mHyUtLS0tLS0tLS0tLS8tLS0tLS0tLS0tLS0tLS0tLS0tLS0tLS0tLS0tLS0tLS0tLS0tLf/AABEIAPMAzwMBEQACEQEDEQH/xAAcAAACAgMBAQAAAAAAAAAAAAAABgUHAQMEAgj/xABNEAACAQMABgYECQgHCQEBAQABAgMABBEFBhIhMUEHE1FhcYEiMjSRQlJicoKhsbKzCBQWIzM1dJIVU5OiwdHSFyRDRFRjc+Hwg8Il/8QAGwEBAAIDAQEAAAAAAAAAAAAAAAUGAQMEAgf/xAA1EQACAgECBQEGBgICAwEBAAAAAQIDBAUREiExQVEGEyIyYXGRFBVCgaGxM1Ij0Rbh8MEk/9oADAMBAAIRAxEAPwC8aAKAKAKAKAxmgOLSWmLe3G1PPFEO2R1X7TQCvf8AStoiLd+dCQ9kSO/1hdn66yk30BCy9M9uf2NleSd5REB89o1uhjXS6Rf2NUr649ZL7nBL0vXjfs9F4Ha9wPsCD7a3x03Jf6DTLPx1+o4puk3TDepb2aD5RkY/U4H1VuWj5L7L7ml6pjrv/Bp/2g6bP/RDwST/AFVtWiX+UeHq9Hbc9fp9pr49p/ZP/qr1+R2+UePzinww/T3TXx7T+yf/AFVj8ju8ofnFPhmD0gab5NZnxjk/1Vh6Jd5RlavR3TPSdJGmxxjsWHzZR/8A3Xh6NkLx9zYtVx35+x2RdLOkV/aaOif5k2z9RBrTLS8lfpNq1HHf6juh6ZQP22jble3q2WT/AE1plhZEesGbY5VMukkSdl0x6KfAkeaA9ksTfam0K53CS6pm9NPoM2i9b9H3J2YLuB2PwRIob+U7/qryZJvNAZoAoAoAoAoAoAoAoCH1h1mtLFNu6nWMcgd7N81B6R8hQFc6U6Xppcro+zJHKa4OyviIwckeflXXTg33fDE5rsumpe8xW0hpbSl17RfuqnjHbgRjw2lwSPHNStOhvrZIjbdYS+CP3IyPQFuDtMhduZdixPjmpGvSsaH6d/qcE9UyJd9iQit0X1VVfAAfZXbGiuPwxRxyusl8UmbK27GvcKGArICgCgCgCgCgCsAKbGTDqDxAPiK8uuMuqPSslHozgudC27+tEviBsn3iuWzT8efWKOmvPyIdJfc2WUFzbHNne3EOPg7ZdPNG3HzqPt0Ot/A2jur1ia+OO4y6N6TNKW+65hiu0+NH+rkxzOMbJ8AKi7tJyK+i3XyJGnUqLO+z+Y96sdJWj71hGshhmP8AwpxsNnsUn0W8Ac91RsouL2Z3pprdDiDWDJmgCgCgCgKu6Q+kd4pWsNHYa4A/WzHBWHuA4FvHcO+t+PjzvnwwNN90KYcUiuodFAuZp2aeZjlpJDtHPcDwq0Yul1Vc5c2V3J1Ky3lHkiQqT2SI1vfqFejAUAUAUAUAUAUAUAUAUAUAUAUAUAUAUAVhoHJf6OimGJEB7DzHga5r8Oq5bTR00ZdlL3iyU1Z14u9FMqXDNc2W5cnfLD2EHmo7D5Y51jO02eP7y5xLFh58L+T5SL1sbyOaNZYmDo6hlYbwQeBFRhIHRQBQEfrBeGG1nmXjHDI48VQsPsoD5u1SXMJlJ2nkdmdjxJyeP2+dWzR6oqniXVla1acndw9kTdTBEhQBQBQBQBQBQBQBQBQBQBQBQBQBQBQBQBQBQBQHmWMMpVhkEYI7jWu2CnBxZsqlKM1KPUcvyfL5mtLi3JJWCciMnkrjJUeYJ+lVCsiozaRdYPeKZa1eD0FAQ+uXsF3/AA034bUB8vav3j2yKzgmCT4Q37DZxv8AdU3gX2Y0U5LeEv4ZE5tEMiTUX78f5HCCVXAZSCDwI4VZa7IzjvF7lesrlB7SR7r3uawrICgCgCgCgCgCgCgCgCgCgCgCgCgCgCgCgCsNmdiD0tpYk9RbenK24kcEHMk9v2VE5ea5f8VPOT/glcTDUf8Alu5RX8lg/k5xbMN6p3lZ0HuUiqrZHhk4sskZcSTRcNeDIUAo9JesVva2cscrenNG8UaLvYl1KjA86AorVORWt+qYb0LK6kd5O8Hx+qrXpU4WY/A+xW9TjOu/jXc9S6DaMl7WQxk7yh3ofLlXuenzrfFjy2+XYxHPjYuG+O/z7h/TMsW64gYD48fpL4nsrys62rlfB/VD8DVbzpn+zO+00rBL6kinuzg+4767as2i34ZHHbhXV/FE7K6k0c2zCsmAoAoAoAoAoAoAoAoAoAoAoArG42NU9yiDLuq+JArVZfXWt5SSN1dFk+UYkXJrChOzAjzN8kEL5saj5anF8qouR3R02aW9slFGs2d1cftnEUZ/4ce9j3Fq8+wysj/K+GPhdT37fGx/8S4peWSVraRW6HZAVQMsee7mTzrshTVjVvhW2xxzutyZ7Pmxq/J50pARdxdYBM8vWCM7iY8esvbvJyBw3dtUq2XFNy+ZboR4YpFz14PRx6Xv1gheZuCKT58hQFW6haLbSVw+lbv0htEW6MNwXkceGD5gcqwZN2v/AEePJKb7R+FuD+1hOAsvaQeAbx3Hurfj5E6J8cDTfRC6HDNCBBpUbZhnVoJlOGjkGyc9xPGrTi6pVdyfJlcydNtq5x5okakuTI7mjhu9EQSevGpPaBg+8VzW4NFnxROqvNvr6SOT+gCn7GeVOwZ2h7jXL+WuP+Ocl/J0rUlL/JBMOpvk4SRSD5SlT9VPZ50OklL9h7TCn1i0BvrxfWtg3ejj7DT8TmR+KtP6MLGxJ/DZ9wOnWHrW048FBotSkviqkY/L4v4bIh+kcQ9ZZV8UNZ/Na+8Wv2MfldnZp/uZ/Sa15uR4q3+VZ/Nsfvv9jH5Xf2S+56Gsdr/Wj3N/lXpapjf7Hn8tyP8AUydYrX+tHub/ACp+aY3+w/LMjweW1mtf6z+63+VYeq43ZnpaXkeP5PP6SwcttvBGry9Vp7Jv9jP5Xd3aX7h+kAPqwTt9DFY/M9/hhL7Gfy3b4ppfuH9KXDepaN4uwWn4zJl8FT/cfhMaPxW/YM37coYx5saf/wB8/wDVDbBh5Yf0TO/7W6fwjAT66x+CyJ/5LPtyM/jaIf461+5sg1et1OSm2e1yW/8AVba9Nx482t38+Zqs1K+XJPZfIk40CjCgAdgGK7owjHlFbHHKyUubZzX+kYoRmRwO7mfAVovy6qVvNm6jFtue0V+5I6ual3elGV51a2ss5wd0svYAOQPafLNVnN1Kd/urlEseHgQo5vmyb6TdTRbJHf6PHUy22zgIMblG7x3bsHjnHOow7ixtRdY10hZRXQwCwxIo+DIu5x4Z3juIoCI6YpCui5sHGQQfDYegOnUGILYQADA2T941gyMFAL2s1joy6HVXht2PAbTosin5LZDCnQbNiTpDoolT09HXnokZEVx6a92zIo3Dy867KM66n4Zfc5bcOq34kLV9o3Sdtn84sJGUf8S3/WKe/C5IHjUtVrnayP2IyzR1+iX3I2LWG3JwX2DzDgqR453VIV6rjT77fU4bNMyI9t/oSENwjjKsrDuIP2V2xvrl0kjjnRZD4os21t3NewUCCscK8GeJ+TyUHYPdXl1wfZGfaSXdnkwr8VfcK8+xr/1X2PSun/swECfFX3Cs+xr8L7D21n+zPQjUch7hT2UF2Rj2s33Z6FelCPZHnil5CvRgKGDDMBxIHjXl2Rj1Z6UJPojguNNW6etKvgDtH6s1yWajjw6yOuvAvn+n7nqxuri59js55x8fZKp/Od3vqPt1utfBHc7q9Hm/ilsMWjujjSlxg3E0Voh4rH+skx2Eg7IPeGqMu1a+zo9l8iRq0yiHPbf6jxq30cWFm3WCMzS/1s522z2geqp7wM99RkpSk92d6SXJDdWDJGayoGtZgRkbBPu31kwI/wCTucWd0nwVu2wOz9XGP8BQE90z/uuXz/DegO/UlgLCEncApJPdtNWDJWWuGukt47JC7R2wJChSVaUfHdhv2TyXdu45zgcGRlNPhgW/R9BjOCuyFvv0X/YprAgGAq48BXA7JPuWyGJTGPCoLb6EnoLTM9k4e2fZGctEd8T9oZOR+UuD48K6KcqUXs+aIfUNBovi5Vrhl8i8NW9Nx3kCzx7s5DIeKOu5kPgefMEHnUrFqS3RQLqpVTcJLmjo0hoq3nGJ4IpR/wBxFb7RWTULF90WaJlO1+bbB7Y3kT+6G2fqrKbXQbb9SHn6HbcHMF5dx9xdXUeWyN3ia3RybY9JP7mqVFcusV9jik6KLweppMHsD24+shzXRHUsmP6zRLAx5fpOSfo20up9C5tHHyxIp9yoR9dblrGSu/8ABrelY77fyaDqHpscrJvB5B9oFe463kLrseHpFHzPB1L01/U2x8Jf869/ntvhHj8np8sP0M03/UWw/wD1/wDdPzy3/VD8nq8s9DUfTZ+BZr4yOfsrEtbu8IytIo7tmxOjvTTcZbFPOUn8M1res5PlfY2LSsf5/c7E6LL9vW0jGvbsQZ+0itUtVyZfqNi03HX6Trh6IM/t9I3D9ojVYv8AFq0SzL5/FNm6OLRHpFfYk7Xoi0WuOsSaYjnLM2/x2NkVzylJ/EzcopdBk0ZqpYW++G0gQ/GEalv5jlvrrG56ObXLWlLCIHAeV8iKPOAcY2mbsRcjPeQBxrXZYoLiZ04eHPKtVUCntKadurltqe4kb5CsyRjuWNTjzOT31GWZc5Pk9i94np7FqinYuJ/Pp9jls7uWIgwzSxkcCkjj3jOD4EGvEcqyPc6L9Dw7VtwbfTkWfqBru1w4tbojrcZjkAA63Ayyso3BwBnduIzuGKkqL1avmUvVdJnhS3XOL6DbrD7NN8w10EMIv5PXst3/ABbfcSgJ7pn/AHXL5/hvQEVfXJj1fJXcWjEeR2STCM/UxrxN7RbOjFgrLoQfRtFXVAt8z63CKUUkFYPQUPPcsPoanbrLqL4OzDJjsY9YjHzCL/LUthPev6FA9S1xjlprutyz66yuHLpTSUVvGZZnCqN3Mkk8FVRvZjyA31htJbvoYlJRW8ugqXGuk7H9Tboq8jM52j3mNAQP5s+FRVusUQe0VuQd+v41b2im/oFtrrKp/X2wK83gcsw7zG4GR4MT3GvVOrUWPZ8vqesfXse18L936jbo++jnjWWJw6NwYe4g8wQdxB3g1KJ780TSaa3RtmlVFZ3YKqgszE4AAGSSeQoZ+hVGsXSVPKStl+pi5SsoaR/lKrZVAe8E7/g8K47cxRe0Sz6d6dndFTueyfZdReXWnSAO0L2bPfsEfylSv1VzLNs3JqXpnEcdlun53HnU3pD611t7wKrsdmOZRso7HgjKT6DHkeBPYcA9tOTGwq+p6Ndh++ucfP8A2WFXQQxyaU0lFbxmWZtlRgcySTwVVG9mPIDfWHJJbvoeZSjFby6Cfda4Xb/sYooV5ddtSuRjmiMqqfpNUPdrNUXtFbkBkeoaK3tBOR5ttbb1DmRIJl7EDwvjngs7qT3HZ8a81a1VJ7SjseafUVUpbTjt8+o3aF0vFdR9ZETuOy6sMOjDirryO/wIIIyKmYTjOKlHoyfrsjZHii90ynukO9MukZ88ItiFB2AIrt72c+4VH50ve4S+el8dKmVndvYXa4GWtBQybLa6MTpMpw0bpIPosCR5jI866MaTViIrWqY2Yc9+y3+xfusJ/wB1m/8AGamj5gxG/J69lu/4tvuJQwT3TP8AuuXz/DegNejtFm60N1AOGeJgpPAOHLIT9ICvMlutjZVP2c1NdmU7hhkMpVgSrKeKsNxU94O6oOyDhJpn1bDyoZFMbIvqFazr3Cs7b8jxJpLdlqdEOimSCS5YY69lCZzvij2grY72dyO0YPOpnGrcIbM+aa1lxycpuPRch/reRJWum703N1I5OY4WaGFeQKnZlk+cWyvcE7zVc1jLfH7GL+pUtfzZcfsIvl3OeoBlWCgOzVq8NvdoB+zuG6uReXWbJ6uTxOzsHt2l7KsejZTk3VL9i2en82Um6JP6HR0v6QZLaKBTjrpPT744xtFfNtjPdkc6mMmfDW2j6BomMsjLjF9Fz+xVVQzPpkVsgrB7MMuRg16hJxe6OfIpjbBwl0aL01D0q1zYwySHMgDRue1o2KFvPAPnU7CXFFM+VZVLqulX4ews6x3ZnvHz6lueqjHLbKgyyePpbGeQVu01A6zlNNUr9ymeoc2Saoi+XVnJVebKowrANuibw29zHKNyuywzDtV22Y28Vdhv7Gap3R8lqfsn0fQsmgZrjZ7GXR9CA6S9HNDpCRyPRnVZUPeqrHIo8NlT9MVKZ0HupH2f0vlR9nKl9d9xXqPLcgoZOvQ+jmubiG3Ub5HXPcgIaRvJQfMjtrqxK3KxEHr+VGrElHfnLkXvrF7NN8w1MHzYRfyevZbv+Lb7iUBPdM/7rl8/w3oCQ1H9hg+afvNWDJF636hxXjGaJupnPrNjKSY3DrF7cDG0N/DOcVqtpjYuZIYOp3Yct4c13QkSdHWkQcBIWGfWEuB4naQH6jXG8HnyZY4eqo8PvQ5mubQdnYMp0rcqzbmFpbhnLdnWtgHZPZ6IOOJ4V34el2WS/wCOLk/6IjUfUF2RHgj7q/sn4umayBC/m1wqbgCBFuHD1Q/Ad1Tb9P5yjvwfyV/2sB31e1jtb1Nu2lDgesu8MvzkO8eOMHlUXbTZVLhsjs/melJPoV9boVMin1lnnBz29e5z5gg+dUnVItZMtyg61CUcyW5uqOIkKAxEm1NboOLXEOPoOJG9yox8qltHi3kJ/Jk3oEG8tNeGd3THZkxW84G6ORkbuEq4Un6SKPpCrJlx4qz6roF8acyO/fkVhUMfSUwoZDNZS3ex4nJJbsuvo1smi0dDtDBfblxzxI5Zc/RK1O1x4YJHyfNuVuROxdGxWuE2bi5Q5ytxITnskxKvlsyD3VV9Zg1kb+Uj576grayuLs0gqIIIKA03MZcxxji80KjHHfKpJ8gCfKpHS4OWRHbsSui1ueXH5Fhay6AhvYTFLkYO0jr6yPwDL9hB3EbquDipLZn0Wm6dM1OD2aKm0nqFfwnCxdevJ4ioJ8Y2IYHuGfGo+zCfWJcsT1PXwpXLZ+V0Oex1M0hKcC1ZB8aUqijx3lvcteI4Un1N1/qbHivcTb/gs/UzU+OxBct1k7gB5MYAXjsRjkv1nnwAEhXXGC2RT83Oty58Vj/bwS2sPs03zDW04xF/J69lu/4tvuJQwT3TP+65fP8ADegJDUf2GD5p+81YMk5QC10hayHR9m8y4MrERwg8OsYE5PcoDN37OOddWHjSyLo1x7nmT2W5823E7OzO7F3YlmZjksTxJPM19Qw8OvGrUK0cMpOTNVdh5O3Q+lZrWZJ4H2JE4HkRzVhzU8xUVqem1ZdTTXPszZCbiy571DcRJpS2QtHOitcRKNpkdRsmRQN7YxssBv8AQUgca+Patp0rG1+qPI4tW038XBTh8S/k47edJFDxsHU8GUgg+YqpWVTre0lsUm2iyuXDOLTMXFwkY2nYKOGTzJ4AdpPYN5pVTOx8MU2eqaLLZcME2xk1M0NIX/O50KeiVgjYYYBsbUrj4LMBgKd4Gc72IFt0/C/DQ3l1ZedK078JDeXxP/7YZtLW8MkLx3Gz1TqVbaOyMHv5HsPdUhy22ZLqTT3RSml9VpoWbqCLuEcJICJHA7JY0yQRzZQRuzu4VHXYb33iXLTfUceFQyOvkhUjYtsiOQt8URyFv5Qua51jWb7bE29Zw0t+NDpqn0fTTMsl4hihBB6pvXk7mX4C9oPpHeMDjXbj4vC95FZ1bX/bxdVPJd35LcArsKuKmuGgZHYXVuu1IFCSxbgZEGSpXO7bXJxniCR2Vw52GsmG3ddCM1PTo5de3SS6MU7e6R8hT6Q3MhBV1PY6HDKe4iqpdjW1PaaKNkYd1EuGcWZubpIwNtguSAAeJJ3AKOJJ7BvrzVj2WPaMWzzTi3WvaEWxk1Q0FIZBdzoU2QeoiYekNoYMsg+CxBIC8QCc4JwLVp+B+GjvL4mXfStNWJHeXxPr8hzqRJYxQyFAFAR+sXs03zDWQIv5PXst3/Ft9xKGCe6Z/wB1y+f4b0BIaj+wwfNP3mrBknKAqnp+DdVafF6yTPztgbP1bVWD03w/jFv4Zpu+EpmvoyOQKGArDMn0J0MA/wBFx54GSbZ8OsP+Oa+Vaq1+Ms28ndX8KGK+1Ys5mLyW6bbes6go7fOdCGPmajXCMuqMSqhP4l9z1o/Vy0gYPFAgcDAcjacDsDtlh76KMY8orYzCEY8opL9jl1r08bZVjiAaeTOwG9VVGNqVwN5AyABzJA3DJGrIyI0Q43+3zOfMy4Y1ftJ/t8xEksw7dZMTNL/WS4Yjt2R6qDuUAVU79Rvtb57Lwij5Wq5N8m+LZeEEthExBKLtD1WA2WU9quuGU94Naasu6t7xkznpzr6nvCbGTVfWKVJEtrhzIjnZhlb1g28iKU/CyB6LnecYOSQTZtP1BZHuy5S/suOlaqspcE+Ul/I7VJk19SCvdb7KJipm22BwREkk2COIbqlYKe44rxK6EPiaX7mqd9UPikl+5mx1tspWCLNssTgLKrxEnsUSqu0fDNIWwn8LTEL67Pgkn+53aS0NbXGPzi3ilxwMkasR4EjI8q9mzY8aN0Fa25LQW0MTHiyRorHxYDJpt2SG23QkaGTFAFAFAFAR+sXs03zDWQIv5PXst3/Ft9xKGCe6Z/3XL5/hvQEhqP7DB80/easGScoBe191b/pCzeAYEgIkiJ4CRc4z3EEqe5q6MTIlj3Rtj2PMlutj5qu7V4naKRCkiHZZGGCD2H/PnX1DBzasqtTgzilFpmrFd254JDQOhprydbeBcu3E/BRebueQH17hzqH1XU68Sp8/e7I2wg5M+ndB6MS1t4reP1Y0CgniccWPeTk+dfM5zc5OT6s7Ed1eTIUBXGnpdu+uSfgdVEvcojWT70rfVVb1uxucYfIqHqSyTsjDttuc1QJWAoYOPS+RDIw3MimRT2OnpofJlB8q68GbhfFryd+m2OvJg15RO60aZa5c26ErCgXrsEgySFQ3VZHBFBG1jiTjgCDYNTz3QuCHxf0WrWdUeOvZ1/E+/gjI4woCqAAOAAwB4AVV5zlJ7t7lKsslN7ye5iWNWBVgGU8QQCD4g1mFkoPeL2M12Sg94vYnNS9KvHL+aSMWjcM1uWOSpUAvDtHeRjLrneArjgFq2aZmu+HDLqv5Lxo+o/iocFnxL+R3qSJoKAKAKAzQGKAj9YvZpvmGsmBF/J69lu/4tvuJQE90z/uuXz/DegJDUf2GD5p+81YMk5QBQC3rdoTRtyB+fdUrAei5cRyAdzZBx3HIrdTkWUy4q3t9DHCpC1Y9FOipDtxzSyr2LMhHgSq5+upB63muPDxnj2UUPGg9BW1mnV20SxrzxvZj2sx3sfE1GztlZLisluz2kkSNazJqubqOMZkdUHa7BR7yaA1WelIJTiKaOQ9iOrH3A0MbiVrdamK82z6lwq4P/djXZZfEoEIHyG7Kg9ZobirV25MrXqLFcoxuj25MjqrRT9grANM1sZ2S1Xe07bB7o+MznsATa8yo5ipPS8d2XKXZcyY0XFd2Qpdo82ebE5UseLSSs3zjK5b6616nJvJluatYk5Zk9/J0VwEWFDJm2JFxbEcRcR48DlG/us1S2jN/iOXhk56fbWXt8mWfVsL0FAFAQGsmsotiIo16ydhtBM4VEzjblbkCQQAN7EHG4EjnycmFEOKZyZmZXi18c/8A2xUl0pevve7dfkxLGijwyrN72qBs1u1v3FsVe71Fc37iSRttNO3sJz1vXrzSYKCR8mRFGD84N5Vtx9be6VqN+L6ifFtdHl5QzT6WjurGWWPI9BlZW3Mjj1kYdo9xBBGQRU/CSkt49GWmFkZxUovdMVPyevZbv+Lb7iV7PRPdM/7rl8/w3oCQ1H9hg+afvNWDJOUBXPSLrpJFIbO1bZcAGaUYyuRkRpng2CCW5AjG85HNkXqtbdyb0fSXmScpfAv5+RWLICSx9JjvLN6TE9pY7z51FysnJ82XyjBx6o8MYL7Hu2YxuJImMcg4Oh2WHmOI7jkV6hfOD5M1ZWmY+RHaUV9V1Li6PdbDeI0U2PziMAsQMCRDuEgHI53MORx21LU2qyO5891LT54VvA+afRnZrdp9oNmGDHXyAnaIyI4wcGQjmc7lXmcngprVl5UcevjfXwQOfmwxauN9eyEoWalusfMkh4ySem58zwHcuB3VVL866185P6dikZOpZF73lLZeAnso3xtIpxvBwMg9oPEHvFaq8myt7xkzRVmXVPeMmv3JXRV31mLG8LSwy7oZGJ6yORfSVS/E8Mq535GCTkVZNPzvxKdc+v8AZbtK1JZkXValv/aM3urd7CTsKLlOTIyRy/TRyEPirb/iitGRoqk963scuV6dUm5Uy2+TNEGh76Q4W1MfyppIwo8o2die7A8a0VaJNv35fY56fTlu/wDySW3y6jdq3q6tqC7N1k7gB5MbIwN4SNcnZUHlkkneSanqMeFMeCCLPi4lePDhrWwoabsjbXLoRiOZmlhblljtSxfODEsB8Vt3A4gtYxJcXto9O5WtfwJcf4iC5dzTUCVcKBHdqlZG4uhLj9VbFjtcmnKlAo7dhXYnsLLzBxZtIxHXF2z79PoXLQMGVad0+/T6Fh1OFkMVgATjeeFAVLYzmYG5bO1OeuOeIDAdWn0U2F+jVO1S92XtdlyPn2s5ErcmS7R5HVUcRIUMo821yYnkAPo3ELow/wC5Gpkjbx2VkXv9HsFWTRMhtOt9i3enMmUlKl9FzR0fk9ey3f8AFt9xKnyzk90z/uuXz/DegJDUf2GD5p+81YMk7QHzfPcGR5JW9aSSRz4s5P8AjjyqFyXvYz6dotSrw4bd1v8Ac8VoJYKAndRLgx6RtivwmaNu9XjbI96qfKu3Cb49iseqKlLHU+6Y1aVkL3l0x4iRYx3IkSED+Z3P0qjNbm3co+EfDvUVjd0YdkjVUIV0KA5NKPsxM44piRfnRsHX61FdunzcciG3kkdKm4ZUNvOxbYNXX5H0UKAidYNZLayUNPJgtnYRQWd8cdlBvx3nAHbWJSUVzNtNFl0uGCbfyEbS3SNbXCGKSxleJuO08asMbwy7JOyw4ghgR21zPKq6PmS3/jmbOPOK+jZo0HHFeNsWt4UfeeovIQ0mPkSRyKHA+kcca45aZi3e9H+GVTP9L11y/wCSDi/l0GS11HYn/ebksvNIEMIIxwZy7P8AylTW6nS8eqW6W7+Zpx9FxaZcW27+ZFa2a6i0P5jo9EUxDYZ9kbERx+zjTgzjOSTuB3HaOQOi7IVX1Lfpej2Zj4nyh5/6EG50zdyHae7uGPdNIo8kQhR5CuB5djLbV6dwoLZxb/dkpoTXa9tmH61riPnFMxYkfJlOXB8SR3VtqzXvtIj8701W4uWO9n47Fw6H0nFeW6yxHKSAgg7ip4MjDkRwqSTTXIpc65VycZcmis9EoViWNvXiHUv8+L9W3vK5HcRVK1CtwyJL57nzfVanVlTT7vf7nZXER4VlBGnqeslAH/CjlmbuHVtEgPiZCR27Bqf0Ot8Up/sWn03S+KVnbbY7PyevZbv+Lb7iVYy2E90z/uuXz/DegJDUf2GD5p+81YMk7QHz/rPoprW7mhYYG20kR+NE7FlI7cZKnvXvqKy6nGXF5PoPp7Njbjqr9Uf6IyuMsS6BQzuN3Rfoppr0TY/V24LE798jqUVR24DMx7PR7akcKvbebKX6nzIvhoi/mxh1ptTDesx9S5AdW3461EVJE7ASqIwHPD9lcOtY7aVq7cmfJ/UOI5bXR6LkziqtlRYUB5itDcSx2y/DYNJ8mFGDSE9mcbA737ql9IxnO32nZE7oWI7L/ado/wBlpmrWXk4dN6SW1t5bhxlY0L4HFiOCjvJwPOm+3NmYxcpKK6lAXt5LPI007bUr72PIdiqOSjgB/iTULfa7JH07S9PhiVJJe8+rNNaCUQAkEEEqykMrKcMrDgynkRWyuxwe6OXLxK8mDrmupb2gtcGl0ZPcuAZ7aOQSDgGdI9pGHYHGz4HI5VM1zUo8SPmWXiSx73UyoEBxvJJ4sx4ljvZie0kk+dQ1s3KTZ9NwseNFEa49EjNazrChhj50P35W4nt8+jJH1wHY6MqMfMOn8lSmHPijt4KF6mxo13xsX6lzGjWjVuRpDc2oDO2OuhJA6zAADox3CQAAb9zALvGM15z8GOTHw10KJqWmxzIb9JLuKct8qbpQ0TDisqsh/vDB8QSKrlmm5MHtw7/QqNukZdctuDf6czfaiSc7NtE0p+NgrGO9pSNnHcuT3Vux9Jvsl7y2R0Yuh5FkvfXCvmNUegha2dxtNtyyITLJjAJA9FVHJFycDvJO8mrPRTGqChHoXPGx4Y9arh0Qvfk9ey3f8W33Ercbye6Z/wB1y+f4b0BIaj+wwfNP3mrBknKAh9ZtW4L6MJKCGXJjkXAdCeODzBxvU7jgdgrEoKS2kbqMiyifHW9mitr3o0vkJ6toZl5HaaNvNSCP71cMsJdmWmj1VJLa2H2Zu0f0ZXB9K6mjhjHrbB22xj4zAKvic16rwknvJ7mjK9TWTXDVHb5j/oS40fbottbzQAL8ESoWJPEnflmPbxru4Gl0KxObnLik92SOlNGxXEZilXaU4PEggjeGVhvVhxBHCvLSa2Z4lFSWzXITrnVK7jOInjnTl1hMcmO8hSjHvAXwqFv0aE3vB7FeyfT1c5cVctvl2NUOrN8/rCGEc2ZzIR4IqgHzavFeiJP35fY1U+nEnvZP7E7oL+j7TKLdRNK+DI7yx7bkcAcHAAycKNwye01NV1Qqjwx5FipprpiowWwyA53jhWw3Cl0qqTo2XHASW5bwFxH9m4+Va7fgf0OrB2WTXxf7L+ymqgj6ygoegoeWOnRzo1riDScIOBLBHEDyEjLOAfLK+8VLYe/sz5/6kkvxi4euyEpc8wQwyGU8VYHDKe8EEeVRtkHGTTLtg5Eb6I2R7ozWs6woYY+9D9gWuJ7jHopH1IPa7srsPIIn84qVwobRb8lC9T5EZ3xrX6V/ZatdhWQNAZoCO1i9mm+YayYEX8nr2W7/AItvuJQE90z/ALrl8/w3oCQ1H9hg+afvNWDJOUAUBDa26xR2Fs1xJvxhY0zgvIfVUe4knkATW6iid9irgubMNpLc+ddZdZrq+cvcSEjPoxjIjTuVP8Tk99fQtP0LHx4pzW8vLOSVrZDbI7BUq8aprZxWxr3Y8agdIE1jIscztJakgMrEsYhw24+eBzXhjON9VbWtDioO7HWzXVG6u3tIvu/0hHDC07t+rVNskb8jG7ZA4k7gBzJHbVL3S5nS2kt2VvpK5lvDt3Odj4Nvn9Wg5bYG6R+0nIzwA51jN1ScpOFT2XnyUzUdasnJwpe0V3XVmv8AN0xjZXHDGyMe6on209992Qft7N9+J/c2aOupLM7dvkoN72+fQcc9gHcj9hGATx7RLYGpzjJQse6ffwTmma1ZCahc94vv4LBkSG+tSM7UNxERkbjsuv1MM+RFWdbNF0jLpJMojS2i5bWZrecemvBsYWReUidoPMcjkGofIocJb9j6TpGpwyqkm/eXVHJXMTaZlFLEKqlnY7KooyzMeAArZXXKb2Rx5mXXjVuc2XjqNq+bK1Eb4MrsZJSOG2QBsjuVQq9+CedTUIKC4T5hl5Msm6Vku4v68agtO7XNoVErb5ImOFkPx1b4LnnnccDgck6rseNn1JDS9YtwnwvnHwV3caEu4zsvaXAPdE7jyZAVPka4HiWIttXqHClHdy2/YltCai3tyw2ozbx83lGGx8iL1ifnYFbqsN77yI7O9S1qLjQt358FpQSWWjIY7cypEAPRDMNtyfWbA9JiTvJArve0V4KXbdxNzsf7szb622LsFFwiknC9ZtR5PIAuACe4ViNkH0aZpjdXJ7Rkn+5OV7ZtMUBH6xezTfMNZAi/k9ey3f8AFt9xKGCe6Z/3XL5/hvQEhqP7DB80/easGScoAoCmOn27YzWsO/ZWOSTHIlmCe8BD/Me2rT6WqjK+U32X9mi97Iqqr4jlCsmDNeZJNNMyXFo/SDy6G0Yj/CnMbdhS3Fw0Q8jDEfoGvjOvL2CuUez2/k86nZKGFOS8HRXz8+eszQ8hWV5PSGTo5lPVXEXwY7lgvhJHHOw/nlc+Yq66fNzxoN+D6LpVjsxISfj+id01oW3u06u4jV1G8ZyGU9qMMMp7wRXW0n1JKFkq3xRbT+QoydFVqWytxcqvxdqE47gWiJ9+a0/hq3z4SUWt5yjsp/0MOr+qdpZnahj/AFhGDK5LvjmAx9UHsUAd1bYwjFbJEffk23veyTZOV6NIUBmgF3XDTbQKkUOOulzssRkRouNuUg8cZAA5lhyBrmyslUVubOPOy44tTsf7fUSoLdVJbeXbe8jHLue1m4n7ByxVQyMqy6W8mUHKzbsiXFNmx1BBBAIO4g7wfEc60RnKL3RzQnKL3T2O7VvS7WbpEzE2rEIAd/UMxwuyf6skhdn4OQRgZqy6bqLtfs7OvYuGj6s7n7K7r2fksWposZHaxezTfMNZMCL+T17Ld/xbfcSgJ7pn/dcvn+G9ASGo/sMHzT95qGScrAM4oCsOnLQLywRXaAnqCyyAf1b7Pp+Csu/uYnlU1oWasbJ958pcvoarY8SKSIr6VFprdHGYr0YPUaMxCqCzMQqqOJYnAA8a5MzJhj1Ssn2PUY7vYvu70GINFW8CenLalZsLtHaf0/zgL2krNLgczivkOenkxmn1lubsvH9tRKryiLhlV1DKQVYAgjgQd4Iqh2VuEnGXVHze2uVcnCS5o914NZ4mlVFLMcKoySeQrZXXKySjHubKqpWSUIrmxs1Lt5IbfLxMHmdpnG/I2gFRT3iNIwe8Grxj1eyrjDwfSsSj2FMa/CJ786b+rb/7yrcdAfnfyG91AH56Pit7qAPz5O/3UB6F6nb9RoD2twh+EPfQCBrPJtX8vYsMCr4EyMceZ/u1Xtcm/dRU/Us3vCPY4qrxVWFAaL2ING6twKsD4EGt2PJxsi15OjFm4XRkuu5ZWg5me2gd/WaGNm8SgJq+H01dOZ41i9mm+YayZEX8nr2W7/i2+4lDBPdM/wC65fP8N6A6NVrxIdGxyyNsoiEse7bPAczyA51htLmw2kt2LekNNXNySWd4Ij6sUbbL47ZZF35+SpAHDLcar2XrDTcavuVTP1+Sk4UfcjxaAHIaUN8YTTBv5g+ajlqWSnvxEStYy1LfjbJWw1jmhIjuHEtu3omSQAvHtbv1hG54znBJGVzkkjJE3p+pq58FnKX9lj0vWfxDVdvKX8P/ANkVrH0OByZLKZUJyepkB2M/IYb1HcQeO7HCrrg6/fjJRl7yJqdSkLcXRBpItgm3UZ9brGO7tACZ+ypZ+q1w8q+f1NfsPmWLqT0bW9gRNIevuMbnIwqZ49Wu/B5bR3+GTVcz9TvzH/yPl4RuhBRHZUA4AVHnsU9L6nZdpbR1jLEs8TgmJmOSzLjfGxJycZBO/GSTXBlafXkc318kZm6XTlc5cn5In9HtIcOph8evOz+FtfVUZ+Rvf4+RDf8AjT3+Pl9CY0Pqfsust06yMpDJGoIiVhvDHO+RhyJwBxAyM1KYuBVj9Ob8k1haXRi81zfka67SSCgCgM0BigMFAeQ91AeDbp8Ue6gEvXfR3VSJdKP1ZURTY+DhiYpD2LlmUnltKeANRmqYruq3j1RC61hPIp4o9Y8yHqotbFEa25BWDBzzxGVltkPpS+iSPgRcJJD2YB3drFRUppmI7rVJ9ETOj4Mr71Jr3VzLVgChQExsgAADkAMAVbi+nFrF7NN8w1kCL+T17Ld/xbfcShgnumf91y+f4b0AtTXe1a2FvyxJM/f1bAIvhtSBvFBUbqtrrx3t35ERrd7qxXt35GapxQQoDy6AggjIIwQeYPEV7jJxaaPcJuLUl2HTUW6aSyj2yS0ZkhJJyT1MjRKxPMlVBPjV6pnx1qXlH0zGs9pVGflInq2m8zQEReaz2MTFJLuBGHFTImR4jOaw2kelCUui3O6wv4p124ZUkX4yMrD3g1k87bHRQBQBRAr/AF76TYrJ2t7dBNONz5OI4z2MRvZvkjGOZHCpXT9JvzXvFbLya52KJXM3SrpRmyJY1HxViXHh6WT9dWSPpSnbnN7mn8Qxp1T6YCXWO/RQpOOvjBAU8jIhJ3d4O7sqI1H0/bjR463xL+TZC5PqW4rAgEEEEZBG8EHgQarpuM0B5lkVQWYhVHEkgAeJNDBDSa1aObKNd2xBBBBkQqc7iCc48qxxLfbc8ucd9tyIuNTBuaznCId4Rx1sYH/bYMGUd2SByxXBkabTc92tn8iNy9Hxr3xdH8jTFqbdE4e4hQczHGzNju22AB8QfOueGi0xfNtnJX6doi95NtDLoXQUNqpEYJZsGSR/SdyOG0ewcgAAM7hUrXXGtcMVsTlVUKo8MFsjqe0HFDsnu4V7NhHaduSLeZZBg7BweRrJgT/yevZbv+Lb7iUBPdMo/wD8ubz/AA3oBdmt8WNjcj1VLxyHsWVgFY/TjRfp1HanS7cdpdVzIvWMd3YrUeq5nmqafPmFAa5pVRWdjhVBZieQAyTWyuDnJRXVmyqt2SUI9Wx51Lsmhs4g4Ku23K6nirSyNKUPeu2F8qvVUOCCj4Wx9Nor9nXGHhE5Ww2FPa/a4yXEj28DlLdCUYqSDKynDekN+wCMYHrYJ3jFcOTk8PuxLXouiq5e3v6dl5+omIoAwAAOwbqjnKT6suldFcI7Rikb7C6kgkEsDmOQfCXn3OODDuNbar5wfyODP0rHyotSWz7NdS7NStZVvoNogLKh2ZUHANjIZc/BYbx5jlUvXNTjuj5zl4k8a11z7DBXs5iE130wbOxnuF9dEwnP9Y7LGhx3M4PlW2iv2lkYeXsYb2R8wMxJySSTvJJySTxJPMmvrOLjxoqVceiOCT3e55ro2PJmvMknyZlF7dCGm2ms3t3OWtnCr/4nBKDyKuPACvmOtYixspxXR80dtUuKI96V0glvC80mdlFycbyeQVRzYnAA5kiolvbmz22km2VreSSXTdbdYY5ykOcxxdgC8GYDi53k5xgYFVXN1OdknGt7RKRqWs23ScantH+z3jdjl2VFccvJCe0l5PFnLLat1lrgHOWhJxFL2gjgjHlIBnPHaG6pbC1OdclGznH+ic07WbapKFr3j/RZWitIJcQpNHnZcZGeIIOGVhyZSCCORBq0J7rcu0WpLdHVWTIUBF60RhrSYH4h99ZMCR+Tt7JdEcPzpsH/APNKAsXWTRYuraSA/DUgZ7f/AHw86Arjo20iFEuh7wemm0oV+EkZ3Y38cj680fzH1OvSOrNzbk9SpuYfg4ZRMi9jByFkA+MCG7id5g8vSFNuVT2+RXM/QY2y4qXs/HY4epnJIW1uS3Z1RX+85C/XUetGyG9nsl53ImPp/Lctnsl53JvQeqcrust4FVVIZLdSGyw3hpm4HB3hFyMgEluAmcLTYY/vPnLyWLTtIrxffl70vPgdakiYOHT1y0VtPIvrJDIwx2hCRQyubPniFcKoHIAfVUDNtyZ9bxa1CmMV4R7rwdAUGw4dFE7LflR6skD7Q+YyFT5bTD6VSODJ80Uz1XWlwT79C4qkCnCl0rWbS6KuQvFAkv0Y5Fd/7qtXVhWKu+En2a/s8yW6PnE19ahJNbo4DFejAVhmS5OgGxYR3c59V3jjXvMasz/iL7jXzr1Hcp5fCuyOulbRGvpFkOxbJ8F7kbXeEhmkUfzojfQqpajNxxptHHq03DDm14FyqUfO9woAogMfR1Idi6T4KXR2e7bt4JGH8zsfpVddOk5Y0N//ALmfRNIk5YcG/H/6NtdpJBQFddMGtQt4PzWIlribCqq7238Nw35yQceA51kwM3Rhqz/R2j44GAErZlm/8j43fRAVfo0A2UAma+ajLe4mhbqbqPfHKOZ7G7qAgNB6/wAlu4s9LoYJhuWbB6uTlnNYM7lhxSqwDKQyneCDkEdxoD1QBQHieEOrI29WUqR3EYP20B886R0a9tK9vJ60Zxk/CX4DjtDDf45HKobIqcJfI+l6NnxyceK395LZnNXOTO4UPMnsWL0Q6HbakvWGFK9TEfjekGkYd2VVc/JNS+JXwR3fc+e+oc6OReoQ6R/ss2upFeBlBGCAQdxB4EdhFDJQWvnRtPaO0tqjS2x3gLlni+Sw4so5MM7hv4ZNw0fX4wgqsj9mc9lXdCAxA3E4I4g/41aY52O1xKa2+pz8L8DHqpqXd37DqkKRbtqd1IQDtX457h5kVD6j6gpqi40vil/CNsKm3zPorQOiIrSCO3hGEQYGeJJOWY95JJ86oNlkrJOcnzfU6ktuRw66aNee2zGu1LE6zRrzYqCHQd7IzqO9hXNkVe1rcPJoyqFfTKvyhIgmV1DKcgjIP/3A91Ue2uVcnGXVHza6mVU3CS2aNlazUa55lRSzHAAyf/Q5nurbVVKySjHqzbRTK2ahHqx31K0a8FsOsXZllZppF5qXwFQ96osanvU1eKKvZVqHg+k4tCpqjWuxOOwAJJAA4k7gK2nQV3rV0lqH/NNGobq6b0RsAsqnhnI449wrJg6ej/o7eGU3+kWE1429RxWHPZ2t38By7aAsmgCgCgI/TOhbe7jMVxEsiHkw4eB4igK/l6Pr6wYvoi8ITj+a3GWQ9yty/wDt9AYTpHmtTsaVsZrc8OujBkiPfkcPImsGRs0LrVZXYzb3Mbn4u0A3mpwfqoCZoCC1o1Wt75QJMrIvqSpgOvdvGCp+Ka8ThGa2Z0Y2VZjz4q3sxAuui+8U/q5oJB2ttxnzUBh9dcksKL6Msdfqq1LacE/nuSWhui30g15MHUf8KIEA9zSH0iO4AeNbK8SEHu+ZxZvqHIyI8MVwr5dyxreFUVURQqqAqqoAAA3AADgK6iBPdAFAZoDS9rGTtFEJ7Sqk+/FAbaAKAKAWNNaoLI7S28nUyMcupXaicnixQEEN8pSM8wa5MnCqyPiXPyR+Zp1OUt5rn5Ij9Fr/ADjFtj43WS/d6r/Go38jhv8AH/BD/wDjcN/je30Pa2ljYsJtIXkTSKcohwqIw4MkWSzMPjEnHLFSWNg1UfD1JjD02nG5wXPycVz0qCduq0XZzXcnDa2SsY7yeI88V2Eg2a11J0tpIhtKXQghO/8ANrfjjsZvV+tqGB/1Z1VtNHpsWsITPrNxdvnOd58OFATVAFAFAFAFAFAeZIwwIYAg8QRke6gFLTXRnou5JZ7ZUcnO3ETGc9vo7j5igIX/AGb3luP9x0vcRjkkwEqju37h7qA8j9JYOMdldqPisY3Pv2VHuoDz+nWkYvatCXI74D1o/urj66AP9rdkn7eC7g/8sOPsY0MnTD0taHb/AJor86Kb7QhFYMEjF0haKbhfQ+ZI+0UMm1detGH/AJ63/tFoDJ150YP+et/7Rf8AOgNMnSDopeN9D5MT9goCPm6WNDr/AM1tfNimP17GKyDkbpf0ed0Md1OeyKHJ/vMKGDz/ALQr2U4tdC3b/KlzEvv2SProDJuNZp/UtrS1B5yPtsP5Sw+qgM/7PNJ3A/37TEuDxjt12B4bQxkeK0BKaI6JtFQb2gM783nYvk9pXcv1UA621skahI0VFHBVAUDwA3UBtoAoAoAoAoAoAoAoAoAoAoAoAoDFAclxouCT14Yn+cin7RQEdNqbo1/WsLUnt6iLPv2aA1HUPRf/AEFt/ZJ/lQGBqHov/oLb+yT/ACoDZHqVoxeFha/2ER+1aAkLfQttH6lvCnzY0H2CgO4DG4UBmgCgCgCgCgCgCgCgCgP/2Q==\" width=100>"
   ]
  },
  {
   "cell_type": "markdown",
   "metadata": {},
   "source": [
    "$\\Omega = \\{B, B, B, R, R, R, R, R, R, R, G, G, G, G, G, G, G, G, G, G\\}$"
   ]
  },
  {
   "cell_type": "markdown",
   "metadata": {
    "lang": "en"
   },
   "source": [
    "3 blue, 7 red and 10 green"
   ]
  },
  {
   "cell_type": "markdown",
   "metadata": {},
   "source": [
    "$P(red)=\\frac{7}{20}$"
   ]
  },
  {
   "cell_type": "markdown",
   "metadata": {},
   "source": [
    "$P(blue)=\\frac{3}{20}$"
   ]
  },
  {
   "cell_type": "markdown",
   "metadata": {
    "lang": "en"
   },
   "source": [
    "**Experiment example**: 3-letter words with letters A, B, C, once each"
   ]
  },
  {
   "cell_type": "markdown",
   "metadata": {},
   "source": [
    "$\\Omega = \\{ABC, ACB, BAC, BCA, CAB, CBA\\}$"
   ]
  },
  {
   "cell_type": "markdown",
   "metadata": {},
   "source": [
    "$P(\\text{begins with an A})=\\frac{2}{6}$"
   ]
  },
  {
   "cell_type": "markdown",
   "metadata": {},
   "source": [
    "$P(\\text{contains an A})=\\frac{6}{6}=1=100\\%$"
   ]
  },
  {
   "cell_type": "markdown",
   "metadata": {
    "lang": "en"
   },
   "source": [
    "**Experiment example**: what is the probability of winning the lottery. Numbers 00000 to 99999"
   ]
  },
  {
   "cell_type": "code",
   "execution_count": 117,
   "metadata": {},
   "outputs": [
    {
     "data": {
      "text/plain": [
       "1e-05"
      ]
     },
     "execution_count": 117,
     "metadata": {},
     "output_type": "execute_result"
    }
   ],
   "source": [
    "#[1] [0] [9] [7] [9] [0] \n",
    "1/100000"
   ]
  },
  {
   "cell_type": "markdown",
   "metadata": {},
   "source": [
    "**Experiment example**: what is the probability of winning the lottery. Six different numbers out of 49."
   ]
  },
  {
   "cell_type": "code",
   "execution_count": null,
   "metadata": {},
   "outputs": [],
   "source": [
    "[47] [3] [29] [18] [8] [1]"
   ]
  },
  {
   "cell_type": "markdown",
   "metadata": {},
   "source": [
    "$$V_6^{49} = \\frac{49!}{(49 - 6)!}$$"
   ]
  },
  {
   "cell_type": "markdown",
   "metadata": {
    "lang": "en"
   },
   "source": [
    "## Compound Events"
   ]
  },
  {
   "cell_type": "markdown",
   "metadata": {},
   "source": [
    "![blowing](https://media.giphy.com/media/SACoDGYTvVNhZYNb5a/giphy.gif)"
   ]
  },
  {
   "cell_type": "markdown",
   "metadata": {
    "lang": "en"
   },
   "source": [
    "### Union and Intersection"
   ]
  },
  {
   "cell_type": "markdown",
   "metadata": {
    "lang": "en"
   },
   "source": [
    "$A$ and $B$ are events\n",
    "\n",
    "$A \\cap B$ (A intersection B) is another event, which occurs if **both** $A$ and $B$ occur\n",
    "\n",
    "$A \\cup B$ (A union B) is another event, which occurs if **any** of $A$, $B$ occurs"
   ]
  },
  {
   "cell_type": "markdown",
   "metadata": {},
   "source": [
    "<img src=\"https://encrypted-tbn0.gstatic.com/images?q=tbn:ANd9GcR-vUFnw2J54Zsb3G_zuJb9EFblFaW6obYu0A&usqp=CAU\" width=500>"
   ]
  },
  {
   "cell_type": "markdown",
   "metadata": {
    "lang": "en"
   },
   "source": [
    "Intersection example:\n",
    "In the sample space above, the probability that a word begins with A and ends with C\n",
    "    $\\Omega = \\{ABC, ACB, BAC, BCA, CAB, CBA\\}$"
   ]
  },
  {
   "cell_type": "markdown",
   "metadata": {
    "lang": "en"
   },
   "source": [
    "**Experiment example**: draw a card from the deck"
   ]
  },
  {
   "cell_type": "markdown",
   "metadata": {},
   "source": [
    "<img src=\"https://www.casino.es/imagenes/juegos/mus/baraja-espanola.jpg\" width=600>"
   ]
  },
  {
   "cell_type": "markdown",
   "metadata": {},
   "source": [
    "$P(king)=\\frac{4}{40}$"
   ]
  },
  {
   "cell_type": "markdown",
   "metadata": {},
   "source": [
    "$P(coins)=\\frac{10}{40}$"
   ]
  },
  {
   "cell_type": "markdown",
   "metadata": {},
   "source": [
    "$P(king \\cap coins)=\\frac{1}{40}$"
   ]
  },
  {
   "cell_type": "markdown",
   "metadata": {},
   "source": [
    "$P(king \\cup coins)=\\frac{13}{40}$"
   ]
  },
  {
   "cell_type": "markdown",
   "metadata": {
    "lang": "en"
   },
   "source": [
    "In this case we have the sample space in front of us and we can see and count the cards and we understand the theory with simple examples. We are not wrong and intuition does not fail us saying that the probability that it is gold and that it is a king is the sum of both because we realize that we are counting the king of coins twice, but the problems we face are not always they will be that simple. For this we have the formula:"
   ]
  },
  {
   "cell_type": "markdown",
   "metadata": {},
   "source": [
    "$$P(A \\cup B)=P(A)+P(B)-P(A \\cap B)$$"
   ]
  },
  {
   "cell_type": "markdown",
   "metadata": {
    "lang": "en"
   },
   "source": [
    "The probability A union B is the probability of a + that of b subtracting the intersection of a and b (the king of coins)"
   ]
  },
  {
   "cell_type": "markdown",
   "metadata": {
    "lang": "en"
   },
   "source": [
    "### Contrary"
   ]
  },
  {
   "cell_type": "markdown",
   "metadata": {
    "lang": "en"
   },
   "source": [
    "$A$ is an event\n",
    "\n",
    "$\\overline{A}$ is the opposite event"
   ]
  },
  {
   "cell_type": "markdown",
   "metadata": {},
   "source": [
    "$P(\\text{no gold})=\\frac{30}{40}$"
   ]
  },
  {
   "cell_type": "markdown",
   "metadata": {},
   "source": [
    "$P(\\text{gold})=\\frac{10}{40}$"
   ]
  },
  {
   "cell_type": "markdown",
   "metadata": {},
   "source": [
    "$$P(\\overline{A}) = 1-P(A)$$"
   ]
  },
  {
   "cell_type": "markdown",
   "metadata": {
    "lang": "en"
   },
   "source": [
    "**Experiment**: we shot 3 free throws. 1/2 chance of scoring each. What is the probability of marking at least one?\n",
    "$\\Omega=\\{111,110,101,100,010,011,001,000 \\}$"
   ]
  },
  {
   "cell_type": "markdown",
   "metadata": {
    "lang": "en"
   },
   "source": [
    "$C$: fail all\n",
    "$P(C)=\\frac{1}{8}$"
   ]
  },
  {
   "cell_type": "markdown",
   "metadata": {
    "lang": "en"
   },
   "source": [
    "$\\overline{C}$: enter at least 1\n",
    "P($\\overline{C}) = 1 - \\frac{1}{8}=\\frac{7}{8}$"
   ]
  },
  {
   "cell_type": "markdown",
   "metadata": {
    "lang": "en"
   },
   "source": [
    "## Conditioned Probability\n",
    "### THE intuition"
   ]
  },
  {
   "cell_type": "markdown",
   "metadata": {},
   "source": [
    "![ungifdelaintuición](https://media.giphy.com/media/P6Sb3j2wCBveXepxNu/giphy.gif)"
   ]
  },
  {
   "cell_type": "markdown",
   "metadata": {
    "lang": "en"
   },
   "source": [
    "$P(A|B)$ The conditional probability of A from B is the probability that $A$ occurs, knowing that $B$ occurred"
   ]
  },
  {
   "cell_type": "markdown",
   "metadata": {},
   "source": [
    "<img src=\"../images/gatos.jpg\" width=500>"
   ]
  },
  {
   "cell_type": "markdown",
   "metadata": {
    "lang": "en"
   },
   "source": [
    "Give approximate answers:\n",
    "- What is the probability that a cat is a female?:\n",
    "- What is the probability that a cat is female and 3 colors?:\n",
    "\n",
    "P(A|B)\n",
    "\n",
    "- Given that a cat is female, what is the probability that it is 3 colors?:\n",
    "- Given that a cat has 3 colors, what is the probability that it is female?: "
   ]
  },
  {
   "cell_type": "markdown",
   "metadata": {},
   "source": [
    "![gatetes](https://media.giphy.com/media/3o72EX5QZ9N9d51dqo/giphy.gif)"
   ]
  },
  {
   "cell_type": "markdown",
   "metadata": {},
   "source": [
    "$P(\\text{female}) \\sim \\frac{1}{2}$"
   ]
  },
  {
   "cell_type": "markdown",
   "metadata": {},
   "source": [
    "$P(\\text{3 colors} \\cap \\text{female}) \\sim \\frac{1}{8}$"
   ]
  },
  {
   "cell_type": "markdown",
   "metadata": {},
   "source": [
    "$P(\\text{3 colors} | \\text{female}) \\sim \\frac{1}{4}$"
   ]
  },
  {
   "cell_type": "markdown",
   "metadata": {},
   "source": [
    "$P(\\text{female} | \\text{3 colors}) \\sim 0.9$"
   ]
  },
  {
   "cell_type": "markdown",
   "metadata": {
    "lang": "en"
   },
   "source": [
    "Why these questions? So as not to make a mistake when we are talking about these cases in data problems.\n",
    "I can say that more or less 95% of tri-colored cats are female, but I cannot say that 95% of females are 3-colored.\n",
    "The conditional probability is not symmetric and can lead us to error, as a data scientist we have to think, for example, if we have data on the Titanic, and we say what is the probability that a person would survive on the Titanic if she was a woman. We know that 60% of the women survived. Now, what is the probability of a survivor being female? Of the people who survived, 90% were women."
   ]
  },
  {
   "cell_type": "markdown",
   "metadata": {
    "lang": "en"
   },
   "source": [
    "### Formal Definition"
   ]
  },
  {
   "cell_type": "markdown",
   "metadata": {},
   "source": [
    "$$P(A|B)=\\frac{P(A \\cap B)}{P(B)}$$"
   ]
  },
  {
   "cell_type": "markdown",
   "metadata": {
    "lang": "es"
   },
   "source": [
    "$P(\\text{3 colors} | \\text{female})=\\frac{P(\\text{3 colors} \\cap \\text{female})}{P(\\text{female})}$"
   ]
  },
  {
   "cell_type": "markdown",
   "metadata": {
    "lang": "en"
   },
   "source": [
    "### Misleading examples from real life"
   ]
  },
  {
   "cell_type": "markdown",
   "metadata": {
    "lang": "en"
   },
   "source": [
    "Pfizer announced a 90% efficacy of the COVID-19 vaccine <br>\n",
    "This should mean $P(\\text{infection} |\\text{vaccine}) = 0,10$"
   ]
  },
  {
   "cell_type": "code",
   "execution_count": null,
   "metadata": {},
   "outputs": [],
   "source": [
    "# The probability of infection knowing I got a vaccine is 10%"
   ]
  },
  {
   "cell_type": "markdown",
   "metadata": {
    "lang": "es"
   },
   "source": [
    "[Article on the Pfizer vaccine](https://www.pfizer.com/news/press-release/press-release-detail/pfizer-biontech-covid-19-vaccine-demonstrates-strong-immune) 💉"
   ]
  },
  {
   "cell_type": "markdown",
   "metadata": {
    "lang": "en"
   },
   "source": [
    "After reading the article, we see that what really happened is:\n",
    "\n",
    "$P(\\text{vaccine}|\\text{infection})=0.10$"
   ]
  },
  {
   "cell_type": "code",
   "execution_count": null,
   "metadata": {},
   "outputs": [],
   "source": [
    "# Out of those infected, 10% was vaccinated"
   ]
  },
  {
   "cell_type": "markdown",
   "metadata": {
    "lang": "en"
   },
   "source": [
    "\"99% of tricolor cats are female\"\n",
    "**is not the same as**\n",
    "\"99% of female cats are three colors\""
   ]
  },
  {
   "cell_type": "markdown",
   "metadata": {
    "lang": "en"
   },
   "source": [
    "## Compound Events"
   ]
  },
  {
   "cell_type": "markdown",
   "metadata": {
    "lang": "en"
   },
   "source": [
    "### Independent Events"
   ]
  },
  {
   "cell_type": "markdown",
   "metadata": {
    "lang": "en"
   },
   "source": [
    "If several events are independent, the probability that **all** occur is the product of their probabilities"
   ]
  },
  {
   "cell_type": "markdown",
   "metadata": {
    "lang": "en"
   },
   "source": [
    "$A$, $B$ independent $\\Rightarrow$ $P(A \\cap B)=P(A) * P(B)$"
   ]
  },
  {
   "cell_type": "markdown",
   "metadata": {
    "lang": "en"
   },
   "source": [
    "**Exercise**: What is the probability of throwing three dice and getting three fives?"
   ]
  },
  {
   "cell_type": "markdown",
   "metadata": {},
   "source": [
    "$P(\\text{three fives})=\\frac{1}{6}*\\frac{1}{6}*\\frac{1}{6}=\\frac{1}{216}$"
   ]
  },
  {
   "cell_type": "markdown",
   "metadata": {
    "lang": "en"
   },
   "source": [
    "**Exercise**: We draw a card from the deck and put it back. We draw a card again. What is the probability of having drawn two aces?"
   ]
  },
  {
   "cell_type": "markdown",
   "metadata": {},
   "source": [
    "$P(\\text{two aces})=\\frac{1}{10}*\\frac{1}{10}=\\frac{1}{100}$"
   ]
  },
  {
   "cell_type": "markdown",
   "metadata": {
    "lang": "en"
   },
   "source": [
    "⚠️ Be careful, in general, if we do not know if two events are independent or dependent we should not use this formula, in fact, it is normal to find dependent events 🦄"
   ]
  },
  {
   "cell_type": "markdown",
   "metadata": {
    "lang": "en"
   },
   "source": [
    "### Dependent Events"
   ]
  },
  {
   "cell_type": "markdown",
   "metadata": {
    "lang": "en"
   },
   "source": [
    "If several events are dependent, the probability that they all occur is **not** the product of their probabilities"
   ]
  },
  {
   "cell_type": "markdown",
   "metadata": {
    "lang": "en"
   },
   "source": [
    "$A$, $B$ dependent $\\Rightarrow$ $P(A \\cap B)=P(A) * P(B|A)$"
   ]
  },
  {
   "cell_type": "markdown",
   "metadata": {
    "lang": "en"
   },
   "source": [
    "**Exercise**: We draw two cards from the deck. What is the probability of having drawn two aces?"
   ]
  },
  {
   "cell_type": "markdown",
   "metadata": {
    "lang": "es"
   },
   "source": [
    "$P(\\text{two aces})=\\frac{4}{40}*\\frac{3}{39}= \\frac{1}{130}$"
   ]
  },
  {
   "cell_type": "markdown",
   "metadata": {
    "lang": "en"
   },
   "source": [
    "**Exercise** What is the probability of drawing 4 kings?"
   ]
  },
  {
   "cell_type": "code",
   "execution_count": 125,
   "metadata": {},
   "outputs": [
    {
     "data": {
      "text/plain": [
       "1.0942116205274103e-05"
      ]
     },
     "execution_count": 125,
     "metadata": {},
     "output_type": "execute_result"
    }
   ],
   "source": [
    "p = 4/40 * 3/39 * 2/38 * 1/37 #numbere-05 -> supersmalldecimal\n",
    "p"
   ]
  },
  {
   "cell_type": "code",
   "execution_count": 124,
   "metadata": {},
   "outputs": [
    {
     "data": {
      "text/plain": [
       "91390"
      ]
     },
     "execution_count": 124,
     "metadata": {},
     "output_type": "execute_result"
    }
   ],
   "source": [
    "round(1/p)"
   ]
  },
  {
   "cell_type": "markdown",
   "metadata": {
    "lang": "en"
   },
   "source": [
    "Okay, but... one of how many times? The inverse of the probability is 1 of how many times."
   ]
  },
  {
   "cell_type": "code",
   "execution_count": null,
   "metadata": {},
   "outputs": [],
   "source": []
  },
  {
   "cell_type": "markdown",
   "metadata": {
    "lang": "en"
   },
   "source": [
    "**Exercise**\n",
    "The probability of breaking a glass by throwing a stone from a certain distance is 1/3 (it's my aim).\n",
    "throw 3 stones\n",
    "What is the probability of breaking the glass?"
   ]
  },
  {
   "cell_type": "code",
   "execution_count": null,
   "metadata": {},
   "outputs": [],
   "source": [
    "# three times\n",
    "aim = 1/3\n",
    "not_hitting = 2/3\n",
    "\n",
    "3 times I thorz the rock -> how likely am i to hit th glass?\n",
    "# not hitting the glass:  \n",
    "# Hit on the 1st\n",
    "1/3 #not hitting 2/3\n",
    "\n",
    "# 2\n",
    "2/3 * 1/3 #-> likelihood of not hitting + hitting\n",
    "\n",
    "#3\n",
    "2/3 * 2/3 *  1/3 #-> likelihood of not hitting + hitting\n",
    "\n",
    "# The prob of me not hitting in the first one\n",
    "# times the prob of me not hitting on the 2nd one\n",
    "# times me hitting on the third"
   ]
  },
  {
   "cell_type": "code",
   "execution_count": 126,
   "metadata": {},
   "outputs": [
    {
     "data": {
      "text/plain": [
       "0.14814814814814814"
      ]
     },
     "execution_count": 126,
     "metadata": {},
     "output_type": "execute_result"
    }
   ],
   "source": [
    "2/3 * 2/3 *  1/3"
   ]
  },
  {
   "cell_type": "code",
   "execution_count": null,
   "metadata": {},
   "outputs": [],
   "source": [
    "not_hitting  = 2/3 * 2/3 *  2/3"
   ]
  },
  {
   "cell_type": "markdown",
   "metadata": {
    "lang": "en"
   },
   "source": [
    "Another approach is... what if I don't break it? what is the opposite of not breaking it?"
   ]
  },
  {
   "cell_type": "markdown",
   "metadata": {},
   "source": [
    "$P(not breaking) = \\frac{2}{3} * \\frac{2}{3} * \\frac{2}{3} = \\frac{8}{27}$"
   ]
  },
  {
   "cell_type": "markdown",
   "metadata": {},
   "source": [
    "$P(breaking) = 1 - P(not breaking) = \\frac{19}{27}$"
   ]
  },
  {
   "cell_type": "markdown",
   "metadata": {
    "lang": "en"
   },
   "source": [
    "## Probability tree\n",
    "If something can happen for **more than one reason**, all probabilities must be taken into account.\n",
    "You are one of the goalkeepers of your soccer team. You have 2 trainers.\n",
    "\n",
    "With Coach Sam the probability that you will play is 0.5.\n",
    "With coach Alex the probability that you will play is 0.3.\n",
    "\n",
    "Sam is the manager more often: about 6 out of 10 games (a probability of 0.6).\n",
    "\n",
    "\n",
    "**Exercise**: what is the probability that you will play today?"
   ]
  },
  {
   "cell_type": "markdown",
   "metadata": {},
   "source": [
    "<img src=\"https://www.mathsisfun.com/data/images/tree-diagram-ex1-3.svg\" width=200>"
   ]
  },
  {
   "cell_type": "markdown",
   "metadata": {},
   "source": [
    "$P(playing) = P(sam) * P(playing | sam) + P(alex) * P(playing | alex)$"
   ]
  },
  {
   "cell_type": "code",
   "execution_count": 127,
   "metadata": {},
   "outputs": [
    {
     "data": {
      "text/plain": [
       "0.42"
      ]
     },
     "execution_count": 127,
     "metadata": {},
     "output_type": "execute_result"
    }
   ],
   "source": [
    "implayingtoday = (0.6 * 0.5) + (0.4 * 0.3)\n",
    "implayingtoday"
   ]
  },
  {
   "cell_type": "markdown",
   "metadata": {
    "lang": "en"
   },
   "source": [
    "$P(B)=\\sum P(A_i) * P(B | A_i)$ --> The probability of an event that has several possible paths occurring is the sum of the probabilities of each path"
   ]
  },
  {
   "cell_type": "markdown",
   "metadata": {},
   "source": [
    "<img src=\"../images/raise_house.png\" width=500>"
   ]
  },
  {
   "cell_type": "markdown",
   "metadata": {
    "lang": "en"
   },
   "source": [
    "**Exercise:**\n",
    "\n",
    "- The probability of getting a salary increase in 2022 is 20%.\n",
    "- If I get a raise, the probability of buying a house is 70%.\n",
    "- If I don't get a raise, the probability of buying a house is 20%.\n",
    "- What is the probability that you will have a house in 2022?"
   ]
  },
  {
   "cell_type": "markdown",
   "metadata": {},
   "source": [
    "$P(house) = P(raise) * P(house | raise) + P(noraise) * P(house | noraise)$"
   ]
  },
  {
   "cell_type": "markdown",
   "metadata": {},
   "source": [
    "$P(house) = 0,14 + 0,16 = 0,3$        \n",
    "$P(\\overline{house}) = 1 - P(house) = 0.7$"
   ]
  },
  {
   "cell_type": "markdown",
   "metadata": {
    "lang": "en"
   },
   "source": [
    "## Bayes theorem\n",
    "##bae\n",
    "\n",
    "- Bayes' theorem is used to calculate the probability of an event, given information about that event in advance.\n",
    "We can calculate the probability of an event A, also knowing that this A fulfills a certain characteristic that determines its probability. Bayes's theorem understands probability in an inverse way to the total probability theorem. The total probability theorem makes inference about an event B, from the results of the events A. For his part, Bayes calculates the probability of A conditional on B."
   ]
  },
  {
   "cell_type": "markdown",
   "metadata": {
    "lang": "en"
   },
   "source": [
    "In more general and less mathematical terms, Bayes's theorem is extremely relevant since it links the probability of A given B with the probability of B given A. That is, for example, knowing the probability of having a given headache that you have the flu, you could know (if you have any more information), the probability of having the flu if you have a headache. This simple example shows the high relevance of the theorem in question for science in all its branches, since it is closely linked to the understanding of the probability of causal aspects given the observed effects."
   ]
  },
  {
   "cell_type": "markdown",
   "metadata": {
    "lang": "en"
   },
   "source": [
    "**Bayes theorem:**"
   ]
  },
  {
   "cell_type": "markdown",
   "metadata": {
    "lang": "en"
   },
   "source": [
    "\n",
    "\n",
    "\n",
    "\n",
    "$$A \\cap B = B \\cap A$$\n",
    "\n",
    "\n",
    "$$P(A \\cap B) = P(B \\cap A)$$\n",
    "\n",
    "\n",
    "$$P(A|B) = \\frac{P(A \\cap B)}{P(B)}$$\n",
    "\n",
    "### Bayes rule\n",
    "\n",
    "$$P(A|B) = \\frac{P(B|A)P(A)}{P(B)}$$"
   ]
  },
  {
   "cell_type": "markdown",
   "metadata": {},
   "source": [
    "<img src=\"../images/raise_house.png\" width=500>"
   ]
  },
  {
   "cell_type": "markdown",
   "metadata": {
    "lang": "en"
   },
   "source": [
    "If I bought a house, what is the probability that I would get a raise?"
   ]
  },
  {
   "cell_type": "markdown",
   "metadata": {
    "lang": "en"
   },
   "source": [
    "We recall the definition of conditional probability"
   ]
  },
  {
   "cell_type": "markdown",
   "metadata": {},
   "source": [
    "$$P(A|B)=\\frac{P(A \\cap B)}{P(B)}$$"
   ]
  },
  {
   "cell_type": "markdown",
   "metadata": {},
   "source": [
    "$P(raise | house) = \\frac{P(raise \\cap house)}{P(house)} = \\frac{P(house \\cap raise)}{P(house)}= \\frac{P(house|raise) * P(raise)}{P(house)} = \\frac{0.7 * 0.2}{0.3} = 0.46 = \\frac{7}{15}$ "
   ]
  },
  {
   "cell_type": "markdown",
   "metadata": {
    "lang": "en"
   },
   "source": [
    "When is Bayes' theorem useful?\n",
    "- When we know $P(B | A)$\n",
    "- And we want to know $P(A | B)$"
   ]
  },
  {
   "cell_type": "markdown",
   "metadata": {
    "lang": "en"
   },
   "source": [
    "#### Another example"
   ]
  },
  {
   "cell_type": "markdown",
   "metadata": {
    "lang": "en"
   },
   "source": [
    "**Car insurance according to color**\n",
    "\n",
    "**Events**\n",
    "\n",
    "+ $A: =$ Car accident\n",
    "+ $B: =$ Color of the car (red, for example)\n",
    "\n",
    "\n",
    "**What is each thing?**\n",
    "\n",
    "+ $P(A|B) :=$ What are the chances of having an accident if my car is red? (what we are looking for)\n",
    "+ $P(A) :=$ Prob of accident (proportion of cars in accidents in the entire fleet)\n",
    "+ $P(B|A) :=$ If I have already had an accident, what is the probability that my car is red? (proportion of red cars among those injured)\n",
    "+ $P(B) :=$ Prob of red car (proportion of red cars in the entire fleet)\n",
    "\n",
    "\n",
    "\n",
    "\n",
    "**Suppose...**\n",
    " \n",
    "+ $P(A) = 0.1$ # prob accident\n",
    "+ $P(B|A) = 0.3$ # my car being red (it being accident)\n",
    "+ $P(B) = 0.2$ # prob my car is red\n",
    "\n",
    "\n",
    "**So...**"
   ]
  },
  {
   "cell_type": "markdown",
   "metadata": {},
   "source": [
    "$$P(A|B)=\\frac{P(A \\cap B)}{P(B)}$$ # up: conditioned prob"
   ]
  },
  {
   "cell_type": "markdown",
   "metadata": {},
   "source": [
    "$P(A|B) :=$ What are the chances of having an accident if my car is red? (what we are looking for)\n"
   ]
  },
  {
   "cell_type": "markdown",
   "metadata": {},
   "source": [
    "$$P(A|B) = \\frac{P(B|A)P(A)}{P(B)}$$"
   ]
  },
  {
   "cell_type": "code",
   "execution_count": 128,
   "metadata": {},
   "outputs": [
    {
     "name": "stdout",
     "output_type": "stream",
     "text": [
      "P(A|B) = 0.15\n"
     ]
    }
   ],
   "source": [
    "print(f\"P(A|B) = {0.3 * 0.1 / 0.2}\")"
   ]
  },
  {
   "cell_type": "markdown",
   "metadata": {
    "lang": "en"
   },
   "source": [
    "## Summary\n",
    "It's your turn. What have we learned today?"
   ]
  },
  {
   "cell_type": "markdown",
   "metadata": {
    "lang": "en"
   },
   "source": [
    "- Variations, permutations and combinations\n",
    "- Different ways in which elements can be arranged\n",
    "- Factorials: different types of variations\n",
    "- Laplace's rule: likelihood of events. Favorable events / sample space\n",
    "- The law of large numbers: as we increase the size odf the sample, it gets closer to theoretical probability\n",
    "- Conditioned probability: P(threecolors|female), which is not the same as P(female|threecolors)\n",
    "- We can invert this by using Bayes' theorem"
   ]
  },
  {
   "cell_type": "markdown",
   "metadata": {
    "lang": "en"
   },
   "source": [
    "The main techniques used to solve probability problems are:\n"
   ]
  },
  {
   "cell_type": "markdown",
   "metadata": {},
   "source": [
    "- Laplace: favorable / total\n",
    "- Union: P(A u B) = P(A) + P(B) - P(A n B) \n",
    "- Intersection/multiplication = P(A n B) = P(A) * P(B|A)"
   ]
  },
  {
   "cell_type": "markdown",
   "metadata": {},
   "source": [
    "## Challenges"
   ]
  },
  {
   "cell_type": "markdown",
   "metadata": {
    "lang": "en"
   },
   "source": [
    "* 3 coins are flipped: what is the probability that 3 heads come up? (Multiplication)\n",
    "* 3 coins are tossed: what is the probability that 2 heads come up? (Laplace)\n",
    "* You have 6 blue, 3 red, and 5 yellow marbles in a bag. What is the probability of choosing a blue marble in the first draw? (Laplace)\n",
    "* You have 6 blue, 3 red, and 5 yellow marbles in a bag. What is the probability of selecting a blue marble or a red marble in the first draw? (Laplace, Union)\n",
    "* You have 6 blue marbles, 3 red marbles, and 5 yellow marbles in a bag. 2 balls are drawn with replacement. What is the probability that 2 blue ones come up? (Multiplication)\n",
    "* You have 6 blue marbles, 3 red marbles, and 5 yellow marbles in a bag. You draw 2 balls without replacement. What is the probability of 2 blue? (Multiplication)\n",
    "* You roll 2 dice. What is the probability that the sum of the numbers is 7? And 8? And 9? Then simulate 10,000 times and draw a histogram."
   ]
  },
  {
   "cell_type": "markdown",
   "metadata": {
    "lang": "en"
   },
   "source": [
    "## Materials\n",
    "**Links to deepen Bayes and understand it better**\n",
    "- https://bradanovic.blogspot.com/2013/04/bayesian-for-dummies-by-dr-chuck.html\n",
    "- [Bayes with python](https://programmerclick.com/article/80981456441/)\n"
   ]
  }
 ],
 "metadata": {
  "kernelspec": {
   "display_name": "ironhack",
   "language": "python",
   "name": "ironhack"
  },
  "language_info": {
   "codemirror_mode": {
    "name": "ipython",
    "version": 3
   },
   "file_extension": ".py",
   "mimetype": "text/x-python",
   "name": "python",
   "nbconvert_exporter": "python",
   "pygments_lexer": "ipython3",
   "version": "3.8.13"
  },
  "nbTranslate": {
   "displayLangs": [
    "en",
    "es"
   ],
   "hotkey": "alt-a",
   "langInMainMenu": true,
   "sourceLang": "es",
   "targetLang": "en",
   "useGoogleTranslate": true
  },
  "toc": {
   "base_numbering": 1,
   "nav_menu": {},
   "number_sections": true,
   "sideBar": true,
   "skip_h1_title": true,
   "title_cell": "Table of Contents",
   "title_sidebar": "Contents",
   "toc_cell": true,
   "toc_position": {},
   "toc_section_display": true,
   "toc_window_display": true
  },
  "varInspector": {
   "cols": {
    "lenName": 16,
    "lenType": 16,
    "lenVar": 40
   },
   "kernels_config": {
    "python": {
     "delete_cmd_postfix": "",
     "delete_cmd_prefix": "del ",
     "library": "var_list.py",
     "varRefreshCmd": "print(var_dic_list())"
    },
    "r": {
     "delete_cmd_postfix": ") ",
     "delete_cmd_prefix": "rm(",
     "library": "var_list.r",
     "varRefreshCmd": "cat(var_dic_list()) "
    }
   },
   "types_to_exclude": [
    "module",
    "function",
    "builtin_function_or_method",
    "instance",
    "_Feature"
   ],
   "window_display": false
  }
 },
 "nbformat": 4,
 "nbformat_minor": 4
}
