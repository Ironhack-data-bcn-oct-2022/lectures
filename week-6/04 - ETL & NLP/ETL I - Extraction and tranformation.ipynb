{
 "cells": [
  {
   "cell_type": "markdown",
   "id": "sporting-delta",
   "metadata": {},
   "source": [
    "# <center>📦🧹🔍ETL 🔍🧹📦<center>"
   ]
  },
  {
   "cell_type": "markdown",
   "id": "different-luxembourg",
   "metadata": {
    "toc": true
   },
   "source": [
    "<h1>Table of Contents<span class=\"tocSkip\"></span></h1>\n",
    "<div class=\"toc\"><ul class=\"toc-item\"><li><span><a href=\"#What-does-ETL-stand-for?\" data-toc-modified-id=\"What-does-ETL-stand-for?-1\"><span class=\"toc-item-num\">1&nbsp;&nbsp;</span>What does ETL stand for?</a></span></li><li><span><a href=\"#What-are-we-going-to-do?\" data-toc-modified-id=\"What-are-we-going-to-do?-2\"><span class=\"toc-item-num\">2&nbsp;&nbsp;</span>What are we going to do?</a></span></li><li><span><a href=\"#We-import-libraries\" data-toc-modified-id=\"We-import-libraries-3\"><span class=\"toc-item-num\">3&nbsp;&nbsp;</span>We import libraries</a></span></li><li><span><a href=\"#Mission-1:-Obtain-the-Spotify-token-to-use-its-API-🗝\" data-toc-modified-id=\"Mission-1:-Obtain-the-Spotify-token-to-use-its-API-🗝-4\"><span class=\"toc-item-num\">4&nbsp;&nbsp;</span>Mission 1: Obtain the Spotify token to use its API 🗝</a></span></li><li><span><a href=\"#Spotify-token\" data-toc-modified-id=\"Spotify-token-5\"><span class=\"toc-item-num\">5&nbsp;&nbsp;</span>Spotify token</a></span></li><li><span><a href=\"#We-save-the-token-in-our-.env\" data-toc-modified-id=\"We-save-the-token-in-our-.env-6\"><span class=\"toc-item-num\">6&nbsp;&nbsp;</span>We save the token in our .env</a></span></li><li><span><a href=\"#📚-Recap-so-far:\" data-toc-modified-id=\"📚-Recap-so-far:-7\"><span class=\"toc-item-num\">7&nbsp;&nbsp;</span>📚 Recap so far:</a></span></li><li><span><a href=\"#Mission-2:-Get-the-list-of-songs-and-artists-from-the-Spotify-API-🔥\" data-toc-modified-id=\"Mission-2:-Get-the-list-of-songs-and-artists-from-the-Spotify-API-🔥-8\"><span class=\"toc-item-num\">8&nbsp;&nbsp;</span>Mission 2: Get the list of songs and artists from the Spotify API 🔥</a></span><ul class=\"toc-item\"><li><span><a href=\"#Spotify-API-call\" data-toc-modified-id=\"Spotify-API-call-8.1\"><span class=\"toc-item-num\">8.1&nbsp;&nbsp;</span>Spotify API call</a></span><ul class=\"toc-item\"><li><span><a href=\"#We-need-token-and-headers\" data-toc-modified-id=\"We-need-token-and-headers-8.1.1\"><span class=\"toc-item-num\">8.1.1&nbsp;&nbsp;</span>We need token and headers</a></span></li><li><span><a href=\"#Url-+-endpoint\" data-toc-modified-id=\"Url-+-endpoint-8.1.2\"><span class=\"toc-item-num\">8.1.2&nbsp;&nbsp;</span>Url + endpoint</a></span></li><li><span><a href=\"#We-make-the-request\" data-toc-modified-id=\"We-make-the-request-8.1.3\"><span class=\"toc-item-num\">8.1.3&nbsp;&nbsp;</span>We make the request</a></span></li><li><span><a href=\"#Function-to-extract-info-from-dictionaries\" data-toc-modified-id=\"Function-to-extract-info-from-dictionaries-8.1.4\"><span class=\"toc-item-num\">8.1.4&nbsp;&nbsp;</span>Function to extract info from dictionaries</a></span></li></ul></li><li><span><a href=\"#We're-taking-it-to-Pandas!-🐼\" data-toc-modified-id=\"We're-taking-it-to-Pandas!-🐼-8.2\"><span class=\"toc-item-num\">8.2&nbsp;&nbsp;</span>We're taking it to Pandas! 🐼</a></span></li></ul></li><li><span><a href=\"#Mission-3:-Get-song-lyrics-with-&quot;lyrics_extractor&quot;\" data-toc-modified-id=\"Mission-3:-Get-song-lyrics-with-&quot;lyrics_extractor&quot;-9\"><span class=\"toc-item-num\">9&nbsp;&nbsp;</span>Mission 3: Get song lyrics with \"lyrics_extractor\"</a></span></li><li><span><a href=\"#We-extract-lyrics-from-the-songs!\" data-toc-modified-id=\"We-extract-lyrics-from-the-songs!-10\"><span class=\"toc-item-num\">10&nbsp;&nbsp;</span>We extract lyrics from the songs!</a></span><ul class=\"toc-item\"><li><span><a href=\"#We-need-to-create-the-KEYs-for-this-library\" data-toc-modified-id=\"We-need-to-create-the-KEYs-for-this-library-10.1\"><span class=\"toc-item-num\">10.1&nbsp;&nbsp;</span>We need to create the KEYs for this library</a></span></li><li><span><a href=\"#Since-the-library-needs-the-keys,-we-get-them-out-of-the-.env\" data-toc-modified-id=\"Since-the-library-needs-the-keys,-we-get-them-out-of-the-.env-10.2\"><span class=\"toc-item-num\">10.2&nbsp;&nbsp;</span>Since the library needs the keys, we get them out of the .env</a></span></li><li><span><a href=\"#store-it-in-a-variable\" data-toc-modified-id=\"store-it-in-a-variable-10.3\"><span class=\"toc-item-num\">10.3&nbsp;&nbsp;</span>store it in a variable</a></span></li><li><span><a href=\"#We-are-looking-for-some-lyrics\" data-toc-modified-id=\"We-are-looking-for-some-lyrics-10.4\"><span class=\"toc-item-num\">10.4&nbsp;&nbsp;</span>We are looking for some lyrics</a></span></li><li><span><a href=\"#Many-lyrics!\" data-toc-modified-id=\"Many-lyrics!-10.5\"><span class=\"toc-item-num\">10.5&nbsp;&nbsp;</span>Many lyrics!</a></span></li></ul></li></ul></div>"
   ]
  },
  {
   "cell_type": "markdown",
   "id": "sixth-transparency",
   "metadata": {},
   "source": [
    "![data](https://media.giphy.com/media/xT9C25UNTwfZuk85WP/giphy.gif)"
   ]
  },
  {
   "cell_type": "markdown",
   "id": "38d2da58",
   "metadata": {
    "lang": "en"
   },
   "source": [
    "# Process to follow during the 3 jupyter notebook\n",
    "**Jupyter ETL I - Extraction and transformation**\n",
    "\n",
    "* I get spotify token\n",
    "* I make request to the API:\n",
    "    - Be careful if the lists have more than 100 songs\n",
    "    - Functions that automate the process\n",
    "* I get the lyrics of the songs (enrichment) with another library\n",
    "\n",
    "**Jupyter ETL II - Loading**\n",
    "\n",
    "* I connect with the databases\n",
    "* I create my schema in MySQL\n",
    "* I clean the data a bit\n",
    "* Check functions before putting my data in the database\n",
    "* I load my data to MySQL\n",
    "* I export json to load it in MongoDB\n",
    "\n",
    "**Jupyter NLP**\n",
    "* I get the data I want from the databases\n",
    "* Tokenize and remove stop words\n",
    "* I do Sentiment Analysis with the libraries\n",
    "* draw conclusions"
   ]
  },
  {
   "cell_type": "markdown",
   "id": "15697289",
   "metadata": {
    "lang": "en"
   },
   "source": [
    "## What does ETL stand for?\n",
    "**Extract**, **Transform** and **Load** is the process that enables organizations to move data from multiple sources, reformat and cleanse it, and load it into another database, data mart, or data warehouse to analyze, or in another operational system to support a business process."
   ]
  },
  {
   "cell_type": "markdown",
   "id": "32b06979",
   "metadata": {
    "lang": "en"
   },
   "source": [
    "## What are we going to do?\n",
    "- Learn to use the Spotify API with Oauth\n",
    "- Extract data from said API\n",
    "- Clean and transform them\n",
    "- Enrich them\n",
    "- Save them in different databases\n",
    "- Make queries to do sentiment analysis with NLP libraries"
   ]
  },
  {
   "cell_type": "markdown",
   "id": "1fd8254e",
   "metadata": {
    "lang": "en"
   },
   "source": [
    "## We import libraries"
   ]
  },
  {
   "cell_type": "code",
   "execution_count": null,
   "id": "statutory-shirt",
   "metadata": {},
   "outputs": [],
   "source": [
    "import os\n",
    "\n",
    "import json\n",
    "import requests\n",
    "import pyjsonviewer\n",
    "\n",
    "from functools import reduce\n",
    "import operator\n",
    "\n",
    "import pandas as pd\n",
    "import numpy as np\n",
    "\n",
    "import lyricsgenius\n",
    "from lyrics_extractor import SongLyrics\n",
    "\n",
    "from dotenv import load_dotenv\n",
    "load_dotenv()"
   ]
  },
  {
   "cell_type": "markdown",
   "id": "f85bdca4",
   "metadata": {},
   "source": [
    "https://open.spotify.com/playlist/6DaKU06d03UDpVjPZhF19X?si=4865e6ee629d488b&pt=0ae09e3cb50938ee8f2fc768c208c1c2"
   ]
  },
  {
   "cell_type": "markdown",
   "id": "d1eb77e7",
   "metadata": {
    "lang": "en"
   },
   "source": [
    "## Mission 1: Obtain the Spotify token to use its API 🗝"
   ]
  },
  {
   "cell_type": "markdown",
   "id": "9b5d57d3",
   "metadata": {
    "lang": "en"
   },
   "source": [
    "## Spotify token\n",
    "https://developer.spotify.com/dashboard/login\n",
    "We need to have the CLIENT_ID and SECRET_ID tokens, and we store them in the `.env`.\n",
    "\n",
    "\n",
    "1. Sign up as a devloper\n",
    "2. Create an APP/project on spotify\n",
    "3. Get client_id & client_secret\n",
    "\n",
    "To call the spotify api and get the token that will allow us to make a request, we are going to have to save a few variables.\n",
    "Read the [Documentation](https://developer.spotify.com/documentation/general/guides/authorization-guide/)"
   ]
  },
  {
   "cell_type": "code",
   "execution_count": null,
   "id": "tracked-performance",
   "metadata": {},
   "outputs": [],
   "source": [
    "# CLIENT_ID\n",
    "# CLIENT_SECRET\n",
    "\n",
    "# token"
   ]
  },
  {
   "cell_type": "code",
   "execution_count": null,
   "id": "1a093deb",
   "metadata": {},
   "outputs": [],
   "source": [
    "# Now that I have my authentication info, I can get the actual token to query for playlists\n",
    "# I know because of docs"
   ]
  },
  {
   "cell_type": "code",
   "execution_count": null,
   "id": "c6f27c97",
   "metadata": {},
   "outputs": [],
   "source": [
    "body_params = {\"gran_type\":\"client_credentials\"}"
   ]
  },
  {
   "cell_type": "code",
   "execution_count": null,
   "id": "c28ba157",
   "metadata": {},
   "outputs": [],
   "source": [
    "url = \"https://accounts.spotify.com/api/token\""
   ]
  },
  {
   "cell_type": "code",
   "execution_count": null,
   "id": "dcbc3cfb",
   "metadata": {},
   "outputs": [],
   "source": [
    "response = requests.post(url, data=body_params, auth=(CLIENT_ID, CLIENT_SECRET), verify=True)"
   ]
  },
  {
   "cell_type": "code",
   "execution_count": null,
   "id": "c2510dac",
   "metadata": {},
   "outputs": [],
   "source": [
    "response"
   ]
  },
  {
   "cell_type": "code",
   "execution_count": null,
   "id": "96db7aff",
   "metadata": {},
   "outputs": [],
   "source": [
    "response.content"
   ]
  },
  {
   "cell_type": "code",
   "execution_count": null,
   "id": "9fa086f9",
   "metadata": {},
   "outputs": [],
   "source": [
    "type(response.content)"
   ]
  },
  {
   "cell_type": "code",
   "execution_count": null,
   "id": "414bad83",
   "metadata": {},
   "outputs": [],
   "source": [
    "token = response.json()[\"access_token\"]\n",
    "token"
   ]
  },
  {
   "cell_type": "markdown",
   "id": "fa31e2eb",
   "metadata": {
    "lang": "en"
   },
   "source": [
    "We are going to write all this in a function because, as we have seen, the token expires and so we can call it whenever we want and reuse it. This is what functions are for!"
   ]
  },
  {
   "cell_type": "code",
   "execution_count": null,
   "id": "97705f54",
   "metadata": {},
   "outputs": [],
   "source": [
    "# I need to hide my credentials: .env"
   ]
  },
  {
   "cell_type": "code",
   "execution_count": null,
   "id": "7d650601",
   "metadata": {},
   "outputs": [],
   "source": [
    "CLIENT_ID=os.getenv(\"CLIENT_ID\")\n",
    "CLIENT_SECRET=os.getenv(\"CLIENT_SECRET\")"
   ]
  },
  {
   "cell_type": "code",
   "execution_count": null,
   "id": "final-silence",
   "metadata": {},
   "outputs": [],
   "source": [
    "def spotifyToken ():\n",
    "    \n",
    "    \"\"\"This function does a requests to Spotify using credentials and retrieves a token\"\"\"\n",
    "    \n",
    "    # Credentials\n",
    "    CLIENT_ID=os.getenv(\"CLIENT_ID\")\n",
    "    CLIENT_SECRET=os.getenv(\"CLIENT_SECRET\")\n",
    "    \n",
    "    # Info to do the API call\n",
    "    body_params = {\"grant_type\":\"client_credentials\"}\n",
    "    url = \"https://accounts.spotify.com/api/token\"\n",
    "    \n",
    "    # Handling request\n",
    "    response = requests.post(url, data=body_params, auth=(CLIENT_ID, CLIENT_SECRET), verify=True)\n",
    "    token = response.json()[\"access_token\"]\n",
    "    \n",
    "    return token"
   ]
  },
  {
   "cell_type": "code",
   "execution_count": null,
   "id": "eb4d4450",
   "metadata": {},
   "outputs": [],
   "source": [
    "token = spotifyToken ()\n",
    "token"
   ]
  },
  {
   "cell_type": "markdown",
   "id": "9f3bb6d5",
   "metadata": {
    "lang": "en"
   },
   "source": [
    "## We save the token in our .env"
   ]
  },
  {
   "cell_type": "code",
   "execution_count": null,
   "id": "corresponding-yellow",
   "metadata": {},
   "outputs": [],
   "source": [
    "file = open (\".env\")\n",
    "file.write(\"\\n\")\n",
    "file.write(f\"token_spotify={token}\")\n",
    "file.close()"
   ]
  },
  {
   "cell_type": "markdown",
   "id": "de68e569",
   "metadata": {
    "lang": "en"
   },
   "source": [
    "We make a function that does the same thing to be able to reuse it"
   ]
  },
  {
   "cell_type": "code",
   "execution_count": null,
   "id": "obvious-diary",
   "metadata": {},
   "outputs": [],
   "source": [
    "def save_token (name, key):\n",
    "    file = open (\".env\", \"a\")\n",
    "    file.write(\"\\n\")\n",
    "    file.write(f\"{name}={key}\")\n",
    "    file.close()"
   ]
  },
  {
   "cell_type": "code",
   "execution_count": null,
   "id": "515dcd75",
   "metadata": {},
   "outputs": [],
   "source": [
    "save_token(\"hello\", \"6789067\")"
   ]
  },
  {
   "cell_type": "markdown",
   "id": "67d00804",
   "metadata": {
    "lang": "en"
   },
   "source": [
    "## 📚 Recap so far:\n",
    "\n",
    "**What we have done**\n",
    "- 1. We get our Spotify authentication\n",
    "- 2. With that, we get our spotify `token`: issuing a request.post\n",
    "- 3. We save the `token` in the .env <br>\n",
    "<br>\n",
    "\n",
    "**To remember**\n",
    "\n",
    "- **CLIENT_ID** & **CLIENT_SECRET** is just a means to get the `token`, not the authentication itself.\n",
    "- The `token` expires"
   ]
  },
  {
   "cell_type": "markdown",
   "id": "97f31804",
   "metadata": {
    "lang": "en"
   },
   "source": [
    "## Mission 2: Get the list of songs and artists from the Spotify API 🔥\n",
    "But let's not forget about the [documentation](https://developer.spotify.com/console/)\n",
    "The first thing we are going to do is make an API call\n",
    "Let's remember the syntax:\n",
    "\n",
    "`request.get(url, headers)`"
   ]
  },
  {
   "cell_type": "markdown",
   "id": "6cc165e5",
   "metadata": {
    "lang": "en"
   },
   "source": [
    "### Spotify API call"
   ]
  },
  {
   "cell_type": "markdown",
   "id": "107e66e6",
   "metadata": {
    "lang": "en"
   },
   "source": [
    "#### We need token and headers"
   ]
  },
  {
   "cell_type": "code",
   "execution_count": null,
   "id": "8d65232c",
   "metadata": {},
   "outputs": [],
   "source": [
    "token = 'BQAg2hf5gTkvZyxUnvHaQfk174uxC4DZQAuHOCTx-Rdq_fyGqzB3K9sDEBFRniFkKvPisAjlMe5vK-0sVFT3oic0ydJh5zWkfs3nnuca9zNxmhnN_g4'"
   ]
  },
  {
   "cell_type": "code",
   "execution_count": null,
   "id": "continuous-language",
   "metadata": {},
   "outputs": [],
   "source": [
    "headers = {\"Authorization\":f\"Bearer {token}\"}"
   ]
  },
  {
   "cell_type": "markdown",
   "id": "727f5922",
   "metadata": {
    "lang": "en"
   },
   "source": [
    "We take the ID of the list of the share link that comes out in spotify (Link of the song)\n",
    "https://open.spotify.com/playlist/6DaKU06d03UDpVjPZhF19X?si=838e81628a2e4a23"
   ]
  },
  {
   "cell_type": "code",
   "execution_count": null,
   "id": "7c3bba2d",
   "metadata": {},
   "outputs": [],
   "source": [
    "url_base = \"https://api.spotify.com/v1/playlists/\""
   ]
  },
  {
   "cell_type": "markdown",
   "id": "284837b0",
   "metadata": {
    "lang": "en"
   },
   "source": [
    "The ID of the list from which we want to make the request"
   ]
  },
  {
   "cell_type": "code",
   "execution_count": null,
   "id": "3ad4deba",
   "metadata": {},
   "outputs": [],
   "source": [
    "playlist_id = playlist_link.split(\"/\")[4].split(\"?\")[0]\n",
    "playlist_id"
   ]
  },
  {
   "cell_type": "code",
   "execution_count": null,
   "id": "e9472b69",
   "metadata": {},
   "outputs": [],
   "source": [
    "playlist_link = \"https://open.spotify.com/playlist/6DaKU06d03UDpVjPZhF19X?si=eec1225acbea4424\""
   ]
  },
  {
   "cell_type": "code",
   "execution_count": null,
   "id": "4386f5dd",
   "metadata": {},
   "outputs": [],
   "source": [
    "#https://open.spotify.com/playlist/       6DaKU06d03UDpVjPZhF19X       si=eec1225acbea4424"
   ]
  },
  {
   "cell_type": "markdown",
   "id": "exterior-gibraltar",
   "metadata": {},
   "source": [
    "#### Url + endpoint"
   ]
  },
  {
   "cell_type": "code",
   "execution_count": null,
   "id": "7d380609",
   "metadata": {},
   "outputs": [],
   "source": [
    "query = url_base + playlist_id\n",
    "query"
   ]
  },
  {
   "cell_type": "markdown",
   "id": "bd0188c5",
   "metadata": {
    "lang": "en"
   },
   "source": [
    "#### We make the request"
   ]
  },
  {
   "cell_type": "code",
   "execution_count": null,
   "id": "signed-vampire",
   "metadata": {},
   "outputs": [],
   "source": [
    "response = requests.get(query, headers=headers).json()"
   ]
  },
  {
   "cell_type": "code",
   "execution_count": null,
   "id": "024aac58",
   "metadata": {},
   "outputs": [],
   "source": [
    "#response"
   ]
  },
  {
   "cell_type": "markdown",
   "id": "34554033",
   "metadata": {
    "lang": "en"
   },
   "source": [
    "#### Function to extract info from dictionaries"
   ]
  },
  {
   "cell_type": "code",
   "execution_count": null,
   "id": "e5e1721f",
   "metadata": {},
   "outputs": [],
   "source": [
    "def getFromDict(diccionario,mapa):\n",
    "    return reduce(operator.getitem,mapa,diccionario)"
   ]
  },
  {
   "cell_type": "code",
   "execution_count": null,
   "id": "dae37dfa",
   "metadata": {},
   "outputs": [],
   "source": [
    "def extract_everything (json):\n",
    "    comun = {\"id_list\": [\"id\"], \"list_name\": [\"name\"]}\n",
    "    mapas = {\"name\": [\"track\", \"name\"], \"ironhacker\": [\"added_by\", \"id\"]}\n",
    "    total = []\n",
    "    for elemento in json[\"tracks\"][\"items\"]:\n",
    "        track = {key:getFromDict(elemento, value) for key, value in mapas.items()}\n",
    "        artistas = getFromDict(elemento, [\"track\", \"artists\"])\n",
    "        track[\"artist\"] = [diccionario[\"name\"] for diccionario in artistas]\n",
    "        track.update({key: getFromDict(json, value) for key,value in comun.items()})\n",
    "        total.append(track)\n",
    "    return total"
   ]
  },
  {
   "cell_type": "code",
   "execution_count": null,
   "id": "5601a510",
   "metadata": {
    "scrolled": true
   },
   "outputs": [],
   "source": [
    "all_the_songs = extract_everything (response)\n",
    "all_the_songs[0]"
   ]
  },
  {
   "cell_type": "code",
   "execution_count": null,
   "id": "b7e49ad1",
   "metadata": {},
   "outputs": [],
   "source": [
    "len(all_the_songs)"
   ]
  },
  {
   "cell_type": "markdown",
   "id": "e6818c88",
   "metadata": {
    "lang": "en"
   },
   "source": [
    "### We're taking it to Pandas! 🐼\n",
    "How? Easy...."
   ]
  },
  {
   "cell_type": "code",
   "execution_count": null,
   "id": "c951e529",
   "metadata": {},
   "outputs": [],
   "source": [
    "df = pd.DataFrame(all_the_songs)\n",
    "df"
   ]
  },
  {
   "cell_type": "code",
   "execution_count": null,
   "id": "67627c62",
   "metadata": {},
   "outputs": [],
   "source": [
    "users_to_replace = {\"qk6itwwnf6xczuzqyl2l3n5hc\":\"Hassan\", \"31amuhlhlp5dehu4yn2yruxyjhqm\":\"Ameri\"}"
   ]
  },
  {
   "cell_type": "code",
   "execution_count": null,
   "id": "8dbd8d86",
   "metadata": {},
   "outputs": [],
   "source": [
    "df.sample()"
   ]
  },
  {
   "cell_type": "code",
   "execution_count": null,
   "id": "dacec37c",
   "metadata": {},
   "outputs": [],
   "source": [
    "df[\"ironhacker\"] = df.ironhacker.replace(users_to_replace)"
   ]
  },
  {
   "cell_type": "code",
   "execution_count": null,
   "id": "e4623468",
   "metadata": {},
   "outputs": [],
   "source": [
    "df"
   ]
  },
  {
   "cell_type": "markdown",
   "id": "51e8af9c",
   "metadata": {
    "lang": "en"
   },
   "source": [
    "# 📚 Recap so far:\n",
    "\n",
    "**What we did**\n",
    "- 0. We call the spotify API with a request of the type post so that it gives me the token\n",
    "- 1. We made a call to the Spotify API: to get the list information\n",
    "- 2. We get only the songs and artists from the json\n",
    "- 3. We make functions that automate processes and reuse code\n",
    "- 4. We have a dataframe\n",
    "<br>\n",
    "\n",
    "**To remember**\n",
    "\n",
    "- Add the `.env` to the `.gitignore`."
   ]
  },
  {
   "cell_type": "markdown",
   "id": "0cd6d65c",
   "metadata": {
    "lang": "en"
   },
   "source": [
    "## Mission 3: Get song lyrics with \"lyrics_extractor\"\n",
    "## We extract lyrics from the songs!\n",
    "Lyrics extractor is a library that scribes some pages of song lyrics for us.\n",
    "We take a look at the [documentation](https://pypi.org/project/lyrics-extractor/) ALWAYS, especially the **Requirements** part that will explain the things we need to have for it to work .\n",
    "### We need to create the KEYs for this library\n",
    "1.1.1. **[First](https://cse.google.com/cse/create/new)**, create a custom search engine: select a website of letters to scrape. for example: www.genius.com <br>\n",
    "1.1.2. **Second**, `Edit your search engine > select your website > Copy your search engine ID`.\n",
    "You now have your **GCS_ENGINE_ID**<br>\n",
    "1.1.3. **[Then](https://developers.google.com/custom-search/v1/overview)**, `Get a key > Select project > copy search engine API key`. You now have your **GCS_API_KEY**."
   ]
  },
  {
   "cell_type": "code",
   "execution_count": null,
   "id": "72006e22",
   "metadata": {},
   "outputs": [],
   "source": [
    "#extract_lyrics = SongLyrics(GCS_API_KEY, GCS_ENGINE_ID)"
   ]
  },
  {
   "cell_type": "code",
   "execution_count": null,
   "id": "fac873f7",
   "metadata": {},
   "outputs": [],
   "source": [
    "#sheeran = get_lyrics(\"Ed Sheeran\", \"shape of you\")\n",
    "#sheeran"
   ]
  },
  {
   "cell_type": "markdown",
   "id": "61a228f9",
   "metadata": {
    "lang": "en"
   },
   "source": [
    "### Since the library needs the keys, we get them out of the .env"
   ]
  },
  {
   "cell_type": "code",
   "execution_count": null,
   "id": "160ec4df",
   "metadata": {},
   "outputs": [],
   "source": [
    "#!pip install lyricsgenius\n",
    "import lyricsgenius"
   ]
  },
  {
   "cell_type": "markdown",
   "id": "02713c63",
   "metadata": {},
   "source": [
    "1. Install lyrics genius\n",
    "2. Sign up\n",
    "3. Create an [API client](https://genius.com/api-clients)"
   ]
  },
  {
   "cell_type": "markdown",
   "id": "b99e04df",
   "metadata": {
    "lang": "en"
   },
   "source": [
    "### store it in a variable\n",
    "We save the library in a variable by calling SongLyrics and passing it the keys"
   ]
  },
  {
   "cell_type": "code",
   "execution_count": null,
   "id": "0f4e6163",
   "metadata": {},
   "outputs": [],
   "source": [
    "save_env(\"genius_secret\", \"thetokennnnnn\")"
   ]
  },
  {
   "cell_type": "code",
   "execution_count": null,
   "id": "3ced47fb",
   "metadata": {},
   "outputs": [],
   "source": [
    "load_dotenv()"
   ]
  },
  {
   "cell_type": "code",
   "execution_count": null,
   "id": "c3256980",
   "metadata": {},
   "outputs": [],
   "source": [
    "genius_secret = os.getenv(\"genius_secret\")\n",
    "#genius_secret"
   ]
  },
  {
   "cell_type": "code",
   "execution_count": null,
   "id": "center-electric",
   "metadata": {},
   "outputs": [],
   "source": [
    "genius = lyricsgenius.Genius(genius_secret)"
   ]
  },
  {
   "cell_type": "markdown",
   "id": "0cad806a",
   "metadata": {
    "lang": "en"
   },
   "source": [
    "### We are looking for some lyrics"
   ]
  },
  {
   "cell_type": "code",
   "execution_count": null,
   "id": "97bc42f6",
   "metadata": {},
   "outputs": [],
   "source": [
    "artist = genius.search_artist(\"Geordie Kiffer\", max_songs=1, include_features=True)\n",
    "artist"
   ]
  },
  {
   "cell_type": "code",
   "execution_count": null,
   "id": "81cb4bfc",
   "metadata": {},
   "outputs": [],
   "source": [
    "song = artist.song(\"Red Line\")\n",
    "song"
   ]
  },
  {
   "cell_type": "code",
   "execution_count": null,
   "id": "708fc595",
   "metadata": {},
   "outputs": [],
   "source": [
    "type(song)"
   ]
  },
  {
   "cell_type": "code",
   "execution_count": null,
   "id": "85c10649",
   "metadata": {},
   "outputs": [],
   "source": [
    "[element for element in dir(song) if \"_\" not in element]"
   ]
  },
  {
   "cell_type": "code",
   "execution_count": null,
   "id": "52c2fce4",
   "metadata": {},
   "outputs": [],
   "source": [
    "song.artist"
   ]
  },
  {
   "cell_type": "code",
   "execution_count": null,
   "id": "4c974127",
   "metadata": {},
   "outputs": [],
   "source": [
    "song.lyrics"
   ]
  },
  {
   "cell_type": "code",
   "execution_count": null,
   "id": "88d54d78",
   "metadata": {},
   "outputs": [],
   "source": [
    "def get_lyrics (artist, song):\n",
    "    try:\n",
    "        genius = lyricsgenius.Genius(genius_secret)\n",
    "        artist = genius.search_artist(artist[0], max_songs=1, include_features=True)\n",
    "        song = artist.song(song)\n",
    "        return song.lyrics\n",
    "    \n",
    "    except:\n",
    "        return np.nan"
   ]
  },
  {
   "cell_type": "code",
   "execution_count": null,
   "id": "58359ecd",
   "metadata": {},
   "outputs": [],
   "source": [
    "get_lyrics (\"Baby Keem\", \"16\")"
   ]
  },
  {
   "cell_type": "markdown",
   "id": "b311c883",
   "metadata": {
    "lang": "en"
   },
   "source": [
    "### Many lyrics!"
   ]
  },
  {
   "cell_type": "code",
   "execution_count": null,
   "id": "interior-maker",
   "metadata": {},
   "outputs": [],
   "source": [
    "df"
   ]
  },
  {
   "cell_type": "code",
   "execution_count": null,
   "id": "5619deb7",
   "metadata": {
    "scrolled": true
   },
   "outputs": [],
   "source": [
    "df_test = df.sample(1)\n",
    "df_test"
   ]
  },
  {
   "cell_type": "code",
   "execution_count": null,
   "id": "0f7c4491",
   "metadata": {},
   "outputs": [],
   "source": [
    "df_test[\"artist\"]"
   ]
  },
  {
   "cell_type": "code",
   "execution_count": null,
   "id": "d3c7da98",
   "metadata": {},
   "outputs": [],
   "source": [
    "test_string = \"[Joji]\"\n",
    "test_string[1:-1]"
   ]
  },
  {
   "cell_type": "code",
   "execution_count": null,
   "id": "91c61bdd",
   "metadata": {},
   "outputs": [],
   "source": [
    "type(df_test[\"artist\"])"
   ]
  },
  {
   "cell_type": "code",
   "execution_count": null,
   "id": "1c8108d1",
   "metadata": {},
   "outputs": [],
   "source": [
    "df_test.iloc[0][\"artist\"]"
   ]
  },
  {
   "cell_type": "code",
   "execution_count": null,
   "id": "8fd0d8df",
   "metadata": {
    "scrolled": true
   },
   "outputs": [],
   "source": [
    "df_test[\"artist\"]"
   ]
  },
  {
   "cell_type": "code",
   "execution_count": null,
   "id": "6cded21b",
   "metadata": {
    "scrolled": true
   },
   "outputs": [],
   "source": [
    "df_test"
   ]
  },
  {
   "cell_type": "code",
   "execution_count": null,
   "id": "afd510c6",
   "metadata": {},
   "outputs": [],
   "source": [
    "df[\"newcolumn\"] = df.apply(lambda x: [\"name\"][0].upper())\n",
    "df"
   ]
  },
  {
   "cell_type": "code",
   "execution_count": null,
   "id": "347cfcd2",
   "metadata": {
    "scrolled": true
   },
   "outputs": [],
   "source": [
    "df_test[\"lyrics\"] = df_test.apply(lambda x: get_lyrics(x[\"artist\"], x[\"name\"]), axis=1)\n",
    "df_test"
   ]
  },
  {
   "cell_type": "code",
   "execution_count": null,
   "id": "0c008f39",
   "metadata": {},
   "outputs": [],
   "source": [
    "df[\"lyrics\"] = df.apply(lambda x: get_lyrics(x[\"artist\"], x[\"name\"]), axis=1)\n",
    "df"
   ]
  },
  {
   "cell_type": "code",
   "execution_count": null,
   "id": "ef4d2223",
   "metadata": {},
   "outputs": [],
   "source": [
    "df"
   ]
  },
  {
   "cell_type": "markdown",
   "id": "e2b22ba0",
   "metadata": {
    "lang": "en"
   },
   "source": [
    "# Export"
   ]
  },
  {
   "cell_type": "code",
   "execution_count": null,
   "id": "5bc71442",
   "metadata": {},
   "outputs": [],
   "source": [
    "df.to_csv(\"lyrics.csv\", index=False)"
   ]
  },
  {
   "cell_type": "markdown",
   "id": "6d3049ba",
   "metadata": {},
   "source": [
    "# RECAP"
   ]
  },
  {
   "cell_type": "markdown",
   "id": "07ff718c",
   "metadata": {},
   "source": [
    "- Get lyrics from a given playlist\n",
    "- Signed up for the spotify API: cliend_id & client_secret\n",
    "- With that: do a POST request to send those credentials and get a token\n",
    "- With the token: we're able to get all the songs from a playlist\n",
    "- We use the genius library for python to use its API\n",
    "- We build a dataframe with all the lyrics from a given spotify playlist\n",
    "\n",
    "- We saved the code into functions\n",
    "- We also createad one to save things into .env\n",
    "\n",
    "- Reminder: .env & .gitignore\n",
    "\n",
    "- By putting all the functions together: we can build a script that by passing ONE link (provided you have spotify credentials): result is a pandas daraframe with songs & lryics\n",
    "\n",
    "Input: one link\n",
    "Output: a whole dataframe with info from two sources"
   ]
  }
 ],
 "metadata": {
  "kernelspec": {
   "display_name": "ironhack",
   "language": "python",
   "name": "ironhack"
  },
  "language_info": {
   "codemirror_mode": {
    "name": "ipython",
    "version": 3
   },
   "file_extension": ".py",
   "mimetype": "text/x-python",
   "name": "python",
   "nbconvert_exporter": "python",
   "pygments_lexer": "ipython3",
   "version": "3.8.13"
  },
  "nbTranslate": {
   "displayLangs": [
    "en",
    "es"
   ],
   "hotkey": "alt-a",
   "langInMainMenu": true,
   "sourceLang": "es",
   "targetLang": "en",
   "useGoogleTranslate": true
  },
  "toc": {
   "base_numbering": 1,
   "nav_menu": {},
   "number_sections": true,
   "sideBar": true,
   "skip_h1_title": true,
   "title_cell": "Table of Contents",
   "title_sidebar": "Contents",
   "toc_cell": true,
   "toc_position": {},
   "toc_section_display": true,
   "toc_window_display": false
  }
 },
 "nbformat": 4,
 "nbformat_minor": 5
}
