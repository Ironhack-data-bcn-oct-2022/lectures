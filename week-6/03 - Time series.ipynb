{
 "cells": [
  {
   "cell_type": "markdown",
   "metadata": {},
   "source": [
    "# Time series\n",
    "![](https://media.giphy.com/media/2eK5fWkZwRBhNhbC1h/giphy.gif)"
   ]
  },
  {
   "cell_type": "markdown",
   "metadata": {
    "toc": true
   },
   "source": [
    "<h1>Table of Contents<span class=\"tocSkip\"></span></h1>\n",
    "<div class=\"toc\"><ul class=\"toc-item\"><li><span><a href=\"#What-is-a-time-series?\" data-toc-modified-id=\"What-is-a-time-series?-1\"><span class=\"toc-item-num\">1&nbsp;&nbsp;</span>What is a time series?</a></span></li><li><span><a href=\"#Time-Series-Analysis\" data-toc-modified-id=\"Time-Series-Analysis-2\"><span class=\"toc-item-num\">2&nbsp;&nbsp;</span>Time Series Analysis</a></span><ul class=\"toc-item\"><li><span><a href=\"#Motivation\" data-toc-modified-id=\"Motivation-2.1\"><span class=\"toc-item-num\">2.1&nbsp;&nbsp;</span>Motivation</a></span></li><li><span><a href=\"#Timeslots\" data-toc-modified-id=\"Timeslots-2.2\"><span class=\"toc-item-num\">2.2&nbsp;&nbsp;</span>Timeslots</a></span></li><li><span><a href=\"#Pandas-DateTime-Range\" data-toc-modified-id=\"Pandas-DateTime-Range-2.3\"><span class=\"toc-item-num\">2.3&nbsp;&nbsp;</span>Pandas DateTime Range</a></span></li><li><span><a href=\"#Mini-checkpoint\" data-toc-modified-id=\"Mini-checkpoint-2.4\"><span class=\"toc-item-num\">2.4&nbsp;&nbsp;</span>Mini-checkpoint</a></span></li></ul></li><li><span><a href=\"#The-power-of-🐼-and-the-dates\" data-toc-modified-id=\"The-power-of-🐼-and-the-dates-3\"><span class=\"toc-item-num\">3&nbsp;&nbsp;</span>The power of 🐼 and the dates</a></span><ul class=\"toc-item\"><li><span><a href=\"#Please-read-here\" data-toc-modified-id=\"Please-read-here-3.1\"><span class=\"toc-item-num\">3.1&nbsp;&nbsp;</span>Please read here</a></span></li><li><span><a href=\"#Real-data\" data-toc-modified-id=\"Real-data-3.2\"><span class=\"toc-item-num\">3.2&nbsp;&nbsp;</span>Real data</a></span></li></ul></li><li><span><a href=\"#Smoothing-techniques\" data-toc-modified-id=\"Smoothing-techniques-4\"><span class=\"toc-item-num\">4&nbsp;&nbsp;</span>Smoothing techniques</a></span><ul class=\"toc-item\"><li><span><a href=\"#Moving-Average\" data-toc-modified-id=\"Moving-Average-4.1\"><span class=\"toc-item-num\">4.1&nbsp;&nbsp;</span>Moving Average</a></span><ul class=\"toc-item\"><li><ul class=\"toc-item\"><li><span><a href=\"#Edgard-&amp;-Viktor\" data-toc-modified-id=\"Edgard-&amp;-Viktor-4.1.0.1\"><span class=\"toc-item-num\">4.1.0.1&nbsp;&nbsp;</span>Edgard &amp; Viktor</a></span></li></ul></li></ul></li></ul></li><li><span><a href=\"#Decomposition-of-a-time-series\" data-toc-modified-id=\"Decomposition-of-a-time-series-5\"><span class=\"toc-item-num\">5&nbsp;&nbsp;</span>Decomposition of a time series</a></span><ul class=\"toc-item\"><li><span><a href=\"#Trend-/-Trend\" data-toc-modified-id=\"Trend-/-Trend-5.1\"><span class=\"toc-item-num\">5.1&nbsp;&nbsp;</span>Trend / Trend</a></span><ul class=\"toc-item\"><li><span><a href=\"#Stationary-Series\" data-toc-modified-id=\"Stationary-Series-5.1.1\"><span class=\"toc-item-num\">5.1.1&nbsp;&nbsp;</span>Stationary Series</a></span></li><li><span><a href=\"#Non-stationary-series\" data-toc-modified-id=\"Non-stationary-series-5.1.2\"><span class=\"toc-item-num\">5.1.2&nbsp;&nbsp;</span>Non-stationary series</a></span></li></ul></li><li><span><a href=\"#Seasonality-/-Seasonality\" data-toc-modified-id=\"Seasonality-/-Seasonality-5.2\"><span class=\"toc-item-num\">5.2&nbsp;&nbsp;</span>Seasonality / Seasonality</a></span></li><li><span><a href=\"#Residuals\" data-toc-modified-id=\"Residuals-5.3\"><span class=\"toc-item-num\">5.3&nbsp;&nbsp;</span>Residuals</a></span></li><li><span><a href=\"#Mini-checkpoint\" data-toc-modified-id=\"Mini-checkpoint-5.4\"><span class=\"toc-item-num\">5.4&nbsp;&nbsp;</span>Mini-checkpoint</a></span></li><li><span><a href=\"#Decomposition\" data-toc-modified-id=\"Decomposition-5.5\"><span class=\"toc-item-num\">5.5&nbsp;&nbsp;</span>Decomposition</a></span><ul class=\"toc-item\"><li><span><a href=\"#Additive-Approach\" data-toc-modified-id=\"Additive-Approach-5.5.1\"><span class=\"toc-item-num\">5.5.1&nbsp;&nbsp;</span>Additive Approach</a></span></li><li><span><a href=\"#Multiplicative-Approach\" data-toc-modified-id=\"Multiplicative-Approach-5.5.2\"><span class=\"toc-item-num\">5.5.2&nbsp;&nbsp;</span>Multiplicative Approach</a></span></li></ul></li></ul></li><li><span><a href=\"#Stationarity\" data-toc-modified-id=\"Stationarity-6\"><span class=\"toc-item-num\">6&nbsp;&nbsp;</span>Stationarity</a></span><ul class=\"toc-item\"><li><span><a href=\"#Augmented-Dickey-Fuller-Test\" data-toc-modified-id=\"Augmented-Dickey-Fuller-Test-6.1\"><span class=\"toc-item-num\">6.1&nbsp;&nbsp;</span>Augmented Dickey Fuller Test</a></span></li><li><span><a href=\"#We-do-a-test-with-a-stationary-series\" data-toc-modified-id=\"We-do-a-test-with-a-stationary-series-6.2\"><span class=\"toc-item-num\">6.2&nbsp;&nbsp;</span>We do a test with a stationary series</a></span><ul class=\"toc-item\"><li><span><a href=\"#Mini-checkpoint\" data-toc-modified-id=\"Mini-checkpoint-6.2.1\"><span class=\"toc-item-num\">6.2.1&nbsp;&nbsp;</span>Mini-checkpoint</a></span></li></ul></li></ul></li><li><span><a href=\"#Autocorrelation-function\" data-toc-modified-id=\"Autocorrelation-function-7\"><span class=\"toc-item-num\">7&nbsp;&nbsp;</span>Autocorrelation function</a></span><ul class=\"toc-item\"><li><span><a href=\"#Lag-Plot\" data-toc-modified-id=\"Lag-Plot-7.1\"><span class=\"toc-item-num\">7.1&nbsp;&nbsp;</span>Lag Plot</a></span></li></ul></li><li><span><a href=\"#Predictive-models\" data-toc-modified-id=\"Predictive-models-8\"><span class=\"toc-item-num\">8&nbsp;&nbsp;</span>Predictive models</a></span><ul class=\"toc-item\"><li><ul class=\"toc-item\"><li><span><a href=\"#Rule-of-thumb\" data-toc-modified-id=\"Rule-of-thumb-8.0.1\"><span class=\"toc-item-num\">8.0.1&nbsp;&nbsp;</span>Rule of thumb</a></span><ul class=\"toc-item\"><li><span><a href=\"#Trends\" data-toc-modified-id=\"Trends-8.0.1.1\"><span class=\"toc-item-num\">8.0.1.1&nbsp;&nbsp;</span>Trends</a></span></li><li><span><a href=\"#If-seasonality\" data-toc-modified-id=\"If-seasonality-8.0.1.2\"><span class=\"toc-item-num\">8.0.1.2&nbsp;&nbsp;</span>If seasonality</a></span></li></ul></li></ul></li></ul></li><li><span><a href=\"#FORECASTING:-temperatures\" data-toc-modified-id=\"FORECASTING:-temperatures-9\"><span class=\"toc-item-num\">9&nbsp;&nbsp;</span>FORECASTING: temperatures</a></span><ul class=\"toc-item\"><li><ul class=\"toc-item\"><li><span><a href=\"#Implementation-of-ARIMA:-most-simple-example\" data-toc-modified-id=\"Implementation-of-ARIMA:-most-simple-example-9.0.1\"><span class=\"toc-item-num\">9.0.1&nbsp;&nbsp;</span>Implementation of ARIMA: most simple example</a></span></li></ul></li><li><span><a href=\"#Reading-the-data\" data-toc-modified-id=\"Reading-the-data-9.1\"><span class=\"toc-item-num\">9.1&nbsp;&nbsp;</span>Reading the data</a></span></li><li><span><a href=\"#Seeing-the-data\" data-toc-modified-id=\"Seeing-the-data-9.2\"><span class=\"toc-item-num\">9.2&nbsp;&nbsp;</span>Seeing the data</a></span></li><li><span><a href=\"#Rolling-average\" data-toc-modified-id=\"Rolling-average-9.3\"><span class=\"toc-item-num\">9.3&nbsp;&nbsp;</span>Rolling average</a></span></li><li><span><a href=\"#Exponential-smoothing\" data-toc-modified-id=\"Exponential-smoothing-9.4\"><span class=\"toc-item-num\">9.4&nbsp;&nbsp;</span>Exponential smoothing</a></span></li><li><span><a href=\"#Seasonality\" data-toc-modified-id=\"Seasonality-9.5\"><span class=\"toc-item-num\">9.5&nbsp;&nbsp;</span>Seasonality</a></span></li><li><span><a href=\"#ARIMA-model\" data-toc-modified-id=\"ARIMA-model-9.6\"><span class=\"toc-item-num\">9.6&nbsp;&nbsp;</span>ARIMA model</a></span></li><li><span><a href=\"#Into-the-future:-forecasting-🔮\" data-toc-modified-id=\"Into-the-future:-forecasting-🔮-9.7\"><span class=\"toc-item-num\">9.7&nbsp;&nbsp;</span>Into the future: forecasting 🔮</a></span></li></ul></li><li><span><a href=\"#Further-Resources\" data-toc-modified-id=\"Further-Resources-10\"><span class=\"toc-item-num\">10&nbsp;&nbsp;</span>Further Resources</a></span></li></ul></div>"
   ]
  },
  {
   "cell_type": "markdown",
   "metadata": {
    "lang": "en"
   },
   "source": [
    "## What is a time series?\n",
    ">A time series is a series of data points indexed in time order. Most commonly, a time series is a sequence taken at successive equally spaced points in time. Therefore, it is a stream of data over time.\n",
    "\n",
    "**Examples:**\n",
    "- Stock prices\n",
    "- Weather data (temperature, humidity, etc.)\n",
    "- Visits to a web page, visits to Youtube\n",
    "- Energy generation\n",
    "- Audio\n",
    "- Video\n",
    "\n",
    "## Time Series Analysis\n",
    "### Motivation\n",
    "- **Forecast** (Prediction)\n",
    "- Signals processing\n",
    "- Pattern recognition and anomaly detection"
   ]
  },
  {
   "cell_type": "markdown",
   "metadata": {},
   "source": [
    "![](https://miro.medium.com/max/1400/1*s23YtXsNJhJDoyN0KQsVSQ.png)"
   ]
  },
  {
   "cell_type": "markdown",
   "metadata": {
    "lang": "en"
   },
   "source": [
    "### Timeslots\n",
    "When studying a time series, the frequency (intervals) in which the data is collected is very important.\n",
    "\n",
    "Luckily, pandas has a couple of tools to help us with that."
   ]
  },
  {
   "cell_type": "code",
   "execution_count": null,
   "metadata": {},
   "outputs": [],
   "source": [
    "import pandas as pd\n",
    "import numpy as np\n",
    "\n",
    "import datetime\n",
    "from dateutil.relativedelta import relativedelta\n",
    "\n",
    "# Viz mantra\n",
    "import seaborn as sns\n",
    "from matplotlib import pyplot as plt\n",
    "%matplotlib inline\n",
    "%config Inlinebackend.figure_format = 'retina'\n",
    "sns.set_context('poster')\n",
    "sns.set(rc={'figure.figsize': (16., 9.)})\n",
    "sns.set_style('whitegrid')\n",
    "\n",
    "import plotly.express as px\n",
    "import plotly.graph_objects as go\n",
    "\n",
    "# Statsmodel\n",
    "import statsmodels.api as sm\n",
    "from statsmodels.graphics.tsaplots import plot_acf, plot_pacf\n",
    "from statsmodels.tsa.arima.model import ARIMA\n",
    "from statsmodels.tsa.api import SimpleExpSmoothing\n",
    "from statsmodels.tsa.seasonal import seasonal_decompose\n",
    "\n",
    "\n",
    "# Scikit learn\n",
    "from sklearn.linear_model import LinearRegression"
   ]
  },
  {
   "cell_type": "markdown",
   "metadata": {},
   "source": [
    "### Pandas DateTime Range\n",
    "```python\n",
    "pd.date_range(start, end, periods, freq)\n",
    "```"
   ]
  },
  {
   "cell_type": "code",
   "execution_count": null,
   "metadata": {},
   "outputs": [],
   "source": [
    "# Periods: how many\n",
    "# Frequency: how often"
   ]
  },
  {
   "cell_type": "code",
   "execution_count": null,
   "metadata": {},
   "outputs": [],
   "source": [
    "# Create range with X frequency\n"
   ]
  },
  {
   "cell_type": "markdown",
   "metadata": {
    "lang": "en"
   },
   "source": [
    "**Frequency aliases**\n",
    "\n",
    "Some of the most common are\n",
    "\n",
    "- \"D\" : Day\n",
    "- \"W\" : Week\n",
    "- \"H\" : Time\n",
    "- \"T\" : Minute\n",
    "- \"S\" : Second\n",
    "- \"L\" : Millisecond\n",
    "\n",
    "Of course, there are many [more](https://pandas.pydata.org/pandas-docs/stable/user_guide/timeseries.html#timeseries-offset-aliases)."
   ]
  },
  {
   "cell_type": "code",
   "execution_count": null,
   "metadata": {},
   "outputs": [],
   "source": []
  },
  {
   "cell_type": "markdown",
   "metadata": {
    "lang": "en"
   },
   "source": [
    "## The power of 🐼 and the dates"
   ]
  },
  {
   "cell_type": "markdown",
   "metadata": {
    "lang": "en"
   },
   "source": [
    "By the way, pd dates have special methods that we can use. Take a look at the documentation."
   ]
  },
  {
   "cell_type": "code",
   "execution_count": null,
   "metadata": {},
   "outputs": [],
   "source": []
  },
  {
   "cell_type": "markdown",
   "metadata": {
    "lang": "en"
   },
   "source": [
    "I want a column with only the year:"
   ]
  },
  {
   "cell_type": "code",
   "execution_count": null,
   "metadata": {},
   "outputs": [],
   "source": []
  },
  {
   "cell_type": "markdown",
   "metadata": {
    "lang": "en"
   },
   "source": [
    "### Please read here\n",
    "It may also be that we had the data of the dates in type strings and we wanted to convert them to date and extract the year\n",
    "\n",
    "Imagine that below NOOOO we have the dates in the index and I am going to play with the date column that is in STRING.\n",
    "I'm going to simulate that they are strings and we do it 🙃"
   ]
  },
  {
   "cell_type": "code",
   "execution_count": null,
   "metadata": {},
   "outputs": [],
   "source": []
  },
  {
   "cell_type": "markdown",
   "metadata": {
    "lang": "en"
   },
   "source": [
    "Maybe you were tempted to do it like this.... 🤔"
   ]
  },
  {
   "cell_type": "code",
   "execution_count": null,
   "metadata": {},
   "outputs": [],
   "source": []
  },
  {
   "cell_type": "markdown",
   "metadata": {
    "lang": "en"
   },
   "source": [
    "And we can create a datetime also with slashes or even mixed and indicate that we put the day first instead of the American format with `dayfirst=True`"
   ]
  },
  {
   "cell_type": "code",
   "execution_count": null,
   "metadata": {},
   "outputs": [],
   "source": []
  },
  {
   "cell_type": "markdown",
   "metadata": {
    "lang": "en"
   },
   "source": [
    "Of course, not all real-world data is so random.\n",
    "### Real data"
   ]
  },
  {
   "cell_type": "code",
   "execution_count": null,
   "metadata": {},
   "outputs": [],
   "source": [
    "df = pd.read_csv('https://raw.githubusercontent.com/selva86/datasets/master/a10.csv')"
   ]
  },
  {
   "cell_type": "code",
   "execution_count": null,
   "metadata": {},
   "outputs": [],
   "source": []
  },
  {
   "cell_type": "markdown",
   "metadata": {
    "lang": "en"
   },
   "source": [
    "We can infer the frequency"
   ]
  },
  {
   "cell_type": "markdown",
   "metadata": {},
   "source": [
    "[List of differt frequency things can get: docs](https://pandas.pydata.org/docs/user_guide/timeseries.html)"
   ]
  },
  {
   "cell_type": "code",
   "execution_count": null,
   "metadata": {},
   "outputs": [],
   "source": []
  },
  {
   "cell_type": "markdown",
   "metadata": {
    "lang": "en"
   },
   "source": [
    "I can export the dates in string and put it in the format I want with the following code...\n",
    "Check the [documentation](https://pandas.pydata.org/docs/reference/api/pandas.Series.dt.strftime.html) because this is infinite.\n",
    "https://docs.python.org/3/library/datetime.html#strftime-and-strptime-behavior"
   ]
  },
  {
   "cell_type": "code",
   "execution_count": null,
   "metadata": {},
   "outputs": [],
   "source": []
  },
  {
   "cell_type": "markdown",
   "metadata": {
    "lang": "en"
   },
   "source": [
    "## Smoothing techniques\n",
    "\n",
    "We started to see some patterns and characteristics in our data.\n",
    "Let's check the mean of our values."
   ]
  },
  {
   "cell_type": "code",
   "execution_count": null,
   "metadata": {},
   "outputs": [],
   "source": []
  },
  {
   "cell_type": "markdown",
   "metadata": {
    "lang": "en"
   },
   "source": [
    "The mean in this case is not very representative because the time series is a dynamic data and the mean remains static, so the mean of all the values ​​does not tell us much, so let's see how that mean behaves over time."
   ]
  },
  {
   "cell_type": "markdown",
   "metadata": {
    "lang": "en"
   },
   "source": [
    "### Moving Average\n",
    "I leave you [this](https://www.metatrader5.com/es/terminal/help/indicators/trend_indicators/ma) article on trading indicators where they talk about the \"moving average\" or moving average."
   ]
  },
  {
   "cell_type": "markdown",
   "metadata": {},
   "source": [
    "![](https://ekuiper.org/docs/docs-assets/img/slidingWindow.791d2d43.png)"
   ]
  },
  {
   "cell_type": "markdown",
   "metadata": {},
   "source": [
    "**Rolling Window**"
   ]
  },
  {
   "cell_type": "markdown",
   "metadata": {},
   "source": [
    "##### Stocks in market\n",
    "- Bullish market: you charge, you buy -> Blue line above red line\n",
    "- Bearish market: you hibernate, go to sleep, don't buy"
   ]
  },
  {
   "cell_type": "markdown",
   "metadata": {},
   "source": [
    "![flipante explicación gráfica](https://robotwealth.com/wp-content/uploads/2020/05/sma_viz_rolling2.gif)"
   ]
  },
  {
   "cell_type": "code",
   "execution_count": null,
   "metadata": {},
   "outputs": [],
   "source": []
  },
  {
   "cell_type": "markdown",
   "metadata": {
    "lang": "en"
   },
   "source": [
    "**Conceptual question**: How would we go about making the average per year?"
   ]
  },
  {
   "cell_type": "code",
   "execution_count": null,
   "metadata": {},
   "outputs": [],
   "source": []
  },
  {
   "cell_type": "markdown",
   "metadata": {
    "lang": "en"
   },
   "source": [
    "There is the pandas rolling [method](https://pandas.pydata.org/docs/reference/api/pandas.DataFrame.rolling.html)."
   ]
  },
  {
   "cell_type": "code",
   "execution_count": null,
   "metadata": {},
   "outputs": [],
   "source": []
  },
  {
   "cell_type": "markdown",
   "metadata": {
    "lang": "en"
   },
   "source": [
    "As you can see, there are no values ​​for the mean in the first 12 points, because there is no window of the previous 12 values."
   ]
  },
  {
   "cell_type": "code",
   "execution_count": null,
   "metadata": {},
   "outputs": [],
   "source": []
  },
  {
   "cell_type": "markdown",
   "metadata": {
    "lang": "en"
   },
   "source": [
    "What about the 6-month moving average and the 24-month moving average?"
   ]
  },
  {
   "cell_type": "code",
   "execution_count": null,
   "metadata": {},
   "outputs": [],
   "source": []
  },
  {
   "cell_type": "markdown",
   "metadata": {
    "lang": "en"
   },
   "source": [
    "Let's try a different way of calculating a Moving Average.\n",
    "\n",
    "Instead of keeping a fixed size window and moving it around, we can try to increase the size of our window each time we move forward.\n",
    "\n",
    "**Window expansion** / **expanding window**\n",
    "While moving windows have a fixed size, expanding windows have a fixed starting point and incorporate new data as it becomes available.\n",
    "\n",
    "This is how I like to think of it:\n",
    "\n",
    "\"What is the mean of the last n values ​​at this time?\"\n",
    "That's what we have, the average up to that point. Let's understand it with the gif:"
   ]
  },
  {
   "cell_type": "markdown",
   "metadata": {},
   "source": [
    "![otro gif increíble](https://robotwealth.com/wp-content/uploads/2020/05/sma_viz_expanding-1.gif)"
   ]
  },
  {
   "cell_type": "markdown",
   "metadata": {
    "lang": "en"
   },
   "source": [
    "Gif article reference with more information [here](https://robotwealth.com/rolling-and-expanding-windows-for-dummies/)"
   ]
  },
  {
   "cell_type": "code",
   "execution_count": null,
   "metadata": {},
   "outputs": [],
   "source": []
  },
  {
   "cell_type": "markdown",
   "metadata": {
    "lang": "en"
   },
   "source": [
    "With rolling I can see the average of the evolution of each period and with expanding I can see the average of the general evolution of my company.\n",
    "Any way we look at it, we can see a trend for sales to increase over time."
   ]
  },
  {
   "cell_type": "markdown",
   "metadata": {
    "lang": "es"
   },
   "source": [
    "## Decomposition of a time series\n",
    "There are `three` components to a time series.\n",
    "\n",
    "If we separate the different components of a time series, the way the mean changes over time is called the `trend` and represents the way the values ​​behave in a \"long-term\" perspective.\n",
    "\n",
    "### Trend / Trend\n",
    "How does the mean change over time?\n",
    "In our example, there is a clear increasing trend.\n",
    "\n",
    "Not all time series are like this.\n",
    "#### Stationary Series\n",
    "\n",
    "Time series whose mean does not change over time are called `stationary`.\n",
    "![estacionaria](../images/estacionaria.png)"
   ]
  },
  {
   "cell_type": "markdown",
   "metadata": {
    "lang": "en"
   },
   "source": [
    "The figure is an example of a stationary series. It gives the average monthly performance of the Madrid Stock Exchange during the period from 1988 to 2000 measured by the General Index. Notice that the values ​​in the series appear to move around a fixed monthly return. There are no increasing or decreasing trends over time."
   ]
  },
  {
   "cell_type": "markdown",
   "metadata": {
    "lang": "es"
   },
   "source": [
    "#### Non-stationary series\n",
    "![lanoestacionaria](../images/noestacionaria.png)\n",
    "\n",
    "However, this other example shows a series that, unlike the previous one, is not clearly stable over time, and is what we call non-stationary. The series corresponds to the Spanish population over 16 years of age, at the end of each quarter during the period from 1977 to 2000. Note in the graph that the series is not stable, since its level increases over time. We say that the series has a clear and positive trend. Most economic and social series are non-stationary (stable) and show trends. In this case, the trend is approximately linear, although the slope of the line that we fit in the first half of the sample would be somewhat higher than the one that we would obtain in the second. This suggests that perhaps the annual population growth is changing over time. The trend of the series would then be variable over time instead of constant. This property is typical of real series in practice, where it is unlikely that we will observe a constant trend over long periods of observation."
   ]
  },
  {
   "cell_type": "markdown",
   "metadata": {
    "lang": "en"
   },
   "source": [
    "**However**, the trend does not explain all the changes in our data. There are ups and downs that repeat in some patterns. This can be attributed to one of two things"
   ]
  },
  {
   "cell_type": "markdown",
   "metadata": {
    "lang": "en"
   },
   "source": [
    "### Seasonality / Seasonality"
   ]
  },
  {
   "cell_type": "markdown",
   "metadata": {},
   "source": [
    "![](https://scontent-bcn1-1.xx.fbcdn.net/v/t1.6435-9/72655555_10159693080791840_4827606685960896512_n.jpg?stp=cp0_dst-jpg_e15_p320x320_q65&_nc_cat=107&ccb=1-7&_nc_sid=8024bb&_nc_ohc=lzZOmDbqbLUAX9auAfR&_nc_ht=scontent-bcn1-1.xx&oh=00_AT_2OsCPeMIFsdtq66ULQZReLEezR44WQf_B5l8Hpzy-Mw&oe=631FF8ED)"
   ]
  },
  {
   "cell_type": "markdown",
   "metadata": {},
   "source": [
    "Seasonality suggests that certain trends will appear cyclically. For example, temperatures rise and fall depending on the hours of the day and the months of the year. These are two different examples of seasonal patterns that we observe in our life, the change during the day and the change during a whole year.\n",
    "Patterns of peaks and troughs that repeat at a regular interval are attributed to \"seasons.\" These intervals are usually related to a calendar time pattern (annual, biannual, monthly, daily, weekly, hourly, etc.)\n",
    "It refers to periodic fluctuations. For example, electricity consumption is high during the day and low at night, or online sales increase during Christmas before slowing down again.\n",
    "![seasonality](../images/seasonarity.png)\n",
    "As you can see above, there is a clear daily seasonality. Every day a peak is observed towards the afternoon, and the lowest points are the beginning and the end of each day."
   ]
  },
  {
   "cell_type": "markdown",
   "metadata": {},
   "source": [
    "### Residuals\n",
    "Variations that do not repeat in any kind of pattern are called `residuals` or `noise`.\n",
    "Let's look at a tool to decompose our data."
   ]
  },
  {
   "cell_type": "markdown",
   "metadata": {
    "lang": "en"
   },
   "source": [
    "### Decomposition"
   ]
  },
  {
   "cell_type": "markdown",
   "metadata": {
    "lang": "en"
   },
   "source": [
    "Of course, the trend represents the consistent pattern in all the data. The seasonal effect expresses all cyclical effects due to seasonality. Finally, the residuals are the prediction error, or the difference between the actual data and the model we fit.\n",
    "The simplest type of decomposition is the classical decomposition. With it we expect a linear relationship between the three parts and the observed time series.\n",
    "There are two main approaches in classical decomposition:\n",
    "1. Additive\n",
    "2. Multiplicative\n",
    "\n",
    "The additive assumes that, for any period of time, the observed value is the sum of the trend, plus the seasonal effect, plus the residual, for that period. Similarly, the multiplicative decomposition assumes that the original series is a product of the three effects."
   ]
  },
  {
   "cell_type": "markdown",
   "metadata": {
    "lang": "en"
   },
   "source": [
    "#### Additive Approach"
   ]
  },
  {
   "cell_type": "code",
   "execution_count": null,
   "metadata": {},
   "outputs": [],
   "source": []
  },
  {
   "cell_type": "markdown",
   "metadata": {
    "lang": "en"
   },
   "source": [
    "**Another example**: sine function"
   ]
  },
  {
   "cell_type": "code",
   "execution_count": null,
   "metadata": {},
   "outputs": [],
   "source": []
  },
  {
   "cell_type": "markdown",
   "metadata": {
    "lang": "en"
   },
   "source": [
    "Being such a deterministic pattern, the residuals are ridiculous (1e-15).\n",
    "**Since the variance is constant with the mean, the additive model is good.**"
   ]
  },
  {
   "cell_type": "markdown",
   "metadata": {
    "lang": "en"
   },
   "source": [
    "#### Multiplicative Approach"
   ]
  },
  {
   "cell_type": "markdown",
   "metadata": {
    "lang": "en"
   },
   "source": [
    "When the variance increases with the mean, the multiplicative model can work better, that is, leave uniform residuals."
   ]
  },
  {
   "cell_type": "code",
   "execution_count": null,
   "metadata": {},
   "outputs": [],
   "source": []
  },
  {
   "cell_type": "markdown",
   "metadata": {
    "lang": "en"
   },
   "source": [
    "It is called a `multiplicative` model because if the parts are multiplied, the original data is recovered."
   ]
  },
  {
   "cell_type": "code",
   "execution_count": null,
   "metadata": {},
   "outputs": [],
   "source": []
  },
  {
   "cell_type": "markdown",
   "metadata": {
    "lang": "en"
   },
   "source": [
    "We notice that the multiplicative model fits our data much better and that when recomposing the signal it is almost perfect even without residual"
   ]
  },
  {
   "cell_type": "markdown",
   "metadata": {},
   "source": [
    "It'll depend on the data which one will fit better\n"
   ]
  },
  {
   "cell_type": "markdown",
   "metadata": {},
   "source": [
    "----"
   ]
  },
  {
   "cell_type": "markdown",
   "metadata": {
    "lang": "en"
   },
   "source": [
    "## Stationarity\n",
    "\n",
    "\n",
    "To carry out an adequate analysis of time series it is vital to determine if the data follow a stationary or non-stationary process. Lucky for us, in the 20th century, statisticians David Dickey and Wayne Fuller developed a test to help us. The method of checking whether a data set comes from a stationary process is known as the Dickey-Fuller test or DF test for short.\n",
    "The test is based on a contrast of hypotheses. We will have as null hypothesis that the series is Non-Stationary. So the alternative is that it is.\n",
    "\n",
    "\n",
    "When we do hypothesis testing, we always have to compute the value of a test statistic, which will depend on the sample values ​​and our null hypothesis.\n",
    "The value of the statistic is compared to a critical value in the Dickey Fuller table. If the test or contrast statistic is less than the critical value, we reject the null hypothesis. Which means that then the data comes from a stationary process.\n",
    "Another way to reach these conclusions is through the p-value.\n",
    "\n",
    "The p-value can be interpreted as the value that represents how likely the null hypothesis is. If it is a value very close to zero, it means that this hypothesis is unlikely and should be rejected.\n",
    "How do we know if it is a very low value, but enough to reject the Null Hypothesis?\n",
    "Because whenever we do something in inference we are going to have a confidence level, for example, 95%, and what is missing from that to reach 100% is our level of significance, that is, 5%=0.05. We would then compare the p-value with the level of significance. If it is smaller, we say that it is low enough to reject the null hypothesis."
   ]
  },
  {
   "cell_type": "markdown",
   "metadata": {
    "lang": "en"
   },
   "source": [
    "### Augmented Dickey Fuller Test\n",
    "\n",
    "When doing a statistical test, we have a null hypothesis and an alternative hypothesis and check some test statistic against the critical values ​​to see whether or not we reject the null hypothesis.\n",
    "\n",
    "- $H_0$ (Null Hypothesis) : The series is not stationary and there is a statistically significant trend\n",
    "\n",
    "- $H_A$ (Alternative hypothesis) : The series is stationary"
   ]
  },
  {
   "cell_type": "code",
   "execution_count": null,
   "metadata": {},
   "outputs": [],
   "source": []
  },
  {
   "cell_type": "markdown",
   "metadata": {
    "lang": "en"
   },
   "source": [
    "[Documentation](https://www.statsmodels.org/dev/generated/statsmodels.tsa.stattools.adfuller.html) to interpret the results.\n",
    "The one that will interest us will be the p value"
   ]
  },
  {
   "cell_type": "code",
   "execution_count": null,
   "metadata": {},
   "outputs": [],
   "source": [
    "from statsmodels.tsa.stattools import adfuller"
   ]
  },
  {
   "cell_type": "code",
   "execution_count": null,
   "metadata": {},
   "outputs": [],
   "source": []
  },
  {
   "cell_type": "markdown",
   "metadata": {
    "lang": "en"
   },
   "source": [
    "We look at the p-value and compare it to a predefined confidence interval alpha (typically 5%).\n",
    "> If the p-value > alpha (0.05), we do NOT reject the null hypothesis.\n",
    "\n",
    "> If the p-value < alpha (0.05), we reject the null hypothesis.\n",
    "\n",
    "In this case, we do not reject the null hypothesis and say that the time series is not stationary."
   ]
  },
  {
   "cell_type": "markdown",
   "metadata": {
    "lang": "en"
   },
   "source": [
    "### We do a test with a stationary series"
   ]
  },
  {
   "cell_type": "code",
   "execution_count": null,
   "metadata": {},
   "outputs": [],
   "source": []
  },
  {
   "cell_type": "markdown",
   "metadata": {
    "lang": "en"
   },
   "source": [
    "Note that the P Value is 0, therefore, we reject the null hypothesis (The time series is NOT stationary).\n",
    "The time series is stationary"
   ]
  },
  {
   "cell_type": "markdown",
   "metadata": {
    "lang": "en"
   },
   "source": [
    "## Autocorrelation function\n",
    "In the broadest sense, [correlation](https://en.wikipedia.org/wiki/Correlation_and_dependence) is any statistical association, although it commonly refers to the linear degree of relatedness of a pair of variables.\n",
    "\n",
    "[Autocorrelation](https://en.wikipedia.org/wiki/Autocorrelation), also known as serial correlation, is the correlation of a signal with a delayed copy of itself as a function of delay.\n",
    "\n",
    "As its name implies, autocorrelation represents the correlation between a sequence and itself. More precisely, it measures the level of similarity between a sequence from several periods ago and the actual data.\n",
    "The sequence from several periods ago is called \"lag\", as it is a delayed version of the original. For example, if we compute autocorrelation for a time series with daily frequency, we are determining how many of yesterday's values ​​are similar to today's values. If the frequency is instead annual, then the autocorrelation will measure the similarities from year to year."
   ]
  },
  {
   "cell_type": "code",
   "execution_count": null,
   "metadata": {},
   "outputs": [],
   "source": []
  },
  {
   "cell_type": "markdown",
   "metadata": {},
   "source": [
    "### Lag Plot"
   ]
  },
  {
   "cell_type": "markdown",
   "metadata": {
    "lang": "en"
   },
   "source": [
    "We can get an idea of ​​the autocorrelation by looking at a lag plot / Lag plot"
   ]
  },
  {
   "cell_type": "code",
   "execution_count": null,
   "metadata": {},
   "outputs": [],
   "source": []
  },
  {
   "cell_type": "markdown",
   "metadata": {
    "lang": "en"
   },
   "source": [
    "It tells us on the x-axis that the variable is time and on the y-axis that it is t + 1, that is, it is as if we were plotting a scatterplot choosing the same variable a month later"
   ]
  },
  {
   "cell_type": "code",
   "execution_count": null,
   "metadata": {},
   "outputs": [],
   "source": []
  },
  {
   "cell_type": "markdown",
   "metadata": {
    "lang": "en"
   },
   "source": [
    "What happens to the correlation after 3 time periods?"
   ]
  },
  {
   "cell_type": "code",
   "execution_count": null,
   "metadata": {},
   "outputs": [],
   "source": []
  },
  {
   "cell_type": "markdown",
   "metadata": {
    "lang": "en"
   },
   "source": [
    "There still seems to be a strong correlation..."
   ]
  },
  {
   "cell_type": "code",
   "execution_count": null,
   "metadata": {},
   "outputs": [],
   "source": [
    "# Maybe with this one, it's a bit more clear\n",
    "# This is telling about the seasonality"
   ]
  },
  {
   "cell_type": "markdown",
   "metadata": {},
   "source": [
    "![](https://miro.medium.com/max/1400/1*D47OrJDcue-6y9Hbiu8ANg.png)"
   ]
  },
  {
   "cell_type": "markdown",
   "metadata": {
    "lang": "en"
   },
   "source": [
    "## Predictive models"
   ]
  },
  {
   "cell_type": "markdown",
   "metadata": {},
   "source": [
    "\"All models are wrong, but some are useful\" - George E. P. Box"
   ]
  },
  {
   "attachments": {
    "GeorgeEPBox_%28cropped%29.jpg": {
     "image/jpeg": "[encoded data removed]"
    }
   },
   "cell_type": "markdown",
   "metadata": {},
   "source": [
    "![GeorgeEPBox_%28cropped%29.jpg](attachment:GeorgeEPBox_%28cropped%29.jpg)"
   ]
  },
  {
   "cell_type": "markdown",
   "metadata": {},
   "source": [
    "- `(p, q, d)`\n",
    "    - `p`: The number of lag observations included in model. How far back I go for my new observation\n",
    "    - `q`: Size of moving avarege window - How big your season is\n",
    "    - `d`: degree of differencing - if your data is seasonal - we make it stationary : mean does not change\n",
    "            `diff() 1 diff()diff() 2 diff()diff()diff() 3`"
   ]
  },
  {
   "cell_type": "markdown",
   "metadata": {
    "lang": "en"
   },
   "source": [
    "-  **AR Model (p)**: AR stands for AutoRegressive. It is the simplest model. Basically Autoregressive models predict the current value of our time series based on past values. For example, we would use the autoregressive model in series of the type where \"if we know today's prices, we can make an approximate prediction of tomorrow's prices\". This has to do with autocorrelation. The AR model relies only on past period values to predict current period values. They do not work well if the data is not stationary. <br>\n",
    "\n",
    "- **MA Model (q)**: Moving average models predict the current value of our time series based on past residuals. A simple order moving average model, of order one, would only consider the value of the residual in the previous period.<br>\n",
    "\n",
    "- **ARMA Models (p, q)**: It is the combination of both AR and MA models, with which an ARMA model would have two orders `(p,q)`, where `p` is the order of the **autoregressive** part and `q` is the order of the **moving average** part<br>\n",
    "\n",
    "- **ARIMA Model (p, q, d)**: It is an ARMA model applied to the result of integrating the time series a certain number of times, in the order of integration. That is, an ARIMA model of order (p,d,q) consists of integrating the original series d times, and then fitting an ARMA(p,q) model to that integrated series. The objective of the integration is to obtain a stationary series, since the ARMA models perform worse for non-stationary series.<br>\n",
    "\n",
    "- **SARMA AND SARIMA Models (P, D, R)m**: Let's remember that seasonality occurs when certain patterns appear periodically, for example, something that is repeated every year. Therefore, in this case, a simple AR autoregressive model will not describe the data well. Why? Because it only considers the value of the previous period to estimate the current period.<br>\n",
    "\n",
    "- **MAX models**: MAX models are models that consider exogenous information to explain the endogenous variable (the series we are studying). We are going to have MAX versions of all the models: ARMAX, ARIMAX, SARMAX and SARIMAX.\n",
    "\n",
    "- Facebook Prophet: https://facebook.github.io/prophet/docs/quick_start.html"
   ]
  },
  {
   "cell_type": "code",
   "execution_count": null,
   "metadata": {},
   "outputs": [],
   "source": [
    "# Base is Autoregression & Moving average\n",
    "# The models grow in complexity but they have the same base\n",
    "# They take parameters: p, q, d\n",
    "# There's criteria to choose one or the other: trends & seasonality\n",
    "# Mostly you'll be working with ARMA/ARIMA"
   ]
  },
  {
   "cell_type": "markdown",
   "metadata": {},
   "source": [
    "#### Rule of thumb\n",
    "\n",
    "##### Trends\n",
    "\n",
    "- If stationary: ARMA\n",
    "- If non-stationary: ARIMA\n",
    "    \n",
    "##### If seasonality\n",
    "\n",
    "- If stationary: SARMA\n",
    "- If non-stationary: SARIMA"
   ]
  },
  {
   "cell_type": "markdown",
   "metadata": {},
   "source": [
    "## FORECASTING: temperatures"
   ]
  },
  {
   "cell_type": "markdown",
   "metadata": {},
   "source": [
    "#### Implementation of ARIMA: most simple example"
   ]
  },
  {
   "cell_type": "markdown",
   "metadata": {},
   "source": [
    "[The docs](https://www.statsmodels.org/dev/generated/statsmodels.tsa.arima.model.ARIMA.html)"
   ]
  },
  {
   "cell_type": "code",
   "execution_count": null,
   "metadata": {},
   "outputs": [],
   "source": [
    "from statsmodels.tsa.arima.model import ARIMA\n",
    "from random import random\n",
    "\n",
    "# Data\n",
    "\n",
    "# Fit model\n",
    "\n",
    "\n",
    "# Predict\n"
   ]
  },
  {
   "cell_type": "markdown",
   "metadata": {},
   "source": [
    "### Reading the data"
   ]
  },
  {
   "cell_type": "code",
   "execution_count": null,
   "metadata": {},
   "outputs": [],
   "source": [
    "data = pd.read_csv('../datasets/weather_data.csv')"
   ]
  },
  {
   "cell_type": "code",
   "execution_count": null,
   "metadata": {},
   "outputs": [],
   "source": []
  },
  {
   "cell_type": "markdown",
   "metadata": {},
   "source": [
    "### Seeing the data"
   ]
  },
  {
   "cell_type": "code",
   "execution_count": null,
   "metadata": {
    "scrolled": false
   },
   "outputs": [],
   "source": []
  },
  {
   "cell_type": "markdown",
   "metadata": {},
   "source": [
    "### Rolling average"
   ]
  },
  {
   "cell_type": "code",
   "execution_count": null,
   "metadata": {},
   "outputs": [],
   "source": [
    "# Rolling window\n"
   ]
  },
  {
   "cell_type": "markdown",
   "metadata": {},
   "source": [
    "### Exponential smoothing"
   ]
  },
  {
   "cell_type": "code",
   "execution_count": null,
   "metadata": {},
   "outputs": [],
   "source": []
  },
  {
   "cell_type": "markdown",
   "metadata": {},
   "source": [
    "### Seasonality"
   ]
  },
  {
   "cell_type": "markdown",
   "metadata": {},
   "source": [
    "Decompose the time series\n",
    "\n",
    "- Seasons\n",
    "- General trend\n",
    "- The rest"
   ]
  },
  {
   "cell_type": "code",
   "execution_count": null,
   "metadata": {},
   "outputs": [],
   "source": []
  },
  {
   "cell_type": "markdown",
   "metadata": {},
   "source": [
    "### ARIMA model\n",
    "\n",
    "- **AR**: Autoregressive model\n",
    "- **I**: Integrated - we dont use the values we use the diference\n",
    "- **MA**: Moving avarege model\n",
    "\n",
    "- `(p, d, q)`\n",
    "    - `p`: The number of lag observations included in model\n",
    "    - `d`: degree of differencing - if your data is seasonal - we make it stationary : mean does not change\n",
    "        `diff() 1 diff()diff() 2 diff()diff()diff() 3`\n",
    "    - `q`: Size of moving avarege window - how big is your season\n",
    "\n",
    "\n",
    "- Visualization\n",
    "   - Autocorrelation `acf` plot\n",
    "   - Partial autocorrelation: `pacf` plot\n"
   ]
  },
  {
   "cell_type": "code",
   "execution_count": null,
   "metadata": {},
   "outputs": [],
   "source": []
  },
  {
   "cell_type": "markdown",
   "metadata": {},
   "source": [
    "### Into the future: forecasting 🔮"
   ]
  },
  {
   "cell_type": "code",
   "execution_count": null,
   "metadata": {},
   "outputs": [],
   "source": []
  },
  {
   "cell_type": "markdown",
   "metadata": {},
   "source": [
    "# RECAP\n",
    "\n"
   ]
  },
  {
   "cell_type": "code",
   "execution_count": null,
   "metadata": {},
   "outputs": [],
   "source": []
  },
  {
   "cell_type": "markdown",
   "metadata": {},
   "source": [
    "## Further Resources\n",
    "- [Detailed step by step recognition of model](https://people.duke.edu/~rnau/arimrule.htm)\n",
    "- [Detailed step by step of time series exploration](https://www.machinelearningplus.com/time-series/time-series-analysis-python/)\n",
    "- [Modeling with ARIMA](https://www.machinelearningplus.com/time-series/arima-model-time-series-forecasting-python/)"
   ]
  }
 ],
 "metadata": {
  "kernelspec": {
   "display_name": "ironhack",
   "language": "python",
   "name": "ironhack"
  },
  "language_info": {
   "codemirror_mode": {
    "name": "ipython",
    "version": 3
   },
   "file_extension": ".py",
   "mimetype": "text/x-python",
   "name": "python",
   "nbconvert_exporter": "python",
   "pygments_lexer": "ipython3",
   "version": "3.8.13"
  },
  "nbTranslate": {
   "displayLangs": [
    "en",
    "es"
   ],
   "hotkey": "alt-a",
   "langInMainMenu": true,
   "sourceLang": "es",
   "targetLang": "en",
   "useGoogleTranslate": true
  },
  "toc": {
   "base_numbering": 1,
   "nav_menu": {},
   "number_sections": true,
   "sideBar": true,
   "skip_h1_title": true,
   "title_cell": "Table of Contents",
   "title_sidebar": "Contents",
   "toc_cell": true,
   "toc_position": {
    "height": "calc(100% - 180px)",
    "left": "10px",
    "top": "150px",
    "width": "326px"
   },
   "toc_section_display": true,
   "toc_window_display": true
  },
  "varInspector": {
   "cols": {
    "lenName": 16,
    "lenType": 16,
    "lenVar": 40
   },
   "kernels_config": {
    "python": {
     "delete_cmd_postfix": "",
     "delete_cmd_prefix": "del ",
     "library": "var_list.py",
     "varRefreshCmd": "print(var_dic_list())"
    },
    "r": {
     "delete_cmd_postfix": ") ",
     "delete_cmd_prefix": "rm(",
     "library": "var_list.r",
     "varRefreshCmd": "cat(var_dic_list()) "
    }
   },
   "types_to_exclude": [
    "module",
    "function",
    "builtin_function_or_method",
    "instance",
    "_Feature"
   ],
   "window_display": false
  }
 },
 "nbformat": 4,
 "nbformat_minor": 4
}
