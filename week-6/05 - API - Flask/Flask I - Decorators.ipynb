{
 "cells": [
  {
   "cell_type": "markdown",
   "metadata": {
    "toc": true
   },
   "source": [
    "<h1>Table of Contents<span class=\"tocSkip\"></span></h1>\n",
    "<div class=\"toc\"><ul class=\"toc-item\"><li><span><a href=\"#What-is-Flask?\" data-toc-modified-id=\"What-is-Flask?-1\"><span class=\"toc-item-num\">1&nbsp;&nbsp;</span>What is Flask?</a></span><ul class=\"toc-item\"><li><span><a href=\"#Doc-de-Flask\" data-toc-modified-id=\"Doc-de-Flask-1.1\"><span class=\"toc-item-num\">1.1&nbsp;&nbsp;</span>Doc de Flask</a></span></li><li><span><a href=\"#Other-frameworks\" data-toc-modified-id=\"Other-frameworks-1.2\"><span class=\"toc-item-num\">1.2&nbsp;&nbsp;</span>Other frameworks</a></span></li></ul></li><li><span><a href=\"#Introduction-to-decorators\" data-toc-modified-id=\"Introduction-to-decorators-2\"><span class=\"toc-item-num\">2&nbsp;&nbsp;</span>Introduction to decorators</a></span><ul class=\"toc-item\"><li><span><a href=\"#What-are-decorators?\" data-toc-modified-id=\"What-are-decorators?-2.1\"><span class=\"toc-item-num\">2.1&nbsp;&nbsp;</span>What are decorators?</a></span></li><li><span><a href=\"#Structure\" data-toc-modified-id=\"Structure-2.2\"><span class=\"toc-item-num\">2.2&nbsp;&nbsp;</span>Structure</a></span></li><li><span><a href=\"#Let's-go-there\" data-toc-modified-id=\"Let's-go-there-2.3\"><span class=\"toc-item-num\">2.3&nbsp;&nbsp;</span>Let's go there</a></span></li><li><span><a href=\"#Modifying-another-function\" data-toc-modified-id=\"Modifying-another-function-2.4\"><span class=\"toc-item-num\">2.4&nbsp;&nbsp;</span>Modifying another function</a></span></li><li><span><a href=\"#Decorators-for-exception-handlers\" data-toc-modified-id=\"Decorators-for-exception-handlers-2.5\"><span class=\"toc-item-num\">2.5&nbsp;&nbsp;</span>Decorators for exception handlers</a></span></li><li><span><a href=\"#Verbosity/error-handling\" data-toc-modified-id=\"Verbosity/error-handling-2.6\"><span class=\"toc-item-num\">2.6&nbsp;&nbsp;</span>Verbosity/error handling</a></span></li><li><span><a href=\"#Time\" data-toc-modified-id=\"Time-2.7\"><span class=\"toc-item-num\">2.7&nbsp;&nbsp;</span>Time</a></span></li></ul></li><li><span><a href=\"#Let's-create-an-API\" data-toc-modified-id=\"Let's-create-an-API-3\"><span class=\"toc-item-num\">3&nbsp;&nbsp;</span>Let's create an API</a></span><ul class=\"toc-item\"><li><span><a href=\"#Let's-go-🔥\" data-toc-modified-id=\"Let's-go-🔥-3.1\"><span class=\"toc-item-num\">3.1&nbsp;&nbsp;</span>Let's go 🔥</a></span></li></ul></li><li><span><a href=\"#Summary\" data-toc-modified-id=\"Summary-4\"><span class=\"toc-item-num\">4&nbsp;&nbsp;</span>Summary</a></span></li></ul></div>"
   ]
  },
  {
   "cell_type": "markdown",
   "metadata": {
    "lang": "en"
   },
   "source": [
    "# API WITH PYTHON"
   ]
  },
  {
   "cell_type": "markdown",
   "metadata": {
    "lang": "en"
   },
   "source": [
    "## What is Flask?"
   ]
  },
  {
   "cell_type": "markdown",
   "metadata": {
    "lang": "en"
   },
   "source": [
    "Flask is a minimalist framework written in Python that allows you to create APIs quickly and with a minimum number of lines of code."
   ]
  },
  {
   "cell_type": "markdown",
   "metadata": {},
   "source": [
    "### Doc de Flask"
   ]
  },
  {
   "cell_type": "markdown",
   "metadata": {},
   "source": [
    "- https://flask.palletsprojects.com/en/1.1.x/quickstart/#a-minimal-application"
   ]
  },
  {
   "cell_type": "markdown",
   "metadata": {
    "lang": "en"
   },
   "source": [
    "### Other frameworks"
   ]
  },
  {
   "cell_type": "markdown",
   "metadata": {},
   "source": [
    "- https://www.streamlit.io/\n",
    "- https://fastapi.tiangolo.com/"
   ]
  },
  {
   "cell_type": "markdown",
   "metadata": {
    "lang": "en"
   },
   "source": [
    "## Introduction to decorators"
   ]
  },
  {
   "cell_type": "markdown",
   "metadata": {
    "lang": "en"
   },
   "source": [
    "### What are decorators?"
   ]
  },
  {
   "cell_type": "markdown",
   "metadata": {
    "lang": "en"
   },
   "source": [
    "Decorators are themselves functions, which take a function as an argument and return another function.\n",
    "Functions that add \"functionality\" to other functions.\n",
    "There are really 3 functions:\n",
    "a, b and c\n",
    "\n",
    "Where:\n",
    "A is a function that receives as parameter B to return C\n",
    "\n",
    "\n",
    "\n",
    "Decorators were added in Python 2.4 to make it easier to read and understand the wrapper of functions and methods (a function that receives a function and returns an enhanced one). The original use case was to be able to define methods as class methods or static methods, at the head of their definition. The syntax before decorators was:\n",
    "\n",
    "```python\n",
    "class WhatFor(object):\n",
    "    define it(cls):\n",
    "        print 'work with %s' % cls\n",
    "    it = classmethod(it)\n",
    "    defuncommon():\n",
    "        print 'I could be a global function'\n",
    "    uncommon = staticmethod(uncommon)\n",
    "```\n",
    "\n",
    "This syntax became difficult to read when the methods became large, or various transformations were done on the methods.\n",
    "The decorator syntax is lighter and easier to understand:\n",
    "\n",
    "```python\n",
    "class WhatFor(object):\n",
    "    @classmethod\n",
    "    define it(cls):\n",
    "        print 'work with %s' % cls@staticmethod\n",
    "    defuncommon():\n",
    "        print 'I could be a global function'\n",
    "```"
   ]
  },
  {
   "cell_type": "markdown",
   "metadata": {
    "lang": "en"
   },
   "source": [
    "### Structure\n",
    "How to write a decorator\n",
    "There are many ways to write custom decorators, but the easiest and most readable way is to write a function that returns a subfunction that wraps the original function call.\n",
    "A generic pattern is:\n",
    "\n",
    "```python\n",
    "def mydecorator(function):\n",
    "    def _mydecorator(*args,**kw):\n",
    "        # do some stuff before the real\n",
    "        # function gets called\n",
    "        res = function(*args, **kw)\n",
    "    return _mydecorator\n",
    "```"
   ]
  },
  {
   "cell_type": "markdown",
   "metadata": {
    "lang": "en"
   },
   "source": [
    "### Let's go there\n",
    "We remember 🤔\n",
    "\n",
    "There are really 3 functions:\n",
    "a, b and c\n",
    "\n",
    "Where:\n",
    " A is a function that receives as parameter B to return C"
   ]
  },
  {
   "cell_type": "code",
   "execution_count": 1,
   "metadata": {},
   "outputs": [],
   "source": [
    "def decorator_function_A(one_function_B): \n",
    "    def inner_function_C(*args,**kw): \n",
    "        # code for the inner function\n",
    "        pass\n",
    "    return inner_function_C\n",
    "\n",
    "#decorator_function  = Function A\n",
    "#one_function  = Function B\n",
    "#inner_function = Function C"
   ]
  },
  {
   "cell_type": "markdown",
   "metadata": {},
   "source": [
    "### Modifying another function"
   ]
  },
  {
   "cell_type": "code",
   "execution_count": 2,
   "metadata": {},
   "outputs": [],
   "source": [
    "import random\n",
    "def choose (list_):\n",
    "    return random.choice(list_)"
   ]
  },
  {
   "cell_type": "code",
   "execution_count": 3,
   "metadata": {},
   "outputs": [
    {
     "data": {
      "text/plain": [
       "['lettuce', 'tomato', 'cheese']"
      ]
     },
     "execution_count": 3,
     "metadata": {},
     "output_type": "execute_result"
    }
   ],
   "source": [
    "items = [\"lettuce\", \"tomato\", \"cheese\"]\n",
    "items"
   ]
  },
  {
   "cell_type": "code",
   "execution_count": 4,
   "metadata": {},
   "outputs": [
    {
     "data": {
      "text/plain": [
       "'tomato'"
      ]
     },
     "execution_count": 4,
     "metadata": {},
     "output_type": "execute_result"
    }
   ],
   "source": [
    "choose(items)"
   ]
  },
  {
   "cell_type": "code",
   "execution_count": 5,
   "metadata": {},
   "outputs": [],
   "source": [
    "def outer_A (fn):\n",
    "    def inner_wrapper (*args, **kwargs):\n",
    "        print(\"This is the item you chose: \")\n",
    "        return fn(*args, **kwargs) # This would be choose\n",
    "    return inner_wrapper"
   ]
  },
  {
   "cell_type": "code",
   "execution_count": 6,
   "metadata": {},
   "outputs": [
    {
     "name": "stdout",
     "output_type": "stream",
     "text": [
      "This is the item you chose: \n"
     ]
    },
    {
     "data": {
      "text/plain": [
       "'cheese'"
      ]
     },
     "execution_count": 6,
     "metadata": {},
     "output_type": "execute_result"
    }
   ],
   "source": [
    "@outer_A\n",
    "def choose (list_):\n",
    "    return random.choice(list_)\n",
    "choose (items)"
   ]
  },
  {
   "cell_type": "code",
   "execution_count": 7,
   "metadata": {},
   "outputs": [],
   "source": [
    "def outer_A (fn):\n",
    "    def inner_wrapper (*args, **kwargs):\n",
    "        catchphrase = [\"Do the pull request\",\n",
    "                      \"Did you google it\",\n",
    "                      \"Do the survey\",\n",
    "                      \"trust the process\",\n",
    "                      \"DID YOU READ THE ERROR?\"]\n",
    "        return f\"{fn(*args, **kwargs)} says: {random.choice(catchphrase)}\" # This would be choose\n",
    "    return inner_wrapper"
   ]
  },
  {
   "cell_type": "code",
   "execution_count": 8,
   "metadata": {},
   "outputs": [
    {
     "data": {
      "text/plain": [
       "'Fer says: trust the process'"
      ]
     },
     "execution_count": 8,
     "metadata": {},
     "output_type": "execute_result"
    }
   ],
   "source": [
    "@outer_A\n",
    "def choose (list_):\n",
    "    return random.choice(list_)\n",
    "choose ([\"Pau\", \"Fer\"])"
   ]
  },
  {
   "cell_type": "code",
   "execution_count": 9,
   "metadata": {},
   "outputs": [
    {
     "data": {
      "text/plain": [
       "'Pau'"
      ]
     },
     "execution_count": 9,
     "metadata": {},
     "output_type": "execute_result"
    }
   ],
   "source": [
    "def choose (list_):\n",
    "    return random.choice(list_)\n",
    "choose ([\"Pau\", \"Fer\"])"
   ]
  },
  {
   "cell_type": "markdown",
   "metadata": {},
   "source": [
    "### Decorators for exception handlers"
   ]
  },
  {
   "cell_type": "code",
   "execution_count": 10,
   "metadata": {},
   "outputs": [],
   "source": [
    "def int_exception (fn):\n",
    "    def inner_wrapper (*args, **kwargs):\n",
    "        try:\n",
    "            return fn(*args, **kwargs)\n",
    "        except TypeError:\n",
    "            return f\"The function {fn.__name__} cannot take those arguemnts\"\n",
    "    return inner_wrapper"
   ]
  },
  {
   "cell_type": "code",
   "execution_count": 11,
   "metadata": {},
   "outputs": [
    {
     "data": {
      "text/plain": [
       "'The function area_square cannot take those arguemnts'"
      ]
     },
     "execution_count": 11,
     "metadata": {},
     "output_type": "execute_result"
    }
   ],
   "source": [
    "@int_exception\n",
    "def area_square(length):\n",
    "    print(length * length)\n",
    "area_square (\"5\")"
   ]
  },
  {
   "cell_type": "code",
   "execution_count": 12,
   "metadata": {},
   "outputs": [],
   "source": [
    "@int_exception\n",
    "def area_circle (radius):\n",
    "    return 3.14 * radius * radius"
   ]
  },
  {
   "cell_type": "code",
   "execution_count": 13,
   "metadata": {},
   "outputs": [
    {
     "name": "stdout",
     "output_type": "stream",
     "text": [
      "28.259999999999998\n",
      "The function area_circle cannot take those arguemnts\n"
     ]
    }
   ],
   "source": [
    "print(area_circle(3))\n",
    "print(area_circle(\"3\"))"
   ]
  },
  {
   "cell_type": "code",
   "execution_count": 14,
   "metadata": {},
   "outputs": [
    {
     "name": "stdout",
     "output_type": "stream",
     "text": [
      "4\n"
     ]
    }
   ],
   "source": [
    "def area_square (length):\n",
    "    print(length * length)\n",
    "\n",
    "area_square(2)"
   ]
  },
  {
   "cell_type": "markdown",
   "metadata": {
    "lang": "en"
   },
   "source": [
    "### Verbosity/error handling"
   ]
  },
  {
   "cell_type": "code",
   "execution_count": 15,
   "metadata": {},
   "outputs": [],
   "source": [
    "import requests"
   ]
  },
  {
   "cell_type": "code",
   "execution_count": 16,
   "metadata": {},
   "outputs": [],
   "source": [
    "def request_url (url):\n",
    "    return requests.get(url)"
   ]
  },
  {
   "cell_type": "code",
   "execution_count": 17,
   "metadata": {},
   "outputs": [
    {
     "data": {
      "text/plain": [
       "<Response [200]>"
      ]
     },
     "execution_count": 17,
     "metadata": {},
     "output_type": "execute_result"
    }
   ],
   "source": [
    "request_url (\"https://elpais.com/\")"
   ]
  },
  {
   "cell_type": "code",
   "execution_count": 18,
   "metadata": {},
   "outputs": [],
   "source": [
    "#request_url (\"https://elpais.co/\")"
   ]
  },
  {
   "cell_type": "code",
   "execution_count": 19,
   "metadata": {},
   "outputs": [],
   "source": [
    "def feedback (fn):\n",
    "    def wrapper (*args, **kwargs):\n",
    "        try: \n",
    "            fn(*args, **kwargs) \n",
    "            return f\"This worked!\"# here is where we return our original fn\n",
    "        except Exception as e:\n",
    "            print(\"Hey this didn't go through\")\n",
    "            return f\"There was an error, which is: {e}\"\n",
    "    return wrapper"
   ]
  },
  {
   "cell_type": "code",
   "execution_count": 20,
   "metadata": {},
   "outputs": [
    {
     "name": "stdout",
     "output_type": "stream",
     "text": [
      "Hey this didn't go through\n"
     ]
    },
    {
     "data": {
      "text/plain": [
       "\"There was an error, which is: HTTPSConnectionPool(host='elpais.co', port=443): Max retries exceeded with url: / (Caused by NewConnectionError('<urllib3.connection.HTTPSConnection object at 0x7f7f1e8aad60>: Failed to establish a new connection: [Errno 60] Operation timed out'))\""
      ]
     },
     "execution_count": 20,
     "metadata": {},
     "output_type": "execute_result"
    }
   ],
   "source": [
    "@feedback\n",
    "def request_url (url):\n",
    "    return requests.get(url)\n",
    "request_url(\"https://elpais.co/\")"
   ]
  },
  {
   "cell_type": "markdown",
   "metadata": {},
   "source": [
    "### Time"
   ]
  },
  {
   "cell_type": "code",
   "execution_count": 21,
   "metadata": {},
   "outputs": [],
   "source": [
    "def daily_backup ():\n",
    "    print(\"Daily back-up has finished\")"
   ]
  },
  {
   "cell_type": "code",
   "execution_count": 22,
   "metadata": {},
   "outputs": [
    {
     "name": "stdout",
     "output_type": "stream",
     "text": [
      "Daily back-up has finished\n"
     ]
    }
   ],
   "source": [
    "daily_backup ()"
   ]
  },
  {
   "cell_type": "code",
   "execution_count": 23,
   "metadata": {},
   "outputs": [
    {
     "data": {
      "text/plain": [
       "'2022-11-10 15:38:22'"
      ]
     },
     "execution_count": 23,
     "metadata": {},
     "output_type": "execute_result"
    }
   ],
   "source": [
    "from datetime import datetime\n",
    "\n",
    "datetime.today().strftime(\"%Y-%m-%d %H:%M:%S\") #upper M: minutes, watch out"
   ]
  },
  {
   "cell_type": "code",
   "execution_count": 153,
   "metadata": {},
   "outputs": [],
   "source": [
    "def log_datetime(fn):\n",
    "    def wrapper (*args, **kwargs):\n",
    "        print(f'The function {fn.__name__} run on {datetime.today().strftime(\"%y-%m-%d %H:%M:%S\")}')\n",
    "        return fn(*args, **kwargs) # daily_backup ()\n",
    "    return wrapper"
   ]
  },
  {
   "cell_type": "code",
   "execution_count": 152,
   "metadata": {},
   "outputs": [
    {
     "name": "stdout",
     "output_type": "stream",
     "text": [
      "The function daily_backup run on 22-08-12 09:45:58\n",
      "Daily back-up has finished\n"
     ]
    }
   ],
   "source": [
    "@log_datetime\n",
    "def daily_backup ():\n",
    "    print(\"Daily back-up has finished\")\n",
    "daily_backup ()"
   ]
  },
  {
   "cell_type": "code",
   "execution_count": 154,
   "metadata": {},
   "outputs": [
    {
     "name": "stdout",
     "output_type": "stream",
     "text": [
      "The function area_square run on 22-08-12 09:47:08\n",
      "4\n"
     ]
    }
   ],
   "source": [
    "@log_datetime\n",
    "def area_square (length):\n",
    "    return length * length\n",
    "\n",
    "area = area_square(2)\n",
    "print(area)"
   ]
  },
  {
   "cell_type": "code",
   "execution_count": 138,
   "metadata": {},
   "outputs": [
    {
     "name": "stdout",
     "output_type": "stream",
     "text": [
      "The function daily_backup run on 22-08-12 09:43:10\n"
     ]
    }
   ],
   "source": [
    "daily_backup ()"
   ]
  },
  {
   "cell_type": "code",
   "execution_count": 30,
   "metadata": {},
   "outputs": [],
   "source": [
    "import os"
   ]
  },
  {
   "cell_type": "code",
   "execution_count": 37,
   "metadata": {},
   "outputs": [],
   "source": [
    "def monica(fn):\n",
    "    def wrapper (*args, **kwargs):\n",
    "        fn(*args, **kwargs)\n",
    "        os.system(\"say -v Monica ayam don\")\n",
    "    return wrapper"
   ]
  },
  {
   "cell_type": "code",
   "execution_count": 38,
   "metadata": {},
   "outputs": [],
   "source": [
    "@monica\n",
    "def addition (a, b):\n",
    "    return a + b"
   ]
  },
  {
   "cell_type": "code",
   "execution_count": 39,
   "metadata": {},
   "outputs": [],
   "source": [
    "addition (3, 4)"
   ]
  },
  {
   "cell_type": "markdown",
   "metadata": {
    "lang": "en"
   },
   "source": [
    "## Let's create an API"
   ]
  },
  {
   "cell_type": "markdown",
   "metadata": {
    "lang": "en"
   },
   "source": [
    "API stands for Application Programming Interface.\n",
    "APIs allow your products and services to communicate with others, without the need to know how they are implemented.\n",
    "We are going to use an API as an intermediary element between a database and a user who wants to consult it without knowing programming."
   ]
  },
  {
   "cell_type": "code",
   "execution_count": null,
   "metadata": {},
   "outputs": [],
   "source": [
    "#!pip install flask"
   ]
  },
  {
   "cell_type": "markdown",
   "metadata": {
    "lang": "en"
   },
   "source": [
    "### Let's go 🔥"
   ]
  },
  {
   "cell_type": "code",
   "execution_count": 3,
   "metadata": {},
   "outputs": [
    {
     "data": {
      "text/plain": [
       "8"
      ]
     },
     "execution_count": 3,
     "metadata": {},
     "output_type": "execute_result"
    }
   ],
   "source": [
    "import random\n",
    "def random_number ():\n",
    "    return random.randint(0, 10)\n",
    "random_number()"
   ]
  },
  {
   "cell_type": "code",
   "execution_count": null,
   "metadata": {},
   "outputs": [],
   "source": []
  },
  {
   "cell_type": "code",
   "execution_count": 1,
   "metadata": {},
   "outputs": [
    {
     "name": "stdout",
     "output_type": "stream",
     "text": [
      " * Serving Flask app '__main__' (lazy loading)\n",
      " * Environment: production\n",
      "\u001b[31m   WARNING: This is a development server. Do not use it in a production deployment.\u001b[0m\n",
      "\u001b[2m   Use a production WSGI server instead.\u001b[0m\n",
      " * Debug mode: off\n"
     ]
    },
    {
     "name": "stderr",
     "output_type": "stream",
     "text": [
      " * Running on http://127.0.0.1:5000 (Press CTRL+C to quit)\n",
      "127.0.0.1 - - [10/Nov/2022 15:48:44] \"GET / HTTP/1.1\" 200 -\n",
      "127.0.0.1 - - [10/Nov/2022 15:48:55] \"GET /randomnumber HTTP/1.1\" 200 -\n",
      "127.0.0.1 - - [10/Nov/2022 15:48:59] \"GET /randomnumber HTTP/1.1\" 200 -\n",
      "127.0.0.1 - - [10/Nov/2022 15:49:00] \"GET /randomnumber HTTP/1.1\" 200 -\n",
      "127.0.0.1 - - [10/Nov/2022 15:49:01] \"GET /randomnumber HTTP/1.1\" 200 -\n",
      "127.0.0.1 - - [10/Nov/2022 15:49:02] \"GET /randomnumber HTTP/1.1\" 200 -\n",
      "127.0.0.1 - - [10/Nov/2022 15:49:03] \"GET /randomnumber HTTP/1.1\" 200 -\n",
      "127.0.0.1 - - [10/Nov/2022 15:49:04] \"GET /randomnumber HTTP/1.1\" 200 -\n",
      "127.0.0.1 - - [10/Nov/2022 15:49:05] \"GET /randomnumber HTTP/1.1\" 200 -\n"
     ]
    }
   ],
   "source": [
    "from flask import Flask\n",
    "import random\n",
    "from pymongo import MongoClient\n",
    "\n",
    "app = Flask(__name__)\n",
    "\n",
    "\n",
    "\n",
    "\n",
    "\n",
    "@app.route(\"/\")\n",
    "def greeting ():\n",
    "    return f\"How are you doing\"\n",
    "\n",
    "@app.route(\"/randomnumber\")\n",
    "def random_number ():\n",
    "    return str(random.randint(0, 10))\n",
    "\n",
    "@app.route(\"/retrieve/sql\")\n",
    "def sql_function ():\n",
    "    #connection\n",
    "    \"\"\"select * from songs\"\"\"\n",
    "    \n",
    "@app.route(\"/songs/popularity\")\n",
    "def get_sql_things ():\n",
    "    \"\"\"\n",
    "    SELECT * FROM songs, COUNT(ironhacker)\n",
    "        WHERE popularity > 85\n",
    "    GROUP BY ironhacker\n",
    "        \"\"\"\n",
    "    \n",
    "\n",
    "\n",
    "\n",
    "\n",
    "\n",
    "\n",
    "\n",
    "\n",
    "if __name__ == '__main__':\n",
    "    app.run()"
   ]
  },
  {
   "cell_type": "code",
   "execution_count": null,
   "metadata": {
    "lang": "es"
   },
   "outputs": [
    {
     "name": "stdout",
     "output_type": "stream",
     "text": [
      " * Serving Flask app '__main__' (lazy loading)\n",
      " * Environment: production\n",
      "\u001b[31m   WARNING: This is a development server. Do not use it in a production deployment.\u001b[0m\n",
      "\u001b[2m   Use a production WSGI server instead.\u001b[0m\n",
      " * Debug mode: off\n"
     ]
    },
    {
     "name": "stderr",
     "output_type": "stream",
     "text": [
      " * Running on http://127.0.0.1:5000 (Press CTRL+C to quit)\n",
      "127.0.0.1 - - [10/Nov/2022 16:00:40] \"GET /campus/bcn HTTP/1.1\" 200 -\n",
      "127.0.0.1 - - [10/Nov/2022 16:00:44] \"GET /campus/bcn HTTP/1.1\" 200 -\n",
      "127.0.0.1 - - [10/Nov/2022 16:00:57] \"GET /campus/bcn HTTP/1.1\" 200 -\n",
      "127.0.0.1 - - [10/Nov/2022 16:01:02] \"GET /campus/bcn HTTP/1.1\" 200 -\n",
      "127.0.0.1 - - [10/Nov/2022 16:01:06] \"GET /campus/bcn HTTP/1.1\" 200 -\n",
      "127.0.0.1 - - [10/Nov/2022 16:01:09] \"GET /campus/bcn HTTP/1.1\" 200 -\n",
      "127.0.0.1 - - [10/Nov/2022 16:01:36] \"GET /campus/mad HTTP/1.1\" 200 -\n",
      "127.0.0.1 - - [10/Nov/2022 16:01:40] \"GET /campus/bcn HTTP/1.1\" 200 -\n",
      "127.0.0.1 - - [10/Nov/2022 16:01:46] \"GET /random-number HTTP/1.1\" 200 -\n",
      "127.0.0.1 - - [10/Nov/2022 16:01:50] \"GET /random-number HTTP/1.1\" 200 -\n",
      "127.0.0.1 - - [10/Nov/2022 16:04:08] \"GET /random-number HTTP/1.1\" 200 -\n",
      "127.0.0.1 - - [10/Nov/2022 16:04:08] \"GET /random-number HTTP/1.1\" 200 -\n",
      "127.0.0.1 - - [10/Nov/2022 16:04:09] \"GET /random-number HTTP/1.1\" 200 -\n",
      "127.0.0.1 - - [10/Nov/2022 16:04:17] \"GET /random-number HTTP/1.1\" 200 -\n",
      "127.0.0.1 - - [10/Nov/2022 16:04:39] \"GET /random-number HTTP/1.1\" 200 -\n",
      "127.0.0.1 - - [10/Nov/2022 16:04:44] \"GET /random-number HTTP/1.1\" 200 -\n",
      "127.0.0.1 - - [10/Nov/2022 16:04:45] \"GET /random-number HTTP/1.1\" 200 -\n",
      "127.0.0.1 - - [10/Nov/2022 16:04:46] \"GET /random-number HTTP/1.1\" 200 -\n",
      "127.0.0.1 - - [10/Nov/2022 16:04:46] \"GET /random-number HTTP/1.1\" 200 -\n",
      "127.0.0.1 - - [10/Nov/2022 16:04:47] \"GET /random-number HTTP/1.1\" 200 -\n",
      "127.0.0.1 - - [10/Nov/2022 16:04:48] \"GET /random-number HTTP/1.1\" 200 -\n",
      "127.0.0.1 - - [10/Nov/2022 16:04:48] \"GET /random-number HTTP/1.1\" 200 -\n",
      "127.0.0.1 - - [10/Nov/2022 16:04:50] \"GET /favicon.ico HTTP/1.1\" 404 -\n",
      "127.0.0.1 - - [10/Nov/2022 16:12:25] \"GET /random-number HTTP/1.1\" 200 -\n"
     ]
    }
   ],
   "source": [
    "from flask import Flask\n",
    "import random\n",
    "from pymongo import MongoClient\n",
    "\n",
    "\n",
    "app = Flask(__name__)\n",
    "\n",
    "@app.route(\"/\")\n",
    "def greeting ():\n",
    "    return f\"How are you doing\"\n",
    "\n",
    "@app.route(\"/random-number\")\n",
    "def random_number ():\n",
    "    return str(random.choice(range(0,11)))\n",
    "\n",
    "@app.route(\"/campus/<location>\")\n",
    "def campus_location (location):\n",
    "    if location == \"bcn\":\n",
    "        return \"Carrer Pamplona 96\"\n",
    "    elif location == \"mad\":\n",
    "        return \"Paseo de la chopera, 14\"\n",
    "\n",
    "      \n",
    "if __name__ == '__main__':\n",
    "    app.run()"
   ]
  },
  {
   "cell_type": "code",
   "execution_count": null,
   "metadata": {},
   "outputs": [],
   "source": [
    "# GET INFO FROM THE DB\n",
    "requests.get(\"\")"
   ]
  },
  {
   "cell_type": "code",
   "execution_count": null,
   "metadata": {},
   "outputs": [],
   "source": [
    "# INSERT INFO THE DB\n",
    "\n",
    "params = {\"quote\":\"hdhdhdhdhdhd\"}\n",
    "requests.post(\"/quote/politician/\", param = params)\n",
    "def insert (politican, quote):\n",
    "    \"\"\"sql\n",
    "    \"\"\"\n",
    "    pass "
   ]
  },
  {
   "cell_type": "code",
   "execution_count": null,
   "metadata": {},
   "outputs": [],
   "source": []
  },
  {
   "cell_type": "code",
   "execution_count": null,
   "metadata": {},
   "outputs": [],
   "source": [
    "import requests\n",
    "requests.get(\"http://127.0.0.1:5000/campus/bcn\")"
   ]
  },
  {
   "cell_type": "code",
   "execution_count": null,
   "metadata": {},
   "outputs": [],
   "source": [
    "import requests\n",
    "requests.post(\"http://127.0.0.1:5000/campus/bcn\")"
   ]
  },
  {
   "cell_type": "code",
   "execution_count": null,
   "metadata": {},
   "outputs": [],
   "source": []
  },
  {
   "cell_type": "markdown",
   "metadata": {},
   "source": [
    "Curious about `__name__ == \"name\"`? [Here's](https://medium.com/python-features/understanding-if-name-main-in-python-a37a3d4ab0c3) some reading.\n",
    "\n",
    "But as the article says: \"We use if __name__ == “__main__” block to prevent (certain) code from being run when the module is imported\" "
   ]
  },
  {
   "cell_type": "markdown",
   "metadata": {},
   "source": [
    "## Summary"
   ]
  },
  {
   "cell_type": "markdown",
   "metadata": {
    "lang": "en"
   },
   "source": [
    "It's your turn. What have we seen today?"
   ]
  },
  {
   "cell_type": "code",
   "execution_count": null,
   "metadata": {},
   "outputs": [],
   "source": []
  }
 ],
 "metadata": {
  "kernelspec": {
   "display_name": "ironhack",
   "language": "python",
   "name": "ironhack"
  },
  "language_info": {
   "codemirror_mode": {
    "name": "ipython",
    "version": 3
   },
   "file_extension": ".py",
   "mimetype": "text/x-python",
   "name": "python",
   "nbconvert_exporter": "python",
   "pygments_lexer": "ipython3",
   "version": "3.8.13"
  },
  "nbTranslate": {
   "displayLangs": [
    "en",
    "es"
   ],
   "hotkey": "alt-a",
   "langInMainMenu": true,
   "sourceLang": "es",
   "targetLang": "en",
   "useGoogleTranslate": true
  },
  "toc": {
   "base_numbering": 1,
   "nav_menu": {},
   "number_sections": true,
   "sideBar": true,
   "skip_h1_title": true,
   "title_cell": "Table of Contents",
   "title_sidebar": "Contents",
   "toc_cell": true,
   "toc_position": {
    "height": "calc(100% - 180px)",
    "left": "10px",
    "top": "150px",
    "width": "207.003px"
   },
   "toc_section_display": true,
   "toc_window_display": true
  }
 },
 "nbformat": 4,
 "nbformat_minor": 4
}
