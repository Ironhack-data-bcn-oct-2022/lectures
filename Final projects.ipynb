{
 "cells": [
  {
   "cell_type": "markdown",
   "id": "44aaf3a7",
   "metadata": {},
   "source": [
    "QUESTIONS\n",
    "GETTING TO ANSWER THEM\n",
    "\n",
    "- 1. Extract data\n",
    "    - SQL, Mongo, CSV, web scrapping, APIs \n",
    "- 2. EDA\n",
    "    - Null values\n",
    "    - Different distributions \n",
    "    - Meaning of the data\n",
    "    - Type python types\n",
    "- 3. Cleaning\n",
    "    - Standarize: cohesion\n",
    "    - Drop values, etc, etc\n",
    "- 4. ETL\n",
    "    - Load into a database: SQL (recommendation)\n",
    "- 5. Query that info to get visualizations\n",
    "- 6. Analysis\n",
    "    - Insights what you have: what the data tells you\n",
    "    - Reporting of what you find\n",
    "- EXTRA: model to predict\n",
    "\n",
    "\n",
    "EXTRACT - TRANSFORM - LOAD - \"REPORT\""
   ]
  },
  {
   "cell_type": "markdown",
   "id": "5585f5e7",
   "metadata": {},
   "source": [
    "- Streamlit - optional\n",
    "- Selenium - optional\n",
    "\n",
    "- Use the tools you need"
   ]
  },
  {
   "cell_type": "markdown",
   "id": "dea898d2",
   "metadata": {},
   "source": [
    "REPO\n",
    "\n",
    "- Well documented README.md\n",
    "- .gitignore\n",
    "- good organization: main.py, src/ , separated in python files\n",
    "- Code -> documented\n",
    "    - #hashtags\n",
    "    - docstrings\n",
    "    - in functions\n",
    "- You can use notebooks as a way to build and test, and maybe have one notebook\n",
    " to show the whole process BUT PYTHON FILES\n",
    "    \n",
    "- requirements.txt\n",
    "\n",
    "- YOU CAN DEPLOY (streamlit) - heroku\n",
    "\n",
    "\n",
    "\n",
    "PRESENTATION\n",
    "\n",
    "- ppt, prezi, streamlit, Tableu story, whatever\n",
    "- Context, how, result, demo(?)\n",
    "- SHORT ~ 5-7min\n",
    "\n",
    "\n",
    "JURY PANEL\n",
    "- non-technical & technical\n",
    "\n",
    "\n",
    "DUE DATE\n",
    "- Friday 2nd\n",
    "\n",
    "THURSDAY 1st\n",
    "- Mock presentation\n",
    "\n",
    "\n",
    "COMMIT OFTEN pls 🙏"
   ]
  }
 ],
 "metadata": {
  "kernelspec": {
   "display_name": "ironhack",
   "language": "python",
   "name": "ironhack"
  },
  "language_info": {
   "codemirror_mode": {
    "name": "ipython",
    "version": 3
   },
   "file_extension": ".py",
   "mimetype": "text/x-python",
   "name": "python",
   "nbconvert_exporter": "python",
   "pygments_lexer": "ipython3",
   "version": "3.8.13"
  },
  "toc": {
   "base_numbering": 1,
   "nav_menu": {},
   "number_sections": true,
   "sideBar": true,
   "skip_h1_title": false,
   "title_cell": "Table of Contents",
   "title_sidebar": "Contents",
   "toc_cell": false,
   "toc_position": {},
   "toc_section_display": true,
   "toc_window_display": true
  }
 },
 "nbformat": 4,
 "nbformat_minor": 5
}
