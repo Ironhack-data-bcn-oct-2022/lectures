{
 "cells": [
  {
   "cell_type": "markdown",
   "id": "5bbe7acb",
   "metadata": {},
   "source": [
    "**BASH/TERMINAL**\n",
    "\n",
    "**GIT**\n",
    "\n",
    "**PYTHON**\n",
    "- Data structures: dictionaries, lists, tuples\n",
    "- Data types\n",
    "- Flow control: for and while loops, pass, break\n",
    "- Lists comprehensions\n",
    "- Functions: lambda and user-defined\n",
    "- OOP (classes): object oriented programming\n",
    "    - methods of objects: libraries\n",
    "- Error handling: try/except, raiseErrors\n",
    "    - extracting information: \n",
    "    - inserting things into a database\n",
    "- Regex\n",
    "\n",
    "\n",
    "**EXTRACTION**\n",
    "- APIs\n",
    "- Web scrapping\n",
    "\n",
    "**SQL**\n",
    "- CRUD: create, read, update, delete\n",
    "- Subqueries\n",
    "- Temporary tables & views\n",
    "- Joins\n",
    "- Procedures (functions)\n",
    "- SQLAlchemy: SQL through python (the result of the query as a dataframe)\n",
    "\n",
    "**TRANSFORMATION** \n",
    "- Pandas\n",
    "- Numpy\n",
    "- Exploratory Data Analysis: types of data, how is encoded, distribution, missing values\n",
    "- Clean: transform. Drop columns/values. Create new columns based on other ones\n",
    "\n",
    "**VISUALIZATION**\n",
    "- Matplotlib\n",
    "- Seaborn\n",
    "- Plotly\n",
    "_- Maps: folium & carto_\n",
    "\n",
    "\n",
    "\n",
    "\n",
    "\n"
   ]
  }
 ],
 "metadata": {
  "kernelspec": {
   "display_name": "ironhack",
   "language": "python",
   "name": "ironhack"
  },
  "language_info": {
   "codemirror_mode": {
    "name": "ipython",
    "version": 3
   },
   "file_extension": ".py",
   "mimetype": "text/x-python",
   "name": "python",
   "nbconvert_exporter": "python",
   "pygments_lexer": "ipython3",
   "version": "3.8.13"
  },
  "toc": {
   "base_numbering": 1,
   "nav_menu": {},
   "number_sections": true,
   "sideBar": true,
   "skip_h1_title": false,
   "title_cell": "Table of Contents",
   "title_sidebar": "Contents",
   "toc_cell": false,
   "toc_position": {
    "height": "calc(100% - 180px)",
    "left": "10px",
    "top": "150px",
    "width": "165px"
   },
   "toc_section_display": true,
   "toc_window_display": false
  }
 },
 "nbformat": 4,
 "nbformat_minor": 5
}
