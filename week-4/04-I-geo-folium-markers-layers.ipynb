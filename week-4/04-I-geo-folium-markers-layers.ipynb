{
 "cells": [
  {
   "cell_type": "markdown",
   "metadata": {
    "toc": true
   },
   "source": [
    "<h1>Table of Contents<span class=\"tocSkip\"></span></h1>\n",
    "<div class=\"toc\"><ul class=\"toc-item\"><li><ul class=\"toc-item\"><li><span><a href=\"#Intro-to-Folium\" data-toc-modified-id=\"Intro-to-Folium-0.1\"><span class=\"toc-item-num\">0.1&nbsp;&nbsp;</span>Intro to Folium</a></span></li></ul></li><li><span><a href=\"#1st-map:-Landmarks---Sonora-🌯\" data-toc-modified-id=\"1st-map:-Landmarks---Sonora-🌯-1\"><span class=\"toc-item-num\">1&nbsp;&nbsp;</span>1st map: Landmarks - Sonora 🌯</a></span><ul class=\"toc-item\"><li><span><a href=\"#1st-Marker:-Landmarks:-Razzmatazz-🕺\" data-toc-modified-id=\"1st-Marker:-Landmarks:-Razzmatazz-🕺-1.1\"><span class=\"toc-item-num\">1.1&nbsp;&nbsp;</span>1st Marker: Landmarks: Razzmatazz 🕺</a></span><ul class=\"toc-item\"><li><span><a href=\"#Now-different-icons\" data-toc-modified-id=\"Now-different-icons-1.1.1\"><span class=\"toc-item-num\">1.1.1&nbsp;&nbsp;</span>Now different icons</a></span></li></ul></li><li><span><a href=\"#2nd-Marker:-beach\" data-toc-modified-id=\"2nd-Marker:-beach-1.2\"><span class=\"toc-item-num\">1.2&nbsp;&nbsp;</span>2nd Marker: beach</a></span></li></ul></li><li><span><a href=\"#Don't-bike-during-work-days-🤕\" data-toc-modified-id=\"Don't-bike-during-work-days-🤕-2\"><span class=\"toc-item-num\">2&nbsp;&nbsp;</span>Don't bike during work-days 🤕</a></span></li><li><span><a href=\"#Morning-bikers-will-be-safer--🚴\" data-toc-modified-id=\"Morning-bikers-will-be-safer--🚴-3\"><span class=\"toc-item-num\">3&nbsp;&nbsp;</span>Morning bikers will be safer  🚴</a></span><ul class=\"toc-item\"><li><span><a href=\"#We-create-the-basic-map-to-which-we-then-add-the-layers\" data-toc-modified-id=\"We-create-the-basic-map-to-which-we-then-add-the-layers-3.1\"><span class=\"toc-item-num\">3.1&nbsp;&nbsp;</span>We create the basic map to which we then add the layers</a></span></li><li><span><a href=\"#Subset-the-dataframe-per-layer\" data-toc-modified-id=\"Subset-the-dataframe-per-layer-3.2\"><span class=\"toc-item-num\">3.2&nbsp;&nbsp;</span>Subset the dataframe per layer</a></span></li><li><span><a href=\"#We-create-the-FeatureGroup\" data-toc-modified-id=\"We-create-the-FeatureGroup-3.3\"><span class=\"toc-item-num\">3.3&nbsp;&nbsp;</span>We create the FeatureGroup</a></span></li><li><span><a href=\"#Create-the-HeatMap-layer-and-add-it-to-the-FeatureGroup\" data-toc-modified-id=\"Create-the-HeatMap-layer-and-add-it-to-the-FeatureGroup-3.4\"><span class=\"toc-item-num\">3.4&nbsp;&nbsp;</span>Create the HeatMap layer and add it to the FeatureGroup</a></span></li><li><span><a href=\"#Add-the-FeatureGrup-with-heatmap-and-name-to-the-map\" data-toc-modified-id=\"Add-the-FeatureGrup-with-heatmap-and-name-to-the-map-3.5\"><span class=\"toc-item-num\">3.5&nbsp;&nbsp;</span>Add the FeatureGrup with heatmap and name to the map</a></span></li><li><span><a href=\"#Adding-the-evenings\" data-toc-modified-id=\"Adding-the-evenings-3.6\"><span class=\"toc-item-num\">3.6&nbsp;&nbsp;</span>Adding the evenings</a></span></li><li><span><a href=\"#Night-layer\" data-toc-modified-id=\"Night-layer-3.7\"><span class=\"toc-item-num\">3.7&nbsp;&nbsp;</span>Night layer</a></span></li><li><span><a href=\"#We-can-save-our-maps\" data-toc-modified-id=\"We-can-save-our-maps-3.8\"><span class=\"toc-item-num\">3.8&nbsp;&nbsp;</span>We can save our maps</a></span></li></ul></li></ul></div>"
   ]
  },
  {
   "cell_type": "markdown",
   "metadata": {},
   "source": [
    "### Intro to Folium "
   ]
  },
  {
   "cell_type": "markdown",
   "metadata": {},
   "source": [
    "![mapa](../images/geo_portada.jpg)"
   ]
  },
  {
   "cell_type": "markdown",
   "metadata": {
    "lang": "en"
   },
   "source": [
    "First things first: \n",
    "- https://python-visualization.github.io/folium/"
   ]
  },
  {
   "cell_type": "code",
   "execution_count": null,
   "metadata": {},
   "outputs": [],
   "source": [
    "#!pip install folium"
   ]
  },
  {
   "cell_type": "code",
   "execution_count": null,
   "metadata": {},
   "outputs": [],
   "source": [
    "import folium\n",
    "from folium import Choropleth, Circle, Marker, Icon, Map\n",
    "from folium.plugins import HeatMap, MarkerCluster\n",
    "import pandas as pd"
   ]
  },
  {
   "cell_type": "markdown",
   "metadata": {
    "lang": "en"
   },
   "source": [
    "## 1st map: Landmarks - Sonora 🌯"
   ]
  },
  {
   "cell_type": "markdown",
   "metadata": {
    "lang": "en"
   },
   "source": [
    "We create a basic map as a result of some coordinates with an initial zoom"
   ]
  },
  {
   "cell_type": "code",
   "execution_count": null,
   "metadata": {},
   "outputs": [],
   "source": [
    "#sonora\n"
   ]
  },
  {
   "cell_type": "markdown",
   "metadata": {},
   "source": [
    "### 1st Marker: Landmarks: Razzmatazz 🕺"
   ]
  },
  {
   "cell_type": "code",
   "execution_count": null,
   "metadata": {},
   "outputs": [],
   "source": []
  },
  {
   "cell_type": "markdown",
   "metadata": {
    "lang": "en"
   },
   "source": [
    "I leave you here the specific doc of the markers\n",
    "- https://python-visualization.github.io/folium/modules.html?highlight=marker"
   ]
  },
  {
   "cell_type": "markdown",
   "metadata": {
    "lang": "en"
   },
   "source": [
    "To add markers to a map, we'll have to \"add\" elements to that map, so we're going to add them to the previous map called map_1."
   ]
  },
  {
   "cell_type": "markdown",
   "metadata": {},
   "source": [
    "# How to get location:\n",
    "\n",
    "1. Go to google maps\n",
    "2. Look for something in particular\n",
    "3. Look at the URL\n",
    "\n",
    "Example (after the @):\n",
    "\n",
    "https://www.google.com/maps/place/Sonora+Sport+Tavern/@41.3978841,2.1877817,17z/data=!3m2!4b1!5s0x12a4a31ef25e7f6f:0x8534d14247dd8c4d!4m5!3m4!1s0x12a4a3192255e3c3:0x66d21ce6efad4cfb!8m2!3d41.3978801!4d2.1899704\n",
    "\n"
   ]
  },
  {
   "cell_type": "code",
   "execution_count": null,
   "metadata": {},
   "outputs": [],
   "source": [
    "#razzmataz\n"
   ]
  },
  {
   "cell_type": "markdown",
   "metadata": {
    "lang": "en"
   },
   "source": [
    "We add another Marker and we see that we can change the icon and the color of the background and the icon."
   ]
  },
  {
   "cell_type": "markdown",
   "metadata": {
    "lang": "en"
   },
   "source": [
    "To modify the icons, where do we get them?\n",
    "- https://fontawesome.com/v4.7.0/icons/ --> If I want to use these I put prefix=\"fa\" (Font Awesome)\n",
    "- https://getbootstrap.com/docs/3.3/components/ --> Built in no need to put prefix"
   ]
  },
  {
   "cell_type": "markdown",
   "metadata": {
    "lang": "en"
   },
   "source": [
    "```python\n",
    "['red', 'blue', 'green', 'purple', 'orange', 'darkred',\n",
    "'lightred', 'beige', 'darkblue', 'darkgreen', 'cadetblue', 'darkpurple', 'white', 'pink', 'lightblue', 'lightgreen', 'gray', 'black', 'lightgray ']\n",
    "```"
   ]
  },
  {
   "cell_type": "markdown",
   "metadata": {
    "lang": "en"
   },
   "source": [
    "#### Now different icons"
   ]
  },
  {
   "cell_type": "markdown",
   "metadata": {
    "lang": "en"
   },
   "source": [
    "First way to add a tuned marker to the map"
   ]
  },
  {
   "cell_type": "code",
   "execution_count": null,
   "metadata": {},
   "outputs": [],
   "source": []
  },
  {
   "cell_type": "markdown",
   "metadata": {
    "lang": "en"
   },
   "source": [
    "Second way to add a tuned marker to the map"
   ]
  },
  {
   "cell_type": "code",
   "execution_count": null,
   "metadata": {},
   "outputs": [],
   "source": []
  },
  {
   "cell_type": "markdown",
   "metadata": {},
   "source": [
    "### 2nd Marker: beach"
   ]
  },
  {
   "cell_type": "code",
   "execution_count": null,
   "metadata": {},
   "outputs": [],
   "source": []
  },
  {
   "cell_type": "markdown",
   "metadata": {},
   "source": [
    "Kwargs --> https://book.pythontips.com/en/latest/args_and_kwargs.html      \n",
    "https://j2logo.com/args-y-kwargs-en-python/"
   ]
  },
  {
   "cell_type": "markdown",
   "metadata": {
    "lang": "en"
   },
   "source": [
    "## Don't bike during work-days 🤕"
   ]
  },
  {
   "cell_type": "markdown",
   "metadata": {
    "lang": "en"
   },
   "source": [
    "To teach this example, we use a dataset where we already have some latitude and longitude columns "
   ]
  },
  {
   "cell_type": "code",
   "execution_count": null,
   "metadata": {},
   "outputs": [],
   "source": [
    "df = pd.read_csv(\"../datasets/bici_clean.csv\")"
   ]
  },
  {
   "cell_type": "markdown",
   "metadata": {
    "lang": "en"
   },
   "source": [
    "We are going to iterate over all the rows of the dataframe looking for what is inside each row in the column.\n",
    "We will put an icon to the accidents based on the \"holiday\" column\n",
    "But we will have to save the settings and add the Marker at the end and all this inside a loop 🤭🤯\n",
    "- First the tooltip config\n",
    "- Then the little icon depending on the holiday\n",
    "- Finally add each marker"
   ]
  },
  {
   "cell_type": "code",
   "execution_count": null,
   "metadata": {},
   "outputs": [],
   "source": [
    "#https://datos.madrid.es/portal/site/egob/menuitem.9e1e2f6404558187cf35cf3584f1a5a0/?vgnextoid=374512b9ace9f310VgnVCM100000171f5a0aRCRD&vgnextchannel=374512b9ace9f310VgnVCM100000171f5a0aRCRD&vgnextfmt=default"
   ]
  },
  {
   "cell_type": "code",
   "execution_count": null,
   "metadata": {},
   "outputs": [],
   "source": []
  },
  {
   "cell_type": "markdown",
   "metadata": {
    "lang": "en"
   },
   "source": [
    "Is that the best way to visualize this? We have created a map with infinite markers...but is there another way to visualize this information a little better?\n",
    "When we have a lot of grouped data 🗺"
   ]
  },
  {
   "cell_type": "markdown",
   "metadata": {
    "lang": "en"
   },
   "source": [
    "##  Morning bikers will be safer  🚴"
   ]
  },
  {
   "cell_type": "markdown",
   "metadata": {
    "lang": "en"
   },
   "source": [
    "Let's check how many categories there are in the time column, to make a heat map. First we make a map with the morning schedule, and then we add the afternoon schedule with the Layer Control.\n",
    "Here we go 🔥"
   ]
  },
  {
   "cell_type": "markdown",
   "metadata": {
    "lang": "en"
   },
   "source": [
    "### We create the basic map to which we then add the layers"
   ]
  },
  {
   "cell_type": "code",
   "execution_count": null,
   "metadata": {},
   "outputs": [],
   "source": []
  },
  {
   "cell_type": "markdown",
   "metadata": {
    "lang": "en"
   },
   "source": [
    "### Subset the dataframe per layer"
   ]
  },
  {
   "cell_type": "code",
   "execution_count": null,
   "metadata": {},
   "outputs": [],
   "source": []
  },
  {
   "cell_type": "markdown",
   "metadata": {
    "lang": "en"
   },
   "source": [
    "### We create the FeatureGroup"
   ]
  },
  {
   "cell_type": "code",
   "execution_count": null,
   "metadata": {},
   "outputs": [],
   "source": []
  },
  {
   "cell_type": "markdown",
   "metadata": {
    "lang": "en"
   },
   "source": [
    "### Create the HeatMap layer and add it to the FeatureGroup"
   ]
  },
  {
   "cell_type": "code",
   "execution_count": null,
   "metadata": {},
   "outputs": [],
   "source": []
  },
  {
   "cell_type": "markdown",
   "metadata": {
    "lang": "en"
   },
   "source": [
    "### Add the FeatureGrup with heatmap and name to the map"
   ]
  },
  {
   "cell_type": "code",
   "execution_count": null,
   "metadata": {
    "scrolled": true
   },
   "outputs": [],
   "source": []
  },
  {
   "cell_type": "markdown",
   "metadata": {},
   "source": [
    "### Adding the evenings"
   ]
  },
  {
   "cell_type": "code",
   "execution_count": null,
   "metadata": {},
   "outputs": [],
   "source": []
  },
  {
   "cell_type": "markdown",
   "metadata": {
    "lang": "en"
   },
   "source": [
    "### Night layer"
   ]
  },
  {
   "cell_type": "code",
   "execution_count": null,
   "metadata": {},
   "outputs": [],
   "source": []
  },
  {
   "cell_type": "markdown",
   "metadata": {
    "lang": "en"
   },
   "source": [
    "### We can save our maps"
   ]
  },
  {
   "cell_type": "code",
   "execution_count": null,
   "metadata": {},
   "outputs": [],
   "source": []
  },
  {
   "cell_type": "markdown",
   "metadata": {},
   "source": [
    "# Your turn"
   ]
  },
  {
   "cell_type": "markdown",
   "metadata": {},
   "source": []
  }
 ],
 "metadata": {
  "kernelspec": {
   "display_name": "ironhack",
   "language": "python",
   "name": "ironhack"
  },
  "language_info": {
   "codemirror_mode": {
    "name": "ipython",
    "version": 3
   },
   "file_extension": ".py",
   "mimetype": "text/x-python",
   "name": "python",
   "nbconvert_exporter": "python",
   "pygments_lexer": "ipython3",
   "version": "3.8.13"
  },
  "nbTranslate": {
   "displayLangs": [
    "en",
    "es"
   ],
   "hotkey": "alt-a",
   "langInMainMenu": true,
   "sourceLang": "es",
   "targetLang": "en",
   "useGoogleTranslate": true
  },
  "toc": {
   "base_numbering": 1,
   "nav_menu": {},
   "number_sections": true,
   "sideBar": true,
   "skip_h1_title": true,
   "title_cell": "Table of Contents",
   "title_sidebar": "Contents",
   "toc_cell": true,
   "toc_position": {
    "height": "calc(100% - 180px)",
    "left": "10px",
    "top": "150px",
    "width": "260px"
   },
   "toc_section_display": true,
   "toc_window_display": true
  }
 },
 "nbformat": 4,
 "nbformat_minor": 4
}
