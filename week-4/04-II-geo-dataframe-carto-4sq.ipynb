{
 "cells": [
  {
   "cell_type": "markdown",
   "metadata": {
    "toc": true
   },
   "source": [
    "<h1>Table of Contents<span class=\"tocSkip\"></span></h1>\n",
    "<div class=\"toc\"><ul class=\"toc-item\"><li><ul class=\"toc-item\"><li><span><a href=\"#GeoDataframe-/-Carto\" data-toc-modified-id=\"GeoDataframe-/-Carto-0.1\"><span class=\"toc-item-num\">0.1&nbsp;&nbsp;</span>GeoDataframe / Carto</a></span></li></ul></li><li><span><a href=\"#Geocode-API\" data-toc-modified-id=\"Geocode-API-1\"><span class=\"toc-item-num\">1&nbsp;&nbsp;</span>Geocode API</a></span></li><li><span><a href=\"#Foursquare-API\" data-toc-modified-id=\"Foursquare-API-2\"><span class=\"toc-item-num\">2&nbsp;&nbsp;</span>Foursquare API</a></span><ul class=\"toc-item\"><li><span><a href=\"#I-want-to-see-all-the-bookstores--in-Madrid-on-Foursquare\" data-toc-modified-id=\"I-want-to-see-all-the-bookstores--in-Madrid-on-Foursquare-2.1\"><span class=\"toc-item-num\">2.1&nbsp;&nbsp;</span>I want to see all the bookstores  in Madrid on Foursquare</a></span><ul class=\"toc-item\"><li><span><a href=\"#Setting-up\" data-toc-modified-id=\"Setting-up-2.1.1\"><span class=\"toc-item-num\">2.1.1&nbsp;&nbsp;</span>Setting up</a></span></li><li><span><a href=\"#Ready-to-query:-url-&amp;-headers\" data-toc-modified-id=\"Ready-to-query:-url-&amp;-headers-2.1.2\"><span class=\"toc-item-num\">2.1.2&nbsp;&nbsp;</span>Ready to query: url &amp; headers</a></span></li></ul></li></ul></li><li><span><a href=\"#Processing-the-response\" data-toc-modified-id=\"Processing-the-response-3\"><span class=\"toc-item-num\">3&nbsp;&nbsp;</span>Processing the response</a></span></li><li><span><a href=\"#The-Little-Map-of-CartoFrames\" data-toc-modified-id=\"The-Little-Map-of-CartoFrames-4\"><span class=\"toc-item-num\">4&nbsp;&nbsp;</span>The Little Map of CartoFrames</a></span></li><li><span><a href=\"#We-export/import-to-MongoDB\" data-toc-modified-id=\"We-export/import-to-MongoDB-5\"><span class=\"toc-item-num\">5&nbsp;&nbsp;</span>We export/import to MongoDB</a></span><ul class=\"toc-item\"><li><span><a href=\"#Exporting\" data-toc-modified-id=\"Exporting-5.1\"><span class=\"toc-item-num\">5.1&nbsp;&nbsp;</span>Exporting</a></span></li><li><span><a href=\"#Importing\" data-toc-modified-id=\"Importing-5.2\"><span class=\"toc-item-num\">5.2&nbsp;&nbsp;</span>Importing</a></span></li></ul></li></ul></div>"
   ]
  },
  {
   "cell_type": "markdown",
   "metadata": {},
   "source": [
    "### GeoDataframe / Carto"
   ]
  },
  {
   "cell_type": "markdown",
   "metadata": {},
   "source": [
    "![mapa](../images/geo_portada.jpg)"
   ]
  },
  {
   "cell_type": "code",
   "execution_count": 3,
   "metadata": {},
   "outputs": [],
   "source": [
    "#! pip install cartoframes"
   ]
  },
  {
   "cell_type": "code",
   "execution_count": 2,
   "metadata": {},
   "outputs": [],
   "source": [
    "import os\n",
    "import requests\n",
    "import json\n",
    "from dotenv import load_dotenv\n",
    "import pandas as pd\n",
    "\n",
    "import geopandas as gpd\n",
    "from cartoframes.viz import Map, Layer, popup_element"
   ]
  },
  {
   "cell_type": "markdown",
   "metadata": {},
   "source": [
    "⚠️\n",
    "\n",
    "ImportError: cannot import name 'soft_unicode' from 'markupsafe' (/Users/user/opt/anaconda3/envs/ironhack/lib/python3.8/site-packages/markupsafe/__init__.py) ?\n",
    "\n",
    "`pip install markupsafe==2.0.1` ?"
   ]
  },
  {
   "cell_type": "markdown",
   "metadata": {},
   "source": [
    "1. Geocode API\n",
    "2. Foursquare API\n",
    "3. Cartomap"
   ]
  },
  {
   "cell_type": "markdown",
   "metadata": {},
   "source": [
    "## Geocode API"
   ]
  },
  {
   "cell_type": "markdown",
   "metadata": {
    "lang": "en"
   },
   "source": [
    "There are APIs for a lot of things, here I leave you [Geocode](https://geocode.xyz/)"
   ]
  },
  {
   "cell_type": "code",
   "execution_count": null,
   "metadata": {},
   "outputs": [],
   "source": [
    "# Location"
   ]
  },
  {
   "cell_type": "code",
   "execution_count": 4,
   "metadata": {},
   "outputs": [],
   "source": [
    "where = \"Madrid, Spain\""
   ]
  },
  {
   "cell_type": "code",
   "execution_count": null,
   "metadata": {},
   "outputs": [],
   "source": [
    "# Expected coordinates"
   ]
  },
  {
   "cell_type": "markdown",
   "metadata": {},
   "source": [
    "`mad_long = 40.4107367` <br>\n",
    "`mad_lat = -3.707267119`"
   ]
  },
  {
   "cell_type": "code",
   "execution_count": null,
   "metadata": {},
   "outputs": [],
   "source": [
    "# How to get coordinates from a location"
   ]
  },
  {
   "cell_type": "markdown",
   "metadata": {
    "lang": "en"
   },
   "source": [
    "```python\n",
    "url_geocode = f\"https://geocode.xyz/{Adress I want to convert}?json=1\"\n",
    "```"
   ]
  },
  {
   "cell_type": "markdown",
   "metadata": {
    "lang": "en"
   },
   "source": [
    "What is type point?\n",
    "```python\n",
    "place_coordinates = {\"type\": \"Point\", \"coordinates\": [latitude, longitude]}\n",
    "```"
   ]
  },
  {
   "cell_type": "code",
   "execution_count": 6,
   "metadata": {},
   "outputs": [],
   "source": [
    "url_geocode = f\"https://geocode.xyz/{where}?json=1\""
   ]
  },
  {
   "cell_type": "code",
   "execution_count": 9,
   "metadata": {},
   "outputs": [],
   "source": [
    "res = requests.get(url_geocode).json()"
   ]
  },
  {
   "cell_type": "code",
   "execution_count": 10,
   "metadata": {},
   "outputs": [
    {
     "data": {
      "text/plain": [
       "{'standard': {'addresst': {},\n",
       "  'statename': {},\n",
       "  'city': 'Madrid',\n",
       "  'prov': 'ES',\n",
       "  'countryname': 'Spain',\n",
       "  'postal': {},\n",
       "  'confidence': '0.90'},\n",
       " 'longt': '-3.67930',\n",
       " 'alt': {'loc': {'longt': '-3.64539',\n",
       "   'prov': 'ES',\n",
       "   'city': 'Madrid',\n",
       "   'countryname': 'Spain',\n",
       "   'postal': '28017',\n",
       "   'region': {},\n",
       "   'latt': '40.42882'}},\n",
       " 'elevation': {},\n",
       " 'latt': '40.42955'}"
      ]
     },
     "execution_count": 10,
     "metadata": {},
     "output_type": "execute_result"
    }
   ],
   "source": [
    "res"
   ]
  },
  {
   "cell_type": "code",
   "execution_count": 14,
   "metadata": {},
   "outputs": [],
   "source": [
    "mad_lon, mad_lat = res[\"longt\"], res[\"latt\"]"
   ]
  },
  {
   "cell_type": "code",
   "execution_count": 15,
   "metadata": {
    "scrolled": true
   },
   "outputs": [
    {
     "data": {
      "text/plain": [
       "'-3.67930'"
      ]
     },
     "execution_count": 15,
     "metadata": {},
     "output_type": "execute_result"
    }
   ],
   "source": [
    "mad_lon"
   ]
  },
  {
   "cell_type": "code",
   "execution_count": 16,
   "metadata": {},
   "outputs": [
    {
     "data": {
      "text/plain": [
       "'40.42955'"
      ]
     },
     "execution_count": 16,
     "metadata": {},
     "output_type": "execute_result"
    }
   ],
   "source": [
    "mad_lat"
   ]
  },
  {
   "cell_type": "markdown",
   "metadata": {
    "lang": "en"
   },
   "source": [
    "Sometimes Geocode Fails, so plan is to get the coordinates from the web"
   ]
  },
  {
   "cell_type": "code",
   "execution_count": 23,
   "metadata": {},
   "outputs": [],
   "source": [
    "def get_coordinates (place):\n",
    "    url_geocode = f\"https://geocode.xyz/{where}?json=1\"\n",
    "\n",
    "    try:\n",
    "        res = requests.get(url_geocode).json()\n",
    "        return res[\"longt\"], res[\"latt\"]\n",
    "    except:\n",
    "        print(f\"Sorry, no matches found for {place}\")\n",
    "        get_coordinates (place)"
   ]
  },
  {
   "cell_type": "code",
   "execution_count": 24,
   "metadata": {},
   "outputs": [
    {
     "data": {
      "text/plain": [
       "('-3.67930', '40.42955')"
      ]
     },
     "execution_count": 24,
     "metadata": {},
     "output_type": "execute_result"
    }
   ],
   "source": [
    "barcelona = get_coordinates (\"Barcelona, Spain\")\n",
    "barcelona"
   ]
  },
  {
   "cell_type": "code",
   "execution_count": null,
   "metadata": {},
   "outputs": [],
   "source": [
    "barcelona = ('-3.67930', '40.42955')"
   ]
  },
  {
   "cell_type": "code",
   "execution_count": null,
   "metadata": {},
   "outputs": [],
   "source": [
    "mad_justincase = {'type': 'Point', 'coordinates': [40.4381311, -3.81962111]}"
   ]
  },
  {
   "cell_type": "markdown",
   "metadata": {},
   "source": [
    "## Foursquare API"
   ]
  },
  {
   "cell_type": "markdown",
   "metadata": {},
   "source": [
    "### I want to see all the bookstores  in Madrid on Foursquare"
   ]
  },
  {
   "cell_type": "markdown",
   "metadata": {},
   "source": [
    "#### Setting up"
   ]
  },
  {
   "cell_type": "markdown",
   "metadata": {
    "lang": "en"
   },
   "source": [
    "I'm sorry to tell you that the first thing is to read the API documentation.\n",
    "- https://developer.foursquare.com/docs/places-api-overview\n",
    "- https://developer.foursquare.com/reference/api-explorer-overview"
   ]
  },
  {
   "cell_type": "markdown",
   "metadata": {},
   "source": [
    "1. Sign-up for the foursquare places API [here](https://foursquare.com/products/places-api/)\n",
    "2. Create a New Project\n",
    "3. Generate `CLIENT_ID` & `CLIENT_SECRET` so that you can generate TOKEN\n",
    "4. Save your credentials locally on a `.env` file on the root of your project"
   ]
  },
  {
   "cell_type": "markdown",
   "metadata": {},
   "source": [
    "1. https://foursquare.com/developers/orgs/62e1bdd8a3409370dc466164/projects/63598a1b1cdc2f7d810cf839/settings\n",
    "2. https://developer.foursquare.com/reference/place-search"
   ]
  },
  {
   "cell_type": "code",
   "execution_count": 29,
   "metadata": {},
   "outputs": [
    {
     "data": {
      "text/plain": [
       "True"
      ]
     },
     "execution_count": 29,
     "metadata": {},
     "output_type": "execute_result"
    }
   ],
   "source": [
    "load_dotenv()"
   ]
  },
  {
   "cell_type": "code",
   "execution_count": 30,
   "metadata": {},
   "outputs": [],
   "source": [
    "token_fsq = os.getenv(\"token_foursquare\")"
   ]
  },
  {
   "cell_type": "markdown",
   "metadata": {},
   "source": [
    "```shell\n",
    "!touch .env #creates the file\n",
    "!echo \"token='mytoken' >> .env\" #appends into the file\n",
    "!touch .gitignore\n",
    "!echo \".env\" >> .gitignore\n",
    "```"
   ]
  },
  {
   "cell_type": "markdown",
   "metadata": {},
   "source": [
    "#### Ready to query: url & headers"
   ]
  },
  {
   "cell_type": "markdown",
   "metadata": {
    "lang": "en"
   },
   "source": [
    "Foursquare parameters are explained [here.](https://developer.foursquare.com/docs/api-reference/venues/search/)"
   ]
  },
  {
   "cell_type": "code",
   "execution_count": null,
   "metadata": {},
   "outputs": [],
   "source": []
  },
  {
   "cell_type": "markdown",
   "metadata": {},
   "source": [
    "## Processing the response"
   ]
  },
  {
   "cell_type": "code",
   "execution_count": null,
   "metadata": {
    "scrolled": true
   },
   "outputs": [],
   "source": []
  },
  {
   "cell_type": "markdown",
   "metadata": {
    "lang": "en"
   },
   "source": [
    "## The Little Map of CartoFrames"
   ]
  },
  {
   "cell_type": "markdown",
   "metadata": {
    "lang": "en"
   },
   "source": [
    "For the geometry column we have to put in this order Longitude, Latitude ⚠️🚨"
   ]
  },
  {
   "cell_type": "code",
   "execution_count": null,
   "metadata": {},
   "outputs": [],
   "source": []
  },
  {
   "cell_type": "markdown",
   "metadata": {
    "lang": "en"
   },
   "source": [
    "https://carto.com/developers/cartoframes/"
   ]
  },
  {
   "cell_type": "code",
   "execution_count": null,
   "metadata": {},
   "outputs": [],
   "source": []
  },
  {
   "cell_type": "markdown",
   "metadata": {
    "lang": "en"
   },
   "source": [
    "## We export/import to MongoDB"
   ]
  },
  {
   "cell_type": "markdown",
   "metadata": {},
   "source": [
    "### Exporting"
   ]
  },
  {
   "cell_type": "code",
   "execution_count": null,
   "metadata": {},
   "outputs": [],
   "source": []
  },
  {
   "cell_type": "markdown",
   "metadata": {},
   "source": [
    "### Importing"
   ]
  },
  {
   "cell_type": "code",
   "execution_count": null,
   "metadata": {},
   "outputs": [],
   "source": []
  },
  {
   "cell_type": "markdown",
   "metadata": {},
   "source": [
    "# Recap\n"
   ]
  },
  {
   "cell_type": "markdown",
   "metadata": {},
   "source": [
    "# Sanity check: are you in Kenya?"
   ]
  },
  {
   "cell_type": "markdown",
   "metadata": {},
   "source": [
    "# TO-DO\n",
    "\n",
    "1. Get **tokens** (sign-up, create a project, get tokens). If you have issues with them, DO contact the foursquare team, as they are very quick in responding\n",
    "\n",
    "\n",
    "2. **Query** something using this function:  `get_results_from_foursquare (query, location, limit)`"
   ]
  },
  {
   "cell_type": "markdown",
   "metadata": {},
   "source": [
    "# Use-case\n",
    "3. Can you get the 10 closest coffeshops to Ironhack? ☕️\n",
    "4. Save it into a dataframe 📒\n",
    "5. Visualize it using either Folium or Carto (Carto will need a geodataframe) 🗺"
   ]
  },
  {
   "cell_type": "markdown",
   "metadata": {},
   "source": [
    "```python\n",
    "def get_results_from_foursquare (query, location, limit):\n",
    "    \n",
    "    url = \"https://api.foursquare.com/v2/venues/search/\"\n",
    "    \n",
    "    headers =  {\n",
    "    \"query\": query,\n",
    "    \"client_id\":client_id,\n",
    "    \"client_secret\":client_secret,\n",
    "    \"v\":\"20180323\",\n",
    "    \"limit\":f\"{limit}\",\n",
    "    \"ll\":f\"{location[1]}, {location[0]}\"\n",
    "    }\n",
    "    \n",
    "    results = requests.get(url, headers).json()\n",
    "    \n",
    "    return results[\"response\"][\"venues\"]\n",
    "```"
   ]
  }
 ],
 "metadata": {
  "kernelspec": {
   "display_name": "ironhack",
   "language": "python",
   "name": "ironhack"
  },
  "language_info": {
   "codemirror_mode": {
    "name": "ipython",
    "version": 3
   },
   "file_extension": ".py",
   "mimetype": "text/x-python",
   "name": "python",
   "nbconvert_exporter": "python",
   "pygments_lexer": "ipython3",
   "version": "3.8.13"
  },
  "nbTranslate": {
   "displayLangs": [
    "en",
    "es"
   ],
   "hotkey": "alt-a",
   "langInMainMenu": true,
   "sourceLang": "es",
   "targetLang": "en",
   "useGoogleTranslate": true
  },
  "toc": {
   "base_numbering": 1,
   "nav_menu": {},
   "number_sections": true,
   "sideBar": true,
   "skip_h1_title": true,
   "title_cell": "Table of Contents",
   "title_sidebar": "Contents",
   "toc_cell": true,
   "toc_position": {
    "height": "calc(100% - 180px)",
    "left": "10px",
    "top": "150px",
    "width": "165px"
   },
   "toc_section_display": true,
   "toc_window_display": true
  }
 },
 "nbformat": 4,
 "nbformat_minor": 4
}
