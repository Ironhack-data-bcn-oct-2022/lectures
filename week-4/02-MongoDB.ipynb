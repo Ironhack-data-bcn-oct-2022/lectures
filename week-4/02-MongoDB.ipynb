{
 "cells": [
  {
   "cell_type": "markdown",
   "id": "mighty-crowd",
   "metadata": {},
   "source": [
    "# MongoDB"
   ]
  },
  {
   "cell_type": "markdown",
   "id": "incoming-mortgage",
   "metadata": {},
   "source": [
    "![memesmongo](../images/mongo.png)"
   ]
  },
  {
   "cell_type": "markdown",
   "id": "greatest-neighborhood",
   "metadata": {
    "toc": true
   },
   "source": [
    "<h1>Table of Contents<span class=\"tocSkip\"></span></h1>\n",
    "<div class=\"toc\"><ul class=\"toc-item\"><li><span><a href=\"#What-is-MongoDB?\" data-toc-modified-id=\"What-is-MongoDB?-1\"><span class=\"toc-item-num\">1&nbsp;&nbsp;</span>What is MongoDB?</a></span></li><li><span><a href=\"#What-is-the-MongoDB-database?\" data-toc-modified-id=\"What-is-the-MongoDB-database?-2\"><span class=\"toc-item-num\">2&nbsp;&nbsp;</span>What is the MongoDB database?</a></span></li><li><span><a href=\"#Database-creation\" data-toc-modified-id=\"Database-creation-3\"><span class=\"toc-item-num\">3&nbsp;&nbsp;</span>Database creation</a></span></li><li><span><a href=\"#Connection-with-Python\" data-toc-modified-id=\"Connection-with-Python-4\"><span class=\"toc-item-num\">4&nbsp;&nbsp;</span>Connection with Python</a></span><ul class=\"toc-item\"><li><span><a href=\"#We-connect-to-the-server\" data-toc-modified-id=\"We-connect-to-the-server-4.1\"><span class=\"toc-item-num\">4.1&nbsp;&nbsp;</span>We connect to the server</a></span></li><li><span><a href=\"#We-connect-to-the-database\" data-toc-modified-id=\"We-connect-to-the-database-4.2\"><span class=\"toc-item-num\">4.2&nbsp;&nbsp;</span>We connect to the database</a></span></li></ul></li><li><span><a href=\"#Basic-database-management-operations\" data-toc-modified-id=\"Basic-database-management-operations-5\"><span class=\"toc-item-num\">5&nbsp;&nbsp;</span>Basic database management operations</a></span><ul class=\"toc-item\"><li><span><a href=\"#Create-and-delete-collections-from-python\" data-toc-modified-id=\"Create-and-delete-collections-from-python-5.1\"><span class=\"toc-item-num\">5.1&nbsp;&nbsp;</span>Create and delete collections from python</a></span></li><li><span><a href=\"#We-connect-to-a-specific-collection-to-make-the-queries\" data-toc-modified-id=\"We-connect-to-a-specific-collection-to-make-the-queries-5.2\"><span class=\"toc-item-num\">5.2&nbsp;&nbsp;</span>We connect to a specific collection to make the queries</a></span></li></ul></li><li><span><a href=\"#Queries-in-Mongo\" data-toc-modified-id=\"Queries-in-Mongo-6\"><span class=\"toc-item-num\">6&nbsp;&nbsp;</span>Queries in Mongo</a></span><ul class=\"toc-item\"><li><span><a href=\"#find_one-method\" data-toc-modified-id=\"find_one-method-6.1\"><span class=\"toc-item-num\">6.1&nbsp;&nbsp;</span><code>find_one</code> method</a></span></li><li><span><a href=\"#find-method\" data-toc-modified-id=\"find-method-6.2\"><span class=\"toc-item-num\">6.2&nbsp;&nbsp;</span><code>find</code> method</a></span></li></ul></li><li><span><a href=\"#projection\" data-toc-modified-id=\"projection-7\"><span class=\"toc-item-num\">7&nbsp;&nbsp;</span>projection</a></span></li><li><span><a href=\"#Other-methods\" data-toc-modified-id=\"Other-methods-8\"><span class=\"toc-item-num\">8&nbsp;&nbsp;</span>Other methods</a></span><ul class=\"toc-item\"><li><span><a href=\"#distinct\" data-toc-modified-id=\"distinct-8.1\"><span class=\"toc-item-num\">8.1&nbsp;&nbsp;</span><code>distinct</code></a></span></li><li><span><a href=\"#count\" data-toc-modified-id=\"count-8.2\"><span class=\"toc-item-num\">8.2&nbsp;&nbsp;</span><code>count</code></a></span></li><li><span><a href=\"#sort\" data-toc-modified-id=\"sort-8.3\"><span class=\"toc-item-num\">8.3&nbsp;&nbsp;</span><code>sort</code></a></span></li><li><span><a href=\"#limit\" data-toc-modified-id=\"limit-8.4\"><span class=\"toc-item-num\">8.4&nbsp;&nbsp;</span><code>limit</code></a></span></li><li><span><a href=\"#skip\" data-toc-modified-id=\"skip-8.5\"><span class=\"toc-item-num\">8.5&nbsp;&nbsp;</span><code>skip</code></a></span></li></ul></li><li><span><a href=\"#Typical-query-operators\" data-toc-modified-id=\"Typical-query-operators-9\"><span class=\"toc-item-num\">9&nbsp;&nbsp;</span>Typical query operators</a></span><ul class=\"toc-item\"><li><span><a href=\"#Greater-than-/-Less-than\" data-toc-modified-id=\"Greater-than-/-Less-than-9.1\"><span class=\"toc-item-num\">9.1&nbsp;&nbsp;</span>Greater than / Less than</a></span></li><li><span><a href=\"#exists\" data-toc-modified-id=\"exists-9.2\"><span class=\"toc-item-num\">9.2&nbsp;&nbsp;</span><code>exists</code></a></span></li><li><span><a href=\"#regex\" data-toc-modified-id=\"regex-9.3\"><span class=\"toc-item-num\">9.3&nbsp;&nbsp;</span><code>regex</code></a></span></li><li><span><a href=\"#and\" data-toc-modified-id=\"and-9.4\"><span class=\"toc-item-num\">9.4&nbsp;&nbsp;</span><code>and</code></a></span></li><li><span><a href=\"#or\" data-toc-modified-id=\"or-9.5\"><span class=\"toc-item-num\">9.5&nbsp;&nbsp;</span><code>or</code></a></span></li><li><span><a href=\"#ne\" data-toc-modified-id=\"ne-9.6\"><span class=\"toc-item-num\">9.6&nbsp;&nbsp;</span><code>ne</code></a></span></li><li><span><a href=\"#in\" data-toc-modified-id=\"in-9.7\"><span class=\"toc-item-num\">9.7&nbsp;&nbsp;</span><code>in</code></a></span></li><li><span><a href=\"#nin\" data-toc-modified-id=\"nin-9.8\"><span class=\"toc-item-num\">9.8&nbsp;&nbsp;</span><code>nin</code></a></span></li></ul></li><li><span><a href=\"#Update\" data-toc-modified-id=\"Update-10\"><span class=\"toc-item-num\">10&nbsp;&nbsp;</span>Update</a></span></li><li><span><a href=\"#Query-7-from-the-lab-.-All-the-companies-that-have-a-null-type-of-value-on-the-category_code-field.\" data-toc-modified-id=\"Query-7-from-the-lab-.-All-the-companies-that-have-a-null-type-of-value-on-the-category_code-field.-11\"><span class=\"toc-item-num\">11&nbsp;&nbsp;</span>Query 7 from the lab . All the companies that have a null type of value on the category_code field.</a></span></li><li><span><a href=\"#Delete\" data-toc-modified-id=\"Delete-12\"><span class=\"toc-item-num\">12&nbsp;&nbsp;</span>Delete</a></span></li><li><span><a href=\"#Insert\" data-toc-modified-id=\"Insert-13\"><span class=\"toc-item-num\">13&nbsp;&nbsp;</span>Insert</a></span></li><li><span><a href=\"#Extra-info\" data-toc-modified-id=\"Extra-info-14\"><span class=\"toc-item-num\">14&nbsp;&nbsp;</span>Extra info</a></span></li><li><span><a href=\"#Summary\" data-toc-modified-id=\"Summary-15\"><span class=\"toc-item-num\">15&nbsp;&nbsp;</span>Summary</a></span></li><li><span><a href=\"#Further-Materials\" data-toc-modified-id=\"Further-Materials-16\"><span class=\"toc-item-num\">16&nbsp;&nbsp;</span>Further Materials</a></span></li></ul></div>"
   ]
  },
  {
   "cell_type": "markdown",
   "id": "b549b1e2",
   "metadata": {
    "lang": "en"
   },
   "source": [
    "## What is MongoDB?\n",
    "   \n",
    "MongoDB (humongous, \"huge\") is an open source, document-oriented, NoSQL database system.\n",
    "Instead of storing data in tables, as is done in relational databases, MongoDB stores BSON data structures (a specification similar to JSON) with a dynamic schema, making data integration in certain applications easier. easier and faster.\n",
    "MongoDB is a database suitable for use in production and with many features. This database is widely used in the industry, with implementations in companies such as MTV Network, Craigslist, Foursquare.\n",
    "Source code is available for operating systems --> Windows, GNU/Linux, OS X and Solaris."
   ]
  },
  {
   "cell_type": "markdown",
   "id": "d57a7b47",
   "metadata": {
    "lang": "en"
   },
   "source": [
    "## What is the MongoDB database?\n",
    "\n",
    "A database, that is, a structured way of storing and accessing data, more specifically, is a NoSQL database.\n",
    "NoSQL is a very generic term used to describe any data store that does not use the legacy approach of related data tables.\n",
    "This means that you are storing your data in an organized way, but not in rows and columns. An example of NoSQL databases could be anything from a library card catalog, to a more sophisticated data warehouse like MongoDB.\n",
    "Since the range of what NoSQL means is so wide, we need to narrow down our definition further.\n",
    "MongoDB is a NoSQL document database.\n",
    "This means that data in MongoDB is stored as documents, these documents are in turn stored in what we call document collections, which is why MongoDB is classified as a NoSQL document database.\n",
    "\n",
    "In conclusion, MongoDB database is a NoSQL document database."
   ]
  },
  {
   "cell_type": "markdown",
   "id": "56f71cb5",
   "metadata": {
    "lang": "en"
   },
   "source": [
    "## Database creation\n",
    "We have seen that through MongoDB compass we could create a database, a collection and import the data in JSON format in a simple way.\n",
    "We can also do it through the command interface or CLI of mongo."
   ]
  },
  {
   "cell_type": "code",
   "execution_count": null,
   "id": "emotional-pharmacy",
   "metadata": {},
   "outputs": [],
   "source": [
    "#$ mongoimport --db nameOfTheDatabase --collection nameOfTheCollection --file file.json"
   ]
  },
  {
   "cell_type": "code",
   "execution_count": null,
   "id": "1541ce1a",
   "metadata": {},
   "outputs": [],
   "source": [
    "# mongoimport --db Ironhack --collection restaurants --file restaurant.json"
   ]
  },
  {
   "cell_type": "markdown",
   "id": "75b06b9f",
   "metadata": {
    "lang": "en"
   },
   "source": [
    "We are located in the terminal in the folder where we have downloaded the json of \"companies\". What the command does is import into the ironhack database, within the companies collection, that json. If we enter a database name that does not exist or a collection that does not exist, MongoDB creates it for us automatically."
   ]
  },
  {
   "cell_type": "markdown",
   "id": "10a19336",
   "metadata": {
    "lang": "en"
   },
   "source": [
    "## Connection with Python"
   ]
  },
  {
   "cell_type": "markdown",
   "id": "69596bbf",
   "metadata": {
    "lang": "en"
   },
   "source": [
    "The first thing we are going to need to connect python with the MongoDB database server is to install the following library\n",
    "```python\n",
    "#!pip install pymongo\n",
    "```\n",
    "And remember: You have to [read the documentation](https://pymongo.readthedocs.io/en/stable/)"
   ]
  },
  {
   "cell_type": "code",
   "execution_count": 3,
   "id": "medieval-venue",
   "metadata": {},
   "outputs": [],
   "source": [
    "from pymongo import MongoClient\n",
    "import pandas as pd\n",
    "import time"
   ]
  },
  {
   "cell_type": "markdown",
   "id": "dd0c25d4",
   "metadata": {
    "lang": "en"
   },
   "source": [
    "### We connect to the server\n",
    "The Mongo server has to be up and is normally running on port 27017, it always connects to this port by default"
   ]
  },
  {
   "cell_type": "code",
   "execution_count": 12,
   "id": "0e959698",
   "metadata": {},
   "outputs": [],
   "source": [
    "client = MongoClient(\"localhost:27017\")"
   ]
  },
  {
   "cell_type": "code",
   "execution_count": 13,
   "id": "bc7b7488",
   "metadata": {},
   "outputs": [
    {
     "data": {
      "text/plain": [
       "MongoClient(host=['localhost:27017'], document_class=dict, tz_aware=False, connect=True)"
      ]
     },
     "execution_count": 13,
     "metadata": {},
     "output_type": "execute_result"
    }
   ],
   "source": [
    "client"
   ]
  },
  {
   "cell_type": "code",
   "execution_count": 14,
   "id": "3fd4ecdc",
   "metadata": {},
   "outputs": [
    {
     "data": {
      "text/plain": [
       "['Ironhack', 'admin', 'config', 'local', 'meetech-database']"
      ]
     },
     "execution_count": 14,
     "metadata": {},
     "output_type": "execute_result"
    }
   ],
   "source": [
    "client.list_database_names()"
   ]
  },
  {
   "cell_type": "markdown",
   "id": "2a26d382",
   "metadata": {
    "lang": "en"
   },
   "source": [
    "### We connect to the database"
   ]
  },
  {
   "cell_type": "code",
   "execution_count": 15,
   "id": "level-fantasy",
   "metadata": {},
   "outputs": [],
   "source": [
    "db = client[\"Ironhack\"]"
   ]
  },
  {
   "cell_type": "code",
   "execution_count": 16,
   "id": "23f6fa30",
   "metadata": {},
   "outputs": [
    {
     "data": {
      "text/plain": [
       "['bookstores',\n",
       " 'HP',\n",
       " 'posts',\n",
       " 'companies',\n",
       " 'restaurants',\n",
       " 'nyrest',\n",
       " 'districts',\n",
       " 'nyneigh']"
      ]
     },
     "execution_count": 16,
     "metadata": {},
     "output_type": "execute_result"
    }
   ],
   "source": [
    "db.list_collection_names()"
   ]
  },
  {
   "cell_type": "code",
   "execution_count": null,
   "id": "989ef83b",
   "metadata": {},
   "outputs": [],
   "source": [
    "# database = ironhack\n",
    "# collection = restaurants"
   ]
  },
  {
   "cell_type": "markdown",
   "id": "81ea8fc3",
   "metadata": {
    "lang": "en"
   },
   "source": [
    "## Basic database management operations"
   ]
  },
  {
   "cell_type": "markdown",
   "id": "fc9388c7",
   "metadata": {
    "lang": "en"
   },
   "source": [
    "### Create and delete collections from python"
   ]
  },
  {
   "cell_type": "code",
   "execution_count": 19,
   "id": "8f8f7dfe",
   "metadata": {
    "lang": "en"
   },
   "outputs": [
    {
     "data": {
      "text/plain": [
       "Database(MongoClient(host=['localhost:27017'], document_class=dict, tz_aware=False, connect=True), 'Ironhack')"
      ]
     },
     "execution_count": 19,
     "metadata": {},
     "output_type": "execute_result"
    }
   ],
   "source": [
    "#client[\"Ironhack\"]"
   ]
  },
  {
   "cell_type": "code",
   "execution_count": 21,
   "id": "9c1ba391",
   "metadata": {},
   "outputs": [
    {
     "data": {
      "text/plain": [
       "{'nIndexesWas': 1, 'ns': 'Ironhack.test', 'ok': 1.0}"
      ]
     },
     "execution_count": 21,
     "metadata": {},
     "output_type": "execute_result"
    }
   ],
   "source": [
    "# previously created through mongo compass\n",
    "db.drop_collection(\"test\")"
   ]
  },
  {
   "cell_type": "markdown",
   "id": "eca17ba9",
   "metadata": {
    "lang": "en"
   },
   "source": [
    "### We connect to a specific collection to make the queries"
   ]
  },
  {
   "cell_type": "code",
   "execution_count": 26,
   "id": "dress-running",
   "metadata": {},
   "outputs": [],
   "source": [
    "c = db.get_collection(\"restaurants\")"
   ]
  },
  {
   "cell_type": "code",
   "execution_count": 27,
   "id": "72e7a79d",
   "metadata": {
    "scrolled": true
   },
   "outputs": [
    {
     "data": {
      "text/plain": [
       "Collection(Database(MongoClient(host=['localhost:27017'], document_class=dict, tz_aware=False, connect=True), 'Ironhack'), 'restaurants')"
      ]
     },
     "execution_count": 27,
     "metadata": {},
     "output_type": "execute_result"
    }
   ],
   "source": [
    "c"
   ]
  },
  {
   "cell_type": "markdown",
   "id": "2a690152",
   "metadata": {
    "lang": "en"
   },
   "source": [
    "## Queries in Mongo"
   ]
  },
  {
   "cell_type": "markdown",
   "id": "56de296c",
   "metadata": {
    "lang": "en"
   },
   "source": [
    "To explore what the documents in my collection look like, what shape and what fields they have, I can go to Mongo Compass and explore the collection, or I can choose an unfiltered document."
   ]
  },
  {
   "cell_type": "markdown",
   "id": "metric-information",
   "metadata": {},
   "source": [
    "![undocumento](../images/compass1.png)"
   ]
  },
  {
   "cell_type": "code",
   "execution_count": null,
   "id": "a33679d8",
   "metadata": {
    "lang": "en"
   },
   "outputs": [],
   "source": [
    "## Let's do it in Python"
   ]
  },
  {
   "cell_type": "markdown",
   "id": "fe5597bc",
   "metadata": {
    "lang": "en"
   },
   "source": [
    "### `find_one` method\n",
    "`collection.find_one(filter)`"
   ]
  },
  {
   "cell_type": "code",
   "execution_count": 30,
   "id": "10b23dd3",
   "metadata": {},
   "outputs": [
    {
     "data": {
      "text/plain": [
       "{'_id': ObjectId('55f14312c7447c3da7051b26'),\n",
       " 'URL': 'http://www.just-eat.co.uk/restaurants-cn-chinese-cardiff/menu',\n",
       " 'address': '228 City Road',\n",
       " 'address line 2': 'Cardiff',\n",
       " 'name': '.CN Chinese',\n",
       " 'outcode': 'CF24',\n",
       " 'postcode': '3JH',\n",
       " 'rating': 5,\n",
       " 'type_of_food': 'Chinese'}"
      ]
     },
     "execution_count": 30,
     "metadata": {},
     "output_type": "execute_result"
    }
   ],
   "source": [
    "result = c.find_one()\n",
    "result"
   ]
  },
  {
   "cell_type": "code",
   "execution_count": 31,
   "id": "7f4a1ca2",
   "metadata": {},
   "outputs": [
    {
     "data": {
      "text/plain": [
       "dict"
      ]
     },
     "execution_count": 31,
     "metadata": {},
     "output_type": "execute_result"
    }
   ],
   "source": [
    "type(result)"
   ]
  },
  {
   "cell_type": "code",
   "execution_count": 32,
   "id": "d343adc6",
   "metadata": {},
   "outputs": [
    {
     "data": {
      "text/plain": [
       "'228 City Road'"
      ]
     },
     "execution_count": 32,
     "metadata": {},
     "output_type": "execute_result"
    }
   ],
   "source": [
    "result[\"address\"]"
   ]
  },
  {
   "cell_type": "code",
   "execution_count": 33,
   "id": "60dedbcc",
   "metadata": {},
   "outputs": [
    {
     "data": {
      "text/plain": [
       "dict_keys(['_id', 'URL', 'address', 'address line 2', 'name', 'outcode', 'postcode', 'rating', 'type_of_food'])"
      ]
     },
     "execution_count": 33,
     "metadata": {},
     "output_type": "execute_result"
    }
   ],
   "source": [
    "result.keys()"
   ]
  },
  {
   "cell_type": "markdown",
   "id": "c5687338",
   "metadata": {
    "lang": "en"
   },
   "source": [
    "# We want to search for Thai restaurants"
   ]
  },
  {
   "cell_type": "markdown",
   "id": "interstate-queue",
   "metadata": {},
   "source": [
    "```sql\n",
    "-- Filter in SQL:\n",
    "SELECT *\n",
    "WHERE type_of_food = \"Thai\"\n",
    "```"
   ]
  },
  {
   "cell_type": "markdown",
   "id": "f2fab51a",
   "metadata": {},
   "source": [
    "This would be the filter 👇🏻\n",
    "```python\n",
    "# Filter in Python\n",
    "{\"type_of_food\": \"Thai\"}\n",
    "```"
   ]
  },
  {
   "cell_type": "code",
   "execution_count": 34,
   "id": "relevant-strike",
   "metadata": {},
   "outputs": [
    {
     "data": {
      "text/plain": [
       "{'_id': ObjectId('55f14312c7447c3da7051b27'),\n",
       " 'URL': 'http://www.just-eat.co.uk/restaurants-atthai-ss9/menu',\n",
       " 'address': '376 Rayleigh Road',\n",
       " 'address line 2': 'Essex',\n",
       " 'name': '@ Thai',\n",
       " 'outcode': 'SS9',\n",
       " 'postcode': '5PT',\n",
       " 'rating': 5.5,\n",
       " 'type_of_food': 'Thai'}"
      ]
     },
     "execution_count": 34,
     "metadata": {},
     "output_type": "execute_result"
    }
   ],
   "source": [
    "c.find_one({\"type_of_food\":\"Thai\"})"
   ]
  },
  {
   "cell_type": "markdown",
   "id": "035ecefc",
   "metadata": {
    "lang": "en"
   },
   "source": [
    "### `find` method\n",
    "`collection.find(filter)`"
   ]
  },
  {
   "cell_type": "code",
   "execution_count": 35,
   "id": "creative-setting",
   "metadata": {},
   "outputs": [
    {
     "data": {
      "text/plain": [
       "<pymongo.cursor.Cursor at 0x7fcd90a06070>"
      ]
     },
     "execution_count": 35,
     "metadata": {},
     "output_type": "execute_result"
    }
   ],
   "source": [
    "result = c.find({\"type_of_food\":\"Thai\"})\n",
    "result"
   ]
  },
  {
   "cell_type": "markdown",
   "id": "084098dc",
   "metadata": {
    "lang": "en"
   },
   "source": [
    "The `pymongo` collection method returns a Cursor:\n",
    "- a Cursor is an iterator\n",
    "- a Cursor has the `__next__` method (the `next` function returns the next element in the stream)\n",
    "- `pymongo` does not fetch information until it is needed\n",
    "- a Cursor has no `len`."
   ]
  },
  {
   "cell_type": "code",
   "execution_count": 43,
   "id": "c9310ced",
   "metadata": {},
   "outputs": [
    {
     "data": {
      "text/plain": [
       "[{'_id': ObjectId('55f14312c7447c3da7051b27'),\n",
       "  'URL': 'http://www.just-eat.co.uk/restaurants-atthai-ss9/menu',\n",
       "  'address': '376 Rayleigh Road',\n",
       "  'address line 2': 'Essex',\n",
       "  'name': '@ Thai',\n",
       "  'outcode': 'SS9',\n",
       "  'postcode': '5PT',\n",
       "  'rating': 5.5,\n",
       "  'type_of_food': 'Thai'},\n",
       " {'_id': ObjectId('55f14312c7447c3da7051b28'),\n",
       "  'URL': 'http://www.just-eat.co.uk/restaurants-atthairestaurant/menu',\n",
       "  'address': '30 Greyhound Road Hammersmith',\n",
       "  'address line 2': 'London',\n",
       "  'name': '@ Thai Restaurant',\n",
       "  'outcode': 'W6',\n",
       "  'postcode': '8NX',\n",
       "  'rating': 4.5,\n",
       "  'type_of_food': 'Thai'}]"
      ]
     },
     "execution_count": 43,
     "metadata": {},
     "output_type": "execute_result"
    }
   ],
   "source": [
    "result = list(c.find({\"type_of_food\":\"Thai\"}))\n",
    "result[0:2]"
   ]
  },
  {
   "cell_type": "code",
   "execution_count": 39,
   "id": "8a7e4aad",
   "metadata": {},
   "outputs": [
    {
     "data": {
      "text/plain": [
       "40"
      ]
     },
     "execution_count": 39,
     "metadata": {},
     "output_type": "execute_result"
    }
   ],
   "source": [
    "len(result)"
   ]
  },
  {
   "cell_type": "code",
   "execution_count": 46,
   "id": "ff11603c",
   "metadata": {},
   "outputs": [
    {
     "data": {
      "text/plain": [
       "['@ Thai',\n",
       " '@ Thai Restaurant',\n",
       " '@ Thai Restaurant',\n",
       " 'All Siam Thai Restaurant - Collection Only',\n",
       " \"Anna's Thai Restaurant\"]"
      ]
     },
     "execution_count": 46,
     "metadata": {},
     "output_type": "execute_result"
    }
   ],
   "source": [
    "names = []\n",
    "for i in result:\n",
    "    names.append(i[\"name\"])\n",
    "names[:5]"
   ]
  },
  {
   "cell_type": "markdown",
   "id": "444a8c80",
   "metadata": {
    "lang": "en"
   },
   "source": [
    "## projection\n",
    "When a query is made in MongoDB using `.find()`, what the query returns is the set of documents corresponding to the query. By default, the complete documents with all their fields will be returned. Although we can select the fields of a document that we want to return the query, or what is the same, make a MongoDB Projection.\n",
    "If we want to select several fields, we simply have to indicate the name of the field followed by a 1. Or use a 0 to eliminate the fields to be displayed:\n",
    "\n",
    "The `_id` field is returned by default\n",
    "\n",
    "Syntax:\n",
    "`collection.find(filter, projection)`"
   ]
  },
  {
   "cell_type": "code",
   "execution_count": 55,
   "id": "4dfa58e0",
   "metadata": {},
   "outputs": [
    {
     "data": {
      "text/plain": [
       "[{'name': '@ Thai'},\n",
       " {'name': '@ Thai Restaurant'},\n",
       " {'name': '@ Thai Restaurant'},\n",
       " {'name': 'All Siam Thai Restaurant - Collection Only'}]"
      ]
     },
     "execution_count": 55,
     "metadata": {},
     "output_type": "execute_result"
    }
   ],
   "source": [
    "filter_ = {\"type_of_food\":\"Thai\"}\n",
    "projection = {\"name\":1, \"_id\":0}\n",
    "\n",
    "result = list(c.find(filter_, projection))\n",
    "result[:4]"
   ]
  },
  {
   "cell_type": "code",
   "execution_count": 57,
   "id": "66b4bfc5",
   "metadata": {},
   "outputs": [
    {
     "data": {
      "text/plain": [
       "['@ Thai',\n",
       " '@ Thai Restaurant',\n",
       " '@ Thai Restaurant',\n",
       " 'All Siam Thai Restaurant - Collection Only',\n",
       " \"Anna's Thai Restaurant\"]"
      ]
     },
     "execution_count": 57,
     "metadata": {},
     "output_type": "execute_result"
    }
   ],
   "source": [
    "[i[\"name\"] for i in result][:5]"
   ]
  },
  {
   "cell_type": "code",
   "execution_count": 65,
   "id": "5640bfbf",
   "metadata": {},
   "outputs": [],
   "source": [
    "filter_ = {\"type_of_food\":\"Pizza\", \"rating\":6}\n",
    "projection = {\"_id\":0}\n",
    "\n",
    "\n",
    "result = list(c.find(filter_, projection))"
   ]
  },
  {
   "cell_type": "code",
   "execution_count": 63,
   "id": "a2580eb6",
   "metadata": {},
   "outputs": [],
   "source": [
    "result = list(c.find({\"type_of_food\":\"Pizza\", \"rating\":6}, {\"_id\":0}))"
   ]
  },
  {
   "cell_type": "code",
   "execution_count": 66,
   "id": "0ed9265f",
   "metadata": {},
   "outputs": [
    {
     "data": {
      "text/html": [
       "<div>\n",
       "<style scoped>\n",
       "    .dataframe tbody tr th:only-of-type {\n",
       "        vertical-align: middle;\n",
       "    }\n",
       "\n",
       "    .dataframe tbody tr th {\n",
       "        vertical-align: top;\n",
       "    }\n",
       "\n",
       "    .dataframe thead th {\n",
       "        text-align: right;\n",
       "    }\n",
       "</style>\n",
       "<table border=\"1\" class=\"dataframe\">\n",
       "  <thead>\n",
       "    <tr style=\"text-align: right;\">\n",
       "      <th></th>\n",
       "      <th>URL</th>\n",
       "      <th>address</th>\n",
       "      <th>address line 2</th>\n",
       "      <th>name</th>\n",
       "      <th>outcode</th>\n",
       "      <th>postcode</th>\n",
       "      <th>rating</th>\n",
       "      <th>type_of_food</th>\n",
       "    </tr>\n",
       "  </thead>\n",
       "  <tbody>\n",
       "    <tr>\n",
       "      <th>0</th>\n",
       "      <td>http://www.just-eat.co.uk/restaurants-007takea...</td>\n",
       "      <td>6 Drummond Street</td>\n",
       "      <td>Rotherham</td>\n",
       "      <td>007 Takeaway</td>\n",
       "      <td>S65</td>\n",
       "      <td>1HY</td>\n",
       "      <td>6</td>\n",
       "      <td>Pizza</td>\n",
       "    </tr>\n",
       "    <tr>\n",
       "      <th>1</th>\n",
       "      <td>http://www.just-eat.co.uk/restaurants-alcatraz...</td>\n",
       "      <td>127 Christchurch Road</td>\n",
       "      <td>Bournemouth</td>\n",
       "      <td>Alcatraz Caffe Bournemouth</td>\n",
       "      <td>BH1</td>\n",
       "      <td>1EP</td>\n",
       "      <td>6</td>\n",
       "      <td>Pizza</td>\n",
       "    </tr>\n",
       "    <tr>\n",
       "      <th>2</th>\n",
       "      <td>http://www.just-eat.co.uk/restaurants-aspendos...</td>\n",
       "      <td>67 High Street</td>\n",
       "      <td>Dymchurch</td>\n",
       "      <td>Aspendos</td>\n",
       "      <td>TN29</td>\n",
       "      <td>0NH</td>\n",
       "      <td>6</td>\n",
       "      <td>Pizza</td>\n",
       "    </tr>\n",
       "    <tr>\n",
       "      <th>3</th>\n",
       "      <td>http://www.just-eat.co.uk/restaurants-barista-...</td>\n",
       "      <td>24 Ballards Lane</td>\n",
       "      <td>London</td>\n",
       "      <td>Barista House Restaurant &amp; Cafe - Collection Only</td>\n",
       "      <td>N3</td>\n",
       "      <td>2BJ</td>\n",
       "      <td>6</td>\n",
       "      <td>Pizza</td>\n",
       "    </tr>\n",
       "    <tr>\n",
       "      <th>4</th>\n",
       "      <td>http://www.just-eat.co.uk/restaurants-bellapan...</td>\n",
       "      <td>196 Harvie Avenue</td>\n",
       "      <td>Glasgow</td>\n",
       "      <td>Bella Panini</td>\n",
       "      <td>G77</td>\n",
       "      <td>6UT</td>\n",
       "      <td>6</td>\n",
       "      <td>Pizza</td>\n",
       "    </tr>\n",
       "    <tr>\n",
       "      <th>5</th>\n",
       "      <td>http://www.just-eat.co.uk/restaurants-bestpizz...</td>\n",
       "      <td>113 Mungo Park Road</td>\n",
       "      <td>Rainham</td>\n",
       "      <td>Best Pizza</td>\n",
       "      <td>RM13</td>\n",
       "      <td>7PP</td>\n",
       "      <td>6</td>\n",
       "      <td>Pizza</td>\n",
       "    </tr>\n",
       "    <tr>\n",
       "      <th>6</th>\n",
       "      <td>http://www.just-eat.co.uk/restaurants-best-piz...</td>\n",
       "      <td>4 Macklin Street</td>\n",
       "      <td>Derby</td>\n",
       "      <td>Best Pizza &amp; Kebab</td>\n",
       "      <td>DE1</td>\n",
       "      <td>1LE</td>\n",
       "      <td>6</td>\n",
       "      <td>Pizza</td>\n",
       "    </tr>\n",
       "    <tr>\n",
       "      <th>7</th>\n",
       "      <td>http://www.just-eat.co.uk/restaurants-best-piz...</td>\n",
       "      <td>4 Macklin Street</td>\n",
       "      <td>Derby</td>\n",
       "      <td>Best Pizza &amp; Kebab</td>\n",
       "      <td>DE1</td>\n",
       "      <td>1LE</td>\n",
       "      <td>6</td>\n",
       "      <td>Pizza</td>\n",
       "    </tr>\n",
       "  </tbody>\n",
       "</table>\n",
       "</div>"
      ],
      "text/plain": [
       "                                                 URL                address  \\\n",
       "0  http://www.just-eat.co.uk/restaurants-007takea...      6 Drummond Street   \n",
       "1  http://www.just-eat.co.uk/restaurants-alcatraz...  127 Christchurch Road   \n",
       "2  http://www.just-eat.co.uk/restaurants-aspendos...         67 High Street   \n",
       "3  http://www.just-eat.co.uk/restaurants-barista-...       24 Ballards Lane   \n",
       "4  http://www.just-eat.co.uk/restaurants-bellapan...      196 Harvie Avenue   \n",
       "5  http://www.just-eat.co.uk/restaurants-bestpizz...    113 Mungo Park Road   \n",
       "6  http://www.just-eat.co.uk/restaurants-best-piz...       4 Macklin Street   \n",
       "7  http://www.just-eat.co.uk/restaurants-best-piz...       4 Macklin Street   \n",
       "\n",
       "  address line 2                                               name outcode  \\\n",
       "0      Rotherham                                       007 Takeaway     S65   \n",
       "1    Bournemouth                         Alcatraz Caffe Bournemouth     BH1   \n",
       "2      Dymchurch                                           Aspendos    TN29   \n",
       "3         London  Barista House Restaurant & Cafe - Collection Only      N3   \n",
       "4        Glasgow                                       Bella Panini     G77   \n",
       "5        Rainham                                         Best Pizza    RM13   \n",
       "6          Derby                                 Best Pizza & Kebab     DE1   \n",
       "7          Derby                                 Best Pizza & Kebab     DE1   \n",
       "\n",
       "  postcode  rating type_of_food  \n",
       "0      1HY       6        Pizza  \n",
       "1      1EP       6        Pizza  \n",
       "2      0NH       6        Pizza  \n",
       "3      2BJ       6        Pizza  \n",
       "4      6UT       6        Pizza  \n",
       "5      7PP       6        Pizza  \n",
       "6      1LE       6        Pizza  \n",
       "7      1LE       6        Pizza  "
      ]
     },
     "execution_count": 66,
     "metadata": {},
     "output_type": "execute_result"
    }
   ],
   "source": [
    "df = pd.DataFrame(result)\n",
    "df"
   ]
  },
  {
   "cell_type": "markdown",
   "id": "74a23354",
   "metadata": {
    "lang": "en"
   },
   "source": [
    "## Other methods"
   ]
  },
  {
   "cell_type": "markdown",
   "id": "de00cb5d",
   "metadata": {
    "lang": "en"
   },
   "source": [
    "### `distinct`\n",
    "How many distinct values ​​does a field have in the entire collection?"
   ]
  },
  {
   "cell_type": "code",
   "execution_count": 67,
   "id": "bulgarian-doctor",
   "metadata": {},
   "outputs": [
    {
     "data": {
      "text/plain": [
       "[1, 1.5, 2.5, 3, 3.5, 4, 4.5, 5, 5.5, 6, 100, 'Not yet rated']"
      ]
     },
     "execution_count": 67,
     "metadata": {},
     "output_type": "execute_result"
    }
   ],
   "source": [
    "c.distinct(\"rating\")"
   ]
  },
  {
   "cell_type": "code",
   "execution_count": 69,
   "id": "9879e82f",
   "metadata": {},
   "outputs": [
    {
     "data": {
      "text/plain": [
       "['*NEW*',\n",
       " 'Afghan',\n",
       " 'African',\n",
       " 'American',\n",
       " 'Arabic',\n",
       " 'Azerbaijan',\n",
       " 'Bagels',\n",
       " 'Bangladeshi',\n",
       " 'Breakfast',\n",
       " 'Burgers']"
      ]
     },
     "execution_count": 69,
     "metadata": {},
     "output_type": "execute_result"
    }
   ],
   "source": [
    "c.distinct(\"type_of_food\")[:10]"
   ]
  },
  {
   "cell_type": "code",
   "execution_count": 77,
   "id": "426e24f9",
   "metadata": {},
   "outputs": [
    {
     "data": {
      "text/plain": [
       "[{'_id': ObjectId('55f14313c7447c3da7052096'),\n",
       "  'URL': 'http://www.just-eat.co.uk/restaurants-azerbaijanrestaurant-w6/menu',\n",
       "  'address': '291-293 King Street',\n",
       "  'address line 2': 'London',\n",
       "  'name': 'Azerbaijan Restaurant',\n",
       "  'outcode': 'W6',\n",
       "  'postcode': '9NH',\n",
       "  'rating': 5,\n",
       "  'type_of_food': 'Azerbaijan'},\n",
       " {'_id': ObjectId('55f14313c7447c3da7052097'),\n",
       "  'URL': 'http://www.just-eat.co.uk/restaurants-azerbaijanrestaurant-w6/menu',\n",
       "  'address': '291-293 King Street',\n",
       "  'address line 2': 'London',\n",
       "  'name': 'Azerbaijan Restaurant',\n",
       "  'outcode': 'W6',\n",
       "  'postcode': '9NH',\n",
       "  'rating': 5,\n",
       "  'type_of_food': 'Azerbaijan'}]"
      ]
     },
     "execution_count": 77,
     "metadata": {},
     "output_type": "execute_result"
    }
   ],
   "source": [
    "list(c.find({\"type_of_food\":\"Azerbaijan\"}))[:2]"
   ]
  },
  {
   "cell_type": "markdown",
   "id": "a93cdcbc",
   "metadata": {
    "lang": "en"
   },
   "source": [
    "### `count`\n",
    "Returns the count of documents that would match a find() query for the collection or view. The db.collection.count() method does not perform the find() operation, but instead counts and returns the number of results that match a query.\n",
    "Syntax:\n",
    "     \n",
    "`collection.count_documents(filter)`"
   ]
  },
  {
   "cell_type": "code",
   "execution_count": 80,
   "id": "593a04f3",
   "metadata": {},
   "outputs": [
    {
     "data": {
      "text/plain": [
       "2549"
      ]
     },
     "execution_count": 80,
     "metadata": {},
     "output_type": "execute_result"
    }
   ],
   "source": [
    "c.count_documents({})"
   ]
  },
  {
   "cell_type": "code",
   "execution_count": 81,
   "id": "4aff6f4a",
   "metadata": {},
   "outputs": [
    {
     "data": {
      "text/plain": [
       "14"
      ]
     },
     "execution_count": 81,
     "metadata": {},
     "output_type": "execute_result"
    }
   ],
   "source": [
    "c.count_documents({\"type_of_food\":\"Middle Eastern\"})"
   ]
  },
  {
   "cell_type": "code",
   "execution_count": 85,
   "id": "2200c9eb",
   "metadata": {},
   "outputs": [
    {
     "data": {
      "text/plain": [
       "1"
      ]
     },
     "execution_count": 85,
     "metadata": {},
     "output_type": "execute_result"
    }
   ],
   "source": [
    "c.count_documents({\"type_of_food\":\"Spanish\"})"
   ]
  },
  {
   "cell_type": "code",
   "execution_count": 89,
   "id": "15154930",
   "metadata": {},
   "outputs": [
    {
     "data": {
      "text/plain": [
       "[{'_id': ObjectId('55f14313c7447c3da70521ed'),\n",
       "  'URL': 'http://www.just-eat.co.uk/restaurants-barcelonase22/menu',\n",
       "  'address': '481 Lordship Lane',\n",
       "  'address line 2': 'East Dulwich',\n",
       "  'name': 'Barcelona',\n",
       "  'outcode': 'SE22',\n",
       "  'postcode': '8JY',\n",
       "  'rating': 4.5,\n",
       "  'type_of_food': 'Spanish'}]"
      ]
     },
     "execution_count": 89,
     "metadata": {},
     "output_type": "execute_result"
    }
   ],
   "source": [
    "list(c.find({\"type_of_food\":\"Spanish\"}))"
   ]
  },
  {
   "cell_type": "markdown",
   "id": "3d2a5f68",
   "metadata": {
    "lang": "en"
   },
   "source": [
    "### `sort`\n",
    "We can `sort` the result of a `find`\n",
    "\n",
    "`1` --> Sort ascending\n",
    "`-1` --> Descending order"
   ]
  },
  {
   "cell_type": "code",
   "execution_count": null,
   "id": "alternate-jordan",
   "metadata": {},
   "outputs": [],
   "source": [
    "# filter -> where\n",
    "# projection -> select\n",
    "# sort -> order by "
   ]
  },
  {
   "cell_type": "code",
   "execution_count": 93,
   "id": "375036fc",
   "metadata": {},
   "outputs": [],
   "source": [
    "#c.distinct(\"type_of_food\")"
   ]
  },
  {
   "cell_type": "code",
   "execution_count": 103,
   "id": "77ea376b",
   "metadata": {},
   "outputs": [
    {
     "data": {
      "text/plain": [
       "[{'name': 'Ayubowan', 'rating': 6},\n",
       " {'name': 'Ale & Spice', 'rating': 5.5},\n",
       " {'name': 'Amras Sri Lankan & South Indian Restaurant (HMC)', 'rating': 5},\n",
       " {'name': 'Annamma Spices', 'rating': 3.5},\n",
       " {'name': 'Annamma Spices', 'rating': 3.5}]"
      ]
     },
     "execution_count": 103,
     "metadata": {},
     "output_type": "execute_result"
    }
   ],
   "source": [
    "filter_ = {\"type_of_food\":\"Sri-lankan\"}\n",
    "projection = {\"name\":1, \"_id\":0, \"rating\":1}\n",
    "#sort = {\"rating\":-1} :( )\n",
    "\n",
    "list(c.find(filter_, projection).sort(\"rating\", -1))"
   ]
  },
  {
   "cell_type": "markdown",
   "id": "e0eadb0b",
   "metadata": {
    "lang": "en"
   },
   "source": [
    "### `limit`\n",
    "\n",
    "We can `limit` the result of a `find`"
   ]
  },
  {
   "cell_type": "code",
   "execution_count": 105,
   "id": "behavioral-saying",
   "metadata": {},
   "outputs": [
    {
     "data": {
      "text/plain": [
       "[{'name': 'Ayubowan', 'rating': 6}, {'name': 'Ale & Spice', 'rating': 5.5}]"
      ]
     },
     "execution_count": 105,
     "metadata": {},
     "output_type": "execute_result"
    }
   ],
   "source": [
    "filter_ = {\"type_of_food\":\"Sri-lankan\"}\n",
    "projection = {\"name\":1, \"_id\":0, \"rating\":1}\n",
    "\n",
    "list(c.find(filter_, projection).sort(\"rating\", -1).limit(2))"
   ]
  },
  {
   "cell_type": "markdown",
   "id": "9e6f50b6",
   "metadata": {
    "lang": "en"
   },
   "source": [
    "### `skip`\n",
    "We can `skip` some results of a `find`\n",
    "Call the skip() method on a cursor to control where MongoDB starts returning results. This approach can be useful for implementing paginated results."
   ]
  },
  {
   "cell_type": "markdown",
   "id": "64791652",
   "metadata": {},
   "source": [
    "[FROM THE DOCS](https://www.mongodb.com/docs/manual/reference/method/cursor.skip/)\n",
    "\n",
    "If using `skip()` with `sort()`, be sure to include at least one field in your sort that contains unique values, before passing results to skip().\n",
    "\n",
    "Sorting on fields that contain duplicate values may return an inconsistent sort order for those duplicate fields over multiple executions, especially when the collection is actively receiving writes.\n",
    "\n"
   ]
  },
  {
   "cell_type": "code",
   "execution_count": 112,
   "id": "ccccf329",
   "metadata": {},
   "outputs": [
    {
     "data": {
      "text/plain": [
       "[{'name': 'Annamma Spices', 'rating': 3.5},\n",
       " {'name': 'Annamma Spices', 'rating': 3.5}]"
      ]
     },
     "execution_count": 112,
     "metadata": {},
     "output_type": "execute_result"
    }
   ],
   "source": [
    "filter_ = {\"type_of_food\":\"Sri-lankan\"}\n",
    "projection = {\"name\":1, \"_id\":0, \"rating\":1}\n",
    "\n",
    "list(c.find(filter_, projection).sort(\"rating\", -1).skip(3))"
   ]
  },
  {
   "cell_type": "code",
   "execution_count": null,
   "id": "66c1c160",
   "metadata": {},
   "outputs": [],
   "source": [
    "#Skip will skip the first n elements"
   ]
  },
  {
   "cell_type": "code",
   "execution_count": 126,
   "id": "aeef3ae2",
   "metadata": {},
   "outputs": [
    {
     "data": {
      "text/plain": [
       "[{'name': '168 Chinese & Cantonese Takeaway', 'rating': 5.5},\n",
       " {'name': '350 Wok', 'rating': 5.5},\n",
       " {'name': '350 Wok', 'rating': 5.5},\n",
       " {'name': '350 Wok', 'rating': 5.5},\n",
       " {'name': '4 in Love', 'rating': 5.5}]"
      ]
     },
     "execution_count": 126,
     "metadata": {},
     "output_type": "execute_result"
    }
   ],
   "source": [
    "list(c.find({\"type_of_food\":\"Chinese\", \"rating\":5.5}, {\"_id\":0, \"name\":1, \"rating\":1}).sort(\"name\", 1).skip(1).limit(5))"
   ]
  },
  {
   "cell_type": "markdown",
   "id": "3b3112d1",
   "metadata": {},
   "source": [
    "⚠️: `skip` --> docs"
   ]
  },
  {
   "cell_type": "markdown",
   "id": "82c9ae17",
   "metadata": {
    "lang": "en"
   },
   "source": [
    "## Typical query operators\n",
    "Query operators are preceded by the dollar sign `$`."
   ]
  },
  {
   "cell_type": "markdown",
   "id": "b6edfe50",
   "metadata": {
    "lang": "en"
   },
   "source": [
    "### Greater than / Less than\n",
    "Is a numeric field greater than or less than a given value"
   ]
  },
  {
   "cell_type": "code",
   "execution_count": 130,
   "id": "unable-irrigation",
   "metadata": {},
   "outputs": [
    {
     "data": {
      "text/plain": [
       "[{'_id': ObjectId('55f14312c7447c3da7051b27'),\n",
       "  'URL': 'http://www.just-eat.co.uk/restaurants-atthai-ss9/menu',\n",
       "  'address': '376 Rayleigh Road',\n",
       "  'address line 2': 'Essex',\n",
       "  'name': '@ Thai',\n",
       "  'outcode': 'SS9',\n",
       "  'postcode': '5PT',\n",
       "  'rating': 5.5,\n",
       "  'type_of_food': 'Thai'},\n",
       " {'_id': ObjectId('55f14312c7447c3da7051b35'),\n",
       "  'URL': 'http://www.just-eat.co.uk/restaurants-113-fish-bar-wallasey/menu',\n",
       "  'address': '113 Poulton Road',\n",
       "  'address line 2': 'Merseyside',\n",
       "  'name': '113 Fish Bar',\n",
       "  'outcode': 'CH44',\n",
       "  'postcode': '9DE',\n",
       "  'rating': 5.5,\n",
       "  'type_of_food': 'Chinese'}]"
      ]
     },
     "execution_count": 130,
     "metadata": {},
     "output_type": "execute_result"
    }
   ],
   "source": [
    "list(c.find({\"rating\":5.5}))[:2]"
   ]
  },
  {
   "cell_type": "code",
   "execution_count": 132,
   "id": "75949f7c",
   "metadata": {},
   "outputs": [
    {
     "data": {
      "text/plain": [
       "[{'_id': ObjectId('55f14312c7447c3da7051b2a'),\n",
       "  'URL': 'http://www.just-eat.co.uk/restaurants-indiancom-ch4/menu',\n",
       "  'address': '9 Broughton Hall Road',\n",
       "  'address line 2': 'Broughton',\n",
       "  'name': '@Indian.com',\n",
       "  'outcode': 'CH4',\n",
       "  'postcode': '0QR',\n",
       "  'rating': 6,\n",
       "  'type_of_food': 'Curry'},\n",
       " {'_id': ObjectId('55f14312c7447c3da7051b2b'),\n",
       "  'URL': 'http://www.just-eat.co.uk/restaurants-007takeaway-s65/menu',\n",
       "  'address': '6 Drummond Street',\n",
       "  'address line 2': 'Rotherham',\n",
       "  'name': '007 Takeaway',\n",
       "  'outcode': 'S65',\n",
       "  'postcode': '1HY',\n",
       "  'rating': 6,\n",
       "  'type_of_food': 'Pizza'}]"
      ]
     },
     "execution_count": 132,
     "metadata": {},
     "output_type": "execute_result"
    }
   ],
   "source": [
    "# greater than\n",
    "filter_ = {\"rating\": {\"$gt\":5.5}}\n",
    "list(c.find(filter_))[:2]"
   ]
  },
  {
   "cell_type": "code",
   "execution_count": 133,
   "id": "5b389ec9",
   "metadata": {},
   "outputs": [
    {
     "data": {
      "text/plain": [
       "[{'_id': ObjectId('55f14312c7447c3da7051b26'),\n",
       "  'URL': 'http://www.just-eat.co.uk/restaurants-cn-chinese-cardiff/menu',\n",
       "  'address': '228 City Road',\n",
       "  'address line 2': 'Cardiff',\n",
       "  'name': '.CN Chinese',\n",
       "  'outcode': 'CF24',\n",
       "  'postcode': '3JH',\n",
       "  'rating': 5,\n",
       "  'type_of_food': 'Chinese'},\n",
       " {'_id': ObjectId('55f14312c7447c3da7051b27'),\n",
       "  'URL': 'http://www.just-eat.co.uk/restaurants-atthai-ss9/menu',\n",
       "  'address': '376 Rayleigh Road',\n",
       "  'address line 2': 'Essex',\n",
       "  'name': '@ Thai',\n",
       "  'outcode': 'SS9',\n",
       "  'postcode': '5PT',\n",
       "  'rating': 5.5,\n",
       "  'type_of_food': 'Thai'}]"
      ]
     },
     "execution_count": 133,
     "metadata": {},
     "output_type": "execute_result"
    }
   ],
   "source": [
    "# greater than or equal\n",
    "filter_ = {\"rating\": {\"$gte\":3}}\n",
    "list(c.find(filter_))[:2]"
   ]
  },
  {
   "cell_type": "code",
   "execution_count": 134,
   "id": "d5872ce9",
   "metadata": {},
   "outputs": [
    {
     "data": {
      "text/plain": [
       "[{'_id': ObjectId('55f14312c7447c3da7051b4b'),\n",
       "  'URL': 'http://www.just-eat.co.uk/restaurants-280degreesafrican-nw6/menu',\n",
       "  'address': '280 Kilburn High Road',\n",
       "  'address line 2': 'London',\n",
       "  'name': '280 Degrees African & Nigerian Restaurant',\n",
       "  'outcode': 'NW6',\n",
       "  'postcode': '2BY',\n",
       "  'rating': 2.5,\n",
       "  'type_of_food': 'African'},\n",
       " {'_id': ObjectId('55f14312c7447c3da7051b4c'),\n",
       "  'URL': 'http://www.just-eat.co.uk/restaurants-280degreesafrican-nw6/menu',\n",
       "  'address': '280 Kilburn High Road',\n",
       "  'address line 2': 'London',\n",
       "  'name': '280 Degrees African & Nigerian Restaurant',\n",
       "  'outcode': 'NW6',\n",
       "  'postcode': '2BY',\n",
       "  'rating': 2.5,\n",
       "  'type_of_food': 'African'}]"
      ]
     },
     "execution_count": 134,
     "metadata": {},
     "output_type": "execute_result"
    }
   ],
   "source": [
    "# lesser than\n",
    "filter_ = {\"rating\": {\"$lt\":3}}\n",
    "list(c.find(filter_))[:2]"
   ]
  },
  {
   "cell_type": "code",
   "execution_count": 136,
   "id": "2b592bfc",
   "metadata": {},
   "outputs": [
    {
     "data": {
      "text/plain": [
       "[{'_id': ObjectId('55f14312c7447c3da7051b2c'),\n",
       "  'URL': 'http://www.just-eat.co.uk/restaurants-042-restaurant-e11/menu',\n",
       "  'address': '885 High Road Leytonstone',\n",
       "  'address line 2': 'London',\n",
       "  'name': '042 Restaurant & Bar',\n",
       "  'outcode': 'E11',\n",
       "  'postcode': '1HR',\n",
       "  'rating': 3,\n",
       "  'type_of_food': 'African'},\n",
       " {'_id': ObjectId('55f14312c7447c3da7051b2d'),\n",
       "  'URL': 'http://www.just-eat.co.uk/restaurants-042-restaurant-e11/menu',\n",
       "  'address': '885 High Road Leytonstone',\n",
       "  'address line 2': 'London',\n",
       "  'name': '042 Restaurant & Bar',\n",
       "  'outcode': 'E11',\n",
       "  'postcode': '1HR',\n",
       "  'rating': 3,\n",
       "  'type_of_food': 'African'}]"
      ]
     },
     "execution_count": 136,
     "metadata": {},
     "output_type": "execute_result"
    }
   ],
   "source": [
    "# lesser than or equal\n",
    "filter_ = {\"rating\": {\"$lte\":3}}\n",
    "list(c.find(filter_))[:2]"
   ]
  },
  {
   "cell_type": "markdown",
   "id": "bcd5a091",
   "metadata": {
    "lang": "en"
   },
   "source": [
    "### `exists`\n",
    "When <boolean> is true, $exists matches documents that contain the field, including documents where the field value is null. If <boolean> is false, the query returns only documents that do not contain the field"
   ]
  },
  {
   "cell_type": "code",
   "execution_count": 138,
   "id": "6e9f71d1",
   "metadata": {},
   "outputs": [
    {
     "data": {
      "text/plain": [
       "2549"
      ]
     },
     "execution_count": 138,
     "metadata": {},
     "output_type": "execute_result"
    }
   ],
   "source": [
    "c.count_documents({})"
   ]
  },
  {
   "cell_type": "code",
   "execution_count": 143,
   "id": "7a6507cd",
   "metadata": {},
   "outputs": [
    {
     "data": {
      "text/plain": [
       "[{'_id': ObjectId('62e1201070eca9b85aa487ba'),\n",
       "  'hey': 'hi',\n",
       "  'hello': '789',\n",
       "  '1000': 1}]"
      ]
     },
     "execution_count": 143,
     "metadata": {},
     "output_type": "execute_result"
    }
   ],
   "source": [
    "list(c.find({\"rating\": {\"$exists\":False}}))"
   ]
  },
  {
   "cell_type": "markdown",
   "id": "e615639d",
   "metadata": {
    "lang": "en"
   },
   "source": [
    "### `regex`\n",
    "It offers the possibility of using regular expressions to search for patterns in queries."
   ]
  },
  {
   "cell_type": "code",
   "execution_count": 147,
   "id": "tested-liberal",
   "metadata": {
    "scrolled": true
   },
   "outputs": [
    {
     "data": {
      "text/plain": [
       "[{'_id': ObjectId('55f14312c7447c3da7051c0c'),\n",
       "  'URL': 'http://www.just-eat.co.uk/restaurants-acha-halal-chinese-cuisine-birmingham/menu',\n",
       "  'address': '7 Heybarnes Road',\n",
       "  'address line 2': 'Birmingham',\n",
       "  'name': 'Acha Halal Chinese Cuisine',\n",
       "  'outcode': 'B10',\n",
       "  'postcode': '9HR',\n",
       "  'rating': 5,\n",
       "  'type_of_food': 'Chinese'},\n",
       " {'_id': ObjectId('55f14313c7447c3da70522e9'),\n",
       "  'URL': 'http://www.just-eat.co.uk/restaurants-beirut-eh8/menu',\n",
       "  'address': '24 Nicholson Square',\n",
       "  'address line 2': 'Edinburgh',\n",
       "  'name': 'Beirut Lebanese Halal Restaurant',\n",
       "  'outcode': 'EH8',\n",
       "  'postcode': '9BX',\n",
       "  'rating': 4.5,\n",
       "  'type_of_food': 'Lebanese'},\n",
       " {'_id': ObjectId('55f14313c7447c3da70522ea'),\n",
       "  'URL': 'http://www.just-eat.co.uk/restaurants-beirut-eh8/menu',\n",
       "  'address': '24 Nicholson Square',\n",
       "  'address line 2': 'Edinburgh',\n",
       "  'name': 'Beirut Lebanese Halal Restaurant',\n",
       "  'outcode': 'EH8',\n",
       "  'postcode': '9BX',\n",
       "  'rating': 4.5,\n",
       "  'type_of_food': 'Lebanese'}]"
      ]
     },
     "execution_count": 147,
     "metadata": {},
     "output_type": "execute_result"
    }
   ],
   "source": [
    "condition = {\"$regex\": \".*Halal.*\"}\n",
    "query = {\"name\": condition}\n",
    "\n",
    "\n",
    "list(c.find(query))"
   ]
  },
  {
   "cell_type": "code",
   "execution_count": 151,
   "id": "5311eada",
   "metadata": {},
   "outputs": [
    {
     "data": {
      "text/plain": [
       "[{'name': '007 Takeaway'},\n",
       " {'name': '042 Restaurant & Bar'},\n",
       " {'name': '042 Restaurant & Bar'},\n",
       " {'name': '042 Restaurant & Bar'}]"
      ]
     },
     "execution_count": 151,
     "metadata": {},
     "output_type": "execute_result"
    }
   ],
   "source": [
    "condition = {\"$regex\": \".*\\d+.*\"}\n",
    "query = {\"name\": condition}\n",
    "projection = {\"_id\":0, \"name\":1}\n",
    "\n",
    "\n",
    "list(c.find(query, projection))[:4]"
   ]
  },
  {
   "cell_type": "markdown",
   "id": "66a3c9a6",
   "metadata": {
    "lang": "en"
   },
   "source": [
    "### `and`\n",
    "Performs a logical AND operation on an array of one or more expressions (for example, <expresión1>, <expresión2>, etc.), and selects the documents that satisfy all expressions in the array. The $and operator uses short-circuit evaluation. If the first expression (for example, <expresión1>) evaluates to false, MongoDB will not evaluate the remaining expressions."
   ]
  },
  {
   "cell_type": "markdown",
   "id": "8794c404",
   "metadata": {
    "lang": "en"
   },
   "source": [
    "AND Syntax\n",
    "`find({\"$and\": [cond1, cond2]})`"
   ]
  },
  {
   "cell_type": "code",
   "execution_count": null,
   "id": "freelance-reduction",
   "metadata": {},
   "outputs": [],
   "source": [
    "# pizza\n",
    "# rating > 3\n",
    "# numbers in the name"
   ]
  },
  {
   "cell_type": "code",
   "execution_count": 152,
   "id": "8c6c0169",
   "metadata": {},
   "outputs": [],
   "source": [
    "filter_1 = {\"type_of_food\":\"Pizza\"}\n",
    "filter_2 = {\"rating\": {\"$gt\": 3}}\n",
    "filter_3 = {\"name\": {\"$regex\":\".*\\d+.*\"}}"
   ]
  },
  {
   "cell_type": "code",
   "execution_count": 163,
   "id": "12a90336",
   "metadata": {},
   "outputs": [],
   "source": [
    "all_conditions = [filter_1, filter_2, filter_3]"
   ]
  },
  {
   "cell_type": "code",
   "execution_count": 162,
   "id": "1204c721",
   "metadata": {},
   "outputs": [
    {
     "data": {
      "text/plain": [
       "[{'name': '007 Takeaway'}]"
      ]
     },
     "execution_count": 162,
     "metadata": {},
     "output_type": "execute_result"
    }
   ],
   "source": [
    "list(c.find({\"$and\": \n",
    "             [{\"type_of_food\":\"Pizza\"}, \n",
    "              {\"rating\": {\"$gt\": 3}}, \n",
    "              {\"name\": {\"$regex\":\".*\\d+.*\"}}]}, \n",
    "        {\"_id\":0, \"name\":1}))[:1]"
   ]
  },
  {
   "cell_type": "code",
   "execution_count": 169,
   "id": "c7c816d9",
   "metadata": {},
   "outputs": [
    {
     "data": {
      "text/plain": [
       "[{'name': '007 Takeaway'}]"
      ]
     },
     "execution_count": 169,
     "metadata": {},
     "output_type": "execute_result"
    }
   ],
   "source": [
    "list(c.find({\"$and\": all_conditions}, {\"_id\":0, \"name\":1}))[:1]"
   ]
  },
  {
   "cell_type": "code",
   "execution_count": 172,
   "id": "76820c38",
   "metadata": {},
   "outputs": [
    {
     "data": {
      "text/plain": [
       "[{'_id': ObjectId('55f14312c7447c3da7051b2b'),\n",
       "  'URL': 'http://www.just-eat.co.uk/restaurants-007takeaway-s65/menu',\n",
       "  'address': '6 Drummond Street',\n",
       "  'address line 2': 'Rotherham',\n",
       "  'name': '007 Takeaway',\n",
       "  'outcode': 'S65',\n",
       "  'postcode': '1HY',\n",
       "  'rating': 6,\n",
       "  'type_of_food': 'Pizza'}]"
      ]
     },
     "execution_count": 172,
     "metadata": {},
     "output_type": "execute_result"
    }
   ],
   "source": [
    "list(c.find({\"type_of_food\":\"Pizza\", \"rating\": {\"$gt\": 3}, \"name\": {\"$regex\":\".*\\d+.*\"}}))[:1]"
   ]
  },
  {
   "cell_type": "markdown",
   "id": "9f9cdcd9",
   "metadata": {
    "lang": "en"
   },
   "source": [
    "### `or`\n",
    "The or operator performs a logical OR operation on an array of two or more expressions and selects the documents that satisfy at least one of the expressions.\n",
    "The operator $or tiene la siguiente sintaxis:      \n",
    "`collection.find({\"$or\": [condition1, condition, condition3 ]})`"
   ]
  },
  {
   "cell_type": "code",
   "execution_count": 179,
   "id": "54aa6899",
   "metadata": {
    "lang": "en"
   },
   "outputs": [],
   "source": [
    "thai = {\"type_of_food\":\"Thai\"}\n",
    "spanish = {\"type_of_food\":\"Spanish\"}\n",
    "good = {\"rating\": {\"$gt\": 4}}\n",
    "zipcode = {\"outcode\": \"SW9\"}"
   ]
  },
  {
   "cell_type": "code",
   "execution_count": 177,
   "id": "92bf3982",
   "metadata": {},
   "outputs": [
    {
     "data": {
      "text/plain": [
       "[{'_id': ObjectId('55f14312c7447c3da7051b27'),\n",
       "  'URL': 'http://www.just-eat.co.uk/restaurants-atthai-ss9/menu',\n",
       "  'address': '376 Rayleigh Road',\n",
       "  'address line 2': 'Essex',\n",
       "  'name': '@ Thai',\n",
       "  'outcode': 'SS9',\n",
       "  'postcode': '5PT',\n",
       "  'rating': 5.5,\n",
       "  'type_of_food': 'Thai'},\n",
       " {'_id': ObjectId('55f14312c7447c3da7051b28'),\n",
       "  'URL': 'http://www.just-eat.co.uk/restaurants-atthairestaurant/menu',\n",
       "  'address': '30 Greyhound Road Hammersmith',\n",
       "  'address line 2': 'London',\n",
       "  'name': '@ Thai Restaurant',\n",
       "  'outcode': 'W6',\n",
       "  'postcode': '8NX',\n",
       "  'rating': 4.5,\n",
       "  'type_of_food': 'Thai'}]"
      ]
     },
     "execution_count": 177,
     "metadata": {},
     "output_type": "execute_result"
    }
   ],
   "source": [
    "# Spanish: no matter the rating\n",
    "# Thai: greater than 4 only\n",
    "\n",
    "list(c.find({\"$or\": \n",
    "             [{\"$and\": [thai, good]}, # Either these two conditions are met at once\n",
    "              spanish]}))[:2] # or this one is met"
   ]
  },
  {
   "cell_type": "code",
   "execution_count": 180,
   "id": "b1e0cf3f",
   "metadata": {},
   "outputs": [
    {
     "data": {
      "text/plain": [
       "[{'_id': ObjectId('55f14313c7447c3da70520bb'),\n",
       "  'URL': 'http://www.just-eat.co.uk/restaurants-baanthai/menu',\n",
       "  'address': '401 Coldharbour lane',\n",
       "  'address line 2': 'London',\n",
       "  'name': 'Baan Thai',\n",
       "  'outcode': 'SW9',\n",
       "  'postcode': '8LQ',\n",
       "  'rating': 4,\n",
       "  'type_of_food': 'Thai'},\n",
       " {'_id': ObjectId('55f14313c7447c3da70520bc'),\n",
       "  'URL': 'http://www.just-eat.co.uk/restaurants-baanthai/menu',\n",
       "  'address': '401 Coldharbour lane',\n",
       "  'address line 2': 'London',\n",
       "  'name': 'Baan Thai',\n",
       "  'outcode': 'SW9',\n",
       "  'postcode': '8LQ',\n",
       "  'rating': 4,\n",
       "  'type_of_food': 'Thai'}]"
      ]
     },
     "execution_count": 180,
     "metadata": {},
     "output_type": "execute_result"
    }
   ],
   "source": [
    "list(c.find({\"$or\": \n",
    "             [{\"$and\": [thai, zipcode]}, # Either good thai close to Hugo\n",
    "              {\"$and\": [spanish, good]}]}))[:2] # or good spanish"
   ]
  },
  {
   "cell_type": "code",
   "execution_count": 203,
   "id": "d87b2ad7",
   "metadata": {},
   "outputs": [
    {
     "data": {
      "text/plain": [
       "[{'_id': ObjectId('55f14312c7447c3da7051cfe'),\n",
       "  'URL': 'http://www.just-eat.co.uk/restaurants-al-kebab-hut-milton-keynes/menu',\n",
       "  'address': '3 Stratford Road',\n",
       "  'address line 2': 'Milton Keynes',\n",
       "  'name': 'Al Kebab Hut',\n",
       "  'outcode': 'MK13',\n",
       "  'postcode': '7LY',\n",
       "  'rating': 3.5,\n",
       "  'type_of_food': 'Kebab'}]"
      ]
     },
     "execution_count": 203,
     "metadata": {},
     "output_type": "execute_result"
    }
   ],
   "source": [
    "kebab_regex = {\"$regex\":\".*Kebab.*\"}\n",
    "kebab = {\"name\": kebab_regex}\n",
    "bad_score = {\"$lt\": 3}\n",
    "bad = {\"rating\": bad_score}\n",
    "\n",
    "\n",
    "query = {\"name\": {\"$regex\":\".*Kebab.*\"}, \"rating\": {\"$lt\": 4}}\n",
    "list(c.find(query))[:1]"
   ]
  },
  {
   "cell_type": "markdown",
   "id": "6b5bbe07",
   "metadata": {
    "lang": "en"
   },
   "source": [
    "### `ne`\n",
    "not equal\n",
    "Selects the documents in which the value of the field is not equal to the specified value. This includes documents that do not contain the field."
   ]
  },
  {
   "cell_type": "code",
   "execution_count": 204,
   "id": "interim-operations",
   "metadata": {},
   "outputs": [],
   "source": [
    "# not_pizza \n",
    "\n",
    "not_pizza = {\"$ne\": \"Pizza\"}"
   ]
  },
  {
   "cell_type": "code",
   "execution_count": 219,
   "id": "b104374b",
   "metadata": {},
   "outputs": [
    {
     "data": {
      "text/plain": [
       "[{'_id': ObjectId('55f14312c7447c3da7051b51'),\n",
       "  'URL': 'http://www.just-eat.co.uk/restaurants-3in1xtra/menu',\n",
       "  'address': '67-69 Elmbank Street',\n",
       "  'address line 2': 'Glasgow',\n",
       "  'name': '3 In 1 Xtra',\n",
       "  'outcode': 'G2',\n",
       "  'postcode': '4PQ',\n",
       "  'rating': 4,\n",
       "  'type_of_food': 'Curry'}]"
      ]
     },
     "execution_count": 219,
     "metadata": {},
     "output_type": "execute_result"
    }
   ],
   "source": [
    "result = list(c.find({\"type_of_food\": not_pizza, \"rating\":4}))\n",
    "result[:1]"
   ]
  },
  {
   "cell_type": "code",
   "execution_count": 218,
   "id": "e9503327",
   "metadata": {},
   "outputs": [
    {
     "data": {
      "text/plain": [
       "{'*NEW*',\n",
       " 'Afghan',\n",
       " 'African',\n",
       " 'American',\n",
       " 'Arabic',\n",
       " 'Azerbaijan',\n",
       " 'Bagels',\n",
       " 'Bangladeshi',\n",
       " 'Breakfast',\n",
       " 'Burgers',\n",
       " 'Cakes',\n",
       " 'Caribbean',\n",
       " 'Chicken',\n",
       " 'Chinese',\n",
       " 'Curry',\n",
       " 'Desserts',\n",
       " 'English',\n",
       " 'Ethiopian',\n",
       " 'Fish & Chips',\n",
       " 'Greek',\n",
       " 'Grill',\n",
       " 'Healthy',\n",
       " 'Ice Cream',\n",
       " 'Japanese',\n",
       " 'Kebab',\n",
       " 'Korean',\n",
       " 'Lebanese',\n",
       " 'Mediterranean',\n",
       " 'Mexican',\n",
       " 'Middle Eastern',\n",
       " 'Milkshakes',\n",
       " 'Moroccan',\n",
       " 'Nigerian',\n",
       " 'Pakistani',\n",
       " 'Pasta',\n",
       " 'Peri Peri',\n",
       " 'Persian',\n",
       " 'Pick n Mix',\n",
       " 'Polish',\n",
       " 'Portuguese',\n",
       " 'Punjabi',\n",
       " 'Russian',\n",
       " 'Sandwiches',\n",
       " 'South Curry',\n",
       " 'Spanish',\n",
       " 'Sri-lankan',\n",
       " 'Sushi',\n",
       " 'Thai',\n",
       " 'Turkish',\n",
       " 'Vegetarian',\n",
       " 'Vietnamese'}"
      ]
     },
     "execution_count": 218,
     "metadata": {},
     "output_type": "execute_result"
    }
   ],
   "source": [
    "{i[\"type_of_food\"] for i in result if \"name\" in i}"
   ]
  },
  {
   "cell_type": "markdown",
   "id": "ab4af384",
   "metadata": {
    "lang": "en"
   },
   "source": [
    "### `in`\n",
    "The in operator selects documents in which the value of a field is equal to any value in the specified array. To specify a $in, use the following syntax:\n",
    "```python\n",
    "{ field: { $in expression: [<value1>, <value2>, ... <valueN> ] } }\n",
    " ```"
   ]
  },
  {
   "cell_type": "code",
   "execution_count": 222,
   "id": "dietary-office",
   "metadata": {},
   "outputs": [
    {
     "data": {
      "text/plain": [
       "[{'_id': ObjectId('55f14312c7447c3da7051b2c'),\n",
       "  'URL': 'http://www.just-eat.co.uk/restaurants-042-restaurant-e11/menu',\n",
       "  'address': '885 High Road Leytonstone',\n",
       "  'address line 2': 'London',\n",
       "  'name': '042 Restaurant & Bar',\n",
       "  'outcode': 'E11',\n",
       "  'postcode': '1HR',\n",
       "  'rating': 3,\n",
       "  'type_of_food': 'African'},\n",
       " {'_id': ObjectId('55f14312c7447c3da7051b2d'),\n",
       "  'URL': 'http://www.just-eat.co.uk/restaurants-042-restaurant-e11/menu',\n",
       "  'address': '885 High Road Leytonstone',\n",
       "  'address line 2': 'London',\n",
       "  'name': '042 Restaurant & Bar',\n",
       "  'outcode': 'E11',\n",
       "  'postcode': '1HR',\n",
       "  'rating': 3,\n",
       "  'type_of_food': 'African'}]"
      ]
     },
     "execution_count": 222,
     "metadata": {},
     "output_type": "execute_result"
    }
   ],
   "source": [
    "list(c.find({\"rating\": {\"$in\": [1, 2, 3]}}).limit(2))"
   ]
  },
  {
   "cell_type": "markdown",
   "id": "467b57f8",
   "metadata": {
    "lang": "en"
   },
   "source": [
    "### `nin`\n",
    "\n",
    "Syntax:\n",
    "```python\n",
    "{ field: { $nin: [ <valor1>, <valor2> ... <valorN> ]} }\n",
    "```\n",
    "\n",
    "not in selects the documents in which\n",
    "\n",
    "- field value is not in the specified array\n",
    "- the field does not exist."
   ]
  },
  {
   "cell_type": "code",
   "execution_count": 223,
   "id": "supposed-synthetic",
   "metadata": {},
   "outputs": [
    {
     "data": {
      "text/plain": [
       "[{'_id': ObjectId('55f14312c7447c3da7051b26'),\n",
       "  'URL': 'http://www.just-eat.co.uk/restaurants-cn-chinese-cardiff/menu',\n",
       "  'address': '228 City Road',\n",
       "  'address line 2': 'Cardiff',\n",
       "  'name': '.CN Chinese',\n",
       "  'outcode': 'CF24',\n",
       "  'postcode': '3JH',\n",
       "  'rating': 5,\n",
       "  'type_of_food': 'Chinese'},\n",
       " {'_id': ObjectId('55f14312c7447c3da7051b27'),\n",
       "  'URL': 'http://www.just-eat.co.uk/restaurants-atthai-ss9/menu',\n",
       "  'address': '376 Rayleigh Road',\n",
       "  'address line 2': 'Essex',\n",
       "  'name': '@ Thai',\n",
       "  'outcode': 'SS9',\n",
       "  'postcode': '5PT',\n",
       "  'rating': 5.5,\n",
       "  'type_of_food': 'Thai'}]"
      ]
     },
     "execution_count": 223,
     "metadata": {},
     "output_type": "execute_result"
    }
   ],
   "source": [
    "list(c.find({\"rating\": {\"$nin\": [1, 2, 3]}}).limit(2))"
   ]
  },
  {
   "cell_type": "markdown",
   "id": "91bec018",
   "metadata": {
    "lang": "en"
   },
   "source": [
    "If I don't want to be given those that don't have that field, I would have to do an AND"
   ]
  },
  {
   "cell_type": "code",
   "execution_count": null,
   "id": "pleasant-functionality",
   "metadata": {},
   "outputs": [],
   "source": []
  },
  {
   "cell_type": "markdown",
   "id": "3cc74122",
   "metadata": {
    "lang": "en"
   },
   "source": [
    "## Update\n",
    "Modifies an existing document or documents in a collection. The method can modify specific fields of an existing document(s) or replace an existing document entirely, depending on the update parameter.\n",
    "Beware, this action cannot be undone.\n",
    "Syntax:\n",
    "```python\n",
    "collection.update_many(condition/filter, update)\n",
    "```\n",
    "\n",
    "We can update a field with `$set` y con `$unset` we delete it"
   ]
  },
  {
   "cell_type": "code",
   "execution_count": 232,
   "id": "subjective-headquarters",
   "metadata": {},
   "outputs": [
    {
     "data": {
      "text/plain": [
       "[{'_id': ObjectId('55f14312c7447c3da7051b4b'),\n",
       "  'URL': 'http://www.just-eat.co.uk/restaurants-280degreesafrican-nw6/menu',\n",
       "  'address': '280 Kilburn High Road',\n",
       "  'address line 2': 'London',\n",
       "  'name': '280 Degrees African & Nigerian Restaurant',\n",
       "  'outcode': 'NW6',\n",
       "  'postcode': '2BY',\n",
       "  'rating': 2.5,\n",
       "  'type_of_food': 'African'}]"
      ]
     },
     "execution_count": 232,
     "metadata": {},
     "output_type": "execute_result"
    }
   ],
   "source": [
    "list(c.find({\"rating\": 2.5}))[:1]"
   ]
  },
  {
   "cell_type": "code",
   "execution_count": 234,
   "id": "caa2865e",
   "metadata": {},
   "outputs": [
    {
     "data": {
      "text/plain": [
       "<pymongo.results.UpdateResult at 0x7fcd91184f00>"
      ]
     },
     "execution_count": 234,
     "metadata": {},
     "output_type": "execute_result"
    }
   ],
   "source": [
    "c.update_many(\n",
    "    {\"rating\": 2.5},\n",
    "    {\"$set\": \n",
    "         {\"rating\": 50000}})"
   ]
  },
  {
   "cell_type": "markdown",
   "id": "b3aa4cc3",
   "metadata": {},
   "source": [
    "pd.read_sq_query(query, engine) #read, get a tabel\n",
    "engine.execute(\"create view\")\n",
    "\n",
    "\n",
    "list(c.find())\n",
    "c.update_many()"
   ]
  },
  {
   "cell_type": "markdown",
   "id": "2ce76b2d",
   "metadata": {
    "lang": "en"
   },
   "source": [
    "## Query 7 from the lab . All the companies that have a null type of value on the category_code field."
   ]
  },
  {
   "cell_type": "code",
   "execution_count": null,
   "id": "essential-naples",
   "metadata": {},
   "outputs": [],
   "source": [
    "#https://www.mongodb.com/docs/manual/reference/operator/query/type/\n",
    "\n",
    "# {\"$type\": 10}\n",
    "# {\"$type\": \"null\"}"
   ]
  },
  {
   "cell_type": "markdown",
   "id": "4206287b",
   "metadata": {
    "lang": "en"
   },
   "source": [
    "## Delete\n",
    "Removes from a collection all documents that match the filter.\n",
    "Syntax:\n",
    "```python\n",
    "c.delete_many(condition/filter)\n",
    "```"
   ]
  },
  {
   "cell_type": "code",
   "execution_count": 236,
   "id": "a806cc41",
   "metadata": {},
   "outputs": [
    {
     "data": {
      "text/plain": [
       "<pymongo.results.DeleteResult at 0x7fcd91184c00>"
      ]
     },
     "execution_count": 236,
     "metadata": {},
     "output_type": "execute_result"
    }
   ],
   "source": [
    "c.delete_many({\"rating\": {\"$gte\": 500}})"
   ]
  },
  {
   "cell_type": "markdown",
   "id": "outer-james",
   "metadata": {},
   "source": [
    "## Insert"
   ]
  },
  {
   "cell_type": "markdown",
   "id": "991915e8",
   "metadata": {
    "lang": "en"
   },
   "source": [
    "We insert documents in the collection\n",
    "Syntax\n",
    "```python\n",
    "db.collection.insert()\n",
    "```"
   ]
  },
  {
   "cell_type": "code",
   "execution_count": 237,
   "id": "alternative-cliff",
   "metadata": {},
   "outputs": [],
   "source": [
    "document = {\n",
    "    \"name\": \"clara\",\n",
    "    \"location\": \"bcn\",\n",
    "    \"language\": \"cat\", \n",
    "}"
   ]
  },
  {
   "cell_type": "code",
   "execution_count": 238,
   "id": "9d0c4769",
   "metadata": {},
   "outputs": [
    {
     "data": {
      "text/plain": [
       "<pymongo.results.InsertOneResult at 0x7fcd910184c0>"
      ]
     },
     "execution_count": 238,
     "metadata": {},
     "output_type": "execute_result"
    }
   ],
   "source": [
    "c.insert_one(document)"
   ]
  },
  {
   "cell_type": "code",
   "execution_count": 239,
   "id": "52c408b2",
   "metadata": {},
   "outputs": [
    {
     "data": {
      "text/plain": [
       "[{'_id': ObjectId('635910f48607690e50aa76c6'),\n",
       "  'name': 'clara',\n",
       "  'location': 'bcn',\n",
       "  'language': 'cat'}]"
      ]
     },
     "execution_count": 239,
     "metadata": {},
     "output_type": "execute_result"
    }
   ],
   "source": [
    "list(c.find({\"name\":\"clara\"}))"
   ]
  },
  {
   "cell_type": "markdown",
   "id": "cdbe7465",
   "metadata": {
    "lang": "en"
   },
   "source": [
    "## Extra info\n",
    "Nested query fields"
   ]
  },
  {
   "cell_type": "code",
   "execution_count": 242,
   "id": "55ea84c8",
   "metadata": {},
   "outputs": [],
   "source": [
    "car = {\"make\": \"fiat\", \"year\":1900, \"randomkey\": {\"random\": \"nested valueeee\"}}"
   ]
  },
  {
   "cell_type": "code",
   "execution_count": 243,
   "id": "db25e6ac",
   "metadata": {},
   "outputs": [
    {
     "data": {
      "text/plain": [
       "{'make': 'fiat', 'year': 1900, 'randomkey': {'random': 'nested valueeee'}}"
      ]
     },
     "execution_count": 243,
     "metadata": {},
     "output_type": "execute_result"
    }
   ],
   "source": [
    "car"
   ]
  },
  {
   "cell_type": "code",
   "execution_count": 245,
   "id": "bca11508",
   "metadata": {},
   "outputs": [
    {
     "data": {
      "text/plain": [
       "'nested valueeee'"
      ]
     },
     "execution_count": 245,
     "metadata": {},
     "output_type": "execute_result"
    }
   ],
   "source": [
    "car[\"randomkey\"][\"random\"]"
   ]
  },
  {
   "cell_type": "markdown",
   "id": "305465fe",
   "metadata": {},
   "source": [
    "```javascript\n",
    "const car = {make: \"fiat\", year:1900, \n",
    "             randomkey: {random: \"nested valueeee\"}}\n",
    "\n",
    "console.log(car)\n",
    "console.log(car.make)\n",
    "console.log(car.randomkey.random)\n",
    "\n",
    "\n",
    "`key.value.nested.value` \n",
    "\n",
    "```\n",
    "\n",
    "\n",
    "JSON\n",
    "JavaScript Object Notification\n",
    "\n",
    "same type of data, different name"
   ]
  },
  {
   "cell_type": "markdown",
   "id": "416d1599",
   "metadata": {
    "lang": "en"
   },
   "source": [
    "## Summary\n",
    "Your turn, what have we learned today?\n"
   ]
  },
  {
   "cell_type": "markdown",
   "id": "a5202c74",
   "metadata": {},
   "source": [
    "- (R)read: filters, projections, limits, and sorts (skip)\n",
    "    - find_one\n",
    "    - find\n",
    "    - count total of documents\n",
    "    - get list of unique values \n",
    "    \n",
    "- (U)update\n",
    "    - update_many\n",
    "    - we can update the value of something to be null or nothing\n",
    "    \n",
    "- (D)delete documents\n",
    "    - delete_many\n",
    "\n",
    "- (C)insert\n",
    "    - insert documents\n",
    "\n",
    "- Operators\n",
    "    - $gte, $lt, and so on\n",
    "    - $and, $or\n",
    "    - $ne, $nin, $in\n",
    "    - $regex\n",
    "    - $exists, $type: 10 (null)\n",
    "- Explore collections through compass. We can also connect to databases on the cloud\n",
    "\n",
    "- pymongo is the way to work with python and mongo: df into databases "
   ]
  },
  {
   "cell_type": "markdown",
   "id": "13408e8f",
   "metadata": {
    "lang": "en"
   },
   "source": [
    "## Further Materials\n",
    "- Mongo courses developed directly by MongoDB (free and VERY COMPLETE) [HERE](https://university.mongodb.com/)\n",
    "- What is mongo: [advanced interesting concepts not seen in class](https://openwebinars.net/blog/what-is-mongodb/)\n",
    "- Beginner`s guide mongo with [python](https://www.analyticsvidhya.com/blog/2020/02/mongodb-in-python-tutorial-for-beginners-using-pymongo/)"
   ]
  }
 ],
 "metadata": {
  "kernelspec": {
   "display_name": "ironhack",
   "language": "python",
   "name": "ironhack"
  },
  "language_info": {
   "codemirror_mode": {
    "name": "ipython",
    "version": 3
   },
   "file_extension": ".py",
   "mimetype": "text/x-python",
   "name": "python",
   "nbconvert_exporter": "python",
   "pygments_lexer": "ipython3",
   "version": "3.8.13"
  },
  "nbTranslate": {
   "displayLangs": [
    "en",
    "es"
   ],
   "hotkey": "alt-a",
   "langInMainMenu": true,
   "sourceLang": "es",
   "targetLang": "en",
   "useGoogleTranslate": true
  },
  "toc": {
   "base_numbering": 1,
   "nav_menu": {},
   "number_sections": true,
   "sideBar": true,
   "skip_h1_title": true,
   "title_cell": "Table of Contents",
   "title_sidebar": "Contents",
   "toc_cell": true,
   "toc_position": {
    "height": "calc(100% - 180px)",
    "left": "10px",
    "top": "150px",
    "width": "165px"
   },
   "toc_section_display": true,
   "toc_window_display": true
  }
 },
 "nbformat": 4,
 "nbformat_minor": 5
}
