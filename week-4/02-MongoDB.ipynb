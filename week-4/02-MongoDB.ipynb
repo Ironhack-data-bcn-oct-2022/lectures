{
 "cells": [
  {
   "cell_type": "markdown",
   "id": "mighty-crowd",
   "metadata": {},
   "source": [
    "# MongoDB"
   ]
  },
  {
   "cell_type": "markdown",
   "id": "incoming-mortgage",
   "metadata": {},
   "source": [
    "![memesmongo](../images/mongo.png)"
   ]
  },
  {
   "cell_type": "markdown",
   "id": "greatest-neighborhood",
   "metadata": {
    "toc": true
   },
   "source": [
    "<h1>Table of Contents<span class=\"tocSkip\"></span></h1>\n",
    "<div class=\"toc\"><ul class=\"toc-item\"><li><span><a href=\"#What-is-MongoDB?\" data-toc-modified-id=\"What-is-MongoDB?-1\"><span class=\"toc-item-num\">1&nbsp;&nbsp;</span>What is MongoDB?</a></span></li><li><span><a href=\"#What-is-the-MongoDB-database?\" data-toc-modified-id=\"What-is-the-MongoDB-database?-2\"><span class=\"toc-item-num\">2&nbsp;&nbsp;</span>What is the MongoDB database?</a></span></li><li><span><a href=\"#Database-creation\" data-toc-modified-id=\"Database-creation-3\"><span class=\"toc-item-num\">3&nbsp;&nbsp;</span>Database creation</a></span></li><li><span><a href=\"#Connection-with-Python\" data-toc-modified-id=\"Connection-with-Python-4\"><span class=\"toc-item-num\">4&nbsp;&nbsp;</span>Connection with Python</a></span><ul class=\"toc-item\"><li><span><a href=\"#We-connect-to-the-server\" data-toc-modified-id=\"We-connect-to-the-server-4.1\"><span class=\"toc-item-num\">4.1&nbsp;&nbsp;</span>We connect to the server</a></span></li><li><span><a href=\"#We-connect-to-the-database\" data-toc-modified-id=\"We-connect-to-the-database-4.2\"><span class=\"toc-item-num\">4.2&nbsp;&nbsp;</span>We connect to the database</a></span></li></ul></li><li><span><a href=\"#Basic-database-management-operations\" data-toc-modified-id=\"Basic-database-management-operations-5\"><span class=\"toc-item-num\">5&nbsp;&nbsp;</span>Basic database management operations</a></span><ul class=\"toc-item\"><li><span><a href=\"#Create-and-delete-collections-from-python\" data-toc-modified-id=\"Create-and-delete-collections-from-python-5.1\"><span class=\"toc-item-num\">5.1&nbsp;&nbsp;</span>Create and delete collections from python</a></span></li><li><span><a href=\"#We-connect-to-a-specific-collection-to-make-the-queries\" data-toc-modified-id=\"We-connect-to-a-specific-collection-to-make-the-queries-5.2\"><span class=\"toc-item-num\">5.2&nbsp;&nbsp;</span>We connect to a specific collection to make the queries</a></span></li></ul></li><li><span><a href=\"#Queries-in-Mongo\" data-toc-modified-id=\"Queries-in-Mongo-6\"><span class=\"toc-item-num\">6&nbsp;&nbsp;</span>Queries in Mongo</a></span><ul class=\"toc-item\"><li><span><a href=\"#find_one-method\" data-toc-modified-id=\"find_one-method-6.1\"><span class=\"toc-item-num\">6.1&nbsp;&nbsp;</span><code>find_one</code> method</a></span></li><li><span><a href=\"#find-method\" data-toc-modified-id=\"find-method-6.2\"><span class=\"toc-item-num\">6.2&nbsp;&nbsp;</span><code>find</code> method</a></span></li></ul></li><li><span><a href=\"#projection\" data-toc-modified-id=\"projection-7\"><span class=\"toc-item-num\">7&nbsp;&nbsp;</span>projection</a></span></li><li><span><a href=\"#Other-methods\" data-toc-modified-id=\"Other-methods-8\"><span class=\"toc-item-num\">8&nbsp;&nbsp;</span>Other methods</a></span><ul class=\"toc-item\"><li><span><a href=\"#distinct\" data-toc-modified-id=\"distinct-8.1\"><span class=\"toc-item-num\">8.1&nbsp;&nbsp;</span><code>distinct</code></a></span></li><li><span><a href=\"#count\" data-toc-modified-id=\"count-8.2\"><span class=\"toc-item-num\">8.2&nbsp;&nbsp;</span><code>count</code></a></span></li><li><span><a href=\"#sort\" data-toc-modified-id=\"sort-8.3\"><span class=\"toc-item-num\">8.3&nbsp;&nbsp;</span><code>sort</code></a></span></li><li><span><a href=\"#limit\" data-toc-modified-id=\"limit-8.4\"><span class=\"toc-item-num\">8.4&nbsp;&nbsp;</span><code>limit</code></a></span></li><li><span><a href=\"#skip\" data-toc-modified-id=\"skip-8.5\"><span class=\"toc-item-num\">8.5&nbsp;&nbsp;</span><code>skip</code></a></span></li></ul></li><li><span><a href=\"#Typical-query-operators\" data-toc-modified-id=\"Typical-query-operators-9\"><span class=\"toc-item-num\">9&nbsp;&nbsp;</span>Typical query operators</a></span><ul class=\"toc-item\"><li><span><a href=\"#Greater-than-/-Less-than\" data-toc-modified-id=\"Greater-than-/-Less-than-9.1\"><span class=\"toc-item-num\">9.1&nbsp;&nbsp;</span>Greater than / Less than</a></span></li><li><span><a href=\"#exists\" data-toc-modified-id=\"exists-9.2\"><span class=\"toc-item-num\">9.2&nbsp;&nbsp;</span><code>exists</code></a></span></li><li><span><a href=\"#regex\" data-toc-modified-id=\"regex-9.3\"><span class=\"toc-item-num\">9.3&nbsp;&nbsp;</span><code>regex</code></a></span></li><li><span><a href=\"#and\" data-toc-modified-id=\"and-9.4\"><span class=\"toc-item-num\">9.4&nbsp;&nbsp;</span><code>and</code></a></span></li><li><span><a href=\"#or\" data-toc-modified-id=\"or-9.5\"><span class=\"toc-item-num\">9.5&nbsp;&nbsp;</span><code>or</code></a></span></li><li><span><a href=\"#ne\" data-toc-modified-id=\"ne-9.6\"><span class=\"toc-item-num\">9.6&nbsp;&nbsp;</span><code>ne</code></a></span></li><li><span><a href=\"#in\" data-toc-modified-id=\"in-9.7\"><span class=\"toc-item-num\">9.7&nbsp;&nbsp;</span><code>in</code></a></span></li><li><span><a href=\"#nin\" data-toc-modified-id=\"nin-9.8\"><span class=\"toc-item-num\">9.8&nbsp;&nbsp;</span><code>nin</code></a></span></li></ul></li><li><span><a href=\"#Update\" data-toc-modified-id=\"Update-10\"><span class=\"toc-item-num\">10&nbsp;&nbsp;</span>Update</a></span></li><li><span><a href=\"#Query-7-from-the-lab-.-All-the-companies-that-have-a-null-type-of-value-on-the-category_code-field.\" data-toc-modified-id=\"Query-7-from-the-lab-.-All-the-companies-that-have-a-null-type-of-value-on-the-category_code-field.-11\"><span class=\"toc-item-num\">11&nbsp;&nbsp;</span>Query 7 from the lab . All the companies that have a null type of value on the category_code field.</a></span></li><li><span><a href=\"#Delete\" data-toc-modified-id=\"Delete-12\"><span class=\"toc-item-num\">12&nbsp;&nbsp;</span>Delete</a></span></li><li><span><a href=\"#Insert\" data-toc-modified-id=\"Insert-13\"><span class=\"toc-item-num\">13&nbsp;&nbsp;</span>Insert</a></span></li><li><span><a href=\"#Extra-info\" data-toc-modified-id=\"Extra-info-14\"><span class=\"toc-item-num\">14&nbsp;&nbsp;</span>Extra info</a></span></li><li><span><a href=\"#Summary\" data-toc-modified-id=\"Summary-15\"><span class=\"toc-item-num\">15&nbsp;&nbsp;</span>Summary</a></span></li><li><span><a href=\"#Further-Materials\" data-toc-modified-id=\"Further-Materials-16\"><span class=\"toc-item-num\">16&nbsp;&nbsp;</span>Further Materials</a></span></li></ul></div>"
   ]
  },
  {
   "cell_type": "markdown",
   "id": "b549b1e2",
   "metadata": {
    "lang": "en"
   },
   "source": [
    "## What is MongoDB?\n",
    "   \n",
    "MongoDB (humongous, \"huge\") is an open source, document-oriented, NoSQL database system.\n",
    "Instead of storing data in tables, as is done in relational databases, MongoDB stores BSON data structures (a specification similar to JSON) with a dynamic schema, making data integration in certain applications easier. easier and faster.\n",
    "MongoDB is a database suitable for use in production and with many features. This database is widely used in the industry, with implementations in companies such as MTV Network, Craigslist, Foursquare.\n",
    "Source code is available for operating systems --> Windows, GNU/Linux, OS X and Solaris."
   ]
  },
  {
   "cell_type": "markdown",
   "id": "d57a7b47",
   "metadata": {
    "lang": "en"
   },
   "source": [
    "## What is the MongoDB database?\n",
    "\n",
    "A database, that is, a structured way of storing and accessing data, more specifically, is a NoSQL database.\n",
    "NoSQL is a very generic term used to describe any data store that does not use the legacy approach of related data tables.\n",
    "This means that you are storing your data in an organized way, but not in rows and columns. An example of NoSQL databases could be anything from a library card catalog, to a more sophisticated data warehouse like MongoDB.\n",
    "Since the range of what NoSQL means is so wide, we need to narrow down our definition further.\n",
    "MongoDB is a NoSQL document database.\n",
    "This means that data in MongoDB is stored as documents, these documents are in turn stored in what we call document collections, which is why MongoDB is classified as a NoSQL document database.\n",
    "\n",
    "In conclusion, MongoDB database is a NoSQL document database."
   ]
  },
  {
   "cell_type": "markdown",
   "id": "56f71cb5",
   "metadata": {
    "lang": "en"
   },
   "source": [
    "## Database creation\n",
    "We have seen that through MongoDB compass we could create a database, a collection and import the data in JSON format in a simple way.\n",
    "We can also do it through the command interface or CLI of mongo."
   ]
  },
  {
   "cell_type": "code",
   "execution_count": null,
   "id": "emotional-pharmacy",
   "metadata": {},
   "outputs": [],
   "source": [
    "#$ mongoimport --db nameOfTheDatabase --collection nameOfTheCollection --file file.json"
   ]
  },
  {
   "cell_type": "code",
   "execution_count": null,
   "id": "1541ce1a",
   "metadata": {},
   "outputs": [],
   "source": [
    "# mongoimport --db Ironhack --collection restaurants --file restaurant.json"
   ]
  },
  {
   "cell_type": "markdown",
   "id": "75b06b9f",
   "metadata": {
    "lang": "en"
   },
   "source": [
    "We are located in the terminal in the folder where we have downloaded the json of \"companies\". What the command does is import into the ironhack database, within the companies collection, that json. If we enter a database name that does not exist or a collection that does not exist, MongoDB creates it for us automatically."
   ]
  },
  {
   "cell_type": "markdown",
   "id": "10a19336",
   "metadata": {
    "lang": "en"
   },
   "source": [
    "## Connection with Python"
   ]
  },
  {
   "cell_type": "markdown",
   "id": "69596bbf",
   "metadata": {
    "lang": "en"
   },
   "source": [
    "The first thing we are going to need to connect python with the MongoDB database server is to install the following library\n",
    "```python\n",
    "#!pip install pymongo\n",
    "```\n",
    "And remember: You have to [read the documentation](https://pymongo.readthedocs.io/en/stable/)"
   ]
  },
  {
   "cell_type": "code",
   "execution_count": 1,
   "id": "medieval-venue",
   "metadata": {},
   "outputs": [],
   "source": [
    "from pymongo import MongoClient\n",
    "import pandas as pd\n",
    "import time"
   ]
  },
  {
   "cell_type": "markdown",
   "id": "dd0c25d4",
   "metadata": {
    "lang": "en"
   },
   "source": [
    "### We connect to the server\n",
    "The Mongo server has to be up and is normally running on port 27017, it always connects to this port by default"
   ]
  },
  {
   "cell_type": "code",
   "execution_count": null,
   "id": "0e959698",
   "metadata": {},
   "outputs": [],
   "source": []
  },
  {
   "cell_type": "markdown",
   "id": "2a26d382",
   "metadata": {
    "lang": "en"
   },
   "source": [
    "### We connect to the database"
   ]
  },
  {
   "cell_type": "code",
   "execution_count": null,
   "id": "level-fantasy",
   "metadata": {},
   "outputs": [],
   "source": []
  },
  {
   "cell_type": "markdown",
   "id": "81ea8fc3",
   "metadata": {
    "lang": "en"
   },
   "source": [
    "## Basic database management operations"
   ]
  },
  {
   "cell_type": "markdown",
   "id": "fc9388c7",
   "metadata": {
    "lang": "en"
   },
   "source": [
    "### Create and delete collections from python"
   ]
  },
  {
   "cell_type": "code",
   "execution_count": null,
   "id": "8f8f7dfe",
   "metadata": {
    "lang": "en"
   },
   "outputs": [],
   "source": []
  },
  {
   "cell_type": "markdown",
   "id": "eca17ba9",
   "metadata": {
    "lang": "en"
   },
   "source": [
    "### We connect to a specific collection to make the queries"
   ]
  },
  {
   "cell_type": "code",
   "execution_count": null,
   "id": "dress-running",
   "metadata": {},
   "outputs": [],
   "source": []
  },
  {
   "cell_type": "markdown",
   "id": "2a690152",
   "metadata": {
    "lang": "en"
   },
   "source": [
    "## Queries in Mongo"
   ]
  },
  {
   "cell_type": "markdown",
   "id": "56de296c",
   "metadata": {
    "lang": "en"
   },
   "source": [
    "To explore what the documents in my collection look like, what shape and what fields they have, I can go to Mongo Compass and explore the collection, or I can choose an unfiltered document."
   ]
  },
  {
   "cell_type": "markdown",
   "id": "metric-information",
   "metadata": {},
   "source": [
    "![undocumento](../images/compass1.png)"
   ]
  },
  {
   "cell_type": "code",
   "execution_count": null,
   "id": "79dd4f27",
   "metadata": {},
   "outputs": [],
   "source": []
  },
  {
   "cell_type": "code",
   "execution_count": null,
   "id": "a33679d8",
   "metadata": {
    "lang": "en"
   },
   "outputs": [],
   "source": [
    "## Let's do it in Python"
   ]
  },
  {
   "cell_type": "markdown",
   "id": "fe5597bc",
   "metadata": {
    "lang": "en"
   },
   "source": [
    "### `find_one` method\n",
    "`collection.find_one(filter)`"
   ]
  },
  {
   "cell_type": "code",
   "execution_count": null,
   "id": "10b23dd3",
   "metadata": {},
   "outputs": [],
   "source": []
  },
  {
   "cell_type": "markdown",
   "id": "c5687338",
   "metadata": {
    "lang": "en"
   },
   "source": [
    "# We want to search for Thai restaurants"
   ]
  },
  {
   "cell_type": "markdown",
   "id": "interstate-queue",
   "metadata": {},
   "source": [
    "```sql\n",
    "-- Filter in SQL:\n",
    "SELECT *\n",
    "WHERE type_of_food = \"Thai\"\n",
    "```"
   ]
  },
  {
   "cell_type": "markdown",
   "id": "f2fab51a",
   "metadata": {},
   "source": [
    "This would be the filter 👇🏻\n",
    "```python\n",
    "# Filter in Python\n",
    "{\"type_of_food\": \"Thai\"}\n",
    "```"
   ]
  },
  {
   "cell_type": "code",
   "execution_count": null,
   "id": "relevant-strike",
   "metadata": {},
   "outputs": [],
   "source": []
  },
  {
   "cell_type": "markdown",
   "id": "035ecefc",
   "metadata": {
    "lang": "en"
   },
   "source": [
    "### `find` method\n",
    "`collection.find(filter)`"
   ]
  },
  {
   "cell_type": "code",
   "execution_count": null,
   "id": "creative-setting",
   "metadata": {},
   "outputs": [],
   "source": []
  },
  {
   "cell_type": "markdown",
   "id": "084098dc",
   "metadata": {
    "lang": "en"
   },
   "source": [
    "The `pymongo` collection method returns a Cursor:\n",
    "- a Cursor is an iterator\n",
    "- a Cursor has the `__next__` method (the `next` function returns the next element in the stream)\n",
    "- `pymongo` does not fetch information until it is needed\n",
    "- a Cursor has no `len`."
   ]
  },
  {
   "cell_type": "code",
   "execution_count": null,
   "id": "expanded-northwest",
   "metadata": {},
   "outputs": [],
   "source": []
  },
  {
   "cell_type": "markdown",
   "id": "444a8c80",
   "metadata": {
    "lang": "en"
   },
   "source": [
    "## projection\n",
    "When a query is made in MongoDB using `.find()`, what the query returns is the set of documents corresponding to the query. By default, the complete documents with all their fields will be returned. Although we can select the fields of a document that we want to return the query, or what is the same, make a MongoDB Projection.\n",
    "If we want to select several fields, we simply have to indicate the name of the field followed by a 1. Or use a 0 to eliminate the fields to be displayed:\n",
    "\n",
    "The `_id` field is returned by default\n",
    "\n",
    "Syntax:\n",
    "`collection.find(filter, projection)`"
   ]
  },
  {
   "cell_type": "code",
   "execution_count": null,
   "id": "4dfa58e0",
   "metadata": {},
   "outputs": [],
   "source": []
  },
  {
   "cell_type": "markdown",
   "id": "74a23354",
   "metadata": {
    "lang": "en"
   },
   "source": [
    "## Other methods"
   ]
  },
  {
   "cell_type": "markdown",
   "id": "de00cb5d",
   "metadata": {
    "lang": "en"
   },
   "source": [
    "### `distinct`\n",
    "How many distinct values ​​does a field have in the entire collection?"
   ]
  },
  {
   "cell_type": "code",
   "execution_count": null,
   "id": "bulgarian-doctor",
   "metadata": {},
   "outputs": [],
   "source": []
  },
  {
   "cell_type": "markdown",
   "id": "a93cdcbc",
   "metadata": {
    "lang": "en"
   },
   "source": [
    "### `count`\n",
    "Returns the count of documents that would match a find() query for the collection or view. The db.collection.count() method does not perform the find() operation, but instead counts and returns the number of results that match a query.\n",
    "Syntax:\n",
    "     \n",
    "`collection.count_documents(filter)`"
   ]
  },
  {
   "cell_type": "code",
   "execution_count": null,
   "id": "593a04f3",
   "metadata": {},
   "outputs": [],
   "source": []
  },
  {
   "cell_type": "markdown",
   "id": "3d2a5f68",
   "metadata": {
    "lang": "en"
   },
   "source": [
    "### `sort`\n",
    "We can `sort` the result of a `find`\n",
    "\n",
    "`1` --> Sort ascending\n",
    "`-1` --> Descending order"
   ]
  },
  {
   "cell_type": "code",
   "execution_count": null,
   "id": "alternate-jordan",
   "metadata": {},
   "outputs": [],
   "source": []
  },
  {
   "cell_type": "markdown",
   "id": "e0eadb0b",
   "metadata": {
    "lang": "en"
   },
   "source": [
    "### `limit`\n",
    "\n",
    "We can `limit` the result of a `find`"
   ]
  },
  {
   "cell_type": "code",
   "execution_count": null,
   "id": "behavioral-saying",
   "metadata": {},
   "outputs": [],
   "source": []
  },
  {
   "cell_type": "markdown",
   "id": "9e6f50b6",
   "metadata": {
    "lang": "en"
   },
   "source": [
    "### `skip`\n",
    "We can `skip` some results of a `find`\n",
    "Call the skip() method on a cursor to control where MongoDB starts returning results. This approach can be useful for implementing paginated results."
   ]
  },
  {
   "cell_type": "markdown",
   "id": "64791652",
   "metadata": {},
   "source": [
    "[FROM THE DOCS](https://www.mongodb.com/docs/manual/reference/method/cursor.skip/)\n",
    "\n",
    "If using `skip()` with `sort()`, be sure to include at least one field in your sort that contains unique values, before passing results to skip().\n",
    "\n",
    "Sorting on fields that contain duplicate values may return an inconsistent sort order for those duplicate fields over multiple executions, especially when the collection is actively receiving writes.\n",
    "\n"
   ]
  },
  {
   "cell_type": "code",
   "execution_count": null,
   "id": "ccccf329",
   "metadata": {},
   "outputs": [],
   "source": []
  },
  {
   "cell_type": "markdown",
   "id": "3b3112d1",
   "metadata": {},
   "source": [
    "⚠️: `skip` --> docs"
   ]
  },
  {
   "cell_type": "markdown",
   "id": "82c9ae17",
   "metadata": {
    "lang": "en"
   },
   "source": [
    "## Typical query operators\n",
    "Query operators are preceded by the dollar sign `$`."
   ]
  },
  {
   "cell_type": "markdown",
   "id": "b6edfe50",
   "metadata": {
    "lang": "en"
   },
   "source": [
    "### Greater than / Less than\n",
    "Is a numeric field greater than or less than a given value"
   ]
  },
  {
   "cell_type": "code",
   "execution_count": null,
   "id": "unable-irrigation",
   "metadata": {},
   "outputs": [],
   "source": []
  },
  {
   "cell_type": "markdown",
   "id": "bcd5a091",
   "metadata": {
    "lang": "en"
   },
   "source": [
    "### `exists`\n",
    "When <boolean> is true, $exists matches documents that contain the field, including documents where the field value is null. If <boolean> is false, the query returns only documents that do not contain the field"
   ]
  },
  {
   "cell_type": "code",
   "execution_count": null,
   "id": "6e9f71d1",
   "metadata": {},
   "outputs": [],
   "source": []
  },
  {
   "cell_type": "markdown",
   "id": "e615639d",
   "metadata": {
    "lang": "en"
   },
   "source": [
    "### `regex`\n",
    "It offers the possibility of using regular expressions to search for patterns in queries."
   ]
  },
  {
   "cell_type": "code",
   "execution_count": null,
   "id": "tested-liberal",
   "metadata": {},
   "outputs": [],
   "source": []
  },
  {
   "cell_type": "markdown",
   "id": "66a3c9a6",
   "metadata": {
    "lang": "en"
   },
   "source": [
    "### `and`\n",
    "Performs a logical AND operation on an array of one or more expressions (for example, <expresión1>, <expresión2>, etc.), and selects the documents that satisfy all expressions in the array. The $and operator uses short-circuit evaluation. If the first expression (for example, <expresión1>) evaluates to false, MongoDB will not evaluate the remaining expressions."
   ]
  },
  {
   "cell_type": "markdown",
   "id": "8794c404",
   "metadata": {
    "lang": "en"
   },
   "source": [
    "AND Syntax\n",
    "`find({\"$and\": [cond1, cond2]})`"
   ]
  },
  {
   "cell_type": "code",
   "execution_count": null,
   "id": "freelance-reduction",
   "metadata": {},
   "outputs": [],
   "source": []
  },
  {
   "cell_type": "markdown",
   "id": "9f9cdcd9",
   "metadata": {
    "lang": "en"
   },
   "source": [
    "### `or`\n",
    "The or operator performs a logical OR operation on an array of two or more expressions and selects the documents that satisfy at least one of the expressions.\n",
    "The operator $or tiene la siguiente sintaxis:      \n",
    "`collection.find({\"$or\": [condition1, condition, condition3 ]})`"
   ]
  },
  {
   "cell_type": "code",
   "execution_count": null,
   "id": "54aa6899",
   "metadata": {
    "lang": "en"
   },
   "outputs": [],
   "source": []
  },
  {
   "cell_type": "markdown",
   "id": "6b5bbe07",
   "metadata": {
    "lang": "en"
   },
   "source": [
    "### `ne`\n",
    "not equal\n",
    "Selects the documents in which the value of the field is not equal to the specified value. This includes documents that do not contain the field."
   ]
  },
  {
   "cell_type": "code",
   "execution_count": null,
   "id": "interim-operations",
   "metadata": {},
   "outputs": [],
   "source": []
  },
  {
   "cell_type": "markdown",
   "id": "ab4af384",
   "metadata": {
    "lang": "en"
   },
   "source": [
    "### `in`\n",
    "The in operator selects documents in which the value of a field is equal to any value in the specified array. To specify a $in, use the following syntax:\n",
    "```python\n",
    "{ field: { $in expression: [<value1>, <value2>, ... <valueN> ] } }\n",
    " ```"
   ]
  },
  {
   "cell_type": "code",
   "execution_count": null,
   "id": "dietary-office",
   "metadata": {},
   "outputs": [],
   "source": []
  },
  {
   "cell_type": "markdown",
   "id": "467b57f8",
   "metadata": {
    "lang": "en"
   },
   "source": [
    "### `nin`\n",
    "\n",
    "Syntax:\n",
    "```python\n",
    "{ field: { $nin: [ <valor1>, <valor2> ... <valorN> ]} }\n",
    "```\n",
    "\n",
    "not in selects the documents in which\n",
    "\n",
    "- field value is not in the specified array\n",
    "- the field does not exist."
   ]
  },
  {
   "cell_type": "code",
   "execution_count": null,
   "id": "supposed-synthetic",
   "metadata": {},
   "outputs": [],
   "source": []
  },
  {
   "cell_type": "markdown",
   "id": "91bec018",
   "metadata": {
    "lang": "en"
   },
   "source": [
    "If I don't want to be given those that don't have that field, I would have to do an AND"
   ]
  },
  {
   "cell_type": "code",
   "execution_count": null,
   "id": "pleasant-functionality",
   "metadata": {},
   "outputs": [],
   "source": []
  },
  {
   "cell_type": "markdown",
   "id": "3cc74122",
   "metadata": {
    "lang": "en"
   },
   "source": [
    "## Update\n",
    "Modifies an existing document or documents in a collection. The method can modify specific fields of an existing document(s) or replace an existing document entirely, depending on the update parameter.\n",
    "Beware, this action cannot be undone.\n",
    "Syntax:\n",
    "```python\n",
    "collection.update_many(condition/filter, update)\n",
    "```\n",
    "\n",
    "We can update a field with `$set` y con `$unset` we delete it"
   ]
  },
  {
   "cell_type": "code",
   "execution_count": null,
   "id": "subjective-headquarters",
   "metadata": {},
   "outputs": [],
   "source": []
  },
  {
   "cell_type": "markdown",
   "id": "2ce76b2d",
   "metadata": {
    "lang": "en"
   },
   "source": [
    "## Query 7 from the lab . All the companies that have a null type of value on the category_code field."
   ]
  },
  {
   "cell_type": "code",
   "execution_count": null,
   "id": "essential-naples",
   "metadata": {},
   "outputs": [],
   "source": []
  },
  {
   "cell_type": "markdown",
   "id": "4206287b",
   "metadata": {
    "lang": "en"
   },
   "source": [
    "## Delete\n",
    "Removes from a collection all documents that match the filter.\n",
    "Syntax:\n",
    "```python\n",
    "c.delete_many(condition/filter)\n",
    "```"
   ]
  },
  {
   "cell_type": "code",
   "execution_count": null,
   "id": "a806cc41",
   "metadata": {},
   "outputs": [],
   "source": []
  },
  {
   "cell_type": "markdown",
   "id": "outer-james",
   "metadata": {},
   "source": [
    "## Insert"
   ]
  },
  {
   "cell_type": "markdown",
   "id": "991915e8",
   "metadata": {
    "lang": "en"
   },
   "source": [
    "We insert documents in the collection\n",
    "Syntax\n",
    "```python\n",
    "db.collection.insert()\n",
    "```"
   ]
  },
  {
   "cell_type": "code",
   "execution_count": null,
   "id": "alternative-cliff",
   "metadata": {},
   "outputs": [],
   "source": []
  },
  {
   "cell_type": "markdown",
   "id": "cdbe7465",
   "metadata": {
    "lang": "en"
   },
   "source": [
    "## Extra info\n",
    "Nested query fields"
   ]
  },
  {
   "cell_type": "markdown",
   "id": "305465fe",
   "metadata": {},
   "source": [
    "```javascript\n",
    "const car = {make: \"fiat\", year:1900, \n",
    "             randomkey: {random: \"nested valueeee\"}}\n",
    "\n",
    "console.log(car)\n",
    "console.log(car.make)\n",
    "console.log(car.randomkey.random)\n",
    "\n",
    "\n",
    "`key.value.nested.value` \n",
    "\n",
    "```\n",
    "\n",
    "\n",
    "JSON\n",
    "JavaScript Object Notification\n",
    "\n",
    "same type of data, different name"
   ]
  },
  {
   "cell_type": "markdown",
   "id": "416d1599",
   "metadata": {
    "lang": "en"
   },
   "source": [
    "## Summary\n",
    "Your turn, what have we learned today?\n"
   ]
  },
  {
   "cell_type": "markdown",
   "id": "6edfa7c7",
   "metadata": {},
   "source": []
  },
  {
   "cell_type": "markdown",
   "id": "13408e8f",
   "metadata": {
    "lang": "en"
   },
   "source": [
    "## Further Materials\n",
    "- Mongo courses developed directly by MongoDB (free and VERY COMPLETE) [HERE](https://university.mongodb.com/)\n",
    "- What is mongo: [advanced interesting concepts not seen in class](https://openwebinars.net/blog/what-is-mongodb/)\n",
    "- Beginner`s guide mongo with [python](https://www.analyticsvidhya.com/blog/2020/02/mongodb-in-python-tutorial-for-beginners-using-pymongo/)"
   ]
  }
 ],
 "metadata": {
  "kernelspec": {
   "display_name": "ironhack",
   "language": "python",
   "name": "ironhack"
  },
  "language_info": {
   "codemirror_mode": {
    "name": "ipython",
    "version": 3
   },
   "file_extension": ".py",
   "mimetype": "text/x-python",
   "name": "python",
   "nbconvert_exporter": "python",
   "pygments_lexer": "ipython3",
   "version": "3.8.13"
  },
  "nbTranslate": {
   "displayLangs": [
    "en",
    "es"
   ],
   "hotkey": "alt-a",
   "langInMainMenu": true,
   "sourceLang": "es",
   "targetLang": "en",
   "useGoogleTranslate": true
  },
  "toc": {
   "base_numbering": 1,
   "nav_menu": {},
   "number_sections": true,
   "sideBar": true,
   "skip_h1_title": true,
   "title_cell": "Table of Contents",
   "title_sidebar": "Contents",
   "toc_cell": true,
   "toc_position": {
    "height": "calc(100% - 180px)",
    "left": "10px",
    "top": "150px",
    "width": "165px"
   },
   "toc_section_display": true,
   "toc_window_display": true
  }
 },
 "nbformat": 4,
 "nbformat_minor": 5
}
