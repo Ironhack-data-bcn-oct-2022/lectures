{
 "cells": [
  {
   "cell_type": "markdown",
   "id": "bottom-commerce",
   "metadata": {},
   "source": [
    "# Map, Filter, Reduce"
   ]
  },
  {
   "cell_type": "markdown",
   "id": "rising-buyer",
   "metadata": {
    "toc": true
   },
   "source": [
    "<h1>Table of Contents<span class=\"tocSkip\"></span></h1>\n",
    "<div class=\"toc\"><ul class=\"toc-item\"><li><ul class=\"toc-item\"><li><span><a href=\"#Each-student-is-randomly-assigned-a-topic\" data-toc-modified-id=\"Each-student-is-randomly-assigned-a-topic-0.1\"><span class=\"toc-item-num\">0.1&nbsp;&nbsp;</span>Each student is randomly assigned a topic</a></span></li></ul></li><li><span><a href=\"#Let's-start\" data-toc-modified-id=\"Let's-start-1\"><span class=\"toc-item-num\">1&nbsp;&nbsp;</span>Let's start</a></span><ul class=\"toc-item\"><li><span><a href=\"#Create-groups-with-other-people-who-have-studied-the-same-function\" data-toc-modified-id=\"Create-groups-with-other-people-who-have-studied-the-same-function-1.1\"><span class=\"toc-item-num\">1.1&nbsp;&nbsp;</span>Create groups with other people who have studied the same function</a></span></li></ul></li><li><span><a href=\"#Map,-Filter,-Reduce\" data-toc-modified-id=\"Map,-Filter,-Reduce-2\"><span class=\"toc-item-num\">2&nbsp;&nbsp;</span>Map, Filter, Reduce</a></span><ul class=\"toc-item\"><li><span><a href=\"#Map\" data-toc-modified-id=\"Map-2.1\"><span class=\"toc-item-num\">2.1&nbsp;&nbsp;</span>Map</a></span><ul class=\"toc-item\"><li><span><a href=\"#First-we-do-it-with-functions\" data-toc-modified-id=\"First-we-do-it-with-functions-2.1.1\"><span class=\"toc-item-num\">2.1.1&nbsp;&nbsp;</span>First we do it with functions</a></span></li><li><span><a href=\"#Extra:-Do-it-with-lambda!\" data-toc-modified-id=\"Extra:-Do-it-with-lambda!-2.1.2\"><span class=\"toc-item-num\">2.1.2&nbsp;&nbsp;</span>Extra: Do it with lambda!</a></span></li></ul></li><li><span><a href=\"#Filter\" data-toc-modified-id=\"Filter-2.2\"><span class=\"toc-item-num\">2.2&nbsp;&nbsp;</span>Filter</a></span><ul class=\"toc-item\"><li><span><a href=\"#First-we-do-it-with-functions\" data-toc-modified-id=\"First-we-do-it-with-functions-2.2.1\"><span class=\"toc-item-num\">2.2.1&nbsp;&nbsp;</span>First we do it with functions</a></span></li><li><span><a href=\"#Extra:-Do-it-with-lambda!\" data-toc-modified-id=\"Extra:-Do-it-with-lambda!-2.2.2\"><span class=\"toc-item-num\">2.2.2&nbsp;&nbsp;</span>Extra: Do it with lambda!</a></span></li></ul></li><li><span><a href=\"#Reduce\" data-toc-modified-id=\"Reduce-2.3\"><span class=\"toc-item-num\">2.3&nbsp;&nbsp;</span>Reduce</a></span><ul class=\"toc-item\"><li><span><a href=\"#What-happened?\" data-toc-modified-id=\"What-happened?-2.3.1\"><span class=\"toc-item-num\">2.3.1&nbsp;&nbsp;</span>What happened?</a></span></li></ul></li><li><span><a href=\"#First-we-do-it-with-functions\" data-toc-modified-id=\"First-we-do-it-with-functions-2.4\"><span class=\"toc-item-num\">2.4&nbsp;&nbsp;</span>First we do it with functions</a></span></li><li><span><a href=\"#Bonus:-Do-it-with-lambda!\" data-toc-modified-id=\"Bonus:-Do-it-with-lambda!-2.5\"><span class=\"toc-item-num\">2.5&nbsp;&nbsp;</span>Bonus: Do it with lambda!</a></span></li></ul></li><li><span><a href=\"#Summary\" data-toc-modified-id=\"Summary-3\"><span class=\"toc-item-num\">3&nbsp;&nbsp;</span>Summary</a></span></li><li><span><a href=\"#Further-materials\" data-toc-modified-id=\"Further-materials-4\"><span class=\"toc-item-num\">4&nbsp;&nbsp;</span>Further materials</a></span></li></ul></div>"
   ]
  },
  {
   "cell_type": "markdown",
   "id": "07c5496e",
   "metadata": {
    "lang": "en"
   },
   "source": [
    "### Each student is randomly assigned a topic"
   ]
  },
  {
   "cell_type": "code",
   "execution_count": 14,
   "id": "blessed-scale",
   "metadata": {},
   "outputs": [],
   "source": [
    "students = [\n",
    "    \"@Sergi Portoles\",\n",
    "    \"@Bernat Bellmunt\",\n",
    "    \"@Francesc Andreu Macias\",\n",
    "    \"@Guillermo Nespral\",\n",
    "    \"@Hugo Alaimo\",\n",
    "    \"@Marc Calvente\",\n",
    "    \"@Marc Planas\",\n",
    "    \"@Marc Dalmau\",\n",
    "    \"@Maya Almeida\",\n",
    "    \"@Carles Sunyol\",\n",
    "    \"@Carlos Muñoz\",\n",
    "    \"@Cason Berkenstock\",\n",
    "    \"@david ros\",\n",
    "    \"@Joan Roca\",\n",
    "    \"@Joana Maia\",\n",
    "    \"@Joaquin\",\n",
    "    \"@Marc Pérez\",\n",
    "    \"@Max Tabo\",\n",
    "    \"@Nerea Larrachea\",\n",
    "    \"@queralt\",\n",
    "    \"@Selma Laarabi\",\n",
    "    \"@Raphael Hersant\"\n",
    "    \"placeholder\",\n",
    "    \"placeholder\",\n",
    "    \"placeholder\"\n",
    "]"
   ]
  },
  {
   "cell_type": "code",
   "execution_count": 15,
   "id": "ef27aa4e",
   "metadata": {},
   "outputs": [],
   "source": [
    "#Group 1: [('Marc', 'map'), ('Carles', 'filter'), ('Nerea', 'reduce')]\n",
    "#Group 2: [('Marc', 'map'), ('Carles', 'filter'), ('Nerea', 'reduce')]"
   ]
  },
  {
   "cell_type": "code",
   "execution_count": 16,
   "id": "ab11f72e",
   "metadata": {},
   "outputs": [],
   "source": [
    "import random"
   ]
  },
  {
   "cell_type": "code",
   "execution_count": 17,
   "id": "257ecfcf",
   "metadata": {},
   "outputs": [],
   "source": [
    "topics = [\"map\"] * 8  + [\"filter\"] * 8 + [\"reduce\"] * 8"
   ]
  },
  {
   "cell_type": "code",
   "execution_count": 18,
   "id": "c9ac1434",
   "metadata": {},
   "outputs": [
    {
     "data": {
      "text/plain": [
       "['map',\n",
       " 'map',\n",
       " 'map',\n",
       " 'map',\n",
       " 'map',\n",
       " 'map',\n",
       " 'map',\n",
       " 'map',\n",
       " 'filter',\n",
       " 'filter',\n",
       " 'filter',\n",
       " 'filter',\n",
       " 'filter',\n",
       " 'filter',\n",
       " 'filter',\n",
       " 'filter',\n",
       " 'reduce',\n",
       " 'reduce',\n",
       " 'reduce',\n",
       " 'reduce',\n",
       " 'reduce',\n",
       " 'reduce',\n",
       " 'reduce',\n",
       " 'reduce']"
      ]
     },
     "execution_count": 18,
     "metadata": {},
     "output_type": "execute_result"
    }
   ],
   "source": [
    "topics"
   ]
  },
  {
   "cell_type": "code",
   "execution_count": 19,
   "id": "5f8d5ec1",
   "metadata": {},
   "outputs": [
    {
     "data": {
      "text/plain": [
       "24"
      ]
     },
     "execution_count": 19,
     "metadata": {},
     "output_type": "execute_result"
    }
   ],
   "source": [
    "len(students)"
   ]
  },
  {
   "cell_type": "code",
   "execution_count": 20,
   "id": "891d9b06",
   "metadata": {},
   "outputs": [
    {
     "data": {
      "text/plain": [
       "24"
      ]
     },
     "execution_count": 20,
     "metadata": {},
     "output_type": "execute_result"
    }
   ],
   "source": [
    "len(topics)"
   ]
  },
  {
   "cell_type": "code",
   "execution_count": 21,
   "id": "8062eab9",
   "metadata": {},
   "outputs": [],
   "source": [
    "import random"
   ]
  },
  {
   "cell_type": "code",
   "execution_count": 40,
   "id": "6bf0f02d",
   "metadata": {},
   "outputs": [
    {
     "name": "stdout",
     "output_type": "stream",
     "text": [
      "['@Maya Almeida', '@Sergi Portoles', '@Marc Planas', '@Bernat Bellmunt', '@Carles Sunyol', 'placeholder', '@Max Tabo', '@Cason Berkenstock', '@Raphael Hersantplaceholder', '@david ros', '@Joan Roca', '@Marc Dalmau', '@Francesc Andreu Macias', '@Selma Laarabi', '@Joana Maia', '@Guillermo Nespral', '@Carlos Muñoz', '@Nerea Larrachea', 'placeholder', '@Marc Calvente', '@Joaquin', '@queralt', '@Hugo Alaimo', '@Marc Pérez']\n"
     ]
    }
   ],
   "source": [
    "random.shuffle(students)\n",
    "print(students)"
   ]
  },
  {
   "cell_type": "code",
   "execution_count": 41,
   "id": "629ffe48",
   "metadata": {},
   "outputs": [
    {
     "name": "stdout",
     "output_type": "stream",
     "text": [
      "['map', 'filter', 'map', 'filter', 'filter', 'map', 'filter', 'reduce', 'reduce', 'map', 'reduce', 'filter', 'reduce', 'map', 'map', 'reduce', 'reduce', 'filter', 'map', 'filter', 'filter', 'reduce', 'reduce', 'map']\n"
     ]
    }
   ],
   "source": [
    "random.shuffle(topics)\n",
    "print(topics)"
   ]
  },
  {
   "cell_type": "markdown",
   "id": "67ba83fd",
   "metadata": {
    "lang": "en"
   },
   "source": [
    "## Let's start"
   ]
  },
  {
   "cell_type": "markdown",
   "id": "2044e738",
   "metadata": {
    "lang": "en"
   },
   "source": [
    "You have 10 minutes to explore and understand the role you have been assigned on your own. You may find these links useful:\n",
    "\n",
    "- [link 1](https://medium.com/swlh/higher-order-functions-in-python-map-filter-and-reduce-34299fee1b21)\n",
    "- [link 2](https://www.learnpython.org/en/Map,_Filter,_Reduce)\n",
    "- [link 3](https://stackabuse.com/map-filter-and-reduce-in-python-with-examples)"
   ]
  },
  {
   "cell_type": "markdown",
   "id": "1494059b",
   "metadata": {},
   "source": [
    "### Create groups with other people who have studied the same function"
   ]
  },
  {
   "cell_type": "markdown",
   "id": "closing-referral",
   "metadata": {},
   "source": [
    "![otrogif](https://media.giphy.com/media/UatRnEUNX8iCQ/giphy.gif)"
   ]
  },
  {
   "cell_type": "markdown",
   "id": "ad055efd",
   "metadata": {
    "lang": "en"
   },
   "source": [
    "In this part of the game you are assigned to a group in which you are the expert in your role.\n",
    "Each group member has 5 minutes to explain their role to the other team members."
   ]
  },
  {
   "cell_type": "code",
   "execution_count": null,
   "id": "editorial-gender",
   "metadata": {
    "collapsed": true
   },
   "outputs": [],
   "source": [
    "topics & students"
   ]
  },
  {
   "cell_type": "code",
   "execution_count": 42,
   "id": "9ade7e05",
   "metadata": {},
   "outputs": [],
   "source": [
    "alltogether = list(zip(students, topics))"
   ]
  },
  {
   "cell_type": "code",
   "execution_count": 43,
   "id": "87bf5c8e",
   "metadata": {},
   "outputs": [
    {
     "data": {
      "text/plain": [
       "[('@Maya Almeida', 'map'),\n",
       " ('@Sergi Portoles', 'filter'),\n",
       " ('@Marc Planas', 'map'),\n",
       " ('@Bernat Bellmunt', 'filter'),\n",
       " ('@Carles Sunyol', 'filter'),\n",
       " ('placeholder', 'map'),\n",
       " ('@Max Tabo', 'filter'),\n",
       " ('@Cason Berkenstock', 'reduce'),\n",
       " ('@Raphael Hersantplaceholder', 'reduce'),\n",
       " ('@david ros', 'map'),\n",
       " ('@Joan Roca', 'reduce'),\n",
       " ('@Marc Dalmau', 'filter'),\n",
       " ('@Francesc Andreu Macias', 'reduce'),\n",
       " ('@Selma Laarabi', 'map'),\n",
       " ('@Joana Maia', 'map'),\n",
       " ('@Guillermo Nespral', 'reduce'),\n",
       " ('@Carlos Muñoz', 'reduce'),\n",
       " ('@Nerea Larrachea', 'filter'),\n",
       " ('placeholder', 'map'),\n",
       " ('@Marc Calvente', 'filter'),\n",
       " ('@Joaquin', 'filter'),\n",
       " ('@queralt', 'reduce'),\n",
       " ('@Hugo Alaimo', 'reduce'),\n",
       " ('@Marc Pérez', 'map')]"
      ]
     },
     "execution_count": 43,
     "metadata": {},
     "output_type": "execute_result"
    }
   ],
   "source": [
    "alltogether"
   ]
  },
  {
   "cell_type": "code",
   "execution_count": 50,
   "id": "27017e29",
   "metadata": {},
   "outputs": [],
   "source": [
    "map_experts = list(filter(lambda x: x[1] == \"map\", alltogether))\n",
    "filter_experts = list(filter(lambda x: x[1] == \"filter\", alltogether))\n",
    "reduce_experts = list(filter(lambda x: x[1] == \"reduce\", alltogether))"
   ]
  },
  {
   "cell_type": "code",
   "execution_count": 52,
   "id": "10da61df",
   "metadata": {},
   "outputs": [
    {
     "name": "stdout",
     "output_type": "stream",
     "text": [
      "Group 1: [('@Maya Almeida', 'map'), ('@Sergi Portoles', 'filter'), ('@Cason Berkenstock', 'reduce')]\n",
      "Group 2: [('@Marc Planas', 'map'), ('@Bernat Bellmunt', 'filter'), ('@Raphael Hersantplaceholder', 'reduce')]\n",
      "Group 3: [('placeholder', 'map'), ('@Carles Sunyol', 'filter'), ('@Joan Roca', 'reduce')]\n",
      "Group 4: [('@david ros', 'map'), ('@Max Tabo', 'filter'), ('@Francesc Andreu Macias', 'reduce')]\n",
      "Group 5: [('@Selma Laarabi', 'map'), ('@Marc Dalmau', 'filter'), ('@Guillermo Nespral', 'reduce')]\n",
      "Group 6: [('@Joana Maia', 'map'), ('@Nerea Larrachea', 'filter'), ('@Carlos Muñoz', 'reduce')]\n",
      "Group 7: [('placeholder', 'map'), ('@Marc Calvente', 'filter'), ('@queralt', 'reduce')]\n",
      "Group 8: [('@Marc Pérez', 'map'), ('@Joaquin', 'filter'), ('@Hugo Alaimo', 'reduce')]\n"
     ]
    }
   ],
   "source": [
    "counter = 1\n",
    "for everyone in zip(map_experts, filter_experts, reduce_experts):\n",
    "    print(f\"Group {counter}: {[[i][0]for i in everyone]}\")\n",
    "    counter += 1"
   ]
  },
  {
   "cell_type": "markdown",
   "id": "8fd5c1b9",
   "metadata": {
    "lang": "en"
   },
   "source": [
    "## Map, Filter, Reduce"
   ]
  },
  {
   "cell_type": "markdown",
   "id": "55e1da7a",
   "metadata": {
    "lang": "en"
   },
   "source": [
    "There are three functions that will come in very handy when working with iterators. These functions facilitate certain basic and common operations on iterable collections of data, such as removing elements that do not meet a certain condition, calculating a result from the contained data, or applying a transformation to each element. Let's see them with examples of use:"
   ]
  },
  {
   "cell_type": "markdown",
   "id": "distinct-translator",
   "metadata": {},
   "source": [
    "### Map"
   ]
  },
  {
   "cell_type": "markdown",
   "id": "3bbb0048",
   "metadata": {
    "lang": "en"
   },
   "source": [
    "The map() function takes a function and a list and applies that function to each element in that list, producing a new list.\n",
    "```python\n",
    "map(function_to_apply, list_of_inputs)\n",
    "```"
   ]
  },
  {
   "cell_type": "code",
   "execution_count": 53,
   "id": "a3414219",
   "metadata": {},
   "outputs": [
    {
     "data": {
      "text/plain": [
       "('@Selma Laarabi', 'map')"
      ]
     },
     "execution_count": 53,
     "metadata": {},
     "output_type": "execute_result"
    }
   ],
   "source": [
    "map_experts[4]"
   ]
  },
  {
   "cell_type": "code",
   "execution_count": null,
   "id": "e0a5e4db",
   "metadata": {},
   "outputs": [],
   "source": [
    "# loop -> map\n",
    "# two arguments -> function & iterable\n",
    "    # many iterables\n",
    "    # one-liners vs a for loop\n",
    "    # map(function, iterable)\n",
    "    # MAP RETURNS AN OBJECT"
   ]
  },
  {
   "cell_type": "code",
   "execution_count": 55,
   "id": "46d091ca",
   "metadata": {},
   "outputs": [],
   "source": [
    "def square (n):\n",
    "    return n ** 2"
   ]
  },
  {
   "cell_type": "code",
   "execution_count": 59,
   "id": "fb19875f",
   "metadata": {},
   "outputs": [],
   "source": [
    "list_ = [2, 4, 6]"
   ]
  },
  {
   "cell_type": "code",
   "execution_count": 60,
   "id": "89923d1b",
   "metadata": {},
   "outputs": [
    {
     "data": {
      "text/plain": [
       "<map at 0x7fecbeeaf190>"
      ]
     },
     "execution_count": 60,
     "metadata": {},
     "output_type": "execute_result"
    }
   ],
   "source": [
    "map(square, list_)"
   ]
  },
  {
   "cell_type": "code",
   "execution_count": 65,
   "id": "94d82298",
   "metadata": {},
   "outputs": [
    {
     "data": {
      "text/plain": [
       "[4, 16, 36]"
      ]
     },
     "execution_count": 65,
     "metadata": {},
     "output_type": "execute_result"
    }
   ],
   "source": [
    "new_list = list(map(square, list_))\n",
    "new_list"
   ]
  },
  {
   "cell_type": "code",
   "execution_count": 66,
   "id": "3a6eb37d",
   "metadata": {},
   "outputs": [
    {
     "data": {
      "text/plain": [
       "[4, 16, 36]"
      ]
     },
     "execution_count": 66,
     "metadata": {},
     "output_type": "execute_result"
    }
   ],
   "source": [
    "new_list = []\n",
    "for i in list_:\n",
    "    new_list.append(i ** 2)\n",
    "    \n",
    "new_list"
   ]
  },
  {
   "cell_type": "code",
   "execution_count": null,
   "id": "a54f9f2c",
   "metadata": {},
   "outputs": [],
   "source": [
    "# defined function -> defined by me / built-in\n",
    "# saving the trouble of creating a for loop"
   ]
  },
  {
   "cell_type": "markdown",
   "id": "848ef234",
   "metadata": {
    "lang": "en"
   },
   "source": [
    "#### First we do it with functions"
   ]
  },
  {
   "cell_type": "code",
   "execution_count": null,
   "id": "c2d055e5",
   "metadata": {},
   "outputs": [],
   "source": []
  },
  {
   "cell_type": "markdown",
   "id": "209cfe9b",
   "metadata": {
    "lang": "en"
   },
   "source": [
    "The map function returns an iterator, so we have to use `list(map_iterator)`"
   ]
  },
  {
   "cell_type": "code",
   "execution_count": null,
   "id": "c438a51a",
   "metadata": {
    "scrolled": true
   },
   "outputs": [],
   "source": []
  },
  {
   "cell_type": "markdown",
   "id": "7ac78fc9",
   "metadata": {
    "lang": "en"
   },
   "source": [
    "#### Extra: Do it with lambda!"
   ]
  },
  {
   "cell_type": "code",
   "execution_count": 67,
   "id": "b64b8b94",
   "metadata": {},
   "outputs": [
    {
     "data": {
      "text/plain": [
       "[2, 4, 6]"
      ]
     },
     "execution_count": 67,
     "metadata": {},
     "output_type": "execute_result"
    }
   ],
   "source": [
    "list_"
   ]
  },
  {
   "cell_type": "code",
   "execution_count": null,
   "id": "55c819d3",
   "metadata": {},
   "outputs": [],
   "source": [
    "[4, ...]"
   ]
  },
  {
   "cell_type": "code",
   "execution_count": 68,
   "id": "noticed-greek",
   "metadata": {},
   "outputs": [],
   "source": [
    "new_list = []\n",
    "\n",
    "\n",
    "# get the square of each in a list with a lambda"
   ]
  },
  {
   "cell_type": "code",
   "execution_count": 69,
   "id": "45f0bc3d",
   "metadata": {},
   "outputs": [
    {
     "data": {
      "text/plain": [
       "[4, 16, 36]"
      ]
     },
     "execution_count": 69,
     "metadata": {},
     "output_type": "execute_result"
    }
   ],
   "source": [
    "list(map(square, list_))"
   ]
  },
  {
   "cell_type": "code",
   "execution_count": 97,
   "id": "0001c809",
   "metadata": {},
   "outputs": [],
   "source": [
    "def square (n):\n",
    "    a = n ** 2\n",
    "    print(a)\n",
    "    return a"
   ]
  },
  {
   "cell_type": "code",
   "execution_count": 98,
   "id": "71bef2c9",
   "metadata": {},
   "outputs": [
    {
     "data": {
      "text/plain": [
       "[1, 4, 9]"
      ]
     },
     "execution_count": 98,
     "metadata": {},
     "output_type": "execute_result"
    }
   ],
   "source": [
    "list(map(lambda x: x ** 2, list_))"
   ]
  },
  {
   "cell_type": "code",
   "execution_count": 99,
   "id": "2c5a2238",
   "metadata": {},
   "outputs": [
    {
     "name": "stdout",
     "output_type": "stream",
     "text": [
      "25\n",
      "100\n",
      "400\n"
     ]
    },
    {
     "data": {
      "text/plain": [
       "[25, 100, 400]"
      ]
     },
     "execution_count": 99,
     "metadata": {},
     "output_type": "execute_result"
    }
   ],
   "source": [
    "# Q Marc Pérez: can we do the same with a dictionary?\n",
    "# iterable in a dictionary: values? the keys?\n",
    "\n",
    "a_dictionary = {\n",
    "    \"a\": 5,\n",
    "    \"b\": 10,\n",
    "    \"c\": 20\n",
    "}\n",
    "\n",
    "\n",
    "a_dictionary.values()\n",
    "\n",
    "for i in a_dictionary.values():\n",
    "    print(i ** 2)\n",
    "    \n",
    "list(map(lambda x: x ** 2, a_dictionary.values()))"
   ]
  },
  {
   "cell_type": "code",
   "execution_count": 100,
   "id": "533a8db8",
   "metadata": {},
   "outputs": [],
   "source": [
    "# Q Maya: can I pass two arguemnts? \n",
    "# A: yes, but n arguments for the function should match n number if iterables\n",
    "\n",
    "def addition (a, b):\n",
    "    return a + b\n",
    "\n",
    "iterable = [4, 16, 36]\n",
    "iterable_2  = [40, 160, 360, 202202]"
   ]
  },
  {
   "cell_type": "code",
   "execution_count": 101,
   "id": "83dad3b3",
   "metadata": {},
   "outputs": [
    {
     "data": {
      "text/plain": [
       "[44, 176, 396]"
      ]
     },
     "execution_count": 101,
     "metadata": {},
     "output_type": "execute_result"
    }
   ],
   "source": [
    "new_list_two_arguments = list(map(addition, iterable, iterable_2))\n",
    "new_list_two_arguments"
   ]
  },
  {
   "cell_type": "code",
   "execution_count": 102,
   "id": "69d653bf",
   "metadata": {},
   "outputs": [
    {
     "data": {
      "text/plain": [
       "[44, 176, 396]"
      ]
     },
     "execution_count": 102,
     "metadata": {},
     "output_type": "execute_result"
    }
   ],
   "source": [
    "# Q Max: same with lambda\n",
    "\n",
    "new_list_two_arguments = list(map(lambda x, y: x + y, iterable, iterable_2))\n",
    "new_list_two_arguments"
   ]
  },
  {
   "cell_type": "code",
   "execution_count": 103,
   "id": "282a8014",
   "metadata": {},
   "outputs": [],
   "source": [
    "#[(iterable1[0]), (iterable_2[0]), (iterable1[1], iterable1[1])]\n",
    "# like a zip -> stick to the shortest one"
   ]
  },
  {
   "cell_type": "code",
   "execution_count": 104,
   "id": "9ee6deb2",
   "metadata": {},
   "outputs": [
    {
     "data": {
      "text/plain": [
       "['HELLO', 'MY', 'NAME', 'IS']"
      ]
     },
     "execution_count": 104,
     "metadata": {},
     "output_type": "execute_result"
    }
   ],
   "source": [
    "iterable_strings = [\"hello\" ,\"my\", \"name\", \"is\"]\n",
    "\n",
    "list(map(lambda x: x.upper(), iterable_strings))"
   ]
  },
  {
   "cell_type": "code",
   "execution_count": 105,
   "id": "aa07cd85",
   "metadata": {},
   "outputs": [
    {
     "data": {
      "text/plain": [
       "['HELLO', 'MY', 'NAME', 'IS']"
      ]
     },
     "execution_count": 105,
     "metadata": {},
     "output_type": "execute_result"
    }
   ],
   "source": [
    "list(map(lambda x: x.upper(), iterable_strings))"
   ]
  },
  {
   "cell_type": "code",
   "execution_count": null,
   "id": "73feea64",
   "metadata": {},
   "outputs": [],
   "source": [
    "def square (n):\n",
    "    a = n ** 2\n",
    "    print(a)\n",
    "    return a"
   ]
  },
  {
   "cell_type": "code",
   "execution_count": 115,
   "id": "17753eb5",
   "metadata": {},
   "outputs": [],
   "source": [
    "import time"
   ]
  },
  {
   "cell_type": "code",
   "execution_count": 125,
   "id": "25d9f9c7",
   "metadata": {},
   "outputs": [
    {
     "name": "stdout",
     "output_type": "stream",
     "text": [
      "1\n",
      "4\n",
      "9\n",
      "CPU times: user 385 µs, sys: 161 µs, total: 546 µs\n",
      "Wall time: 560 µs\n"
     ]
    },
    {
     "data": {
      "text/plain": [
       "[1, 4, 9]"
      ]
     },
     "execution_count": 125,
     "metadata": {},
     "output_type": "execute_result"
    }
   ],
   "source": [
    "%%time\n",
    "list_ = [1, 2, 3]\n",
    "new_list = []\n",
    "\n",
    "for i in list_:\n",
    "    new_list.append(square(i))\n",
    "new_list"
   ]
  },
  {
   "cell_type": "code",
   "execution_count": 126,
   "id": "6990a17c",
   "metadata": {},
   "outputs": [
    {
     "name": "stdout",
     "output_type": "stream",
     "text": [
      "1\n",
      "4\n",
      "9\n",
      "CPU times: user 79 µs, sys: 33 µs, total: 112 µs\n",
      "Wall time: 87.3 µs\n"
     ]
    },
    {
     "data": {
      "text/plain": [
       "[1, 4, 9]"
      ]
     },
     "execution_count": 126,
     "metadata": {},
     "output_type": "execute_result"
    }
   ],
   "source": [
    "%%time\n",
    "new_list_2 = list(map(square, list_))\n",
    "new_list_2"
   ]
  },
  {
   "cell_type": "markdown",
   "id": "connected-found",
   "metadata": {},
   "source": [
    "### Filter"
   ]
  },
  {
   "cell_type": "markdown",
   "id": "b0fd2478",
   "metadata": {
    "lang": "en"
   },
   "source": [
    "The filter() function filters a list of items for which a function returns True.\n",
    "```python\n",
    "filter(a_function, a_list)\n",
    "```"
   ]
  },
  {
   "cell_type": "markdown",
   "id": "3ac537c7",
   "metadata": {
    "lang": "en"
   },
   "source": [
    "Imagine you want to filter a list of numbers to get only even values."
   ]
  },
  {
   "cell_type": "code",
   "execution_count": 127,
   "id": "fatal-brake",
   "metadata": {},
   "outputs": [
    {
     "data": {
      "text/plain": [
       "('@Joaquin', 'filter')"
      ]
     },
     "execution_count": 127,
     "metadata": {},
     "output_type": "execute_result"
    }
   ],
   "source": [
    "filter_experts[7]"
   ]
  },
  {
   "cell_type": "code",
   "execution_count": null,
   "id": "1645031e",
   "metadata": {},
   "outputs": [],
   "source": [
    "# function\n",
    "    # two args: function & iterable\n",
    "    # returns a boolean: true or false\n",
    "# returns a filtered iterable\n",
    "    # list through the function\n",
    "    # return a shorter lists with those values that are true"
   ]
  },
  {
   "cell_type": "code",
   "execution_count": null,
   "id": "2fe9b66d",
   "metadata": {},
   "outputs": [],
   "source": [
    "# one iterable required"
   ]
  },
  {
   "cell_type": "code",
   "execution_count": 128,
   "id": "454600ca",
   "metadata": {},
   "outputs": [
    {
     "data": {
      "text/plain": [
       "[1, 2, 3, 4, 5, 6, 7, 8, 9, 10]"
      ]
     },
     "execution_count": 128,
     "metadata": {},
     "output_type": "execute_result"
    }
   ],
   "source": [
    "all_number = [i for i in range(1, 11)]\n",
    "all_number"
   ]
  },
  {
   "cell_type": "markdown",
   "id": "1df16233",
   "metadata": {
    "lang": "en"
   },
   "source": [
    "#### First we do it with functions"
   ]
  },
  {
   "cell_type": "code",
   "execution_count": null,
   "id": "2ae6139d",
   "metadata": {},
   "outputs": [],
   "source": [
    "# smallest value\n",
    "# later you will loop / iterate / map "
   ]
  },
  {
   "cell_type": "code",
   "execution_count": 148,
   "id": "proved-anniversary",
   "metadata": {},
   "outputs": [],
   "source": [
    "# function\n",
    "   # bool value\n",
    "    \n",
    "def even (n):\n",
    "    if n % 2 == 0:\n",
    "        return True"
   ]
  },
  {
   "cell_type": "code",
   "execution_count": 162,
   "id": "efb989ec",
   "metadata": {},
   "outputs": [],
   "source": [
    "# function\n",
    "   # bool value\n",
    "    \n",
    "def even_2 (n):\n",
    "    if n % 2 == 0:\n",
    "        return n\n",
    "    else:\n",
    "        return \"no number\""
   ]
  },
  {
   "cell_type": "code",
   "execution_count": 149,
   "id": "a5fd6133",
   "metadata": {},
   "outputs": [],
   "source": [
    "number = even(3)\n",
    "number"
   ]
  },
  {
   "cell_type": "code",
   "execution_count": 150,
   "id": "fb1ec935",
   "metadata": {},
   "outputs": [
    {
     "data": {
      "text/plain": [
       "True"
      ]
     },
     "execution_count": 150,
     "metadata": {},
     "output_type": "execute_result"
    }
   ],
   "source": [
    "number = even(2)\n",
    "number"
   ]
  },
  {
   "cell_type": "markdown",
   "id": "24d5f21b",
   "metadata": {
    "lang": "en"
   },
   "source": [
    "Imagine that you want to filter a list and keep only the groups that start with the letter R"
   ]
  },
  {
   "cell_type": "code",
   "execution_count": 151,
   "id": "f5531415",
   "metadata": {},
   "outputs": [
    {
     "data": {
      "text/plain": [
       "[1, 2, 3, 4, 5, 6, 7, 8, 9, 10]"
      ]
     },
     "execution_count": 151,
     "metadata": {},
     "output_type": "execute_result"
    }
   ],
   "source": [
    "all_number"
   ]
  },
  {
   "cell_type": "code",
   "execution_count": 152,
   "id": "1ea86b23",
   "metadata": {},
   "outputs": [
    {
     "data": {
      "text/plain": [
       "[1, 2, 3, 4, 5, 6, 7, 8, 9, 10]"
      ]
     },
     "execution_count": 152,
     "metadata": {},
     "output_type": "execute_result"
    }
   ],
   "source": [
    "all_number # before filtering"
   ]
  },
  {
   "cell_type": "code",
   "execution_count": 153,
   "id": "5ae6fa87",
   "metadata": {},
   "outputs": [
    {
     "data": {
      "text/plain": [
       "[2, 4, 6, 8, 10]"
      ]
     },
     "execution_count": 153,
     "metadata": {},
     "output_type": "execute_result"
    }
   ],
   "source": [
    "#after filtering\n",
    "new_filtered_list = list(filter(even, all_number))\n",
    "new_filtered_list"
   ]
  },
  {
   "cell_type": "code",
   "execution_count": 154,
   "id": "3659d14a",
   "metadata": {},
   "outputs": [],
   "source": [
    "# the function you pass: returns True/False\n",
    "# Filter will return the element depending on the result of your function"
   ]
  },
  {
   "cell_type": "code",
   "execution_count": 163,
   "id": "e34c1c8e",
   "metadata": {},
   "outputs": [
    {
     "data": {
      "text/plain": [
       "['no number',\n",
       " 2,\n",
       " 'no number',\n",
       " 4,\n",
       " 'no number',\n",
       " 6,\n",
       " 'no number',\n",
       " 8,\n",
       " 'no number',\n",
       " 10]"
      ]
     },
     "execution_count": 163,
     "metadata": {},
     "output_type": "execute_result"
    }
   ],
   "source": [
    "# Q Maya: using map on this\n",
    "\n",
    "list(map(even_2, all_number))"
   ]
  },
  {
   "cell_type": "code",
   "execution_count": 166,
   "id": "0fca3db0",
   "metadata": {},
   "outputs": [
    {
     "data": {
      "text/plain": [
       "[2, 4, 6, 8, 10]"
      ]
     },
     "execution_count": 166,
     "metadata": {},
     "output_type": "execute_result"
    }
   ],
   "source": [
    "# Q Maya: using map on this\n",
    "\n",
    "list(filter(even, all_number))"
   ]
  },
  {
   "cell_type": "code",
   "execution_count": 167,
   "id": "fb1d9e70",
   "metadata": {},
   "outputs": [],
   "source": [
    "list_strings = [\"Rosalía\", \"Bad bunny\", \"Russian red\"]"
   ]
  },
  {
   "cell_type": "code",
   "execution_count": 169,
   "id": "8bfdb014",
   "metadata": {},
   "outputs": [
    {
     "data": {
      "text/plain": [
       "['Rosalía', 'Russian red']"
      ]
     },
     "execution_count": 169,
     "metadata": {},
     "output_type": "execute_result"
    }
   ],
   "source": [
    "# 1. For loop\n",
    "\n",
    "new_list = []\n",
    "\n",
    "for i in list_strings:\n",
    "    if i.startswith(\"R\"):\n",
    "        new_list.append(i)\n",
    "\n",
    "new_list"
   ]
  },
  {
   "cell_type": "code",
   "execution_count": 174,
   "id": "2a11e091",
   "metadata": {},
   "outputs": [
    {
     "data": {
      "text/plain": [
       "['Rosalía', 'Russian red']"
      ]
     },
     "execution_count": 174,
     "metadata": {},
     "output_type": "execute_result"
    }
   ],
   "source": [
    "# 2. Filter\n",
    "\n",
    "def starts_with_r (n):\n",
    "    return n.startswith(\"R\") #bool\n",
    "\n",
    "starts_with_r (\"Bad Bunny\")\n",
    "\n",
    "list(filter(starts_with_r, list_strings))"
   ]
  },
  {
   "cell_type": "markdown",
   "id": "498aae32",
   "metadata": {
    "lang": "en"
   },
   "source": [
    "#### Extra: Do it with lambda!"
   ]
  },
  {
   "cell_type": "code",
   "execution_count": 175,
   "id": "direct-costs",
   "metadata": {},
   "outputs": [
    {
     "data": {
      "text/plain": [
       "['Rosalía', 'Russian red']"
      ]
     },
     "execution_count": 175,
     "metadata": {},
     "output_type": "execute_result"
    }
   ],
   "source": [
    "# 3. Filter & lambda\n",
    "\n",
    "list(filter(lambda x: x[0] == \"R\", list_strings))"
   ]
  },
  {
   "cell_type": "code",
   "execution_count": null,
   "id": "f9a0ff0d",
   "metadata": {},
   "outputs": [],
   "source": [
    "# does it take any arguments? it has to"
   ]
  },
  {
   "cell_type": "markdown",
   "id": "9b923a35",
   "metadata": {
    "lang": "en"
   },
   "source": [
    "### Reduce"
   ]
  },
  {
   "cell_type": "markdown",
   "id": "5e2eb96a",
   "metadata": {
    "lang": "en"
   },
   "source": [
    "This function is not a built-in function, which means you must first import the functools library for use. The reduce() function cumulatively applies the f() function to the elements of the iterable. The accumulator can be initialized with an optional third argument. The result is the final value of the accumulator.\n",
    "\n",
    "```python\n",
    "reduce(function, iterable[, initial])\n",
    "```"
   ]
  },
  {
   "cell_type": "code",
   "execution_count": 176,
   "id": "brilliant-barrier",
   "metadata": {},
   "outputs": [
    {
     "data": {
      "text/plain": [
       "('@Carlos Muñoz', 'reduce')"
      ]
     },
     "execution_count": 176,
     "metadata": {},
     "output_type": "execute_result"
    }
   ],
   "source": [
    "reduce_experts[5]"
   ]
  },
  {
   "cell_type": "code",
   "execution_count": null,
   "id": "9fd58462",
   "metadata": {},
   "outputs": [],
   "source": [
    "# function\n",
    "    # two arguments\n",
    "    # accumulatively \n",
    "    # may or may not have an initla argument"
   ]
  },
  {
   "cell_type": "code",
   "execution_count": 178,
   "id": "68f97059",
   "metadata": {},
   "outputs": [],
   "source": [
    "from functools import reduce"
   ]
  },
  {
   "cell_type": "code",
   "execution_count": 194,
   "id": "e59a258d",
   "metadata": {},
   "outputs": [],
   "source": [
    "def addition (a, b):\n",
    "    #print(a * b)\n",
    "    return a * b"
   ]
  },
  {
   "cell_type": "code",
   "execution_count": 195,
   "id": "ffbaa80a",
   "metadata": {},
   "outputs": [
    {
     "data": {
      "text/plain": [
       "20"
      ]
     },
     "execution_count": 195,
     "metadata": {},
     "output_type": "execute_result"
    }
   ],
   "source": [
    "addition (10, 2)"
   ]
  },
  {
   "cell_type": "code",
   "execution_count": 196,
   "id": "19cdd934",
   "metadata": {},
   "outputs": [
    {
     "data": {
      "text/plain": [
       "[1, 2, 3, 4, 5, 6, 7, 8, 9, 10, 11, 12, 13, 14, 15]"
      ]
     },
     "execution_count": 196,
     "metadata": {},
     "output_type": "execute_result"
    }
   ],
   "source": [
    "numbers_15 = [i for i in range(1, 16)]\n",
    "numbers_15"
   ]
  },
  {
   "cell_type": "code",
   "execution_count": 197,
   "id": "e3402d79",
   "metadata": {},
   "outputs": [
    {
     "data": {
      "text/plain": [
       "120"
      ]
     },
     "execution_count": 197,
     "metadata": {},
     "output_type": "execute_result"
    }
   ],
   "source": [
    "sum(numbers_15)"
   ]
  },
  {
   "cell_type": "code",
   "execution_count": 198,
   "id": "6a1be62b",
   "metadata": {},
   "outputs": [],
   "source": [
    "# start: list /iterable\n",
    "# finishing with a value: just one thing\n",
    "\n",
    "# map & filter -> iterable to iterable\n",
    "# reduce -> iterable to number"
   ]
  },
  {
   "cell_type": "code",
   "execution_count": 199,
   "id": "de03c14a",
   "metadata": {},
   "outputs": [
    {
     "data": {
      "text/plain": [
       "1307674368000"
      ]
     },
     "execution_count": 199,
     "metadata": {},
     "output_type": "execute_result"
    }
   ],
   "source": [
    "reduce(addition, numbers_15)"
   ]
  },
  {
   "cell_type": "code",
   "execution_count": 209,
   "id": "a75f8830",
   "metadata": {},
   "outputs": [],
   "source": [
    "def addition_strings (a, b):\n",
    "    #print(a * b)\n",
    "    return a + \" \" + b"
   ]
  },
  {
   "cell_type": "code",
   "execution_count": 210,
   "id": "60123439",
   "metadata": {},
   "outputs": [
    {
     "data": {
      "text/plain": [
       "'hello  hi there'"
      ]
     },
     "execution_count": 210,
     "metadata": {},
     "output_type": "execute_result"
    }
   ],
   "source": [
    "addition_strings(\"hello\", \" hi there\")"
   ]
  },
  {
   "cell_type": "code",
   "execution_count": 211,
   "id": "73d13f4b",
   "metadata": {},
   "outputs": [],
   "source": [
    "list_of_strings = [\"hey\", \"how\", \"are\", \"you\", \"doing\"]"
   ]
  },
  {
   "cell_type": "code",
   "execution_count": 229,
   "id": "40d3e5a9",
   "metadata": {},
   "outputs": [
    {
     "data": {
      "text/plain": [
       "'sdsojbndnjkFNKJNFD'"
      ]
     },
     "execution_count": 229,
     "metadata": {},
     "output_type": "execute_result"
    }
   ],
   "source": [
    "\"sdsojbndnjkFNKJNFD\""
   ]
  },
  {
   "cell_type": "code",
   "execution_count": 230,
   "id": "717f18f1",
   "metadata": {},
   "outputs": [
    {
     "data": {
      "text/plain": [
       "'hey how are you doing'"
      ]
     },
     "execution_count": 230,
     "metadata": {},
     "output_type": "execute_result"
    }
   ],
   "source": [
    "\" \".join(list_of_strings)"
   ]
  },
  {
   "cell_type": "code",
   "execution_count": 231,
   "id": "c6d061c9",
   "metadata": {},
   "outputs": [
    {
     "data": {
      "text/plain": [
       "'s d s o j b n d n j k F N K J N F D'"
      ]
     },
     "execution_count": 231,
     "metadata": {},
     "output_type": "execute_result"
    }
   ],
   "source": [
    "reduce(addition_strings, \"sdsojbndnjkFNKJNFD\")"
   ]
  },
  {
   "cell_type": "code",
   "execution_count": null,
   "id": "45d0429c",
   "metadata": {},
   "outputs": [],
   "source": [
    "# whatever the result is will be the input for the next one"
   ]
  },
  {
   "cell_type": "markdown",
   "id": "be41def2",
   "metadata": {
    "lang": "en"
   },
   "source": [
    "⚠️ Reduce is a bit more complicated to understand than map() and filter() so let's walk through the following example ⚠️"
   ]
  },
  {
   "cell_type": "code",
   "execution_count": 232,
   "id": "cdce386a",
   "metadata": {},
   "outputs": [
    {
     "data": {
      "text/plain": [
       "16"
      ]
     },
     "execution_count": 232,
     "metadata": {},
     "output_type": "execute_result"
    }
   ],
   "source": [
    "def add (x, y):\n",
    "    return x + y\n",
    "\n",
    "list_ = [2, 4, 7, 3]\n",
    "\n",
    "reduce(add, list_)"
   ]
  },
  {
   "cell_type": "markdown",
   "id": "9bcc559e",
   "metadata": {
    "lang": "en"
   },
   "source": [
    "#### What happened?\n",
    "- We start with a list [2, 4, 7, 3] and pass the function add (x, y) to reduce ( ) along with this list, without an initial value\n",
    "\n",
    "- reduce() calls add(2, 4), and add() returns 6\n",
    "\n",
    "- reduce() calls sum(6, 7) (result of the previous call to sum() and the next element in the list as parameters), and sum() returns 13\n",
    "\n",
    "- reduce() calls sum(13, 3), and sum() returns 16\n",
    "\n",
    "Since there are no more elements left in the sequence, reduce() returns 16"
   ]
  },
  {
   "cell_type": "markdown",
   "id": "04ecdfe8",
   "metadata": {
    "lang": "en"
   },
   "source": [
    "Factorial:\n",
    "Amount that results from the multiplication of a certain natural number by all the natural numbers that precede it, excluding zero; is represented by n!"
   ]
  },
  {
   "cell_type": "markdown",
   "id": "0334080d",
   "metadata": {
    "lang": "en"
   },
   "source": [
    "### First we do it with functions"
   ]
  },
  {
   "cell_type": "code",
   "execution_count": null,
   "id": "electrical-knitting",
   "metadata": {},
   "outputs": [],
   "source": []
  },
  {
   "cell_type": "markdown",
   "id": "d678c6ca",
   "metadata": {
    "lang": "en"
   },
   "source": [
    "### Bonus: Do it with lambda!"
   ]
  },
  {
   "cell_type": "code",
   "execution_count": 217,
   "id": "random-spring",
   "metadata": {},
   "outputs": [
    {
     "name": "stdout",
     "output_type": "stream",
     "text": [
      "[1, 2, 3, 4, 5, 6, 7, 8, 9, 10, 11, 12, 13, 14, 15]\n"
     ]
    },
    {
     "data": {
      "text/plain": [
       "3628800"
      ]
     },
     "execution_count": 217,
     "metadata": {},
     "output_type": "execute_result"
    }
   ],
   "source": [
    "print(numbers_15)\n",
    "reduce(lambda x, y: x * y, numbers_15[:10])"
   ]
  },
  {
   "cell_type": "code",
   "execution_count": 222,
   "id": "903eaa9b",
   "metadata": {},
   "outputs": [],
   "source": [
    "def keys_list (one_value, value):\n",
    "    new_list = []\n",
    "    list_.append(one_value)\n",
    "    print(list_)\n",
    "    return list_"
   ]
  },
  {
   "cell_type": "code",
   "execution_count": null,
   "id": "1cfc4a99",
   "metadata": {},
   "outputs": [],
   "source": [
    "filter(lambda x: x == 5, dictionary.keys())"
   ]
  },
  {
   "cell_type": "code",
   "execution_count": null,
   "id": "ec3b6604",
   "metadata": {},
   "outputs": [],
   "source": [
    "reduce(fuction, dictionary)"
   ]
  },
  {
   "cell_type": "code",
   "execution_count": null,
   "id": "718eee79",
   "metadata": {},
   "outputs": [],
   "source": [
    "# 1. Loop\n",
    "# 2. Function\n",
    "# map, filter, reduce\n",
    "# combination"
   ]
  },
  {
   "cell_type": "markdown",
   "id": "69ae8c39",
   "metadata": {
    "lang": "en"
   },
   "source": [
    "## Summary"
   ]
  },
  {
   "cell_type": "markdown",
   "id": "0d3b60db",
   "metadata": {},
   "source": [
    "- map\n",
    "    - takes function + iterable\n",
    "    - iterable modified\n",
    "- filter\n",
    "    - takes function + iterable\n",
    "    - iterable modified (shorter)\n",
    "- reduce\n",
    "    - takes function + iterable\n",
    "    - one cummulative value\n",
    "- more efficient ways than just loops\n",
    "- define our own functions OR we can use lambdas\n",
    "- reduce is something you need to import\n",
    "- makes code easier to read\n",
    "- proccesing is faster because it returns objecfts instead of the lists (memory wise)"
   ]
  },
  {
   "cell_type": "markdown",
   "id": "jewish-configuration",
   "metadata": {},
   "source": [
    "## Further materials\n",
    "http://web.mit.edu/6.005/www/sp16/classes/25-map-filter-reduce/    \n"
   ]
  }
 ],
 "metadata": {
  "kernelspec": {
   "display_name": "Python 3 (ipykernel)",
   "language": "python",
   "name": "python3"
  },
  "language_info": {
   "codemirror_mode": {
    "name": "ipython",
    "version": 3
   },
   "file_extension": ".py",
   "mimetype": "text/x-python",
   "name": "python",
   "nbconvert_exporter": "python",
   "pygments_lexer": "ipython3",
   "version": "3.8.13"
  },
  "nbTranslate": {
   "displayLangs": [
    "en",
    "es"
   ],
   "hotkey": "alt-a",
   "langInMainMenu": true,
   "sourceLang": "es",
   "targetLang": "en",
   "useGoogleTranslate": true
  },
  "toc": {
   "base_numbering": 1,
   "nav_menu": {},
   "number_sections": true,
   "sideBar": true,
   "skip_h1_title": true,
   "title_cell": "Table of Contents",
   "title_sidebar": "Contents",
   "toc_cell": true,
   "toc_position": {
    "height": "calc(100% - 180px)",
    "left": "10px",
    "top": "150px",
    "width": "266px"
   },
   "toc_section_display": true,
   "toc_window_display": true
  }
 },
 "nbformat": 4,
 "nbformat_minor": 5
}
