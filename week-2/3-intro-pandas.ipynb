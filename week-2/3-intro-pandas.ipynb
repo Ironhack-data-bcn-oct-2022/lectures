{
 "cells": [
  {
   "cell_type": "markdown",
   "id": "adaptive-irrigation",
   "metadata": {
    "toc": true
   },
   "source": [
    "<h1>Table of Contents<span class=\"tocSkip\"></span></h1>\n",
    "<div class=\"toc\"><ul class=\"toc-item\"><li><span><a href=\"#Introduction\" data-toc-modified-id=\"Introduction-1\"><span class=\"toc-item-num\">1&nbsp;&nbsp;</span>Introduction</a></span></li><li><span><a href=\"#Installation\" data-toc-modified-id=\"Installation-2\"><span class=\"toc-item-num\">2&nbsp;&nbsp;</span>Installation</a></span></li><li><span><a href=\"#Introduction-to-pandas-data-structures\" data-toc-modified-id=\"Introduction-to-pandas-data-structures-3\"><span class=\"toc-item-num\">3&nbsp;&nbsp;</span>Introduction to pandas data structures</a></span><ul class=\"toc-item\"><li><span><a href=\"#Series\" data-toc-modified-id=\"Series-3.1\"><span class=\"toc-item-num\">3.1&nbsp;&nbsp;</span>Series</a></span></li><li><span><a href=\"#Find-NaN-values\" data-toc-modified-id=\"Find-NaN-values-3.2\"><span class=\"toc-item-num\">3.2&nbsp;&nbsp;</span>Find NaN values</a></span></li></ul></li><li><span><a href=\"#Read/write-data\" data-toc-modified-id=\"Read/write-data-4\"><span class=\"toc-item-num\">4&nbsp;&nbsp;</span>Read/write data</a></span><ul class=\"toc-item\"><li><span><a href=\"#We-load-data-in-CSV-format\" data-toc-modified-id=\"We-load-data-in-CSV-format-4.1\"><span class=\"toc-item-num\">4.1&nbsp;&nbsp;</span>We load data in CSV format</a></span></li><li><span><a href=\"#We-load-data-in-xlsx-format\" data-toc-modified-id=\"We-load-data-in-xlsx-format-4.2\"><span class=\"toc-item-num\">4.2&nbsp;&nbsp;</span>We load data in xlsx format</a></span></li><li><span><a href=\"#We-display-the-first-rows\" data-toc-modified-id=\"We-display-the-first-rows-4.3\"><span class=\"toc-item-num\">4.3&nbsp;&nbsp;</span>We display the first rows</a></span></li><li><span><a href=\"#We-display-the-last-rows\" data-toc-modified-id=\"We-display-the-last-rows-4.4\"><span class=\"toc-item-num\">4.4&nbsp;&nbsp;</span>We display the last rows</a></span></li><li><span><a href=\"#Visualize-a-random-sample\" data-toc-modified-id=\"Visualize-a-random-sample-4.5\"><span class=\"toc-item-num\">4.5&nbsp;&nbsp;</span>Visualize a random sample</a></span></li></ul></li><li><span><a href=\"#Exploratory-analysis-of-a-dataframe\" data-toc-modified-id=\"Exploratory-analysis-of-a-dataframe-5\"><span class=\"toc-item-num\">5&nbsp;&nbsp;</span>Exploratory analysis of a dataframe</a></span></li><li><span><a href=\"#Basic-operations-with-dataframes\" data-toc-modified-id=\"Basic-operations-with-dataframes-6\"><span class=\"toc-item-num\">6&nbsp;&nbsp;</span>Basic operations with dataframes</a></span><ul class=\"toc-item\"><li><span><a href=\"#We-select-a-column\" data-toc-modified-id=\"We-select-a-column-6.1\"><span class=\"toc-item-num\">6.1&nbsp;&nbsp;</span>We select a column</a></span></li><li><span><a href=\"#We-select-several-columns\" data-toc-modified-id=\"We-select-several-columns-6.2\"><span class=\"toc-item-num\">6.2&nbsp;&nbsp;</span>We select several columns</a></span></li><li><span><a href=\"#Get-the-unique-values-​​of-a-column-(ie-a-Series)\" data-toc-modified-id=\"Get-the-unique-values-​​of-a-column-(ie-a-Series)-6.3\"><span class=\"toc-item-num\">6.3&nbsp;&nbsp;</span>Get the unique values ​​of a column (ie a Series)</a></span></li><li><span><a href=\"#Change-the-data-type-of-a-column\" data-toc-modified-id=\"Change-the-data-type-of-a-column-6.4\"><span class=\"toc-item-num\">6.4&nbsp;&nbsp;</span>Change the data type of a column</a></span></li><li><span><a href=\"#We-filter-the-data-by-the-value-of-the-columns\" data-toc-modified-id=\"We-filter-the-data-by-the-value-of-the-columns-6.5\"><span class=\"toc-item-num\">6.5&nbsp;&nbsp;</span>We filter the data by the value of the columns</a></span></li><li><span><a href=\"#Copy-a-dataframe-and-rename-columns\" data-toc-modified-id=\"Copy-a-dataframe-and-rename-columns-6.6\"><span class=\"toc-item-num\">6.6&nbsp;&nbsp;</span>Copy a dataframe and rename columns</a></span><ul class=\"toc-item\"><li><span><a href=\"#Rename-columns\" data-toc-modified-id=\"Rename-columns-6.6.1\"><span class=\"toc-item-num\">6.6.1&nbsp;&nbsp;</span>Rename columns</a></span></li><li><span><a href=\"#We-can-rename-the-columns-by-crushing-the-instance-attribute...-does-this-ring-a-bell?\" data-toc-modified-id=\"We-can-rename-the-columns-by-crushing-the-instance-attribute...-does-this-ring-a-bell?-6.6.2\"><span class=\"toc-item-num\">6.6.2&nbsp;&nbsp;</span>We can rename the columns by crushing the instance attribute... does this ring a bell?</a></span></li></ul></li><li><span><a href=\"#delete-columns\" data-toc-modified-id=\"delete-columns-6.7\"><span class=\"toc-item-num\">6.7&nbsp;&nbsp;</span>delete columns</a></span></li><li><span><a href=\"#delete-rows\" data-toc-modified-id=\"delete-rows-6.8\"><span class=\"toc-item-num\">6.8&nbsp;&nbsp;</span>delete rows</a></span></li><li><span><a href=\"#Reset_index-and-set_index\" data-toc-modified-id=\"Reset_index-and-set_index-6.9\"><span class=\"toc-item-num\">6.9&nbsp;&nbsp;</span>Reset_index and set_index</a></span><ul class=\"toc-item\"><li><span><a href=\"#SET_INDEX\" data-toc-modified-id=\"SET_INDEX-6.9.1\"><span class=\"toc-item-num\">6.9.1&nbsp;&nbsp;</span>SET_INDEX</a></span></li></ul></li><li><span><a href=\"#Operations-between-columns\" data-toc-modified-id=\"Operations-between-columns-6.10\"><span class=\"toc-item-num\">6.10&nbsp;&nbsp;</span>Operations between columns</a></span></li></ul></li><li><span><a href=\"#Apply-!\" data-toc-modified-id=\"Apply-!-7\"><span class=\"toc-item-num\">7&nbsp;&nbsp;</span>Apply !</a></span><ul class=\"toc-item\"><li><ul class=\"toc-item\"><li><span><a href=\"#Passing-a-map-or-an-apply\" data-toc-modified-id=\"Passing-a-map-or-an-apply-7.0.1\"><span class=\"toc-item-num\">7.0.1&nbsp;&nbsp;</span>Passing a map or an apply</a></span></li><li><span><a href=\"#Receive:\" data-toc-modified-id=\"Receive:-7.0.2\"><span class=\"toc-item-num\">7.0.2&nbsp;&nbsp;</span>Receive:</a></span></li></ul></li></ul></li><li><span><a href=\"#Df-.loc-&amp;-.iloc\" data-toc-modified-id=\"Df-.loc-&amp;-.iloc-8\"><span class=\"toc-item-num\">8&nbsp;&nbsp;</span>Df .loc &amp; .iloc</a></span><ul class=\"toc-item\"><li><span><a href=\"#Select-rows-and-columns-in-Pandas-by-position-with-iloc\" data-toc-modified-id=\"Select-rows-and-columns-in-Pandas-by-position-with-iloc-8.1\"><span class=\"toc-item-num\">8.1&nbsp;&nbsp;</span>Select rows and columns in Pandas by position with iloc</a></span></li><li><span><a href=\"#Select-rows-and-columns-in-Pandas-based-on-labels-with-loc\" data-toc-modified-id=\"Select-rows-and-columns-in-Pandas-based-on-labels-with-loc-8.2\"><span class=\"toc-item-num\">8.2&nbsp;&nbsp;</span>Select rows and columns in Pandas based on labels with loc</a></span><ul class=\"toc-item\"><li><span><a href=\"#Based-on-label\" data-toc-modified-id=\"Based-on-label-8.2.1\"><span class=\"toc-item-num\">8.2.1&nbsp;&nbsp;</span>Based on label</a></span></li></ul></li></ul></li><li><span><a href=\"#Order-a-dataframe\" data-toc-modified-id=\"Order-a-dataframe-9\"><span class=\"toc-item-num\">9&nbsp;&nbsp;</span>Order a dataframe</a></span><ul class=\"toc-item\"><li><span><a href=\"#Look-for-null-values\" data-toc-modified-id=\"Look-for-null-values-9.1\"><span class=\"toc-item-num\">9.1&nbsp;&nbsp;</span>Look for null values</a></span><ul class=\"toc-item\"><li><span><a href=\"#It-is-null?\" data-toc-modified-id=\"It-is-null?-9.1.1\"><span class=\"toc-item-num\">9.1.1&nbsp;&nbsp;</span>It is null?</a></span></li><li><span><a href=\"#Is-NOT-null?\" data-toc-modified-id=\"Is-NOT-null?-9.1.2\"><span class=\"toc-item-num\">9.1.2&nbsp;&nbsp;</span>Is NOT null?</a></span></li><li><span><a href=\"#Sum-the-null-values-​​of-each-column\" data-toc-modified-id=\"Sum-the-null-values-​​of-each-column-9.1.3\"><span class=\"toc-item-num\">9.1.3&nbsp;&nbsp;</span>Sum the null values ​​of each column</a></span></li></ul></li><li><span><a href=\"#delete-null-values\" data-toc-modified-id=\"delete-null-values-9.2\"><span class=\"toc-item-num\">9.2&nbsp;&nbsp;</span>delete null values</a></span></li><li><span><a href=\"#How-to-fill-in-the-missing-data\" data-toc-modified-id=\"How-to-fill-in-the-missing-data-9.3\"><span class=\"toc-item-num\">9.3&nbsp;&nbsp;</span>How to fill in the missing data</a></span><ul class=\"toc-item\"><li><ul class=\"toc-item\"><li><span><a href=\"#CATEGORIES-IN-DATAFRAME:-DOCUMENTATION\" data-toc-modified-id=\"CATEGORIES-IN-DATAFRAME:-DOCUMENTATION-9.3.0.1\"><span class=\"toc-item-num\">9.3.0.1&nbsp;&nbsp;</span>CATEGORIES IN DATAFRAME: DOCUMENTATION</a></span></li></ul></li></ul></li></ul></li><li><span><a href=\"#We-delete-the-duplicates\" data-toc-modified-id=\"We-delete-the-duplicates-10\"><span class=\"toc-item-num\">10&nbsp;&nbsp;</span>We delete the duplicates</a></span></li><li><span><a href=\"#Data-aggregation\" data-toc-modified-id=\"Data-aggregation-11\"><span class=\"toc-item-num\">11&nbsp;&nbsp;</span>Data aggregation</a></span><ul class=\"toc-item\"><li><span><a href=\"#GroupBy-&amp;-pivot_table\" data-toc-modified-id=\"GroupBy-&amp;-pivot_table-11.1\"><span class=\"toc-item-num\">11.1&nbsp;&nbsp;</span>GroupBy &amp; pivot_table</a></span></li><li><span><a href=\"#Union-of-Dataframes\" data-toc-modified-id=\"Union-of-Dataframes-11.2\"><span class=\"toc-item-num\">11.2&nbsp;&nbsp;</span>Union of Dataframes</a></span></li><li><span><a href=\"#Concat\" data-toc-modified-id=\"Concat-11.3\"><span class=\"toc-item-num\">11.3&nbsp;&nbsp;</span>Concat</a></span><ul class=\"toc-item\"><li><span><a href=\"#Concatenating-on-axis-0-(rows)\" data-toc-modified-id=\"Concatenating-on-axis-0-(rows)-11.3.1\"><span class=\"toc-item-num\">11.3.1&nbsp;&nbsp;</span>Concatenating on axis 0 (rows)</a></span></li><li><span><a href=\"#Concatenating-on-axis-1-(columns)\" data-toc-modified-id=\"Concatenating-on-axis-1-(columns)-11.3.2\"><span class=\"toc-item-num\">11.3.2&nbsp;&nbsp;</span>Concatenating on axis 1 (columns)</a></span></li></ul></li><li><span><a href=\"#Merge\" data-toc-modified-id=\"Merge-11.4\"><span class=\"toc-item-num\">11.4&nbsp;&nbsp;</span>Merge</a></span><ul class=\"toc-item\"><li><span><a href=\"#LEFT-Merge\" data-toc-modified-id=\"LEFT-Merge-11.4.1\"><span class=\"toc-item-num\">11.4.1&nbsp;&nbsp;</span>LEFT Merge</a></span></li><li><span><a href=\"#RIGHT-Merge\" data-toc-modified-id=\"RIGHT-Merge-11.4.2\"><span class=\"toc-item-num\">11.4.2&nbsp;&nbsp;</span>RIGHT Merge</a></span></li><li><span><a href=\"#INNER-Merge\" data-toc-modified-id=\"INNER-Merge-11.4.3\"><span class=\"toc-item-num\">11.4.3&nbsp;&nbsp;</span>INNER Merge</a></span></li><li><span><a href=\"#OUTER-Merge\" data-toc-modified-id=\"OUTER-Merge-11.4.4\"><span class=\"toc-item-num\">11.4.4&nbsp;&nbsp;</span>OUTER Merge</a></span></li></ul></li><li><span><a href=\"#Merging-/-Concatenating-in-two-different-columns\" data-toc-modified-id=\"Merging-/-Concatenating-in-two-different-columns-11.5\"><span class=\"toc-item-num\">11.5&nbsp;&nbsp;</span>Merging / Concatenating in two different columns</a></span><ul class=\"toc-item\"><li><span><a href=\"#Concatenating-in-two-different-columns\" data-toc-modified-id=\"Concatenating-in-two-different-columns-11.5.1\"><span class=\"toc-item-num\">11.5.1&nbsp;&nbsp;</span>Concatenating in two different columns</a></span></li><li><span><a href=\"#Merging-in-two-different-columns\" data-toc-modified-id=\"Merging-in-two-different-columns-11.5.2\"><span class=\"toc-item-num\">11.5.2&nbsp;&nbsp;</span>Merging in two different columns</a></span></li></ul></li><li><span><a href=\"#Join\" data-toc-modified-id=\"Join-11.6\"><span class=\"toc-item-num\">11.6&nbsp;&nbsp;</span>Join</a></span></li><li><span><a href=\"#Differences-between-join-&amp;-merge\" data-toc-modified-id=\"Differences-between-join-&amp;-merge-11.7\"><span class=\"toc-item-num\">11.7&nbsp;&nbsp;</span>Differences between join &amp; merge</a></span></li></ul></li><li><span><a href=\"#Export-data\" data-toc-modified-id=\"Export-data-12\"><span class=\"toc-item-num\">12&nbsp;&nbsp;</span>Export data</a></span></li><li><span><a href=\"#Pandas-usual-methods\" data-toc-modified-id=\"Pandas-usual-methods-13\"><span class=\"toc-item-num\">13&nbsp;&nbsp;</span>Pandas usual methods</a></span></li><li><span><a href=\"#Mega-recap\" data-toc-modified-id=\"Mega-recap-14\"><span class=\"toc-item-num\">14&nbsp;&nbsp;</span>Mega-recap</a></span></li><li><span><a href=\"#Further-materials\" data-toc-modified-id=\"Further-materials-15\"><span class=\"toc-item-num\">15&nbsp;&nbsp;</span>Further materials</a></span></li></ul></div>"
   ]
  },
  {
   "cell_type": "markdown",
   "id": "anonymous-academy",
   "metadata": {},
   "source": [
    "# Pandas"
   ]
  },
  {
   "cell_type": "markdown",
   "id": "residential-needle",
   "metadata": {},
   "source": [
    "![pandas](https://media.giphy.com/media/nVsLCrW5iHf6E/giphy.gif)"
   ]
  },
  {
   "cell_type": "markdown",
   "id": "751721df",
   "metadata": {
    "lang": "en"
   },
   "source": [
    "## Introduction\n",
    "Pandas is undoubtedly the most widely used library in the Python ecosystem for data manipulation and analysis. It's fast, powerful, flexible, easy to use and open source.\n",
    "\n",
    "\n",
    "Among its main features:\n",
    "\n",
    "- A fast and efficient **DataFrame** object for data manipulation with built-in indexing* \n",
    "\n",
    "- **Reading and writing** of data in many formats: Microsoft Excel, CSV, SQL databases, etc;\n",
    "\n",
    "- Integrated and efficient methods for all types of data manipulation: missing data, subset, union, merge, etc;\n",
    "\n",
    "- Ease of working with temporary data (in fact, Pandas is named after \"PANnel DAta\")\n",
    "\n",
    "- Good **integration with other data analysis or Machine learning libraries**: scikit-learn, scipy, seaborn, plotly, etc;\n",
    "\n",
    "- It is **widely used** in both the private and academic sectors\n",
    "\n",
    "\n",
    "Pandas provides high-level data structures and functions designed to make working with structured or tabular data fast, easy, and expressive. Since its introduction in 2010, it has helped make Python a powerful and productive data analysis environment. The main pandas objects that will be used in this book are the DataFrame, a column-oriented tabular data structure with row and column labels, and the Series, a labeled one-dimensional array object.\n",
    "\n",
    "Pandas combines the high performance ideas of NumPy with the flexible data manipulation capabilities of spreadsheets and relational databases (such as SQL). It provides sophisticated indexing functionality to make it easy to reshape, slice and dice, perform aggregations, and select subsets of data."
   ]
  },
  {
   "cell_type": "markdown",
   "id": "hourly-nutrition",
   "metadata": {},
   "source": [
    "![image](https://thumbor.forbes.com/thumbor/960x0/https%3A%2F%2Fblogs-images.forbes.com%2Fgilpress%2Ffiles%2F2016%2F03%2FTime-1200x511.jpg)\n",
    "\n",
    "\n",
    "\n",
    "Source: [Forbes](https://www.forbes.com/sites/gilpress/2016/03/23/data-preparation-most-time-consuming-least-enjoyable-data-science-task-survey-says/#1ba071616f63)"
   ]
  },
  {
   "cell_type": "markdown",
   "id": "b6680d33",
   "metadata": {
    "lang": "en"
   },
   "source": [
    "## Installation"
   ]
  },
  {
   "cell_type": "markdown",
   "id": "58d0e351",
   "metadata": {
    "lang": "en"
   },
   "source": [
    "The first thing you should do will always be\n",
    "`pip install pandas`, `conda install pandas`"
   ]
  },
  {
   "cell_type": "code",
   "execution_count": null,
   "id": "2a586373",
   "metadata": {},
   "outputs": [],
   "source": [
    "# anaconda\n",
    "    # enviroments: ironhack\n",
    "    #pandas\n",
    "    \n",
    "# miniconda\n",
    "    # conda activate ironhack\n",
    "    #pip install pandasz"
   ]
  },
  {
   "cell_type": "code",
   "execution_count": null,
   "id": "psychological-theorem",
   "metadata": {},
   "outputs": [],
   "source": [
    "import pandas as pd"
   ]
  },
  {
   "cell_type": "markdown",
   "id": "960d4f4b",
   "metadata": {
    "lang": "en"
   },
   "source": [
    "## Introduction to pandas data structures\n",
    "To get started with pandas, you'll need to get comfortable with its two working data structures: Series and DataFrame. Although they are not a universal solution to all problems, they provide a solid and easy-to-use foundation for most applications."
   ]
  },
  {
   "cell_type": "markdown",
   "id": "d636439c",
   "metadata": {
    "lang": "en"
   },
   "source": [
    "### Series\n",
    "A Serie is a one-dimensional array object containing a sequence of values ​​(of NumPy-like types) and an associated array of data labels, called its index. The simplest Series is formed from a single array of data:"
   ]
  },
  {
   "cell_type": "code",
   "execution_count": null,
   "id": "b9abae3b",
   "metadata": {},
   "outputs": [],
   "source": [
    "my_serie = pd.Series([1, 2, 3, \"a string\", 4, 5])\n",
    "my_serie"
   ]
  },
  {
   "cell_type": "code",
   "execution_count": null,
   "id": "acdda08f",
   "metadata": {},
   "outputs": [],
   "source": [
    "random_list = [1, 2, 3, \"a string\", 4, 5]\n",
    "random_list[3]"
   ]
  },
  {
   "cell_type": "code",
   "execution_count": null,
   "id": "aa672f60",
   "metadata": {},
   "outputs": [],
   "source": [
    "type(my_serie)"
   ]
  },
  {
   "cell_type": "code",
   "execution_count": null,
   "id": "d583f759",
   "metadata": {},
   "outputs": [],
   "source": [
    "my_serie.values"
   ]
  },
  {
   "cell_type": "code",
   "execution_count": null,
   "id": "f3efff51",
   "metadata": {},
   "outputs": [],
   "source": [
    "my_serie.index"
   ]
  },
  {
   "cell_type": "markdown",
   "id": "a8006ecb",
   "metadata": {
    "lang": "en"
   },
   "source": [
    "The string representation of a Series displayed interactively shows the index on the left and the values ​​on the right. Since we didn't specify an index for the data, a default one consisting of the integers 0 to N - 1 (where N is the length of the data) is created. You can get the array representation and the index object of the Series through its values ​​and index attributes, respectively:"
   ]
  },
  {
   "cell_type": "markdown",
   "id": "24f739f4",
   "metadata": {
    "lang": "en"
   },
   "source": [
    "Another way to think of a Series is as a fixed-length ordered dict, since it is a mapping of index values ​​to data values. It can be used in many contexts where a dictionary could be used.\n",
    "If you have data contained in a Python dict, you can create a Series from it by passing the dict:"
   ]
  },
  {
   "cell_type": "code",
   "execution_count": null,
   "id": "incorrect-washington",
   "metadata": {},
   "outputs": [],
   "source": [
    "somedata = {\n",
    "    \"Ohio\": 20000,\n",
    "    \"Texas\": 2020,\n",
    "    \"Oregon\":444, \n",
    "    \"Utah\":19019, \n",
    "    \"Something else\": 5959\n",
    "}"
   ]
  },
  {
   "cell_type": "code",
   "execution_count": null,
   "id": "a99d1cb2",
   "metadata": {},
   "outputs": [],
   "source": [
    "somedata.keys()"
   ]
  },
  {
   "cell_type": "code",
   "execution_count": null,
   "id": "c8fa9571",
   "metadata": {},
   "outputs": [],
   "source": [
    "somedata.values()"
   ]
  },
  {
   "cell_type": "code",
   "execution_count": null,
   "id": "9da27289",
   "metadata": {},
   "outputs": [],
   "source": [
    "somedata"
   ]
  },
  {
   "cell_type": "code",
   "execution_count": null,
   "id": "c439e342",
   "metadata": {},
   "outputs": [],
   "source": [
    "my_serie"
   ]
  },
  {
   "cell_type": "code",
   "execution_count": null,
   "id": "efd20d6b",
   "metadata": {},
   "outputs": [],
   "source": [
    "somedata_series = pd.Series(somedata)\n",
    "somedata_series"
   ]
  },
  {
   "cell_type": "code",
   "execution_count": null,
   "id": "cf5ffeb3",
   "metadata": {},
   "outputs": [],
   "source": [
    "states = [\"California\", \"Ohio\", \"Oregon\", \"Texas\", \"Something else\"]"
   ]
  },
  {
   "cell_type": "code",
   "execution_count": null,
   "id": "252078a0",
   "metadata": {},
   "outputs": [],
   "source": [
    "somedata_series = pd.Series(somedata, index = states)\n",
    "somedata_series"
   ]
  },
  {
   "cell_type": "code",
   "execution_count": null,
   "id": "2ccaa341",
   "metadata": {
    "scrolled": true
   },
   "outputs": [],
   "source": [
    "type(somedata_series[\"Ohio\"])"
   ]
  },
  {
   "cell_type": "code",
   "execution_count": null,
   "id": "7e8e8824",
   "metadata": {},
   "outputs": [],
   "source": [
    "type(somedata_series[\"California\"])"
   ]
  },
  {
   "cell_type": "code",
   "execution_count": null,
   "id": "96c0b868",
   "metadata": {},
   "outputs": [],
   "source": [
    "# Exlore an object (a Series) and check how much information you don't have\n",
    "# How many missing values I have\n",
    "\n",
    "pd.isnull(somedata_series).sum()"
   ]
  },
  {
   "cell_type": "markdown",
   "id": "eb3ede87",
   "metadata": {
    "lang": "en"
   },
   "source": [
    "When only one dict is passed, the resulting String index will have the keys of the dict in order. You can override this by passing the keys of the dict in the order you want them to appear in the resulting String:"
   ]
  },
  {
   "cell_type": "code",
   "execution_count": null,
   "id": "convenient-encyclopedia",
   "metadata": {},
   "outputs": [],
   "source": [
    "somedata_series"
   ]
  },
  {
   "cell_type": "code",
   "execution_count": null,
   "id": "92aaa951",
   "metadata": {},
   "outputs": [],
   "source": [
    "states_2 = [\"California\", \"Ohio\", \"Texas\", \"Oregon\"] #Oregon to the end"
   ]
  },
  {
   "cell_type": "code",
   "execution_count": null,
   "id": "fc39b53d",
   "metadata": {},
   "outputs": [],
   "source": [
    "somedata_series_2 = pd.Series(somedata, index=states)\n",
    "somedata_series_2"
   ]
  },
  {
   "cell_type": "markdown",
   "id": "73a97ba9",
   "metadata": {
    "lang": "en"
   },
   "source": [
    "Here, the three values ​​found in sdata were placed in the appropriate places, but since no value was found for 'California', it appears as NaN (not a number), which is considered in pandas to mark missing values ​​or NA. Since \"Utah\" was not included in the states, it is excluded from the resulting object."
   ]
  },
  {
   "cell_type": "code",
   "execution_count": null,
   "id": "excited-culture",
   "metadata": {},
   "outputs": [],
   "source": [
    "somedata_series_2"
   ]
  },
  {
   "cell_type": "markdown",
   "id": "8ee7446f",
   "metadata": {
    "lang": "en"
   },
   "source": [
    "### Find NaN values\n",
    "NaN stands for Not A Number and is one of the common ways to represent the missing value in the data. It is a special floating point value and cannot be converted to a type other than float.\n",
    "The NaN value is one of the main problems in data analysis. It is very essential to deal with NaN to get the desired results."
   ]
  },
  {
   "cell_type": "code",
   "execution_count": null,
   "id": "b24de804",
   "metadata": {},
   "outputs": [],
   "source": [
    "#NaN: NotaNumber -> float\n",
    "#NaN: missing values"
   ]
  },
  {
   "cell_type": "code",
   "execution_count": null,
   "id": "4d361121",
   "metadata": {},
   "outputs": [],
   "source": [
    "pd.isnull(somedata_series)"
   ]
  },
  {
   "cell_type": "code",
   "execution_count": null,
   "id": "cc8b6959",
   "metadata": {},
   "outputs": [],
   "source": [
    "pd.isna(somedata_series)"
   ]
  },
  {
   "cell_type": "markdown",
   "id": "6686773c",
   "metadata": {
    "lang": "en"
   },
   "source": [
    "## Read/write data\n",
    "\n",
    "Pandas can read and write data from a wide variety of formats. [Read the documentation](https://pandas.pydata.org/pandas-docs/stable/user_guide/io.html)\n",
    "Although one of the most common is from a dict of lists of equal length or NumPy arrays:"
   ]
  },
  {
   "cell_type": "code",
   "execution_count": null,
   "id": "b1d85103",
   "metadata": {},
   "outputs": [],
   "source": [
    "import numpy as np"
   ]
  },
  {
   "cell_type": "code",
   "execution_count": null,
   "id": "6347b902",
   "metadata": {},
   "outputs": [],
   "source": [
    "data = {\n",
    "    \"state\": [\"Ohio\", \"texas\", \"nevada\", \"michigan\"],\n",
    "    \"year\": [1990, 2000, 2001, 2005],\n",
    "    \"something\": [1.5, \"sds\", 2223, np.nan]\n",
    "}"
   ]
  },
  {
   "cell_type": "code",
   "execution_count": null,
   "id": "05cb539f",
   "metadata": {},
   "outputs": [],
   "source": [
    "df = pd.DataFrame(data)\n",
    "df"
   ]
  },
  {
   "cell_type": "code",
   "execution_count": null,
   "id": "9789b102",
   "metadata": {},
   "outputs": [],
   "source": [
    "#display(df)"
   ]
  },
  {
   "cell_type": "markdown",
   "id": "9ef077da",
   "metadata": {
    "lang": "en"
   },
   "source": [
    "If I create a dataframe through a list of dictionaries:\n",
    "- Each dictionary will be a row\n",
    "- The keys will be the names of the columns\n",
    "- They have to have the same structure"
   ]
  },
  {
   "cell_type": "code",
   "execution_count": null,
   "id": "67d86571",
   "metadata": {},
   "outputs": [],
   "source": [
    "df = pd.read_csv(\"../datasets/Advertising.csv\")\n",
    "df"
   ]
  },
  {
   "cell_type": "code",
   "execution_count": null,
   "id": "5e189008",
   "metadata": {},
   "outputs": [],
   "source": [
    "# sep=';'"
   ]
  },
  {
   "cell_type": "markdown",
   "id": "52162b19",
   "metadata": {
    "lang": "en"
   },
   "source": [
    "Since we are using Jupyter Notebook, pandas DataFrame objects will be displayed as a more browser-friendly HTML table. [More info on this](https://pandas.pydata.org/pandas-docs/stable/user_guide/options.html)"
   ]
  },
  {
   "cell_type": "markdown",
   "id": "3fbaae69",
   "metadata": {
    "lang": "en"
   },
   "source": [
    "### We load data in CSV format"
   ]
  },
  {
   "cell_type": "code",
   "execution_count": null,
   "id": "bronze-corruption",
   "metadata": {},
   "outputs": [],
   "source": [
    "# CSV: comma separated values"
   ]
  },
  {
   "cell_type": "markdown",
   "id": "8e789df5",
   "metadata": {
    "lang": "en"
   },
   "source": [
    "### We load data in xlsx format"
   ]
  },
  {
   "cell_type": "code",
   "execution_count": null,
   "id": "b0419ea4",
   "metadata": {},
   "outputs": [],
   "source": [
    "# xlsx\n",
    "! ls ../datasets/Online Retail.xlsx"
   ]
  },
  {
   "cell_type": "code",
   "execution_count": null,
   "id": "c58ac11e",
   "metadata": {},
   "outputs": [],
   "source": [
    "#df_from_excel = pd.read_excel(\"../datasets/Online Retail.xlsx\")\n",
    "#df_from_excel"
   ]
  },
  {
   "cell_type": "code",
   "execution_count": null,
   "id": "7d4afa7c",
   "metadata": {},
   "outputs": [],
   "source": [
    "read_csv\n",
    "read_sql\n",
    "read_xlsx\n",
    "\n",
    "\n",
    "# export\n",
    "pd.to_csv"
   ]
  },
  {
   "cell_type": "markdown",
   "id": "e7886577",
   "metadata": {
    "lang": "en"
   },
   "source": [
    "### We display the first rows"
   ]
  },
  {
   "cell_type": "markdown",
   "id": "d5c6520b",
   "metadata": {
    "lang": "en"
   },
   "source": [
    "By default head shows me the first 5 rows, I can see some more or less by passing a number as a parameter"
   ]
  },
  {
   "cell_type": "code",
   "execution_count": null,
   "id": "abce4ae0",
   "metadata": {},
   "outputs": [],
   "source": [
    "# bash file head -2ç\n",
    "# bash file tail -10"
   ]
  },
  {
   "cell_type": "code",
   "execution_count": null,
   "id": "requested-memorial",
   "metadata": {},
   "outputs": [],
   "source": [
    "df.head(3)"
   ]
  },
  {
   "cell_type": "markdown",
   "id": "387332c9",
   "metadata": {
    "lang": "en"
   },
   "source": [
    "### We display the last rows"
   ]
  },
  {
   "cell_type": "code",
   "execution_count": null,
   "id": "a872d412",
   "metadata": {},
   "outputs": [],
   "source": [
    "df.tail()"
   ]
  },
  {
   "cell_type": "code",
   "execution_count": null,
   "id": "0aa6aebe",
   "metadata": {
    "scrolled": true
   },
   "outputs": [],
   "source": [
    "display(df)"
   ]
  },
  {
   "cell_type": "markdown",
   "id": "11134b1f",
   "metadata": {
    "lang": "en"
   },
   "source": [
    "Exactly the same as with .head() we pass a parameter to .tail()"
   ]
  },
  {
   "cell_type": "markdown",
   "id": "aa9ca5cd",
   "metadata": {
    "lang": "en"
   },
   "source": [
    "### Visualize a random sample"
   ]
  },
  {
   "cell_type": "code",
   "execution_count": null,
   "id": "beginning-qatar",
   "metadata": {},
   "outputs": [],
   "source": [
    "df.sample()"
   ]
  },
  {
   "cell_type": "code",
   "execution_count": null,
   "id": "350498f5",
   "metadata": {
    "scrolled": false
   },
   "outputs": [],
   "source": [
    "df.sample(frac=0.8)"
   ]
  },
  {
   "cell_type": "markdown",
   "id": "adf7fbf8",
   "metadata": {
    "lang": "en"
   },
   "source": [
    "## Exploratory analysis of a dataframe"
   ]
  },
  {
   "cell_type": "code",
   "execution_count": null,
   "id": "previous-release",
   "metadata": {
    "scrolled": true
   },
   "outputs": [],
   "source": [
    "df.info()"
   ]
  },
  {
   "cell_type": "code",
   "execution_count": null,
   "id": "2523e621",
   "metadata": {},
   "outputs": [],
   "source": [
    "df.describe()"
   ]
  },
  {
   "cell_type": "code",
   "execution_count": null,
   "id": "ff4c5860",
   "metadata": {},
   "outputs": [],
   "source": [
    "df[\"Sales\"].value_counts()"
   ]
  },
  {
   "cell_type": "code",
   "execution_count": null,
   "id": "844acee9",
   "metadata": {},
   "outputs": [],
   "source": [
    "df.sample()"
   ]
  },
  {
   "cell_type": "code",
   "execution_count": null,
   "id": "65a55287",
   "metadata": {},
   "outputs": [],
   "source": [
    "df.shape"
   ]
  },
  {
   "cell_type": "code",
   "execution_count": null,
   "id": "6aecbd6d",
   "metadata": {},
   "outputs": [],
   "source": [
    "list(df.columns)"
   ]
  },
  {
   "cell_type": "code",
   "execution_count": null,
   "id": "30fdcdd8",
   "metadata": {},
   "outputs": [],
   "source": [
    "df[\"TV\"].max()"
   ]
  },
  {
   "cell_type": "code",
   "execution_count": null,
   "id": "4a323cea",
   "metadata": {},
   "outputs": [],
   "source": [
    "#arr_1.mean()\n",
    "df[\"TV\"].mean()"
   ]
  },
  {
   "cell_type": "code",
   "execution_count": null,
   "id": "14ec5b21",
   "metadata": {},
   "outputs": [],
   "source": [
    "df[\"Sales\"].sum()# as if it was a dictionary"
   ]
  },
  {
   "cell_type": "code",
   "execution_count": null,
   "id": "b3ca3406",
   "metadata": {},
   "outputs": [],
   "source": [
    "df.Sales.sum() #as the attribute"
   ]
  },
  {
   "cell_type": "code",
   "execution_count": null,
   "id": "6e7cdf62",
   "metadata": {},
   "outputs": [],
   "source": [
    "# If we have special characters -> we use df[\"Special CharacterS!\"]"
   ]
  },
  {
   "cell_type": "markdown",
   "id": "ac26b6d0",
   "metadata": {
    "lang": "en"
   },
   "source": [
    "## Basic operations with dataframes"
   ]
  },
  {
   "cell_type": "markdown",
   "id": "c110b361",
   "metadata": {
    "lang": "en"
   },
   "source": [
    "### We select a column"
   ]
  },
  {
   "cell_type": "code",
   "execution_count": null,
   "id": "harmful-breeding",
   "metadata": {},
   "outputs": [],
   "source": [
    "df[\"Sales\"]"
   ]
  },
  {
   "cell_type": "code",
   "execution_count": null,
   "id": "2f85d3d1",
   "metadata": {},
   "outputs": [],
   "source": [
    "df.sample()"
   ]
  },
  {
   "cell_type": "markdown",
   "id": "0abe5788",
   "metadata": {
    "lang": "en"
   },
   "source": [
    "### We select several columns"
   ]
  },
  {
   "cell_type": "code",
   "execution_count": null,
   "id": "03230fca",
   "metadata": {
    "scrolled": true
   },
   "outputs": [],
   "source": [
    "# Subset of a dataframe\n",
    "# By passing a list of columns to the df\n",
    "df_2 = df[[\"Sales\", \"TV\"]]\n",
    "df_2"
   ]
  },
  {
   "cell_type": "code",
   "execution_count": null,
   "id": "8b3241d9",
   "metadata": {},
   "outputs": [],
   "source": [
    "path = \"../datasets/Advertising.csv\"\n",
    "df_ads = pd.read_csv(path)\n",
    "df_ads"
   ]
  },
  {
   "cell_type": "code",
   "execution_count": null,
   "id": "438529ce",
   "metadata": {},
   "outputs": [],
   "source": [
    "df_2 = df[[\"TV\", \"Sales\"]]\n",
    "df_2.sample()"
   ]
  },
  {
   "cell_type": "code",
   "execution_count": null,
   "id": "0b35d4df",
   "metadata": {},
   "outputs": [],
   "source": [
    "#Exporting\n",
    "df_2.to_csv(\"../datasets/dummy.csv\")"
   ]
  },
  {
   "cell_type": "markdown",
   "id": "3bfdd8ef",
   "metadata": {
    "lang": "en"
   },
   "source": [
    "### Get the unique values ​​of a column (ie a Series)"
   ]
  },
  {
   "cell_type": "code",
   "execution_count": null,
   "id": "6385b86f",
   "metadata": {},
   "outputs": [],
   "source": [
    "df_3 = pd.read_csv(\"../datasets/avocado_kaggle.csv\")\n",
    "df_3"
   ]
  },
  {
   "cell_type": "code",
   "execution_count": null,
   "id": "38cb2927",
   "metadata": {},
   "outputs": [],
   "source": [
    "df_3[\"region\"].unique()"
   ]
  },
  {
   "cell_type": "code",
   "execution_count": null,
   "id": "ea4b4c61",
   "metadata": {},
   "outputs": [],
   "source": [
    "df_3.region.unique()"
   ]
  },
  {
   "cell_type": "code",
   "execution_count": null,
   "id": "c33eff38",
   "metadata": {},
   "outputs": [],
   "source": [
    "df_3.type.value_counts()"
   ]
  },
  {
   "cell_type": "markdown",
   "id": "385c56da",
   "metadata": {},
   "source": [
    "# RECAP\n",
    "\n",
    "- pandas is a library\n",
    "- helps oprganize data\n",
    "    - tabular data: rows & columns\n",
    "    - dataframes: 2D arrays\n",
    "    - dataframes & series\n",
    "        - series: 1D arrays: values and index\n",
    "        - just like a dictionary has keys and values\n",
    "        - dataframe is an object that is the whole table\n",
    "- we can preview\n",
    "    - df.sample()\n",
    "    - df.head() and df.tail()\n",
    "    - df.info(), df.describe(), df.dtypes\n",
    "    \n",
    "    - df.column.value_counts()\n",
    "    - df.column.unique()\n",
    "    \n",
    "    - Operations: sum, max, min, mean, std, \n",
    "    \n",
    "- subsets: just some columns\n",
    "- read and export from csv files: changes in jupyter notebook do not change the actual file in your computer\n",
    "- check null values\n",
    "    - type(NaN): float\n",
    "    - NaN: missing value"
   ]
  },
  {
   "cell_type": "code",
   "execution_count": null,
   "id": "25e0d1d6",
   "metadata": {},
   "outputs": [],
   "source": [
    "df_3.columns"
   ]
  },
  {
   "cell_type": "code",
   "execution_count": null,
   "id": "4665cd27",
   "metadata": {},
   "outputs": [],
   "source": [
    "#df_3[\"type\"]\n",
    "df_3.type.value_counts()"
   ]
  },
  {
   "cell_type": "code",
   "execution_count": null,
   "id": "66ab0df4",
   "metadata": {},
   "outputs": [],
   "source": [
    "df_3.type.unique()"
   ]
  },
  {
   "cell_type": "code",
   "execution_count": null,
   "id": "3c231551",
   "metadata": {},
   "outputs": [],
   "source": [
    "condition = df_3[\"type\"] == \"conventional\"\n",
    "# [True, False, False, False, True]\n",
    "df_3_conventional = df_3[condition]\n",
    "df_3_conventional.head()"
   ]
  },
  {
   "cell_type": "code",
   "execution_count": null,
   "id": "328ad9f7",
   "metadata": {},
   "outputs": [],
   "source": [
    "#an array is X long\n",
    "\n",
    "array= np.array((7,3))\n",
    "array"
   ]
  },
  {
   "cell_type": "code",
   "execution_count": null,
   "id": "960688f1",
   "metadata": {},
   "outputs": [],
   "source": [
    "df_3_conventional.size"
   ]
  },
  {
   "cell_type": "code",
   "execution_count": null,
   "id": "505dda38",
   "metadata": {},
   "outputs": [],
   "source": [
    "# Which one is more efficient?"
   ]
  },
  {
   "cell_type": "code",
   "execution_count": null,
   "id": "e7c11d0b",
   "metadata": {},
   "outputs": [],
   "source": [
    "class DataFrame ():\n",
    "    \n",
    "    def __init__ (self, rows):\n",
    "        self.rows = rows #attributes, showing\n",
    "        \n",
    "    def count (): # methods, doing\n",
    "        counter = 0 \n",
    "        for row in DataFrame:\n",
    "            counter += row   \n",
    "        return counter\n",
    "    "
   ]
  },
  {
   "cell_type": "code",
   "execution_count": null,
   "id": "f72a01fa",
   "metadata": {},
   "outputs": [],
   "source": [
    "rows = df_3_conventional.shape[0]\n",
    "rows#whole df"
   ]
  },
  {
   "cell_type": "code",
   "execution_count": null,
   "id": "dd24315d",
   "metadata": {},
   "outputs": [],
   "source": [
    "df_3_conventional.count()"
   ]
  },
  {
   "cell_type": "code",
   "execution_count": null,
   "id": "5ea458cb",
   "metadata": {},
   "outputs": [],
   "source": [
    "#df_3_conventional[\"type\"]\n",
    "df_3_conventional.type"
   ]
  },
  {
   "cell_type": "code",
   "execution_count": null,
   "id": "589f3dfe",
   "metadata": {
    "scrolled": true
   },
   "outputs": [],
   "source": [
    "# My first filter\n",
    "\n",
    "boston_condition = df_3[\"region\"] == \"Boston\"\n",
    "\n",
    "boston_dataset = df_3[boston_condition]\n",
    "boston_dataset"
   ]
  },
  {
   "cell_type": "code",
   "execution_count": null,
   "id": "f3630088",
   "metadata": {},
   "outputs": [],
   "source": [
    "boston_dataset.region.unique()"
   ]
  },
  {
   "cell_type": "code",
   "execution_count": null,
   "id": "2607f92f",
   "metadata": {},
   "outputs": [],
   "source": [
    "df_3.region.unique()"
   ]
  },
  {
   "cell_type": "markdown",
   "id": "898d8fa0",
   "metadata": {
    "lang": "en"
   },
   "source": [
    "### Change the data type of a column"
   ]
  },
  {
   "cell_type": "code",
   "execution_count": null,
   "id": "three-support",
   "metadata": {},
   "outputs": [],
   "source": [
    "df.sample()"
   ]
  },
  {
   "cell_type": "code",
   "execution_count": null,
   "id": "a1725046",
   "metadata": {},
   "outputs": [],
   "source": [
    "df.info()"
   ]
  },
  {
   "cell_type": "code",
   "execution_count": null,
   "id": "6ddf49a3",
   "metadata": {},
   "outputs": [],
   "source": [
    "# float -> int"
   ]
  },
  {
   "cell_type": "code",
   "execution_count": null,
   "id": "4a73841f",
   "metadata": {},
   "outputs": [],
   "source": [
    "df[\"Sales\"] = df[\"Sales\"].astype(\"int\")\n",
    "df[\"Sales\"]"
   ]
  },
  {
   "cell_type": "code",
   "execution_count": null,
   "id": "343fbc28",
   "metadata": {},
   "outputs": [],
   "source": [
    "df[\"Sales\"]\n",
    "# apply a function to an iterable -> map\n",
    "    # for every element in the iterable, passing a function\n",
    "        # element -> int(element)\n",
    "        \n",
    "# map -> different in pandas"
   ]
  },
  {
   "cell_type": "code",
   "execution_count": null,
   "id": "2282c9b4",
   "metadata": {},
   "outputs": [],
   "source": [
    "df.sample()"
   ]
  },
  {
   "cell_type": "markdown",
   "id": "04cc0a80",
   "metadata": {
    "lang": "en"
   },
   "source": [
    "### We filter the data by the value of the columns"
   ]
  },
  {
   "cell_type": "code",
   "execution_count": null,
   "id": "ff2dd1a1",
   "metadata": {
    "scrolled": true
   },
   "outputs": [],
   "source": [
    "df_3.sample()"
   ]
  },
  {
   "cell_type": "code",
   "execution_count": null,
   "id": "05914185",
   "metadata": {},
   "outputs": [],
   "source": [
    "# same thing BUT applying two filters at once\n",
    "# type == conventional\n",
    "# average price < 1"
   ]
  },
  {
   "cell_type": "code",
   "execution_count": null,
   "id": "a1175686",
   "metadata": {},
   "outputs": [],
   "source": [
    "df_3.AveragePrice[0]"
   ]
  },
  {
   "cell_type": "code",
   "execution_count": null,
   "id": "a01e3216",
   "metadata": {},
   "outputs": [],
   "source": [
    "df_3.AveragePrice[0] < 1"
   ]
  },
  {
   "cell_type": "code",
   "execution_count": null,
   "id": "ed4ca2a4",
   "metadata": {},
   "outputs": [],
   "source": [
    "condition_1 = (df_3[\"type\"] == \"conventional\") #boolean\n",
    "condition_2 = (df_3.AveragePrice < 1)"
   ]
  },
  {
   "cell_type": "code",
   "execution_count": null,
   "id": "23f7dd65",
   "metadata": {},
   "outputs": [],
   "source": [
    "df_3_filtered = df_3[(df_3[\"type\"] == \"conventional\") & (df_3[\"AveragePrice\"] < 1)]\n",
    "#df_3_filtered = df_3[condition_1 & condition_2]\n",
    "\n",
    "df_3_filtered"
   ]
  },
  {
   "cell_type": "code",
   "execution_count": null,
   "id": "b628dbf6",
   "metadata": {},
   "outputs": [],
   "source": [
    "#df[\"AveragePrice\"] # KeyError: 'AveragePrice'\n",
    "\n",
    "a_dictionary = {\n",
    "    \"age\": 30\n",
    "}\n",
    " \n",
    "# a_dictionary[\"location\"] # KeyError: 'location'"
   ]
  },
  {
   "cell_type": "code",
   "execution_count": null,
   "id": "218f3ecf",
   "metadata": {},
   "outputs": [],
   "source": [
    "# Delete the column & reference it later\n",
    "# Mispell the column (or try it has spaces and you're doing .notation)\n",
    "# You just don't have it"
   ]
  },
  {
   "cell_type": "code",
   "execution_count": null,
   "id": "8078f682",
   "metadata": {},
   "outputs": [],
   "source": [
    "# conventional\n",
    "# and avgprice < 1 OR above 5\n",
    "\n",
    "condition_1 = (df_3[\"type\"] == \"conventional\")\n",
    "condition_2 = (df_3[\"AveragePrice\"] < 1)\n",
    "condition_3 = (df_3[\"AveragePrice\"] > 1.8) \n",
    "# leaving a range: 1-1.8 OUT\n",
    "\n",
    "\n",
    "df_4_filtered = df_3[condition_1 & (condition_2 | condition_3)] # for sanity, use brackets\n",
    "#df_4_filtered = df_3[condition_1 & condition_2 | condition_3]\n",
    "\n",
    "df_4_filtered"
   ]
  },
  {
   "cell_type": "code",
   "execution_count": null,
   "id": "5a7a3399",
   "metadata": {},
   "outputs": [],
   "source": [
    "df_3.sample()"
   ]
  },
  {
   "cell_type": "code",
   "execution_count": null,
   "id": "8115149a",
   "metadata": {},
   "outputs": [],
   "source": [
    "df_3[\"type\"].value_counts()"
   ]
  },
  {
   "cell_type": "code",
   "execution_count": null,
   "id": "88c20d5b",
   "metadata": {},
   "outputs": [],
   "source": [
    "# 1. type = conventional\n",
    "\n",
    "# 2. avgeprice < 1\n",
    "# 3.totl bags > 100000"
   ]
  },
  {
   "cell_type": "code",
   "execution_count": null,
   "id": "b1b4dadd",
   "metadata": {},
   "outputs": [],
   "source": [
    "list(df_3.columns)[7]"
   ]
  },
  {
   "cell_type": "code",
   "execution_count": null,
   "id": "959d84be",
   "metadata": {},
   "outputs": [],
   "source": [
    "condition_1 = (df_3[\"type\"] == \"organic\")\n",
    "condition_2 = (df_3[\"AveragePrice\"] < 1)\n",
    "condition_3 = (df_3[\"4770\"] > 100.0)"
   ]
  },
  {
   "cell_type": "code",
   "execution_count": null,
   "id": "5a43bb7f",
   "metadata": {},
   "outputs": [],
   "source": [
    "# filtering from two columns: ok\n",
    "# from different different tables: you'd ahve to merge first"
   ]
  },
  {
   "cell_type": "code",
   "execution_count": null,
   "id": "be4d2891",
   "metadata": {},
   "outputs": [],
   "source": [
    "df_3_filtered_again_2 = df_3[condition_1 & ((df_3[\"AveragePrice\"] < 1) | (df_3[\"4770\"] > 100.0))]\n",
    "df_3_filtered_again_2"
   ]
  },
  {
   "cell_type": "code",
   "execution_count": null,
   "id": "a2553bbb",
   "metadata": {},
   "outputs": [],
   "source": [
    "# Fastest way to check ranges of values within columns\n",
    "df_3[\"AveragePrice\"].describe()"
   ]
  },
  {
   "cell_type": "code",
   "execution_count": null,
   "id": "10f4bf4a",
   "metadata": {},
   "outputs": [],
   "source": [
    "df_4_filtered[\"AveragePrice\"].describe() # 1-1.8"
   ]
  },
  {
   "cell_type": "code",
   "execution_count": null,
   "id": "ae644055",
   "metadata": {},
   "outputs": [],
   "source": [
    "condition = df_3[\"type\"] == \"organic\"\n",
    "df_3_2 = df_3[condition]\n",
    "df_3_2"
   ]
  },
  {
   "cell_type": "code",
   "execution_count": null,
   "id": "united-genre",
   "metadata": {
    "scrolled": false
   },
   "outputs": [],
   "source": []
  },
  {
   "cell_type": "markdown",
   "id": "a848ff40",
   "metadata": {
    "lang": "en"
   },
   "source": [
    "### Copy a dataframe and rename columns"
   ]
  },
  {
   "cell_type": "code",
   "execution_count": null,
   "id": "intended-merchandise",
   "metadata": {},
   "outputs": [],
   "source": [
    "a_new_copy = df.copy()\n",
    "a_new_copy"
   ]
  },
  {
   "cell_type": "markdown",
   "id": "1c5e1955",
   "metadata": {
    "lang": "en"
   },
   "source": [
    "#### Rename columns\n",
    "To rename columns we need a dictionary"
   ]
  },
  {
   "cell_type": "code",
   "execution_count": null,
   "id": "sweet-pocket",
   "metadata": {},
   "outputs": [],
   "source": [
    "list(df_3.columns)"
   ]
  },
  {
   "cell_type": "code",
   "execution_count": null,
   "id": "7cf4dc00",
   "metadata": {},
   "outputs": [],
   "source": [
    "# 'Total Volume',\n",
    "# \"total_volume\"\n",
    "# 'Large Bags', -> \"large\""
   ]
  },
  {
   "cell_type": "code",
   "execution_count": null,
   "id": "fb161064",
   "metadata": {},
   "outputs": [],
   "source": [
    "# make copies: df_new = df\n",
    "# export frequently\n",
    "# have the some code:\n",
    "    # re-run"
   ]
  },
  {
   "cell_type": "code",
   "execution_count": null,
   "id": "d6b9e95d",
   "metadata": {},
   "outputs": [],
   "source": [
    "# removing spaces:\n",
    "    # strip spaces left and right\n",
    "    # replace other spaces -> _\n",
    "# lowercase"
   ]
  },
  {
   "cell_type": "code",
   "execution_count": null,
   "id": "f848c258",
   "metadata": {},
   "outputs": [],
   "source": [
    "df_3.sample()"
   ]
  },
  {
   "cell_type": "code",
   "execution_count": null,
   "id": "85952836",
   "metadata": {},
   "outputs": [],
   "source": [
    "list(df_3.columns)\n",
    "# for loop\n",
    "# map"
   ]
  },
  {
   "cell_type": "code",
   "execution_count": null,
   "id": "67599867",
   "metadata": {},
   "outputs": [],
   "source": [
    "for column in list(df_3.columns):\n",
    "    print(column.lower().strip().replace(\" \", \"_\").replace(\":\", \"\"))"
   ]
  },
  {
   "cell_type": "code",
   "execution_count": null,
   "id": "ec645cec",
   "metadata": {},
   "outputs": [],
   "source": [
    "my_columns_renamed = {column : column.lower().strip().replace(\" \", \"_\").replace(\":\", \"\") for column in df_3.columns}\n",
    "my_columns_renamed"
   ]
  },
  {
   "cell_type": "code",
   "execution_count": null,
   "id": "e178698f",
   "metadata": {},
   "outputs": [],
   "source": [
    "df = pd.DataFrame({\"A\": [1, 2, 3], \"B\": [4, 5, 6]})\n",
    "df.rename(columns={\"A\": \"a\", \"B\": \"c\"})"
   ]
  },
  {
   "cell_type": "code",
   "execution_count": null,
   "id": "a1d6a666",
   "metadata": {},
   "outputs": [],
   "source": [
    "# Specifying axis when not using columns = {}\n",
    "df_3.rename(my_columns_renamed, axis='columns', inplace=False)"
   ]
  },
  {
   "cell_type": "code",
   "execution_count": null,
   "id": "3eaf9f85",
   "metadata": {},
   "outputs": [],
   "source": [
    "df_3.rename(columns = my_columns_renamed, inplace=True)\n",
    "# error\n",
    "# no error"
   ]
  },
  {
   "cell_type": "markdown",
   "id": "43d7f8be",
   "metadata": {
    "lang": "en"
   },
   "source": [
    "The rename method allows me to rename only the columns that I want, the ones that are in the dictionary. No need to rename all at once"
   ]
  },
  {
   "cell_type": "code",
   "execution_count": null,
   "id": "naval-ukraine",
   "metadata": {},
   "outputs": [],
   "source": [
    "df_3.rename(columns = {\"averageprice\": \"average_price\"}, inplace=True)"
   ]
  },
  {
   "cell_type": "code",
   "execution_count": null,
   "id": "555c4ddf",
   "metadata": {},
   "outputs": [],
   "source": [
    "df_3"
   ]
  },
  {
   "cell_type": "markdown",
   "id": "e809626d",
   "metadata": {
    "lang": "en"
   },
   "source": [
    "#### We can rename the columns by crushing the instance attribute... does this ring a bell?\n",
    "Requires a list with the same number of columns"
   ]
  },
  {
   "cell_type": "code",
   "execution_count": null,
   "id": "24e42c22",
   "metadata": {},
   "outputs": [],
   "source": [
    "list(df_3.columns)"
   ]
  },
  {
   "cell_type": "code",
   "execution_count": null,
   "id": "a3659261",
   "metadata": {},
   "outputs": [],
   "source": [
    "df_3.columns = ['unnamed_0',\n",
    " 'this one is changed',\n",
    " 'average_price',\n",
    " 'total_volume',\n",
    " '4046',\n",
    " '4225',\n",
    " '4770',\n",
    " 'total_bags',\n",
    " 'small_bags',\n",
    " 'large_bags',\n",
    " 'xlarge_bags',\n",
    " 'type',\n",
    " 'year',\n",
    " 'region']"
   ]
  },
  {
   "cell_type": "code",
   "execution_count": null,
   "id": "3ba738a9",
   "metadata": {},
   "outputs": [],
   "source": [
    "df_3"
   ]
  },
  {
   "cell_type": "markdown",
   "id": "17be832e",
   "metadata": {
    "lang": "en"
   },
   "source": [
    "### delete columns"
   ]
  },
  {
   "cell_type": "code",
   "execution_count": null,
   "id": "renewable-complexity",
   "metadata": {},
   "outputs": [],
   "source": [
    "df_3.to_csv(\"./example_unnamed_1.csv\")"
   ]
  },
  {
   "cell_type": "code",
   "execution_count": null,
   "id": "1aca8768",
   "metadata": {
    "scrolled": true
   },
   "outputs": [],
   "source": [
    "df_3_unnamed_1 = pd.read_csv(\"./example_unnamed_1.csv\")\n",
    "df_3_unnamed_1"
   ]
  },
  {
   "cell_type": "code",
   "execution_count": null,
   "id": "114d0693",
   "metadata": {},
   "outputs": [],
   "source": [
    "df_3.to_csv(\"./example_unnamed_2.csv\", index = False)\n",
    "df_3_unnamed_2 = pd.read_csv(\"./example_unnamed_2.csv\")\n",
    "df_3_unnamed_2"
   ]
  },
  {
   "cell_type": "code",
   "execution_count": null,
   "id": "9b537f4b",
   "metadata": {},
   "outputs": [],
   "source": [
    "new_df = df_3_unnamed_2.drop([\"unnamed_0\"], axis = 1)\n",
    "new_df\n",
    "# AXIS 1 = COLUMNS\n",
    "# AXIS 0 = Rows"
   ]
  },
  {
   "cell_type": "code",
   "execution_count": null,
   "id": "5ccf24db",
   "metadata": {},
   "outputs": [],
   "source": [
    "new_df_2 = df_3_unnamed_2.drop([\"4046\"], axis = 1) # inplace = True\n",
    "new_df_2"
   ]
  },
  {
   "cell_type": "code",
   "execution_count": null,
   "id": "c3b9e16b",
   "metadata": {},
   "outputs": [],
   "source": [
    "df_3_unnamed_2.head()"
   ]
  },
  {
   "cell_type": "code",
   "execution_count": null,
   "id": "d15c41bb",
   "metadata": {},
   "outputs": [],
   "source": [
    "# np.where \n",
    "# (array > 100, 255, 0)\n",
    "# identify and drop"
   ]
  },
  {
   "cell_type": "markdown",
   "id": "208b16d6",
   "metadata": {
    "lang": "en"
   },
   "source": [
    "### delete rows"
   ]
  },
  {
   "cell_type": "code",
   "execution_count": null,
   "id": "ba73b9a7",
   "metadata": {},
   "outputs": [],
   "source": [
    "df_3_unnamed_2.drop([1, 2], axis = 0, inplace=True) # inplace = True"
   ]
  },
  {
   "cell_type": "code",
   "execution_count": null,
   "id": "ad50ac4c",
   "metadata": {},
   "outputs": [],
   "source": [
    "df_3_unnamed_2.drop([3, 4], axis = 0, inplace = True) # inplace = True"
   ]
  },
  {
   "cell_type": "code",
   "execution_count": null,
   "id": "7a82d4c2",
   "metadata": {},
   "outputs": [],
   "source": [
    "df_3_unnamed_2"
   ]
  },
  {
   "cell_type": "markdown",
   "id": "017482de",
   "metadata": {
    "lang": "en"
   },
   "source": [
    "Rows can also be deleted. Note that the indexes are not reset. The index is associated with the row, not the order.\n",
    "Can the index be restarted? Correct"
   ]
  },
  {
   "cell_type": "markdown",
   "id": "e86b9901",
   "metadata": {
    "lang": "en"
   },
   "source": [
    "### Reset_index and set_index"
   ]
  },
  {
   "cell_type": "markdown",
   "id": "92a5ca1d",
   "metadata": {
    "lang": "en"
   },
   "source": [
    "We read the [documentation](https://pandas.pydata.org/pandas-docs/stable/reference/api/pandas.DataFrame.reset_index.html) to understand some parameters"
   ]
  },
  {
   "cell_type": "markdown",
   "id": "invalid-holly",
   "metadata": {},
   "source": [
    "#### SET_INDEX"
   ]
  },
  {
   "cell_type": "code",
   "execution_count": null,
   "id": "happy-record",
   "metadata": {
    "scrolled": true
   },
   "outputs": [],
   "source": [
    "df_3.reset_index()"
   ]
  },
  {
   "cell_type": "markdown",
   "id": "d41774c2",
   "metadata": {
    "lang": "en"
   },
   "source": [
    "What can we use to have the date as an index?\n",
    "We will see it later, to analyze temporary series"
   ]
  },
  {
   "cell_type": "code",
   "execution_count": null,
   "id": "e6468f2b",
   "metadata": {},
   "outputs": [],
   "source": [
    "df_3.set_index(\"year\", inplace=True)"
   ]
  },
  {
   "cell_type": "code",
   "execution_count": null,
   "id": "f847202a",
   "metadata": {},
   "outputs": [],
   "source": [
    "df_3.columns"
   ]
  },
  {
   "cell_type": "code",
   "execution_count": null,
   "id": "0c5473f5",
   "metadata": {},
   "outputs": [],
   "source": [
    "import seaborn as sns\n",
    "sns.set_context(\"poster\")\n",
    "sns.set(rc={'figure.figsize': (20.,6.)})\n",
    "sns.set_style('whitegrid')"
   ]
  },
  {
   "cell_type": "code",
   "execution_count": null,
   "id": "63b6e755",
   "metadata": {},
   "outputs": [],
   "source": [
    "df_3.set_index(\"this one is changed\", inplace=True)"
   ]
  },
  {
   "cell_type": "code",
   "execution_count": null,
   "id": "649e0788",
   "metadata": {},
   "outputs": [],
   "source": [
    "sns.lineplot(data = df_3, x = df_3.index, y=df_3[\"average_price\"])"
   ]
  },
  {
   "cell_type": "code",
   "execution_count": null,
   "id": "22b400cb",
   "metadata": {},
   "outputs": [],
   "source": [
    "list(df_3.columns)"
   ]
  },
  {
   "cell_type": "code",
   "execution_count": null,
   "id": "d3fdad9d",
   "metadata": {},
   "outputs": [],
   "source": [
    "condition = df_3[\"type\"] == \"organic\"\n",
    "df_3_2 = df_3[condition]\n",
    "df_3_2"
   ]
  },
  {
   "cell_type": "markdown",
   "id": "9776cc6d",
   "metadata": {
    "lang": "en"
   },
   "source": [
    "### Operations between columns"
   ]
  },
  {
   "cell_type": "code",
   "execution_count": null,
   "id": "ready-current",
   "metadata": {
    "scrolled": true
   },
   "outputs": [],
   "source": [
    "df_3[\"small & large\"] = df_3[\"small_bags\"] + df_3[\"large_bags\"]\n",
    "df_3"
   ]
  },
  {
   "cell_type": "code",
   "execution_count": null,
   "id": "d150399e",
   "metadata": {},
   "outputs": [],
   "source": [
    "# Q Carles & Carlos: new columns to be set in the order you want\n",
    "# A: create a subset altering the order you want"
   ]
  },
  {
   "cell_type": "code",
   "execution_count": null,
   "id": "8106f9f1",
   "metadata": {},
   "outputs": [],
   "source": [
    "df_100 = pd.read_csv(\"../datasets/avocado_kaggle.csv\")"
   ]
  },
  {
   "cell_type": "code",
   "execution_count": null,
   "id": "9388ad12",
   "metadata": {},
   "outputs": [],
   "source": [
    "list(df_100.columns)"
   ]
  },
  {
   "cell_type": "code",
   "execution_count": null,
   "id": "e466b99b",
   "metadata": {
    "scrolled": false
   },
   "outputs": [],
   "source": [
    "# Subset\n",
    "df_100 = df_100[[\n",
    " 'Date',\n",
    " 'AveragePrice',\n",
    " 'Total Volume',\n",
    " '4046',\n",
    " '4225',\n",
    " '4770',\n",
    " 'Total Bags',\n",
    " 'Small Bags',\n",
    " 'Large Bags',\n",
    " 'XLarge Bags',\n",
    " 'type',\n",
    " 'year',\n",
    " 'region',\n",
    "'Unnamed: 0']]\n",
    "\n",
    "df_100.sample()"
   ]
  },
  {
   "cell_type": "code",
   "execution_count": null,
   "id": "69fc8af5",
   "metadata": {},
   "outputs": [],
   "source": [
    "df_100.head(3)"
   ]
  },
  {
   "cell_type": "markdown",
   "id": "a034b1d0",
   "metadata": {
    "lang": "en"
   },
   "source": [
    "## Apply !"
   ]
  },
  {
   "cell_type": "code",
   "execution_count": null,
   "id": "e54c22f2",
   "metadata": {},
   "outputs": [],
   "source": [
    "#map(function, iterable)"
   ]
  },
  {
   "cell_type": "code",
   "execution_count": null,
   "id": "46601aa7",
   "metadata": {},
   "outputs": [],
   "source": [
    "df_100[\"type\"][3]"
   ]
  },
  {
   "cell_type": "code",
   "execution_count": null,
   "id": "01499a9a",
   "metadata": {},
   "outputs": [],
   "source": [
    "df[\"type\"]"
   ]
  },
  {
   "cell_type": "code",
   "execution_count": null,
   "id": "20e317d8",
   "metadata": {},
   "outputs": [],
   "source": [
    "#Q: Apply just passing the function\n",
    "\n",
    "df_100[\"type\"] = df_100[\"type\"].apply(upper) "
   ]
  },
  {
   "cell_type": "code",
   "execution_count": null,
   "id": "4f716088",
   "metadata": {},
   "outputs": [],
   "source": [
    "#Q: Apply just passing the function but with parentheses\n",
    "\n",
    "df_100[\"type\"] = df_100[\"type\"].apply(upper())"
   ]
  },
  {
   "cell_type": "code",
   "execution_count": null,
   "id": "07954ac2",
   "metadata": {},
   "outputs": [],
   "source": [
    "def letter_for_letter (n):\n",
    "    x = n.replace(\"C\", \"x\")\n",
    "    return x"
   ]
  },
  {
   "cell_type": "code",
   "execution_count": null,
   "id": "f1b145a0",
   "metadata": {},
   "outputs": [],
   "source": [
    "letter_for_letter (\"CkCjbnCihs\")"
   ]
  },
  {
   "cell_type": "code",
   "execution_count": null,
   "id": "d6ba5515",
   "metadata": {},
   "outputs": [],
   "source": [
    "df_100[\"new\"] = df_100[\"new\"].apply(letter_for_letter)\n",
    "df_100.sample()"
   ]
  },
  {
   "cell_type": "code",
   "execution_count": null,
   "id": "58708bae",
   "metadata": {},
   "outputs": [],
   "source": [
    "df_100[\"new\"] = df_100[\"type\"].apply(lambda x: x.upper())\n",
    "df_100.sample()"
   ]
  },
  {
   "cell_type": "code",
   "execution_count": null,
   "id": "e25749db",
   "metadata": {},
   "outputs": [],
   "source": [
    "# 1. Define a function yourself and just pass it\n",
    "# 2. You use lambda x: x.replace(\" \", \"\").strip()\n",
    "    # 3. lambda x: int(x) -> float to int astype(int)"
   ]
  },
  {
   "cell_type": "code",
   "execution_count": null,
   "id": "4d661620",
   "metadata": {},
   "outputs": [],
   "source": [
    "df_100[\"AveragePrice\"] = df_100[\"AveragePrice\"].apply(lambda x: int(x))\n",
    "df_100.sample()"
   ]
  },
  {
   "cell_type": "markdown",
   "id": "6db7bb24",
   "metadata": {
    "lang": "en"
   },
   "source": [
    "Applies a function along an axis of the DataFrame.\n",
    "[Read the docs](https://pandas.pydata.org/docs/reference/api/pandas.DataFrame.apply.html)"
   ]
  },
  {
   "cell_type": "markdown",
   "id": "c96a080d",
   "metadata": {
    "lang": "en"
   },
   "source": [
    "When I do an apply on a column, even though I use a lambda, I don't put axis because in the case below, what I'm doing is modifying a column, I use lambda to tell the apply that the first argument is a string that comes from outside and the second argument is the dataframe's own record."
   ]
  },
  {
   "cell_type": "markdown",
   "id": "99fe117a",
   "metadata": {},
   "source": [
    "The same way map receives a function and something it iteraves over\n",
    "A DF is composed of numpy.arrays. So it's an iterable\n",
    "\n",
    "\n",
    "#### Passing a map or an apply\n",
    "- map -> function, iterable\n",
    "- apply -> function, iterable\n",
    "\n",
    "\n",
    "#### Receive:\n",
    "\n",
    "- apply & user-defined function -> apply(function) \"x\", a value\n",
    "- apply & lambda -> lambda row: row[\"column\"]\n"
   ]
  },
  {
   "cell_type": "code",
   "execution_count": null,
   "id": "b653aa04",
   "metadata": {},
   "outputs": [],
   "source": [
    "df_100.head(1)"
   ]
  },
  {
   "cell_type": "code",
   "execution_count": null,
   "id": "21532bf8",
   "metadata": {},
   "outputs": [],
   "source": [
    "df_100.loc[0][\"Total Volume\"]"
   ]
  },
  {
   "cell_type": "code",
   "execution_count": null,
   "id": "a61ec083",
   "metadata": {},
   "outputs": [],
   "source": [
    "# Applying to the whole DF -> one argument\n",
    "df_100[\"new_column_condition\"] = df_100.apply(lambda x: x[\"region\"] if x[\"region\"].startswith(\"A\") else \"doesnt with A\", axis=1)"
   ]
  },
  {
   "cell_type": "code",
   "execution_count": null,
   "id": "8ed5f64c",
   "metadata": {},
   "outputs": [],
   "source": [
    "df_100.sample()"
   ]
  },
  {
   "cell_type": "code",
   "execution_count": null,
   "id": "e0241e18",
   "metadata": {},
   "outputs": [],
   "source": [
    "# Applying to the whole DF -> using two things of tha one argument\n",
    "df_100[\"new_column_condition\"] = df_100.apply(lambda x: x[\"region\"] if x[\"year\"] > 2015 else \"previous\", axis=1)"
   ]
  },
  {
   "cell_type": "code",
   "execution_count": null,
   "id": "2dd443b7",
   "metadata": {},
   "outputs": [],
   "source": [
    "df_100.sample()"
   ]
  },
  {
   "cell_type": "code",
   "execution_count": null,
   "id": "0d70e2c5",
   "metadata": {},
   "outputs": [],
   "source": [
    "# Pass a function to a lambda\n",
    "\n",
    "def return_werid_things (n, x):\n",
    "    if n.startswith(\"A\"):\n",
    "        return n\n",
    "    return x"
   ]
  },
  {
   "cell_type": "code",
   "execution_count": null,
   "id": "574751c5",
   "metadata": {},
   "outputs": [],
   "source": [
    "return_werid_things (\"Albany\", \"Not an A\")"
   ]
  },
  {
   "cell_type": "code",
   "execution_count": null,
   "id": "0203991a",
   "metadata": {},
   "outputs": [],
   "source": [
    "df_100[\"new_weird_column\"] = df_100[\"region\"].apply(lambda x: (return_werid_things(x, \"Not an A\")))"
   ]
  },
  {
   "cell_type": "code",
   "execution_count": null,
   "id": "d4732b47",
   "metadata": {},
   "outputs": [],
   "source": [
    "df_100.sample()"
   ]
  },
  {
   "cell_type": "code",
   "execution_count": null,
   "id": "ce4dfab2",
   "metadata": {},
   "outputs": [],
   "source": [
    "# Apply to a series\n",
    "    # user-defined \n",
    "    # lambda\n",
    "        # built-in\n",
    "# Apply to the whole dataframe\n",
    "    # the same\n",
    "    \n",
    "# Include lambdas & functions"
   ]
  },
  {
   "cell_type": "markdown",
   "id": "occupational-intro",
   "metadata": {},
   "source": [
    "## Df .loc & .iloc"
   ]
  },
  {
   "cell_type": "markdown",
   "id": "2510cb04",
   "metadata": {
    "lang": "en"
   },
   "source": [
    "### Select rows and columns in Pandas by position with iloc"
   ]
  },
  {
   "cell_type": "markdown",
   "id": "184d0d9b",
   "metadata": {
    "lang": "en"
   },
   "source": [
    "loc syntax with multiple conditions\n",
    "```python\n",
    "df.loc[(df[\"column\"] condition) & (df[\"column\"] condition)]\n",
    "````"
   ]
  },
  {
   "cell_type": "markdown",
   "id": "c0b495bd",
   "metadata": {
    "lang": "en"
   },
   "source": [
    "The iloc method is used on DataFrames to select elements based on their location. Its syntax is data.iloc[<filas>, <columnas>], where <filas> and <columnas> are the position of the rows and columns that you want to select in the order that they appear in the object. A familiar notation for Matlab users. In a DataFrame, each of the rows has a number that goes from 0 to the total number of rows minus one. Being iloc the method that allows selecting the data based on these numbers. The same applies to columns.\n",
    "\n",
    "In iloc there are two arguments rows and columns. In case the second is omitted, all columns in the row will be selected. So to select different rows can be used."
   ]
  },
  {
   "cell_type": "markdown",
   "id": "642e2963",
   "metadata": {
    "lang": "en"
   },
   "source": [
    "### Select rows and columns in Pandas based on labels with loc\n",
    "The loc method can be used in two different ways: select rows or columns based on a label, or select rows or columns based on a condition."
   ]
  },
  {
   "cell_type": "code",
   "execution_count": null,
   "id": "0c2fd24e",
   "metadata": {},
   "outputs": [],
   "source": [
    "df_100.sample()"
   ]
  },
  {
   "cell_type": "code",
   "execution_count": null,
   "id": "c92594b5",
   "metadata": {},
   "outputs": [],
   "source": [
    "df_series_random = df_100.loc[16095]"
   ]
  },
  {
   "cell_type": "code",
   "execution_count": null,
   "id": "dfa8bf28",
   "metadata": {},
   "outputs": [],
   "source": [
    "df_series_random"
   ]
  },
  {
   "cell_type": "code",
   "execution_count": null,
   "id": "6d71b6ad",
   "metadata": {},
   "outputs": [],
   "source": [
    "df_100[5:10]"
   ]
  },
  {
   "cell_type": "markdown",
   "id": "e992e0aa",
   "metadata": {
    "lang": "en"
   },
   "source": [
    "#### Based on label"
   ]
  },
  {
   "cell_type": "code",
   "execution_count": null,
   "id": "77e208ab",
   "metadata": {
    "scrolled": true
   },
   "outputs": [],
   "source": [
    "df_100.loc[df_100[\"region\"] == \"California\"]"
   ]
  },
  {
   "cell_type": "code",
   "execution_count": null,
   "id": "8815085b",
   "metadata": {},
   "outputs": [],
   "source": [
    "df_100.loc[5045]"
   ]
  },
  {
   "cell_type": "markdown",
   "id": "71547174",
   "metadata": {
    "lang": "en"
   },
   "source": [
    "## Order a dataframe"
   ]
  },
  {
   "cell_type": "code",
   "execution_count": null,
   "id": "2731a30b",
   "metadata": {},
   "outputs": [],
   "source": [
    "df_100.head(5)"
   ]
  },
  {
   "cell_type": "code",
   "execution_count": null,
   "id": "d8c71b99",
   "metadata": {},
   "outputs": [],
   "source": [
    "df_100.sort_values(by=\"Total Volume\", ascending=True).head(5)"
   ]
  },
  {
   "cell_type": "markdown",
   "id": "ec024b5f",
   "metadata": {
    "lang": "en"
   },
   "source": [
    "Same operation, but give me only concrete columns"
   ]
  },
  {
   "cell_type": "code",
   "execution_count": null,
   "id": "4f9bde61",
   "metadata": {
    "scrolled": true
   },
   "outputs": [],
   "source": [
    "df_100_new = df_100.loc[(df_100[\"year\"] > 2016) & (df_100[\"region\"] != \"Albany\")]\n",
    "df_100_new.sample()"
   ]
  },
  {
   "cell_type": "markdown",
   "id": "b2da7dac",
   "metadata": {
    "lang": "en"
   },
   "source": [
    "### Look for null values"
   ]
  },
  {
   "cell_type": "code",
   "execution_count": null,
   "id": "5ae1f179",
   "metadata": {},
   "outputs": [],
   "source": [
    "import seaborn as sns\n",
    "df_titanic = sns.load_dataset(\"titanic\")\n",
    "df_titanic"
   ]
  },
  {
   "cell_type": "code",
   "execution_count": null,
   "id": "e64fa546",
   "metadata": {},
   "outputs": [],
   "source": [
    "df_titanic.info()"
   ]
  },
  {
   "cell_type": "code",
   "execution_count": null,
   "id": "735d7bb5",
   "metadata": {},
   "outputs": [],
   "source": [
    "df_titanic.describe()"
   ]
  },
  {
   "cell_type": "markdown",
   "id": "5799f8c3",
   "metadata": {
    "lang": "en"
   },
   "source": [
    "#### It is null?\n",
    "\n",
    "`pd.isna()` == `pd.isnull()`"
   ]
  },
  {
   "cell_type": "code",
   "execution_count": null,
   "id": "795ba48e",
   "metadata": {},
   "outputs": [],
   "source": [
    "df_titanic.isnull()"
   ]
  },
  {
   "cell_type": "code",
   "execution_count": null,
   "id": "b433e8d0",
   "metadata": {},
   "outputs": [],
   "source": [
    "df_titanic.isna()"
   ]
  },
  {
   "cell_type": "markdown",
   "id": "0ecb33c3",
   "metadata": {
    "lang": "en"
   },
   "source": [
    "#### Is NOT null?"
   ]
  },
  {
   "cell_type": "code",
   "execution_count": null,
   "id": "involved-private",
   "metadata": {},
   "outputs": [],
   "source": [
    "df_titanic.notnull().sum()"
   ]
  },
  {
   "cell_type": "markdown",
   "id": "f613b0e2",
   "metadata": {
    "lang": "en"
   },
   "source": [
    "#### Sum the null values ​​of each column"
   ]
  },
  {
   "cell_type": "code",
   "execution_count": null,
   "id": "disciplinary-finder",
   "metadata": {},
   "outputs": [],
   "source": [
    "df_titanic.isna().sum()"
   ]
  },
  {
   "cell_type": "markdown",
   "id": "e4d38c63",
   "metadata": {
    "lang": "en"
   },
   "source": [
    "### delete null values\n",
    "There are several ways to do this, we take into account the \"how\" parameter and of course [the docs](https://pandas.pydata.org/pandas-docs/stable/reference/api/pandas.DataFrame.dropna.html)."
   ]
  },
  {
   "cell_type": "code",
   "execution_count": null,
   "id": "57d2f2f6",
   "metadata": {},
   "outputs": [],
   "source": [
    "df_t_copy = df_titanic.copy()\n",
    "df_t_copy"
   ]
  },
  {
   "cell_type": "code",
   "execution_count": null,
   "id": "5ab4fba5",
   "metadata": {},
   "outputs": [],
   "source": [
    "df_t_copy"
   ]
  },
  {
   "cell_type": "markdown",
   "id": "68dbac5b",
   "metadata": {
    "lang": "en"
   },
   "source": [
    "REMEMBER THAT INPLACE TRUE IS FOR THE METHOD TO ACTION ON THE DF, IF NOT, I HAVE TO SAVE IT IN A NEW VARIABLE"
   ]
  },
  {
   "cell_type": "markdown",
   "id": "c23f12eb",
   "metadata": {
    "lang": "en"
   },
   "source": [
    "With \"any\" (parameter that comes by default so be careful not to put anything) all the records in which there is a NaN in any column are deleted"
   ]
  },
  {
   "cell_type": "code",
   "execution_count": null,
   "id": "eae51159",
   "metadata": {},
   "outputs": [],
   "source": [
    "# Nans: how many\n",
    "\n",
    "    # how: any, all\n",
    "    # thresh: exclusive with how\n",
    "    \n",
    "#https://pandas.pydata.org/docs/reference/api/pandas.DataFrame.dropna.html?highlight=dropna#pandas.DataFrame.dropna"
   ]
  },
  {
   "cell_type": "code",
   "execution_count": null,
   "id": "491cce98",
   "metadata": {},
   "outputs": [],
   "source": [
    "df_t_copy.dropna(axis=0, inplace=True, how=\"all\")\n",
    "df_t_copy.dropna(axis=0, inplace=True, how=\"any\") #ONE VALUE IS MISSING, DROP THE WHOLE THING\n",
    "\n",
    "\n",
    "# drop the rows where at least ANY value missing value\n",
    "# drop where EVERY value in that row is missing"
   ]
  },
  {
   "cell_type": "code",
   "execution_count": null,
   "id": "d636e2c7",
   "metadata": {},
   "outputs": [],
   "source": [
    "#Dropping missing values where there's ANY\n",
    "\n",
    "df_t_copy_any = df_titanic.copy()\n",
    "\n",
    "df_t_copy_any.dropna(axis=0, inplace=True, how=\"any\")\n",
    "df_t_copy_any.shape"
   ]
  },
  {
   "cell_type": "code",
   "execution_count": null,
   "id": "0c274684",
   "metadata": {},
   "outputs": [],
   "source": [
    "#Dropping missing values where there's ALL\n",
    "\n",
    "df_t_copy_all = df_titanic.copy()\n",
    "\n",
    "df_t_copy_all.dropna(axis=0, inplace=True, how=\"all\")\n",
    "df_t_copy_all.shape"
   ]
  },
  {
   "cell_type": "code",
   "execution_count": null,
   "id": "6b661df7",
   "metadata": {},
   "outputs": [],
   "source": [
    "df_titanic.isna().sum()"
   ]
  },
  {
   "cell_type": "code",
   "execution_count": null,
   "id": "dc82e5cd",
   "metadata": {},
   "outputs": [],
   "source": [
    "#Q Marc Planas: SUSBSET: missing values in both columns\n",
    "df_t_copy_subset = df_titanic.copy()\n",
    "\n",
    "df_t_copy_subset.dropna(axis=0, inplace=True, how=\"all\", subset=[\"age\", \"deck\"])\n",
    "df_t_copy_subset.shape"
   ]
  },
  {
   "cell_type": "code",
   "execution_count": null,
   "id": "91772c64",
   "metadata": {},
   "outputs": [],
   "source": [
    "#Q Marc Planas: SUSBSET: missing values in a given column\n",
    "df_t_copy_subset = df_titanic.copy()\n",
    "\n",
    "df_t_copy_subset.dropna(axis=0, inplace=True, how=\"all\", subset=[\"age\", \"deck\", \"embark_town\", \"embarked\"])\n",
    "df_t_copy_subset.shape"
   ]
  },
  {
   "cell_type": "code",
   "execution_count": null,
   "id": "855c1842",
   "metadata": {},
   "outputs": [],
   "source": [
    "#Q Marc Planas: SUSBSET: missing values in a given column\n",
    "df_t_copy_subset = df_titanic.copy()\n",
    "\n",
    "df_t_copy_subset.dropna(axis=0, inplace=True, how=\"any\", subset=[\"embark_town\", \"embarked\"])\n",
    "df_t_copy_subset.shape"
   ]
  },
  {
   "cell_type": "code",
   "execution_count": null,
   "id": "ee1490f9",
   "metadata": {},
   "outputs": [],
   "source": [
    "print(list(df_titanic.columns))"
   ]
  },
  {
   "cell_type": "code",
   "execution_count": null,
   "id": "fb9ab9a1",
   "metadata": {},
   "outputs": [],
   "source": [
    "subset_titanic = df_titanic[['pclass',\n",
    " 'sex',\n",
    " 'age',\n",
    " 'sibsp',\n",
    " 'parch',\n",
    " 'fare',\n",
    " 'embarked',\n",
    " 'class',\n",
    " 'who',\n",
    " 'adult_male',\n",
    " 'deck',\n",
    " 'embark_town',\n",
    " 'alive',\n",
    " 'alone']]\n",
    "\n",
    "subset_titanic.sample()"
   ]
  },
  {
   "cell_type": "code",
   "execution_count": null,
   "id": "261bb1e1",
   "metadata": {},
   "outputs": [],
   "source": [
    "df = pd.DataFrame({\"name\": ['Alfred', 'Batman', 'Catwoman'],\n",
    "                   \"toy\": [np.nan, 'Batmobile', 'Bullwhip'],\n",
    "                   \"born\": [pd.NaT, pd.Timestamp(\"1940-04-25\"),\n",
    "                            pd.NaT]})"
   ]
  },
  {
   "cell_type": "code",
   "execution_count": null,
   "id": "4e34f26d",
   "metadata": {},
   "outputs": [],
   "source": [
    "df.dropna(thresh=2)"
   ]
  },
  {
   "cell_type": "code",
   "execution_count": null,
   "id": "c8e3678c",
   "metadata": {},
   "outputs": [],
   "source": [
    "# Thresh: number of values not empty\n",
    "df_t_copy_thresh = df_titanic.copy()\n",
    "df_t_copy_thresh.isna().sum()"
   ]
  },
  {
   "cell_type": "code",
   "execution_count": null,
   "id": "b8a0673f",
   "metadata": {},
   "outputs": [],
   "source": [
    "df_t_copy_thresh.dropna(axis=0, inplace=True, thresh=15) #Set it to 13, 14 & 15\n",
    "df_t_copy_thresh.shape"
   ]
  },
  {
   "cell_type": "code",
   "execution_count": null,
   "id": "bb100cef",
   "metadata": {},
   "outputs": [],
   "source": [
    "df_t_copy_thresh.isna().sum()"
   ]
  },
  {
   "cell_type": "code",
   "execution_count": null,
   "id": "349d5b13",
   "metadata": {
    "scrolled": true
   },
   "outputs": [],
   "source": [
    "df_t_copy.shape"
   ]
  },
  {
   "cell_type": "code",
   "execution_count": null,
   "id": "3f5da374",
   "metadata": {},
   "outputs": [],
   "source": [
    "df_titanic.shape"
   ]
  },
  {
   "cell_type": "markdown",
   "id": "6a782576",
   "metadata": {
    "lang": "en"
   },
   "source": [
    "### How to fill in the missing data"
   ]
  },
  {
   "cell_type": "markdown",
   "id": "3718df0e",
   "metadata": {
    "lang": "en"
   },
   "source": [
    "How about a little [documentation](https://pandas.pydata.org/docs/reference/api/pandas.DataFrame.fillna.html)?"
   ]
  },
  {
   "cell_type": "code",
   "execution_count": null,
   "id": "neural-brown",
   "metadata": {},
   "outputs": [],
   "source": [
    "df_titanic_age = df_titanic.copy()\n",
    "df_titanic_age.sample()"
   ]
  },
  {
   "cell_type": "code",
   "execution_count": null,
   "id": "6fc102a2",
   "metadata": {},
   "outputs": [],
   "source": [
    "df_titanic_age.isna().sum()"
   ]
  },
  {
   "cell_type": "code",
   "execution_count": null,
   "id": "a587fbf9",
   "metadata": {},
   "outputs": [],
   "source": [
    "mean_age = df_titanic_age[\"age\"].mean()\n",
    "mean_age"
   ]
  },
  {
   "cell_type": "code",
   "execution_count": null,
   "id": "f29613e5",
   "metadata": {},
   "outputs": [],
   "source": [
    "# generate random numbers in a given range"
   ]
  },
  {
   "cell_type": "code",
   "execution_count": null,
   "id": "1a36b6e4",
   "metadata": {},
   "outputs": [],
   "source": [
    "df_titanic_age[\"age\"].fillna(mean_age, inplace=True)"
   ]
  },
  {
   "cell_type": "code",
   "execution_count": null,
   "id": "77018b55",
   "metadata": {},
   "outputs": [],
   "source": [
    "df_titanic_age[\"age\"].mean()"
   ]
  },
  {
   "cell_type": "code",
   "execution_count": null,
   "id": "c4696e3b",
   "metadata": {},
   "outputs": [],
   "source": [
    "df_titanic_age.isna().sum()"
   ]
  },
  {
   "cell_type": "markdown",
   "id": "c0f74ea1",
   "metadata": {
    "lang": "en"
   },
   "source": [
    "##### CATEGORIES IN DATAFRAME: DOCUMENTATION\n",
    "https://runebook.dev/en/docs/pandas/user_guide/categorical"
   ]
  },
  {
   "cell_type": "markdown",
   "id": "ef5b7fef",
   "metadata": {
    "lang": "en"
   },
   "source": [
    "## We delete the duplicates"
   ]
  },
  {
   "cell_type": "markdown",
   "id": "0d0d1b96",
   "metadata": {},
   "source": [
    "[Read the docs](https://pandas.pydata.org/docs/reference/api/pandas.DataFrame.duplicated.html)"
   ]
  },
  {
   "cell_type": "code",
   "execution_count": null,
   "id": "settled-february",
   "metadata": {},
   "outputs": [],
   "source": [
    "df_titanic.duplicated().sum()"
   ]
  },
  {
   "cell_type": "code",
   "execution_count": null,
   "id": "0038f568",
   "metadata": {
    "scrolled": true
   },
   "outputs": [],
   "source": [
    "df_titanic.drop_duplicates()"
   ]
  },
  {
   "cell_type": "code",
   "execution_count": null,
   "id": "2e483055",
   "metadata": {},
   "outputs": [],
   "source": [
    "df_titanic.shape"
   ]
  },
  {
   "cell_type": "code",
   "execution_count": null,
   "id": "8c5ad016",
   "metadata": {},
   "outputs": [],
   "source": [
    "# You want BOTH entries where it has been duplicated"
   ]
  },
  {
   "cell_type": "code",
   "execution_count": null,
   "id": "22f9b998",
   "metadata": {},
   "outputs": [],
   "source": [
    "df_titanic.drop_duplicates(inplace=True, keep=False)\n",
    "df_titanic.shape"
   ]
  },
  {
   "cell_type": "markdown",
   "id": "c51e74f4",
   "metadata": {
    "lang": "en"
   },
   "source": [
    "## Data aggregation\n",
    "### GroupBy & pivot_table\n",
    "Pandas GroupBy is a powerful and versatile function in Python. It allows us to split your data into separate groups to perform calculations for better analysis.\n",
    "A DataFrame can be grouped on its rows (axis=0) or on its columns (axis=1). Once this is done, a function is applied to each group, producing a new value. Finally, the results of all those function applications are combined into a result object. The shape of the resulting object will usually depend on what is done with the data."
   ]
  },
  {
   "cell_type": "code",
   "execution_count": null,
   "id": "8db6707f",
   "metadata": {},
   "outputs": [],
   "source": [
    "df_100.sample()"
   ]
  },
  {
   "cell_type": "code",
   "execution_count": null,
   "id": "143b5667",
   "metadata": {},
   "outputs": [],
   "source": [
    "df = pd.DataFrame({'key1' : ['a', 'a', 'b', 'b', 'a'], \n",
    "                   'key2' : ['one', 'two', 'one', 'two', 'one'],\n",
    "                   'data1' : np.random.randn(5),\n",
    "                   'data2' : np.random.randn(5)})\n",
    "df"
   ]
  },
  {
   "cell_type": "markdown",
   "id": "a50c2b5d",
   "metadata": {},
   "source": [
    "`CUANTITATIVE.groupby(CATEGORICAL).calculation()`"
   ]
  },
  {
   "cell_type": "code",
   "execution_count": null,
   "id": "95125267",
   "metadata": {},
   "outputs": [],
   "source": [
    "df[\"data1\"].groupby(df[\"key1\"]).mean()"
   ]
  },
  {
   "cell_type": "code",
   "execution_count": null,
   "id": "c0b42515",
   "metadata": {},
   "outputs": [],
   "source": [
    "df[\"data1\"].groupby(df[\"key1\"]).count()"
   ]
  },
  {
   "cell_type": "markdown",
   "id": "surprised-malpractice",
   "metadata": {},
   "source": [
    "https://pandas.pydata.org/docs/reference/api/pandas.DataFrame.groupby.html"
   ]
  },
  {
   "cell_type": "markdown",
   "id": "1d23b8f4",
   "metadata": {
    "lang": "en"
   },
   "source": [
    "Another way to groupby with agg syntax\n",
    "https://pandas.pydata.org/docs/reference/api/pandas.core.groupby.DataFrameGroupBy.aggregate.html\n",
    "\n",
    "- mean\n",
    "- sum\n",
    "-count"
   ]
  },
  {
   "cell_type": "code",
   "execution_count": null,
   "id": "standing-japanese",
   "metadata": {},
   "outputs": [],
   "source": [
    "df.groupby(\"key1\").agg({\"data1\":\"mean\", \"data2\":\"sum\"})"
   ]
  },
  {
   "cell_type": "markdown",
   "id": "0acc8190",
   "metadata": {
    "lang": "en"
   },
   "source": [
    "Suppose we want to calculate the mean of column data1 using the labels of key1. There are several ways to do it. One is to access data1 and call groupby with the column (a String) in key1.\n",
    "The data (a Series) has been aggregated based on the group key, producing a new String that is now indexed by the unique values ​​of the key1 column. The resulting index has the name 'key1' because the DataFrame column `df['key1']` did."
   ]
  },
  {
   "cell_type": "markdown",
   "id": "98323255",
   "metadata": {},
   "source": [
    "# RECAP\n",
    "\n",
    "- Exploratory Data analysis - EDA\n",
    "    - Knowing what it is you have: qty, data structure, missing values\n",
    "    - Understand the domain of what you have\n",
    "    - Descriptive statistics of everything: idea\n",
    "- Cleaning\n",
    "    - easy to work with\n",
    "    - standarized somehow: same\n",
    "        - man, woman, Women, a man -> man / women\n",
    "    - cities -> states\n",
    "        - Albany, Springfield -> grouping into states\n",
    "    - strings\n",
    "    - handling missing values / Nan\n",
    "        - drop, input, ignore\n",
    "- create new columns\n",
    "- include more info: adding dataframes together\n",
    "- visualize\n",
    "- up to you and to the task\n",
    "- csv, jsons and sql"
   ]
  },
  {
   "cell_type": "markdown",
   "id": "10d3eb62",
   "metadata": {
    "lang": "en"
   },
   "source": [
    "### Union of Dataframes\n",
    "- https://realpython.com/pandas-merge-join-and-concat/\n",
    "- https://pandas.pydata.org/pandas-docs/stable/user_guide/merging.html\n",
    "\n",
    "\n",
    "### Concat\n",
    "We join dataframes along axis 0 one below the other. Align columns by label."
   ]
  },
  {
   "cell_type": "code",
   "execution_count": 485,
   "id": "ac484cd6",
   "metadata": {
    "scrolled": false
   },
   "outputs": [],
   "source": [
    "df = pd.read_csv('https://raw.githubusercontent.com/justmarkham/DAT8/master/data/u.user',\n",
    "                             sep='|', \n",
    "                             index_col='user_id')"
   ]
  },
  {
   "cell_type": "code",
   "execution_count": 490,
   "id": "52703eb9",
   "metadata": {},
   "outputs": [
    {
     "data": {
      "text/html": [
       "<div>\n",
       "<style scoped>\n",
       "    .dataframe tbody tr th:only-of-type {\n",
       "        vertical-align: middle;\n",
       "    }\n",
       "\n",
       "    .dataframe tbody tr th {\n",
       "        vertical-align: top;\n",
       "    }\n",
       "\n",
       "    .dataframe thead th {\n",
       "        text-align: right;\n",
       "    }\n",
       "</style>\n",
       "<table border=\"1\" class=\"dataframe\">\n",
       "  <thead>\n",
       "    <tr style=\"text-align: right;\">\n",
       "      <th></th>\n",
       "      <th>age</th>\n",
       "      <th>gender</th>\n",
       "      <th>occupation</th>\n",
       "      <th>zip_code</th>\n",
       "    </tr>\n",
       "    <tr>\n",
       "      <th>user_id</th>\n",
       "      <th></th>\n",
       "      <th></th>\n",
       "      <th></th>\n",
       "      <th></th>\n",
       "    </tr>\n",
       "  </thead>\n",
       "  <tbody>\n",
       "    <tr>\n",
       "      <th>1</th>\n",
       "      <td>24</td>\n",
       "      <td>M</td>\n",
       "      <td>technician</td>\n",
       "      <td>85711</td>\n",
       "    </tr>\n",
       "    <tr>\n",
       "      <th>2</th>\n",
       "      <td>53</td>\n",
       "      <td>F</td>\n",
       "      <td>other</td>\n",
       "      <td>94043</td>\n",
       "    </tr>\n",
       "    <tr>\n",
       "      <th>3</th>\n",
       "      <td>23</td>\n",
       "      <td>M</td>\n",
       "      <td>writer</td>\n",
       "      <td>32067</td>\n",
       "    </tr>\n",
       "    <tr>\n",
       "      <th>4</th>\n",
       "      <td>24</td>\n",
       "      <td>M</td>\n",
       "      <td>technician</td>\n",
       "      <td>43537</td>\n",
       "    </tr>\n",
       "    <tr>\n",
       "      <th>5</th>\n",
       "      <td>33</td>\n",
       "      <td>F</td>\n",
       "      <td>other</td>\n",
       "      <td>15213</td>\n",
       "    </tr>\n",
       "  </tbody>\n",
       "</table>\n",
       "</div>"
      ],
      "text/plain": [
       "         age gender  occupation zip_code\n",
       "user_id                                 \n",
       "1         24      M  technician    85711\n",
       "2         53      F       other    94043\n",
       "3         23      M      writer    32067\n",
       "4         24      M  technician    43537\n",
       "5         33      F       other    15213"
      ]
     },
     "execution_count": 490,
     "metadata": {},
     "output_type": "execute_result"
    }
   ],
   "source": [
    "df.head()"
   ]
  },
  {
   "cell_type": "code",
   "execution_count": 500,
   "id": "0b4ff4da",
   "metadata": {},
   "outputs": [
    {
     "data": {
      "text/html": [
       "<div>\n",
       "<style scoped>\n",
       "    .dataframe tbody tr th:only-of-type {\n",
       "        vertical-align: middle;\n",
       "    }\n",
       "\n",
       "    .dataframe tbody tr th {\n",
       "        vertical-align: top;\n",
       "    }\n",
       "\n",
       "    .dataframe thead th {\n",
       "        text-align: right;\n",
       "    }\n",
       "</style>\n",
       "<table border=\"1\" class=\"dataframe\">\n",
       "  <thead>\n",
       "    <tr style=\"text-align: right;\">\n",
       "      <th></th>\n",
       "      <th>age</th>\n",
       "      <th>gender</th>\n",
       "      <th>occupation</th>\n",
       "      <th>zip_code</th>\n",
       "    </tr>\n",
       "    <tr>\n",
       "      <th>user_id</th>\n",
       "      <th></th>\n",
       "      <th></th>\n",
       "      <th></th>\n",
       "      <th></th>\n",
       "    </tr>\n",
       "  </thead>\n",
       "  <tbody>\n",
       "    <tr>\n",
       "      <th>396</th>\n",
       "      <td>57</td>\n",
       "      <td>M</td>\n",
       "      <td>engineer</td>\n",
       "      <td>94551</td>\n",
       "    </tr>\n",
       "    <tr>\n",
       "      <th>868</th>\n",
       "      <td>21</td>\n",
       "      <td>M</td>\n",
       "      <td>programmer</td>\n",
       "      <td>55303</td>\n",
       "    </tr>\n",
       "    <tr>\n",
       "      <th>170</th>\n",
       "      <td>53</td>\n",
       "      <td>F</td>\n",
       "      <td>healthcare</td>\n",
       "      <td>30067</td>\n",
       "    </tr>\n",
       "    <tr>\n",
       "      <th>665</th>\n",
       "      <td>25</td>\n",
       "      <td>M</td>\n",
       "      <td>administrator</td>\n",
       "      <td>55412</td>\n",
       "    </tr>\n",
       "    <tr>\n",
       "      <th>734</th>\n",
       "      <td>25</td>\n",
       "      <td>F</td>\n",
       "      <td>other</td>\n",
       "      <td>63108</td>\n",
       "    </tr>\n",
       "  </tbody>\n",
       "</table>\n",
       "</div>"
      ],
      "text/plain": [
       "         age gender     occupation zip_code\n",
       "user_id                                    \n",
       "396       57      M       engineer    94551\n",
       "868       21      M     programmer    55303\n",
       "170       53      F     healthcare    30067\n",
       "665       25      M  administrator    55412\n",
       "734       25      F          other    63108"
      ]
     },
     "execution_count": 500,
     "metadata": {},
     "output_type": "execute_result"
    }
   ],
   "source": [
    "first_df.head(5) #needs to be an int"
   ]
  },
  {
   "cell_type": "code",
   "execution_count": 515,
   "id": "b01f6aeb",
   "metadata": {},
   "outputs": [],
   "source": [
    "first_df = df.sample(frac=0.01)\n",
    "second_df = df.sample(frac=0.01)"
   ]
  },
  {
   "cell_type": "code",
   "execution_count": 521,
   "id": "94a7619f",
   "metadata": {},
   "outputs": [
    {
     "data": {
      "text/html": [
       "<div>\n",
       "<style scoped>\n",
       "    .dataframe tbody tr th:only-of-type {\n",
       "        vertical-align: middle;\n",
       "    }\n",
       "\n",
       "    .dataframe tbody tr th {\n",
       "        vertical-align: top;\n",
       "    }\n",
       "\n",
       "    .dataframe thead th {\n",
       "        text-align: right;\n",
       "    }\n",
       "</style>\n",
       "<table border=\"1\" class=\"dataframe\">\n",
       "  <thead>\n",
       "    <tr style=\"text-align: right;\">\n",
       "      <th></th>\n",
       "      <th>age</th>\n",
       "      <th>gender</th>\n",
       "      <th>occupation</th>\n",
       "      <th>zip_code</th>\n",
       "    </tr>\n",
       "    <tr>\n",
       "      <th>user_id</th>\n",
       "      <th></th>\n",
       "      <th></th>\n",
       "      <th></th>\n",
       "      <th></th>\n",
       "    </tr>\n",
       "  </thead>\n",
       "  <tbody>\n",
       "    <tr>\n",
       "      <th>716</th>\n",
       "      <td>36</td>\n",
       "      <td>F</td>\n",
       "      <td>administrator</td>\n",
       "      <td>44265</td>\n",
       "    </tr>\n",
       "    <tr>\n",
       "      <th>914</th>\n",
       "      <td>44</td>\n",
       "      <td>F</td>\n",
       "      <td>other</td>\n",
       "      <td>08105</td>\n",
       "    </tr>\n",
       "    <tr>\n",
       "      <th>572</th>\n",
       "      <td>51</td>\n",
       "      <td>M</td>\n",
       "      <td>educator</td>\n",
       "      <td>20003</td>\n",
       "    </tr>\n",
       "    <tr>\n",
       "      <th>267</th>\n",
       "      <td>23</td>\n",
       "      <td>M</td>\n",
       "      <td>engineer</td>\n",
       "      <td>83716</td>\n",
       "    </tr>\n",
       "    <tr>\n",
       "      <th>290</th>\n",
       "      <td>40</td>\n",
       "      <td>M</td>\n",
       "      <td>engineer</td>\n",
       "      <td>93550</td>\n",
       "    </tr>\n",
       "    <tr>\n",
       "      <th>348</th>\n",
       "      <td>24</td>\n",
       "      <td>F</td>\n",
       "      <td>student</td>\n",
       "      <td>45660</td>\n",
       "    </tr>\n",
       "    <tr>\n",
       "      <th>467</th>\n",
       "      <td>29</td>\n",
       "      <td>M</td>\n",
       "      <td>engineer</td>\n",
       "      <td>91201</td>\n",
       "    </tr>\n",
       "    <tr>\n",
       "      <th>2</th>\n",
       "      <td>53</td>\n",
       "      <td>F</td>\n",
       "      <td>other</td>\n",
       "      <td>94043</td>\n",
       "    </tr>\n",
       "    <tr>\n",
       "      <th>702</th>\n",
       "      <td>37</td>\n",
       "      <td>M</td>\n",
       "      <td>other</td>\n",
       "      <td>89104</td>\n",
       "    </tr>\n",
       "  </tbody>\n",
       "</table>\n",
       "</div>"
      ],
      "text/plain": [
       "         age gender     occupation zip_code\n",
       "user_id                                    \n",
       "716       36      F  administrator    44265\n",
       "914       44      F          other    08105\n",
       "572       51      M       educator    20003\n",
       "267       23      M       engineer    83716\n",
       "290       40      M       engineer    93550\n",
       "348       24      F        student    45660\n",
       "467       29      M       engineer    91201\n",
       "2         53      F          other    94043\n",
       "702       37      M          other    89104"
      ]
     },
     "execution_count": 521,
     "metadata": {},
     "output_type": "execute_result"
    }
   ],
   "source": [
    "first_df\n",
    "#first_df.shape"
   ]
  },
  {
   "cell_type": "code",
   "execution_count": 522,
   "id": "b406295c",
   "metadata": {},
   "outputs": [
    {
     "data": {
      "text/html": [
       "<div>\n",
       "<style scoped>\n",
       "    .dataframe tbody tr th:only-of-type {\n",
       "        vertical-align: middle;\n",
       "    }\n",
       "\n",
       "    .dataframe tbody tr th {\n",
       "        vertical-align: top;\n",
       "    }\n",
       "\n",
       "    .dataframe thead th {\n",
       "        text-align: right;\n",
       "    }\n",
       "</style>\n",
       "<table border=\"1\" class=\"dataframe\">\n",
       "  <thead>\n",
       "    <tr style=\"text-align: right;\">\n",
       "      <th></th>\n",
       "      <th>age</th>\n",
       "      <th>gender</th>\n",
       "      <th>occupation</th>\n",
       "      <th>zip_code</th>\n",
       "    </tr>\n",
       "    <tr>\n",
       "      <th>user_id</th>\n",
       "      <th></th>\n",
       "      <th></th>\n",
       "      <th></th>\n",
       "      <th></th>\n",
       "    </tr>\n",
       "  </thead>\n",
       "  <tbody>\n",
       "    <tr>\n",
       "      <th>71</th>\n",
       "      <td>39</td>\n",
       "      <td>M</td>\n",
       "      <td>scientist</td>\n",
       "      <td>98034</td>\n",
       "    </tr>\n",
       "    <tr>\n",
       "      <th>636</th>\n",
       "      <td>47</td>\n",
       "      <td>M</td>\n",
       "      <td>educator</td>\n",
       "      <td>48043</td>\n",
       "    </tr>\n",
       "    <tr>\n",
       "      <th>363</th>\n",
       "      <td>20</td>\n",
       "      <td>M</td>\n",
       "      <td>student</td>\n",
       "      <td>87501</td>\n",
       "    </tr>\n",
       "    <tr>\n",
       "      <th>203</th>\n",
       "      <td>25</td>\n",
       "      <td>F</td>\n",
       "      <td>student</td>\n",
       "      <td>32301</td>\n",
       "    </tr>\n",
       "    <tr>\n",
       "      <th>17</th>\n",
       "      <td>30</td>\n",
       "      <td>M</td>\n",
       "      <td>programmer</td>\n",
       "      <td>06355</td>\n",
       "    </tr>\n",
       "    <tr>\n",
       "      <th>723</th>\n",
       "      <td>26</td>\n",
       "      <td>M</td>\n",
       "      <td>executive</td>\n",
       "      <td>94403</td>\n",
       "    </tr>\n",
       "    <tr>\n",
       "      <th>259</th>\n",
       "      <td>21</td>\n",
       "      <td>M</td>\n",
       "      <td>student</td>\n",
       "      <td>48823</td>\n",
       "    </tr>\n",
       "    <tr>\n",
       "      <th>366</th>\n",
       "      <td>20</td>\n",
       "      <td>F</td>\n",
       "      <td>student</td>\n",
       "      <td>50670</td>\n",
       "    </tr>\n",
       "    <tr>\n",
       "      <th>887</th>\n",
       "      <td>14</td>\n",
       "      <td>F</td>\n",
       "      <td>student</td>\n",
       "      <td>27249</td>\n",
       "    </tr>\n",
       "  </tbody>\n",
       "</table>\n",
       "</div>"
      ],
      "text/plain": [
       "         age gender  occupation zip_code\n",
       "user_id                                 \n",
       "71        39      M   scientist    98034\n",
       "636       47      M    educator    48043\n",
       "363       20      M     student    87501\n",
       "203       25      F     student    32301\n",
       "17        30      M  programmer    06355\n",
       "723       26      M   executive    94403\n",
       "259       21      M     student    48823\n",
       "366       20      F     student    50670\n",
       "887       14      F     student    27249"
      ]
     },
     "execution_count": 522,
     "metadata": {},
     "output_type": "execute_result"
    }
   ],
   "source": [
    "second_df\n",
    "#second_df.shape"
   ]
  },
  {
   "cell_type": "markdown",
   "id": "0ac7695b",
   "metadata": {},
   "source": [
    "#### Concatenating on axis 0 (rows)"
   ]
  },
  {
   "cell_type": "code",
   "execution_count": 525,
   "id": "65b7e547",
   "metadata": {
    "scrolled": false
   },
   "outputs": [
    {
     "data": {
      "text/html": [
       "<div>\n",
       "<style scoped>\n",
       "    .dataframe tbody tr th:only-of-type {\n",
       "        vertical-align: middle;\n",
       "    }\n",
       "\n",
       "    .dataframe tbody tr th {\n",
       "        vertical-align: top;\n",
       "    }\n",
       "\n",
       "    .dataframe thead th {\n",
       "        text-align: right;\n",
       "    }\n",
       "</style>\n",
       "<table border=\"1\" class=\"dataframe\">\n",
       "  <thead>\n",
       "    <tr style=\"text-align: right;\">\n",
       "      <th></th>\n",
       "      <th></th>\n",
       "      <th>age</th>\n",
       "      <th>gender</th>\n",
       "      <th>occupation</th>\n",
       "      <th>zip_code</th>\n",
       "    </tr>\n",
       "    <tr>\n",
       "      <th></th>\n",
       "      <th>user_id</th>\n",
       "      <th></th>\n",
       "      <th></th>\n",
       "      <th></th>\n",
       "      <th></th>\n",
       "    </tr>\n",
       "  </thead>\n",
       "  <tbody>\n",
       "    <tr>\n",
       "      <th rowspan=\"9\" valign=\"top\">first</th>\n",
       "      <th>716</th>\n",
       "      <td>36</td>\n",
       "      <td>F</td>\n",
       "      <td>administrator</td>\n",
       "      <td>44265</td>\n",
       "    </tr>\n",
       "    <tr>\n",
       "      <th>914</th>\n",
       "      <td>44</td>\n",
       "      <td>F</td>\n",
       "      <td>other</td>\n",
       "      <td>08105</td>\n",
       "    </tr>\n",
       "    <tr>\n",
       "      <th>572</th>\n",
       "      <td>51</td>\n",
       "      <td>M</td>\n",
       "      <td>educator</td>\n",
       "      <td>20003</td>\n",
       "    </tr>\n",
       "    <tr>\n",
       "      <th>267</th>\n",
       "      <td>23</td>\n",
       "      <td>M</td>\n",
       "      <td>engineer</td>\n",
       "      <td>83716</td>\n",
       "    </tr>\n",
       "    <tr>\n",
       "      <th>290</th>\n",
       "      <td>40</td>\n",
       "      <td>M</td>\n",
       "      <td>engineer</td>\n",
       "      <td>93550</td>\n",
       "    </tr>\n",
       "    <tr>\n",
       "      <th>348</th>\n",
       "      <td>24</td>\n",
       "      <td>F</td>\n",
       "      <td>student</td>\n",
       "      <td>45660</td>\n",
       "    </tr>\n",
       "    <tr>\n",
       "      <th>467</th>\n",
       "      <td>29</td>\n",
       "      <td>M</td>\n",
       "      <td>engineer</td>\n",
       "      <td>91201</td>\n",
       "    </tr>\n",
       "    <tr>\n",
       "      <th>2</th>\n",
       "      <td>53</td>\n",
       "      <td>F</td>\n",
       "      <td>other</td>\n",
       "      <td>94043</td>\n",
       "    </tr>\n",
       "    <tr>\n",
       "      <th>702</th>\n",
       "      <td>37</td>\n",
       "      <td>M</td>\n",
       "      <td>other</td>\n",
       "      <td>89104</td>\n",
       "    </tr>\n",
       "    <tr>\n",
       "      <th rowspan=\"9\" valign=\"top\">second</th>\n",
       "      <th>71</th>\n",
       "      <td>39</td>\n",
       "      <td>M</td>\n",
       "      <td>scientist</td>\n",
       "      <td>98034</td>\n",
       "    </tr>\n",
       "    <tr>\n",
       "      <th>636</th>\n",
       "      <td>47</td>\n",
       "      <td>M</td>\n",
       "      <td>educator</td>\n",
       "      <td>48043</td>\n",
       "    </tr>\n",
       "    <tr>\n",
       "      <th>363</th>\n",
       "      <td>20</td>\n",
       "      <td>M</td>\n",
       "      <td>student</td>\n",
       "      <td>87501</td>\n",
       "    </tr>\n",
       "    <tr>\n",
       "      <th>203</th>\n",
       "      <td>25</td>\n",
       "      <td>F</td>\n",
       "      <td>student</td>\n",
       "      <td>32301</td>\n",
       "    </tr>\n",
       "    <tr>\n",
       "      <th>17</th>\n",
       "      <td>30</td>\n",
       "      <td>M</td>\n",
       "      <td>programmer</td>\n",
       "      <td>06355</td>\n",
       "    </tr>\n",
       "    <tr>\n",
       "      <th>723</th>\n",
       "      <td>26</td>\n",
       "      <td>M</td>\n",
       "      <td>executive</td>\n",
       "      <td>94403</td>\n",
       "    </tr>\n",
       "    <tr>\n",
       "      <th>259</th>\n",
       "      <td>21</td>\n",
       "      <td>M</td>\n",
       "      <td>student</td>\n",
       "      <td>48823</td>\n",
       "    </tr>\n",
       "    <tr>\n",
       "      <th>366</th>\n",
       "      <td>20</td>\n",
       "      <td>F</td>\n",
       "      <td>student</td>\n",
       "      <td>50670</td>\n",
       "    </tr>\n",
       "    <tr>\n",
       "      <th>887</th>\n",
       "      <td>14</td>\n",
       "      <td>F</td>\n",
       "      <td>student</td>\n",
       "      <td>27249</td>\n",
       "    </tr>\n",
       "  </tbody>\n",
       "</table>\n",
       "</div>"
      ],
      "text/plain": [
       "                age gender     occupation zip_code\n",
       "       user_id                                    \n",
       "first  716       36      F  administrator    44265\n",
       "       914       44      F          other    08105\n",
       "       572       51      M       educator    20003\n",
       "       267       23      M       engineer    83716\n",
       "       290       40      M       engineer    93550\n",
       "       348       24      F        student    45660\n",
       "       467       29      M       engineer    91201\n",
       "       2         53      F          other    94043\n",
       "       702       37      M          other    89104\n",
       "second 71        39      M      scientist    98034\n",
       "       636       47      M       educator    48043\n",
       "       363       20      M        student    87501\n",
       "       203       25      F        student    32301\n",
       "       17        30      M     programmer    06355\n",
       "       723       26      M      executive    94403\n",
       "       259       21      M        student    48823\n",
       "       366       20      F        student    50670\n",
       "       887       14      F        student    27249"
      ]
     },
     "execution_count": 525,
     "metadata": {},
     "output_type": "execute_result"
    }
   ],
   "source": [
    "concatenated_axis_zero = pd.concat([first_df, second_df], axis=0, keys=[\"first\", \"second\"])\n",
    "concatenated_axis_zero"
   ]
  },
  {
   "cell_type": "code",
   "execution_count": 524,
   "id": "3434ae88",
   "metadata": {},
   "outputs": [
    {
     "data": {
      "text/plain": [
       "(18, 4)"
      ]
     },
     "execution_count": 524,
     "metadata": {},
     "output_type": "execute_result"
    }
   ],
   "source": [
    "concatenated_axis_zero.shape"
   ]
  },
  {
   "cell_type": "markdown",
   "id": "7b5d00f5",
   "metadata": {},
   "source": [
    "#### Concatenating on axis 1 (columns)"
   ]
  },
  {
   "cell_type": "code",
   "execution_count": 527,
   "id": "4f2d5680",
   "metadata": {},
   "outputs": [
    {
     "data": {
      "text/html": [
       "<div>\n",
       "<style scoped>\n",
       "    .dataframe tbody tr th:only-of-type {\n",
       "        vertical-align: middle;\n",
       "    }\n",
       "\n",
       "    .dataframe tbody tr th {\n",
       "        vertical-align: top;\n",
       "    }\n",
       "\n",
       "    .dataframe thead tr th {\n",
       "        text-align: left;\n",
       "    }\n",
       "\n",
       "    .dataframe thead tr:last-of-type th {\n",
       "        text-align: right;\n",
       "    }\n",
       "</style>\n",
       "<table border=\"1\" class=\"dataframe\">\n",
       "  <thead>\n",
       "    <tr>\n",
       "      <th></th>\n",
       "      <th colspan=\"4\" halign=\"left\">from the 1s</th>\n",
       "      <th colspan=\"4\" halign=\"left\">the 2nd</th>\n",
       "    </tr>\n",
       "    <tr>\n",
       "      <th></th>\n",
       "      <th>age</th>\n",
       "      <th>gender</th>\n",
       "      <th>occupation</th>\n",
       "      <th>zip_code</th>\n",
       "      <th>age</th>\n",
       "      <th>gender</th>\n",
       "      <th>occupation</th>\n",
       "      <th>zip_code</th>\n",
       "    </tr>\n",
       "    <tr>\n",
       "      <th>user_id</th>\n",
       "      <th></th>\n",
       "      <th></th>\n",
       "      <th></th>\n",
       "      <th></th>\n",
       "      <th></th>\n",
       "      <th></th>\n",
       "      <th></th>\n",
       "      <th></th>\n",
       "    </tr>\n",
       "  </thead>\n",
       "  <tbody>\n",
       "    <tr>\n",
       "      <th>716</th>\n",
       "      <td>36.0</td>\n",
       "      <td>F</td>\n",
       "      <td>administrator</td>\n",
       "      <td>44265</td>\n",
       "      <td>NaN</td>\n",
       "      <td>NaN</td>\n",
       "      <td>NaN</td>\n",
       "      <td>NaN</td>\n",
       "    </tr>\n",
       "    <tr>\n",
       "      <th>914</th>\n",
       "      <td>44.0</td>\n",
       "      <td>F</td>\n",
       "      <td>other</td>\n",
       "      <td>08105</td>\n",
       "      <td>NaN</td>\n",
       "      <td>NaN</td>\n",
       "      <td>NaN</td>\n",
       "      <td>NaN</td>\n",
       "    </tr>\n",
       "    <tr>\n",
       "      <th>572</th>\n",
       "      <td>51.0</td>\n",
       "      <td>M</td>\n",
       "      <td>educator</td>\n",
       "      <td>20003</td>\n",
       "      <td>NaN</td>\n",
       "      <td>NaN</td>\n",
       "      <td>NaN</td>\n",
       "      <td>NaN</td>\n",
       "    </tr>\n",
       "    <tr>\n",
       "      <th>267</th>\n",
       "      <td>23.0</td>\n",
       "      <td>M</td>\n",
       "      <td>engineer</td>\n",
       "      <td>83716</td>\n",
       "      <td>NaN</td>\n",
       "      <td>NaN</td>\n",
       "      <td>NaN</td>\n",
       "      <td>NaN</td>\n",
       "    </tr>\n",
       "    <tr>\n",
       "      <th>290</th>\n",
       "      <td>40.0</td>\n",
       "      <td>M</td>\n",
       "      <td>engineer</td>\n",
       "      <td>93550</td>\n",
       "      <td>NaN</td>\n",
       "      <td>NaN</td>\n",
       "      <td>NaN</td>\n",
       "      <td>NaN</td>\n",
       "    </tr>\n",
       "    <tr>\n",
       "      <th>348</th>\n",
       "      <td>24.0</td>\n",
       "      <td>F</td>\n",
       "      <td>student</td>\n",
       "      <td>45660</td>\n",
       "      <td>NaN</td>\n",
       "      <td>NaN</td>\n",
       "      <td>NaN</td>\n",
       "      <td>NaN</td>\n",
       "    </tr>\n",
       "    <tr>\n",
       "      <th>467</th>\n",
       "      <td>29.0</td>\n",
       "      <td>M</td>\n",
       "      <td>engineer</td>\n",
       "      <td>91201</td>\n",
       "      <td>NaN</td>\n",
       "      <td>NaN</td>\n",
       "      <td>NaN</td>\n",
       "      <td>NaN</td>\n",
       "    </tr>\n",
       "    <tr>\n",
       "      <th>2</th>\n",
       "      <td>53.0</td>\n",
       "      <td>F</td>\n",
       "      <td>other</td>\n",
       "      <td>94043</td>\n",
       "      <td>NaN</td>\n",
       "      <td>NaN</td>\n",
       "      <td>NaN</td>\n",
       "      <td>NaN</td>\n",
       "    </tr>\n",
       "    <tr>\n",
       "      <th>702</th>\n",
       "      <td>37.0</td>\n",
       "      <td>M</td>\n",
       "      <td>other</td>\n",
       "      <td>89104</td>\n",
       "      <td>NaN</td>\n",
       "      <td>NaN</td>\n",
       "      <td>NaN</td>\n",
       "      <td>NaN</td>\n",
       "    </tr>\n",
       "    <tr>\n",
       "      <th>71</th>\n",
       "      <td>NaN</td>\n",
       "      <td>NaN</td>\n",
       "      <td>NaN</td>\n",
       "      <td>NaN</td>\n",
       "      <td>39.0</td>\n",
       "      <td>M</td>\n",
       "      <td>scientist</td>\n",
       "      <td>98034</td>\n",
       "    </tr>\n",
       "    <tr>\n",
       "      <th>636</th>\n",
       "      <td>NaN</td>\n",
       "      <td>NaN</td>\n",
       "      <td>NaN</td>\n",
       "      <td>NaN</td>\n",
       "      <td>47.0</td>\n",
       "      <td>M</td>\n",
       "      <td>educator</td>\n",
       "      <td>48043</td>\n",
       "    </tr>\n",
       "    <tr>\n",
       "      <th>363</th>\n",
       "      <td>NaN</td>\n",
       "      <td>NaN</td>\n",
       "      <td>NaN</td>\n",
       "      <td>NaN</td>\n",
       "      <td>20.0</td>\n",
       "      <td>M</td>\n",
       "      <td>student</td>\n",
       "      <td>87501</td>\n",
       "    </tr>\n",
       "    <tr>\n",
       "      <th>203</th>\n",
       "      <td>NaN</td>\n",
       "      <td>NaN</td>\n",
       "      <td>NaN</td>\n",
       "      <td>NaN</td>\n",
       "      <td>25.0</td>\n",
       "      <td>F</td>\n",
       "      <td>student</td>\n",
       "      <td>32301</td>\n",
       "    </tr>\n",
       "    <tr>\n",
       "      <th>17</th>\n",
       "      <td>NaN</td>\n",
       "      <td>NaN</td>\n",
       "      <td>NaN</td>\n",
       "      <td>NaN</td>\n",
       "      <td>30.0</td>\n",
       "      <td>M</td>\n",
       "      <td>programmer</td>\n",
       "      <td>06355</td>\n",
       "    </tr>\n",
       "    <tr>\n",
       "      <th>723</th>\n",
       "      <td>NaN</td>\n",
       "      <td>NaN</td>\n",
       "      <td>NaN</td>\n",
       "      <td>NaN</td>\n",
       "      <td>26.0</td>\n",
       "      <td>M</td>\n",
       "      <td>executive</td>\n",
       "      <td>94403</td>\n",
       "    </tr>\n",
       "    <tr>\n",
       "      <th>259</th>\n",
       "      <td>NaN</td>\n",
       "      <td>NaN</td>\n",
       "      <td>NaN</td>\n",
       "      <td>NaN</td>\n",
       "      <td>21.0</td>\n",
       "      <td>M</td>\n",
       "      <td>student</td>\n",
       "      <td>48823</td>\n",
       "    </tr>\n",
       "    <tr>\n",
       "      <th>366</th>\n",
       "      <td>NaN</td>\n",
       "      <td>NaN</td>\n",
       "      <td>NaN</td>\n",
       "      <td>NaN</td>\n",
       "      <td>20.0</td>\n",
       "      <td>F</td>\n",
       "      <td>student</td>\n",
       "      <td>50670</td>\n",
       "    </tr>\n",
       "    <tr>\n",
       "      <th>887</th>\n",
       "      <td>NaN</td>\n",
       "      <td>NaN</td>\n",
       "      <td>NaN</td>\n",
       "      <td>NaN</td>\n",
       "      <td>14.0</td>\n",
       "      <td>F</td>\n",
       "      <td>student</td>\n",
       "      <td>27249</td>\n",
       "    </tr>\n",
       "  </tbody>\n",
       "</table>\n",
       "</div>"
      ],
      "text/plain": [
       "        from the 1s                                the 2nd                     \\\n",
       "                age gender     occupation zip_code     age gender  occupation   \n",
       "user_id                                                                         \n",
       "716            36.0      F  administrator    44265     NaN    NaN         NaN   \n",
       "914            44.0      F          other    08105     NaN    NaN         NaN   \n",
       "572            51.0      M       educator    20003     NaN    NaN         NaN   \n",
       "267            23.0      M       engineer    83716     NaN    NaN         NaN   \n",
       "290            40.0      M       engineer    93550     NaN    NaN         NaN   \n",
       "348            24.0      F        student    45660     NaN    NaN         NaN   \n",
       "467            29.0      M       engineer    91201     NaN    NaN         NaN   \n",
       "2              53.0      F          other    94043     NaN    NaN         NaN   \n",
       "702            37.0      M          other    89104     NaN    NaN         NaN   \n",
       "71              NaN    NaN            NaN      NaN    39.0      M   scientist   \n",
       "636             NaN    NaN            NaN      NaN    47.0      M    educator   \n",
       "363             NaN    NaN            NaN      NaN    20.0      M     student   \n",
       "203             NaN    NaN            NaN      NaN    25.0      F     student   \n",
       "17              NaN    NaN            NaN      NaN    30.0      M  programmer   \n",
       "723             NaN    NaN            NaN      NaN    26.0      M   executive   \n",
       "259             NaN    NaN            NaN      NaN    21.0      M     student   \n",
       "366             NaN    NaN            NaN      NaN    20.0      F     student   \n",
       "887             NaN    NaN            NaN      NaN    14.0      F     student   \n",
       "\n",
       "                  \n",
       "        zip_code  \n",
       "user_id           \n",
       "716          NaN  \n",
       "914          NaN  \n",
       "572          NaN  \n",
       "267          NaN  \n",
       "290          NaN  \n",
       "348          NaN  \n",
       "467          NaN  \n",
       "2            NaN  \n",
       "702          NaN  \n",
       "71         98034  \n",
       "636        48043  \n",
       "363        87501  \n",
       "203        32301  \n",
       "17         06355  \n",
       "723        94403  \n",
       "259        48823  \n",
       "366        50670  \n",
       "887        27249  "
      ]
     },
     "execution_count": 527,
     "metadata": {},
     "output_type": "execute_result"
    }
   ],
   "source": [
    "concat_one_one = pd.concat([first_df, second_df], axis=1, keys=[\"from the 1s\", \"the 2nd\"]) #keys is an optional argument\n",
    "concat_one_one"
   ]
  },
  {
   "cell_type": "markdown",
   "id": "ccd65ff4",
   "metadata": {},
   "source": [
    "![sql joins](https://upload.wikimedia.org/wikipedia/commons/9/9d/SQL_Joins.svg)"
   ]
  },
  {
   "cell_type": "markdown",
   "id": "weekly-klein",
   "metadata": {},
   "source": [
    "### Merge"
   ]
  },
  {
   "cell_type": "markdown",
   "id": "8efd9a95",
   "metadata": {
    "lang": "en"
   },
   "source": [
    "[Merge()](https://pandas.pydata.org/docs/reference/api/pandas.DataFrame.merge.html) is most useful when you want to merge rows that share data."
   ]
  },
  {
   "cell_type": "code",
   "execution_count": 528,
   "id": "b45d2d37",
   "metadata": {},
   "outputs": [],
   "source": [
    "import numpy as np\n",
    "import pandas as pd   \n",
    "from IPython.display import display_html "
   ]
  },
  {
   "cell_type": "code",
   "execution_count": 574,
   "id": "94d240f4",
   "metadata": {},
   "outputs": [],
   "source": [
    "df1 = pd.DataFrame(\n",
    "    {\n",
    "        \"key1\": [\"K0\", \"K0\", \"K1\", \"K2\"],\n",
    "        \"key2\": [\"K0\", \"K1\", \"K0\", \"K1\"],\n",
    "        \"A\": [\"A0\", \"A1\", \"A2\", \"A3\"],\n",
    "        \"B\": [\"B0\", \"B1\", \"B2\", \"B3\"],\n",
    "    }\n",
    ")\n",
    "\n",
    "\n",
    "df2 = pd.DataFrame(\n",
    "    {\n",
    "        \"key1\": [\"K0\", \"K1\", \"K1\", \"K2\"],\n",
    "        \"key2\": [\"K0\", \"K0\", \"K0\", \"K0\"],\n",
    "        \"C\": [\"C0\", \"C1\", \"C2\", \"C3\"],\n",
    "        \"D\": [\"D0\", \"D1\", \"D2\", \"D3\"],\n",
    "    }\n",
    ")\n",
    "\n",
    "df3 = pd.DataFrame(\n",
    "    {\n",
    "        \"key1\": [\"K90\", \"K1\", \"K1\", \"K2\"],\n",
    "        \"key2\": [\"K0\", \"K0\", \"K5\", \"K0\"],\n",
    "        \"C\": [\"C0\", \"C1\", \"C2\", \"C3\"],\n",
    "        \"Y\": [\"D0\", \"D70\", \"D2\", \"D5\"],\n",
    "    }\n",
    ")"
   ]
  },
  {
   "cell_type": "code",
   "execution_count": 575,
   "id": "a0378289",
   "metadata": {},
   "outputs": [
    {
     "data": {
      "text/html": [
       "<style type=\"text/css\">\n",
       "</style>\n",
       "<table id=\"T_13268\" style='display:inline'>\n",
       "  <caption>Left table</caption>\n",
       "  <thead>\n",
       "    <tr>\n",
       "      <th class=\"blank level0\" >&nbsp;</th>\n",
       "      <th id=\"T_13268_level0_col0\" class=\"col_heading level0 col0\" >key1</th>\n",
       "      <th id=\"T_13268_level0_col1\" class=\"col_heading level0 col1\" >key2</th>\n",
       "      <th id=\"T_13268_level0_col2\" class=\"col_heading level0 col2\" >A</th>\n",
       "      <th id=\"T_13268_level0_col3\" class=\"col_heading level0 col3\" >B</th>\n",
       "    </tr>\n",
       "  </thead>\n",
       "  <tbody>\n",
       "    <tr>\n",
       "      <th id=\"T_13268_level0_row0\" class=\"row_heading level0 row0\" >0</th>\n",
       "      <td id=\"T_13268_row0_col0\" class=\"data row0 col0\" >K0</td>\n",
       "      <td id=\"T_13268_row0_col1\" class=\"data row0 col1\" >K0</td>\n",
       "      <td id=\"T_13268_row0_col2\" class=\"data row0 col2\" >A0</td>\n",
       "      <td id=\"T_13268_row0_col3\" class=\"data row0 col3\" >B0</td>\n",
       "    </tr>\n",
       "    <tr>\n",
       "      <th id=\"T_13268_level0_row1\" class=\"row_heading level0 row1\" >1</th>\n",
       "      <td id=\"T_13268_row1_col0\" class=\"data row1 col0\" >K0</td>\n",
       "      <td id=\"T_13268_row1_col1\" class=\"data row1 col1\" >K1</td>\n",
       "      <td id=\"T_13268_row1_col2\" class=\"data row1 col2\" >A1</td>\n",
       "      <td id=\"T_13268_row1_col3\" class=\"data row1 col3\" >B1</td>\n",
       "    </tr>\n",
       "    <tr>\n",
       "      <th id=\"T_13268_level0_row2\" class=\"row_heading level0 row2\" >2</th>\n",
       "      <td id=\"T_13268_row2_col0\" class=\"data row2 col0\" >K1</td>\n",
       "      <td id=\"T_13268_row2_col1\" class=\"data row2 col1\" >K0</td>\n",
       "      <td id=\"T_13268_row2_col2\" class=\"data row2 col2\" >A2</td>\n",
       "      <td id=\"T_13268_row2_col3\" class=\"data row2 col3\" >B2</td>\n",
       "    </tr>\n",
       "    <tr>\n",
       "      <th id=\"T_13268_level0_row3\" class=\"row_heading level0 row3\" >3</th>\n",
       "      <td id=\"T_13268_row3_col0\" class=\"data row3 col0\" >K2</td>\n",
       "      <td id=\"T_13268_row3_col1\" class=\"data row3 col1\" >K1</td>\n",
       "      <td id=\"T_13268_row3_col2\" class=\"data row3 col2\" >A3</td>\n",
       "      <td id=\"T_13268_row3_col3\" class=\"data row3 col3\" >B3</td>\n",
       "    </tr>\n",
       "  </tbody>\n",
       "</table>\n",
       "<style type=\"text/css\">\n",
       "</style>\n",
       "<table id=\"T_f2ec1\" style='display:inline'>\n",
       "  <caption>Right table</caption>\n",
       "  <thead>\n",
       "    <tr>\n",
       "      <th class=\"blank level0\" >&nbsp;</th>\n",
       "      <th id=\"T_f2ec1_level0_col0\" class=\"col_heading level0 col0\" >key1</th>\n",
       "      <th id=\"T_f2ec1_level0_col1\" class=\"col_heading level0 col1\" >key2</th>\n",
       "      <th id=\"T_f2ec1_level0_col2\" class=\"col_heading level0 col2\" >C</th>\n",
       "      <th id=\"T_f2ec1_level0_col3\" class=\"col_heading level0 col3\" >D</th>\n",
       "    </tr>\n",
       "  </thead>\n",
       "  <tbody>\n",
       "    <tr>\n",
       "      <th id=\"T_f2ec1_level0_row0\" class=\"row_heading level0 row0\" >0</th>\n",
       "      <td id=\"T_f2ec1_row0_col0\" class=\"data row0 col0\" >K0</td>\n",
       "      <td id=\"T_f2ec1_row0_col1\" class=\"data row0 col1\" >K0</td>\n",
       "      <td id=\"T_f2ec1_row0_col2\" class=\"data row0 col2\" >C0</td>\n",
       "      <td id=\"T_f2ec1_row0_col3\" class=\"data row0 col3\" >D0</td>\n",
       "    </tr>\n",
       "    <tr>\n",
       "      <th id=\"T_f2ec1_level0_row1\" class=\"row_heading level0 row1\" >1</th>\n",
       "      <td id=\"T_f2ec1_row1_col0\" class=\"data row1 col0\" >K1</td>\n",
       "      <td id=\"T_f2ec1_row1_col1\" class=\"data row1 col1\" >K0</td>\n",
       "      <td id=\"T_f2ec1_row1_col2\" class=\"data row1 col2\" >C1</td>\n",
       "      <td id=\"T_f2ec1_row1_col3\" class=\"data row1 col3\" >D1</td>\n",
       "    </tr>\n",
       "    <tr>\n",
       "      <th id=\"T_f2ec1_level0_row2\" class=\"row_heading level0 row2\" >2</th>\n",
       "      <td id=\"T_f2ec1_row2_col0\" class=\"data row2 col0\" >K1</td>\n",
       "      <td id=\"T_f2ec1_row2_col1\" class=\"data row2 col1\" >K0</td>\n",
       "      <td id=\"T_f2ec1_row2_col2\" class=\"data row2 col2\" >C2</td>\n",
       "      <td id=\"T_f2ec1_row2_col3\" class=\"data row2 col3\" >D2</td>\n",
       "    </tr>\n",
       "    <tr>\n",
       "      <th id=\"T_f2ec1_level0_row3\" class=\"row_heading level0 row3\" >3</th>\n",
       "      <td id=\"T_f2ec1_row3_col0\" class=\"data row3 col0\" >K2</td>\n",
       "      <td id=\"T_f2ec1_row3_col1\" class=\"data row3 col1\" >K0</td>\n",
       "      <td id=\"T_f2ec1_row3_col2\" class=\"data row3 col2\" >C3</td>\n",
       "      <td id=\"T_f2ec1_row3_col3\" class=\"data row3 col3\" >D3</td>\n",
       "    </tr>\n",
       "  </tbody>\n",
       "</table>\n"
      ]
     },
     "metadata": {},
     "output_type": "display_data"
    }
   ],
   "source": [
    "df1_styler = df1.style.set_table_attributes(\"style='display:inline'\").set_caption('Left table')\n",
    "df2_styler = df2.style.set_table_attributes(\"style='display:inline'\").set_caption('Right table')\n",
    "display_html(df1_styler._repr_html_()+ df2_styler._repr_html_(), raw=True)"
   ]
  },
  {
   "cell_type": "code",
   "execution_count": 576,
   "id": "061cd607",
   "metadata": {},
   "outputs": [
    {
     "data": {
      "text/html": [
       "<div>\n",
       "<style scoped>\n",
       "    .dataframe tbody tr th:only-of-type {\n",
       "        vertical-align: middle;\n",
       "    }\n",
       "\n",
       "    .dataframe tbody tr th {\n",
       "        vertical-align: top;\n",
       "    }\n",
       "\n",
       "    .dataframe thead th {\n",
       "        text-align: right;\n",
       "    }\n",
       "</style>\n",
       "<table border=\"1\" class=\"dataframe\">\n",
       "  <thead>\n",
       "    <tr style=\"text-align: right;\">\n",
       "      <th></th>\n",
       "      <th>key1</th>\n",
       "      <th>key2</th>\n",
       "      <th>A</th>\n",
       "      <th>B</th>\n",
       "      <th>C</th>\n",
       "      <th>D</th>\n",
       "    </tr>\n",
       "  </thead>\n",
       "  <tbody>\n",
       "    <tr>\n",
       "      <th>0</th>\n",
       "      <td>K0</td>\n",
       "      <td>K0</td>\n",
       "      <td>A0</td>\n",
       "      <td>B0</td>\n",
       "      <td>C0</td>\n",
       "      <td>D0</td>\n",
       "    </tr>\n",
       "    <tr>\n",
       "      <th>1</th>\n",
       "      <td>K1</td>\n",
       "      <td>K0</td>\n",
       "      <td>A2</td>\n",
       "      <td>B2</td>\n",
       "      <td>C1</td>\n",
       "      <td>D1</td>\n",
       "    </tr>\n",
       "    <tr>\n",
       "      <th>2</th>\n",
       "      <td>K1</td>\n",
       "      <td>K0</td>\n",
       "      <td>A2</td>\n",
       "      <td>B2</td>\n",
       "      <td>C2</td>\n",
       "      <td>D2</td>\n",
       "    </tr>\n",
       "  </tbody>\n",
       "</table>\n",
       "</div>"
      ],
      "text/plain": [
       "  key1 key2   A   B   C   D\n",
       "0   K0   K0  A0  B0  C0  D0\n",
       "1   K1   K0  A2  B2  C1  D1\n",
       "2   K1   K0  A2  B2  C2  D2"
      ]
     },
     "execution_count": 576,
     "metadata": {},
     "output_type": "execute_result"
    }
   ],
   "source": [
    "# merge, default is inner\n",
    "\n",
    "result = pd.merge(df1, df2)\n",
    "result"
   ]
  },
  {
   "cell_type": "code",
   "execution_count": 577,
   "id": "7e223ab0",
   "metadata": {},
   "outputs": [
    {
     "data": {
      "text/html": [
       "<div>\n",
       "<style scoped>\n",
       "    .dataframe tbody tr th:only-of-type {\n",
       "        vertical-align: middle;\n",
       "    }\n",
       "\n",
       "    .dataframe tbody tr th {\n",
       "        vertical-align: top;\n",
       "    }\n",
       "\n",
       "    .dataframe thead th {\n",
       "        text-align: right;\n",
       "    }\n",
       "</style>\n",
       "<table border=\"1\" class=\"dataframe\">\n",
       "  <thead>\n",
       "    <tr style=\"text-align: right;\">\n",
       "      <th></th>\n",
       "      <th>key1</th>\n",
       "      <th>key2</th>\n",
       "      <th>A</th>\n",
       "      <th>B</th>\n",
       "      <th>C</th>\n",
       "      <th>D</th>\n",
       "    </tr>\n",
       "  </thead>\n",
       "  <tbody>\n",
       "    <tr>\n",
       "      <th>0</th>\n",
       "      <td>K0</td>\n",
       "      <td>K0</td>\n",
       "      <td>A0</td>\n",
       "      <td>B0</td>\n",
       "      <td>C0</td>\n",
       "      <td>D0</td>\n",
       "    </tr>\n",
       "    <tr>\n",
       "      <th>1</th>\n",
       "      <td>K1</td>\n",
       "      <td>K0</td>\n",
       "      <td>A2</td>\n",
       "      <td>B2</td>\n",
       "      <td>C1</td>\n",
       "      <td>D1</td>\n",
       "    </tr>\n",
       "    <tr>\n",
       "      <th>2</th>\n",
       "      <td>K1</td>\n",
       "      <td>K0</td>\n",
       "      <td>A2</td>\n",
       "      <td>B2</td>\n",
       "      <td>C2</td>\n",
       "      <td>D2</td>\n",
       "    </tr>\n",
       "  </tbody>\n",
       "</table>\n",
       "</div>"
      ],
      "text/plain": [
       "  key1 key2   A   B   C   D\n",
       "0   K0   K0  A0  B0  C0  D0\n",
       "1   K1   K0  A2  B2  C1  D1\n",
       "2   K1   K0  A2  B2  C2  D2"
      ]
     },
     "execution_count": 577,
     "metadata": {},
     "output_type": "execute_result"
    }
   ],
   "source": [
    "result_on = pd.merge(df1, df2, on=[\"key1\", \"key2\"])\n",
    "result_on"
   ]
  },
  {
   "cell_type": "markdown",
   "id": "d71c38f1",
   "metadata": {},
   "source": [
    "#### LEFT Merge"
   ]
  },
  {
   "cell_type": "code",
   "execution_count": 613,
   "id": "d8de1abc",
   "metadata": {},
   "outputs": [
    {
     "data": {
      "text/html": [
       "<style type=\"text/css\">\n",
       "</style>\n",
       "<table id=\"T_ddcf4\" style='display:inline'>\n",
       "  <caption>Left table</caption>\n",
       "  <thead>\n",
       "    <tr>\n",
       "      <th class=\"blank level0\" >&nbsp;</th>\n",
       "      <th id=\"T_ddcf4_level0_col0\" class=\"col_heading level0 col0\" >key1</th>\n",
       "      <th id=\"T_ddcf4_level0_col1\" class=\"col_heading level0 col1\" >key2</th>\n",
       "      <th id=\"T_ddcf4_level0_col2\" class=\"col_heading level0 col2\" >A</th>\n",
       "      <th id=\"T_ddcf4_level0_col3\" class=\"col_heading level0 col3\" >B</th>\n",
       "    </tr>\n",
       "  </thead>\n",
       "  <tbody>\n",
       "    <tr>\n",
       "      <th id=\"T_ddcf4_level0_row0\" class=\"row_heading level0 row0\" >0</th>\n",
       "      <td id=\"T_ddcf4_row0_col0\" class=\"data row0 col0\" >K0</td>\n",
       "      <td id=\"T_ddcf4_row0_col1\" class=\"data row0 col1\" >K0</td>\n",
       "      <td id=\"T_ddcf4_row0_col2\" class=\"data row0 col2\" >A0</td>\n",
       "      <td id=\"T_ddcf4_row0_col3\" class=\"data row0 col3\" >B0</td>\n",
       "    </tr>\n",
       "    <tr>\n",
       "      <th id=\"T_ddcf4_level0_row1\" class=\"row_heading level0 row1\" >1</th>\n",
       "      <td id=\"T_ddcf4_row1_col0\" class=\"data row1 col0\" >K0</td>\n",
       "      <td id=\"T_ddcf4_row1_col1\" class=\"data row1 col1\" >K1</td>\n",
       "      <td id=\"T_ddcf4_row1_col2\" class=\"data row1 col2\" >A1</td>\n",
       "      <td id=\"T_ddcf4_row1_col3\" class=\"data row1 col3\" >B1</td>\n",
       "    </tr>\n",
       "    <tr>\n",
       "      <th id=\"T_ddcf4_level0_row2\" class=\"row_heading level0 row2\" >2</th>\n",
       "      <td id=\"T_ddcf4_row2_col0\" class=\"data row2 col0\" >K1</td>\n",
       "      <td id=\"T_ddcf4_row2_col1\" class=\"data row2 col1\" >K0</td>\n",
       "      <td id=\"T_ddcf4_row2_col2\" class=\"data row2 col2\" >A2</td>\n",
       "      <td id=\"T_ddcf4_row2_col3\" class=\"data row2 col3\" >B2</td>\n",
       "    </tr>\n",
       "    <tr>\n",
       "      <th id=\"T_ddcf4_level0_row3\" class=\"row_heading level0 row3\" >3</th>\n",
       "      <td id=\"T_ddcf4_row3_col0\" class=\"data row3 col0\" >K2</td>\n",
       "      <td id=\"T_ddcf4_row3_col1\" class=\"data row3 col1\" >K1</td>\n",
       "      <td id=\"T_ddcf4_row3_col2\" class=\"data row3 col2\" >A3</td>\n",
       "      <td id=\"T_ddcf4_row3_col3\" class=\"data row3 col3\" >B3</td>\n",
       "    </tr>\n",
       "  </tbody>\n",
       "</table>\n",
       "<style type=\"text/css\">\n",
       "</style>\n",
       "<table id=\"T_86afc\" style='display:inline'>\n",
       "  <caption>Right table</caption>\n",
       "  <thead>\n",
       "    <tr>\n",
       "      <th class=\"blank level0\" >&nbsp;</th>\n",
       "      <th id=\"T_86afc_level0_col0\" class=\"col_heading level0 col0\" >key1</th>\n",
       "      <th id=\"T_86afc_level0_col1\" class=\"col_heading level0 col1\" >key2</th>\n",
       "      <th id=\"T_86afc_level0_col2\" class=\"col_heading level0 col2\" >C</th>\n",
       "      <th id=\"T_86afc_level0_col3\" class=\"col_heading level0 col3\" >D</th>\n",
       "    </tr>\n",
       "  </thead>\n",
       "  <tbody>\n",
       "    <tr>\n",
       "      <th id=\"T_86afc_level0_row0\" class=\"row_heading level0 row0\" >0</th>\n",
       "      <td id=\"T_86afc_row0_col0\" class=\"data row0 col0\" >K0</td>\n",
       "      <td id=\"T_86afc_row0_col1\" class=\"data row0 col1\" >K0</td>\n",
       "      <td id=\"T_86afc_row0_col2\" class=\"data row0 col2\" >C0</td>\n",
       "      <td id=\"T_86afc_row0_col3\" class=\"data row0 col3\" >D0</td>\n",
       "    </tr>\n",
       "    <tr>\n",
       "      <th id=\"T_86afc_level0_row1\" class=\"row_heading level0 row1\" >1</th>\n",
       "      <td id=\"T_86afc_row1_col0\" class=\"data row1 col0\" >K1</td>\n",
       "      <td id=\"T_86afc_row1_col1\" class=\"data row1 col1\" >K0</td>\n",
       "      <td id=\"T_86afc_row1_col2\" class=\"data row1 col2\" >C1</td>\n",
       "      <td id=\"T_86afc_row1_col3\" class=\"data row1 col3\" >D1</td>\n",
       "    </tr>\n",
       "    <tr>\n",
       "      <th id=\"T_86afc_level0_row2\" class=\"row_heading level0 row2\" >2</th>\n",
       "      <td id=\"T_86afc_row2_col0\" class=\"data row2 col0\" >K1</td>\n",
       "      <td id=\"T_86afc_row2_col1\" class=\"data row2 col1\" >K0</td>\n",
       "      <td id=\"T_86afc_row2_col2\" class=\"data row2 col2\" >C2</td>\n",
       "      <td id=\"T_86afc_row2_col3\" class=\"data row2 col3\" >D2</td>\n",
       "    </tr>\n",
       "    <tr>\n",
       "      <th id=\"T_86afc_level0_row3\" class=\"row_heading level0 row3\" >3</th>\n",
       "      <td id=\"T_86afc_row3_col0\" class=\"data row3 col0\" >K2</td>\n",
       "      <td id=\"T_86afc_row3_col1\" class=\"data row3 col1\" >K0</td>\n",
       "      <td id=\"T_86afc_row3_col2\" class=\"data row3 col2\" >C3</td>\n",
       "      <td id=\"T_86afc_row3_col3\" class=\"data row3 col3\" >D3</td>\n",
       "    </tr>\n",
       "  </tbody>\n",
       "</table>\n",
       "<style type=\"text/css\">\n",
       "</style>\n",
       "<table id=\"T_0aa2d\" style='display:inline'>\n",
       "  <caption>left_merge</caption>\n",
       "  <thead>\n",
       "    <tr>\n",
       "      <th class=\"blank level0\" >&nbsp;</th>\n",
       "      <th id=\"T_0aa2d_level0_col0\" class=\"col_heading level0 col0\" >key1</th>\n",
       "      <th id=\"T_0aa2d_level0_col1\" class=\"col_heading level0 col1\" >key2</th>\n",
       "      <th id=\"T_0aa2d_level0_col2\" class=\"col_heading level0 col2\" >A</th>\n",
       "      <th id=\"T_0aa2d_level0_col3\" class=\"col_heading level0 col3\" >B</th>\n",
       "      <th id=\"T_0aa2d_level0_col4\" class=\"col_heading level0 col4\" >C</th>\n",
       "      <th id=\"T_0aa2d_level0_col5\" class=\"col_heading level0 col5\" >D</th>\n",
       "    </tr>\n",
       "  </thead>\n",
       "  <tbody>\n",
       "    <tr>\n",
       "      <th id=\"T_0aa2d_level0_row0\" class=\"row_heading level0 row0\" >0</th>\n",
       "      <td id=\"T_0aa2d_row0_col0\" class=\"data row0 col0\" >K0</td>\n",
       "      <td id=\"T_0aa2d_row0_col1\" class=\"data row0 col1\" >K0</td>\n",
       "      <td id=\"T_0aa2d_row0_col2\" class=\"data row0 col2\" >A0</td>\n",
       "      <td id=\"T_0aa2d_row0_col3\" class=\"data row0 col3\" >B0</td>\n",
       "      <td id=\"T_0aa2d_row0_col4\" class=\"data row0 col4\" >C0</td>\n",
       "      <td id=\"T_0aa2d_row0_col5\" class=\"data row0 col5\" >D0</td>\n",
       "    </tr>\n",
       "    <tr>\n",
       "      <th id=\"T_0aa2d_level0_row1\" class=\"row_heading level0 row1\" >1</th>\n",
       "      <td id=\"T_0aa2d_row1_col0\" class=\"data row1 col0\" >K0</td>\n",
       "      <td id=\"T_0aa2d_row1_col1\" class=\"data row1 col1\" >K1</td>\n",
       "      <td id=\"T_0aa2d_row1_col2\" class=\"data row1 col2\" >A1</td>\n",
       "      <td id=\"T_0aa2d_row1_col3\" class=\"data row1 col3\" >B1</td>\n",
       "      <td id=\"T_0aa2d_row1_col4\" class=\"data row1 col4\" >nan</td>\n",
       "      <td id=\"T_0aa2d_row1_col5\" class=\"data row1 col5\" >nan</td>\n",
       "    </tr>\n",
       "    <tr>\n",
       "      <th id=\"T_0aa2d_level0_row2\" class=\"row_heading level0 row2\" >2</th>\n",
       "      <td id=\"T_0aa2d_row2_col0\" class=\"data row2 col0\" >K1</td>\n",
       "      <td id=\"T_0aa2d_row2_col1\" class=\"data row2 col1\" >K0</td>\n",
       "      <td id=\"T_0aa2d_row2_col2\" class=\"data row2 col2\" >A2</td>\n",
       "      <td id=\"T_0aa2d_row2_col3\" class=\"data row2 col3\" >B2</td>\n",
       "      <td id=\"T_0aa2d_row2_col4\" class=\"data row2 col4\" >C1</td>\n",
       "      <td id=\"T_0aa2d_row2_col5\" class=\"data row2 col5\" >D1</td>\n",
       "    </tr>\n",
       "    <tr>\n",
       "      <th id=\"T_0aa2d_level0_row3\" class=\"row_heading level0 row3\" >3</th>\n",
       "      <td id=\"T_0aa2d_row3_col0\" class=\"data row3 col0\" >K1</td>\n",
       "      <td id=\"T_0aa2d_row3_col1\" class=\"data row3 col1\" >K0</td>\n",
       "      <td id=\"T_0aa2d_row3_col2\" class=\"data row3 col2\" >A2</td>\n",
       "      <td id=\"T_0aa2d_row3_col3\" class=\"data row3 col3\" >B2</td>\n",
       "      <td id=\"T_0aa2d_row3_col4\" class=\"data row3 col4\" >C2</td>\n",
       "      <td id=\"T_0aa2d_row3_col5\" class=\"data row3 col5\" >D2</td>\n",
       "    </tr>\n",
       "    <tr>\n",
       "      <th id=\"T_0aa2d_level0_row4\" class=\"row_heading level0 row4\" >4</th>\n",
       "      <td id=\"T_0aa2d_row4_col0\" class=\"data row4 col0\" >K2</td>\n",
       "      <td id=\"T_0aa2d_row4_col1\" class=\"data row4 col1\" >K1</td>\n",
       "      <td id=\"T_0aa2d_row4_col2\" class=\"data row4 col2\" >A3</td>\n",
       "      <td id=\"T_0aa2d_row4_col3\" class=\"data row4 col3\" >B3</td>\n",
       "      <td id=\"T_0aa2d_row4_col4\" class=\"data row4 col4\" >nan</td>\n",
       "      <td id=\"T_0aa2d_row4_col5\" class=\"data row4 col5\" >nan</td>\n",
       "    </tr>\n",
       "  </tbody>\n",
       "</table>\n"
      ]
     },
     "metadata": {},
     "output_type": "display_data"
    }
   ],
   "source": [
    "left_merge = pd.merge(df1, df2, how=\"left\")\n",
    "\n",
    "\n",
    "df1_styler = df1.style.set_table_attributes(\"style='display:inline'\").set_caption('Left table')\n",
    "df2_styler = df2.style.set_table_attributes(\"style='display:inline'\").set_caption('Right table')\n",
    "left_merge = left_merge.style.set_table_attributes(\"style='display:inline'\").set_caption(\"left_merge\")\n",
    "\n",
    "display_html(df1_styler._repr_html_()+ df2_styler._repr_html_() + left_merge._repr_html_(), raw=True)"
   ]
  },
  {
   "cell_type": "markdown",
   "id": "364ddbeb",
   "metadata": {},
   "source": [
    "#### RIGHT Merge"
   ]
  },
  {
   "cell_type": "code",
   "execution_count": 612,
   "id": "0ccee3bd",
   "metadata": {
    "scrolled": true
   },
   "outputs": [
    {
     "data": {
      "text/html": [
       "<style type=\"text/css\">\n",
       "</style>\n",
       "<table id=\"T_5a557\" style='display:inline'>\n",
       "  <caption>Left table</caption>\n",
       "  <thead>\n",
       "    <tr>\n",
       "      <th class=\"blank level0\" >&nbsp;</th>\n",
       "      <th id=\"T_5a557_level0_col0\" class=\"col_heading level0 col0\" >key1</th>\n",
       "      <th id=\"T_5a557_level0_col1\" class=\"col_heading level0 col1\" >key2</th>\n",
       "      <th id=\"T_5a557_level0_col2\" class=\"col_heading level0 col2\" >A</th>\n",
       "      <th id=\"T_5a557_level0_col3\" class=\"col_heading level0 col3\" >B</th>\n",
       "    </tr>\n",
       "  </thead>\n",
       "  <tbody>\n",
       "    <tr>\n",
       "      <th id=\"T_5a557_level0_row0\" class=\"row_heading level0 row0\" >0</th>\n",
       "      <td id=\"T_5a557_row0_col0\" class=\"data row0 col0\" >K0</td>\n",
       "      <td id=\"T_5a557_row0_col1\" class=\"data row0 col1\" >K0</td>\n",
       "      <td id=\"T_5a557_row0_col2\" class=\"data row0 col2\" >A0</td>\n",
       "      <td id=\"T_5a557_row0_col3\" class=\"data row0 col3\" >B0</td>\n",
       "    </tr>\n",
       "    <tr>\n",
       "      <th id=\"T_5a557_level0_row1\" class=\"row_heading level0 row1\" >1</th>\n",
       "      <td id=\"T_5a557_row1_col0\" class=\"data row1 col0\" >K0</td>\n",
       "      <td id=\"T_5a557_row1_col1\" class=\"data row1 col1\" >K1</td>\n",
       "      <td id=\"T_5a557_row1_col2\" class=\"data row1 col2\" >A1</td>\n",
       "      <td id=\"T_5a557_row1_col3\" class=\"data row1 col3\" >B1</td>\n",
       "    </tr>\n",
       "    <tr>\n",
       "      <th id=\"T_5a557_level0_row2\" class=\"row_heading level0 row2\" >2</th>\n",
       "      <td id=\"T_5a557_row2_col0\" class=\"data row2 col0\" >K1</td>\n",
       "      <td id=\"T_5a557_row2_col1\" class=\"data row2 col1\" >K0</td>\n",
       "      <td id=\"T_5a557_row2_col2\" class=\"data row2 col2\" >A2</td>\n",
       "      <td id=\"T_5a557_row2_col3\" class=\"data row2 col3\" >B2</td>\n",
       "    </tr>\n",
       "    <tr>\n",
       "      <th id=\"T_5a557_level0_row3\" class=\"row_heading level0 row3\" >3</th>\n",
       "      <td id=\"T_5a557_row3_col0\" class=\"data row3 col0\" >K2</td>\n",
       "      <td id=\"T_5a557_row3_col1\" class=\"data row3 col1\" >K1</td>\n",
       "      <td id=\"T_5a557_row3_col2\" class=\"data row3 col2\" >A3</td>\n",
       "      <td id=\"T_5a557_row3_col3\" class=\"data row3 col3\" >B3</td>\n",
       "    </tr>\n",
       "  </tbody>\n",
       "</table>\n",
       "<style type=\"text/css\">\n",
       "</style>\n",
       "<table id=\"T_6f859\" style='display:inline'>\n",
       "  <caption>Right table</caption>\n",
       "  <thead>\n",
       "    <tr>\n",
       "      <th class=\"blank level0\" >&nbsp;</th>\n",
       "      <th id=\"T_6f859_level0_col0\" class=\"col_heading level0 col0\" >key1</th>\n",
       "      <th id=\"T_6f859_level0_col1\" class=\"col_heading level0 col1\" >key2</th>\n",
       "      <th id=\"T_6f859_level0_col2\" class=\"col_heading level0 col2\" >C</th>\n",
       "      <th id=\"T_6f859_level0_col3\" class=\"col_heading level0 col3\" >D</th>\n",
       "    </tr>\n",
       "  </thead>\n",
       "  <tbody>\n",
       "    <tr>\n",
       "      <th id=\"T_6f859_level0_row0\" class=\"row_heading level0 row0\" >0</th>\n",
       "      <td id=\"T_6f859_row0_col0\" class=\"data row0 col0\" >K0</td>\n",
       "      <td id=\"T_6f859_row0_col1\" class=\"data row0 col1\" >K0</td>\n",
       "      <td id=\"T_6f859_row0_col2\" class=\"data row0 col2\" >C0</td>\n",
       "      <td id=\"T_6f859_row0_col3\" class=\"data row0 col3\" >D0</td>\n",
       "    </tr>\n",
       "    <tr>\n",
       "      <th id=\"T_6f859_level0_row1\" class=\"row_heading level0 row1\" >1</th>\n",
       "      <td id=\"T_6f859_row1_col0\" class=\"data row1 col0\" >K1</td>\n",
       "      <td id=\"T_6f859_row1_col1\" class=\"data row1 col1\" >K0</td>\n",
       "      <td id=\"T_6f859_row1_col2\" class=\"data row1 col2\" >C1</td>\n",
       "      <td id=\"T_6f859_row1_col3\" class=\"data row1 col3\" >D1</td>\n",
       "    </tr>\n",
       "    <tr>\n",
       "      <th id=\"T_6f859_level0_row2\" class=\"row_heading level0 row2\" >2</th>\n",
       "      <td id=\"T_6f859_row2_col0\" class=\"data row2 col0\" >K1</td>\n",
       "      <td id=\"T_6f859_row2_col1\" class=\"data row2 col1\" >K0</td>\n",
       "      <td id=\"T_6f859_row2_col2\" class=\"data row2 col2\" >C2</td>\n",
       "      <td id=\"T_6f859_row2_col3\" class=\"data row2 col3\" >D2</td>\n",
       "    </tr>\n",
       "    <tr>\n",
       "      <th id=\"T_6f859_level0_row3\" class=\"row_heading level0 row3\" >3</th>\n",
       "      <td id=\"T_6f859_row3_col0\" class=\"data row3 col0\" >K2</td>\n",
       "      <td id=\"T_6f859_row3_col1\" class=\"data row3 col1\" >K0</td>\n",
       "      <td id=\"T_6f859_row3_col2\" class=\"data row3 col2\" >C3</td>\n",
       "      <td id=\"T_6f859_row3_col3\" class=\"data row3 col3\" >D3</td>\n",
       "    </tr>\n",
       "  </tbody>\n",
       "</table>\n",
       "<style type=\"text/css\">\n",
       "</style>\n",
       "<table id=\"T_85c38\" style='display:inline'>\n",
       "  <caption>right_merge</caption>\n",
       "  <thead>\n",
       "    <tr>\n",
       "      <th class=\"blank level0\" >&nbsp;</th>\n",
       "      <th id=\"T_85c38_level0_col0\" class=\"col_heading level0 col0\" >key1</th>\n",
       "      <th id=\"T_85c38_level0_col1\" class=\"col_heading level0 col1\" >key2</th>\n",
       "      <th id=\"T_85c38_level0_col2\" class=\"col_heading level0 col2\" >A</th>\n",
       "      <th id=\"T_85c38_level0_col3\" class=\"col_heading level0 col3\" >B</th>\n",
       "      <th id=\"T_85c38_level0_col4\" class=\"col_heading level0 col4\" >C</th>\n",
       "      <th id=\"T_85c38_level0_col5\" class=\"col_heading level0 col5\" >D</th>\n",
       "    </tr>\n",
       "  </thead>\n",
       "  <tbody>\n",
       "    <tr>\n",
       "      <th id=\"T_85c38_level0_row0\" class=\"row_heading level0 row0\" >0</th>\n",
       "      <td id=\"T_85c38_row0_col0\" class=\"data row0 col0\" >K0</td>\n",
       "      <td id=\"T_85c38_row0_col1\" class=\"data row0 col1\" >K0</td>\n",
       "      <td id=\"T_85c38_row0_col2\" class=\"data row0 col2\" >A0</td>\n",
       "      <td id=\"T_85c38_row0_col3\" class=\"data row0 col3\" >B0</td>\n",
       "      <td id=\"T_85c38_row0_col4\" class=\"data row0 col4\" >C0</td>\n",
       "      <td id=\"T_85c38_row0_col5\" class=\"data row0 col5\" >D0</td>\n",
       "    </tr>\n",
       "    <tr>\n",
       "      <th id=\"T_85c38_level0_row1\" class=\"row_heading level0 row1\" >1</th>\n",
       "      <td id=\"T_85c38_row1_col0\" class=\"data row1 col0\" >K1</td>\n",
       "      <td id=\"T_85c38_row1_col1\" class=\"data row1 col1\" >K0</td>\n",
       "      <td id=\"T_85c38_row1_col2\" class=\"data row1 col2\" >A2</td>\n",
       "      <td id=\"T_85c38_row1_col3\" class=\"data row1 col3\" >B2</td>\n",
       "      <td id=\"T_85c38_row1_col4\" class=\"data row1 col4\" >C1</td>\n",
       "      <td id=\"T_85c38_row1_col5\" class=\"data row1 col5\" >D1</td>\n",
       "    </tr>\n",
       "    <tr>\n",
       "      <th id=\"T_85c38_level0_row2\" class=\"row_heading level0 row2\" >2</th>\n",
       "      <td id=\"T_85c38_row2_col0\" class=\"data row2 col0\" >K1</td>\n",
       "      <td id=\"T_85c38_row2_col1\" class=\"data row2 col1\" >K0</td>\n",
       "      <td id=\"T_85c38_row2_col2\" class=\"data row2 col2\" >A2</td>\n",
       "      <td id=\"T_85c38_row2_col3\" class=\"data row2 col3\" >B2</td>\n",
       "      <td id=\"T_85c38_row2_col4\" class=\"data row2 col4\" >C2</td>\n",
       "      <td id=\"T_85c38_row2_col5\" class=\"data row2 col5\" >D2</td>\n",
       "    </tr>\n",
       "    <tr>\n",
       "      <th id=\"T_85c38_level0_row3\" class=\"row_heading level0 row3\" >3</th>\n",
       "      <td id=\"T_85c38_row3_col0\" class=\"data row3 col0\" >K2</td>\n",
       "      <td id=\"T_85c38_row3_col1\" class=\"data row3 col1\" >K0</td>\n",
       "      <td id=\"T_85c38_row3_col2\" class=\"data row3 col2\" >nan</td>\n",
       "      <td id=\"T_85c38_row3_col3\" class=\"data row3 col3\" >nan</td>\n",
       "      <td id=\"T_85c38_row3_col4\" class=\"data row3 col4\" >C3</td>\n",
       "      <td id=\"T_85c38_row3_col5\" class=\"data row3 col5\" >D3</td>\n",
       "    </tr>\n",
       "  </tbody>\n",
       "</table>\n"
      ]
     },
     "metadata": {},
     "output_type": "display_data"
    }
   ],
   "source": [
    "right_merge = pd.merge(df1, df2, how=\"right\")\n",
    "\n",
    "\n",
    "df1_styler = df1.style.set_table_attributes(\"style='display:inline'\").set_caption('Left table')\n",
    "df2_styler = df2.style.set_table_attributes(\"style='display:inline'\").set_caption('Right table')\n",
    "right_merge = right_merge.style.set_table_attributes(\"style='display:inline'\").set_caption(\"right_merge\")\n",
    "\n",
    "display_html(df1_styler._repr_html_()+ df2_styler._repr_html_() + right_merge._repr_html_(), raw=True)"
   ]
  },
  {
   "cell_type": "markdown",
   "id": "0b9cac56",
   "metadata": {},
   "source": [
    "#### INNER Merge"
   ]
  },
  {
   "cell_type": "code",
   "execution_count": 614,
   "id": "0ebb4de2",
   "metadata": {
    "scrolled": false
   },
   "outputs": [
    {
     "data": {
      "text/html": [
       "<style type=\"text/css\">\n",
       "</style>\n",
       "<table id=\"T_351b6\" style='display:inline'>\n",
       "  <caption>Left table</caption>\n",
       "  <thead>\n",
       "    <tr>\n",
       "      <th class=\"blank level0\" >&nbsp;</th>\n",
       "      <th id=\"T_351b6_level0_col0\" class=\"col_heading level0 col0\" >key1</th>\n",
       "      <th id=\"T_351b6_level0_col1\" class=\"col_heading level0 col1\" >key2</th>\n",
       "      <th id=\"T_351b6_level0_col2\" class=\"col_heading level0 col2\" >A</th>\n",
       "      <th id=\"T_351b6_level0_col3\" class=\"col_heading level0 col3\" >B</th>\n",
       "    </tr>\n",
       "  </thead>\n",
       "  <tbody>\n",
       "    <tr>\n",
       "      <th id=\"T_351b6_level0_row0\" class=\"row_heading level0 row0\" >0</th>\n",
       "      <td id=\"T_351b6_row0_col0\" class=\"data row0 col0\" >K0</td>\n",
       "      <td id=\"T_351b6_row0_col1\" class=\"data row0 col1\" >K0</td>\n",
       "      <td id=\"T_351b6_row0_col2\" class=\"data row0 col2\" >A0</td>\n",
       "      <td id=\"T_351b6_row0_col3\" class=\"data row0 col3\" >B0</td>\n",
       "    </tr>\n",
       "    <tr>\n",
       "      <th id=\"T_351b6_level0_row1\" class=\"row_heading level0 row1\" >1</th>\n",
       "      <td id=\"T_351b6_row1_col0\" class=\"data row1 col0\" >K0</td>\n",
       "      <td id=\"T_351b6_row1_col1\" class=\"data row1 col1\" >K1</td>\n",
       "      <td id=\"T_351b6_row1_col2\" class=\"data row1 col2\" >A1</td>\n",
       "      <td id=\"T_351b6_row1_col3\" class=\"data row1 col3\" >B1</td>\n",
       "    </tr>\n",
       "    <tr>\n",
       "      <th id=\"T_351b6_level0_row2\" class=\"row_heading level0 row2\" >2</th>\n",
       "      <td id=\"T_351b6_row2_col0\" class=\"data row2 col0\" >K1</td>\n",
       "      <td id=\"T_351b6_row2_col1\" class=\"data row2 col1\" >K0</td>\n",
       "      <td id=\"T_351b6_row2_col2\" class=\"data row2 col2\" >A2</td>\n",
       "      <td id=\"T_351b6_row2_col3\" class=\"data row2 col3\" >B2</td>\n",
       "    </tr>\n",
       "    <tr>\n",
       "      <th id=\"T_351b6_level0_row3\" class=\"row_heading level0 row3\" >3</th>\n",
       "      <td id=\"T_351b6_row3_col0\" class=\"data row3 col0\" >K2</td>\n",
       "      <td id=\"T_351b6_row3_col1\" class=\"data row3 col1\" >K1</td>\n",
       "      <td id=\"T_351b6_row3_col2\" class=\"data row3 col2\" >A3</td>\n",
       "      <td id=\"T_351b6_row3_col3\" class=\"data row3 col3\" >B3</td>\n",
       "    </tr>\n",
       "  </tbody>\n",
       "</table>\n",
       "<style type=\"text/css\">\n",
       "</style>\n",
       "<table id=\"T_ab80b\" style='display:inline'>\n",
       "  <caption>Right table</caption>\n",
       "  <thead>\n",
       "    <tr>\n",
       "      <th class=\"blank level0\" >&nbsp;</th>\n",
       "      <th id=\"T_ab80b_level0_col0\" class=\"col_heading level0 col0\" >key1</th>\n",
       "      <th id=\"T_ab80b_level0_col1\" class=\"col_heading level0 col1\" >key2</th>\n",
       "      <th id=\"T_ab80b_level0_col2\" class=\"col_heading level0 col2\" >C</th>\n",
       "      <th id=\"T_ab80b_level0_col3\" class=\"col_heading level0 col3\" >D</th>\n",
       "    </tr>\n",
       "  </thead>\n",
       "  <tbody>\n",
       "    <tr>\n",
       "      <th id=\"T_ab80b_level0_row0\" class=\"row_heading level0 row0\" >0</th>\n",
       "      <td id=\"T_ab80b_row0_col0\" class=\"data row0 col0\" >K0</td>\n",
       "      <td id=\"T_ab80b_row0_col1\" class=\"data row0 col1\" >K0</td>\n",
       "      <td id=\"T_ab80b_row0_col2\" class=\"data row0 col2\" >C0</td>\n",
       "      <td id=\"T_ab80b_row0_col3\" class=\"data row0 col3\" >D0</td>\n",
       "    </tr>\n",
       "    <tr>\n",
       "      <th id=\"T_ab80b_level0_row1\" class=\"row_heading level0 row1\" >1</th>\n",
       "      <td id=\"T_ab80b_row1_col0\" class=\"data row1 col0\" >K1</td>\n",
       "      <td id=\"T_ab80b_row1_col1\" class=\"data row1 col1\" >K0</td>\n",
       "      <td id=\"T_ab80b_row1_col2\" class=\"data row1 col2\" >C1</td>\n",
       "      <td id=\"T_ab80b_row1_col3\" class=\"data row1 col3\" >D1</td>\n",
       "    </tr>\n",
       "    <tr>\n",
       "      <th id=\"T_ab80b_level0_row2\" class=\"row_heading level0 row2\" >2</th>\n",
       "      <td id=\"T_ab80b_row2_col0\" class=\"data row2 col0\" >K1</td>\n",
       "      <td id=\"T_ab80b_row2_col1\" class=\"data row2 col1\" >K0</td>\n",
       "      <td id=\"T_ab80b_row2_col2\" class=\"data row2 col2\" >C2</td>\n",
       "      <td id=\"T_ab80b_row2_col3\" class=\"data row2 col3\" >D2</td>\n",
       "    </tr>\n",
       "    <tr>\n",
       "      <th id=\"T_ab80b_level0_row3\" class=\"row_heading level0 row3\" >3</th>\n",
       "      <td id=\"T_ab80b_row3_col0\" class=\"data row3 col0\" >K2</td>\n",
       "      <td id=\"T_ab80b_row3_col1\" class=\"data row3 col1\" >K0</td>\n",
       "      <td id=\"T_ab80b_row3_col2\" class=\"data row3 col2\" >C3</td>\n",
       "      <td id=\"T_ab80b_row3_col3\" class=\"data row3 col3\" >D3</td>\n",
       "    </tr>\n",
       "  </tbody>\n",
       "</table>\n",
       "<style type=\"text/css\">\n",
       "</style>\n",
       "<table id=\"T_a042d\" style='display:inline'>\n",
       "  <caption>inner_merge</caption>\n",
       "  <thead>\n",
       "    <tr>\n",
       "      <th class=\"blank level0\" >&nbsp;</th>\n",
       "      <th id=\"T_a042d_level0_col0\" class=\"col_heading level0 col0\" >key1</th>\n",
       "      <th id=\"T_a042d_level0_col1\" class=\"col_heading level0 col1\" >key2</th>\n",
       "      <th id=\"T_a042d_level0_col2\" class=\"col_heading level0 col2\" >A</th>\n",
       "      <th id=\"T_a042d_level0_col3\" class=\"col_heading level0 col3\" >B</th>\n",
       "      <th id=\"T_a042d_level0_col4\" class=\"col_heading level0 col4\" >C</th>\n",
       "      <th id=\"T_a042d_level0_col5\" class=\"col_heading level0 col5\" >D</th>\n",
       "    </tr>\n",
       "  </thead>\n",
       "  <tbody>\n",
       "    <tr>\n",
       "      <th id=\"T_a042d_level0_row0\" class=\"row_heading level0 row0\" >0</th>\n",
       "      <td id=\"T_a042d_row0_col0\" class=\"data row0 col0\" >K0</td>\n",
       "      <td id=\"T_a042d_row0_col1\" class=\"data row0 col1\" >K0</td>\n",
       "      <td id=\"T_a042d_row0_col2\" class=\"data row0 col2\" >A0</td>\n",
       "      <td id=\"T_a042d_row0_col3\" class=\"data row0 col3\" >B0</td>\n",
       "      <td id=\"T_a042d_row0_col4\" class=\"data row0 col4\" >C0</td>\n",
       "      <td id=\"T_a042d_row0_col5\" class=\"data row0 col5\" >D0</td>\n",
       "    </tr>\n",
       "    <tr>\n",
       "      <th id=\"T_a042d_level0_row1\" class=\"row_heading level0 row1\" >1</th>\n",
       "      <td id=\"T_a042d_row1_col0\" class=\"data row1 col0\" >K1</td>\n",
       "      <td id=\"T_a042d_row1_col1\" class=\"data row1 col1\" >K0</td>\n",
       "      <td id=\"T_a042d_row1_col2\" class=\"data row1 col2\" >A2</td>\n",
       "      <td id=\"T_a042d_row1_col3\" class=\"data row1 col3\" >B2</td>\n",
       "      <td id=\"T_a042d_row1_col4\" class=\"data row1 col4\" >C1</td>\n",
       "      <td id=\"T_a042d_row1_col5\" class=\"data row1 col5\" >D1</td>\n",
       "    </tr>\n",
       "    <tr>\n",
       "      <th id=\"T_a042d_level0_row2\" class=\"row_heading level0 row2\" >2</th>\n",
       "      <td id=\"T_a042d_row2_col0\" class=\"data row2 col0\" >K1</td>\n",
       "      <td id=\"T_a042d_row2_col1\" class=\"data row2 col1\" >K0</td>\n",
       "      <td id=\"T_a042d_row2_col2\" class=\"data row2 col2\" >A2</td>\n",
       "      <td id=\"T_a042d_row2_col3\" class=\"data row2 col3\" >B2</td>\n",
       "      <td id=\"T_a042d_row2_col4\" class=\"data row2 col4\" >C2</td>\n",
       "      <td id=\"T_a042d_row2_col5\" class=\"data row2 col5\" >D2</td>\n",
       "    </tr>\n",
       "  </tbody>\n",
       "</table>\n"
      ]
     },
     "metadata": {},
     "output_type": "display_data"
    }
   ],
   "source": [
    "inner_merge = pd.merge(df1, df2, how=\"inner\")\n",
    "\n",
    "\n",
    "df1_styler = df1.style.set_table_attributes(\"style='display:inline'\").set_caption('Left table')\n",
    "df2_styler = df2.style.set_table_attributes(\"style='display:inline'\").set_caption('Right table')\n",
    "inner_merge = inner_merge.style.set_table_attributes(\"style='display:inline'\").set_caption(\"inner_merge\")\n",
    "\n",
    "display_html(df1_styler._repr_html_()+ df2_styler._repr_html_() + inner_merge._repr_html_(), raw=True)"
   ]
  },
  {
   "cell_type": "markdown",
   "id": "d84be3ac",
   "metadata": {},
   "source": [
    "#### OUTER Merge"
   ]
  },
  {
   "cell_type": "code",
   "execution_count": 615,
   "id": "c2d03df5",
   "metadata": {
    "scrolled": false
   },
   "outputs": [
    {
     "data": {
      "text/html": [
       "<style type=\"text/css\">\n",
       "</style>\n",
       "<table id=\"T_a787b\" style='display:inline'>\n",
       "  <caption>Left table</caption>\n",
       "  <thead>\n",
       "    <tr>\n",
       "      <th class=\"blank level0\" >&nbsp;</th>\n",
       "      <th id=\"T_a787b_level0_col0\" class=\"col_heading level0 col0\" >key1</th>\n",
       "      <th id=\"T_a787b_level0_col1\" class=\"col_heading level0 col1\" >key2</th>\n",
       "      <th id=\"T_a787b_level0_col2\" class=\"col_heading level0 col2\" >A</th>\n",
       "      <th id=\"T_a787b_level0_col3\" class=\"col_heading level0 col3\" >B</th>\n",
       "    </tr>\n",
       "  </thead>\n",
       "  <tbody>\n",
       "    <tr>\n",
       "      <th id=\"T_a787b_level0_row0\" class=\"row_heading level0 row0\" >0</th>\n",
       "      <td id=\"T_a787b_row0_col0\" class=\"data row0 col0\" >K0</td>\n",
       "      <td id=\"T_a787b_row0_col1\" class=\"data row0 col1\" >K0</td>\n",
       "      <td id=\"T_a787b_row0_col2\" class=\"data row0 col2\" >A0</td>\n",
       "      <td id=\"T_a787b_row0_col3\" class=\"data row0 col3\" >B0</td>\n",
       "    </tr>\n",
       "    <tr>\n",
       "      <th id=\"T_a787b_level0_row1\" class=\"row_heading level0 row1\" >1</th>\n",
       "      <td id=\"T_a787b_row1_col0\" class=\"data row1 col0\" >K0</td>\n",
       "      <td id=\"T_a787b_row1_col1\" class=\"data row1 col1\" >K1</td>\n",
       "      <td id=\"T_a787b_row1_col2\" class=\"data row1 col2\" >A1</td>\n",
       "      <td id=\"T_a787b_row1_col3\" class=\"data row1 col3\" >B1</td>\n",
       "    </tr>\n",
       "    <tr>\n",
       "      <th id=\"T_a787b_level0_row2\" class=\"row_heading level0 row2\" >2</th>\n",
       "      <td id=\"T_a787b_row2_col0\" class=\"data row2 col0\" >K1</td>\n",
       "      <td id=\"T_a787b_row2_col1\" class=\"data row2 col1\" >K0</td>\n",
       "      <td id=\"T_a787b_row2_col2\" class=\"data row2 col2\" >A2</td>\n",
       "      <td id=\"T_a787b_row2_col3\" class=\"data row2 col3\" >B2</td>\n",
       "    </tr>\n",
       "    <tr>\n",
       "      <th id=\"T_a787b_level0_row3\" class=\"row_heading level0 row3\" >3</th>\n",
       "      <td id=\"T_a787b_row3_col0\" class=\"data row3 col0\" >K2</td>\n",
       "      <td id=\"T_a787b_row3_col1\" class=\"data row3 col1\" >K1</td>\n",
       "      <td id=\"T_a787b_row3_col2\" class=\"data row3 col2\" >A3</td>\n",
       "      <td id=\"T_a787b_row3_col3\" class=\"data row3 col3\" >B3</td>\n",
       "    </tr>\n",
       "  </tbody>\n",
       "</table>\n",
       "<style type=\"text/css\">\n",
       "</style>\n",
       "<table id=\"T_5c1ff\" style='display:inline'>\n",
       "  <caption>Right table</caption>\n",
       "  <thead>\n",
       "    <tr>\n",
       "      <th class=\"blank level0\" >&nbsp;</th>\n",
       "      <th id=\"T_5c1ff_level0_col0\" class=\"col_heading level0 col0\" >key1</th>\n",
       "      <th id=\"T_5c1ff_level0_col1\" class=\"col_heading level0 col1\" >key2</th>\n",
       "      <th id=\"T_5c1ff_level0_col2\" class=\"col_heading level0 col2\" >C</th>\n",
       "      <th id=\"T_5c1ff_level0_col3\" class=\"col_heading level0 col3\" >D</th>\n",
       "    </tr>\n",
       "  </thead>\n",
       "  <tbody>\n",
       "    <tr>\n",
       "      <th id=\"T_5c1ff_level0_row0\" class=\"row_heading level0 row0\" >0</th>\n",
       "      <td id=\"T_5c1ff_row0_col0\" class=\"data row0 col0\" >K0</td>\n",
       "      <td id=\"T_5c1ff_row0_col1\" class=\"data row0 col1\" >K0</td>\n",
       "      <td id=\"T_5c1ff_row0_col2\" class=\"data row0 col2\" >C0</td>\n",
       "      <td id=\"T_5c1ff_row0_col3\" class=\"data row0 col3\" >D0</td>\n",
       "    </tr>\n",
       "    <tr>\n",
       "      <th id=\"T_5c1ff_level0_row1\" class=\"row_heading level0 row1\" >1</th>\n",
       "      <td id=\"T_5c1ff_row1_col0\" class=\"data row1 col0\" >K1</td>\n",
       "      <td id=\"T_5c1ff_row1_col1\" class=\"data row1 col1\" >K0</td>\n",
       "      <td id=\"T_5c1ff_row1_col2\" class=\"data row1 col2\" >C1</td>\n",
       "      <td id=\"T_5c1ff_row1_col3\" class=\"data row1 col3\" >D1</td>\n",
       "    </tr>\n",
       "    <tr>\n",
       "      <th id=\"T_5c1ff_level0_row2\" class=\"row_heading level0 row2\" >2</th>\n",
       "      <td id=\"T_5c1ff_row2_col0\" class=\"data row2 col0\" >K1</td>\n",
       "      <td id=\"T_5c1ff_row2_col1\" class=\"data row2 col1\" >K0</td>\n",
       "      <td id=\"T_5c1ff_row2_col2\" class=\"data row2 col2\" >C2</td>\n",
       "      <td id=\"T_5c1ff_row2_col3\" class=\"data row2 col3\" >D2</td>\n",
       "    </tr>\n",
       "    <tr>\n",
       "      <th id=\"T_5c1ff_level0_row3\" class=\"row_heading level0 row3\" >3</th>\n",
       "      <td id=\"T_5c1ff_row3_col0\" class=\"data row3 col0\" >K2</td>\n",
       "      <td id=\"T_5c1ff_row3_col1\" class=\"data row3 col1\" >K0</td>\n",
       "      <td id=\"T_5c1ff_row3_col2\" class=\"data row3 col2\" >C3</td>\n",
       "      <td id=\"T_5c1ff_row3_col3\" class=\"data row3 col3\" >D3</td>\n",
       "    </tr>\n",
       "  </tbody>\n",
       "</table>\n",
       "<style type=\"text/css\">\n",
       "</style>\n",
       "<table id=\"T_3e5a7\" style='display:inline'>\n",
       "  <caption>outer_merge</caption>\n",
       "  <thead>\n",
       "    <tr>\n",
       "      <th class=\"blank level0\" >&nbsp;</th>\n",
       "      <th id=\"T_3e5a7_level0_col0\" class=\"col_heading level0 col0\" >key1</th>\n",
       "      <th id=\"T_3e5a7_level0_col1\" class=\"col_heading level0 col1\" >key2</th>\n",
       "      <th id=\"T_3e5a7_level0_col2\" class=\"col_heading level0 col2\" >A</th>\n",
       "      <th id=\"T_3e5a7_level0_col3\" class=\"col_heading level0 col3\" >B</th>\n",
       "      <th id=\"T_3e5a7_level0_col4\" class=\"col_heading level0 col4\" >C</th>\n",
       "      <th id=\"T_3e5a7_level0_col5\" class=\"col_heading level0 col5\" >D</th>\n",
       "    </tr>\n",
       "  </thead>\n",
       "  <tbody>\n",
       "    <tr>\n",
       "      <th id=\"T_3e5a7_level0_row0\" class=\"row_heading level0 row0\" >0</th>\n",
       "      <td id=\"T_3e5a7_row0_col0\" class=\"data row0 col0\" >K0</td>\n",
       "      <td id=\"T_3e5a7_row0_col1\" class=\"data row0 col1\" >K0</td>\n",
       "      <td id=\"T_3e5a7_row0_col2\" class=\"data row0 col2\" >A0</td>\n",
       "      <td id=\"T_3e5a7_row0_col3\" class=\"data row0 col3\" >B0</td>\n",
       "      <td id=\"T_3e5a7_row0_col4\" class=\"data row0 col4\" >C0</td>\n",
       "      <td id=\"T_3e5a7_row0_col5\" class=\"data row0 col5\" >D0</td>\n",
       "    </tr>\n",
       "    <tr>\n",
       "      <th id=\"T_3e5a7_level0_row1\" class=\"row_heading level0 row1\" >1</th>\n",
       "      <td id=\"T_3e5a7_row1_col0\" class=\"data row1 col0\" >K0</td>\n",
       "      <td id=\"T_3e5a7_row1_col1\" class=\"data row1 col1\" >K1</td>\n",
       "      <td id=\"T_3e5a7_row1_col2\" class=\"data row1 col2\" >A1</td>\n",
       "      <td id=\"T_3e5a7_row1_col3\" class=\"data row1 col3\" >B1</td>\n",
       "      <td id=\"T_3e5a7_row1_col4\" class=\"data row1 col4\" >nan</td>\n",
       "      <td id=\"T_3e5a7_row1_col5\" class=\"data row1 col5\" >nan</td>\n",
       "    </tr>\n",
       "    <tr>\n",
       "      <th id=\"T_3e5a7_level0_row2\" class=\"row_heading level0 row2\" >2</th>\n",
       "      <td id=\"T_3e5a7_row2_col0\" class=\"data row2 col0\" >K1</td>\n",
       "      <td id=\"T_3e5a7_row2_col1\" class=\"data row2 col1\" >K0</td>\n",
       "      <td id=\"T_3e5a7_row2_col2\" class=\"data row2 col2\" >A2</td>\n",
       "      <td id=\"T_3e5a7_row2_col3\" class=\"data row2 col3\" >B2</td>\n",
       "      <td id=\"T_3e5a7_row2_col4\" class=\"data row2 col4\" >C1</td>\n",
       "      <td id=\"T_3e5a7_row2_col5\" class=\"data row2 col5\" >D1</td>\n",
       "    </tr>\n",
       "    <tr>\n",
       "      <th id=\"T_3e5a7_level0_row3\" class=\"row_heading level0 row3\" >3</th>\n",
       "      <td id=\"T_3e5a7_row3_col0\" class=\"data row3 col0\" >K1</td>\n",
       "      <td id=\"T_3e5a7_row3_col1\" class=\"data row3 col1\" >K0</td>\n",
       "      <td id=\"T_3e5a7_row3_col2\" class=\"data row3 col2\" >A2</td>\n",
       "      <td id=\"T_3e5a7_row3_col3\" class=\"data row3 col3\" >B2</td>\n",
       "      <td id=\"T_3e5a7_row3_col4\" class=\"data row3 col4\" >C2</td>\n",
       "      <td id=\"T_3e5a7_row3_col5\" class=\"data row3 col5\" >D2</td>\n",
       "    </tr>\n",
       "    <tr>\n",
       "      <th id=\"T_3e5a7_level0_row4\" class=\"row_heading level0 row4\" >4</th>\n",
       "      <td id=\"T_3e5a7_row4_col0\" class=\"data row4 col0\" >K2</td>\n",
       "      <td id=\"T_3e5a7_row4_col1\" class=\"data row4 col1\" >K1</td>\n",
       "      <td id=\"T_3e5a7_row4_col2\" class=\"data row4 col2\" >A3</td>\n",
       "      <td id=\"T_3e5a7_row4_col3\" class=\"data row4 col3\" >B3</td>\n",
       "      <td id=\"T_3e5a7_row4_col4\" class=\"data row4 col4\" >nan</td>\n",
       "      <td id=\"T_3e5a7_row4_col5\" class=\"data row4 col5\" >nan</td>\n",
       "    </tr>\n",
       "    <tr>\n",
       "      <th id=\"T_3e5a7_level0_row5\" class=\"row_heading level0 row5\" >5</th>\n",
       "      <td id=\"T_3e5a7_row5_col0\" class=\"data row5 col0\" >K2</td>\n",
       "      <td id=\"T_3e5a7_row5_col1\" class=\"data row5 col1\" >K0</td>\n",
       "      <td id=\"T_3e5a7_row5_col2\" class=\"data row5 col2\" >nan</td>\n",
       "      <td id=\"T_3e5a7_row5_col3\" class=\"data row5 col3\" >nan</td>\n",
       "      <td id=\"T_3e5a7_row5_col4\" class=\"data row5 col4\" >C3</td>\n",
       "      <td id=\"T_3e5a7_row5_col5\" class=\"data row5 col5\" >D3</td>\n",
       "    </tr>\n",
       "  </tbody>\n",
       "</table>\n"
      ]
     },
     "metadata": {},
     "output_type": "display_data"
    }
   ],
   "source": [
    "outer_merge = pd.merge(df1, df2, how=\"outer\")\n",
    "\n",
    "df1_styler = df1.style.set_table_attributes(\"style='display:inline'\").set_caption('Left table')\n",
    "df2_styler = df2.style.set_table_attributes(\"style='display:inline'\").set_caption('Right table')\n",
    "outer_merge = outer_merge.style.set_table_attributes(\"style='display:inline'\").set_caption(\"outer_merge\")\n",
    "\n",
    "display_html(df1_styler._repr_html_()+ df2_styler._repr_html_() + outer_merge._repr_html_(), raw=True)"
   ]
  },
  {
   "cell_type": "code",
   "execution_count": 590,
   "id": "d808d5f0",
   "metadata": {
    "scrolled": true
   },
   "outputs": [
    {
     "data": {
      "text/html": [
       "<div>\n",
       "<style scoped>\n",
       "    .dataframe tbody tr th:only-of-type {\n",
       "        vertical-align: middle;\n",
       "    }\n",
       "\n",
       "    .dataframe tbody tr th {\n",
       "        vertical-align: top;\n",
       "    }\n",
       "\n",
       "    .dataframe thead th {\n",
       "        text-align: right;\n",
       "    }\n",
       "</style>\n",
       "<table border=\"1\" class=\"dataframe\">\n",
       "  <thead>\n",
       "    <tr style=\"text-align: right;\">\n",
       "      <th></th>\n",
       "      <th>key1</th>\n",
       "      <th>key2</th>\n",
       "      <th>A</th>\n",
       "      <th>B</th>\n",
       "      <th>C</th>\n",
       "      <th>D</th>\n",
       "      <th>Y</th>\n",
       "    </tr>\n",
       "  </thead>\n",
       "  <tbody>\n",
       "    <tr>\n",
       "      <th>0</th>\n",
       "      <td>K0</td>\n",
       "      <td>K0</td>\n",
       "      <td>A0</td>\n",
       "      <td>B0</td>\n",
       "      <td>C0</td>\n",
       "      <td>D0</td>\n",
       "      <td>NaN</td>\n",
       "    </tr>\n",
       "    <tr>\n",
       "      <th>1</th>\n",
       "      <td>K1</td>\n",
       "      <td>K0</td>\n",
       "      <td>A2</td>\n",
       "      <td>B2</td>\n",
       "      <td>C1</td>\n",
       "      <td>D1</td>\n",
       "      <td>D70</td>\n",
       "    </tr>\n",
       "    <tr>\n",
       "      <th>2</th>\n",
       "      <td>K1</td>\n",
       "      <td>K0</td>\n",
       "      <td>A2</td>\n",
       "      <td>B2</td>\n",
       "      <td>C2</td>\n",
       "      <td>D2</td>\n",
       "      <td>NaN</td>\n",
       "    </tr>\n",
       "  </tbody>\n",
       "</table>\n",
       "</div>"
      ],
      "text/plain": [
       "  key1 key2   A   B   C   D    Y\n",
       "0   K0   K0  A0  B0  C0  D0  NaN\n",
       "1   K1   K0  A2  B2  C1  D1  D70\n",
       "2   K1   K0  A2  B2  C2  D2  NaN"
      ]
     },
     "execution_count": 590,
     "metadata": {},
     "output_type": "execute_result"
    }
   ],
   "source": [
    "#Q:  Merging on an already merged table: merging more than 1 df\n",
    "\n",
    "result_on_itself = pd.merge(result_on, df3, how=\"left\") #, suffixes=[\"a\", \"_right\"]\n",
    "result_on_itself"
   ]
  },
  {
   "cell_type": "markdown",
   "id": "e6ce32d1",
   "metadata": {},
   "source": [
    "### Merging / Concatenating in two different columns"
   ]
  },
  {
   "cell_type": "code",
   "execution_count": 628,
   "id": "7a64637f",
   "metadata": {},
   "outputs": [],
   "source": [
    "df1_docs = pd.DataFrame({'lkey': ['foo', 'bar', 'baz', 'foo'],\n",
    "                    'value': [1, 2, 3, 5]})\n",
    "df2_docs = pd.DataFrame({'rkey': ['foo', 'bar', 'baz', 'foo'],\n",
    "                    'value': [5, 6, 7, 8]})"
   ]
  },
  {
   "cell_type": "code",
   "execution_count": 630,
   "id": "81d632df",
   "metadata": {},
   "outputs": [
    {
     "data": {
      "text/html": [
       "<style type=\"text/css\">\n",
       "</style>\n",
       "<table id=\"T_a36de\" style='display:inline'>\n",
       "  <caption>Left table</caption>\n",
       "  <thead>\n",
       "    <tr>\n",
       "      <th class=\"blank level0\" >&nbsp;</th>\n",
       "      <th id=\"T_a36de_level0_col0\" class=\"col_heading level0 col0\" >lkey</th>\n",
       "      <th id=\"T_a36de_level0_col1\" class=\"col_heading level0 col1\" >value</th>\n",
       "    </tr>\n",
       "  </thead>\n",
       "  <tbody>\n",
       "    <tr>\n",
       "      <th id=\"T_a36de_level0_row0\" class=\"row_heading level0 row0\" >0</th>\n",
       "      <td id=\"T_a36de_row0_col0\" class=\"data row0 col0\" >foo</td>\n",
       "      <td id=\"T_a36de_row0_col1\" class=\"data row0 col1\" >1</td>\n",
       "    </tr>\n",
       "    <tr>\n",
       "      <th id=\"T_a36de_level0_row1\" class=\"row_heading level0 row1\" >1</th>\n",
       "      <td id=\"T_a36de_row1_col0\" class=\"data row1 col0\" >bar</td>\n",
       "      <td id=\"T_a36de_row1_col1\" class=\"data row1 col1\" >2</td>\n",
       "    </tr>\n",
       "    <tr>\n",
       "      <th id=\"T_a36de_level0_row2\" class=\"row_heading level0 row2\" >2</th>\n",
       "      <td id=\"T_a36de_row2_col0\" class=\"data row2 col0\" >baz</td>\n",
       "      <td id=\"T_a36de_row2_col1\" class=\"data row2 col1\" >3</td>\n",
       "    </tr>\n",
       "    <tr>\n",
       "      <th id=\"T_a36de_level0_row3\" class=\"row_heading level0 row3\" >3</th>\n",
       "      <td id=\"T_a36de_row3_col0\" class=\"data row3 col0\" >foo</td>\n",
       "      <td id=\"T_a36de_row3_col1\" class=\"data row3 col1\" >5</td>\n",
       "    </tr>\n",
       "  </tbody>\n",
       "</table>\n",
       "<style type=\"text/css\">\n",
       "</style>\n",
       "<table id=\"T_c0ef3\" style='display:inline'>\n",
       "  <caption>Right table</caption>\n",
       "  <thead>\n",
       "    <tr>\n",
       "      <th class=\"blank level0\" >&nbsp;</th>\n",
       "      <th id=\"T_c0ef3_level0_col0\" class=\"col_heading level0 col0\" >rkey</th>\n",
       "      <th id=\"T_c0ef3_level0_col1\" class=\"col_heading level0 col1\" >value</th>\n",
       "    </tr>\n",
       "  </thead>\n",
       "  <tbody>\n",
       "    <tr>\n",
       "      <th id=\"T_c0ef3_level0_row0\" class=\"row_heading level0 row0\" >0</th>\n",
       "      <td id=\"T_c0ef3_row0_col0\" class=\"data row0 col0\" >foo</td>\n",
       "      <td id=\"T_c0ef3_row0_col1\" class=\"data row0 col1\" >5</td>\n",
       "    </tr>\n",
       "    <tr>\n",
       "      <th id=\"T_c0ef3_level0_row1\" class=\"row_heading level0 row1\" >1</th>\n",
       "      <td id=\"T_c0ef3_row1_col0\" class=\"data row1 col0\" >bar</td>\n",
       "      <td id=\"T_c0ef3_row1_col1\" class=\"data row1 col1\" >6</td>\n",
       "    </tr>\n",
       "    <tr>\n",
       "      <th id=\"T_c0ef3_level0_row2\" class=\"row_heading level0 row2\" >2</th>\n",
       "      <td id=\"T_c0ef3_row2_col0\" class=\"data row2 col0\" >baz</td>\n",
       "      <td id=\"T_c0ef3_row2_col1\" class=\"data row2 col1\" >7</td>\n",
       "    </tr>\n",
       "    <tr>\n",
       "      <th id=\"T_c0ef3_level0_row3\" class=\"row_heading level0 row3\" >3</th>\n",
       "      <td id=\"T_c0ef3_row3_col0\" class=\"data row3 col0\" >foo</td>\n",
       "      <td id=\"T_c0ef3_row3_col1\" class=\"data row3 col1\" >8</td>\n",
       "    </tr>\n",
       "  </tbody>\n",
       "</table>\n"
      ]
     },
     "metadata": {},
     "output_type": "display_data"
    }
   ],
   "source": [
    "df1_styler = df1_docs.style.set_table_attributes(\"style='display:inline'\").set_caption('Left table')\n",
    "df2_styler = df2_docs.style.set_table_attributes(\"style='display:inline'\").set_caption('Right table')\n",
    "\n",
    "display_html(df1_styler._repr_html_()+ df2_styler._repr_html_(), raw=True)"
   ]
  },
  {
   "cell_type": "markdown",
   "id": "0dda9802",
   "metadata": {},
   "source": [
    "#### Concatenating in two different columns"
   ]
  },
  {
   "cell_type": "code",
   "execution_count": 633,
   "id": "b40c7ccf",
   "metadata": {},
   "outputs": [
    {
     "data": {
      "text/html": [
       "<style type=\"text/css\">\n",
       "</style>\n",
       "<table id=\"T_9390c\" style='display:inline'>\n",
       "  <caption>Left table</caption>\n",
       "  <thead>\n",
       "    <tr>\n",
       "      <th class=\"blank level0\" >&nbsp;</th>\n",
       "      <th id=\"T_9390c_level0_col0\" class=\"col_heading level0 col0\" >lkey</th>\n",
       "      <th id=\"T_9390c_level0_col1\" class=\"col_heading level0 col1\" >value</th>\n",
       "    </tr>\n",
       "  </thead>\n",
       "  <tbody>\n",
       "    <tr>\n",
       "      <th id=\"T_9390c_level0_row0\" class=\"row_heading level0 row0\" >0</th>\n",
       "      <td id=\"T_9390c_row0_col0\" class=\"data row0 col0\" >foo</td>\n",
       "      <td id=\"T_9390c_row0_col1\" class=\"data row0 col1\" >1</td>\n",
       "    </tr>\n",
       "    <tr>\n",
       "      <th id=\"T_9390c_level0_row1\" class=\"row_heading level0 row1\" >1</th>\n",
       "      <td id=\"T_9390c_row1_col0\" class=\"data row1 col0\" >bar</td>\n",
       "      <td id=\"T_9390c_row1_col1\" class=\"data row1 col1\" >2</td>\n",
       "    </tr>\n",
       "    <tr>\n",
       "      <th id=\"T_9390c_level0_row2\" class=\"row_heading level0 row2\" >2</th>\n",
       "      <td id=\"T_9390c_row2_col0\" class=\"data row2 col0\" >baz</td>\n",
       "      <td id=\"T_9390c_row2_col1\" class=\"data row2 col1\" >3</td>\n",
       "    </tr>\n",
       "    <tr>\n",
       "      <th id=\"T_9390c_level0_row3\" class=\"row_heading level0 row3\" >3</th>\n",
       "      <td id=\"T_9390c_row3_col0\" class=\"data row3 col0\" >foo</td>\n",
       "      <td id=\"T_9390c_row3_col1\" class=\"data row3 col1\" >5</td>\n",
       "    </tr>\n",
       "  </tbody>\n",
       "</table>\n",
       "<style type=\"text/css\">\n",
       "</style>\n",
       "<table id=\"T_8be8b\" style='display:inline'>\n",
       "  <caption>Right table</caption>\n",
       "  <thead>\n",
       "    <tr>\n",
       "      <th class=\"blank level0\" >&nbsp;</th>\n",
       "      <th id=\"T_8be8b_level0_col0\" class=\"col_heading level0 col0\" >rkey</th>\n",
       "      <th id=\"T_8be8b_level0_col1\" class=\"col_heading level0 col1\" >value</th>\n",
       "    </tr>\n",
       "  </thead>\n",
       "  <tbody>\n",
       "    <tr>\n",
       "      <th id=\"T_8be8b_level0_row0\" class=\"row_heading level0 row0\" >0</th>\n",
       "      <td id=\"T_8be8b_row0_col0\" class=\"data row0 col0\" >foo</td>\n",
       "      <td id=\"T_8be8b_row0_col1\" class=\"data row0 col1\" >5</td>\n",
       "    </tr>\n",
       "    <tr>\n",
       "      <th id=\"T_8be8b_level0_row1\" class=\"row_heading level0 row1\" >1</th>\n",
       "      <td id=\"T_8be8b_row1_col0\" class=\"data row1 col0\" >bar</td>\n",
       "      <td id=\"T_8be8b_row1_col1\" class=\"data row1 col1\" >6</td>\n",
       "    </tr>\n",
       "    <tr>\n",
       "      <th id=\"T_8be8b_level0_row2\" class=\"row_heading level0 row2\" >2</th>\n",
       "      <td id=\"T_8be8b_row2_col0\" class=\"data row2 col0\" >baz</td>\n",
       "      <td id=\"T_8be8b_row2_col1\" class=\"data row2 col1\" >7</td>\n",
       "    </tr>\n",
       "    <tr>\n",
       "      <th id=\"T_8be8b_level0_row3\" class=\"row_heading level0 row3\" >3</th>\n",
       "      <td id=\"T_8be8b_row3_col0\" class=\"data row3 col0\" >foo</td>\n",
       "      <td id=\"T_8be8b_row3_col1\" class=\"data row3 col1\" >8</td>\n",
       "    </tr>\n",
       "  </tbody>\n",
       "</table>\n",
       "<style type=\"text/css\">\n",
       "</style>\n",
       "<table id=\"T_a020c\" style='display:inline'>\n",
       "  <caption>concat_docs</caption>\n",
       "  <thead>\n",
       "    <tr>\n",
       "      <th class=\"blank level0\" >&nbsp;</th>\n",
       "      <th id=\"T_a020c_level0_col0\" class=\"col_heading level0 col0\" colspan=\"2\">1st table</th>\n",
       "      <th id=\"T_a020c_level0_col2\" class=\"col_heading level0 col2\" colspan=\"2\">2nd table</th>\n",
       "    </tr>\n",
       "    <tr>\n",
       "      <th class=\"blank level1\" >&nbsp;</th>\n",
       "      <th id=\"T_a020c_level1_col0\" class=\"col_heading level1 col0\" >lkey</th>\n",
       "      <th id=\"T_a020c_level1_col1\" class=\"col_heading level1 col1\" >value</th>\n",
       "      <th id=\"T_a020c_level1_col2\" class=\"col_heading level1 col2\" >rkey</th>\n",
       "      <th id=\"T_a020c_level1_col3\" class=\"col_heading level1 col3\" >value</th>\n",
       "    </tr>\n",
       "  </thead>\n",
       "  <tbody>\n",
       "    <tr>\n",
       "      <th id=\"T_a020c_level0_row0\" class=\"row_heading level0 row0\" >0</th>\n",
       "      <td id=\"T_a020c_row0_col0\" class=\"data row0 col0\" >foo</td>\n",
       "      <td id=\"T_a020c_row0_col1\" class=\"data row0 col1\" >1</td>\n",
       "      <td id=\"T_a020c_row0_col2\" class=\"data row0 col2\" >foo</td>\n",
       "      <td id=\"T_a020c_row0_col3\" class=\"data row0 col3\" >5</td>\n",
       "    </tr>\n",
       "    <tr>\n",
       "      <th id=\"T_a020c_level0_row1\" class=\"row_heading level0 row1\" >1</th>\n",
       "      <td id=\"T_a020c_row1_col0\" class=\"data row1 col0\" >bar</td>\n",
       "      <td id=\"T_a020c_row1_col1\" class=\"data row1 col1\" >2</td>\n",
       "      <td id=\"T_a020c_row1_col2\" class=\"data row1 col2\" >bar</td>\n",
       "      <td id=\"T_a020c_row1_col3\" class=\"data row1 col3\" >6</td>\n",
       "    </tr>\n",
       "    <tr>\n",
       "      <th id=\"T_a020c_level0_row2\" class=\"row_heading level0 row2\" >2</th>\n",
       "      <td id=\"T_a020c_row2_col0\" class=\"data row2 col0\" >baz</td>\n",
       "      <td id=\"T_a020c_row2_col1\" class=\"data row2 col1\" >3</td>\n",
       "      <td id=\"T_a020c_row2_col2\" class=\"data row2 col2\" >baz</td>\n",
       "      <td id=\"T_a020c_row2_col3\" class=\"data row2 col3\" >7</td>\n",
       "    </tr>\n",
       "    <tr>\n",
       "      <th id=\"T_a020c_level0_row3\" class=\"row_heading level0 row3\" >3</th>\n",
       "      <td id=\"T_a020c_row3_col0\" class=\"data row3 col0\" >foo</td>\n",
       "      <td id=\"T_a020c_row3_col1\" class=\"data row3 col1\" >5</td>\n",
       "      <td id=\"T_a020c_row3_col2\" class=\"data row3 col2\" >foo</td>\n",
       "      <td id=\"T_a020c_row3_col3\" class=\"data row3 col3\" >8</td>\n",
       "    </tr>\n",
       "  </tbody>\n",
       "</table>\n"
      ]
     },
     "metadata": {},
     "output_type": "display_data"
    }
   ],
   "source": [
    "concat_docs = pd.concat([df1_docs, df2_docs], axis=1, keys=[\"1st table\", \"2nd table\"])\n",
    "\n",
    "df1_styler = df1_docs.style.set_table_attributes(\"style='display:inline'\").set_caption('Left table')\n",
    "df2_styler = df2_docs.style.set_table_attributes(\"style='display:inline'\").set_caption('Right table')\n",
    "merge_styler = concat_docs.style.set_table_attributes(\"style='display:inline'\").set_caption('concat_docs')\n",
    "\n",
    "display_html(df1_styler._repr_html_()+ df2_styler._repr_html_() + merge_styler._repr_html_(), raw=True)"
   ]
  },
  {
   "cell_type": "markdown",
   "id": "156a8141",
   "metadata": {},
   "source": [
    "#### Merging in two different columns"
   ]
  },
  {
   "cell_type": "code",
   "execution_count": 641,
   "id": "8fb65cb5",
   "metadata": {},
   "outputs": [
    {
     "data": {
      "text/html": [
       "<style type=\"text/css\">\n",
       "</style>\n",
       "<table id=\"T_b9ba0\" style='display:inline'>\n",
       "  <caption>Left table</caption>\n",
       "  <thead>\n",
       "    <tr>\n",
       "      <th class=\"blank level0\" >&nbsp;</th>\n",
       "      <th id=\"T_b9ba0_level0_col0\" class=\"col_heading level0 col0\" >lkey</th>\n",
       "      <th id=\"T_b9ba0_level0_col1\" class=\"col_heading level0 col1\" >value</th>\n",
       "    </tr>\n",
       "  </thead>\n",
       "  <tbody>\n",
       "    <tr>\n",
       "      <th id=\"T_b9ba0_level0_row0\" class=\"row_heading level0 row0\" >0</th>\n",
       "      <td id=\"T_b9ba0_row0_col0\" class=\"data row0 col0\" >foo</td>\n",
       "      <td id=\"T_b9ba0_row0_col1\" class=\"data row0 col1\" >1</td>\n",
       "    </tr>\n",
       "    <tr>\n",
       "      <th id=\"T_b9ba0_level0_row1\" class=\"row_heading level0 row1\" >1</th>\n",
       "      <td id=\"T_b9ba0_row1_col0\" class=\"data row1 col0\" >bar</td>\n",
       "      <td id=\"T_b9ba0_row1_col1\" class=\"data row1 col1\" >2</td>\n",
       "    </tr>\n",
       "    <tr>\n",
       "      <th id=\"T_b9ba0_level0_row2\" class=\"row_heading level0 row2\" >2</th>\n",
       "      <td id=\"T_b9ba0_row2_col0\" class=\"data row2 col0\" >baz</td>\n",
       "      <td id=\"T_b9ba0_row2_col1\" class=\"data row2 col1\" >3</td>\n",
       "    </tr>\n",
       "    <tr>\n",
       "      <th id=\"T_b9ba0_level0_row3\" class=\"row_heading level0 row3\" >3</th>\n",
       "      <td id=\"T_b9ba0_row3_col0\" class=\"data row3 col0\" >foo</td>\n",
       "      <td id=\"T_b9ba0_row3_col1\" class=\"data row3 col1\" >5</td>\n",
       "    </tr>\n",
       "  </tbody>\n",
       "</table>\n",
       "<style type=\"text/css\">\n",
       "</style>\n",
       "<table id=\"T_e46f0\" style='display:inline'>\n",
       "  <caption>Right table</caption>\n",
       "  <thead>\n",
       "    <tr>\n",
       "      <th class=\"blank level0\" >&nbsp;</th>\n",
       "      <th id=\"T_e46f0_level0_col0\" class=\"col_heading level0 col0\" >rkey</th>\n",
       "      <th id=\"T_e46f0_level0_col1\" class=\"col_heading level0 col1\" >value</th>\n",
       "    </tr>\n",
       "  </thead>\n",
       "  <tbody>\n",
       "    <tr>\n",
       "      <th id=\"T_e46f0_level0_row0\" class=\"row_heading level0 row0\" >0</th>\n",
       "      <td id=\"T_e46f0_row0_col0\" class=\"data row0 col0\" >foo</td>\n",
       "      <td id=\"T_e46f0_row0_col1\" class=\"data row0 col1\" >5</td>\n",
       "    </tr>\n",
       "    <tr>\n",
       "      <th id=\"T_e46f0_level0_row1\" class=\"row_heading level0 row1\" >1</th>\n",
       "      <td id=\"T_e46f0_row1_col0\" class=\"data row1 col0\" >bar</td>\n",
       "      <td id=\"T_e46f0_row1_col1\" class=\"data row1 col1\" >6</td>\n",
       "    </tr>\n",
       "    <tr>\n",
       "      <th id=\"T_e46f0_level0_row2\" class=\"row_heading level0 row2\" >2</th>\n",
       "      <td id=\"T_e46f0_row2_col0\" class=\"data row2 col0\" >baz</td>\n",
       "      <td id=\"T_e46f0_row2_col1\" class=\"data row2 col1\" >7</td>\n",
       "    </tr>\n",
       "    <tr>\n",
       "      <th id=\"T_e46f0_level0_row3\" class=\"row_heading level0 row3\" >3</th>\n",
       "      <td id=\"T_e46f0_row3_col0\" class=\"data row3 col0\" >foo</td>\n",
       "      <td id=\"T_e46f0_row3_col1\" class=\"data row3 col1\" >8</td>\n",
       "    </tr>\n",
       "  </tbody>\n",
       "</table>\n"
      ]
     },
     "metadata": {},
     "output_type": "display_data"
    }
   ],
   "source": [
    "df1_styler = df1_docs.style.set_table_attributes(\"style='display:inline'\").set_caption('Left table')\n",
    "df2_styler = df2_docs.style.set_table_attributes(\"style='display:inline'\").set_caption('Right table')\n",
    "\n",
    "display_html(df1_styler._repr_html_()+ df2_styler._repr_html_(), raw=True)"
   ]
  },
  {
   "cell_type": "code",
   "execution_count": 646,
   "id": "c8d3a53c",
   "metadata": {},
   "outputs": [],
   "source": [
    "merge_docs = df1_docs.merge(df2_docs, left_on='lkey', right_on='rkey', suffixes = [\"_fromleft\", \"_fromright\"])"
   ]
  },
  {
   "cell_type": "code",
   "execution_count": 650,
   "id": "893ba4c2",
   "metadata": {},
   "outputs": [
    {
     "data": {
      "text/html": [
       "<style type=\"text/css\">\n",
       "</style>\n",
       "<table id=\"T_5b957\" style='display:inline'>\n",
       "  <caption>Left table</caption>\n",
       "  <thead>\n",
       "    <tr>\n",
       "      <th class=\"blank level0\" >&nbsp;</th>\n",
       "      <th id=\"T_5b957_level0_col0\" class=\"col_heading level0 col0\" >lkey</th>\n",
       "      <th id=\"T_5b957_level0_col1\" class=\"col_heading level0 col1\" >value</th>\n",
       "    </tr>\n",
       "  </thead>\n",
       "  <tbody>\n",
       "    <tr>\n",
       "      <th id=\"T_5b957_level0_row0\" class=\"row_heading level0 row0\" >0</th>\n",
       "      <td id=\"T_5b957_row0_col0\" class=\"data row0 col0\" >foo</td>\n",
       "      <td id=\"T_5b957_row0_col1\" class=\"data row0 col1\" >1</td>\n",
       "    </tr>\n",
       "    <tr>\n",
       "      <th id=\"T_5b957_level0_row1\" class=\"row_heading level0 row1\" >1</th>\n",
       "      <td id=\"T_5b957_row1_col0\" class=\"data row1 col0\" >bar</td>\n",
       "      <td id=\"T_5b957_row1_col1\" class=\"data row1 col1\" >2</td>\n",
       "    </tr>\n",
       "    <tr>\n",
       "      <th id=\"T_5b957_level0_row2\" class=\"row_heading level0 row2\" >2</th>\n",
       "      <td id=\"T_5b957_row2_col0\" class=\"data row2 col0\" >baz</td>\n",
       "      <td id=\"T_5b957_row2_col1\" class=\"data row2 col1\" >3</td>\n",
       "    </tr>\n",
       "    <tr>\n",
       "      <th id=\"T_5b957_level0_row3\" class=\"row_heading level0 row3\" >3</th>\n",
       "      <td id=\"T_5b957_row3_col0\" class=\"data row3 col0\" >foo</td>\n",
       "      <td id=\"T_5b957_row3_col1\" class=\"data row3 col1\" >5</td>\n",
       "    </tr>\n",
       "  </tbody>\n",
       "</table>\n",
       "<style type=\"text/css\">\n",
       "</style>\n",
       "<table id=\"T_0936d\" style='display:inline'>\n",
       "  <caption>Right table</caption>\n",
       "  <thead>\n",
       "    <tr>\n",
       "      <th class=\"blank level0\" >&nbsp;</th>\n",
       "      <th id=\"T_0936d_level0_col0\" class=\"col_heading level0 col0\" >rkey</th>\n",
       "      <th id=\"T_0936d_level0_col1\" class=\"col_heading level0 col1\" >value</th>\n",
       "    </tr>\n",
       "  </thead>\n",
       "  <tbody>\n",
       "    <tr>\n",
       "      <th id=\"T_0936d_level0_row0\" class=\"row_heading level0 row0\" >0</th>\n",
       "      <td id=\"T_0936d_row0_col0\" class=\"data row0 col0\" >foo</td>\n",
       "      <td id=\"T_0936d_row0_col1\" class=\"data row0 col1\" >5</td>\n",
       "    </tr>\n",
       "    <tr>\n",
       "      <th id=\"T_0936d_level0_row1\" class=\"row_heading level0 row1\" >1</th>\n",
       "      <td id=\"T_0936d_row1_col0\" class=\"data row1 col0\" >bar</td>\n",
       "      <td id=\"T_0936d_row1_col1\" class=\"data row1 col1\" >6</td>\n",
       "    </tr>\n",
       "    <tr>\n",
       "      <th id=\"T_0936d_level0_row2\" class=\"row_heading level0 row2\" >2</th>\n",
       "      <td id=\"T_0936d_row2_col0\" class=\"data row2 col0\" >baz</td>\n",
       "      <td id=\"T_0936d_row2_col1\" class=\"data row2 col1\" >7</td>\n",
       "    </tr>\n",
       "    <tr>\n",
       "      <th id=\"T_0936d_level0_row3\" class=\"row_heading level0 row3\" >3</th>\n",
       "      <td id=\"T_0936d_row3_col0\" class=\"data row3 col0\" >foo</td>\n",
       "      <td id=\"T_0936d_row3_col1\" class=\"data row3 col1\" >8</td>\n",
       "    </tr>\n",
       "  </tbody>\n",
       "</table>\n",
       "<style type=\"text/css\">\n",
       "</style>\n",
       "<table id=\"T_a82b1\" style='display:inline'>\n",
       "  <caption>merge_docs</caption>\n",
       "  <thead>\n",
       "    <tr>\n",
       "      <th class=\"blank level0\" >&nbsp;</th>\n",
       "      <th id=\"T_a82b1_level0_col0\" class=\"col_heading level0 col0\" >lkey</th>\n",
       "      <th id=\"T_a82b1_level0_col1\" class=\"col_heading level0 col1\" >value_from_left</th>\n",
       "      <th id=\"T_a82b1_level0_col2\" class=\"col_heading level0 col2\" >rkey</th>\n",
       "      <th id=\"T_a82b1_level0_col3\" class=\"col_heading level0 col3\" >value_from_right</th>\n",
       "    </tr>\n",
       "  </thead>\n",
       "  <tbody>\n",
       "    <tr>\n",
       "      <th id=\"T_a82b1_level0_row0\" class=\"row_heading level0 row0\" >0</th>\n",
       "      <td id=\"T_a82b1_row0_col0\" class=\"data row0 col0\" >foo</td>\n",
       "      <td id=\"T_a82b1_row0_col1\" class=\"data row0 col1\" >1</td>\n",
       "      <td id=\"T_a82b1_row0_col2\" class=\"data row0 col2\" >foo</td>\n",
       "      <td id=\"T_a82b1_row0_col3\" class=\"data row0 col3\" >5</td>\n",
       "    </tr>\n",
       "    <tr>\n",
       "      <th id=\"T_a82b1_level0_row1\" class=\"row_heading level0 row1\" >1</th>\n",
       "      <td id=\"T_a82b1_row1_col0\" class=\"data row1 col0\" >foo</td>\n",
       "      <td id=\"T_a82b1_row1_col1\" class=\"data row1 col1\" >1</td>\n",
       "      <td id=\"T_a82b1_row1_col2\" class=\"data row1 col2\" >foo</td>\n",
       "      <td id=\"T_a82b1_row1_col3\" class=\"data row1 col3\" >8</td>\n",
       "    </tr>\n",
       "    <tr>\n",
       "      <th id=\"T_a82b1_level0_row2\" class=\"row_heading level0 row2\" >2</th>\n",
       "      <td id=\"T_a82b1_row2_col0\" class=\"data row2 col0\" >foo</td>\n",
       "      <td id=\"T_a82b1_row2_col1\" class=\"data row2 col1\" >5</td>\n",
       "      <td id=\"T_a82b1_row2_col2\" class=\"data row2 col2\" >foo</td>\n",
       "      <td id=\"T_a82b1_row2_col3\" class=\"data row2 col3\" >5</td>\n",
       "    </tr>\n",
       "    <tr>\n",
       "      <th id=\"T_a82b1_level0_row3\" class=\"row_heading level0 row3\" >3</th>\n",
       "      <td id=\"T_a82b1_row3_col0\" class=\"data row3 col0\" >foo</td>\n",
       "      <td id=\"T_a82b1_row3_col1\" class=\"data row3 col1\" >5</td>\n",
       "      <td id=\"T_a82b1_row3_col2\" class=\"data row3 col2\" >foo</td>\n",
       "      <td id=\"T_a82b1_row3_col3\" class=\"data row3 col3\" >8</td>\n",
       "    </tr>\n",
       "    <tr>\n",
       "      <th id=\"T_a82b1_level0_row4\" class=\"row_heading level0 row4\" >4</th>\n",
       "      <td id=\"T_a82b1_row4_col0\" class=\"data row4 col0\" >bar</td>\n",
       "      <td id=\"T_a82b1_row4_col1\" class=\"data row4 col1\" >2</td>\n",
       "      <td id=\"T_a82b1_row4_col2\" class=\"data row4 col2\" >bar</td>\n",
       "      <td id=\"T_a82b1_row4_col3\" class=\"data row4 col3\" >6</td>\n",
       "    </tr>\n",
       "    <tr>\n",
       "      <th id=\"T_a82b1_level0_row5\" class=\"row_heading level0 row5\" >5</th>\n",
       "      <td id=\"T_a82b1_row5_col0\" class=\"data row5 col0\" >baz</td>\n",
       "      <td id=\"T_a82b1_row5_col1\" class=\"data row5 col1\" >3</td>\n",
       "      <td id=\"T_a82b1_row5_col2\" class=\"data row5 col2\" >baz</td>\n",
       "      <td id=\"T_a82b1_row5_col3\" class=\"data row5 col3\" >7</td>\n",
       "    </tr>\n",
       "  </tbody>\n",
       "</table>\n"
      ]
     },
     "metadata": {},
     "output_type": "display_data"
    }
   ],
   "source": [
    "merge_docs = df1_docs.merge(df2_docs, left_on='lkey', right_on='rkey', suffixes = [\"_from_left\", \"_from_right\"])\n",
    "\n",
    "\n",
    "df1_styler = df1_docs.style.set_table_attributes(\"style='display:inline'\").set_caption('Left table')\n",
    "df2_styler = df2_docs.style.set_table_attributes(\"style='display:inline'\").set_caption('Right table')\n",
    "merge_styler = merge_docs.style.set_table_attributes(\"style='display:inline'\").set_caption('merge_docs')\n",
    "\n",
    "display_html(df1_styler._repr_html_()+ df2_styler._repr_html_() + merge_styler._repr_html_(), raw=True)"
   ]
  },
  {
   "cell_type": "code",
   "execution_count": null,
   "id": "9f9262e4",
   "metadata": {},
   "outputs": [],
   "source": [
    "# suffixes: https://pandas.pydata.org/docs/reference/api/pandas.DataFrame.merge.html"
   ]
  },
  {
   "cell_type": "code",
   "execution_count": null,
   "id": "7f78e514",
   "metadata": {},
   "outputs": [],
   "source": [
    "# concat: putting things together\n",
    "# join/merge: putting things together THAT ARE RELATED\n",
    "    # related info in the same place -> reduces redundancy"
   ]
  },
  {
   "cell_type": "markdown",
   "id": "5e952e34",
   "metadata": {
    "lang": "en"
   },
   "source": [
    "### Join\n",
    "The join, unlike the merge, will join the dataframes and where there are no records in the \"index\" it will put NaN"
   ]
  },
  {
   "cell_type": "code",
   "execution_count": 651,
   "id": "7d4660ec",
   "metadata": {},
   "outputs": [],
   "source": [
    "import numpy as np\n",
    "import pandas as pd   \n",
    "from IPython.display import display_html "
   ]
  },
  {
   "cell_type": "code",
   "execution_count": 652,
   "id": "e56efa8f",
   "metadata": {},
   "outputs": [],
   "source": [
    "left_df = pd.DataFrame(\n",
    "    {\"A\": [\"A0\", \"A1\", \"A2\"], \"B\": [\"B0\", \"B1\", \"B2\"]}, index=[\"K0\", \"K1\", \"K2\"]\n",
    ")\n",
    "\n",
    "\n",
    "right_df = pd.DataFrame(\n",
    "    {\"C\": [\"C0\", \"C2\", \"C3\"], \"D\": [\"D0\", \"D2\", \"D3\"]}, index=[\"K0\", \"K2\", \"K3\"]\n",
    ")"
   ]
  },
  {
   "cell_type": "code",
   "execution_count": 644,
   "id": "081741f1",
   "metadata": {},
   "outputs": [
    {
     "data": {
      "text/html": [
       "<style type=\"text/css\">\n",
       "</style>\n",
       "<table id=\"T_f41de\" style='display:inline'>\n",
       "  <caption>Left table</caption>\n",
       "  <thead>\n",
       "    <tr>\n",
       "      <th class=\"blank level0\" >&nbsp;</th>\n",
       "      <th id=\"T_f41de_level0_col0\" class=\"col_heading level0 col0\" >A</th>\n",
       "      <th id=\"T_f41de_level0_col1\" class=\"col_heading level0 col1\" >B</th>\n",
       "    </tr>\n",
       "  </thead>\n",
       "  <tbody>\n",
       "    <tr>\n",
       "      <th id=\"T_f41de_level0_row0\" class=\"row_heading level0 row0\" >K0</th>\n",
       "      <td id=\"T_f41de_row0_col0\" class=\"data row0 col0\" >A0</td>\n",
       "      <td id=\"T_f41de_row0_col1\" class=\"data row0 col1\" >B0</td>\n",
       "    </tr>\n",
       "    <tr>\n",
       "      <th id=\"T_f41de_level0_row1\" class=\"row_heading level0 row1\" >K1</th>\n",
       "      <td id=\"T_f41de_row1_col0\" class=\"data row1 col0\" >A1</td>\n",
       "      <td id=\"T_f41de_row1_col1\" class=\"data row1 col1\" >B1</td>\n",
       "    </tr>\n",
       "    <tr>\n",
       "      <th id=\"T_f41de_level0_row2\" class=\"row_heading level0 row2\" >K2</th>\n",
       "      <td id=\"T_f41de_row2_col0\" class=\"data row2 col0\" >A2</td>\n",
       "      <td id=\"T_f41de_row2_col1\" class=\"data row2 col1\" >B2</td>\n",
       "    </tr>\n",
       "  </tbody>\n",
       "</table>\n",
       "<style type=\"text/css\">\n",
       "</style>\n",
       "<table id=\"T_37a54\" style='display:inline'>\n",
       "  <caption>Right table</caption>\n",
       "  <thead>\n",
       "    <tr>\n",
       "      <th class=\"blank level0\" >&nbsp;</th>\n",
       "      <th id=\"T_37a54_level0_col0\" class=\"col_heading level0 col0\" >C</th>\n",
       "      <th id=\"T_37a54_level0_col1\" class=\"col_heading level0 col1\" >D</th>\n",
       "    </tr>\n",
       "  </thead>\n",
       "  <tbody>\n",
       "    <tr>\n",
       "      <th id=\"T_37a54_level0_row0\" class=\"row_heading level0 row0\" >K0</th>\n",
       "      <td id=\"T_37a54_row0_col0\" class=\"data row0 col0\" >C0</td>\n",
       "      <td id=\"T_37a54_row0_col1\" class=\"data row0 col1\" >D0</td>\n",
       "    </tr>\n",
       "    <tr>\n",
       "      <th id=\"T_37a54_level0_row1\" class=\"row_heading level0 row1\" >K2</th>\n",
       "      <td id=\"T_37a54_row1_col0\" class=\"data row1 col0\" >C2</td>\n",
       "      <td id=\"T_37a54_row1_col1\" class=\"data row1 col1\" >D2</td>\n",
       "    </tr>\n",
       "    <tr>\n",
       "      <th id=\"T_37a54_level0_row2\" class=\"row_heading level0 row2\" >K3</th>\n",
       "      <td id=\"T_37a54_row2_col0\" class=\"data row2 col0\" >C3</td>\n",
       "      <td id=\"T_37a54_row2_col1\" class=\"data row2 col1\" >D3</td>\n",
       "    </tr>\n",
       "  </tbody>\n",
       "</table>\n"
      ]
     },
     "metadata": {},
     "output_type": "display_data"
    }
   ],
   "source": [
    "df1_styler = left_df.style.set_table_attributes(\"style='display:inline'\").set_caption('Left table')\n",
    "df2_styler = right_df.style.set_table_attributes(\"style='display:inline'\").set_caption('Right table')\n",
    "\n",
    "display_html(df1_styler._repr_html_()+ df2_styler._repr_html_(), raw=True)"
   ]
  },
  {
   "cell_type": "code",
   "execution_count": 653,
   "id": "d4599a11",
   "metadata": {},
   "outputs": [
    {
     "data": {
      "text/html": [
       "<style type=\"text/css\">\n",
       "</style>\n",
       "<table id=\"T_8aa51\" style='display:inline'>\n",
       "  <caption>Left table</caption>\n",
       "  <thead>\n",
       "    <tr>\n",
       "      <th class=\"blank level0\" >&nbsp;</th>\n",
       "      <th id=\"T_8aa51_level0_col0\" class=\"col_heading level0 col0\" >A</th>\n",
       "      <th id=\"T_8aa51_level0_col1\" class=\"col_heading level0 col1\" >B</th>\n",
       "    </tr>\n",
       "  </thead>\n",
       "  <tbody>\n",
       "    <tr>\n",
       "      <th id=\"T_8aa51_level0_row0\" class=\"row_heading level0 row0\" >K0</th>\n",
       "      <td id=\"T_8aa51_row0_col0\" class=\"data row0 col0\" >A0</td>\n",
       "      <td id=\"T_8aa51_row0_col1\" class=\"data row0 col1\" >B0</td>\n",
       "    </tr>\n",
       "    <tr>\n",
       "      <th id=\"T_8aa51_level0_row1\" class=\"row_heading level0 row1\" >K1</th>\n",
       "      <td id=\"T_8aa51_row1_col0\" class=\"data row1 col0\" >A1</td>\n",
       "      <td id=\"T_8aa51_row1_col1\" class=\"data row1 col1\" >B1</td>\n",
       "    </tr>\n",
       "    <tr>\n",
       "      <th id=\"T_8aa51_level0_row2\" class=\"row_heading level0 row2\" >K2</th>\n",
       "      <td id=\"T_8aa51_row2_col0\" class=\"data row2 col0\" >A2</td>\n",
       "      <td id=\"T_8aa51_row2_col1\" class=\"data row2 col1\" >B2</td>\n",
       "    </tr>\n",
       "  </tbody>\n",
       "</table>\n",
       "<style type=\"text/css\">\n",
       "</style>\n",
       "<table id=\"T_45c47\" style='display:inline'>\n",
       "  <caption>Right table</caption>\n",
       "  <thead>\n",
       "    <tr>\n",
       "      <th class=\"blank level0\" >&nbsp;</th>\n",
       "      <th id=\"T_45c47_level0_col0\" class=\"col_heading level0 col0\" >C</th>\n",
       "      <th id=\"T_45c47_level0_col1\" class=\"col_heading level0 col1\" >D</th>\n",
       "    </tr>\n",
       "  </thead>\n",
       "  <tbody>\n",
       "    <tr>\n",
       "      <th id=\"T_45c47_level0_row0\" class=\"row_heading level0 row0\" >K0</th>\n",
       "      <td id=\"T_45c47_row0_col0\" class=\"data row0 col0\" >C0</td>\n",
       "      <td id=\"T_45c47_row0_col1\" class=\"data row0 col1\" >D0</td>\n",
       "    </tr>\n",
       "    <tr>\n",
       "      <th id=\"T_45c47_level0_row1\" class=\"row_heading level0 row1\" >K2</th>\n",
       "      <td id=\"T_45c47_row1_col0\" class=\"data row1 col0\" >C2</td>\n",
       "      <td id=\"T_45c47_row1_col1\" class=\"data row1 col1\" >D2</td>\n",
       "    </tr>\n",
       "    <tr>\n",
       "      <th id=\"T_45c47_level0_row2\" class=\"row_heading level0 row2\" >K3</th>\n",
       "      <td id=\"T_45c47_row2_col0\" class=\"data row2 col0\" >C3</td>\n",
       "      <td id=\"T_45c47_row2_col1\" class=\"data row2 col1\" >D3</td>\n",
       "    </tr>\n",
       "  </tbody>\n",
       "</table>\n",
       "<style type=\"text/css\">\n",
       "</style>\n",
       "<table id=\"T_1fa71\" style='display:inline'>\n",
       "  <caption>JOIN</caption>\n",
       "  <thead>\n",
       "    <tr>\n",
       "      <th class=\"blank level0\" >&nbsp;</th>\n",
       "      <th id=\"T_1fa71_level0_col0\" class=\"col_heading level0 col0\" >A</th>\n",
       "      <th id=\"T_1fa71_level0_col1\" class=\"col_heading level0 col1\" >B</th>\n",
       "      <th id=\"T_1fa71_level0_col2\" class=\"col_heading level0 col2\" >C</th>\n",
       "      <th id=\"T_1fa71_level0_col3\" class=\"col_heading level0 col3\" >D</th>\n",
       "    </tr>\n",
       "  </thead>\n",
       "  <tbody>\n",
       "    <tr>\n",
       "      <th id=\"T_1fa71_level0_row0\" class=\"row_heading level0 row0\" >K0</th>\n",
       "      <td id=\"T_1fa71_row0_col0\" class=\"data row0 col0\" >A0</td>\n",
       "      <td id=\"T_1fa71_row0_col1\" class=\"data row0 col1\" >B0</td>\n",
       "      <td id=\"T_1fa71_row0_col2\" class=\"data row0 col2\" >C0</td>\n",
       "      <td id=\"T_1fa71_row0_col3\" class=\"data row0 col3\" >D0</td>\n",
       "    </tr>\n",
       "    <tr>\n",
       "      <th id=\"T_1fa71_level0_row1\" class=\"row_heading level0 row1\" >K2</th>\n",
       "      <td id=\"T_1fa71_row1_col0\" class=\"data row1 col0\" >A2</td>\n",
       "      <td id=\"T_1fa71_row1_col1\" class=\"data row1 col1\" >B2</td>\n",
       "      <td id=\"T_1fa71_row1_col2\" class=\"data row1 col2\" >C2</td>\n",
       "      <td id=\"T_1fa71_row1_col3\" class=\"data row1 col3\" >D2</td>\n",
       "    </tr>\n",
       "  </tbody>\n",
       "</table>\n"
      ]
     },
     "metadata": {},
     "output_type": "display_data"
    }
   ],
   "source": [
    "result = left_df.join(right_df, how=\"inner\")\n",
    "\n",
    "#Rendering the df's in the same line. No need to learn this code\n",
    "\n",
    "df1_styler = left_df.style.set_table_attributes(\"style='display:inline'\").set_caption('Left table')\n",
    "df2_styler = right_df.style.set_table_attributes(\"style='display:inline'\").set_caption('Right table')\n",
    "df1_df2_merged = result.style.set_table_attributes(\"style='display:inline'\").set_caption('JOIN')\n",
    "\n",
    "display_html(df1_styler._repr_html_()+ df2_styler._repr_html_() + df1_df2_merged._repr_html_(), raw=True)\n",
    "#display_html(df1_styler._repr_html_()+ df2_styler._repr_html_(), raw=True)"
   ]
  },
  {
   "cell_type": "markdown",
   "id": "f3ad1415",
   "metadata": {},
   "source": [
    "### Differences between join & merge"
   ]
  },
  {
   "cell_type": "markdown",
   "id": "a158750f",
   "metadata": {},
   "source": [
    "<figure class=\"wp-block-table is-style-stripes\"><table class=\"has-fixed-layout\"><thead><tr><th><strong>Join Feature</strong></th><th class=\"has-text-align-center\" data-align=\"center\"><strong>join()</strong></th><th class=\"has-text-align-center\" data-align=\"center\"><strong>merge()</strong></th></tr></thead><tbody><tr><td>inner</td><td class=\"has-text-align-center\" data-align=\"center\">Yes</td><td class=\"has-text-align-center\" data-align=\"center\">Yes</td></tr><tr><td>left</td><td class=\"has-text-align-center\" data-align=\"center\">Yes</td><td class=\"has-text-align-center\" data-align=\"center\">Yes</td></tr><tr><td>right</td><td class=\"has-text-align-center\" data-align=\"center\">Yes</td><td class=\"has-text-align-center\" data-align=\"center\">Yes</td></tr><tr><td>outer</td><td class=\"has-text-align-center\" data-align=\"center\">Yes</td><td class=\"has-text-align-center\" data-align=\"center\">Yes</td></tr><tr><td>cross</td><td class=\"has-text-align-center\" data-align=\"center\">X</td><td class=\"has-text-align-center\" data-align=\"center\">Yes</td></tr><tr><td>Join on Indices</td><td class=\"has-text-align-center\" data-align=\"center\">Yes</td><td class=\"has-text-align-center\" data-align=\"center\">Yes</td></tr><tr><td>Join on Columns</td><td class=\"has-text-align-center\" data-align=\"center\">X</td><td class=\"has-text-align-center\" data-align=\"center\">Yes</td></tr><tr><td>Left on column, right on index</td><td class=\"has-text-align-center\" data-align=\"center\">Yes</td><td class=\"has-text-align-center\" data-align=\"center\">Yes</td></tr><tr><td>Left on index, right on column</td><td class=\"has-text-align-center\" data-align=\"center\">X</td><td class=\"has-text-align-center\" data-align=\"center\">Yes</td></tr></tbody></table><figcaption>pandas join vs merge</figcaption></figure>"
   ]
  },
  {
   "cell_type": "markdown",
   "id": "9a3a34a5",
   "metadata": {
    "lang": "en"
   },
   "source": [
    "## Export data"
   ]
  },
  {
   "cell_type": "code",
   "execution_count": null,
   "id": "super-milton",
   "metadata": {},
   "outputs": [],
   "source": [
    "df.to_csv(\"../datasets/exported_example.csv\")"
   ]
  },
  {
   "cell_type": "markdown",
   "id": "4f340806",
   "metadata": {
    "lang": "en"
   },
   "source": [
    "## Pandas usual methods\n",
    "```python\n",
    "df.head() # prints the head, default 5 rows\n",
    "df.tail() # set the tail, default 5 rows\n",
    "df.describe() # statistical description\n",
    "df.info() # df information\n",
    "df.info(memory_usage='deep')\n",
    "df.columns # show column\n",
    "df.index # show index\n",
    "df.dtypes # show column data types\n",
    "df.plot() # make a plot\n",
    "df.hist() # make a histogram\n",
    "df.col.value_counts() # counts the unique values ​​of a column\n",
    "df.col.unique() # returns unique values ​​from a column\n",
    "df.copy() # copies the df\n",
    "df.drop() # remove columns or rows (axis=0,1)\n",
    "df.dropna() # remove nulls\n",
    "df.fillna() # fills nulls\n",
    "df.shape # dimensions of the df\n",
    "df._get_numeric_data() # select numeric columns\n",
    "df.rename() # rename columns\n",
    "df.str.replace() # replace columns of strings\n",
    "df.astype(dtype='float32') # change the data type\n",
    "df.iloc[] # locate by index\n",
    "df.loc[] # locate by element\n",
    "df.transpose() # transposes the df\n",
    "df.T\n",
    "df.sample(n, frac) # sample from df\n",
    "df.col.sum() # sum of a column\n",
    "df.col.max() # maximum of a column\n",
    "df.col.min() # minimum of one column\n",
    "df[col] # select column\n",
    "df.col\n",
    "df.isnull() # null values\n",
    "df.isna()\n",
    "df.notna() # not null values\n",
    "df.drop_duplicates() # remove duplicates\n",
    "df.reset_index(inplace=True) # reset the index and overwrite\n",
    "```"
   ]
  },
  {
   "cell_type": "markdown",
   "id": "47efbabe",
   "metadata": {
    "lang": "en"
   },
   "source": [
    "## Mega-recap\n",
    "It's your turn, what have we learned today?"
   ]
  },
  {
   "cell_type": "markdown",
   "id": "d979bf7b",
   "metadata": {},
   "source": []
  },
  {
   "cell_type": "markdown",
   "id": "d31f9193",
   "metadata": {},
   "source": []
  },
  {
   "cell_type": "markdown",
   "id": "stylish-jefferson",
   "metadata": {},
   "source": [
    "## Further materials\n",
    "\n",
    "* [Read the docs!](https://pandas.pydata.org/pandas-docs/stable/index.html)\n",
    "* [Cheatsheet](https://pandas.pydata.org/Pandas_Cheat_Sheet.pdf)\n",
    "* [Exercises to practice](https://github.com/guipsamora/pandas_exercises)\n",
    "* [More on merge, concat, and join](https://realpython.com/pandas-merge-join-and-concat/#pandas-join-combining-data-on-a-column-or-index). And [even more!](https://pandas.pydata.org/pandas-docs/stable/user_guide/merging.html)\n",
    " "
   ]
  }
 ],
 "metadata": {
  "kernelspec": {
   "display_name": "Python 3 (ipykernel)",
   "language": "python",
   "name": "python3"
  },
  "language_info": {
   "codemirror_mode": {
    "name": "ipython",
    "version": 3
   },
   "file_extension": ".py",
   "mimetype": "text/x-python",
   "name": "python",
   "nbconvert_exporter": "python",
   "pygments_lexer": "ipython3",
   "version": "3.8.13"
  },
  "nbTranslate": {
   "displayLangs": [
    "en",
    "es"
   ],
   "hotkey": "alt-a",
   "langInMainMenu": true,
   "sourceLang": "es",
   "targetLang": "en",
   "useGoogleTranslate": true
  },
  "toc": {
   "base_numbering": 1,
   "nav_menu": {},
   "number_sections": true,
   "sideBar": true,
   "skip_h1_title": true,
   "title_cell": "Table of Contents",
   "title_sidebar": "Contents",
   "toc_cell": true,
   "toc_position": {
    "height": "calc(100% - 180px)",
    "left": "10px",
    "top": "150px",
    "width": "242.031px"
   },
   "toc_section_display": true,
   "toc_window_display": true
  },
  "varInspector": {
   "cols": {
    "lenName": 16,
    "lenType": 16,
    "lenVar": 40
   },
   "kernels_config": {
    "python": {
     "delete_cmd_postfix": "",
     "delete_cmd_prefix": "del ",
     "library": "var_list.py",
     "varRefreshCmd": "print(var_dic_list())"
    },
    "r": {
     "delete_cmd_postfix": ") ",
     "delete_cmd_prefix": "rm(",
     "library": "var_list.r",
     "varRefreshCmd": "cat(var_dic_list()) "
    }
   },
   "types_to_exclude": [
    "module",
    "function",
    "builtin_function_or_method",
    "instance",
    "_Feature"
   ],
   "window_display": false
  }
 },
 "nbformat": 4,
 "nbformat_minor": 5
}
